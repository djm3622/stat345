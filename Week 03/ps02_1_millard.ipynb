{
 "cells": [
  {
   "cell_type": "markdown",
   "metadata": {},
   "source": [
    "# Problem Set 2, Part One: Due Thursday, January 30 by 8am Eastern Standard Time"
   ]
  },
  {
   "cell_type": "markdown",
   "metadata": {},
   "source": [
    "## Name: David Millard"
   ]
  },
  {
   "cell_type": "markdown",
   "metadata": {},
   "source": [
    "**Show your work on all problems!** Be sure to give credit to any\n",
    "collaborators, or outside sources used in solving the problems. Note\n",
    "that if using an outside source to do a calculation, you should use it\n",
    "as a reference for the method, and actually carry out the calculation\n",
    "yourself; it’s not sufficient to quote the results of a calculation\n",
    "contained in an outside source."
   ]
  },
  {
   "cell_type": "markdown",
   "metadata": {},
   "source": [
    "Fill in your solutions in the notebook below, inserting markdown and/or code cells as needed.  Try to do reasonably well with the typesetting, but don't feel compelled to replicate my formatting exactly.  **You do NOT need to make random variables blue!**"
   ]
  },
  {
   "cell_type": "code",
   "execution_count": 1,
   "metadata": {},
   "outputs": [],
   "source": [
    "%matplotlib inline"
   ]
  },
  {
   "cell_type": "code",
   "execution_count": 2,
   "metadata": {},
   "outputs": [],
   "source": [
    "import numpy as np\n",
    "from scipy import stats\n",
    "import matplotlib.pyplot as plt\n",
    "plt.rcParams['figure.figsize'] = (8.0,5.0)\n",
    "plt.rcParams['font.size'] = 14"
   ]
  },
  {
   "cell_type": "markdown",
   "metadata": {},
   "source": [
    "### Conover Problems on Hypothesis Testing"
   ]
  },
  {
   "cell_type": "markdown",
   "metadata": {},
   "source": [
    "#### Exercise 2.3.6:"
   ]
  },
  {
   "cell_type": "markdown",
   "metadata": {},
   "source": [
    "A coin is tossed 4 times, and the critical region is “one head or less.”\n",
    "Let $p=P(\\text{Head})$ for each toss. The hypotheses are $H_0$: $p=0.5$\n",
    "and $H_1$: $p=0.1$. Find the power of the test."
   ]
  },
  {
   "cell_type": "markdown",
   "metadata": {},
   "source": [
    "$H_0: p = 0.5$ (null hypothesis)\n",
    "\n",
    "$H_1: p = 0.1$ (alternative hypothesis)\n",
    "\n",
    "Find $P(X \\leq 1 | H_1)$. Given $X|H_1 \\sim \\text{Binomial}(n, p)$."
   ]
  },
  {
   "cell_type": "code",
   "execution_count": 3,
   "metadata": {},
   "outputs": [
    {
     "name": "stdout",
     "output_type": "stream",
     "text": [
      "0.9477\n"
     ]
    }
   ],
   "source": [
    "n = 4  \n",
    "p_H1 = 0.1  \n",
    "\n",
    "power = stats.binom.cdf(1, n, p_H1)\n",
    "\n",
    "print(power)"
   ]
  },
  {
   "cell_type": "markdown",
   "metadata": {},
   "source": [
    "What additional\n",
    "assumption are you making that was not stated in the problem?"
   ]
  },
  {
   "cell_type": "markdown",
   "metadata": {},
   "source": [
    "I make the assumption the tosses can be modeled by a binomial."
   ]
  },
  {
   "cell_type": "markdown",
   "metadata": {},
   "source": [
    "#### Problem 2.3.1:"
   ]
  },
  {
   "cell_type": "markdown",
   "metadata": {},
   "source": [
    "There are 12 plastic chips in a jar, and the chips are numbered\n",
    "consecutively from 1 to 12. An experiment consists of drawing 2 chips\n",
    "with replacement. The outcome of the experiment consists of the 2\n",
    "numbers on the chips, in the order they are drawn. Let the test\n",
    "statistic ${\\color{royalblue}{X}}$ be the sum of the numbers on the drawn\n",
    "chips and let the critical region correspond to values of\n",
    "${\\color{royalblue}{X}}$ that are less than 5. Suppose that if $H_0$ is true\n",
    "the drawing of the chips is random. Also suppose that if $H_1$ is true\n",
    "chips 1, 2, and 3 are each twice as likely to be drawn as each of the\n",
    "other chips."
   ]
  },
  {
   "cell_type": "markdown",
   "metadata": {},
   "source": [
    "**(a)**  List the points in the critical region."
   ]
  },
  {
   "cell_type": "markdown",
   "metadata": {},
   "source": [
    "$H_0 = X$ follows the distribution of the sum of two independent draws from a uniform distribution over ${1,2,…,12}$\n",
    "\n",
    "$H_1 = X$ follows the distribution of the sum of two independent draws from a weighted distribution, where chips 1, 2, and 3 are twice as likely as the others.\n",
    "\n",
    "$P(X < 5 | H_1) = P(X = 2 | H_1) + P(X = 3 | H_1) + P(X = 4 | H_1) = P(X = (1,1) | H_1) + P(X = (1,2) | H_1) + P(X = (2,1) | H_1) + P(X = (2,2) | H_1) + P(X = (1,3) | H_1) + P(X = (3,1) | H_1)$"
   ]
  },
  {
   "cell_type": "markdown",
   "metadata": {},
   "source": [
    "**(b)**  Find $\\alpha$."
   ]
  },
  {
   "cell_type": "code",
   "execution_count": 4,
   "metadata": {},
   "outputs": [
    {
     "data": {
      "text/plain": [
       "0.041666666666666664"
      ]
     },
     "execution_count": 4,
     "metadata": {},
     "output_type": "execute_result"
    }
   ],
   "source": [
    "6 * (1/12)**2"
   ]
  },
  {
   "cell_type": "markdown",
   "metadata": {},
   "source": [
    "$\\alpha = P(X < 5 | H_0) = P(X = (a, b) | H_0) = 6 \\cdot P(a) \\cdot P(b) = 6 \\cdot \\frac{1}{12} \\cdot \\frac{1}{12} = 0.0416$"
   ]
  },
  {
   "cell_type": "markdown",
   "metadata": {},
   "source": [
    "**(c)** What is the power?"
   ]
  },
  {
   "cell_type": "code",
   "execution_count": 5,
   "metadata": {},
   "outputs": [
    {
     "data": {
      "text/plain": [
       "0.10666666666666667"
      ]
     },
     "execution_count": 5,
     "metadata": {},
     "output_type": "execute_result"
    }
   ],
   "source": [
    "6 * 2/15 * 2/15"
   ]
  },
  {
   "cell_type": "markdown",
   "metadata": {},
   "source": [
    "$1 = 3(2p) + 9p$\n",
    "\n",
    "$p = \\frac{1}{15}$\n",
    "\n",
    "$P(X < 5 | H_1) = P(X = (1,1) | H_1) + P(X = (1,2) | H_1) + P(X = (2,1) | H_1) + P(X = (2,2) | H_1) + P(X = (1,3) | H_1) + P(X = (3,1) | H_1)$\n",
    "\n",
    "$P(X < 5 | H_1) = 6 \\cdot \\frac{2}{15} \\cdot \\frac{2}{15} = 0.106$"
   ]
  },
  {
   "cell_type": "markdown",
   "metadata": {},
   "source": [
    "**(d)** Are $H_0$ and $H_1$ simple or composite?"
   ]
  },
  {
   "cell_type": "markdown",
   "metadata": {},
   "source": [
    "Simple."
   ]
  },
  {
   "cell_type": "markdown",
   "metadata": {},
   "source": [
    "**(e)** Is the test one tailed or two tailed?"
   ]
  },
  {
   "cell_type": "markdown",
   "metadata": {},
   "source": [
    "One tailed."
   ]
  },
  {
   "cell_type": "markdown",
   "metadata": {},
   "source": [
    "#### Review Problem 2.6.12:"
   ]
  },
  {
   "cell_type": "markdown",
   "metadata": {},
   "source": [
    "Under one theory of genetics each offspring of two particular dogs\n",
    "should have a 25% chance of being spotted in color. Let this be the null\n",
    "hypothesis. Under another theory each puppy should have a 75% chance of\n",
    "being spotted. Let this be the alternative hypothesis. A litter of\n",
    "puppies is born. There are five spotted puppies out of the eight puppies\n",
    "in the litter."
   ]
  },
  {
   "cell_type": "markdown",
   "metadata": {},
   "source": [
    "**(a)** Using the target level of significance of 0.05, find the critical\n",
    "    region for a conservative test."
   ]
  },
  {
   "cell_type": "markdown",
   "metadata": {},
   "source": [
    "$H_0: p = 0.25$\n",
    "\n",
    "$H_1: p = 0.75$\n",
    "\n",
    "$\\alpha = 0.05, k= 5, n = 8$\n",
    "\n",
    "$X \\sim Binomial(n=8, p=p)$\n",
    "\n",
    "$P(X \\geq k | H_0) \\leq \\alpha$\n",
    "\n",
    "$P(X \\geq 5 | H_0) \\leq 0.05$"
   ]
  },
  {
   "cell_type": "code",
   "execution_count": 6,
   "metadata": {},
   "outputs": [
    {
     "name": "stdout",
     "output_type": "stream",
     "text": [
      "Region 5, p-val 0.0272979736328125\n"
     ]
    }
   ],
   "source": [
    "n = 8\n",
    "p_H0 = 0.25\n",
    "alpha = 0.05\n",
    "\n",
    "for k in range(0, n+1):\n",
    "    p_value = stats.binom.sf(k, n, p_H0)\n",
    "    if p_value <= alpha:\n",
    "        # adding +1 to account for the survival function getting strictly greater than\n",
    "        print(f'Region {k+1}, p-val {p_value}')\n",
    "        break"
   ]
  },
  {
   "cell_type": "markdown",
   "metadata": {},
   "source": [
    "**(b)** What is the exact level of significance for your test? (Use the\n",
    "    exact formula, and then use the normal approximation, to get two\n",
    "    slightly different results.)"
   ]
  },
  {
   "cell_type": "markdown",
   "metadata": {},
   "source": [
    "The exact level of significance is 0.027. The approximation is 0.0206."
   ]
  },
  {
   "cell_type": "code",
   "execution_count": 7,
   "metadata": {},
   "outputs": [
    {
     "data": {
      "text/plain": [
       "0.020613416668581838"
      ]
     },
     "execution_count": 7,
     "metadata": {},
     "output_type": "execute_result"
    }
   ],
   "source": [
    "n = 8\n",
    "p = 0.25\n",
    "\n",
    "mu = n * p\n",
    "sigma = np.sqrt(n * p * (1-p))\n",
    "\n",
    "stats.norm.sf(4.5, mu, sigma)"
   ]
  },
  {
   "cell_type": "markdown",
   "metadata": {},
   "source": [
    "**(c)** What is the exact power of your test? (Use the tables \\[or\n",
    "    `stats.binom.cdf()`\\] to get your answer."
   ]
  },
  {
   "cell_type": "markdown",
   "metadata": {},
   "source": [
    "$P(X \\geq 5| H_1) = 0.886$"
   ]
  },
  {
   "cell_type": "code",
   "execution_count": 8,
   "metadata": {},
   "outputs": [
    {
     "data": {
      "text/plain": [
       "0.8861846923828125"
      ]
     },
     "execution_count": 8,
     "metadata": {},
     "output_type": "execute_result"
    }
   ],
   "source": [
    "n = 8\n",
    "p_H1 = 0.75\n",
    "\n",
    "stats.binom.sf(4, n, p_H1)"
   ]
  },
  {
   "cell_type": "markdown",
   "metadata": {},
   "source": [
    "**(d)** What is the $p$-value in this case?"
   ]
  },
  {
   "cell_type": "markdown",
   "metadata": {},
   "source": [
    "The p-val in this case is 0.027."
   ]
  },
  {
   "cell_type": "markdown",
   "metadata": {},
   "source": [
    "**(e)** Is the test unbiased? Explain."
   ]
  },
  {
   "cell_type": "markdown",
   "metadata": {},
   "source": [
    "Yes. The probability of rejecting the null when the alternative is true is greater than the probability of rejecting the null when the null is true, i.e. the power is greater than alpha."
   ]
  },
  {
   "cell_type": "markdown",
   "metadata": {},
   "source": [
    "**(f)** Is the alternative hypothesis simple or composite?"
   ]
  },
  {
   "cell_type": "markdown",
   "metadata": {},
   "source": [
    "Simple."
   ]
  },
  {
   "cell_type": "markdown",
   "metadata": {},
   "source": [
    "### Conover Problems on Binomial Proportion"
   ]
  },
  {
   "cell_type": "markdown",
   "metadata": {},
   "source": [
    "In each of the following exercises clearly state $H_0$, $H_1$,\n",
    "${\\color{royalblue}{T}}$, the decision rule, $\\alpha$, the decision, the\n",
    "$p$-value and the name of the test used, where such information is\n",
    "appropriate."
   ]
  },
  {
   "cell_type": "markdown",
   "metadata": {},
   "source": [
    "#### Exercise 3.1.6:"
   ]
  },
  {
   "cell_type": "markdown",
   "metadata": {},
   "source": [
    "A civic group reported to the town council that at least 60% of the town\n",
    "residents were in favor of a particular bond issue. The town council\n",
    "then asked a random sample of 100 residents if they were in favor of the\n",
    "bond issue. Forty-eight said yes. Is the report of the civic group\n",
    "reasonable?"
   ]
  },
  {
   "cell_type": "markdown",
   "metadata": {},
   "source": [
    "$H_0: p \\geq 0.6$\n",
    "\n",
    "$H_1: p \\leq 0.6$\n",
    "\n",
    "$T = \\frac{\\hat{p} - p}{\\sqrt{\\frac{p(1-p)}{n}}}= -2.45$\n",
    "\n",
    "Since $T < Z_\\alpha$, reject $H_0$."
   ]
  },
  {
   "cell_type": "code",
   "execution_count": 9,
   "metadata": {},
   "outputs": [
    {
     "name": "stdout",
     "output_type": "stream",
     "text": [
      "-2.4494897427831783\n",
      "-1.6448536269514729\n",
      "0.007152939217714809\n"
     ]
    }
   ],
   "source": [
    "p_hat = 0.48\n",
    "p = 0.60\n",
    "n = 100\n",
    "a = 0.05\n",
    "\n",
    "t = (p_hat - p) / np.sqrt((p * (1 - p)) / n)\n",
    "print(t)\n",
    "\n",
    "z = stats.norm.ppf(a)\n",
    "print(z)\n",
    "\n",
    "p_val = stats.norm.cdf(t)\n",
    "print(p_val)"
   ]
  },
  {
   "cell_type": "markdown",
   "metadata": {},
   "source": [
    "#### Exercise 3.1.12:"
   ]
  },
  {
   "cell_type": "markdown",
   "metadata": {},
   "source": [
    "Seventy chemical detection kits of one type are placed in a gas chamber\n",
    "together, for a fixed period of time, and a measured amount of lethal\n",
    "gas is introduced into the chamber. Fifty-six kits register positive for\n",
    "the lethal gas, while the other 14 fail to register positive. Find a 90%\n",
    "confidence interval for the probability of registering positive under\n",
    "these conditions."
   ]
  },
  {
   "cell_type": "markdown",
   "metadata": {},
   "source": [
    "$SE = \\sqrt{\\frac{\\hat{p} (1-\\hat{p})}{n}} = 0.0478$\n",
    "\n",
    "$z_{\\frac{\\alpha}{2}} = 1.644$\n",
    "\n",
    "$CI = \\hat{p} \\pm z_{\\frac{\\alpha}{2}} \\cdot SE = [0.721, 0.878]$"
   ]
  },
  {
   "cell_type": "code",
   "execution_count": 10,
   "metadata": {},
   "outputs": [
    {
     "name": "stdout",
     "output_type": "stream",
     "text": [
      "1.6448536269514722\n",
      "0.047809144373375745\n",
      "CI [0.7213609554760064, 0.8786390445239937]\n"
     ]
    }
   ],
   "source": [
    "n = 70\n",
    "p_hat = 56 / 70\n",
    "\n",
    "z = stats.norm.ppf(1 - 0.05)\n",
    "print(z)\n",
    "\n",
    "se = np.sqrt(p_hat * (1 - p_hat) / n)\n",
    "print(se)\n",
    "\n",
    "lower = p_hat - z * se\n",
    "upper = p_hat + z * se\n",
    "\n",
    "print(f'CI [{lower}, {upper}]')"
   ]
  },
  {
   "cell_type": "markdown",
   "metadata": {},
   "source": [
    "#### Problem 3.1.1:"
   ]
  },
  {
   "cell_type": "markdown",
   "metadata": {},
   "source": [
    "*The continuity correction.* It is obvious that if ${\\color{royalblue}{Y}}$\n",
    "has a binomial distribution, then\n",
    "$$P({\\color{royalblue}{Y}}{\\mathbin{\\le}}4) = P({\\color{royalblue}{Y}}{\\mathbin{\\le}}4.1) = \\cdots = P({\\color{royalblue}{Y}}{\\mathbin{\\le}}4.999)$$\n",
    "because ${\\color{royalblue}{Y}}$ takes on only integer values, such as 4 or\n",
    "5, but no values between integers. Therefore, which number should be\n",
    "used in the normal approximation to the binomial distribution: 4, or\n",
    "4.1, or what? The *continuity correction* (because we are trying to use\n",
    "a continuous distribution such as the normal to approximate a discrete\n",
    "distribution such as the binomial) says to use the number midway between\n",
    "two adjacent values in the discrete distribution. That is, the binomial\n",
    "distribution estimate $P({\\color{royalblue}{Y}}{\\mathbin{\\le}}4)$, with\n",
    "$$P({\\color{royalblue}{Y}}{\\mathbin{\\le}}4) \\cong\n",
    "P\\left({\\color{royalblue}{Z}}{\\mathbin{\\le}}\\frac{4+0.5-np}{\\sqrt{nqp}}\\right)$$\n",
    "where ${\\color{royalblue}{Z}}$ has a normal distribution, because $4.5$ is\n",
    "halfway between $4$ and $5$."
   ]
  },
  {
   "cell_type": "markdown",
   "metadata": {},
   "source": [
    "Usually the continuity correction works well when using the normal\n",
    "distribution to approximate binomial probabilities."
   ]
  },
  {
   "cell_type": "markdown",
   "metadata": {},
   "source": [
    "**(a)** For $n=20$, $p=0.1$, find the exact value of\n",
    "    $P({\\color{royalblue}{Y}}{\\mathbin{\\le}}1)$ from Table A3 \\[or\n",
    "    `stats.binom.cdf()`\\]. Use the normal approximation to estimate\n",
    "    $P({\\color{royalblue}{Y}}{\\mathbin{\\le}}1)$, first without the continuity\n",
    "    correction and then with the continuity correction. Which estimate\n",
    "    is closer?"
   ]
  },
  {
   "cell_type": "code",
   "execution_count": 11,
   "metadata": {},
   "outputs": [
    {
     "name": "stdout",
     "output_type": "stream",
     "text": [
      "0.3917469981251679\n"
     ]
    }
   ],
   "source": [
    "n = 20\n",
    "p = 0.1\n",
    "\n",
    "g = stats.binom.cdf(1, n, p)\n",
    "print(g)"
   ]
  },
  {
   "cell_type": "code",
   "execution_count": 12,
   "metadata": {},
   "outputs": [
    {
     "name": "stdout",
     "output_type": "stream",
     "text": [
      "0.228028270125128\n",
      "0.35469405750711314\n"
     ]
    }
   ],
   "source": [
    "mu = n * p\n",
    "sigma = np.sqrt(n * p * (1 - p))\n",
    "\n",
    "no_c = stats.norm.cdf(1, mu, sigma)\n",
    "print(no_c)\n",
    "\n",
    "no_c = stats.norm.cdf(1.5, mu, sigma)\n",
    "print(no_c)"
   ]
  },
  {
   "cell_type": "markdown",
   "metadata": {},
   "source": [
    "The continuity corrected estimate is much closer."
   ]
  },
  {
   "cell_type": "markdown",
   "metadata": {},
   "source": [
    "**(b)** Repeat part a, but change from $p=0.1$ to $p=0.3$. Now which\n",
    "    estimate is closer?"
   ]
  },
  {
   "cell_type": "code",
   "execution_count": 13,
   "metadata": {},
   "outputs": [
    {
     "name": "stdout",
     "output_type": "stream",
     "text": [
      "0.007637259774199995\n",
      "0.007348710885011736\n",
      "0.014054020073575896\n"
     ]
    }
   ],
   "source": [
    "p = 0.3\n",
    "\n",
    "g = stats.binom.cdf(1, n, p)\n",
    "print(g)\n",
    "\n",
    "mu = n * p\n",
    "sigma = np.sqrt(n * p * (1 - p))\n",
    "\n",
    "no_c = stats.norm.cdf(1, mu, sigma)\n",
    "print(no_c)\n",
    "\n",
    "no_c = stats.norm.cdf(1.5, mu, sigma)\n",
    "print(no_c)"
   ]
  },
  {
   "cell_type": "markdown",
   "metadata": {},
   "source": [
    "Now the continuity corrected estimate is much closer."
   ]
  },
  {
   "cell_type": "code",
   "execution_count": null,
   "metadata": {},
   "outputs": [],
   "source": []
  }
 ],
 "metadata": {
  "kernelspec": {
   "display_name": "Python 3 (ipykernel)",
   "language": "python",
   "name": "python3"
  },
  "language_info": {
   "codemirror_mode": {
    "name": "ipython",
    "version": 3
   },
   "file_extension": ".py",
   "mimetype": "text/x-python",
   "name": "python",
   "nbconvert_exporter": "python",
   "pygments_lexer": "ipython3",
   "version": "3.9.7"
  }
 },
 "nbformat": 4,
 "nbformat_minor": 4
}
