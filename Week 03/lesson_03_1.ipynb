{
 "cells": [
  {
   "cell_type": "markdown",
   "id": "7fb9d279",
   "metadata": {
    "slideshow": {
     "slide_type": "slide"
    }
   },
   "source": [
    "# STAT 345: Nonparametric Statistics\n",
    "\n",
    "## Lesson 03.1: The Quantile Test and the Sign Test\n",
    "\n",
    "**Reading: Conover Sections 3.2 & 3.4**\n",
    "\n",
    "*Prof. John T. Whelan*\n",
    "\n",
    "Thursday 30 January 2025"
   ]
  },
  {
   "cell_type": "markdown",
   "id": "2abdde50",
   "metadata": {
    "slideshow": {
     "slide_type": "slide"
    }
   },
   "source": [
    "These lecture slides are in a computational notebook.  You have access to them through http://vmware.rit.edu/"
   ]
  },
  {
   "cell_type": "markdown",
   "id": "6023a53c",
   "metadata": {
    "slideshow": {
     "slide_type": "fragment"
    }
   },
   "source": [
    "Flat HTML and slideshow versions are also in MyCourses."
   ]
  },
  {
   "cell_type": "markdown",
   "id": "8c3f2ddd",
   "metadata": {
    "slideshow": {
     "slide_type": "fragment"
    }
   },
   "source": [
    "The notebook can run Python commands (other notebooks can use R or Julia; \"Ju-Pyt-R\").  Think: computational data analysis, not \"coding\"."
   ]
  },
  {
   "cell_type": "markdown",
   "id": "6677f387",
   "metadata": {
    "slideshow": {
     "slide_type": "fragment"
    }
   },
   "source": [
    "Standard commands to activate inline interface and import libraries:"
   ]
  },
  {
   "cell_type": "code",
   "execution_count": 1,
   "id": "020317d9",
   "metadata": {
    "slideshow": {
     "slide_type": "fragment"
    }
   },
   "outputs": [],
   "source": [
    "%matplotlib inline"
   ]
  },
  {
   "cell_type": "code",
   "execution_count": 2,
   "id": "442a8843",
   "metadata": {
    "slideshow": {
     "slide_type": "fragment"
    }
   },
   "outputs": [],
   "source": [
    "import numpy as np\n",
    "from scipy import stats\n",
    "import matplotlib.pyplot as plt\n",
    "plt.rcParams['figure.figsize'] = (8.0,5.0)\n",
    "plt.rcParams['font.size'] = 14"
   ]
  },
  {
   "cell_type": "markdown",
   "id": "1688ea3e",
   "metadata": {
    "slideshow": {
     "slide_type": "subslide"
    }
   },
   "source": [
    "- Lessons 03.1-03.2: nonparametric inferences which use the binomial distribution."
   ]
  },
  {
   "cell_type": "markdown",
   "id": "4a97a682",
   "metadata": {
    "slideshow": {
     "slide_type": "fragment"
    }
   },
   "source": [
    "- Recall, for some $p^*\\in[0,1]$, the $p^*$ quantile $x_{p^*}$ of a random variable $\\color{royalblue}{X}$ is defined by\n",
    "$$P({\\color{royalblue}{X}}{\\mathbin{<}}x_{p^*}) \\le p^* \\qquad\\hbox{and}\\qquad P({\\color{royalblue}{X}}{\\mathbin{>}}x_{p^*}) = 1-P({\\color{royalblue}{X}}{\\mathbin{\\le}}x_{p^*})\\le 1-p^*$$"
   ]
  },
  {
   "cell_type": "markdown",
   "id": "dc7b84a0",
   "metadata": {
    "slideshow": {
     "slide_type": "fragment"
    }
   },
   "source": [
    "- If $\\color{royalblue}{X}$ is a continuous rv, $P({\\color{royalblue}{X}}{\\mathbin{\\le}}x_{p^*})=P({\\color{royalblue}{X}}{\\mathbin{<}}x_{p^*})$ & the defn simplifies to $P({\\color{royalblue}{X}}{\\mathbin{\\le}}x_{p^*})=p^*$"
   ]
  },
  {
   "cell_type": "markdown",
   "id": "c60657cc",
   "metadata": {
    "slideshow": {
     "slide_type": "fragment"
    }
   },
   "source": [
    "- We wish to use a sample $\\{x_i\\}=x_1,\\ldots,x_n$ to make a statement about the $p^*$\n",
    "quantile $x_{p^*}$, for a specified $p^*$."
   ]
  },
  {
   "cell_type": "markdown",
   "id": "29829f46",
   "metadata": {
    "slideshow": {
     "slide_type": "fragment"
    }
   },
   "source": [
    "- Null hypothesis $H_0$ specifies some value $x^*$ for the $p^*$ quantile, $H_0$: $x_{p^*}=x^*$."
   ]
  },
  {
   "cell_type": "markdown",
   "id": "6614318b",
   "metadata": {
    "slideshow": {
     "slide_type": "fragment"
    }
   },
   "source": [
    "- As usual, the alternative hypothesis can be upper-tailed ($H_1$: $x_{p^*}>x^*$), lower-tailed ($H_1$: $x_{p^*}<x^*$) or two-tailed ($H_1$: $x_{p^*}\\ne x^*$)."
   ]
  },
  {
   "cell_type": "markdown",
   "id": "2841f804",
   "metadata": {
    "slideshow": {
     "slide_type": "slide"
    }
   },
   "source": [
    "## Tests Assuming Continuous Distributions"
   ]
  },
  {
   "cell_type": "markdown",
   "id": "c4420907",
   "metadata": {
    "slideshow": {
     "slide_type": "subslide"
    }
   },
   "source": [
    "- If the sampling distribution is assumed to be continuous, $H_0$: $x_{p^*}=x^*$ is equivalent to\n",
    "$P({\\color{royalblue}{X}} \\le x^*) = p^*$"
   ]
  },
  {
   "cell_type": "markdown",
   "id": "be6ae7e5",
   "metadata": {
    "slideshow": {
     "slide_type": "fragment"
    }
   },
   "source": [
    "- Construct test statistic ${\\color{royalblue}{T}}$ which is the number of values in $\\{{\\color{royalblue}{X_i}}\\}$ which are below $x^*$; $H_0$ says ${\\color{royalblue}{T}}\\sim\\operatorname{Bin}(n,p^*)$.  Can then apply binomial methods from Lesson 02.2."
   ]
  },
  {
   "cell_type": "markdown",
   "id": "c56af95a",
   "metadata": {
    "slideshow": {
     "slide_type": "fragment"
    }
   },
   "source": [
    "- E.g., consider $H_0$: $x_{0.6}=1$; $H_1$: $x_{0.6}\\ne 1$ (two-sided) w/data"
   ]
  },
  {
   "cell_type": "code",
   "execution_count": 3,
   "id": "e5e3ac9b",
   "metadata": {
    "slideshow": {
     "slide_type": "fragment"
    }
   },
   "outputs": [
    {
     "data": {
      "text/plain": [
       "40"
      ]
     },
     "execution_count": 3,
     "metadata": {},
     "output_type": "execute_result"
    }
   ],
   "source": [
    "x_i=np.array([0.5103, 0.9597, 0.0861, 0.4118, 0.2941, 0.2506, 0.3237, 0.4470, 0.4915, 0.6421,\n",
    "              0.5123, 0.8789, 0.3373, 1.6668, 0.1830, 0.8486, 0.5105, 0.6678, 0.2892, 0.3326,\n",
    "              1.2161, 3.6242, 0.4207, 0.8942, 1.6524, 1.8217, 0.2444, 0.1984, 0.3115, 1.6670,\n",
    "              0.2557, 0.5141, 3.0989, 0.6351, 0.8932, 0.4223, 0.8816, 1.3748, 0.1684, 1.0407])\n",
    "n = len(x_i); n"
   ]
  },
  {
   "cell_type": "markdown",
   "id": "05a1b19c",
   "metadata": {
    "slideshow": {
     "slide_type": "subslide"
    }
   },
   "source": [
    "Count number of values w/$x_i\\le x^*$"
   ]
  },
  {
   "cell_type": "code",
   "execution_count": 4,
   "id": "f6b50f3c",
   "metadata": {
    "slideshow": {
     "slide_type": "fragment"
    }
   },
   "outputs": [
    {
     "data": {
      "text/plain": [
       "31"
      ]
     },
     "execution_count": 4,
     "metadata": {},
     "output_type": "execute_result"
    }
   ],
   "source": [
    "pstar = 0.6; xstar = 1.\n",
    "teststat = np.sum(x_i <= xstar); teststat"
   ]
  },
  {
   "cell_type": "markdown",
   "id": "d9c09ccd",
   "metadata": {
    "slideshow": {
     "slide_type": "fragment"
    }
   },
   "source": [
    "So $t=31$.  If $H_0$ is true, and 60th percentile is $1$, ${\\color{royalblue}T}\\sim\\operatorname{Bin}(40,0.6)$, which has mean & std dev"
   ]
  },
  {
   "cell_type": "code",
   "execution_count": 5,
   "id": "89cc0272",
   "metadata": {
    "slideshow": {
     "slide_type": "fragment"
    }
   },
   "outputs": [
    {
     "data": {
      "text/plain": [
       "(24.0, 3.0983866769659336)"
      ]
     },
     "execution_count": 5,
     "metadata": {},
     "output_type": "execute_result"
    }
   ],
   "source": [
    "mu = n*pstar; sigma = np.sqrt(n*pstar*(1-pstar)); mu, sigma"
   ]
  },
  {
   "cell_type": "markdown",
   "id": "c841bb29",
   "metadata": {
    "slideshow": {
     "slide_type": "fragment"
    }
   },
   "source": [
    "We may eventually use exact binomial probability, but construct approximate $z$-statistic:"
   ]
  },
  {
   "cell_type": "code",
   "execution_count": 6,
   "id": "83f8de8d",
   "metadata": {
    "slideshow": {
     "slide_type": "fragment"
    }
   },
   "outputs": [
    {
     "data": {
      "text/plain": [
       "2.25924028528766"
      ]
     },
     "execution_count": 6,
     "metadata": {},
     "output_type": "execute_result"
    }
   ],
   "source": [
    "z = (teststat-mu)/sigma; z"
   ]
  },
  {
   "cell_type": "markdown",
   "id": "98c4558d",
   "metadata": {
    "slideshow": {
     "slide_type": "subslide"
    }
   },
   "source": [
    "Two-sided test ($H_1$: $x_{0.6}\\ne 1$) so approximate $p$-value is"
   ]
  },
  {
   "cell_type": "code",
   "execution_count": 7,
   "id": "83e5bcdf",
   "metadata": {
    "slideshow": {
     "slide_type": "fragment"
    }
   },
   "outputs": [
    {
     "data": {
      "text/plain": [
       "0.02386844216457435"
      ]
     },
     "execution_count": 7,
     "metadata": {},
     "output_type": "execute_result"
    }
   ],
   "source": [
    "pvalz = 2*stats.norm.sf(z); pvalz"
   ]
  },
  {
   "cell_type": "markdown",
   "id": "1cd94659",
   "metadata": {
    "slideshow": {
     "slide_type": "fragment"
    }
   },
   "source": [
    "The null hypothesis does not seem to be supported by the data.  Normal approximation should be pretty good (although we didn't use continuity correction), since the $np^*=24$, $n(1-p^*)=16$, $t=31$, and $n-t=9$."
   ]
  },
  {
   "cell_type": "markdown",
   "id": "cd884599",
   "metadata": {
    "slideshow": {
     "slide_type": "subslide"
    }
   },
   "source": [
    "Can check the exact $p$-value from binomial distribution as last time:"
   ]
  },
  {
   "cell_type": "code",
   "execution_count": 8,
   "id": "2a5c45de",
   "metadata": {
    "slideshow": {
     "slide_type": "fragment"
    }
   },
   "outputs": [
    {
     "data": {
      "text/plain": [
       "array([ 0,  1,  2,  3,  4,  5,  6,  7,  8,  9, 10, 11, 12, 13, 14, 15, 16,\n",
       "       31, 32, 33, 34, 35, 36, 37, 38, 39, 40])"
      ]
     },
     "execution_count": 8,
     "metadata": {},
     "output_type": "execute_result"
    }
   ],
   "source": [
    "nulldist = stats.binom(n,pstar); k_k = np.arange(n+1); nullpmf_k = nulldist.pmf(k_k)\n",
    "unlikely_k = (nullpmf_k <= nullpmf_k[teststat]); k_k[unlikely_k]"
   ]
  },
  {
   "cell_type": "markdown",
   "id": "6ac580d0",
   "metadata": {
    "slideshow": {
     "slide_type": "fragment"
    }
   },
   "source": [
    "We see that the set of test results as least as unlikely as finding 31 out of 40 above the 60th percentile is 31 or more and 16 or less, and the probability of that, assuming $H_0$, is indeed $0.024$:"
   ]
  },
  {
   "cell_type": "code",
   "execution_count": 9,
   "id": "581f67ac",
   "metadata": {
    "slideshow": {
     "slide_type": "fragment"
    }
   },
   "outputs": [
    {
     "data": {
      "text/plain": [
       "(0.023914394414508742, 0.031145247046656627)"
      ]
     },
     "execution_count": 9,
     "metadata": {},
     "output_type": "execute_result"
    }
   ],
   "source": [
    "pval = np.sum(nullpmf_k[unlikely_k]); pval, 2*nulldist.sf(teststat-0.5)"
   ]
  },
  {
   "cell_type": "markdown",
   "id": "ad693b24",
   "metadata": {
    "slideshow": {
     "slide_type": "subslide"
    }
   },
   "source": [
    "What about a one-sided test?  Straightforward but one complication.  Suppose $H_1$ is $x_{p^*}>x^*$.  That means $P({\\color{royalblue}{X}} \\le x^*) < p^*$ so we reject $H_0$ if $t$ is too low, and test is \"backwards\""
   ]
  },
  {
   "cell_type": "markdown",
   "id": "5ddee0d3",
   "metadata": {
    "slideshow": {
     "slide_type": "fragment"
    }
   },
   "source": [
    "Likewise if $H_1$ is $x_{p^*}<x^*$.  That means $P({\\color{royalblue}{X}} \\le x^*) > p^*$ so we reject $H_0$ if $t$ is too high."
   ]
  },
  {
   "cell_type": "markdown",
   "id": "0114c0d5",
   "metadata": {
    "slideshow": {
     "slide_type": "fragment"
    }
   },
   "source": [
    "E.g., if we had had $H_0$: $x_{0.6}=1$, $H_1$: $x_{0.6}<1$, the $p$-value is $P(\\color{royalblue}{T}\\ge t)$:"
   ]
  },
  {
   "cell_type": "code",
   "execution_count": 10,
   "id": "68bcb61d",
   "metadata": {
    "slideshow": {
     "slide_type": "fragment"
    }
   },
   "outputs": [
    {
     "data": {
      "text/plain": [
       "0.015572623523328314"
      ]
     },
     "execution_count": 10,
     "metadata": {},
     "output_type": "execute_result"
    }
   ],
   "source": [
    "stats.binom(n,pstar).sf(teststat-0.5)"
   ]
  },
  {
   "cell_type": "markdown",
   "id": "3f961cb0",
   "metadata": {
    "slideshow": {
     "slide_type": "fragment"
    }
   },
   "source": [
    "So the fact that 31 out of 40 values are above our supposed 60th percentile of $1$, when we expected 24, is evidence that the true 60th percentile is **smaller** than that."
   ]
  },
  {
   "cell_type": "markdown",
   "id": "87136827",
   "metadata": {
    "slideshow": {
     "slide_type": "slide"
    }
   },
   "source": [
    "## Tests Assuming Discrete Distributions"
   ]
  },
  {
   "cell_type": "markdown",
   "id": "3f128f57",
   "metadata": {
    "slideshow": {
     "slide_type": "subslide"
    }
   },
   "source": [
    "W/a discrete sampling distribution, if we say $H_0$: $x_{p^*}=x^*$, it is possible that $\\color{royalblue}{X_i}=x^*$.<br>So there are two possible statistics:\n",
    "- ${\\color{royalblue}{T_1}}\\equiv$ number of data values w/$\\color{royalblue}{X_i}\\le x^*$\n",
    "- ${\\color{royalblue}{T_2}}\\equiv$ number of data values w/$\\color{royalblue}{X_i}< x^*$\n",
    "\n",
    "Note that this means ${\\color{royalblue}{T_1}}\\ge{\\color{royalblue}{T_2}}$."
   ]
  },
  {
   "cell_type": "markdown",
   "id": "80406d2a",
   "metadata": {
    "slideshow": {
     "slide_type": "fragment"
    }
   },
   "source": [
    "If we think about the null hypothesis $H_0$: $x_{p^*}=x^*$ in light of\n",
    "the definition of the quantile $x_p$:\n",
    "$$P({\\color{royalblue}{X}}{\\mathbin{<}}x^*) \\le p^* \\qquad\\hbox{and}\\qquad P({\\color{royalblue}{X}}{\\mathbin{>}}x^*)\\le 1-p^*$$\n",
    "which can also be written\n",
    "$$P({\\color{royalblue}{X}}{\\mathbin{\\le}}x^*)\\ge p^* \\qquad\\hbox{and}\\qquad P({\\color{royalblue}{X}}{\\mathbin{<}}x^*) \\le p^*$$\n",
    "we see it’s actually a composite hypothesis, since $P({\\color{royalblue}{X}}{\\mathbin{=}}x^*)$ is unspecified."
   ]
  },
  {
   "cell_type": "markdown",
   "id": "f8dbce55",
   "metadata": {
    "slideshow": {
     "slide_type": "subslide"
    }
   },
   "source": [
    "$H_0$ says $P({\\color{royalblue}{X}}{\\mathbin{\\le}}x^*)\\ge p^*$ and $P({\\color{royalblue}{X}}{\\mathbin{<}}x^*) \\le p^*$"
   ]
  },
  {
   "cell_type": "markdown",
   "id": "af1c555a",
   "metadata": {
    "slideshow": {
     "slide_type": "fragment"
    }
   },
   "source": [
    "So large values of\n",
    "${\\color{royalblue}{T_1}}$ (the number of values for which\n",
    "${\\color{royalblue}{X_i}}{\\mathbin{\\le}}x^*$) are consistent with $H_0$, as\n",
    "are small values of ${\\color{royalblue}{T_2}}$ (the number of values for\n",
    "which ${\\color{royalblue}{X_i}}{\\mathbin{<}}x^*$)."
   ]
  },
  {
   "cell_type": "markdown",
   "id": "7d83523a",
   "metadata": {
    "slideshow": {
     "slide_type": "fragment"
    }
   },
   "source": [
    "So we need to reject $H_0$ (in a two-sided test) if $t_1$ is too small or $t_2$ is too large."
   ]
  },
  {
   "cell_type": "markdown",
   "id": "9ad30877",
   "metadata": {
    "slideshow": {
     "slide_type": "fragment"
    }
   },
   "source": [
    "In each case, the null\n",
    "distribution will be $\\operatorname{Bin}(n,p^*)$."
   ]
  },
  {
   "cell_type": "markdown",
   "id": "2d0d0cd4",
   "metadata": {
    "slideshow": {
     "slide_type": "fragment"
    }
   },
   "source": [
    "How can two different statistics have the same null distribution?, Comes from the definition of significance for composite null hypothesis,\n",
    "i.e., you take the form of the $H_0$ which gives the highest\n",
    "false alarm probability, which in this case is that each binomial\n",
    "probability is $p^*$."
   ]
  },
  {
   "cell_type": "markdown",
   "id": "abd4ff85",
   "metadata": {
    "slideshow": {
     "slide_type": "subslide"
    }
   },
   "source": [
    "We illustrate this with a sample from a discrete distribution:"
   ]
  },
  {
   "cell_type": "code",
   "execution_count": 11,
   "id": "a6a691e4",
   "metadata": {
    "slideshow": {
     "slide_type": "fragment"
    }
   },
   "outputs": [
    {
     "data": {
      "text/plain": [
       "20"
      ]
     },
     "execution_count": 11,
     "metadata": {},
     "output_type": "execute_result"
    }
   ],
   "source": [
    "discx_i = np.array([1, 2, 0, 1, 1, 0, 1, 1, 1, 2, 1, 2, 1, 3, 0, 2, 1, 2, 1, 1])\n",
    "discn = len(discx_i); discn"
   ]
  },
  {
   "cell_type": "markdown",
   "id": "0bc16193",
   "metadata": {
    "slideshow": {
     "slide_type": "fragment"
    }
   },
   "source": [
    "Consider the hypothesis that the median $x_{0.5}$ is $x^*=2$:"
   ]
  },
  {
   "cell_type": "code",
   "execution_count": 12,
   "id": "21c90611",
   "metadata": {
    "slideshow": {
     "slide_type": "fragment"
    }
   },
   "outputs": [
    {
     "data": {
      "text/plain": [
       "19"
      ]
     },
     "execution_count": 12,
     "metadata": {},
     "output_type": "execute_result"
    }
   ],
   "source": [
    "pstar = 0.5; xpstar = 2; teststat1 = np.sum(discx_i <= xpstar); teststat1"
   ]
  },
  {
   "cell_type": "markdown",
   "id": "cce37724",
   "metadata": {
    "slideshow": {
     "slide_type": "fragment"
    }
   },
   "source": [
    "So we have $t_1=19$. 19 of 20 at or below the supposed median is definitely not too few:"
   ]
  },
  {
   "cell_type": "code",
   "execution_count": 13,
   "id": "c69f02c8",
   "metadata": {
    "slideshow": {
     "slide_type": "fragment"
    }
   },
   "outputs": [
    {
     "data": {
      "text/plain": [
       "0.9999990463256836"
      ]
     },
     "execution_count": 13,
     "metadata": {},
     "output_type": "execute_result"
    }
   ],
   "source": [
    "stats.binom(discn,pstar).cdf(teststat1+0.5)"
   ]
  },
  {
   "cell_type": "code",
   "execution_count": 14,
   "id": "25269b0d",
   "metadata": {
    "slideshow": {
     "slide_type": "subslide"
    }
   },
   "outputs": [
    {
     "data": {
      "text/plain": [
       "14"
      ]
     },
     "execution_count": 14,
     "metadata": {},
     "output_type": "execute_result"
    }
   ],
   "source": [
    "teststat2 = np.sum(discx_i < xpstar); teststat2"
   ]
  },
  {
   "cell_type": "markdown",
   "id": "b53991b1",
   "metadata": {
    "slideshow": {
     "slide_type": "fragment"
    }
   },
   "source": [
    "On the other hand, we have $t_2=14$, and we have too ask if that is to many values to find below the supposed median:"
   ]
  },
  {
   "cell_type": "code",
   "execution_count": 15,
   "id": "64c3a0c7",
   "metadata": {
    "slideshow": {
     "slide_type": "fragment"
    }
   },
   "outputs": [
    {
     "data": {
      "text/plain": [
       "0.057659149169921875"
      ]
     },
     "execution_count": 15,
     "metadata": {},
     "output_type": "execute_result"
    }
   ],
   "source": [
    "stats.binom(discn,pstar).sf(teststat2-0.5)"
   ]
  },
  {
   "cell_type": "markdown",
   "id": "3654edf3",
   "metadata": {
    "slideshow": {
     "slide_type": "fragment"
    }
   },
   "source": [
    "Since we're talking about a two-sided test, we need to ask what the probability is that ${\\color{royalblue}T_2}$ is too high *or* ${\\color{royalblue}T_1}$ is too low, but since they have the same null distribution, this is basically the same calculation as we did for the binomial test:"
   ]
  },
  {
   "cell_type": "code",
   "execution_count": 16,
   "id": "599d666d",
   "metadata": {
    "slideshow": {
     "slide_type": "fragment"
    }
   },
   "outputs": [
    {
     "data": {
      "text/plain": [
       "0.11531829833984378"
      ]
     },
     "execution_count": 16,
     "metadata": {},
     "output_type": "execute_result"
    }
   ],
   "source": [
    "nulldist = stats.binom(discn,pstar)\n",
    "k_k = np.arange(discn+1)\n",
    "nullpmf_k = nulldist.pmf(k_k)\n",
    "unlikely_k = (nullpmf_k <= nullpmf_k[teststat2])\n",
    "np.sum(nullpmf_k[unlikely_k])"
   ]
  },
  {
   "cell_type": "markdown",
   "id": "ea0ef663",
   "metadata": {
    "slideshow": {
     "slide_type": "subslide"
    }
   },
   "source": [
    "Note that since $p^*=0.5$, $\\operatorname{Bin}(n,p^*)$ has a pmf which is symmetric (about $n/2$) and the $p$ value is just twice the probability that ${\\color{royalblue}T_2}\\ge t_2$ (which is what Conover says to use anyway):"
   ]
  },
  {
   "cell_type": "code",
   "execution_count": 17,
   "id": "7fb4bf8b",
   "metadata": {
    "slideshow": {
     "slide_type": "fragment"
    }
   },
   "outputs": [
    {
     "data": {
      "text/plain": [
       "0.11531829833984375"
      ]
     },
     "execution_count": 17,
     "metadata": {},
     "output_type": "execute_result"
    }
   ],
   "source": [
    "2.*stats.binom(discn,pstar).sf(teststat2-0.5)"
   ]
  },
  {
   "cell_type": "markdown",
   "id": "83e83882",
   "metadata": {
    "slideshow": {
     "slide_type": "fragment"
    }
   },
   "source": [
    "In conclusion, the $p$-value for this test is 11.5\\%, which means that the data don't really make a compelling case *against* the null hypothesis that the median of the underlying distribution is 2."
   ]
  },
  {
   "cell_type": "markdown",
   "id": "f962c524",
   "metadata": {
    "slideshow": {
     "slide_type": "subslide"
    }
   },
   "source": [
    "### One-sided tests"
   ]
  },
  {
   "cell_type": "markdown",
   "id": "69306fcc",
   "metadata": {
    "slideshow": {
     "slide_type": "fragment"
    }
   },
   "source": [
    "For a one-sided test, e.g., $H_0$: $x_{p^*}=x^*$ versus $H_1$:\n",
    "$x_{p^*}<x^*$, you use the appropriate test statistic for the\n",
    "appropriate direction. So in this case $H_1$ is\n",
    "$$H_1: P({\\color{royalblue}{X}}{\\mathbin{<}}x^*) > p^*$$ and we want to\n",
    "reject $H_0$ if $t_2$ is too high."
   ]
  },
  {
   "cell_type": "markdown",
   "id": "87fbeab3",
   "metadata": {
    "slideshow": {
     "slide_type": "subslide"
    }
   },
   "source": [
    "## Confidence Interval for $x_{p^*}$"
   ]
  },
  {
   "cell_type": "markdown",
   "id": "b5637fb4",
   "metadata": {
    "slideshow": {
     "slide_type": "fragment"
    }
   },
   "source": [
    "We'll consider this in the next lesson, since it has its own subtleties.  For now ...:"
   ]
  },
  {
   "cell_type": "markdown",
   "id": "717ca4eb",
   "metadata": {
    "slideshow": {
     "slide_type": "slide"
    }
   },
   "source": [
    "## The Sign Test for Paired Data"
   ]
  },
  {
   "cell_type": "markdown",
   "id": "4b073088",
   "metadata": {
    "slideshow": {
     "slide_type": "subslide"
    }
   },
   "source": [
    "Another test which uses binomial probs: the sign test, one of\n",
    "the oldest (and crudest) hypothesis tests."
   ]
  },
  {
   "cell_type": "markdown",
   "id": "d99aae02",
   "metadata": {
    "slideshow": {
     "slide_type": "fragment"
    }
   },
   "source": [
    "The context is **paired\n",
    "data** (also known as **matched pairs**), which goes beyond the simplest sampling experiment to suppose\n",
    "our data consist of $n$ pairs of values $(x_1,y_1)$, $(x_2,y_2)$, …,\n",
    "$(x_n,y_n)$, drawn independently from the joint distribution $f(x,y)$,"
   ]
  },
  {
   "cell_type": "markdown",
   "id": "4aec6c0e",
   "metadata": {
    "slideshow": {
     "slide_type": "fragment"
    }
   },
   "source": [
    "This means the joint distribution for the full data, seen as random\n",
    "vectors\n",
    "${{\\mathbf{{\\color{royalblue}{X}}}}},{{\\mathbf{{\\color{royalblue}{Y}}}}}\\equiv \\{{\\color{royalblue}{X_i}}\\},\\{{\\color{royalblue}{Y_i}}\\}$,\n",
    "is\n",
    "$$f({{\\mathbf{x}}},{{\\mathbf{y}}}) = f(x_1,y_1)f(x_2,y_2)\\cdots f(x_n,y_n)$$"
   ]
  },
  {
   "cell_type": "markdown",
   "id": "1710cfc8",
   "metadata": {
    "slideshow": {
     "slide_type": "fragment"
    }
   },
   "source": [
    "Null hypothesis $H_0$: $P(\\color{royalblue}{X}\\mathop{>}\\color{royalblue}{Y})=P(\\color{royalblue}{X}\\mathop{<}\\color{royalblue}{Y})$ i.e., distribution for $\\color{royalblue}{Y}-\\color{royalblue}{X}$ has zero median."
   ]
  },
  {
   "cell_type": "markdown",
   "id": "e306b5e2",
   "metadata": {
    "slideshow": {
     "slide_type": "subslide"
    }
   },
   "source": [
    "- Null hypothesis $H_0$: $P(\\color{royalblue}{X}\\mathop{>}\\color{royalblue}{Y})=P(\\color{royalblue}{X}\\mathop{<}\\color{royalblue}{Y})$ i.e., distribution for $\\color{royalblue}{Y}-\\color{royalblue}{X}$ has zero median."
   ]
  },
  {
   "cell_type": "markdown",
   "id": "a1018647",
   "metadata": {
    "slideshow": {
     "slide_type": "fragment"
    }
   },
   "source": [
    "- Compare standard parametric test for the mean of $\\color{royalblue}{Y}-\\color{royalblue}{X}$, the paired $t$-test, based on the sample mean\n",
    "$\\frac{1}{n}\\sum_{i=1}^n ({\\color{royalblue}{Y_i}}-{\\color{royalblue}{X_i}})$"
   ]
  },
  {
   "cell_type": "markdown",
   "id": "9091556e",
   "metadata": {
    "slideshow": {
     "slide_type": "fragment"
    }
   },
   "source": [
    "- If the distribution is symmetric–i.e., $f(x,y)=f(\\mu_1-[x-\\mu_1],\\mu_2-[y-\\mu_2])$–the (population) means will be the same as the (population) medians."
   ]
  },
  {
   "cell_type": "markdown",
   "id": "6841277f",
   "metadata": {
    "slideshow": {
     "slide_type": "fragment"
    }
   },
   "source": [
    "- But even then, the test can be thrown off by “outliers”; if there’s a small chance that one $y_i-x_i$ is very positive or very negative, it will dominate the test statistic."
   ]
  },
  {
   "cell_type": "markdown",
   "id": "6ce10f0a",
   "metadata": {
    "slideshow": {
     "slide_type": "fragment"
    }
   },
   "source": [
    "- Instead, the sign test tosses out all information except whether each $x_i$ is larger or smaller than its corresponding $y_i$."
   ]
  },
  {
   "cell_type": "markdown",
   "id": "7dc88344",
   "metadata": {
    "slideshow": {
     "slide_type": "fragment"
    }
   },
   "source": [
    "- Also means the test is useful when we don’t have quantitative data about the size of the differences.  We only need an \"ordinal\" measurement scale, to say whether $x>y$."
   ]
  },
  {
   "cell_type": "markdown",
   "id": "fb631686",
   "metadata": {
    "slideshow": {
     "slide_type": "slide"
    }
   },
   "source": [
    "## Definition of the Test"
   ]
  },
  {
   "cell_type": "markdown",
   "id": "888615bd",
   "metadata": {
    "slideshow": {
     "slide_type": "fragment"
    }
   },
   "source": [
    "- Test statistic is ${\\color{royalblue}N_{+}}$, the number of matched pairs in the sample for which ${\\color{royalblue}Y_i}>{\\color{royalblue}X_i}$."
   ]
  },
  {
   "cell_type": "markdown",
   "id": "f566abd6",
   "metadata": {
    "slideshow": {
     "slide_type": "fragment"
    }
   },
   "source": [
    "-  Since the null hypothesis says that ${\\color{royalblue}Y_i}>{\\color{royalblue}X_i}$ is as likely as ${\\color{royalblue}Y_i}<{\\color{royalblue}X_i}$, the null distribution for ${\\color{royalblue}N_{+}}$ will be a binomial with probability $1/2$."
   ]
  },
  {
   "cell_type": "markdown",
   "id": "58a9bf92",
   "metadata": {
    "slideshow": {
     "slide_type": "fragment"
    }
   },
   "source": [
    "- If the distribution from which the pairs $\\{({\\color{royalblue}X_i},{\\color{royalblue}Y_i})\\}$ are drawn is continuous, every observation will have either $y_i>x_i$ or $y_i<x_i$, and the null distribution will be $\\operatorname{Bin}\\left(n,\\frac{1}{2}\\right)$."
   ]
  },
  {
   "cell_type": "markdown",
   "id": "c5e06d5e",
   "metadata": {
    "slideshow": {
     "slide_type": "subslide"
    }
   },
   "source": [
    "- If the sampling distribution is discrete, some differences may be neither positive nor negative, i.e., may have $x_i=y_i$ for some $i$.  So really have $n_{+}$ pairs w/$x_i<y_i$, $n_{-}$ pairs w/$x_i>y_i$, & $n_{0}$ pairs w/$x_i=y_i$."
   ]
  },
  {
   "cell_type": "markdown",
   "id": "cd26385a",
   "metadata": {
    "slideshow": {
     "slide_type": "fragment"
    }
   },
   "source": [
    "- Many different approaches to zero differences; see for example Coakley & Heise, [*Biometrics*, **52** 1242 (1996)](http://www.jstor.org/stable/2532840), and Bian, McAleer and Wong, [*Mathematics and Computers in\n",
    "    Simulation*, **81**, 1153 (2011)](http://dx.doi.org/10.1016/j.matcom.2010.11.002) (use [http://ezproxy.rit.edu/](http://ezproxy.rit.edu/) off campus)"
   ]
  },
  {
   "cell_type": "markdown",
   "id": "a761d3e4",
   "metadata": {
    "slideshow": {
     "slide_type": "fragment"
    }
   },
   "source": [
    "- Simplest one is to ignore them & consider only the $n_{\\pm}=n_{+}+n_{-}$ pairs for which $x_i>y_i$ or $x_i<y_i$. "
   ]
  },
  {
   "cell_type": "markdown",
   "id": "f9dab0a2",
   "metadata": {
    "slideshow": {
     "slide_type": "fragment"
    }
   },
   "source": [
    "- Really, ${\\color{royalblue}{N_{\\pm}}}$ is also a random variable, but can consider probabilities to be conditional upon the observed value $n_{\\pm}$."
   ]
  },
  {
   "cell_type": "markdown",
   "id": "7c1594af",
   "metadata": {
    "slideshow": {
     "slide_type": "subslide"
    }
   },
   "source": [
    "- Null hypothesis $H_0$: $P(\\color{royalblue}{X}\\mathop{>}\\color{royalblue}{Y})=P(\\color{royalblue}{X}\\mathop{<}\\color{royalblue}{Y})$ says $\\color{royalblue}{N_{+}}\\sim\\operatorname{Bin}(n_{\\pm},\\frac{1}{2})$"
   ]
  },
  {
   "cell_type": "markdown",
   "id": "8b233114",
   "metadata": {
    "slideshow": {
     "slide_type": "fragment"
    }
   },
   "source": [
    "- If $n_{\\pm}$ large, can use normal approx w/\n",
    "$\\mu=E({\\color{royalblue}{N_{+}}}|n_{\\pm}) = \\frac{n_{\\pm}}{2}$ & standard\n",
    "deviation\n",
    "$\\sigma=\\sqrt{\\operatorname{Var}({\\color{royalblue}{N_{+}}}|n_{\\pm})} = \\sqrt{\\frac{n_{\\pm}}{4}}\n",
    "  = \\frac{\\sqrt{n_{\\pm}}}{2}$"
   ]
  },
  {
   "cell_type": "markdown",
   "id": "1bdb5cf1",
   "metadata": {
    "slideshow": {
     "slide_type": "fragment"
    }
   },
   "source": [
    "- Things are somewhat simplified by the\n",
    "fact that the assumed probability is $\\frac{1}{2}$. In particular, the\n",
    "sampling distribution for ${\\color{royalblue}{N_{+}}}$ is symmetric even if\n",
    "we are not in the large-sample regime, so e.g., the two-sided $p$-value\n",
    "is just twice the corresponding one-sided $p$-value."
   ]
  },
  {
   "cell_type": "markdown",
   "id": "9766a429",
   "metadata": {
    "slideshow": {
     "slide_type": "subslide"
    }
   },
   "source": [
    "Let's do a numerical demo of a two-sided sign test with discrete matched pairs.\n",
    "We’ll read in data from the space-separated file `lesson_03_1_signtest.dat`, which can be downloaded from mycourses.  (On the JupyterHub server, it's automatically included in the same directory as this notebook.)  This is our first example of reading from a textfile, but NumPy has a nice convenience method for that:"
   ]
  },
  {
   "cell_type": "code",
   "execution_count": 20,
   "id": "0a6b6626",
   "metadata": {
    "slideshow": {
     "slide_type": "fragment"
    }
   },
   "outputs": [
    {
     "data": {
      "text/plain": [
       "array([1., 4., 3., 3., 4., 4., 4., 3., 4., 5., 3., 5., 3., 3., 4., 2., 2.,\n",
       "       3., 3., 1., 2., 2., 3., 5., 3., 3., 5., 5., 3., 2.])"
      ]
     },
     "execution_count": 20,
     "metadata": {},
     "output_type": "execute_result"
    }
   ],
   "source": [
    "x_i, y_i = np.loadtxt('lesson_03_1_signtest.dat',unpack=True)\n",
    "x_i"
   ]
  },
  {
   "cell_type": "code",
   "execution_count": 21,
   "id": "69c379db",
   "metadata": {
    "slideshow": {
     "slide_type": "fragment"
    }
   },
   "outputs": [
    {
     "data": {
      "text/plain": [
       "array([3., 4., 4., 3., 4., 3., 3., 5., 4., 5., 6., 5., 2., 4., 6., 4., 3.,\n",
       "       4., 5., 3., 2., 3., 5., 4., 2., 2., 6., 6., 2., 5.])"
      ]
     },
     "execution_count": 21,
     "metadata": {},
     "output_type": "execute_result"
    }
   ],
   "source": [
    "y_i"
   ]
  },
  {
   "cell_type": "code",
   "execution_count": 22,
   "id": "4c8e6b82",
   "metadata": {
    "slideshow": {
     "slide_type": "fragment"
    }
   },
   "outputs": [
    {
     "data": {
      "text/plain": [
       "30"
      ]
     },
     "execution_count": 22,
     "metadata": {},
     "output_type": "execute_result"
    }
   ],
   "source": [
    "n = len(x_i); n"
   ]
  },
  {
   "cell_type": "markdown",
   "id": "4cbcd05d",
   "metadata": {
    "slideshow": {
     "slide_type": "subslide"
    }
   },
   "source": [
    "There are $n=30$ matched pairs $\\{(x_i,y_i)\\}$.  We'll plot them, but since some of the values are equal, it's useful to add a small random \"jitter\" so you can see how many points there are:"
   ]
  },
  {
   "cell_type": "code",
   "execution_count": 23,
   "id": "036e56b6",
   "metadata": {
    "slideshow": {
     "slide_type": "fragment"
    }
   },
   "outputs": [
    {
     "data": {
      "image/png": "[encoded data removed]",
      "text/plain": [
       "<Figure size 500x500 with 1 Axes>"
      ]
     },
     "metadata": {},
     "output_type": "display_data"
    }
   ],
   "source": [
    "np.random.seed(1); jitx_i = stats.norm(scale=0.05).rvs(n); jity_i = stats.norm(scale=0.05).rvs(n)\n",
    "plt.figure().set_size_inches(5,5);\n",
    "plt.plot(x_i+jitx_i,y_i+jity_i,'k.');plt.plot([0.5,6.5],[0.5,6.5]);\n",
    "plt.xlabel(r'$x_i$');plt.ylabel(r'$y_i$');plt.grid(True);plt.axis('equal');plt.xlim(0.5,6.5);plt.ylim(0.5,6.5);"
   ]
  },
  {
   "cell_type": "markdown",
   "id": "aa0525e0",
   "metadata": {
    "slideshow": {
     "slide_type": "fragment"
    }
   },
   "source": [
    "We can see by eye that there are more points with $y_i>x_i$ than $y_i<x_i$."
   ]
  },
  {
   "cell_type": "code",
   "execution_count": 24,
   "id": "685f0e70",
   "metadata": {
    "slideshow": {
     "slide_type": "subslide"
    }
   },
   "outputs": [
    {
     "data": {
      "text/plain": [
       "(16, 7)"
      ]
     },
     "execution_count": 24,
     "metadata": {},
     "output_type": "execute_result"
    }
   ],
   "source": [
    "nplus = np.sum(x_i<y_i); nminus = np.sum(x_i>y_i); nplus, nminus"
   ]
  },
  {
   "cell_type": "code",
   "execution_count": 25,
   "id": "42ebbed8",
   "metadata": {
    "slideshow": {
     "slide_type": "fragment"
    }
   },
   "outputs": [
    {
     "data": {
      "text/plain": [
       "23"
      ]
     },
     "execution_count": 25,
     "metadata": {},
     "output_type": "execute_result"
    }
   ],
   "source": [
    "npm = nplus + nminus; npm"
   ]
  },
  {
   "cell_type": "markdown",
   "id": "0f41124e",
   "metadata": {
    "slideshow": {
     "slide_type": "fragment"
    }
   },
   "source": [
    "Of the original $n=30$ matched pairs, we have $n_{+}=16$ with $y_i>x_i$ and $n_{-}=7$ with $y_i<x_i$ for a total of $n_{\\pm}=23$ non-tied pairs.  We ignore the seven ties and proceed with $\\operatorname{Bin}(23,0.5)$ as our null distribution.  The probability of getting 16 or more positive results out of 23 non-zero is"
   ]
  },
  {
   "cell_type": "code",
   "execution_count": 26,
   "id": "93d1af7b",
   "metadata": {
    "slideshow": {
     "slide_type": "fragment"
    }
   },
   "outputs": [
    {
     "data": {
      "text/plain": [
       "0.04656982421875"
      ]
     },
     "execution_count": 26,
     "metadata": {},
     "output_type": "execute_result"
    }
   ],
   "source": [
    "stats.binom(npm,0.5).sf(nplus-0.5)"
   ]
  },
  {
   "cell_type": "markdown",
   "id": "4eadb499",
   "metadata": {
    "slideshow": {
     "slide_type": "fragment"
    }
   },
   "source": [
    "For a two-sided test, the $p$-value is twice this, or $0.093$:"
   ]
  },
  {
   "cell_type": "code",
   "execution_count": 27,
   "id": "5d80485c",
   "metadata": {
    "slideshow": {
     "slide_type": "fragment"
    }
   },
   "outputs": [
    {
     "data": {
      "text/plain": [
       "0.0931396484375"
      ]
     },
     "execution_count": 27,
     "metadata": {},
     "output_type": "execute_result"
    }
   ],
   "source": [
    "2*stats.binom(npm,0.5).sf(nplus-0.5)"
   ]
  },
  {
   "cell_type": "markdown",
   "id": "e401c987",
   "metadata": {
    "slideshow": {
     "slide_type": "subslide"
    }
   },
   "source": [
    "We could also use the normal approximation:"
   ]
  },
  {
   "cell_type": "code",
   "execution_count": 28,
   "id": "19f68395",
   "metadata": {
    "slideshow": {
     "slide_type": "fragment"
    }
   },
   "outputs": [
    {
     "data": {
      "text/plain": [
       "(11.5, 2.3979157616563596)"
      ]
     },
     "execution_count": 28,
     "metadata": {},
     "output_type": "execute_result"
    }
   ],
   "source": [
    "mu = 0.5*npm; sigma = 0.5*np.sqrt(npm)\n",
    "mu, sigma"
   ]
  },
  {
   "cell_type": "code",
   "execution_count": 29,
   "id": "8cc1e06b",
   "metadata": {
    "slideshow": {
     "slide_type": "fragment"
    }
   },
   "outputs": [
    {
     "data": {
      "text/plain": [
       "1.6681153124565982"
      ]
     },
     "execution_count": 29,
     "metadata": {},
     "output_type": "execute_result"
    }
   ],
   "source": [
    "z = (nplus - 0.5 - mu)/sigma; z"
   ]
  },
  {
   "cell_type": "code",
   "execution_count": 30,
   "id": "451bda4e",
   "metadata": {
    "slideshow": {
     "slide_type": "fragment"
    }
   },
   "outputs": [
    {
     "data": {
      "text/plain": [
       "0.09529283802345664"
      ]
     },
     "execution_count": 30,
     "metadata": {},
     "output_type": "execute_result"
    }
   ],
   "source": [
    "2*stats.norm.sf(z)"
   ]
  },
  {
   "cell_type": "markdown",
   "id": "a9e1e0a8",
   "metadata": {
    "slideshow": {
     "slide_type": "fragment"
    }
   },
   "source": [
    "We see that the $p$-value is pretty close to the exact one ($0.095$ vs $0.093$), but it would not be so if we had **not** used the continuity correction:"
   ]
  },
  {
   "cell_type": "code",
   "execution_count": 31,
   "id": "071429de",
   "metadata": {
    "slideshow": {
     "slide_type": "fragment"
    }
   },
   "outputs": [
    {
     "data": {
      "text/plain": [
       "1.876629726513673"
      ]
     },
     "execution_count": 31,
     "metadata": {},
     "output_type": "execute_result"
    }
   ],
   "source": [
    "znocont = (nplus - mu)/sigma; znocont"
   ]
  },
  {
   "cell_type": "code",
   "execution_count": 32,
   "id": "975200e6",
   "metadata": {
    "slideshow": {
     "slide_type": "fragment"
    }
   },
   "outputs": [
    {
     "data": {
      "text/plain": [
       "0.06056886020265737"
      ]
     },
     "execution_count": 32,
     "metadata": {},
     "output_type": "execute_result"
    }
   ],
   "source": [
    "2*stats.norm.sf(znocont)"
   ]
  },
  {
   "cell_type": "markdown",
   "id": "2d8debde",
   "metadata": {
    "slideshow": {
     "slide_type": "subslide"
    }
   },
   "source": [
    "## One-Sample Sign Test"
   ]
  },
  {
   "cell_type": "markdown",
   "id": "8e5e3f02",
   "metadata": {
    "slideshow": {
     "slide_type": "fragment"
    }
   },
   "source": [
    "Note that while the sign test is defined in the context of matched pairs, since all it uses are the differences $d_i=y_i-x_i$, it could also be reformulated as a one-sample test where only $d_i$ are provided."
   ]
  },
  {
   "cell_type": "code",
   "execution_count": null,
   "id": "f8640c66-4119-43de-ba41-cedc9b32bd90",
   "metadata": {},
   "outputs": [],
   "source": []
  }
 ],
 "metadata": {
  "celltoolbar": "Slideshow",
  "kernelspec": {
   "display_name": "Python 3 (ipykernel)",
   "language": "python",
   "name": "python3"
  },
  "language_info": {
   "codemirror_mode": {
    "name": "ipython",
    "version": 3
   },
   "file_extension": ".py",
   "mimetype": "text/x-python",
   "name": "python",
   "nbconvert_exporter": "python",
   "pygments_lexer": "ipython3",
   "version": "3.9.7"
  }
 },
 "nbformat": 4,
 "nbformat_minor": 5
}
