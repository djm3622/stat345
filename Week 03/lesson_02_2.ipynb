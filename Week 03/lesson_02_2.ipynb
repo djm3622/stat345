{
 "cells": [
  {
   "cell_type": "markdown",
   "id": "c0c2fbc2",
   "metadata": {
    "slideshow": {
     "slide_type": "slide"
    }
   },
   "source": [
    "# STAT 345: Nonparametric Statistics\n",
    "\n",
    "## Lesson 02.2: The Binomial Test\n",
    "\n",
    "**Reading: Conover Section 3.1**\n",
    "\n",
    "*Prof. John T. Whelan*\n",
    "\n",
    "Tuesday 28 January 2025"
   ]
  },
  {
   "cell_type": "markdown",
   "id": "82a3788f",
   "metadata": {
    "slideshow": {
     "slide_type": "slide"
    }
   },
   "source": [
    "These lecture slides are in a computational notebook.  You have access to them through http://vmware.rit.edu/"
   ]
  },
  {
   "cell_type": "markdown",
   "id": "30a0bcb1",
   "metadata": {
    "slideshow": {
     "slide_type": "fragment"
    }
   },
   "source": [
    "Flat HTML and slideshow versions are also in MyCourses."
   ]
  },
  {
   "cell_type": "markdown",
   "id": "c65a40b7",
   "metadata": {
    "slideshow": {
     "slide_type": "fragment"
    }
   },
   "source": [
    "The notebook can run Python commands (other notebooks can use R or Julia; \"Ju-Pyt-R\").  Think: computational data analysis, not \"coding\"."
   ]
  },
  {
   "cell_type": "markdown",
   "id": "8d655dbe",
   "metadata": {
    "slideshow": {
     "slide_type": "fragment"
    }
   },
   "source": [
    "Standard commands to activate inline interface and import libraries:"
   ]
  },
  {
   "cell_type": "code",
   "execution_count": 1,
   "id": "9d18eb07",
   "metadata": {
    "slideshow": {
     "slide_type": "fragment"
    }
   },
   "outputs": [],
   "source": [
    "%matplotlib inline"
   ]
  },
  {
   "cell_type": "code",
   "execution_count": 2,
   "id": "c635df8c",
   "metadata": {
    "slideshow": {
     "slide_type": "fragment"
    }
   },
   "outputs": [],
   "source": [
    "import numpy as np\n",
    "from scipy import stats\n",
    "import matplotlib.pyplot as plt\n",
    "plt.rcParams['figure.figsize'] = (8.0,5.0)\n",
    "plt.rcParams['font.size'] = 14"
   ]
  },
  {
   "cell_type": "markdown",
   "id": "fae9d850",
   "metadata": {
    "slideshow": {
     "slide_type": "slide"
    }
   },
   "source": [
    "# Tests for Binomial Proportion"
   ]
  },
  {
   "cell_type": "markdown",
   "id": "e433b4f8",
   "metadata": {
    "slideshow": {
     "slide_type": "subslide"
    }
   },
   "source": [
    "- Wish to model **binomial experiment**: series of $n$ independent identically-distributed observations $\\{{\\color{royalblue}{X_i}}\\}$, each w/two possible outcomes, labelled “success” (${\\color{royalblue}{X_i}}=1$) and “failure” (${\\color{royalblue}{X_i}}=0$)."
   ]
  },
  {
   "cell_type": "markdown",
   "id": "fd011515",
   "metadata": {
    "slideshow": {
     "slide_type": "fragment"
    }
   },
   "source": [
    "- Each observation is a **Bernoulli trial**, w/probability distribution $P({\\color{royalblue}{X_i}}{\\mathbin{=}}1)=p$, $P({\\color{royalblue}{X_i}}{\\mathbin{=}}0)=1-p$."
   ]
  },
  {
   "cell_type": "markdown",
   "id": "3669edda",
   "metadata": {
    "slideshow": {
     "slide_type": "fragment"
    }
   },
   "source": [
    "- Sometimes called \"sampling with replacement\"; draw from a population w/proportion $p$ of successes & put each item back so proportion doesn't change."
   ]
  },
  {
   "cell_type": "markdown",
   "id": "11378e75",
   "metadata": {
    "slideshow": {
     "slide_type": "fragment"
    }
   },
   "source": [
    "- Compare \"sampling without replacement\" (in the limit of a large population, the two become equivalent)"
   ]
  },
  {
   "cell_type": "markdown",
   "id": "c427e47e",
   "metadata": {
    "slideshow": {
     "slide_type": "fragment"
    }
   },
   "source": [
    "- Binomial experiments often covered in basic stats, but also included in nonparametrics because  the model requires minimal assumptions."
   ]
  },
  {
   "cell_type": "markdown",
   "id": "a15f1271",
   "metadata": {
    "slideshow": {
     "slide_type": "subslide"
    }
   },
   "source": [
    "- Test statistic ${\\color{royalblue}{Y}}=\\sum_{i=1}^n {\\color{royalblue}{X_i}}$ (total number of successes) is a binomial random variable w/parameters $n$ (# of trials) and $p$ (prob of success on each trial)."
   ]
  },
  {
   "cell_type": "markdown",
   "id": "0e249f2b",
   "metadata": {
    "slideshow": {
     "slide_type": "fragment"
    }
   },
   "source": [
    "- Probability mass function for ${\\color{royalblue}{Y}}\\sim\\operatorname{Bin}(n,p)$ is\n",
    "$$p(y) = \\frac{n!}{(n-y)!y!} p^y (1-p)^{n-y} \\qquad y = 0, 1, \\ldots, n$$"
   ]
  },
  {
   "cell_type": "markdown",
   "id": "b80e12db",
   "metadata": {
    "slideshow": {
     "slide_type": "fragment"
    }
   },
   "source": [
    "- Binomial distribution has $E({\\color{royalblue}{Y}})=np$ & $\\operatorname{Var}({\\color{royalblue}{Y}})=np(1-p)$"
   ]
  },
  {
   "cell_type": "markdown",
   "id": "ebca98d5",
   "metadata": {
    "slideshow": {
     "slide_type": "fragment"
    }
   },
   "source": [
    "- For large $n$, Central Limit Theorem says\n",
    "$${\\color{royalblue}{Z}} = \\frac{{\\color{royalblue}{Y}}-np}{\\sqrt{np(1-p)}}$$ is\n",
    "approximately standard normal, which simplifies most of the\n",
    "constructions."
   ]
  },
  {
   "cell_type": "markdown",
   "id": "22c6774f",
   "metadata": {
    "slideshow": {
     "slide_type": "slide"
    }
   },
   "source": [
    "## 1 Hypothesis Tests"
   ]
  },
  {
   "cell_type": "markdown",
   "id": "70665729",
   "metadata": {
    "slideshow": {
     "slide_type": "subslide"
    }
   },
   "source": [
    "There are three typical hypothesis tests for the proportion in a\n",
    "binomial experiment, all based around a hypothesized null value $p^*$\n",
    "for the parameter $p$:"
   ]
  },
  {
   "cell_type": "markdown",
   "id": "8a2e7c85",
   "metadata": {
    "slideshow": {
     "slide_type": "fragment"
    }
   },
   "source": [
    "- An **upper-tailed test** (one-tailed), where the null hypothesis is\n",
    "$H_0$: $p=p^*$ (or $p\\le p^*$) and the alternative hypothesis is $H_1$:\n",
    "$p>p^*$."
   ]
  },
  {
   "cell_type": "markdown",
   "id": "bde8c6f3",
   "metadata": {
    "slideshow": {
     "slide_type": "fragment"
    }
   },
   "source": [
    "- A **lower-tailed test** (one-tailed), where the null hypothesis is\n",
    "$H_0$: $p=p^*$ (or $p\\ge p^*$) and the alternative hypothesis is $H_1$:\n",
    "$p<p^*$."
   ]
  },
  {
   "cell_type": "markdown",
   "id": "4c818dff",
   "metadata": {
    "slideshow": {
     "slide_type": "fragment"
    }
   },
   "source": [
    "- A **two-tailed test**, where the null hypothesis is $H_0$: $p=p^*$ and\n",
    "the alternative hypothesis is $H_1$: $p\\ne p^*$."
   ]
  },
  {
   "cell_type": "markdown",
   "id": "508c4ad8",
   "metadata": {
    "slideshow": {
     "slide_type": "slide"
    }
   },
   "source": [
    "### 1.1 Large Samples"
   ]
  },
  {
   "cell_type": "markdown",
   "id": "12b8b245",
   "metadata": {
    "slideshow": {
     "slide_type": "subslide"
    }
   },
   "source": [
    "For large $n$ (typically $np^*\\gtrsim 10$ & $n(1-p^*)\\gtrsim 10$), normal approximation says\n",
    "$${\\color{royalblue}{Z}} = \\frac{{\\color{royalblue}{Y}}-np^*}{\\sqrt{np^*(1-p^*)}}$$\n",
    "is standard normal if $H_0$ is true."
   ]
  },
  {
   "cell_type": "markdown",
   "id": "e15aa03e",
   "metadata": {
    "slideshow": {
     "slide_type": "fragment"
    }
   },
   "source": [
    "So if $H_1$ is $p>p^*$, to get a test w/significance $\\alpha$, we reject $H_0$ if $z>z_{1-\\alpha}$."
   ]
  },
  {
   "cell_type": "code",
   "execution_count": 3,
   "id": "5bec34c9",
   "metadata": {
    "slideshow": {
     "slide_type": "fragment"
    }
   },
   "outputs": [
    {
     "name": "stdout",
     "output_type": "stream",
     "text": [
      "For n=50, pstar=0.75, we have npstar=37.5 & n(1-pstar)=12.5\n"
     ]
    }
   ],
   "source": [
    "n = 50; pstar=0.75\n",
    "print(\"For n=%d, pstar=%g, we have npstar=%g & n(1-pstar)=%g\"%(n,pstar,n*pstar,n*(1-pstar)))"
   ]
  },
  {
   "cell_type": "code",
   "execution_count": 4,
   "id": "dfc164a9",
   "metadata": {
    "slideshow": {
     "slide_type": "fragment"
    }
   },
   "outputs": [
    {
     "data": {
      "text/plain": [
       "(37.5, 3.0618621784789726)"
      ]
     },
     "execution_count": 4,
     "metadata": {},
     "output_type": "execute_result"
    }
   ],
   "source": [
    "muy = n*pstar; sigy = np.sqrt(n*pstar*(1-pstar)); muy, sigy"
   ]
  },
  {
   "cell_type": "code",
   "execution_count": 5,
   "id": "42ebb485",
   "metadata": {
    "slideshow": {
     "slide_type": "fragment"
    }
   },
   "outputs": [
    {
     "name": "stdout",
     "output_type": "stream",
     "text": [
      "For a test w/alpha=0.05, we reject if z>1.64485, i.e., y>42.5363\n"
     ]
    }
   ],
   "source": [
    "alpha = 0.05; zthresh=stats.norm.isf(alpha); ythresh = muy + zthresh*sigy \n",
    "print(\"For a test w/alpha=%g, we reject if z>%g, i.e., y>%g\"%(alpha,zthresh,ythresh))"
   ]
  },
  {
   "cell_type": "code",
   "execution_count": 6,
   "id": "5d7251ef",
   "metadata": {
    "slideshow": {
     "slide_type": "subslide"
    }
   },
   "outputs": [
    {
     "name": "stdout",
     "output_type": "stream",
     "text": [
      "For a test w/alpha=0.05, we reject if z>1.64485, i.e., y>42.5363\n"
     ]
    }
   ],
   "source": [
    "print(\"For a test w/alpha=%g, we reject if z>%g, i.e., y>%g\"%(alpha,zthresh,ythresh))"
   ]
  },
  {
   "cell_type": "markdown",
   "id": "eb858ccd",
   "metadata": {
    "slideshow": {
     "slide_type": "fragment"
    }
   },
   "source": [
    "BTW, exact significance of this test is a little less than $0.05$:"
   ]
  },
  {
   "cell_type": "code",
   "execution_count": 7,
   "id": "7230f74a",
   "metadata": {
    "slideshow": {
     "slide_type": "fragment"
    }
   },
   "outputs": [
    {
     "data": {
      "text/plain": [
       "(37.5, 3.0618621784789726, 37.5, 3.0618621784789726)"
      ]
     },
     "execution_count": 7,
     "metadata": {},
     "output_type": "execute_result"
    }
   ],
   "source": [
    "nulldist = stats.binom(n,pstar)\n",
    "nulldist.mean(), nulldist.std(), muy, sigy"
   ]
  },
  {
   "cell_type": "code",
   "execution_count": 8,
   "id": "c2c93fa0",
   "metadata": {
    "slideshow": {
     "slide_type": "fragment"
    }
   },
   "outputs": [
    {
     "name": "stdout",
     "output_type": "stream",
     "text": [
      "Exact significance is 0.0452558\n"
     ]
    }
   ],
   "source": [
    "print(\"Exact significance is %g\" % nulldist.sf(ythresh))"
   ]
  },
  {
   "cell_type": "markdown",
   "id": "75204bdc",
   "metadata": {
    "slideshow": {
     "slide_type": "fragment"
    }
   },
   "source": [
    "This is because $\\color{royalblue}{Y}$ is a discrete rv, so $P(\\color{royalblue}{Y}\\mathbin{>}42.54)=P(\\color{royalblue}{Y}\\mathbin{>}42)=P(\\color{royalblue}{Y}\\mathbin{\\ge}43)$:"
   ]
  },
  {
   "cell_type": "code",
   "execution_count": 9,
   "id": "6d710762",
   "metadata": {
    "slideshow": {
     "slide_type": "fragment"
    }
   },
   "outputs": [
    {
     "data": {
      "text/plain": [
       "(0.04525584649016445, 0.045255846490164404)"
      ]
     },
     "execution_count": 9,
     "metadata": {},
     "output_type": "execute_result"
    }
   ],
   "source": [
    "nulldist.sf(42), nulldist.sf(43) + nulldist.pmf(43)"
   ]
  },
  {
   "cell_type": "code",
   "execution_count": 10,
   "id": "a2ba89eb",
   "metadata": {
    "slideshow": {
     "slide_type": "fragment"
    }
   },
   "outputs": [
    {
     "name": "stdout",
     "output_type": "stream",
     "text": [
      "P(Y>41)=0.0915973; P(Y>42)=0.0452558; P(Y>43)=0.0193909\n"
     ]
    }
   ],
   "source": [
    "print(\"P(Y>%d)=%g; P(Y>%d)=%g; P(Y>%d)=%g\" % (41,nulldist.sf(41),42,nulldist.sf(42),43,nulldist.sf(43)))"
   ]
  },
  {
   "cell_type": "markdown",
   "id": "44c7ed08",
   "metadata": {
    "slideshow": {
     "slide_type": "subslide"
    }
   },
   "source": [
    "If $H_1$ is $p<p^*$, use a lower-tailed test which rejects $H_0$ if ${\\color{royalblue}{Z}}<z_{\\alpha}=-z_{1-\\alpha}$"
   ]
  },
  {
   "cell_type": "code",
   "execution_count": 11,
   "id": "59abdec3",
   "metadata": {
    "slideshow": {
     "slide_type": "fragment"
    }
   },
   "outputs": [
    {
     "name": "stdout",
     "output_type": "stream",
     "text": [
      "For a test w/alpha=0.05, we reject if z<-1.64485, i.e., y<32.4637\n",
      "Exact significance is 0.0551234\n"
     ]
    }
   ],
   "source": [
    "zthreshlo=stats.norm.ppf(alpha); ythreshlo = muy + zthreshlo*sigy\n",
    "print(\"For a test w/alpha=%g, we reject if z<%g, i.e., y<%g\"%(alpha,zthreshlo,ythreshlo))\n",
    "print(\"Exact significance is %g\" % nulldist.cdf(ythreshlo))"
   ]
  },
  {
   "cell_type": "markdown",
   "id": "bbaae6dd",
   "metadata": {
    "slideshow": {
     "slide_type": "fragment"
    }
   },
   "source": [
    "$P(\\color{royalblue}{Y}\\mathbin{<}32.46)=P(\\color{royalblue}{Y}\\mathbin{\\le}32)=P(\\color{royalblue}{Y}\\mathbin{<}33)$:"
   ]
  },
  {
   "cell_type": "code",
   "execution_count": 12,
   "id": "2ab286ff",
   "metadata": {
    "slideshow": {
     "slide_type": "fragment"
    }
   },
   "outputs": [
    {
     "data": {
      "text/plain": [
       "(0.055123360333705934, 0.05512336033370603)"
      ]
     },
     "execution_count": 12,
     "metadata": {},
     "output_type": "execute_result"
    }
   ],
   "source": [
    "nulldist.cdf(32), nulldist.cdf(33) - nulldist.pmf(33)"
   ]
  },
  {
   "cell_type": "code",
   "execution_count": 13,
   "id": "2d574a82",
   "metadata": {
    "slideshow": {
     "slide_type": "fragment"
    }
   },
   "outputs": [
    {
     "name": "stdout",
     "output_type": "stream",
     "text": [
      "P(Y<32)=0.0287332; P(Y<33)=0.0551234; P(Y<34)=0.0983073\n"
     ]
    }
   ],
   "source": [
    "print(\"P(Y<%d)=%g; P(Y<%d)=%g; P(Y<%d)=%g\" % (32,nulldist.cdf(32-0.5),33,nulldist.cdf(33-0.5),34,nulldist.cdf(34-0.5)))"
   ]
  },
  {
   "cell_type": "markdown",
   "id": "02dbf7be",
   "metadata": {
    "slideshow": {
     "slide_type": "fragment"
    }
   },
   "source": [
    "Note that `cdf()` returns $P(\\color{royalblue}{Y}\\mathbin{\\le}y)$ but `sf()` returns $P(\\color{royalblue}{Y}\\mathbin{>}y)$"
   ]
  },
  {
   "cell_type": "markdown",
   "id": "140318f7",
   "metadata": {
    "slideshow": {
     "slide_type": "subslide"
    }
   },
   "source": [
    "If $H_1$ is $p\\ne p^*$, use a two-tailed test which rejects $H_0$ if ${\\color{royalblue}{Z}}<z_{\\alpha/2}$ **or** $\\color{royalblue}{Z}>z_{1-\\alpha/2}$:"
   ]
  },
  {
   "cell_type": "code",
   "execution_count": 14,
   "id": "28d9d2d3",
   "metadata": {
    "slideshow": {
     "slide_type": "fragment"
    }
   },
   "outputs": [
    {
     "name": "stdout",
     "output_type": "stream",
     "text": [
      "For a test w/alpha=0.05, we reject if z<-1.95996 or z>1.95996, i.e., y<31.4989 or y>43.5011\n",
      "Exact significance is 0.0287332 + 0.0193909 = 0.048124\n"
     ]
    }
   ],
   "source": [
    "zthresh2lo=stats.norm.ppf(0.5*alpha); zthresh2hi=stats.norm.isf(0.5*alpha)\n",
    "ythresh2lo = muy + zthresh2lo*sigy; ythresh2hi = muy + zthresh2hi*sigy\n",
    "print(\"For a test w/alpha=%g, we reject if z<%g or z>%g, i.e., y<%g or y>%g\"\n",
    "      %(alpha,zthresh2lo,zthresh2hi,ythresh2lo,ythresh2hi))\n",
    "print(\"Exact significance is %g + %g = %g\"\n",
    "      % (nulldist.cdf(ythresh2lo),nulldist.sf(ythresh2hi),nulldist.cdf(ythresh2lo)+nulldist.sf(ythresh2hi)))"
   ]
  },
  {
   "cell_type": "markdown",
   "id": "7406d45c",
   "metadata": {
    "slideshow": {
     "slide_type": "fragment"
    }
   },
   "source": [
    "Note the distinction between $P(\\color{royalblue}{Y}\\mathbin{\\le}y)$ and $P(\\color{royalblue}{Y}\\mathbin{<}y)$ only matters if $y$ is an integer"
   ]
  },
  {
   "cell_type": "markdown",
   "id": "99334832",
   "metadata": {
    "slideshow": {
     "slide_type": "subslide"
    }
   },
   "source": [
    "- Can also use normal approx for a $p$-value, but one subtle point bc of discreteness."
   ]
  },
  {
   "cell_type": "markdown",
   "id": "23d26e08",
   "metadata": {
    "slideshow": {
     "slide_type": "fragment"
    }
   },
   "source": [
    "- E.g., for upper-tailed test ($H_1$: $p>p^*$), would like to compute $P({\\color{royalblue}{Z}}{\\mathbin{\\ge}}z|p{\\mathbin{=}}p^*)$ from the actual observed value $z=\\frac{y-np^*}{\\sqrt{np^*(1-p^*)}}$"
   ]
  },
  {
   "cell_type": "markdown",
   "id": "87a0139b",
   "metadata": {
    "slideshow": {
     "slide_type": "fragment"
    }
   },
   "source": [
    "- What we really want is $P({\\color{royalblue}{Y}}{\\mathbin{\\ge}}y)$, and $P({\\color{royalblue}{Z}}{\\mathbin{\\ge}}z)$ is an approximation."
   ]
  },
  {
   "cell_type": "markdown",
   "id": "6be67013",
   "metadata": {
    "slideshow": {
     "slide_type": "fragment"
    }
   },
   "source": [
    "- But $P({\\color{royalblue}{Z}}{\\mathbin{\\ge}}z)=P({\\color{royalblue}{Z}}{\\mathbin{>}}z)$ while $P({\\color{royalblue}{Y}}{\\mathbin{\\ge}}y)\\ne P({\\color{royalblue}{Y}}{\\mathbin{>}}y)$ (since $y\\in\\mathbb{Z}$)"
   ]
  },
  {
   "cell_type": "markdown",
   "id": "e7e2d30d",
   "metadata": {
    "slideshow": {
     "slide_type": "fragment"
    }
   },
   "source": [
    "- OTOH, $P({\\color{royalblue}{Y}}{\\mathbin{\\ge}}y)=P({\\color{royalblue}{Y}}{\\mathbin{\\ge}}y-0.5)=P({\\color{royalblue}{Y}}{\\mathbin{>}}y-0.5)=P({\\color{royalblue}{Y}}{\\mathbin{>}}y-1)$"
   ]
  },
  {
   "cell_type": "markdown",
   "id": "e455e046",
   "metadata": {
    "slideshow": {
     "slide_type": "fragment"
    }
   },
   "source": [
    "- Best approximation to $P({\\color{royalblue}{Y}}{\\mathbin{\\ge}}y)=P({\\color{royalblue}{Y}}{\\mathbin{\\ge}}y-0.5)$ is $P\\left({\\color{royalblue}{Z}}{\\mathbin{\\ge}}\\frac{y-0.5-np^*}{\\sqrt{np^*(1-p^*)}}\\right)$<br>This is known as the **continuity correction**"
   ]
  },
  {
   "cell_type": "markdown",
   "id": "0b402367",
   "metadata": {
    "slideshow": {
     "slide_type": "subslide"
    }
   },
   "source": [
    "For example, if we have $n=50$ and $p^{*}=0.75$ as before, and we actually observe $y=43$ successes, the naïve $p$-value without the continuity correction is:"
   ]
  },
  {
   "cell_type": "code",
   "execution_count": 15,
   "id": "857338e4",
   "metadata": {
    "slideshow": {
     "slide_type": "fragment"
    }
   },
   "outputs": [
    {
     "name": "stdout",
     "output_type": "stream",
     "text": [
      "P(Z>(43-37.5)/3.06186)=P(Z>1.79629)=0.036224\n"
     ]
    }
   ],
   "source": [
    "y = 43; z=(y-muy)/sigy; print('P(Z>(%g-%g)/%g)=P(Z>%g)=%g'%(y,muy,sigy,z,stats.norm.sf(z)))"
   ]
  },
  {
   "cell_type": "markdown",
   "id": "1dbf0c01",
   "metadata": {
    "slideshow": {
     "slide_type": "fragment"
    }
   },
   "source": [
    "On the other hand, if we use the continuity correction, we get:"
   ]
  },
  {
   "cell_type": "code",
   "execution_count": 16,
   "id": "20c9b9a4",
   "metadata": {
    "slideshow": {
     "slide_type": "fragment"
    }
   },
   "outputs": [
    {
     "name": "stdout",
     "output_type": "stream",
     "text": [
      "P(Z>(43-0.5-37.5)/3.06186)=P(Z>1.63299)=0.0512352\n"
     ]
    }
   ],
   "source": [
    "zcorr=(y-0.5-muy)/sigy; print('P(Z>(%g-0.5-%g)/%g)=P(Z>%g)=%g'%(y,muy,sigy,zcorr,stats.norm.sf(zcorr)))"
   ]
  },
  {
   "cell_type": "markdown",
   "id": "00aa8bdf",
   "metadata": {
    "slideshow": {
     "slide_type": "fragment"
    }
   },
   "source": [
    "This is closer to the exact value:"
   ]
  },
  {
   "cell_type": "code",
   "execution_count": 17,
   "id": "2833a9ae",
   "metadata": {
    "slideshow": {
     "slide_type": "fragment"
    }
   },
   "outputs": [
    {
     "name": "stdout",
     "output_type": "stream",
     "text": [
      "P(Y>=43)=0.0452558\n"
     ]
    }
   ],
   "source": [
    "print('P(Y>=%g)=%g'%(y,nulldist.sf(y-0.5)))"
   ]
  },
  {
   "cell_type": "markdown",
   "id": "162a7640",
   "metadata": {
    "slideshow": {
     "slide_type": "fragment"
    }
   },
   "source": [
    "Note we computed $P({\\color{royalblue}{Y}}{\\mathbin{>}}42.5)=P({\\color{royalblue}{Y}}{\\mathbin{\\ge}}43)$ so we don't have to do something like $P({\\color{royalblue}{Y}}{\\mathbin{>}}43)+P({\\color{royalblue}{Y}}{\\mathbin{=}}43)$:"
   ]
  },
  {
   "cell_type": "code",
   "execution_count": 18,
   "id": "65418456",
   "metadata": {
    "slideshow": {
     "slide_type": "fragment"
    }
   },
   "outputs": [
    {
     "name": "stdout",
     "output_type": "stream",
     "text": [
      "P(Y>43)+P(Y=43)=0.0193909+0.025865=0.0452558\n"
     ]
    }
   ],
   "source": [
    "print('P(Y>%g)+P(Y=%g)=%g+%g=%g'%(y,y,nulldist.sf(y),nulldist.pmf(y),nulldist.sf(y)+nulldist.pmf(y)))"
   ]
  },
  {
   "cell_type": "markdown",
   "id": "1cf6a8bd",
   "metadata": {
    "slideshow": {
     "slide_type": "subslide"
    }
   },
   "source": [
    "Similarly, for $H_1$: $p<p^{*}$, the lower-tailed $p$-value is \n",
    "$P({\\color{royalblue}{Y}}{\\mathbin{\\le}}y)\\approx P\\left({\\color{royalblue}{Z}}{\\mathbin{\\le}}\\frac{y+0.5-np^*}{\\sqrt{np^*(1-p^*)}}\\right)$"
   ]
  },
  {
   "cell_type": "code",
   "execution_count": 19,
   "id": "ae0770cb",
   "metadata": {
    "slideshow": {
     "slide_type": "fragment"
    }
   },
   "outputs": [
    {
     "name": "stdout",
     "output_type": "stream",
     "text": [
      "P(Z<(43-37.5)/3.06186)=P(Z<1.79629)=0.963776\n",
      "P(Z<(43+0.5-37.5)/3.06186)=P(Z<1.95959)=0.974978\n",
      "P(Y<=43)=0.980609\n"
     ]
    }
   ],
   "source": [
    "print('P(Z<(%g-%g)/%g)=P(Z<%g)=%g'%(y,muy,sigy,z,stats.norm.cdf(z)))\n",
    "zcorrlo=(y+0.5-muy)/sigy; print('P(Z<(%g+0.5-%g)/%g)=P(Z<%g)=%g'%(y,muy,sigy,zcorrlo,stats.norm.cdf(zcorrlo)))\n",
    "print('P(Y<=%g)=%g'%(y,nulldist.cdf(y)))"
   ]
  },
  {
   "cell_type": "markdown",
   "id": "7b135edc",
   "metadata": {
    "slideshow": {
     "slide_type": "fragment"
    }
   },
   "source": [
    "Of course, for computing $p$-values, if you have the exact distribution available, you might as well use that and not bother with the normal approximation!"
   ]
  },
  {
   "cell_type": "markdown",
   "id": "7ff600af",
   "metadata": {
    "slideshow": {
     "slide_type": "slide"
    }
   },
   "source": [
    "### 1.2 General One-Tailed"
   ]
  },
  {
   "cell_type": "markdown",
   "id": "186be892",
   "metadata": {
    "slideshow": {
     "slide_type": "subslide"
    }
   },
   "source": [
    "If the sample size is not large enough to use the normal approximation,\n",
    "we just need to use an appropriate threshold on the number of successes.\n",
    "For instance, if we define a test which rejects $H_0$: $p=p^*$ in favor\n",
    "of $H_1$: $p>p^*$ whenever $y>k$, this test will have significance\n",
    "$$\\alpha = P({\\color{royalblue}{Y}}{\\mathbin{>}}k|p{\\mathbin{=}}p^*) = 1 - P({\\color{royalblue}{Y}}{\\mathbin{\\le}}k|p{\\mathbin{=}}p^*)\n",
    "  = 1 - B(k;n,p^*)$$ where $B(y;n,p)$ is the cdf of the binomial\n",
    "distribution. Conover tabulates this in Appendix Table A3, but we could\n",
    "also get it from `scipy.stats.binom.cdf()` or equivalently\n",
    "$1 - B(k;n,p^*)$ from `scipy.stats.binom.sf()`:"
   ]
  },
  {
   "cell_type": "code",
   "execution_count": 20,
   "id": "6f9171be",
   "metadata": {
    "slideshow": {
     "slide_type": "fragment"
    }
   },
   "outputs": [
    {
     "data": {
      "text/plain": [
       "0.0005634136976601912"
      ]
     },
     "execution_count": 20,
     "metadata": {},
     "output_type": "execute_result"
    }
   ],
   "source": [
    "n = 20\n",
    "pstar = 0.2\n",
    "mydist = stats.binom(n,pstar)    \n",
    "mydist.sf(10)"
   ]
  },
  {
   "cell_type": "markdown",
   "id": "571fedf2",
   "metadata": {
    "slideshow": {
     "slide_type": "fragment"
    }
   },
   "source": [
    "So a test which rejects $H_0:p=0.2$ when more than 10 out of 20 trials are successes will have a significance of $\\alpha=0.00056$."
   ]
  },
  {
   "cell_type": "markdown",
   "id": "1ffcda26",
   "metadata": {
    "slideshow": {
     "slide_type": "subslide"
    }
   },
   "source": [
    "Can see the full set of $\\alpha$ values for all possible upper-tailed tests by making an array of thresholds:"
   ]
  },
  {
   "cell_type": "code",
   "execution_count": 21,
   "id": "7efd1fab",
   "metadata": {
    "slideshow": {
     "slide_type": "fragment"
    }
   },
   "outputs": [
    {
     "data": {
      "text/plain": [
       "(array([ 0,  1,  2,  3,  4,  5,  6,  7,  8,  9, 10, 11, 12, 13, 14, 15, 16,\n",
       "        17, 18, 19, 20]),\n",
       " array([9.88470785e-01, 9.30824710e-01, 7.93915281e-01, 5.88551138e-01,\n",
       "        3.70351736e-01, 1.95792215e-01, 8.66925136e-02, 3.21426631e-02,\n",
       "        9.98178632e-03, 2.59482740e-03, 5.63413698e-04, 1.01728765e-04,\n",
       "        1.51628403e-05, 1.84500572e-06, 1.80276397e-07, 1.38034649e-08,\n",
       "        7.97767107e-10, 3.27260570e-11, 8.49346560e-13, 1.04857600e-14,\n",
       "        0.00000000e+00]))"
      ]
     },
     "execution_count": 21,
     "metadata": {},
     "output_type": "execute_result"
    }
   ],
   "source": [
    "k_k = np.arange(n+1)\n",
    "k_k,mydist.sf(k_k)"
   ]
  },
  {
   "cell_type": "code",
   "execution_count": 22,
   "id": "e94d48bb",
   "metadata": {
    "slideshow": {
     "slide_type": "fragment"
    }
   },
   "outputs": [
    {
     "name": "stdout",
     "output_type": "stream",
     "text": [
      "Significance of a test which rejects H0:p=0.2 if more than 0 out of 20 trials are successes is 0.988471\n",
      "Significance of a test which rejects H0:p=0.2 if more than 1 out of 20 trials are successes is 0.930825\n",
      "Significance of a test which rejects H0:p=0.2 if more than 2 out of 20 trials are successes is 0.793915\n",
      "Significance of a test which rejects H0:p=0.2 if more than 3 out of 20 trials are successes is 0.588551\n",
      "Significance of a test which rejects H0:p=0.2 if more than 4 out of 20 trials are successes is 0.370352\n",
      "Significance of a test which rejects H0:p=0.2 if more than 5 out of 20 trials are successes is 0.195792\n",
      "Significance of a test which rejects H0:p=0.2 if more than 6 out of 20 trials are successes is 0.0866925\n",
      "Significance of a test which rejects H0:p=0.2 if more than 7 out of 20 trials are successes is 0.0321427\n",
      "Significance of a test which rejects H0:p=0.2 if more than 8 out of 20 trials are successes is 0.00998179\n",
      "Significance of a test which rejects H0:p=0.2 if more than 9 out of 20 trials are successes is 0.00259483\n",
      "Significance of a test which rejects H0:p=0.2 if more than 10 out of 20 trials are successes is 0.000563414\n",
      "Significance of a test which rejects H0:p=0.2 if more than 11 out of 20 trials are successes is 0.000101729\n",
      "Significance of a test which rejects H0:p=0.2 if more than 12 out of 20 trials are successes is 1.51628e-05\n",
      "Significance of a test which rejects H0:p=0.2 if more than 13 out of 20 trials are successes is 1.84501e-06\n",
      "Significance of a test which rejects H0:p=0.2 if more than 14 out of 20 trials are successes is 1.80276e-07\n",
      "Significance of a test which rejects H0:p=0.2 if more than 15 out of 20 trials are successes is 1.38035e-08\n",
      "Significance of a test which rejects H0:p=0.2 if more than 16 out of 20 trials are successes is 7.97767e-10\n",
      "Significance of a test which rejects H0:p=0.2 if more than 17 out of 20 trials are successes is 3.27261e-11\n",
      "Significance of a test which rejects H0:p=0.2 if more than 18 out of 20 trials are successes is 8.49347e-13\n",
      "Significance of a test which rejects H0:p=0.2 if more than 19 out of 20 trials are successes is 1.04858e-14\n",
      "Significance of a test which rejects H0:p=0.2 if more than 20 out of 20 trials are successes is 0\n"
     ]
    }
   ],
   "source": [
    "for k in range(n+1):\n",
    "    print('Significance of a test which rejects H0:p=%g if more than %d out of %d trials are successes is %g'\n",
    "         % (pstar,k,n,stats.binom(n,pstar).sf(k))\n",
    "         )"
   ]
  },
  {
   "cell_type": "code",
   "execution_count": 23,
   "id": "670512e6",
   "metadata": {
    "slideshow": {
     "slide_type": "subslide"
    }
   },
   "outputs": [
    {
     "data": {
      "text/plain": [
       "(0.08669251356740035, 0.03214266308087516)"
      ]
     },
     "execution_count": 23,
     "metadata": {},
     "output_type": "execute_result"
    }
   ],
   "source": [
    "mydist.sf(6), mydist.sf(7)"
   ]
  },
  {
   "cell_type": "markdown",
   "id": "5bc872f0",
   "metadata": {
    "slideshow": {
     "slide_type": "fragment"
    }
   },
   "source": [
    "Note that this means it’s not possible to get a test with an arbitrary\n",
    "significance $\\alpha$. For instance, if $n=20$ and $p^*=0.2$, a test\n",
    "which rejects $H_0$ if $y>7$ has $\\alpha\\approx 0.032$ and one which\n",
    "rejects $H_0$ if $y>6$ has $\\alpha\\approx 0.087$, so we cannot find a\n",
    "test with a significance of exactly $0.05$."
   ]
  },
  {
   "cell_type": "markdown",
   "id": "934f79e5",
   "metadata": {
    "slideshow": {
     "slide_type": "subslide"
    }
   },
   "source": [
    "For the $p$-value of an upper one-sided hypothesis test, we just take\n",
    "$$p = P({\\color{royalblue}{Y}}{\\mathbin{\\ge}}y|p{\\mathbin{=}}p^*) = 1 - B(y-1;n,p^*)$$"
   ]
  },
  {
   "cell_type": "code",
   "execution_count": 24,
   "id": "f72ab18a",
   "metadata": {
    "slideshow": {
     "slide_type": "fragment"
    }
   },
   "outputs": [
    {
     "name": "stdout",
     "output_type": "stream",
     "text": [
      "If 8 out of 20 trials are successes, the p-value for an upper-tailed test of H0:p=0.2 is 0.0321427\n"
     ]
    }
   ],
   "source": [
    "k = 8\n",
    "print('If %d out of %d trials are successes, the p-value for an upper-tailed test of H0:p=%g is %g' %\n",
    "     (k,n,pstar,stats.binom(n,pstar).sf(k-1)))"
   ]
  },
  {
   "cell_type": "markdown",
   "id": "4f3006b3",
   "metadata": {
    "slideshow": {
     "slide_type": "fragment"
    }
   },
   "source": [
    "Again, only certain specific $p$-values are possible."
   ]
  },
  {
   "cell_type": "markdown",
   "id": "5fdfaeb5",
   "metadata": {
    "slideshow": {
     "slide_type": "slide"
    }
   },
   "source": [
    "### 1.3 General Two-Tailed"
   ]
  },
  {
   "cell_type": "markdown",
   "id": "026fb148",
   "metadata": {
    "slideshow": {
     "slide_type": "subslide"
    }
   },
   "source": [
    "Things get interesting for two-tailed tests. Not only do we have the\n",
    "discreteness of the binomial distribution, but it's also in general\n",
    "asymmetric, which means we have to give some thought to how much\n",
    "probability to put on each tail of the distribution. E.g.,\n",
    "suppose $n=20$ and $p^*=0.2$. Then the pmf is:"
   ]
  },
  {
   "cell_type": "code",
   "execution_count": 25,
   "id": "a8e58ae3",
   "metadata": {
    "slideshow": {
     "slide_type": "fragment"
    }
   },
   "outputs": [
    {
     "data": {
      "image/png": "[encoded data removed]",
      "text/plain": [
       "<Figure size 800x500 with 1 Axes>"
      ]
     },
     "metadata": {},
     "output_type": "display_data"
    }
   ],
   "source": [
    "plt.bar(k_k,mydist.pmf(k_k),align='center');\n",
    "plt.xlim(-0.5,n+0.5);plt.xticks(np.arange(0,21,4));plt.xlabel(r'$y$');plt.ylabel(r'$b(y;%d,%.1f)$'%(n,pstar));plt.title('Binomial pmf');plt.grid();"
   ]
  },
  {
   "cell_type": "markdown",
   "id": "50ae95fb",
   "metadata": {
    "slideshow": {
     "slide_type": "subslide"
    }
   },
   "source": [
    "Conover somewhat unhelpfully tells us that if we want to devise a test\n",
    "with confidence $\\alpha$, we should reject if $y\\le t_1$ or $y>t_2$\n",
    "where\n",
    "$P({\\color{royalblue}{Y}}{\\mathbin{\\le}}t_1|p{\\mathbin{=}}p^*)=\\alpha_1$ and\n",
    "$P({\\color{royalblue}{Y}}{\\mathbin{>}}t_2|p{\\mathbin{=}}p^*)=\\alpha_2$, where\n",
    "$\\alpha_1$ and $\\alpha_2$ are each “approximately half” of $\\alpha$, and\n",
    "then doesn’t provide a small-$n$ example. Let’s work through the\n",
    "details."
   ]
  },
  {
   "cell_type": "markdown",
   "id": "fe49d862",
   "metadata": {
    "slideshow": {
     "slide_type": "fragment"
    }
   },
   "source": [
    "First, consider the problem of finding the two-tailed $p$-value when\n",
    "$y=8$. We can find that\n",
    "$P({\\color{royalblue}{Y}}{\\mathbin{\\ge}}8)=P({\\color{royalblue}{Y}}{\\mathbin{>}}7.5)\\approx\n",
    "0.0321$ with"
   ]
  },
  {
   "cell_type": "code",
   "execution_count": 26,
   "id": "f62b4fa5",
   "metadata": {
    "slideshow": {
     "slide_type": "fragment"
    }
   },
   "outputs": [
    {
     "data": {
      "text/plain": [
       "(0.03214266308087516, 0.03214266308087516)"
      ]
     },
     "execution_count": 26,
     "metadata": {},
     "output_type": "execute_result"
    }
   ],
   "source": [
    "mydist.sf(8-1), mydist.sf(7.5)"
   ]
  },
  {
   "cell_type": "markdown",
   "id": "e790698d",
   "metadata": {
    "slideshow": {
     "slide_type": "fragment"
    }
   },
   "source": [
    "You might naïvely think that the two-tailed $p$-value should be twice\n",
    "this, but we’re asking for the null probability of ${\\color{royalblue}{Y}}$\n",
    "having a value at least as extreme as $8$, which we can reasonably take\n",
    "to mean a value which is no more likely than $8$, i.e.,\n",
    "$\\sum_{y:\\ p(y)\\le p(8)} p(y)$"
   ]
  },
  {
   "cell_type": "markdown",
   "id": "4333a54d",
   "metadata": {
    "slideshow": {
     "slide_type": "subslide"
    }
   },
   "source": [
    "To compute the $p$-value $\\sum_{y:\\ p(y)\\le p(8)} p(y)$, we can make an array which tells us whether a number of successes is at least as unlikely as 8:"
   ]
  },
  {
   "cell_type": "code",
   "execution_count": 27,
   "id": "05f992d7",
   "metadata": {
    "slideshow": {
     "slide_type": "fragment"
    }
   },
   "outputs": [
    {
     "name": "stdout",
     "output_type": "stream",
     "text": [
      "[ True False False False False False False False  True  True  True  True\n",
      "  True  True  True  True  True  True  True  True  True]\n"
     ]
    }
   ],
   "source": [
    "pmf_k = mydist.pmf(k_k)\n",
    "unlikely_k = (pmf_k <= pmf_k[8])\n",
    "print(unlikely_k)"
   ]
  },
  {
   "cell_type": "markdown",
   "id": "2895c683",
   "metadata": {
    "slideshow": {
     "slide_type": "fragment"
    }
   },
   "source": [
    "and when we use this boolean array as an index to the array `k_k` it picks out the values for which `unlikely_k` is true:"
   ]
  },
  {
   "cell_type": "code",
   "execution_count": 28,
   "id": "f3829bb7",
   "metadata": {
    "slideshow": {
     "slide_type": "fragment"
    }
   },
   "outputs": [
    {
     "data": {
      "text/plain": [
       "array([ 0,  8,  9, 10, 11, 12, 13, 14, 15, 16, 17, 18, 19, 20])"
      ]
     },
     "execution_count": 28,
     "metadata": {},
     "output_type": "execute_result"
    }
   ],
   "source": [
    "k_k[unlikely_k]"
   ]
  },
  {
   "cell_type": "markdown",
   "id": "38db6736",
   "metadata": {
    "slideshow": {
     "slide_type": "fragment"
    }
   },
   "source": [
    "So we see that the set of values at least as unlikely than 8 is\n",
    "${\\color{royalblue}{Y}}\\le 0$ or ${\\color{royalblue}{Y}}\\ge 8$."
   ]
  },
  {
   "cell_type": "markdown",
   "id": "5f862bfb",
   "metadata": {
    "slideshow": {
     "slide_type": "subslide"
    }
   },
   "source": [
    "The set of values at least as unlikely than 8 is\n",
    "${\\color{royalblue}{Y}}\\le 0$ or ${\\color{royalblue}{Y}}\\ge 8$.  But because\n",
    "$P({\\color{royalblue}{Y}}\\le 0) =\n",
    "0.0116$, the $P$-value is $0.0437$, which is less than twice the upper\n",
    "tail probability."
   ]
  },
  {
   "cell_type": "code",
   "execution_count": 29,
   "id": "18d8d68c",
   "metadata": {
    "slideshow": {
     "slide_type": "fragment"
    }
   },
   "outputs": [
    {
     "data": {
      "text/plain": [
       "(0.01152921504606848, 0.04367187812694362)"
      ]
     },
     "execution_count": 29,
     "metadata": {},
     "output_type": "execute_result"
    }
   ],
   "source": [
    "pmf_k[0], pmf_k[unlikely_k].sum()"
   ]
  },
  {
   "cell_type": "markdown",
   "id": "c7a938a8",
   "metadata": {
    "slideshow": {
     "slide_type": "fragment"
    }
   },
   "source": [
    "Fortunately, this behavior is exactly what’s coded in\n",
    "Python (or in R as `binom.test(8,20,0.2)`)."
   ]
  },
  {
   "cell_type": "code",
   "execution_count": 30,
   "id": "2e116ca3",
   "metadata": {
    "slideshow": {
     "slide_type": "fragment"
    }
   },
   "outputs": [
    {
     "data": {
      "text/plain": [
       "BinomTestResult(k=8, n=20, alternative='two-sided', statistic=0.4, pvalue=0.04367187812694362)"
      ]
     },
     "execution_count": 30,
     "metadata": {},
     "output_type": "execute_result"
    }
   ],
   "source": [
    "stats.binomtest(8,n,pstar)"
   ]
  },
  {
   "cell_type": "markdown",
   "id": "03e0d498",
   "metadata": {
    "slideshow": {
     "slide_type": "subslide"
    }
   },
   "source": [
    "To get a test with significance approximately $0.05$, we just need to\n",
    "look at the possible $p$-values. First we sort the possible numbers of\n",
    "successes in decreasing order of null probability:"
   ]
  },
  {
   "cell_type": "code",
   "execution_count": 31,
   "id": "8e2f6c48",
   "metadata": {
    "slideshow": {
     "slide_type": "fragment"
    }
   },
   "outputs": [
    {
     "data": {
      "text/plain": [
       "array([ 4,  3,  5,  2,  6,  1,  7,  8,  0,  9, 10, 11, 12, 13, 14, 15, 16,\n",
       "       17, 18, 19, 20])"
      ]
     },
     "execution_count": 31,
     "metadata": {},
     "output_type": "execute_result"
    }
   ],
   "source": [
    "np.argsort(mydist.pmf(k_k))[::-1]"
   ]
  },
  {
   "cell_type": "markdown",
   "id": "72032720",
   "metadata": {
    "slideshow": {
     "slide_type": "fragment"
    }
   },
   "source": [
    "The next least probable value after 8 is 7:"
   ]
  },
  {
   "cell_type": "code",
   "execution_count": 32,
   "id": "ff57ea59",
   "metadata": {
    "slideshow": {
     "slide_type": "fragment"
    }
   },
   "outputs": [
    {
     "data": {
      "text/plain": [
       "array([ 0,  7,  8,  9, 10, 11, 12, 13, 14, 15, 16, 17, 18, 19, 20])"
      ]
     },
     "execution_count": 32,
     "metadata": {},
     "output_type": "execute_result"
    }
   ],
   "source": [
    "unlikely7_k = pmf_k <= pmf_k[7]; k_k[unlikely7_k]"
   ]
  },
  {
   "cell_type": "code",
   "execution_count": 33,
   "id": "345f8d42",
   "metadata": {
    "slideshow": {
     "slide_type": "fragment"
    }
   },
   "outputs": [
    {
     "data": {
      "text/plain": [
       "0.09822172861346881"
      ]
     },
     "execution_count": 33,
     "metadata": {},
     "output_type": "execute_result"
    }
   ],
   "source": [
    "pmf_k[unlikely7_k].sum()"
   ]
  },
  {
   "cell_type": "markdown",
   "id": "e1956ef7",
   "metadata": {
    "slideshow": {
     "slide_type": "fragment"
    }
   },
   "source": [
    "The $p$-value for $y=7$ is $0.0982$. So for a test which rejects if\n",
    "${\\color{royalblue}{Y}}\\le 0$ or ${\\color{royalblue}{Y}}\\ge 8$, the significance\n",
    "is $0.0437$; for one which rejects if ${\\color{royalblue}{Y}}\\le 0$ or\n",
    "${\\color{royalblue}{Y}}\\ge 7$, it is $0.0982$."
   ]
  },
  {
   "cell_type": "markdown",
   "id": "bb7f08ea",
   "metadata": {
    "slideshow": {
     "slide_type": "slide"
    }
   },
   "source": [
    "## 2 Confidence Intervals"
   ]
  },
  {
   "cell_type": "markdown",
   "id": "1f092f49",
   "metadata": {
    "slideshow": {
     "slide_type": "subslide"
    }
   },
   "source": [
    "- Rather than testing for a specified proportion $p^*$, can use observed # of successes $y$ to construct a confidence interval on $p$."
   ]
  },
  {
   "cell_type": "markdown",
   "id": "69b9ad83",
   "metadata": {
    "slideshow": {
     "slide_type": "fragment"
    }
   },
   "source": [
    "- CI at confidence level $1-\\alpha$ should have a probability of $1-\\alpha$ of containing true value of $p$."
   ]
  },
  {
   "cell_type": "markdown",
   "id": "028fa55d",
   "metadata": {
    "slideshow": {
     "slide_type": "fragment"
    }
   },
   "source": [
    "- Estimator ${\\color{royalblue}{\\hat{p}}}={\\color{royalblue}{Y}}/n$ produces point estimate $\\hat{p}=y/n$.  Central limit theorem gives approximately standard normal statistic\n",
    "$\\frac{{\\color{royalblue}{\\hat{p}}}-p}{\\sqrt{p(1-p)/n}}$. Solving\n",
    "$$\n",
    "z_{\\alpha/2}<\\frac{\\hat{p}-p}{\\sqrt{p(1-p)/n}}<z_{1-\\alpha/2}\n",
    "$$\n",
    "for $p$ gives a quadratic equation whose solution is the *Wilson score interval* seen in Devore."
   ]
  },
  {
   "cell_type": "markdown",
   "id": "e54632af",
   "metadata": {
    "slideshow": {
     "slide_type": "fragment"
    }
   },
   "source": [
    "- If $n$ is large enough, you can assume $\\frac{{\\color{royalblue}{\\hat{p}}}-p}{\\sqrt{{\\color{royalblue}{\\hat{p}}}(1-{\\color{royalblue}{\\hat{p}}})/n}}\\sim N(0,1)$ and get approximate confidence interval w/endpoints\n",
    "$$\\hat{p} \\pm z_{1-\\alpha/2}\\sqrt{\\frac{\\hat{p}(1-\\hat{p})}{n}}$$"
   ]
  },
  {
   "cell_type": "markdown",
   "id": "63d9e561",
   "metadata": {
    "slideshow": {
     "slide_type": "subslide"
    }
   },
   "source": [
    "- What if $n$ is not large?  Conover says look it up in the back of the book."
   ]
  },
  {
   "cell_type": "markdown",
   "id": "c6e5eef2",
   "metadata": {
    "slideshow": {
     "slide_type": "fragment"
    }
   },
   "source": [
    "- In fact there are several different ways of defining intermediate-$n$ confidence intervals for binomial proportion (more information than you could possibly want at [Wikipedia](https://en.wikipedia.org/wiki/Binomial_proportion_confidence_interval))"
   ]
  },
  {
   "cell_type": "markdown",
   "id": "a0a3bb64",
   "metadata": {
    "slideshow": {
     "slide_type": "fragment"
    }
   },
   "source": [
    "- Conover uses the Clopper-Pearson interval, defined as the set of all proportions\n",
    "$p^*$ such that\n",
    "$$P({\\color{royalblue}{Y}}{\\mathbin{\\le}}y|p{\\mathbin{=}}p^*) > \\frac{\\alpha}{2}\n",
    "  \\qquad\\hbox{and}\\qquad\n",
    "  P({\\color{royalblue}{Y}}{\\mathbin{\\ge}}y|p{\\mathbin{=}}p^*) > \\frac{\\alpha}{2}$$\n",
    "you could work this out experimentally, but the answer can be computed in closed form"
   ]
  },
  {
   "cell_type": "code",
   "execution_count": 34,
   "id": "0ff834e8",
   "metadata": {
    "slideshow": {
     "slide_type": "fragment"
    }
   },
   "outputs": [],
   "source": [
    "def ClopperPearsonCI(CL,n,x):\n",
    "    tailprob = 0.5*(1.-CL)\n",
    "    lower = stats.beta.ppf(tailprob,x,n-x+1)\n",
    "    upper = stats.beta.isf(tailprob,x+1,n-x)\n",
    "    return (lower,upper)"
   ]
  },
  {
   "cell_type": "markdown",
   "id": "dc12b3c4",
   "metadata": {
    "slideshow": {
     "slide_type": "subslide"
    }
   },
   "source": [
    "We can then test it with"
   ]
  },
  {
   "cell_type": "code",
   "execution_count": 35,
   "id": "23b531a9",
   "metadata": {
    "slideshow": {
     "slide_type": "fragment"
    }
   },
   "outputs": [
    {
     "name": "stdout",
     "output_type": "stream",
     "text": [
      "Given 8 successes in 20 trials, the 95% CI on p is 0.19119 to 0.639457\n",
      "P(Y<=8|p=0.639457)=0.025 and P(Y>=8|p=0.19119)=0.025\n"
     ]
    }
   ],
   "source": [
    "CL=.95; n=20; y=8\n",
    "CIlo, CIhi = ClopperPearsonCI(CL,n,y)\n",
    "print(\"Given %d successes in %d trials, the %g%% CI on p is %g to %g\"%(y,n,100*CL,CIlo,CIhi))\n",
    "print(\"P(Y<=%d|p=%g)=%g and P(Y>=%d|p=%g)=%g\"\n",
    "      %(y,CIhi,stats.binom(n,CIhi).cdf(y+0.5),y,CIlo,stats.binom(n,CIlo).sf(y-0.5)))"
   ]
  },
  {
   "cell_type": "markdown",
   "id": "1c20fbee",
   "metadata": {
    "slideshow": {
     "slide_type": "fragment"
    }
   },
   "source": [
    "In fact, this is now implemented in SciPy as well:"
   ]
  },
  {
   "cell_type": "code",
   "execution_count": 36,
   "id": "2e045b4f",
   "metadata": {
    "slideshow": {
     "slide_type": "fragment"
    }
   },
   "outputs": [
    {
     "data": {
      "text/plain": [
       "ConfidenceInterval(low=0.19119006072557054, high=0.6394574126927552)"
      ]
     },
     "execution_count": 36,
     "metadata": {},
     "output_type": "execute_result"
    }
   ],
   "source": [
    "stats.binomtest(y,n).proportion_ci(CL)"
   ]
  },
  {
   "cell_type": "markdown",
   "id": "94adab9f",
   "metadata": {
    "slideshow": {
     "slide_type": "fragment"
    }
   },
   "source": [
    "You will check on the homework that this construction gives the correct coverage.  I.e., for a given $p$ and $n$, some values of $y$ will give confidence intervals containing $p$ and some will not.  You can compute the probability that $\\color{royalblue}{Y}\\sim\\operatorname{Bin}(n,p)$ takes on a value which gives a confidence interval containing $p$.  That probability should equal the confidence level."
   ]
  },
  {
   "cell_type": "markdown",
   "id": "643b3749",
   "metadata": {
    "slideshow": {
     "slide_type": "subslide"
    }
   },
   "source": [
    "- Note that our confidence interval construction is a little different than what we did for $p$-values, since we required equal tail probabilities when constructing the confidence interval."
   ]
  },
  {
   "cell_type": "markdown",
   "id": "591437a2",
   "metadata": {
    "slideshow": {
     "slide_type": "fragment"
    }
   },
   "source": [
    "- An interesting\n",
    "exercise/challenge is to define a confidence interval, given $n$ and\n",
    "$y$, as all of the proportions for which the $p$-value is greater than\n",
    "$0.05$. You can then check the coverage of this confidence interval for\n",
    "some true proportion $p$."
   ]
  },
  {
   "cell_type": "code",
   "execution_count": null,
   "id": "64404202-b3be-4dcd-8b9f-791cfcfc832d",
   "metadata": {},
   "outputs": [],
   "source": []
  }
 ],
 "metadata": {
  "celltoolbar": "Slideshow",
  "kernelspec": {
   "display_name": "Python 3 (ipykernel)",
   "language": "python",
   "name": "python3"
  },
  "language_info": {
   "codemirror_mode": {
    "name": "ipython",
    "version": 3
   },
   "file_extension": ".py",
   "mimetype": "text/x-python",
   "name": "python",
   "nbconvert_exporter": "python",
   "pygments_lexer": "ipython3",
   "version": "3.9.7"
  }
 },
 "nbformat": 4,
 "nbformat_minor": 5
}
