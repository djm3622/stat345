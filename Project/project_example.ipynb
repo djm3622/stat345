{
 "cells": [
  {
   "cell_type": "code",
   "execution_count": 1,
   "id": "46f1e3bf-77da-46c6-b485-b4e0ab388ce3",
   "metadata": {},
   "outputs": [],
   "source": [
    "%matplotlib inline"
   ]
  },
  {
   "cell_type": "code",
   "execution_count": 2,
   "id": "20abd482-bfc8-48cc-a32b-0155c62a2d3d",
   "metadata": {},
   "outputs": [],
   "source": [
    "import numpy as np\n",
    "from scipy import stats\n",
    "import matplotlib.pyplot as plt\n",
    "import itertools\n",
    "from sklearn.metrics import roc_curve, auc\n",
    "plt.rcParams['figure.figsize'] = (8.0,5.0)\n",
    "plt.rcParams['font.size'] = 14"
   ]
  },
  {
   "cell_type": "code",
   "execution_count": 20,
   "id": "ea06b157-3b2c-4960-bca3-dae1d2dbe221",
   "metadata": {},
   "outputs": [],
   "source": [
    "def i_m_test(x_i_j):\n",
    "    T_i = stats.rankdata(x_i_j, axis=0)-1\n",
    "    T_v = np.sum(T_i, axis=1)\n",
    "    \n",
    "    N = x_i_j.shape[1]\n",
    "    k = T_i.shape[0]\n",
    "    \n",
    "    mu = N*(k-1) / 2\n",
    "    var = N*(k**2 -1) / 12\n",
    "    \n",
    "    T = np.sum((T_v - mu)**2 / var)\n",
    "    \n",
    "    print(T)\n",
    "    \n",
    "    return stats.chi2(df=k-1).sf(T)"
   ]
  },
  {
   "cell_type": "code",
   "execution_count": 21,
   "id": "cf596037-66f2-4941-ae0b-d7deae37cf11",
   "metadata": {},
   "outputs": [],
   "source": [
    "def kruskal_wallis(x_i_j):\n",
    "    n_i = np.array([len(xi_j) for xi_j in x_i_j])\n",
    "    k = len(n_i)\n",
    "    N = np.sum(n_i)\n",
    "    \n",
    "    x_r = np.concatenate(x_i_j)\n",
    "    R_r = stats.rankdata(x_r)\n",
    "    i_r = np.concatenate([(i,)*n_i[i] for i in range(k)])\n",
    "    R_i_j = [R_r[i_r==i] for i in range(k)]\n",
    "    R_i = np.array([np.sum(Ri_j) for Ri_j in R_i_j])\n",
    "    \n",
    "    Rbar = 0.5*(N+1)\n",
    "    T = (N-1) * np.sum((R_i-n_i*Rbar)**2/n_i) / np.sum((R_r-Rbar)**2)\n",
    "    \n",
    "    print(T)\n",
    "    \n",
    "    p = stats.chi2(df=k-1).sf(T)\n",
    "    \n",
    "    return p"
   ]
  },
  {
   "cell_type": "code",
   "execution_count": 22,
   "id": "62127c3e-77d4-422a-a407-525b38daca80",
   "metadata": {},
   "outputs": [],
   "source": [
    "x_i_j = np.array([\n",
    "    [2.1, 2.4, 6.8],\n",
    "    [1.9, 2.2, 5.1],\n",
    "    [2.0, 2.1, 3.0],\n",
    "    [2.2, 2.5, 10.8],\n",
    "    [2.0, 2.3, 4.5]\n",
    "])"
   ]
  },
  {
   "cell_type": "code",
   "execution_count": 23,
   "id": "99ca7d6f-3858-4918-b482-1700d265e59e",
   "metadata": {},
   "outputs": [
    {
     "name": "stdout",
     "output_type": "stream",
     "text": [
      "1.9940155595451823\n",
      "12.75\n",
      "Kruskal-Wallis: 0.7368596570029342, IM: 0.012564195994043981\n"
     ]
    }
   ],
   "source": [
    "print(f'Kruskal-Wallis: {kruskal_wallis(x_i_j)}, IM: {i_m_test(x_i_j)}')"
   ]
  },
  {
   "cell_type": "code",
   "execution_count": null,
   "id": "9f806e98-def9-438b-a29a-41824a213cbe",
   "metadata": {},
   "outputs": [],
   "source": []
  }
 ],
 "metadata": {
  "kernelspec": {
   "display_name": "Python 3 (ipykernel)",
   "language": "python",
   "name": "python3"
  },
  "language_info": {
   "codemirror_mode": {
    "name": "ipython",
    "version": 3
   },
   "file_extension": ".py",
   "mimetype": "text/x-python",
   "name": "python",
   "nbconvert_exporter": "python",
   "pygments_lexer": "ipython3",
   "version": "3.9.7"
  }
 },
 "nbformat": 4,
 "nbformat_minor": 5
}
