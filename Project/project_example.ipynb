{
 "cells": [
  {
   "cell_type": "code",
   "execution_count": 1,
   "id": "46f1e3bf-77da-46c6-b485-b4e0ab388ce3",
   "metadata": {},
   "outputs": [],
   "source": [
    "%matplotlib inline"
   ]
  },
  {
   "cell_type": "code",
   "execution_count": 2,
   "id": "20abd482-bfc8-48cc-a32b-0155c62a2d3d",
   "metadata": {},
   "outputs": [],
   "source": [
    "import numpy as np\n",
    "from scipy import stats\n",
    "import matplotlib.pyplot as plt\n",
    "import itertools\n",
    "from sklearn.metrics import roc_curve, auc\n",
    "plt.rcParams['figure.figsize'] = (8.0,5.0)\n",
    "plt.rcParams['font.size'] = 14"
   ]
  },
  {
   "cell_type": "code",
   "execution_count": 19,
   "id": "ea06b157-3b2c-4960-bca3-dae1d2dbe221",
   "metadata": {},
   "outputs": [],
   "source": [
    "def i_m_test(x_i_j):\n",
    "    T_i = stats.rankdata(x_i_j, axis=0)-1\n",
    "    T_v = np.sum(T_i, axis=1)\n",
    "    \n",
    "    N = x_i_j.shape[1]\n",
    "    k = T_i.shape[0]\n",
    "    \n",
    "    mu = N*(k-1) / 2\n",
    "    var = N*(k**2 -1) / 12\n",
    "    \n",
    "    T = np.sum((T_v - mu)**2 / var)\n",
    "    \n",
    "    print(T)\n",
    "    \n",
    "    return stats.chi2(df=k-1).sf(T)"
   ]
  },
  {
   "cell_type": "code",
   "execution_count": 20,
   "id": "cf596037-66f2-4941-ae0b-d7deae37cf11",
   "metadata": {},
   "outputs": [],
   "source": [
    "def get_friedman(X_ij):\n",
    "    b, k = np.shape(X_ij)\n",
    "    \n",
    "    R_ij = stats.rankdata(X_ij,axis=-1)\n",
    "    R_j = np.sum(R_ij,axis=0)\n",
    "    \n",
    "    T1 = (12/(b*k*(k+1)))*np.sum((R_j-0.5*b*(k+1))**2)\n",
    "    p = stats.chi2(df=k-1).sf(T1)\n",
    "    \n",
    "    print(T1)\n",
    "    \n",
    "    return p"
   ]
  },
  {
   "cell_type": "code",
   "execution_count": 21,
   "id": "62127c3e-77d4-422a-a407-525b38daca80",
   "metadata": {},
   "outputs": [],
   "source": [
    "x_i_j = np.array([\n",
    "    [2.1, 2.4, 6.8],\n",
    "    [1.9, 2.2, 5.1],\n",
    "    [2.0, 2.1, 3.0],\n",
    "    [2.2, 2.5, 4.6],\n",
    "    [2.0, 2.3, 4.5]\n",
    "])"
   ]
  },
  {
   "cell_type": "code",
   "execution_count": 22,
   "id": "99ca7d6f-3858-4918-b482-1700d265e59e",
   "metadata": {},
   "outputs": [
    {
     "name": "stdout",
     "output_type": "stream",
     "text": [
      "7.8\n",
      "9.75\n",
      "Kruskal-Wallis: 0.09918536608444149, IM: 0.04485617853580228\n"
     ]
    }
   ],
   "source": [
    "print(f'Kruskal-Wallis: {get_friedman(x_i_j.T)}, IM: {i_m_test(x_i_j)}')"
   ]
  },
  {
   "cell_type": "code",
   "execution_count": null,
   "id": "9f806e98-def9-438b-a29a-41824a213cbe",
   "metadata": {},
   "outputs": [],
   "source": []
  }
 ],
 "metadata": {
  "kernelspec": {
   "display_name": "Python 3 (ipykernel)",
   "language": "python",
   "name": "python3"
  },
  "language_info": {
   "codemirror_mode": {
    "name": "ipython",
    "version": 3
   },
   "file_extension": ".py",
   "mimetype": "text/x-python",
   "name": "python",
   "nbconvert_exporter": "python",
   "pygments_lexer": "ipython3",
   "version": "3.9.7"
  }
 },
 "nbformat": 4,
 "nbformat_minor": 5
}
