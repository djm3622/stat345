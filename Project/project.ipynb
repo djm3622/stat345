{
 "cells": [
  {
   "cell_type": "markdown",
   "id": "461c21ca-8902-4d81-b954-de7fa4ed6a96",
   "metadata": {},
   "source": [
    "# Project\n",
    "\n",
    "...\n",
    "\n",
    "## Details\n",
    "\n",
    "...\n",
    "\n",
    "## Implementation\n",
    "\n",
    "..."
   ]
  },
  {
   "cell_type": "code",
   "execution_count": null,
   "id": "d7f4f9ce-90c8-4e3b-9bea-b5877328d21e",
   "metadata": {},
   "outputs": [],
   "source": [
    "%matplotlib inline"
   ]
  },
  {
   "cell_type": "code",
   "execution_count": null,
   "id": "7dd3bf05-d8b1-48b6-9b9f-49b20a7d09a2",
   "metadata": {},
   "outputs": [],
   "source": [
    "import numpy as np\n",
    "from scipy import stats\n",
    "import matplotlib.pyplot as plt\n",
    "import itertools\n",
    "plt.rcParams['figure.figsize'] = (8.0,5.0)\n",
    "plt.rcParams['font.size'] = 14"
   ]
  },
  {
   "cell_type": "code",
   "execution_count": null,
   "id": "d57737fe-046b-4ca7-add7-65360ef8885b",
   "metadata": {},
   "outputs": [],
   "source": [
    "def i_m_test(x_i_j):\n",
    "    T_i = stats.rankdata(x_i_j, axis=0)-1\n",
    "    T_v = np.sum(T_i, axis=1)\n",
    "    \n",
    "    N = x_i_j.shape[1]\n",
    "    k = T_i.shape[0]\n",
    "    \n",
    "    mu = N*(k-1) / 2\n",
    "    var = N*(k**2 -1) / 12\n",
    "    \n",
    "    T = np.sum((T_v - mu)**2 / var)\n",
    "    \n",
    "    return stats.chi2(df=k-1).sf(T)"
   ]
  },
  {
   "cell_type": "markdown",
   "id": "8862f883-e70f-4aa3-81e6-209f0fcd26ba",
   "metadata": {},
   "source": [
    "## Comparison (Kruskal-Wallis)\n",
    "\n",
    "..."
   ]
  },
  {
   "cell_type": "code",
   "execution_count": null,
   "id": "e5299db1-8121-435b-a364-5f8f42da83bd",
   "metadata": {},
   "outputs": [],
   "source": [
    "def kruskal_wallis(x_i_j):\n",
    "    n_i = np.array([len(xi_j) for xi_j in x_i_j])\n",
    "    k = len(n_i)\n",
    "    N = np.sum(n_i)\n",
    "    \n",
    "    x_r = np.concatenate(x_i_j)\n",
    "    R_r = stats.rankdata(x_r)\n",
    "    i_r = np.concatenate([(i,)*n_i[i] for i in range(k)])\n",
    "    R_i_j = [R_r[i_r==i] for i in range(k)]\n",
    "    R_i = np.array([np.sum(Ri_j) for Ri_j in R_i_j])\n",
    "    \n",
    "    Rbar = 0.5*(N+1)\n",
    "    T = (N-1) * np.sum((R_i-n_i*Rbar)**2/n_i) / np.sum((R_r-Rbar)**2)\n",
    "    \n",
    "    p = stats.chi2(df=k-1).sf(T)\n",
    "    \n",
    "    return p"
   ]
  },
  {
   "cell_type": "markdown",
   "id": "0d4847ab-3e00-497a-a18d-cf915c17eb64",
   "metadata": {},
   "source": [
    "## Example Comparison\n",
    "\n",
    "..."
   ]
  },
  {
   "cell_type": "code",
   "execution_count": null,
   "id": "b9d87f55-1a87-4ff3-b6cb-470cb4f9f56f",
   "metadata": {},
   "outputs": [],
   "source": [
    "x_i_j = np.array([\n",
    "    np.array([ 14.97,   5.80,  25.03,   5.50 ]),\n",
    "    np.array([  5.83,  13.96,  21.96,   55.51 ]),\n",
    "    np.array([ 17.89,  23.03,  61.09,   18.62 ])\n",
    "])"
   ]
  },
  {
   "cell_type": "code",
   "execution_count": null,
   "id": "23b844fd-5bff-434a-ad38-1303ce06c282",
   "metadata": {},
   "outputs": [],
   "source": [
    "kruskal_wallis(x_i_j)"
   ]
  },
  {
   "cell_type": "code",
   "execution_count": null,
   "id": "0c42997a-899f-4be3-b06d-7bf6eaf0afec",
   "metadata": {},
   "outputs": [],
   "source": [
    "i_m_test(x_i_j)"
   ]
  },
  {
   "cell_type": "markdown",
   "id": "986b00ad-edbe-4c61-9952-86a5be922007",
   "metadata": {},
   "source": [
    "## Experiments\n",
    "\n",
    "..."
   ]
  },
  {
   "cell_type": "code",
   "execution_count": null,
   "id": "7d1bea84-434f-4b0f-912b-09893734f54e",
   "metadata": {},
   "outputs": [],
   "source": [
    "def run_experiment(\n",
    "    effect_size, x_i_j_k, title,\n",
    "    n_trials=1000, alpha=0.5\n",
    "):\n",
    "    n_trials = 1000  \n",
    "    alpha = 0.05\n",
    "\n",
    "    ks_power = []\n",
    "    im_power = []\n",
    "\n",
    "    for e in effect_size:\n",
    "        ks_rejects = 0\n",
    "        im_rejects = 0\n",
    "\n",
    "        for _ in range(n_trials):\n",
    "            x_1 = stats.norm(e, 1).rvs(10)\n",
    "            x_2 = stats.norm(0, 1).rvs(10)\n",
    "            x_3 = stats.norm(0, 1).rvs(10)\n",
    "\n",
    "            x_i_j = np.array([x_1, x_2, x_3])\n",
    "\n",
    "            if kruskal_wallis(x_i_j) < alpha:\n",
    "                ks_rejects += 1\n",
    "            if i_m_test(x_i_j) < alpha:\n",
    "                im_rejects += 1\n",
    "\n",
    "        ks_power.append(ks_rejects / n_trials)\n",
    "        im_power.append(im_rejects / n_trials)\n",
    "\n",
    "    plt.plot(effect_size, ks_power, label='Kruskal-Wallis')\n",
    "    plt.plot(effect_size, im_power, label='IM Test')\n",
    "    plt.xlabel(\"Effect Size\")\n",
    "    plt.ylabel(\"Power\")\n",
    "    plt.title(f'{title} | Power Curve')\n",
    "    plt.legend()\n",
    "    plt.grid(True)\n",
    "    plt.show()"
   ]
  },
  {
   "cell_type": "markdown",
   "id": "efecebb4-14c4-436d-a95e-652d2a7356e6",
   "metadata": {},
   "source": [
    "### 01 | Normal vs. Normal \n",
    "\n",
    "..."
   ]
  },
  {
   "cell_type": "markdown",
   "id": "aa2d6b93-1c9b-4e67-b281-57c91b9cd41e",
   "metadata": {},
   "source": [
    "#### N=100"
   ]
  },
  {
   "cell_type": "code",
   "execution_count": null,
   "id": "4dd01c3b-b4e3-4a46-a77e-f08466ec8ee9",
   "metadata": {},
   "outputs": [],
   "source": [
    "effect_size = np.linspace(0.1, 1, 121)\n",
    "n=100\n",
    "\n",
    "x_1 = np.array([stats.norm(e, 1).rvs(n) for e in effect_size])\n",
    "x_2 = stats.norm(0, 1).rvs(effect_size.shape+(n,))\n",
    "x_3 = stats.norm(0, 1).rvs(effect_size.shape+(n,))\n",
    "\n",
    "x_i_j_k = np.array([x_1, x_2, x_3])\n",
    "\n",
    "run_experiment(effect_size, x_i_j_k, 'Normal vs. Normal')"
   ]
  },
  {
   "cell_type": "code",
   "execution_count": null,
   "id": "98f01546-9fa4-42ef-86ed-a33d80c580c6",
   "metadata": {},
   "outputs": [],
   "source": [
    "run_experiment(effect_size, x_i_j_k, 'Normal vs. Normal')"
   ]
  },
  {
   "cell_type": "markdown",
   "id": "cdf1f2a4-6873-4ad8-9197-5958cd8e2f92",
   "metadata": {},
   "source": [
    "#### N=10"
   ]
  },
  {
   "cell_type": "code",
   "execution_count": null,
   "id": "69fbb0af-86ea-4f0d-9236-bdefe5a76796",
   "metadata": {},
   "outputs": [],
   "source": [
    "effect_size = np.linspace(0.1, 1, 121)\n",
    "n=10\n",
    "\n",
    "x_1 = np.array([stats.norm(e, 1).rvs(n) for e in effect_size])\n",
    "x_2 = stats.norm(0, 1).rvs(effect_size.shape+(n,))\n",
    "x_3 = stats.norm(0, 1).rvs(effect_size.shape+(n,))\n",
    "\n",
    "x_i_j_k = np.array([x_1, x_2, x_3])\n",
    "\n",
    "run_experiment(effect_size, x_i_j_k, 'Normal vs. Normal')"
   ]
  },
  {
   "cell_type": "markdown",
   "id": "acf66d6f-ad9e-419a-9338-f90583b71ee2",
   "metadata": {},
   "source": [
    "#### N=4"
   ]
  },
  {
   "cell_type": "code",
   "execution_count": null,
   "id": "f749a1ed-9f99-4470-b03f-c3052c137d68",
   "metadata": {},
   "outputs": [],
   "source": [
    "effect_size = np.linspace(0.1, 1, 121)\n",
    "n=4\n",
    "\n",
    "x_1 = np.array([stats.norm(e, 1).rvs(n) for e in effect_size])\n",
    "x_2 = stats.norm(0, 1).rvs(effect_size.shape+(n,))\n",
    "x_3 = stats.norm(0, 1).rvs(effect_size.shape+(n,))\n",
    "\n",
    "x_i_j_k = np.array([x_1, x_2, x_3])\n",
    "\n",
    "run_experiment(effect_size, x_i_j_k, 'Normal vs. Normal')"
   ]
  },
  {
   "cell_type": "markdown",
   "id": "b9d68679-894c-406a-9567-7c866b5f8463",
   "metadata": {},
   "source": [
    "#### $\\mu_N$=2, N=121"
   ]
  },
  {
   "cell_type": "code",
   "execution_count": null,
   "id": "9742fc2f-6997-4cb3-9be6-881ded715a37",
   "metadata": {},
   "outputs": [],
   "source": [
    "effect_size = np.linspace(0.1, 2.0, 121)\n",
    "n=100\n",
    "\n",
    "x_1 = np.array([stats.norm(e, 1).rvs(n) for e in effect_size])\n",
    "x_2 = stats.norm(0, 1).rvs(effect_size.shape+(n,))\n",
    "x_3 = stats.norm(0, 1).rvs(effect_size.shape+(n,))\n",
    "\n",
    "x_i_j_k = np.array([x_1, x_2, x_3])\n",
    "\n",
    "run_experiment(effect_size, x_i_j_k, 'Normal vs. Normal')"
   ]
  },
  {
   "cell_type": "markdown",
   "id": "88b6bbdb-adb7-48b4-954d-4bdd8164c234",
   "metadata": {},
   "source": [
    "#### $\\mu_N$=2, N=300"
   ]
  },
  {
   "cell_type": "code",
   "execution_count": null,
   "id": "418cbc70-49fa-4a85-a7ee-e638f042489a",
   "metadata": {},
   "outputs": [],
   "source": [
    "effect_size = np.linspace(0.1, 2.0, 300)\n",
    "n=100\n",
    "\n",
    "x_1 = np.array([stats.norm(e, 1).rvs(n) for e in effect_size])\n",
    "x_2 = stats.norm(0, 1).rvs(effect_size.shape+(n,))\n",
    "x_3 = stats.norm(0, 1).rvs(effect_size.shape+(n,))\n",
    "\n",
    "x_i_j_k = np.array([x_1, x_2, x_3])\n",
    "\n",
    "run_experiment(effect_size, x_i_j_k, 'Normal vs. Normal')"
   ]
  },
  {
   "cell_type": "markdown",
   "id": "090ca49e-60b4-4f35-b464-97f08093dcbc",
   "metadata": {},
   "source": [
    "#### $\\mu_N$=5, N=1000"
   ]
  },
  {
   "cell_type": "code",
   "execution_count": null,
   "id": "10355b56-4268-4351-8bf0-20d6b16567fc",
   "metadata": {},
   "outputs": [],
   "source": [
    "effect_size = np.linspace(0.1, 5.0, 1000)\n",
    "n=100\n",
    "\n",
    "x_1 = np.array([stats.norm(e, 1).rvs(n) for e in effect_size])\n",
    "x_2 = stats.norm(0, 1).rvs(effect_size.shape+(n,))\n",
    "x_3 = stats.norm(0, 1).rvs(effect_size.shape+(n,))\n",
    "\n",
    "x_i_j_k = np.array([x_1, x_2, x_3])\n",
    "\n",
    "run_experiment(effect_size, x_i_j_k, 'Normal vs. Normal')"
   ]
  },
  {
   "cell_type": "code",
   "execution_count": null,
   "id": "557e25a9-de79-4041-a1b2-79edef3e9d2c",
   "metadata": {},
   "outputs": [],
   "source": []
  }
 ],
 "metadata": {
  "kernelspec": {
   "display_name": "Python 3 (ipykernel)",
   "language": "python",
   "name": "python3"
  },
  "language_info": {
   "codemirror_mode": {
    "name": "ipython",
    "version": 3
   },
   "file_extension": ".py",
   "mimetype": "text/x-python",
   "name": "python",
   "nbconvert_exporter": "python",
   "pygments_lexer": "ipython3",
   "version": "3.9.7"
  }
 },
 "nbformat": 4,
 "nbformat_minor": 5
}
