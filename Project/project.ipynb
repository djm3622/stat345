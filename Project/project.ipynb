{
 "cells": [
  {
   "cell_type": "markdown",
   "id": "461c21ca-8902-4d81-b954-de7fa4ed6a96",
   "metadata": {},
   "source": [
    "# Project\n",
    "\n",
    "...\n",
    "\n",
    "## Details\n",
    "\n",
    "...\n",
    "\n",
    "## Implementation\n",
    "\n",
    "..."
   ]
  },
  {
   "cell_type": "code",
   "execution_count": 1,
   "id": "d7f4f9ce-90c8-4e3b-9bea-b5877328d21e",
   "metadata": {},
   "outputs": [],
   "source": [
    "%matplotlib inline"
   ]
  },
  {
   "cell_type": "code",
   "execution_count": 2,
   "id": "7dd3bf05-d8b1-48b6-9b9f-49b20a7d09a2",
   "metadata": {},
   "outputs": [],
   "source": [
    "import numpy as np\n",
    "from scipy import stats\n",
    "import matplotlib.pyplot as plt\n",
    "import itertools\n",
    "from sklearn.metrics import roc_curve, auc\n",
    "plt.rcParams['figure.figsize'] = (8.0,5.0)\n",
    "plt.rcParams['font.size'] = 14"
   ]
  },
  {
   "cell_type": "code",
   "execution_count": 3,
   "id": "d57737fe-046b-4ca7-add7-65360ef8885b",
   "metadata": {},
   "outputs": [],
   "source": [
    "def i_m_test(x_i_j):\n",
    "    T_i = stats.rankdata(x_i_j, axis=0)-1\n",
    "    T_v = np.sum(T_i, axis=1)\n",
    "    \n",
    "    N = x_i_j.shape[1]\n",
    "    k = T_i.shape[0]\n",
    "    \n",
    "    mu = N*(k-1) / 2\n",
    "    var = N*(k**2 -1) / 12\n",
    "    \n",
    "    T = np.sum((T_v - mu)**2 / var)\n",
    "    \n",
    "    return stats.chi2(df=k-1).sf(T)"
   ]
  },
  {
   "cell_type": "markdown",
   "id": "8862f883-e70f-4aa3-81e6-209f0fcd26ba",
   "metadata": {},
   "source": [
    "## Comparison (Kruskal-Wallis)\n",
    "\n",
    "..."
   ]
  },
  {
   "cell_type": "code",
   "execution_count": 4,
   "id": "e5299db1-8121-435b-a364-5f8f42da83bd",
   "metadata": {},
   "outputs": [],
   "source": [
    "def get_friedman(X_ij):\n",
    "    b, k = np.shape(X_ij)\n",
    "    \n",
    "    R_ij = stats.rankdata(X_ij,axis=-1)\n",
    "    R_j = np.sum(R_ij,axis=0)\n",
    "    \n",
    "    T1 = (12/(b*k*(k+1)))*np.sum((R_j-0.5*b*(k+1))**2)\n",
    "    p = stats.chi2(df=k-1).sf(T1)\n",
    "    \n",
    "    return p"
   ]
  },
  {
   "cell_type": "markdown",
   "id": "0d4847ab-3e00-497a-a18d-cf915c17eb64",
   "metadata": {},
   "source": [
    "## Example Comparison\n",
    "\n",
    "..."
   ]
  },
  {
   "cell_type": "code",
   "execution_count": 5,
   "id": "b9d87f55-1a87-4ff3-b6cb-470cb4f9f56f",
   "metadata": {},
   "outputs": [],
   "source": [
    "x_i_j = np.array([\n",
    "    np.array([ 14.97,   5.80,  25.03,   5.50 ]),\n",
    "    np.array([  5.83,  13.96,  21.96,   55.51 ]),\n",
    "    np.array([ 17.89,  23.03,  61.09,   18.62 ])\n",
    "])"
   ]
  },
  {
   "cell_type": "code",
   "execution_count": 6,
   "id": "23b844fd-5bff-434a-ad38-1303ce06c282",
   "metadata": {},
   "outputs": [
    {
     "data": {
      "text/plain": [
       "0.28388613075982716"
      ]
     },
     "execution_count": 6,
     "metadata": {},
     "output_type": "execute_result"
    }
   ],
   "source": [
    "get_friedman(x_i_j)"
   ]
  },
  {
   "cell_type": "code",
   "execution_count": 7,
   "id": "0c42997a-899f-4be3-b06d-7bf6eaf0afec",
   "metadata": {},
   "outputs": [
    {
     "data": {
      "text/plain": [
       "0.07243975703425146"
      ]
     },
     "execution_count": 7,
     "metadata": {},
     "output_type": "execute_result"
    }
   ],
   "source": [
    "i_m_test(x_i_j)"
   ]
  },
  {
   "cell_type": "markdown",
   "id": "986b00ad-edbe-4c61-9952-86a5be922007",
   "metadata": {},
   "source": [
    "## Experiments\n",
    "\n",
    "..."
   ]
  },
  {
   "cell_type": "code",
   "execution_count": 9,
   "id": "7d1bea84-434f-4b0f-912b-09893734f54e",
   "metadata": {},
   "outputs": [],
   "source": [
    "def run_experiment(\n",
    "    effect_size, x_i_j_k, title,\n",
    "    n_trials=1000, alpha=0.05, alt='norm'\n",
    "):\n",
    "    ks_power = []\n",
    "    im_power = []\n",
    "\n",
    "    all_ks_pvals_null = []\n",
    "    all_im_pvals_null = []\n",
    "    all_ks_pvals_alt = []\n",
    "    all_im_pvals_alt = []\n",
    "\n",
    "    for e in effect_size:\n",
    "        ks_rejects = 0\n",
    "        im_rejects = 0\n",
    "\n",
    "        ks_pvals_null = []\n",
    "        im_pvals_null = []\n",
    "        ks_pvals_alt = []\n",
    "        im_pvals_alt = []\n",
    "\n",
    "        for _ in range(n_trials):\n",
    "            x_1_null = stats.norm(0, 1).rvs(10)  # null\n",
    "            x_2_null = stats.norm(0, 1).rvs(10)\n",
    "            x_3_null = stats.norm(0, 1).rvs(10)\n",
    "            x_null = np.array([x_1_null, x_2_null, x_3_null])\n",
    "\n",
    "            ks_pvals_null.append(get_friedman(x_null))\n",
    "            im_pvals_null.append(i_m_test(x_null))\n",
    "\n",
    "            if alt == 'norm':\n",
    "                x_1_alt = stats.norm(e, 1).rvs(10)  # alt\n",
    "            elif alt == 'laplace':\n",
    "                x_1_alt = stats.laplace(e, 1).rvs(10)\n",
    "            elif alt == 'cauchy':\n",
    "                x_1_alt = stats.cauchy(e, 1).rvs(10)\n",
    "            else:\n",
    "                print(\"Not supported.\")\n",
    "                return None\n",
    "            x_2_alt = stats.norm(0, 1).rvs(10)\n",
    "            x_3_alt = stats.norm(0, 1).rvs(10)\n",
    "            x_alt = np.array([x_1_alt, x_2_alt, x_3_alt])\n",
    "\n",
    "            ks_p = get_friedman(x_alt)\n",
    "            im_p = i_m_test(x_alt)\n",
    "\n",
    "            ks_pvals_alt.append(ks_p)\n",
    "            im_pvals_alt.append(im_p)\n",
    "\n",
    "            if ks_p < alpha:\n",
    "                ks_rejects += 1\n",
    "            if im_p < alpha:\n",
    "                im_rejects += 1\n",
    "\n",
    "        ks_power.append(ks_rejects / n_trials)\n",
    "        im_power.append(im_rejects / n_trials)\n",
    "\n",
    "        all_ks_pvals_null.extend(ks_pvals_null)\n",
    "        all_im_pvals_null.extend(im_pvals_null)\n",
    "        all_ks_pvals_alt.extend(ks_pvals_alt)\n",
    "        all_im_pvals_alt.extend(im_pvals_alt)\n",
    "\n",
    "    plt.figure(figsize=(8, 4))\n",
    "    plt.plot(effect_size, ks_power, label='Freidman Test')\n",
    "    plt.plot(effect_size, im_power, label='IM Test')\n",
    "    plt.xlabel(\"Effect Size\")\n",
    "    plt.ylabel(\"Power\")\n",
    "    plt.title(f'{title} | Power Curve')\n",
    "    plt.legend()\n",
    "    plt.grid(True)\n",
    "    plt.show()\n",
    "\n",
    "    labels = np.array([0]*len(all_ks_pvals_null) + [1]*len(all_ks_pvals_alt))\n",
    "\n",
    "    scores_ks = 1 - np.array(all_ks_pvals_null + all_ks_pvals_alt)\n",
    "    fpr_ks, tpr_ks, _ = roc_curve(labels, scores_ks)\n",
    "    auc_ks = auc(fpr_ks, tpr_ks)\n",
    "\n",
    "    scores_im = 1 - np.array(all_im_pvals_null + all_im_pvals_alt)\n",
    "    fpr_im, tpr_im, _ = roc_curve(labels, scores_im)\n",
    "    auc_im = auc(fpr_im, tpr_im)\n",
    "\n",
    "    plt.figure(figsize=(8, 5))\n",
    "    plt.plot(fpr_ks, tpr_ks, label=f\"Freidman Test (AUC = {auc_ks:.2f})\")\n",
    "    plt.plot(fpr_im, tpr_im, label=f\"IM Test (AUC = {auc_im:.2f})\")\n",
    "    plt.plot([0, 1], [0, 1], 'k--', label='Random Guess')\n",
    "    plt.xlabel(\"False Positive Rate\")\n",
    "    plt.ylabel(\"True Positive Rate\")\n",
    "    plt.title(f'{title} | ROC Curve')\n",
    "    plt.legend()\n",
    "    plt.grid(True)\n",
    "    plt.show()"
   ]
  },
  {
   "cell_type": "markdown",
   "id": "efecebb4-14c4-436d-a95e-652d2a7356e6",
   "metadata": {},
   "source": [
    "### 01 | Normal vs. Normal \n",
    "\n",
    "..."
   ]
  },
  {
   "cell_type": "markdown",
   "id": "aa2d6b93-1c9b-4e67-b281-57c91b9cd41e",
   "metadata": {},
   "source": [
    "#### N=100"
   ]
  },
  {
   "cell_type": "code",
   "execution_count": null,
   "id": "4dd01c3b-b4e3-4a46-a77e-f08466ec8ee9",
   "metadata": {
    "tags": []
   },
   "outputs": [],
   "source": [
    "effect_size = np.linspace(0.1, 1, 121)\n",
    "n=4\n",
    "\n",
    "x_1 = np.array([stats.norm(e, 1).rvs(n) for e in effect_size])\n",
    "x_2 = stats.norm(0, 1).rvs(effect_size.shape+(n,))\n",
    "x_3 = stats.norm(0, 1).rvs(effect_size.shape+(n,))\n",
    "\n",
    "x_i_j_k = np.array([x_1, x_2, x_3])\n",
    "\n",
    "run_experiment(effect_size, x_i_j_k, 'Normal vs. Normal')"
   ]
  },
  {
   "cell_type": "markdown",
   "id": "88b6bbdb-adb7-48b4-954d-4bdd8164c234",
   "metadata": {},
   "source": [
    "#### $\\mu_N$=2, L=300"
   ]
  },
  {
   "cell_type": "code",
   "execution_count": null,
   "id": "418cbc70-49fa-4a85-a7ee-e638f042489a",
   "metadata": {},
   "outputs": [],
   "source": [
    "effect_size = np.linspace(0.1, 2.0, 300)\n",
    "n=4\n",
    "\n",
    "x_1 = np.array([stats.norm(e, 1).rvs(n) for e in effect_size])\n",
    "x_2 = stats.norm(0, 1).rvs(effect_size.shape+(n,))\n",
    "x_3 = stats.norm(0, 1).rvs(effect_size.shape+(n,))\n",
    "\n",
    "x_i_j_k = np.array([x_1, x_2, x_3])\n",
    "\n",
    "run_experiment(effect_size, x_i_j_k, 'Normal vs. Normal')"
   ]
  },
  {
   "cell_type": "markdown",
   "id": "292985ed-db17-46aa-a5b4-854b96294471",
   "metadata": {},
   "source": [
    "### 02 | Laplace vs. Normal \n",
    "\n",
    "..."
   ]
  },
  {
   "cell_type": "markdown",
   "id": "ff09f6dd-f70e-4437-9135-deeb0f566b6b",
   "metadata": {},
   "source": [
    "#### N=4"
   ]
  },
  {
   "cell_type": "code",
   "execution_count": null,
   "id": "cf964081-f8db-4dc4-ad11-28fb5c4f0730",
   "metadata": {
    "tags": []
   },
   "outputs": [],
   "source": [
    "effect_size = np.linspace(0.1, 1, 121)\n",
    "n=4\n",
    "\n",
    "x_1 = np.array([stats.laplace(e, 1).rvs(n) for e in effect_size])\n",
    "x_2 = stats.norm(0, 1).rvs(effect_size.shape+(n,))\n",
    "x_3 = stats.norm(0, 1).rvs(effect_size.shape+(n,))\n",
    "\n",
    "x_i_j_k = np.array([x_1, x_2, x_3])\n",
    "\n",
    "run_experiment(effect_size, x_i_j_k, 'Laplace vs. Normal', alt='laplace')"
   ]
  },
  {
   "cell_type": "markdown",
   "id": "9218bdc8-746d-41f4-964a-c2c103e4892f",
   "metadata": {},
   "source": [
    "#### $\\mu_N$=2, L=300"
   ]
  },
  {
   "cell_type": "code",
   "execution_count": null,
   "id": "9d1c1cd6-f1dd-4651-943a-17e203f6fdca",
   "metadata": {},
   "outputs": [],
   "source": [
    "effect_size = np.linspace(0.1, 2.0, 300)\n",
    "n=4\n",
    "\n",
    "x_1 = np.array([stats.laplace(e, 1).rvs(n) for e in effect_size])\n",
    "x_2 = stats.norm(0, 1).rvs(effect_size.shape+(n,))\n",
    "x_3 = stats.norm(0, 1).rvs(effect_size.shape+(n,))\n",
    "\n",
    "x_i_j_k = np.array([x_1, x_2, x_3])\n",
    "\n",
    "run_experiment(effect_size, x_i_j_k, 'Laplace vs. Normal', alt='laplace')"
   ]
  },
  {
   "cell_type": "markdown",
   "id": "928e55f9-3311-4774-970e-b36b0a285b54",
   "metadata": {},
   "source": [
    "### 03 | Cauchy vs. Normal \n",
    "\n",
    "..."
   ]
  },
  {
   "cell_type": "markdown",
   "id": "b72fb6fb-ac38-4fb1-a58b-4feabd29adf9",
   "metadata": {},
   "source": [
    "#### N=4"
   ]
  },
  {
   "cell_type": "code",
   "execution_count": null,
   "id": "faaac23b-e876-4fa0-bad2-c666ac3ce065",
   "metadata": {},
   "outputs": [],
   "source": [
    "effect_size = np.linspace(0.1, 1, 121)\n",
    "n=4\n",
    "\n",
    "x_1 = np.array([stats.cauchy(e, 1).rvs(n) for e in effect_size])\n",
    "x_2 = stats.norm(0, 1).rvs(effect_size.shape+(n,))\n",
    "x_3 = stats.norm(0, 1).rvs(effect_size.shape+(n,))\n",
    "\n",
    "x_i_j_k = np.array([x_1, x_2, x_3])\n",
    "\n",
    "run_experiment(effect_size, x_i_j_k, 'Cauchy vs. Normal', alt='cauchy')"
   ]
  },
  {
   "cell_type": "markdown",
   "id": "be66bc6b-5e98-483a-9401-f5d41e6663f7",
   "metadata": {},
   "source": [
    "#### $\\mu_N$=5, L=1000"
   ]
  },
  {
   "cell_type": "code",
   "execution_count": null,
   "id": "aa4bd0e6-5b5f-4503-b339-e5530a0b063f",
   "metadata": {},
   "outputs": [],
   "source": [
    "effect_size = np.linspace(0.1, 5.0, 1000)\n",
    "n=4\n",
    "\n",
    "x_1 = np.array([stats.cauchy(e, 1).rvs(n) for e in effect_size])\n",
    "x_2 = stats.norm(0, 1).rvs(effect_size.shape+(n,))\n",
    "x_3 = stats.norm(0, 1).rvs(effect_size.shape+(n,))\n",
    "\n",
    "x_i_j_k = np.array([x_1, x_2, x_3])\n",
    "\n",
    "run_experiment(effect_size, x_i_j_k, 'Cauchy vs. Normal', alt='cauchy')"
   ]
  },
  {
   "cell_type": "markdown",
   "id": "e1f74f5f-39a8-4f1b-be19-4d8ab6ce1fb4",
   "metadata": {},
   "source": [
    "### 04 | Higher Variance\n",
    "\n",
    "..."
   ]
  },
  {
   "cell_type": "code",
   "execution_count": 15,
   "id": "fe33f081-a179-4fcb-9d74-49ac203a26ec",
   "metadata": {},
   "outputs": [],
   "source": [
    "def run_experiment_variance(\n",
    "    effect_size, x_i_j_k, title,\n",
    "    n_trials=1000, alpha=0.05, alt='norm'\n",
    "):\n",
    "    ks_power = []\n",
    "    im_power = []\n",
    "\n",
    "    all_ks_pvals_null = []\n",
    "    all_im_pvals_null = []\n",
    "    all_ks_pvals_alt = []\n",
    "    all_im_pvals_alt = []\n",
    "\n",
    "    for e in effect_size:\n",
    "        ks_rejects = 0\n",
    "        im_rejects = 0\n",
    "\n",
    "        ks_pvals_null = []\n",
    "        im_pvals_null = []\n",
    "        ks_pvals_alt = []\n",
    "        im_pvals_alt = []\n",
    "\n",
    "        for _ in range(n_trials):\n",
    "            x_1_null = stats.norm(0, 1).rvs(100)  # null\n",
    "            x_2_null = stats.norm(0, 1).rvs(100)\n",
    "            x_3_null = stats.norm(0, 1).rvs(100)\n",
    "            x_null = np.array([x_1_null, x_2_null, x_3_null])\n",
    "\n",
    "            ks_pvals_null.append(kruskal_wallis(x_null))\n",
    "            im_pvals_null.append(i_m_test(x_null))\n",
    "\n",
    "            if alt == 'norm':\n",
    "                x_1_alt = stats.norm(0, e).rvs(100)  # alt\n",
    "            elif alt == 'laplace':\n",
    "                x_1_alt = stats.laplace(0, e).rvs(100)\n",
    "            elif alt == 'cauchy':\n",
    "                x_1_alt = stats.cauchy(0, e).rvs(100)\n",
    "            else:\n",
    "                print(\"Not supported.\")\n",
    "                return None\n",
    "            x_2_alt = stats.norm(0, 1).rvs(100)\n",
    "            x_3_alt = stats.norm(0, 1).rvs(100)\n",
    "            x_alt = np.array([x_1_alt, x_2_alt, x_3_alt])\n",
    "\n",
    "            ks_p = kruskal_wallis(x_alt)\n",
    "            im_p = i_m_test(x_alt)\n",
    "\n",
    "            ks_pvals_alt.append(ks_p)\n",
    "            im_pvals_alt.append(im_p)\n",
    "\n",
    "            if ks_p < alpha:\n",
    "                ks_rejects += 1\n",
    "            if im_p < alpha:\n",
    "                im_rejects += 1\n",
    "\n",
    "        ks_power.append(ks_rejects / n_trials)\n",
    "        im_power.append(im_rejects / n_trials)\n",
    "\n",
    "        all_ks_pvals_null.extend(ks_pvals_null)\n",
    "        all_im_pvals_null.extend(im_pvals_null)\n",
    "        all_ks_pvals_alt.extend(ks_pvals_alt)\n",
    "        all_im_pvals_alt.extend(im_pvals_alt)\n",
    "\n",
    "    plt.figure(figsize=(8, 4))\n",
    "    plt.plot(effect_size, ks_power, label='Kruskal-Wallis')\n",
    "    plt.plot(effect_size, im_power, label='IM Test')\n",
    "    plt.xlabel(\"Effect Size\")\n",
    "    plt.ylabel(\"Power\")\n",
    "    plt.title(f'{title} | Power Curve')\n",
    "    plt.legend()\n",
    "    plt.grid(True)\n",
    "    plt.show()\n",
    "\n",
    "    labels = np.array([0]*len(all_ks_pvals_null) + [1]*len(all_ks_pvals_alt))\n",
    "\n",
    "    scores_ks = 1 - np.array(all_ks_pvals_null + all_ks_pvals_alt)\n",
    "    fpr_ks, tpr_ks, _ = roc_curve(labels, scores_ks)\n",
    "    auc_ks = auc(fpr_ks, tpr_ks)\n",
    "\n",
    "    scores_im = 1 - np.array(all_im_pvals_null + all_im_pvals_alt)\n",
    "    fpr_im, tpr_im, _ = roc_curve(labels, scores_im)\n",
    "    auc_im = auc(fpr_im, tpr_im)\n",
    "\n",
    "    plt.figure(figsize=(8, 5))\n",
    "    plt.plot(fpr_ks, tpr_ks, label=f\"Kruskal-Wallis (AUC = {auc_ks:.2f})\")\n",
    "    plt.plot(fpr_im, tpr_im, label=f\"IM Test (AUC = {auc_im:.2f})\")\n",
    "    plt.plot([0, 1], [0, 1], 'k--', label='Random Guess')\n",
    "    plt.xlabel(\"False Positive Rate\")\n",
    "    plt.ylabel(\"True Positive Rate\")\n",
    "    plt.title(f'{title} | ROC Curve')\n",
    "    plt.legend()\n",
    "    plt.grid(True)\n",
    "    plt.show()"
   ]
  },
  {
   "cell_type": "markdown",
   "id": "74727d08-d37f-4a9b-8537-e69b3c7fd500",
   "metadata": {},
   "source": [
    "### Real-World Example\n",
    "\n",
    "..."
   ]
  },
  {
   "cell_type": "code",
   "execution_count": null,
   "id": "3d580d31-4ca8-4958-97f8-fe17a6bbea7e",
   "metadata": {},
   "outputs": [],
   "source": [
    "x_i_j = np.array([\n",
    "    [2.1, 2.4, 6.8],\n",
    "    [1.9, 2.2, 5.1],\n",
    "    [2.0, 2.1, 3.0],\n",
    "    [2.2, 2.5, 10.8],\n",
    "    [2.0, 2.3, 4.5]\n",
    "])"
   ]
  },
  {
   "cell_type": "code",
   "execution_count": null,
   "id": "e8e68559-02b7-4008-ad22-f4d2913348b1",
   "metadata": {},
   "outputs": [],
   "source": [
    "print(f'Friedman: {get_friedman(x_i_j)}, IM: {i_m_test(x_i_j)}')"
   ]
  },
  {
   "cell_type": "code",
   "execution_count": null,
   "id": "4aa69c12-c1cd-42f6-9128-2e5da5933117",
   "metadata": {},
   "outputs": [],
   "source": []
  }
 ],
 "metadata": {
  "kernelspec": {
   "display_name": "Python 3 (ipykernel)",
   "language": "python",
   "name": "python3"
  },
  "language_info": {
   "codemirror_mode": {
    "name": "ipython",
    "version": 3
   },
   "file_extension": ".py",
   "mimetype": "text/x-python",
   "name": "python",
   "nbconvert_exporter": "python",
   "pygments_lexer": "ipython3",
   "version": "3.9.7"
  }
 },
 "nbformat": 4,
 "nbformat_minor": 5
}
