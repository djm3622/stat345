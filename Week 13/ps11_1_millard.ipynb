{
 "cells": [
  {
   "cell_type": "markdown",
   "metadata": {},
   "source": [
    "# Problem Set 11, Part One: Due Thursday, April 24 by 8am Eastern Daylight Time"
   ]
  },
  {
   "cell_type": "markdown",
   "metadata": {},
   "source": [
    "## Name: David Millard"
   ]
  },
  {
   "cell_type": "markdown",
   "metadata": {},
   "source": [
    "**Show your work on all problems!** Be sure to give credit to any\n",
    "collaborators, or outside sources used in solving the problems. Note\n",
    "that if using an outside source to do a calculation, you should use it\n",
    "as a reference for the method, and actually carry out the calculation\n",
    "yourself; it’s not sufficient to quote the results of a calculation\n",
    "contained in an outside source."
   ]
  },
  {
   "cell_type": "markdown",
   "metadata": {},
   "source": [
    "Fill in your solutions in the notebook below, inserting markdown and/or code cells as needed.  Try to do reasonably well with the typesetting, but don't feel compelled to replicate my formatting exactly.  **You do NOT need to make random variables blue!**"
   ]
  },
  {
   "cell_type": "code",
   "execution_count": 1,
   "metadata": {},
   "outputs": [],
   "source": [
    "%matplotlib inline"
   ]
  },
  {
   "cell_type": "code",
   "execution_count": 2,
   "metadata": {},
   "outputs": [],
   "source": [
    "import numpy as np\n",
    "from scipy import stats\n",
    "import matplotlib.pyplot as plt\n",
    "plt.rcParams['figure.figsize'] = (8.0,5.0)\n",
    "plt.rcParams['font.size'] = 14"
   ]
  },
  {
   "cell_type": "markdown",
   "metadata": {},
   "source": [
    "## Conover Problems on Cochran’s $Q$ Test"
   ]
  },
  {
   "cell_type": "markdown",
   "metadata": {},
   "source": [
    "#### Exercise 4.6.1:"
   ]
  },
  {
   "cell_type": "markdown",
   "metadata": {},
   "source": [
    "The relative effectiveness of two different sales techniques was tested\n",
    "on 12 volunteer housewives. Each housewife was exposed to each sales\n",
    "technique and asked to buy a certain product, the same product in all\n",
    "cases. At the end of each exposure, each housewife rated the technique\n",
    "with a 1 if she felt she would have agreed to buy the product and a 0 if\n",
    "she probably would not have bought the product."
   ]
  },
  {
   "cell_type": "markdown",
   "metadata": {},
   "source": [
    "|               |   |   |   |   |   |   |   |   |   |   |   |   |\n",
    "| ------------- | - | - | - | - | - | - | - | - | - | - | - | - |                                             \n",
    "| *Technique 1* | 1 | 1 | 1 | 1 | 1 | 0 | 0 | 0 | 1 | 1 | 0 | 1 |\n",
    "| *Technique 2* | 0 | 1 | 1 | 0 | 0 | 0 | 0 | 0 | 1 | 0 | 0 | 1 |"
   ]
  },
  {
   "cell_type": "markdown",
   "metadata": {},
   "source": [
    "**(a)** Use Cochran’s Test."
   ]
  },
  {
   "cell_type": "markdown",
   "metadata": {},
   "source": [
    "$H_0$: $p_1 = p_2$\n",
    "\n",
    "$H_1$: At least one $p_i$ differs.\n",
    "\n",
    "$Q = 4.0$\n",
    "\n",
    "$p$-value = $0.0455$\n",
    "\n",
    "Since $0.0455 < 0.05$, we reject $H_0$."
   ]
  },
  {
   "cell_type": "code",
   "execution_count": 4,
   "metadata": {},
   "outputs": [
    {
     "data": {
      "text/plain": [
       "(12, 2)"
      ]
     },
     "execution_count": 4,
     "metadata": {},
     "output_type": "execute_result"
    }
   ],
   "source": [
    "X_ij = np.array([\n",
    "    [1, 1, 1, 1, 1, 0, 0, 0, 1, 1, 0, 1],\n",
    "    [0, 1, 1, 0, 0, 0, 0, 0, 1, 0, 0, 1]\n",
    "]).T\n",
    "\n",
    "r,c = X_ij.shape; r, c"
   ]
  },
  {
   "cell_type": "code",
   "execution_count": 5,
   "metadata": {},
   "outputs": [],
   "source": [
    "r_i = X_ij.sum(axis=-1)\n",
    "c_j = X_ij.sum(axis=0)\n",
    "N = np.sum(X_ij)"
   ]
  },
  {
   "cell_type": "code",
   "execution_count": 7,
   "metadata": {},
   "outputs": [
    {
     "name": "stdout",
     "output_type": "stream",
     "text": [
      "4.0 0.04550026389635857\n"
     ]
    }
   ],
   "source": [
    "Q = c*(c-1)*np.sum((c_j-N/c)**2)/np.sum(r_i*(c-r_i))\n",
    "\n",
    "p = stats.chi2(df=c-1).sf(Q)\n",
    "\n",
    "print(Q, p)"
   ]
  },
  {
   "cell_type": "markdown",
   "metadata": {},
   "source": [
    "**(b)** Rearrange the data and use McNemar’s test in the large sample form\n",
    "suggested by Equation 3.5.1."
   ]
  },
  {
   "cell_type": "markdown",
   "metadata": {},
   "source": [
    "$H_0$: $p_1 = p_2$\n",
    "\n",
    "$H_1$: At least one $p_i$ differs.\n",
    "\n",
    "$Q = 4.0$\n",
    "\n",
    "$p$-value = $0.0455$\n",
    "\n",
    "Since $0.0455 < 0.05$, we reject $H_0$."
   ]
  },
  {
   "cell_type": "code",
   "execution_count": 17,
   "metadata": {},
   "outputs": [],
   "source": [
    "myX_ij = X_ij\n",
    "myr,myc = myX_ij.shape\n",
    "\n",
    "myr_i = myX_ij.sum(axis=-1)\n",
    "myc_j = myX_ij.sum(axis=0)\n",
    "myN=np.sum(myX_ij)"
   ]
  },
  {
   "cell_type": "code",
   "execution_count": 18,
   "metadata": {},
   "outputs": [],
   "source": [
    "thisa = np.sum((1-myX_ij[:,0]) * (1-myX_ij[:,1]))\n",
    "thisb = np.sum((1-myX_ij[:,0]) * myX_ij[:,1])\n",
    "thisc = np.sum(myX_ij[:,0] * (1-myX_ij[:,1])) \n",
    "thisd = np.sum(myX_ij[:,0] * myX_ij[:,1])"
   ]
  },
  {
   "cell_type": "code",
   "execution_count": 19,
   "metadata": {},
   "outputs": [
    {
     "name": "stdout",
     "output_type": "stream",
     "text": [
      "4.0 0.04550026389635857\n"
     ]
    }
   ],
   "source": [
    "thisT = (thisb-thisc)**2/(thisb+thisc)\n",
    "\n",
    "p = stats.chi2(df=c-1).sf(Q)\n",
    "\n",
    "print(thisT, p)"
   ]
  },
  {
   "cell_type": "markdown",
   "metadata": {},
   "source": [
    "**(c)** Ignore the blocking effect in this experiement and treat the data as if\n",
    "24 different housewives were used. Analyze the data using the test for\n",
    "differences in probabilities given in Section 4.1. Compare with\n",
    "Cochran’s test and discuss."
   ]
  },
  {
   "cell_type": "markdown",
   "metadata": {},
   "source": [
    "$H_0$: $p_1 = p_2$\n",
    "\n",
    "$H_1$: At least one $p_i$ differs.\n",
    "\n",
    "$T = 2.666$\n",
    "\n",
    "$p$-value = $0.1024$\n",
    "\n",
    "Since $0.1024 > 0.05$, we fail to reject $H_0$."
   ]
  },
  {
   "cell_type": "code",
   "execution_count": 20,
   "metadata": {},
   "outputs": [
    {
     "name": "stdout",
     "output_type": "stream",
     "text": [
      "[8 4] 6.0 [4 8] 6.0\n"
     ]
    }
   ],
   "source": [
    "myO1_j = myc_j\n",
    "myE1j = myN/myc\n",
    "myO2_j = myr - myc_j\n",
    "myE2j = myr-myN/myc\n",
    "\n",
    "print(myO1_j, myE1j, myO2_j, myE2j)"
   ]
  },
  {
   "cell_type": "code",
   "execution_count": 21,
   "metadata": {},
   "outputs": [
    {
     "name": "stdout",
     "output_type": "stream",
     "text": [
      "2.6666666666666665 0.10247043485974942\n"
     ]
    }
   ],
   "source": [
    "myT = np.sum((myO1_j-myE1j)**2/myE1j) + np.sum((myO1_j-myE1j)**2/myE1j)\n",
    "\n",
    "p = stats.chi2(df=myc-1).sf(myT)\n",
    "\n",
    "print(myT, p)"
   ]
  },
  {
   "cell_type": "markdown",
   "metadata": {},
   "source": [
    "#### Exercise 4.6.2:"
   ]
  },
  {
   "cell_type": "markdown",
   "metadata": {},
   "source": [
    "On a ship, 12 groups with three sailors in each group were chosen in a\n",
    "random manner, where the sailors in each group did similar work and were\n",
    "in the same division aboard the ship. In a random manner the sailors in\n",
    "each group were given treatment 1, 2, or 3, no two sailors from the same\n",
    "group receiving the same treatment. Treatment 1 was a “flu shot”,\n",
    "treatment 2 was a “flu pill”, and treatment 3 was a promise of 2 weeks\n",
    "extra leave if they did not catch the flu. As each sailor reported to\n",
    "sick bay with the flu, a report to the experimenter was made. At the end\n",
    "of the winter, these were the results."
   ]
  },
  {
   "cell_type": "markdown",
   "metadata": {},
   "source": [
    "| Group | Sailors with the Flu (by Treatment Number) |\n",
    "| ----: | :----------------------------------------- |\n",
    "|    1  | 2                                          |\n",
    "|    2  | 1, 2                                       |\n",
    "|    3  | 1, 2, 3                                    |\n",
    "|    4  | 2, 3                                       |\n",
    "|    5  | 2                                          |\n",
    "|    6  | None                                       |\n",
    "|    7  | 1, 2                                       |\n",
    "|    8  | 1, 2                                       |\n",
    "|    9  | 1                                          |\n",
    "|   10  | 2                                          |\n",
    "|   11  | 1, 2, 3                                    |\n",
    "|   12  | 2                                          |"
   ]
  },
  {
   "cell_type": "markdown",
   "metadata": {},
   "source": [
    "Do these results indicate significant difference between the various\n",
    "treatments? [compute a $p$-value]"
   ]
  },
  {
   "cell_type": "markdown",
   "metadata": {},
   "source": [
    "$H_0$: $p_1 = p_2 = p_3$\n",
    "\n",
    "$H_1$: At least one $p_i$ differs.\n",
    "\n",
    "$Q = 8.222$\n",
    "\n",
    "$p$-value = $0.0163$\n",
    "\n",
    "Since $0.0163 < 0.05$, we reject $H_0$."
   ]
  },
  {
   "cell_type": "code",
   "execution_count": 23,
   "metadata": {},
   "outputs": [
    {
     "data": {
      "text/plain": [
       "(12, 3)"
      ]
     },
     "execution_count": 23,
     "metadata": {},
     "output_type": "execute_result"
    }
   ],
   "source": [
    "X_ij = np.array([\n",
    "    [0, 1, 0], \n",
    "    [1, 1, 0], \n",
    "    [1, 1, 1], \n",
    "    [0, 1, 1], \n",
    "    [0, 1, 0], \n",
    "    [0, 0, 0], \n",
    "    [1, 1, 0], \n",
    "    [1, 1, 0], \n",
    "    [1, 0, 0], \n",
    "    [0, 1, 0], \n",
    "    [1, 1, 1], \n",
    "    [0, 1, 0], \n",
    "])\n",
    "r,c = X_ij.shape; r, c"
   ]
  },
  {
   "cell_type": "code",
   "execution_count": 24,
   "metadata": {},
   "outputs": [],
   "source": [
    "r_i = X_ij.sum(axis=-1)\n",
    "c_j = X_ij.sum(axis=0)\n",
    "N = np.sum(X_ij)"
   ]
  },
  {
   "cell_type": "code",
   "execution_count": 25,
   "metadata": {},
   "outputs": [
    {
     "name": "stdout",
     "output_type": "stream",
     "text": [
      "8.222222222222221 0.016389553790213608\n"
     ]
    }
   ],
   "source": [
    "Q = c*(c-1)*np.sum((c_j-N/c)**2)/np.sum(r_i*(c-r_i))\n",
    "\n",
    "p = stats.chi2(df=c-1).sf(Q)\n",
    "\n",
    "print(Q, p)"
   ]
  },
  {
   "cell_type": "markdown",
   "metadata": {},
   "source": [
    "#### Problem:"
   ]
  },
  {
   "cell_type": "markdown",
   "metadata": {},
   "source": [
    "If we define $K^{(i)}_j$ to be the rank within block $i$ of the response\n",
    "$X_{ij}$ to treatment $j$ (using $K^{(i)}_j$ rather than $R_{ij}$ to\n",
    "avoid notational confusion with the row sums in this chapter), the\n",
    "Friedman test statistic, adjusted for ties, can be written, in the\n",
    "present notation,\n",
    "$$T_1 = \\frac{\\sum_{j=1}^c \\left(K_j-\\frac{r(c+1)}{2}\\right)^2}\n",
    "  {\\frac{1}{c-1}\\sum_{i=1}^r\\sum_{j=1}^c \\left(K^{(i)}_j-\\frac{c+1}{2}\\right)^2}$$\n",
    "where $K_j=\\sum_{i=1}^r K^{(i)}_j$ is the rank-sum in column $j$."
   ]
  },
  {
   "cell_type": "markdown",
   "metadata": {},
   "source": [
    "**(a)** Work out expressions for the ranks $K^{(i)}(0)$ and $K^{(i)}(1)$ of $0$\n",
    "and $1$ responses within block $i$, which will depend on the row sum\n",
    "$R_i$, which is the total nunber of $1$ observations in row $i$."
   ]
  },
  {
   "cell_type": "markdown",
   "metadata": {},
   "source": [
    "\\begin{align}\n",
    "K^{(i)}(0) &= \\frac{c - R_i + 1}{2} \\\\\n",
    "K^{(i)}(1) &= \\frac{2c - R_i + 1}{2}\n",
    "\\end{align}"
   ]
  },
  {
   "cell_type": "markdown",
   "metadata": {},
   "source": [
    "**(b)** Use the expression $K^{(i)}_j=(1-X_{ij})K^{(i)}(0)+X_{ij}K^{(i)}(1)$ to\n",
    "work out the value of $K_j$."
   ]
  },
  {
   "cell_type": "markdown",
   "metadata": {},
   "source": [
    "\\begin{align}\n",
    "K_j &= \\sum_{i=1}^r K^{(i)}_j \\\\\n",
    "&= \\sum_{i=1}^r \\left[ (1 - X_{ij})K^{(i)}(0) + X_{ij}K^{(i)}(1) \\right] \\\\\n",
    "&= \\sum_{i=1}^r (1 - X_{ij})K^{(i)}(0) + \\sum_{i=1}^r X_{ij}K^{(i)}(1)\n",
    "\\end{align}\n"
   ]
  },
  {
   "cell_type": "markdown",
   "metadata": {},
   "source": [
    "**(c)** Show that the Friedman test statistic $T_1$ is equal to the Cochran $Q$\n",
    "statistic, and that therefore the Cochran test is equivalent to the\n",
    "Friedman test with ties applied to the $0$ and $1$ data."
   ]
  },
  {
   "cell_type": "markdown",
   "metadata": {},
   "source": [
    "\\begin{align}\n",
    "T_1 &= \\frac{\\sum_{j=1}^c \\left( K_j - \\frac{r(c+1)}{2} \\right)^2}\n",
    "{\\frac{1}{c-1} \\sum_{i=1}^r \\sum_{j=1}^c \\left( K^{(i)}_j - \\frac{c+1}{2} \\right)^2} \\\\\n",
    "&= \\frac{\\sum_{j=1}^c \\left( \\frac{c}{2} \\sum_{i=1}^r X_{ij} - \\left[ \\frac{r(c+1)}{2} - \\frac{1}{2} \\sum_{i=1}^r (c - R_i + 1) \\right] \\right)^2}\n",
    "{\\frac{1}{c-1} \\sum_{i=1}^r \\sum_{j=1}^c \\left( K^{(i)}_j - \\frac{c+1}{2} \\right)^2}\n",
    "\\end{align}\n",
    "\n"
   ]
  },
  {
   "cell_type": "code",
   "execution_count": null,
   "metadata": {},
   "outputs": [],
   "source": []
  }
 ],
 "metadata": {
  "kernelspec": {
   "display_name": "cse327python311",
   "language": "python",
   "name": "cse327python311"
  },
  "language_info": {
   "codemirror_mode": {
    "name": "ipython",
    "version": 3
   },
   "file_extension": ".py",
   "mimetype": "text/x-python",
   "name": "python",
   "nbconvert_exporter": "python",
   "pygments_lexer": "ipython3",
   "version": "3.11.11"
  }
 },
 "nbformat": 4,
 "nbformat_minor": 4
}
