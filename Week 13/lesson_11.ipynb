{
 "cells": [
  {
   "cell_type": "markdown",
   "id": "3e6f5841",
   "metadata": {
    "slideshow": {
     "slide_type": "slide"
    }
   },
   "source": [
    "# STAT 345: Nonparametric Statistics\n",
    "\n",
    "## Lesson 11.1: Cochran's $Q$ Test\n",
    "\n",
    "**Reading: Conover Section 4.6 & 3.5**\n",
    "\n",
    "*Guest Lecturer: Prof. Nonhle Channon Mdziniso*\n",
    "\n",
    "Thursday 17 April 2025"
   ]
  },
  {
   "cell_type": "markdown",
   "id": "755a84e8",
   "metadata": {
    "slideshow": {
     "slide_type": "slide"
    }
   },
   "source": [
    "These lecture slides are in a computational notebook.  You have access to them through http://vmware.rit.edu/"
   ]
  },
  {
   "cell_type": "markdown",
   "id": "d09c2df2",
   "metadata": {
    "slideshow": {
     "slide_type": "fragment"
    }
   },
   "source": [
    "Flat HTML and slideshow versions are also in MyCourses."
   ]
  },
  {
   "cell_type": "markdown",
   "id": "63b23852",
   "metadata": {
    "slideshow": {
     "slide_type": "fragment"
    }
   },
   "source": [
    "The notebook can run Python commands (other notebooks can use R or Julia; \"Ju-Pyt-R\").  Think: computational data analysis, not \"coding\"."
   ]
  },
  {
   "cell_type": "markdown",
   "id": "632a7897",
   "metadata": {
    "slideshow": {
     "slide_type": "fragment"
    }
   },
   "source": [
    "Standard commands to activate inline interface and import libraries:"
   ]
  },
  {
   "cell_type": "code",
   "execution_count": 1,
   "id": "fe735fcf",
   "metadata": {
    "slideshow": {
     "slide_type": "fragment"
    }
   },
   "outputs": [],
   "source": [
    "%matplotlib inline"
   ]
  },
  {
   "cell_type": "code",
   "execution_count": 2,
   "id": "6f45f4d7",
   "metadata": {
    "slideshow": {
     "slide_type": "fragment"
    }
   },
   "outputs": [],
   "source": [
    "import numpy as np\n",
    "from scipy import stats\n",
    "import matplotlib.pyplot as plt\n",
    "plt.rcParams['figure.figsize'] = (8.0,5.0)\n",
    "plt.rcParams['font.size'] = 14"
   ]
  },
  {
   "cell_type": "markdown",
   "id": "a1acaeca",
   "metadata": {
    "slideshow": {
     "slide_type": "slide"
    }
   },
   "source": [
    "## Cochran’s Q Test"
   ]
  },
  {
   "cell_type": "markdown",
   "id": "f7fbcb87",
   "metadata": {
    "slideshow": {
     "slide_type": "fragment"
    }
   },
   "source": [
    "We now turn to a scenario which is somewhere between a contingency table\n",
    "and a complete block design. We consider a contingency table in which\n",
    "all of the counts are either $0$ or $1$, and are assumed to correspond\n",
    "to the yes/no response of $r$ different subjects to $c$ different\n",
    "treatments. We call these responses $\\{X_{ij}\\}$ and the data table\n",
    "looks like"
   ]
  },
  {
   "cell_type": "markdown",
   "id": "e1ef2485",
   "metadata": {
    "slideshow": {
     "slide_type": "fragment"
    }
   },
   "source": [
    "<table>\n",
    "    <tr><td></td><th colspan=\"4\" style=\"text-align: center\">Treatment</th></tr>\n",
    "<tr><td></td><td> $$1$$</td><td>   $$2$$</td><td> $$\\cdots$$</td><td>$$c$$</td></tr>\n",
    "<tr><th> $$i=1$$</th><td> $$X_{11}$$</td><td>$$X_{12}$$</td><td>$$\\cdots$$</td><td>$$X_{1c}$$</td><td>$$r_1$$</td></tr>\n",
    "<tr><th> $$i=2$$</th><td>  $$X_{21}$$</td><td>$$X_{22}$$</td><td>$$\\cdots$$</td><td>$$X_{2c}$$</td><td>$$r_2$$</td></tr>\n",
    "<tr><th> $$\\vdots$$</th><td>$$\\vdots$$</td><td>$$\\vdots$$</td><td>$$\\ddots$$</td><td>$$\\vdots$$</td><td>$$\\vdots$$</td></tr>\n",
    "<tr><th> $$i=r$$</th><td>$$X_{r1}$$</td><td>$$X_{r2}$$</td><td>$$\\cdots$$</td><td>$$X_{rc}$$</td><td>$$r_r$$</td></tr>\n",
    "<tr><td></td><td>$$c_1$$</td><td>$$c_2$$</td><td>  $$\\cdots$$</td><td> $$c_c$$</td><td> $$N$$</td></tr>\n",
    "    </table>"
   ]
  },
  {
   "cell_type": "markdown",
   "id": "11ca89ba",
   "metadata": {
    "slideshow": {
     "slide_type": "subslide"
    }
   },
   "source": [
    "If we imagine repeating the experiment, each observation is a Bernoulli\n",
    "random variable. i.e., a binomial with one trial,\n",
    "${\\color{royalblue}{X_{ij}}}\\sim\\operatorname{Bin}(1,p^{(ij)})$. We\n",
    "write the probability as $p^{(ij)}$ rather than $p_{ij}$ to stress that\n",
    "there is no constraint placed on any sum of the probabilities, just a\n",
    "requirement that $0\\le p^{(ij)}\\le 1$ for all $i$ and $j$. We can also\n",
    "see that the marginal totals are all random statistics in this picture,\n",
    "since they represent the total numbers of successes that happen to\n",
    "occur:"
   ]
  },
  {
   "cell_type": "markdown",
   "id": "62396f91",
   "metadata": {
    "slideshow": {
     "slide_type": "fragment"
    }
   },
   "source": [
    "<table>\n",
    "    <tr><td></td><th colspan=\"4\" style=\"text-align: center\">Treatment</th><td></td></tr>\n",
    "<tr><td></td><td> $$1$$</td><td>   $$2$$</td><td> $$\\cdots$$</td><td>$$c$$</td><td></td></tr>\n",
    "<tr><th> $$i=1$$</th><td> $$\\color{royalblue}{X_{11}}$$</td><td>$$\\color{royalblue}{X_{12}}$$</td><td>$$\\cdots$$</td><td>$$\\color{royalblue}{X_{1c}}$$</td><td>$$\\color{royalblue}{R_1}$$</td></tr>\n",
    "<tr><th> $$i=2$$</th><td>  $$\\color{royalblue}{X_{21}}$$</td><td>$$\\color{royalblue}{X_{22}}$$</td><td>$$\\cdots$$</td><td>$$\\color{royalblue}{X_{2c}}$$</td><td>$$\\color{royalblue}{R_2}$$</td></tr>\n",
    "<tr><th> $$\\vdots$$</th><td>$$\\vdots$$</td><td>$$\\vdots$$</td><td>$$\\ddots$$</td><td>$$\\vdots$$</td><td>$$\\vdots$$</td></tr>\n",
    "<tr><th> $$i=r$$</th><td>$$\\color{royalblue}{X_{r1}}$$</td><td>$$\\color{royalblue}{X_{r2}}$$</td><td>$$\\cdots$$</td><td>$$\\color{royalblue}{X_{rc}}$$</td><td>$$\\color{royalblue}{R_r}$$</td></tr>\n",
    "<tr><td></td><td>$$\\color{royalblue}{C_1}$$</td><td>$$\\color{royalblue}{C_2}$$</td><td>  $$\\cdots$$</td><td> $$\\color{royalblue}{C_c}$$</td><td> $$\\color{royalblue}{N}$$</td></tr>\n",
    "    </table>"
   ]
  },
  {
   "cell_type": "markdown",
   "id": "c8204c3f",
   "metadata": {
    "slideshow": {
     "slide_type": "subslide"
    }
   },
   "source": [
    "- ${\\color{royalblue}{X_{ij}}}\\sim\\operatorname{Bin}(1,p^{(ij)})$. $H_0$ says each subject responds the same way to\n",
    "all the treatments, i.e., $p^{(ij)}=p^{(i\\bullet)}$ for each $i$, but we\n",
    "don’t make any statements about the $\\{p^{(i\\bullet)}\\}$."
   ]
  },
  {
   "cell_type": "markdown",
   "id": "4a76af9b",
   "metadata": {
    "slideshow": {
     "slide_type": "fragment"
    }
   },
   "source": [
    "- Under $H_0$, row totals might be quite different, but column totals (#\n",
    "of successes for each treatment) should be similar. So we're interested in the statistical properties of\n",
    "${\\color{royalblue}{C_j}}=\\sum_{i=1}^r{\\color{royalblue}{X_{ij}}}$.\n",
    "$$E({\\color{royalblue}{C_j}}) = \\sum_{i=1}^rE({\\color{royalblue}{X_{ij}}}) = \\sum_{i=1}^r p^{(i\\bullet)}\n",
    "\\qquad\\hbox{and}\\qquad\\operatorname{Var}({\\color{royalblue}{C_j}}) = \\sum_{i=1}^r\\operatorname{Var}({\\color{royalblue}{X_{ij}}})\n",
    "  = \\sum_{i=1}^r p^{(i\\bullet)}(1-p^{(i\\bullet)})$$"
   ]
  },
  {
   "cell_type": "markdown",
   "id": "51dbbd07",
   "metadata": {
    "slideshow": {
     "slide_type": "fragment"
    }
   },
   "source": [
    "- For statistic, replace unknown $p^{(i\\bullet)}$ w/estimator ${\\color{royalblue}{R_i}}/c$. Note that this means the\n",
    "estimator of $E({\\color{royalblue}{C_j}})$ is\n",
    "$$\\sum_{i=1}^r\\frac{{\\color{royalblue}{R_i}}}{c} = \\frac{{\\color{royalblue}{N}}}{c}\n",
    "  = \\frac{1}{c}\\sum_{j=1}^c {\\color{royalblue}{C_j}}$$ which would have been a best guess (the expected column total is\n",
    "the average of the column totals)."
   ]
  },
  {
   "cell_type": "markdown",
   "id": "72da95f4",
   "metadata": {
    "slideshow": {
     "slide_type": "subslide"
    }
   },
   "source": [
    "- Each column’s contribution to the statistic should then be\n",
    "$$\\frac{[{\\color{royalblue}{C_j}} - E({\\color{royalblue}{C_j}})]^2}{\\operatorname{Var}({\\color{royalblue}{C_j}})}\n",
    "  \\sim \\frac{({\\color{royalblue}{C_j}}-{\\color{royalblue}{N}}/c)^2}{\\sum_{i=1}^r({\\color{royalblue}{R_i}}/c)(1-{\\color{royalblue}{R_i}}/c)}$$"
   ]
  },
  {
   "cell_type": "markdown",
   "id": "898e5cd9",
   "metadata": {
    "slideshow": {
     "slide_type": "fragment"
    }
   },
   "source": [
    "- Because mean & the variance are estimated, the relevant\n",
    "correlations turn out to give a statistic\n",
    "$${\\color{royalblue}{Q}} = c(c-1)\\frac{\\sum_{j=1}^c({\\color{royalblue}{C_j}}-{\\color{royalblue}{N}}/c)^2}\n",
    "  {\\sum_{i=1}^r({\\color{royalblue}{R_i}})(c-{\\color{royalblue}{R_i}})}$$\n",
    "whose null distribution is approximately $\\chi^2(c-1)$."
   ]
  },
  {
   "cell_type": "markdown",
   "id": "d84f68c4",
   "metadata": {
    "slideshow": {
     "slide_type": "subslide"
    }
   },
   "source": [
    "As a concrete example, consider these data from Messenger et al, *Phys Rev D* **92**, 023006 (2015), which represent the performance of $c=5$ different search pipelines on the same set of $r=50$ different simulated gravitational-wave signals.  A 1 means the signal was detected, a 0 means it was not.  We wish to know if there's a difference among the performance of the different pipelines."
   ]
  },
  {
   "cell_type": "code",
   "execution_count": 4,
   "id": "7d19ed60",
   "metadata": {
    "slideshow": {
     "slide_type": "fragment"
    }
   },
   "outputs": [
    {
     "data": {
      "text/plain": [
       "(50, 5)"
      ]
     },
     "execution_count": 4,
     "metadata": {},
     "output_type": "execute_result"
    }
   ],
   "source": [
    "X_ij = np.loadtxt('lesson_11_1_found.dat',usecols=(2,3,4,5,6),dtype=int); r,c = X_ij.shape; r, c "
   ]
  },
  {
   "cell_type": "code",
   "execution_count": 5,
   "id": "dfc38c1d",
   "metadata": {
    "scrolled": true,
    "slideshow": {
     "slide_type": "fragment"
    }
   },
   "outputs": [
    {
     "data": {
      "text/plain": [
       "array([[0, 0, 0, 0, 1],\n",
       "       [0, 0, 0, 0, 1],\n",
       "       [0, 0, 0, 0, 1],\n",
       "       [0, 0, 0, 0, 1],\n",
       "       [0, 1, 0, 0, 1],\n",
       "       [0, 1, 0, 0, 1],\n",
       "       [0, 0, 0, 0, 1],\n",
       "       [0, 0, 0, 0, 1],\n",
       "       [0, 0, 0, 0, 1],\n",
       "       [0, 0, 0, 0, 1],\n",
       "       [0, 0, 0, 0, 1],\n",
       "       [0, 0, 0, 0, 1],\n",
       "       [0, 1, 0, 0, 1],\n",
       "       [1, 1, 0, 0, 1],\n",
       "       [0, 0, 0, 0, 1],\n",
       "       [1, 0, 0, 0, 1],\n",
       "       [0, 0, 0, 0, 1],\n",
       "       [0, 0, 0, 0, 1],\n",
       "       [1, 1, 0, 0, 1],\n",
       "       [1, 1, 0, 0, 1],\n",
       "       [0, 1, 0, 0, 1],\n",
       "       [1, 1, 0, 0, 1],\n",
       "       [0, 0, 0, 0, 1],\n",
       "       [1, 1, 0, 0, 1],\n",
       "       [1, 1, 1, 0, 1],\n",
       "       [1, 1, 0, 0, 1],\n",
       "       [1, 1, 0, 0, 1],\n",
       "       [1, 1, 1, 0, 1],\n",
       "       [1, 1, 1, 0, 1],\n",
       "       [1, 1, 1, 0, 1],\n",
       "       [1, 1, 0, 0, 1],\n",
       "       [0, 1, 0, 0, 1],\n",
       "       [0, 1, 0, 0, 1],\n",
       "       [0, 1, 0, 0, 1],\n",
       "       [1, 1, 0, 0, 1],\n",
       "       [0, 0, 0, 0, 1],\n",
       "       [1, 1, 0, 0, 1],\n",
       "       [1, 1, 1, 0, 1],\n",
       "       [1, 1, 0, 0, 1],\n",
       "       [1, 1, 1, 1, 1],\n",
       "       [1, 1, 1, 0, 1],\n",
       "       [1, 1, 1, 1, 1],\n",
       "       [1, 1, 1, 0, 1],\n",
       "       [1, 1, 1, 1, 1],\n",
       "       [1, 1, 1, 0, 1],\n",
       "       [1, 1, 1, 1, 1],\n",
       "       [1, 1, 1, 0, 1],\n",
       "       [1, 1, 1, 1, 1],\n",
       "       [1, 1, 1, 1, 1],\n",
       "       [1, 1, 1, 1, 1]])"
      ]
     },
     "execution_count": 5,
     "metadata": {},
     "output_type": "execute_result"
    }
   ],
   "source": [
    "X_ij"
   ]
  },
  {
   "cell_type": "markdown",
   "id": "faa65769",
   "metadata": {
    "slideshow": {
     "slide_type": "subslide"
    }
   },
   "source": [
    "The row total $r_i$ is the number of pipelines that detected the $i$th signal.  The column total $c_j$ is the number of signals detected by the $j$th pipeline."
   ]
  },
  {
   "cell_type": "code",
   "execution_count": 6,
   "id": "b085e31b",
   "metadata": {
    "slideshow": {
     "slide_type": "fragment"
    }
   },
   "outputs": [
    {
     "data": {
      "text/plain": [
       "(array([1, 1, 1, 1, 2, 2, 1, 1, 1, 1, 1, 1, 2, 3, 1, 2, 1, 1, 3, 3, 2, 3,\n",
       "        1, 3, 4, 3, 3, 4, 4, 4, 3, 2, 2, 2, 3, 1, 3, 4, 3, 5, 4, 5, 4, 5,\n",
       "        4, 5, 4, 5, 5, 5]),\n",
       " array([28, 34, 16,  7, 50]),\n",
       " 135,\n",
       " 135,\n",
       " 135)"
      ]
     },
     "execution_count": 6,
     "metadata": {},
     "output_type": "execute_result"
    }
   ],
   "source": [
    "r_i = X_ij.sum(axis=-1); c_j = X_ij.sum(axis=0); N=np.sum(X_ij); r_i, c_j, N, np.sum(r_i), np.sum(c_j)"
   ]
  },
  {
   "cell_type": "markdown",
   "id": "263aa957",
   "metadata": {
    "slideshow": {
     "slide_type": "subslide"
    }
   },
   "source": [
    "The \"expected\" number of detections is $N/c$, and actual minus expected is $c_j-N/c$"
   ]
  },
  {
   "cell_type": "code",
   "execution_count": 7,
   "id": "f12748ea",
   "metadata": {
    "slideshow": {
     "slide_type": "fragment"
    }
   },
   "outputs": [
    {
     "data": {
      "text/plain": [
       "(27.0, array([  1.,   7., -11., -20.,  23.]))"
      ]
     },
     "execution_count": 7,
     "metadata": {},
     "output_type": "execute_result"
    }
   ],
   "source": [
    "N/c, c_j-N/c"
   ]
  },
  {
   "cell_type": "markdown",
   "id": "be0f0d43",
   "metadata": {
    "slideshow": {
     "slide_type": "fragment"
    }
   },
   "source": [
    "The contribution to the null variance from each row is $r_i(c-r_i)$ so signals where about half the pipelines made a detection help us distinguish the hypotheses:"
   ]
  },
  {
   "cell_type": "code",
   "execution_count": 8,
   "id": "c2894caf",
   "metadata": {
    "slideshow": {
     "slide_type": "fragment"
    }
   },
   "outputs": [
    {
     "data": {
      "text/plain": [
       "(array([1, 1, 1, 1, 2, 2, 1, 1, 1, 1, 1, 1, 2, 3, 1, 2, 1, 1, 3, 3, 2, 3,\n",
       "        1, 3, 4, 3, 3, 4, 4, 4, 3, 2, 2, 2, 3, 1, 3, 4, 3, 5, 4, 5, 4, 5,\n",
       "        4, 5, 4, 5, 5, 5]),\n",
       " array([4, 4, 4, 4, 6, 6, 4, 4, 4, 4, 4, 4, 6, 6, 4, 6, 4, 4, 6, 6, 6, 6,\n",
       "        4, 6, 4, 6, 6, 4, 4, 4, 6, 6, 6, 6, 6, 4, 6, 4, 6, 0, 4, 0, 4, 0,\n",
       "        4, 0, 4, 0, 0, 0]))"
      ]
     },
     "execution_count": 8,
     "metadata": {},
     "output_type": "execute_result"
    }
   ],
   "source": [
    "r_i, r_i*(c-r_i)"
   ]
  },
  {
   "cell_type": "markdown",
   "id": "1dbe4d8c",
   "metadata": {
    "slideshow": {
     "slide_type": "subslide"
    }
   },
   "source": [
    "- We construct the statistic\n",
    "$${\\color{royalblue}{Q}} = c(c-1)\\frac{\\sum_{j=1}^c({\\color{royalblue}{C_j}}-{\\color{royalblue}{N}}/c)^2}\n",
    "  {\\sum_{i=1}^r({\\color{royalblue}{R_i}})(c-{\\color{royalblue}{R_i}})}$$"
   ]
  },
  {
   "cell_type": "code",
   "execution_count": 9,
   "id": "ad5e08f2",
   "metadata": {
    "slideshow": {
     "slide_type": "fragment"
    }
   },
   "outputs": [
    {
     "data": {
      "text/plain": [
       "104.76190476190476"
      ]
     },
     "execution_count": 9,
     "metadata": {},
     "output_type": "execute_result"
    }
   ],
   "source": [
    "Q = c*(c-1)*np.sum((c_j-N/c)**2)/np.sum(r_i*(c-r_i)); Q"
   ]
  },
  {
   "cell_type": "markdown",
   "id": "7f802d3f",
   "metadata": {
    "slideshow": {
     "slide_type": "fragment"
    }
   },
   "source": [
    "- Obviously, this is a huge value for a chi-squared with 4 degrees of freedom, so we easily reject the null hypothesis that the searches perform equally well."
   ]
  },
  {
   "cell_type": "code",
   "execution_count": 10,
   "id": "c2e47d00",
   "metadata": {
    "slideshow": {
     "slide_type": "fragment"
    }
   },
   "outputs": [
    {
     "data": {
      "text/plain": [
       "(4, 9.519798192058123e-22)"
      ]
     },
     "execution_count": 10,
     "metadata": {},
     "output_type": "execute_result"
    }
   ],
   "source": [
    "c-1, stats.chi2(df=c-1).sf(Q)"
   ]
  },
  {
   "cell_type": "markdown",
   "id": "b136eaaf",
   "metadata": {
    "slideshow": {
     "slide_type": "fragment"
    }
   },
   "source": [
    "- That was sort of obvious, since the total numbers of detected signals out of 50 were so different"
   ]
  },
  {
   "cell_type": "code",
   "execution_count": 11,
   "id": "06ba98c1",
   "metadata": {
    "slideshow": {
     "slide_type": "fragment"
    }
   },
   "outputs": [
    {
     "data": {
      "text/plain": [
       "array([28, 34, 16,  7, 50])"
      ]
     },
     "execution_count": 11,
     "metadata": {},
     "output_type": "execute_result"
    }
   ],
   "source": [
    "c_j"
   ]
  },
  {
   "cell_type": "markdown",
   "id": "f4fc2f7f",
   "metadata": {
    "slideshow": {
     "slide_type": "subslide"
    }
   },
   "source": [
    "Since that's a pretty extreme result, let's see what would have happened if we'd just restricted attention to two of the searches, which happen to be the most comparabie:"
   ]
  },
  {
   "cell_type": "code",
   "execution_count": 12,
   "id": "607f0b1d",
   "metadata": {
    "slideshow": {
     "slide_type": "fragment"
    }
   },
   "outputs": [
    {
     "data": {
      "text/plain": [
       "(50, 2)"
      ]
     },
     "execution_count": 12,
     "metadata": {},
     "output_type": "execute_result"
    }
   ],
   "source": [
    "myX_ij = np.loadtxt('lesson_11_1_found.dat',usecols=(2,3),dtype=int); myr,myc = myX_ij.shape; myr, myc"
   ]
  },
  {
   "cell_type": "code",
   "execution_count": 13,
   "id": "085748b7",
   "metadata": {
    "slideshow": {
     "slide_type": "fragment"
    }
   },
   "outputs": [
    {
     "data": {
      "text/plain": [
       "array([[0, 0],\n",
       "       [0, 0],\n",
       "       [0, 0],\n",
       "       [0, 0],\n",
       "       [0, 1],\n",
       "       [0, 1],\n",
       "       [0, 0],\n",
       "       [0, 0],\n",
       "       [0, 0],\n",
       "       [0, 0],\n",
       "       [0, 0],\n",
       "       [0, 0],\n",
       "       [0, 1],\n",
       "       [1, 1],\n",
       "       [0, 0],\n",
       "       [1, 0],\n",
       "       [0, 0],\n",
       "       [0, 0],\n",
       "       [1, 1],\n",
       "       [1, 1],\n",
       "       [0, 1],\n",
       "       [1, 1],\n",
       "       [0, 0],\n",
       "       [1, 1],\n",
       "       [1, 1],\n",
       "       [1, 1],\n",
       "       [1, 1],\n",
       "       [1, 1],\n",
       "       [1, 1],\n",
       "       [1, 1],\n",
       "       [1, 1],\n",
       "       [0, 1],\n",
       "       [0, 1],\n",
       "       [0, 1],\n",
       "       [1, 1],\n",
       "       [0, 0],\n",
       "       [1, 1],\n",
       "       [1, 1],\n",
       "       [1, 1],\n",
       "       [1, 1],\n",
       "       [1, 1],\n",
       "       [1, 1],\n",
       "       [1, 1],\n",
       "       [1, 1],\n",
       "       [1, 1],\n",
       "       [1, 1],\n",
       "       [1, 1],\n",
       "       [1, 1],\n",
       "       [1, 1],\n",
       "       [1, 1]])"
      ]
     },
     "execution_count": 13,
     "metadata": {},
     "output_type": "execute_result"
    }
   ],
   "source": [
    "myX_ij"
   ]
  },
  {
   "cell_type": "markdown",
   "id": "855b91b2",
   "metadata": {
    "slideshow": {
     "slide_type": "subslide"
    }
   },
   "source": [
    "Now we see one pipeline detects 28 signals, the other 34, and some signals are detected by one, both, or neither pipeline:"
   ]
  },
  {
   "cell_type": "code",
   "execution_count": 14,
   "id": "0c2c10ea",
   "metadata": {
    "slideshow": {
     "slide_type": "fragment"
    }
   },
   "outputs": [
    {
     "data": {
      "text/plain": [
       "(array([0, 0, 0, 0, 1, 1, 0, 0, 0, 0, 0, 0, 1, 2, 0, 1, 0, 0, 2, 2, 1, 2,\n",
       "        0, 2, 2, 2, 2, 2, 2, 2, 2, 1, 1, 1, 2, 0, 2, 2, 2, 2, 2, 2, 2, 2,\n",
       "        2, 2, 2, 2, 2, 2]),\n",
       " array([28, 34]),\n",
       " 62,\n",
       " 62,\n",
       " 62)"
      ]
     },
     "execution_count": 14,
     "metadata": {},
     "output_type": "execute_result"
    }
   ],
   "source": [
    "myr_i = myX_ij.sum(axis=-1); myc_j = myX_ij.sum(axis=0); myN=np.sum(myX_ij); myr_i, myc_j, myN, np.sum(myr_i), np.sum(myc_j)"
   ]
  },
  {
   "cell_type": "code",
   "execution_count": 15,
   "id": "4f1fc1f6",
   "metadata": {
    "slideshow": {
     "slide_type": "fragment"
    }
   },
   "outputs": [
    {
     "data": {
      "text/plain": [
       "(31.0, array([-3.,  3.]))"
      ]
     },
     "execution_count": 15,
     "metadata": {},
     "output_type": "execute_result"
    }
   ],
   "source": [
    "myN/myc, myc_j-myN/myc"
   ]
  },
  {
   "cell_type": "code",
   "execution_count": 16,
   "id": "d223bfbf",
   "metadata": {
    "slideshow": {
     "slide_type": "fragment"
    }
   },
   "outputs": [
    {
     "data": {
      "text/plain": [
       "(array([0, 0, 0, 0, 1, 1, 0, 0, 0, 0, 0, 0, 1, 2, 0, 1, 0, 0, 2, 2, 1, 2,\n",
       "        0, 2, 2, 2, 2, 2, 2, 2, 2, 1, 1, 1, 2, 0, 2, 2, 2, 2, 2, 2, 2, 2,\n",
       "        2, 2, 2, 2, 2, 2]),\n",
       " array([0, 0, 0, 0, 1, 1, 0, 0, 0, 0, 0, 0, 1, 0, 0, 1, 0, 0, 0, 0, 1, 0,\n",
       "        0, 0, 0, 0, 0, 0, 0, 0, 0, 1, 1, 1, 0, 0, 0, 0, 0, 0, 0, 0, 0, 0,\n",
       "        0, 0, 0, 0, 0, 0]))"
      ]
     },
     "execution_count": 16,
     "metadata": {},
     "output_type": "execute_result"
    }
   ],
   "source": [
    "myr_i, myr_i*(myc-myr_i)"
   ]
  },
  {
   "cell_type": "markdown",
   "id": "6140a678",
   "metadata": {
    "slideshow": {
     "slide_type": "subslide"
    }
   },
   "source": [
    "- Again we construct the Cochran $Q$ ststistic:"
   ]
  },
  {
   "cell_type": "code",
   "execution_count": 17,
   "id": "93079b78",
   "metadata": {
    "slideshow": {
     "slide_type": "fragment"
    }
   },
   "outputs": [
    {
     "data": {
      "text/plain": [
       "4.5"
      ]
     },
     "execution_count": 17,
     "metadata": {},
     "output_type": "execute_result"
    }
   ],
   "source": [
    "myQ = myc*(myc-1)*np.sum((myc_j-myN/myc)**2)/np.sum(myr_i*(myc-myr_i)); myQ"
   ]
  },
  {
   "cell_type": "markdown",
   "id": "cc5f87ce",
   "metadata": {
    "slideshow": {
     "slide_type": "fragment"
    }
   },
   "source": [
    "- This is still kind of high for a $\\chi^2(1)$, so we can reject the null hypothesis with $p=0.03$."
   ]
  },
  {
   "cell_type": "code",
   "execution_count": 18,
   "id": "06dc0b92",
   "metadata": {
    "slideshow": {
     "slide_type": "fragment"
    }
   },
   "outputs": [
    {
     "data": {
      "text/plain": [
       "(1, 0.033894853524689295)"
      ]
     },
     "execution_count": 18,
     "metadata": {},
     "output_type": "execute_result"
    }
   ],
   "source": [
    "myc-1, stats.chi2(df=myc-1).sf(myQ)"
   ]
  },
  {
   "cell_type": "markdown",
   "id": "724509db",
   "metadata": {
    "slideshow": {
     "slide_type": "subslide"
    }
   },
   "source": [
    "### Importance of Blocking Information"
   ]
  },
  {
   "cell_type": "markdown",
   "id": "31d6677d",
   "metadata": {
    "slideshow": {
     "slide_type": "subslide"
    }
   },
   "source": [
    "Note that, if we didn’t know that all of the observations in the same\n",
    "block were related, we would pool them together and create a $2\\times\n",
    "c$ contingency table where the two rows were just successes and\n",
    "failures. The observations would be $O_{1j}\\equiv$ the number of\n",
    "successes in column $j$ (which is $C_j$ in the current notation) and\n",
    "$O_{2j}\\equiv$ the number of failures in column $j$ (which is $r-C_j$ in\n",
    "the current notation). The contingency table would look like"
   ]
  },
  {
   "cell_type": "markdown",
   "id": "7f78c150",
   "metadata": {
    "slideshow": {
     "slide_type": "fragment"
    }
   },
   "source": [
    "<table>\n",
    "    <tr><td></td><th colspan=\"4\" style=\"text-align: center\">Treatment</th></tr>\n",
    "<tr><td></td><td> $$1$$</td><td>   $$2$$</td><td> $$\\cdots$$</td><td>$$c$$</td><td></td></tr>\n",
    "<tr><th> Success</th><td> $$\\color{royalblue}{C_{1}}$$</td><td>$$\\color{royalblue}{C_{2}}$$</td><td>$$\\cdots$$</td><td>$$\\color{royalblue}{C_{c}}$$</td><td>$$\\color{royalblue}{N}$$</td></tr>\n",
    "<tr><th> Failure</th><td>  $$r-\\color{royalblue}{C_{1}}$$</td><td>$$r-\\color{royalblue}{C_{2}}$$</td><td>$$\\cdots$$</td><td>$$r-\\color{royalblue}{C_{c}}$$</td><td>$$rc-\\color{royalblue}{N}$$</td></tr>\n",
    "<tr><td></td><td>$$r$$</td><td>$$r$$</td><td>  $$\\cdots$$</td><td> $$r$$</td><td> $$rc$$</td></tr>\n",
    "    </table>"
   ]
  },
  {
   "cell_type": "markdown",
   "id": "e927d0e8",
   "metadata": {
    "slideshow": {
     "slide_type": "fragment"
    }
   },
   "source": [
    "As you’ll see on the homework, this test is less sensitive if the\n",
    "blocking carries important information."
   ]
  },
  {
   "cell_type": "markdown",
   "id": "0f378f2f",
   "metadata": {
    "slideshow": {
     "slide_type": "subslide"
    }
   },
   "source": [
    "<table>\n",
    "    <tr><td></td><th colspan=\"4\" style=\"text-align: center\">Treatment</th></tr>\n",
    "<tr><td></td><td> $$1$$</td><td>   $$2$$</td><td> $$\\cdots$$</td><td>$$c$$</td><td></td></tr>\n",
    "<tr><th> Success</th><td> $$\\color{royalblue}{C_{1}}$$</td><td>$$\\color{royalblue}{C_{2}}$$</td><td>$$\\cdots$$</td><td>$$\\color{royalblue}{C_{c}}$$</td><td>$$\\color{royalblue}{N}$$</td></tr>\n",
    "<tr><th> Failure</th><td>  $$r-\\color{royalblue}{C_{1}}$$</td><td>$$r-\\color{royalblue}{C_{2}}$$</td><td>$$\\cdots$$</td><td>$$r-\\color{royalblue}{C_{c}}$$</td><td>$$rc-\\color{royalblue}{N}$$</td></tr>\n",
    "<tr><td></td><td>$$r$$</td><td>$$r$$</td><td>  $$\\cdots$$</td><td> $$r$$</td><td> $$rc$$</td></tr>\n",
    "    </table>\n",
    "\n",
    "The numbers of successes are $c_j$, but the expected number for each pipeline is $\\frac{(N)(r)}{rc}=N/c$:"
   ]
  },
  {
   "cell_type": "code",
   "execution_count": 19,
   "id": "7056e7a8",
   "metadata": {
    "slideshow": {
     "slide_type": "fragment"
    }
   },
   "outputs": [
    {
     "data": {
      "text/plain": [
       "(array([28, 34]), 31.0, array([22, 16]), 19.0)"
      ]
     },
     "execution_count": 19,
     "metadata": {},
     "output_type": "execute_result"
    }
   ],
   "source": [
    "myO1_j = myc_j; myE1j = myN/myc; myO2_j = myr - myc_j; myE2j = myr-myN/myc; myO1_j, myE1j, myO2_j, myE2j"
   ]
  },
  {
   "cell_type": "code",
   "execution_count": 20,
   "id": "3f9653bd",
   "metadata": {
    "slideshow": {
     "slide_type": "fragment"
    }
   },
   "outputs": [
    {
     "data": {
      "text/plain": [
       "1.1612903225806452"
      ]
     },
     "execution_count": 20,
     "metadata": {},
     "output_type": "execute_result"
    }
   ],
   "source": [
    "myT = np.sum((myO1_j-myE1j)**2/myE1j) + np.sum((myO1_j-myE1j)**2/myE1j); myT"
   ]
  },
  {
   "cell_type": "code",
   "execution_count": 21,
   "id": "ef437dca",
   "metadata": {
    "slideshow": {
     "slide_type": "fragment"
    }
   },
   "outputs": [
    {
     "data": {
      "text/plain": [
       "0.2811980995641761"
      ]
     },
     "execution_count": 21,
     "metadata": {},
     "output_type": "execute_result"
    }
   ],
   "source": [
    "stats.chi2(df=myc-1).sf(myT)"
   ]
  },
  {
   "cell_type": "markdown",
   "id": "16d1ce1a",
   "metadata": {
    "slideshow": {
     "slide_type": "fragment"
    }
   },
   "source": [
    "This is not significant.  Detecting 28 vs 22 signals out of 50 is not such a big deal, if you don't know how many signals one pipeline detected that the other didn't."
   ]
  },
  {
   "cell_type": "markdown",
   "id": "03def065",
   "metadata": {
    "slideshow": {
     "slide_type": "subslide"
    }
   },
   "source": [
    "Incidentally, if you compare all five pipelines this way, the results are still very significant, since the number of detections is so different."
   ]
  },
  {
   "cell_type": "code",
   "execution_count": 22,
   "id": "62cadc78",
   "metadata": {
    "slideshow": {
     "slide_type": "fragment"
    }
   },
   "outputs": [
    {
     "data": {
      "text/plain": [
       "(array([28, 34, 16,  7, 50]), 27.0, array([22, 16, 34, 43,  0]), 23.0)"
      ]
     },
     "execution_count": 22,
     "metadata": {},
     "output_type": "execute_result"
    }
   ],
   "source": [
    "O1_j = c_j; E1j = N/c; O2_j = r - c_j; E2j = r-N/c; O1_j, E1j, O2_j, E2j"
   ]
  },
  {
   "cell_type": "code",
   "execution_count": 23,
   "id": "67c1db62",
   "metadata": {
    "slideshow": {
     "slide_type": "fragment"
    }
   },
   "outputs": [
    {
     "data": {
      "text/plain": [
       "81.48148148148148"
      ]
     },
     "execution_count": 23,
     "metadata": {},
     "output_type": "execute_result"
    }
   ],
   "source": [
    "T = np.sum((O1_j-E1j)**2/E1j) + np.sum((O1_j-E1j)**2/E1j); T"
   ]
  },
  {
   "cell_type": "code",
   "execution_count": 24,
   "id": "a3dede9f",
   "metadata": {
    "slideshow": {
     "slide_type": "fragment"
    }
   },
   "outputs": [
    {
     "data": {
      "text/plain": [
       "8.454370175361483e-17"
      ]
     },
     "execution_count": 24,
     "metadata": {},
     "output_type": "execute_result"
    }
   ],
   "source": [
    "stats.chi2(df=c-1).sf(T)"
   ]
  },
  {
   "cell_type": "markdown",
   "id": "e178e95d",
   "metadata": {
    "slideshow": {
     "slide_type": "slide"
    }
   },
   "source": [
    "### McNemar’s Test (see Conover Section 3.5)"
   ]
  },
  {
   "cell_type": "markdown",
   "id": "49b4ccad",
   "metadata": {
    "slideshow": {
     "slide_type": "fragment"
    }
   },
   "source": [
    "In the case where $c=2$, Cochran’s test is equivalent to a test\n",
    "performed using a $2\\times 2$ contingency table, known as McNemar’s\n",
    "test. When there are only two columns, the information in each block\n",
    "consists of whether the pair $(X_{i1},X_{i2})$ is $(0,0)$, $(0,1)$,\n",
    "$(1,0)$, or $(1,1)$, and the important information is how many blocks of\n",
    "each kind we have. We’re then dealing with a $2\\times 2$ contingency\n",
    "table"
   ]
  },
  {
   "cell_type": "markdown",
   "id": "11a600b2",
   "metadata": {
    "slideshow": {
     "slide_type": "fragment"
    }
   },
   "source": [
    "|            |$$X_{i2}=0$$|$$X_{i2}=1$$|\n",
    "| ---------- | ---------- | ---------- |\n",
    "|$$X_{i1}=0$$|    $$a$$   |    $$b$$   |\n",
    "|$$X_{i1}=1$$|    $$c$$   |    $$d$$   |"
   ]
  },
  {
   "cell_type": "code",
   "execution_count": 25,
   "id": "53be18af",
   "metadata": {
    "slideshow": {
     "slide_type": "fragment"
    }
   },
   "outputs": [
    {
     "data": {
      "text/plain": [
       "(15, 7, 1, 27)"
      ]
     },
     "execution_count": 25,
     "metadata": {},
     "output_type": "execute_result"
    }
   ],
   "source": [
    "thisa = np.sum((1-myX_ij[:,0]) * (1-myX_ij[:,1])); \n",
    "thisb = np.sum((1-myX_ij[:,0]) * myX_ij[:,1]); \n",
    "thisc = np.sum(myX_ij[:,0] * (1-myX_ij[:,1])); \n",
    "thisd = np.sum(myX_ij[:,0] * myX_ij[:,1]); \n",
    "thisa, thisb, thisc, thisd"
   ]
  },
  {
   "cell_type": "markdown",
   "id": "5f6c053f",
   "metadata": {
    "slideshow": {
     "slide_type": "subslide"
    }
   },
   "source": [
    "|            |$$X_{i2}=0$$|$$X_{i2}=1$$|\n",
    "| ---------- | ---------- | ---------- |\n",
    "|$$X_{i1}=0$$|    $$a$$   |    $$b$$   |\n",
    "|$$X_{i1}=1$$|    $$c$$   |    $$d$$   |"
   ]
  },
  {
   "cell_type": "markdown",
   "id": "279ff009",
   "metadata": {
    "slideshow": {
     "slide_type": "fragment"
    }
   },
   "source": [
    "The interpretation of this table is different from the usual two-way\n",
    "contingency table, though. If the treatments behave differently, $b$ and\n",
    "$c$ will differ from each other. The McNemar test statistic is\n",
    "$$\\frac{(b-c)^2}{b+c}$$ which is approximately $\\chi^2(1)$ distributed\n",
    "if the treatments are equivalent."
   ]
  },
  {
   "cell_type": "markdown",
   "id": "7fa0e7d7",
   "metadata": {
    "slideshow": {
     "slide_type": "fragment"
    }
   },
   "source": [
    "|            |#2 Missed|#2 Found|\n",
    "| ---------- | ---------- | ---------- |\n",
    "|**#1 Missed**|    $$15$$   |    $$7$$   |\n",
    "|**#1 Found**|    $$1$$   |    $$27$$   |"
   ]
  },
  {
   "cell_type": "code",
   "execution_count": 26,
   "id": "92438825",
   "metadata": {
    "slideshow": {
     "slide_type": "fragment"
    }
   },
   "outputs": [
    {
     "data": {
      "text/plain": [
       "(4.5, 4.5)"
      ]
     },
     "execution_count": 26,
     "metadata": {},
     "output_type": "execute_result"
    }
   ],
   "source": [
    "thisT = (thisb-thisc)**2/(thisb+thisc); thisT, myQ"
   ]
  },
  {
   "cell_type": "markdown",
   "id": "68d81703",
   "metadata": {
    "slideshow": {
     "slide_type": "fragment"
    }
   },
   "source": [
    "Note that this is exactly the same as the Cochran $Q$ statistic."
   ]
  },
  {
   "cell_type": "markdown",
   "id": "78f7f357",
   "metadata": {
    "slideshow": {
     "slide_type": "subslide"
    }
   },
   "source": [
    "The McNemar Test is actually just the sign test, since the off-diagonal elements are basically $n_+$ and $n_-$."
   ]
  },
  {
   "cell_type": "markdown",
   "id": "4812cacf",
   "metadata": {
    "slideshow": {
     "slide_type": "fragment"
    }
   },
   "source": [
    "|            |#2 Missed|#2 Found|\n",
    "| ---------- | ---------- | ---------- |\n",
    "|**#1 Missed**|    $$15$$   |    $$7$$   |\n",
    "|**#1 Found**|    $$1$$   |    $$27$$   |"
   ]
  },
  {
   "cell_type": "markdown",
   "id": "338430e5",
   "metadata": {
    "slideshow": {
     "slide_type": "fragment"
    }
   },
   "source": [
    "Note that this makes it really clear why the Cochran $Q$ (which is the same as the McNemar test since $c=2$) test gave a significant result, when the test which just counted the number of found signals did not.  The McNemar test ignores the 15 signals which were missed by both pipelines and the 27 which were found by both, and notes that the second pipeline found 7 signals that the first one missed, and the first one only found one signal that the second one missed."
   ]
  },
  {
   "cell_type": "code",
   "execution_count": null,
   "id": "d6b0ddf3-531c-433f-b376-70ae6a37b5d5",
   "metadata": {},
   "outputs": [],
   "source": []
  }
 ],
 "metadata": {
  "celltoolbar": "Slideshow",
  "kernelspec": {
   "display_name": "Python 3 (ipykernel)",
   "language": "python",
   "name": "python3"
  },
  "language_info": {
   "codemirror_mode": {
    "name": "ipython",
    "version": 3
   },
   "file_extension": ".py",
   "mimetype": "text/x-python",
   "name": "python",
   "nbconvert_exporter": "python",
   "pygments_lexer": "ipython3",
   "version": "3.9.7"
  }
 },
 "nbformat": 4,
 "nbformat_minor": 5
}
