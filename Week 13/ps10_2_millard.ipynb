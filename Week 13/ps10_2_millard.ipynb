{
 "cells": [
  {
   "cell_type": "markdown",
   "metadata": {},
   "source": [
    "# Problem Set 10, Part Two: Due Tuesday, April 22 by 8am Eastern Daylight Time"
   ]
  },
  {
   "cell_type": "markdown",
   "metadata": {},
   "source": [
    "## Name: David MIllard"
   ]
  },
  {
   "cell_type": "markdown",
   "metadata": {},
   "source": [
    "**Show your work on all problems!** Be sure to give credit to any\n",
    "collaborators, or outside sources used in solving the problems. Note\n",
    "that if using an outside source to do a calculation, you should use it\n",
    "as a reference for the method, and actually carry out the calculation\n",
    "yourself; it’s not sufficient to quote the results of a calculation\n",
    "contained in an outside source."
   ]
  },
  {
   "cell_type": "markdown",
   "metadata": {},
   "source": [
    "Fill in your solutions in the notebook below, inserting markdown and/or code cells as needed.  Try to do reasonably well with the typesetting, but don't feel compelled to replicate my formatting exactly.  **You do NOT need to make random variables blue!**"
   ]
  },
  {
   "cell_type": "code",
   "execution_count": null,
   "metadata": {},
   "outputs": [],
   "source": [
    "%matplotlib inline"
   ]
  },
  {
   "cell_type": "code",
   "execution_count": null,
   "metadata": {},
   "outputs": [],
   "source": [
    "import numpy as np\n",
    "from scipy import stats\n",
    "import matplotlib.pyplot as plt\n",
    "plt.rcParams['figure.figsize'] = (8.0,5.0)\n",
    "plt.rcParams['font.size'] = 14"
   ]
  },
  {
   "cell_type": "markdown",
   "metadata": {},
   "source": [
    "## Bayesian Approach"
   ]
  },
  {
   "cell_type": "markdown",
   "metadata": {},
   "source": [
    "From a Bayesian perspective, the question of whether the row and/or\n",
    "column totals are held fixed when calculating a $p$-value is an\n",
    "irrelevant one, because Bayesian probabilities concern statements about\n",
    "a model given the actual observed data, not statements about what data\n",
    "might have been observed in a hypothetical repeated experiment. So for a\n",
    "$2\\times 2$ contingency table, if we write $P(H_0|\\{O_{ij}\\})$ as the\n",
    "posterior probability of $H_0$ being true given the observations, it\n",
    "doesn’t matter if we also condition on the row or column totals, since\n",
    "they are automatically given by the values in the table itself, e.g.,\n",
    "$P(H_0|N,\\{O_{ij}\\})=P(H_0|\\{r_i\\},\\{O_{ij}\\})P(H_0|\\{O_{ij}\\})$. But it\n",
    "turns out that the context of the experiment does still matter, because\n",
    "it defines the meaning of the hypotheses. One standard quantity in\n",
    "Bayesian hypothesis testing is the *Bayes factor*\n",
    "$p({{\\mathbf{x}}}|H_a)/p({{\\mathbf{x}}}|H_0)$ which measures how\n",
    "strongly the data favor the alternative hypothesis $H_a$ over $H_0$. The\n",
    "“evidence” $p({{\\mathbf{x}}}|H)$ associated with hypothesis is like a\n",
    "sampling distribution, but it is appropriately averaged over possible\n",
    "parameter values according to a prescription included in $H$. Suppose\n",
    "the categorical observations ${{\\mathbf{x}}}=\\{(x_I,y_I)|I=1,\\ldots,N\\}$\n",
    "are independent (which rules out the “lady tasting tea” scenario) so\n",
    "that the sampling distribution for the sequence of observations (which\n",
    "eliminates combinatorical factors which would cancel out anyway) is\n",
    "$$p({{\\mathbf{x}}}|\\{p_{ij}\\}) = p_{11}^{O_{11}}p_{12}^{O_{12}}p_{21}^{O_{21}}p_{22}^{O_{22}}$$\n",
    "Evaluate the following, both for general $\\{O_{ij}\\}$ (use $\\{r_i\\}$,\n",
    "$\\{c_j\\}$, and $N$ as appropriate to simplify your answer), and for the\n",
    "example considered in class, where $O_{11}=1$, $O_{12}=6$, $O_{21}=8$,\n",
    "and $O_{22}=2$."
   ]
  },
  {
   "cell_type": "markdown",
   "metadata": {},
   "source": [
    "\\begin{align}\n",
    "r_1 &= O_{11} + O_{12} = 1 + 6 = 7 \\\\\n",
    "r_2 &= O_{21} + O_{22} = 8 + 2 = 10 \\\\\n",
    "c_1 &= O_{11} + O_{21} = 1 + 8 = 9 \\\\\n",
    "c_2 &= O_{12} + O_{22} = 6 + 2 = 8 \\\\\n",
    "N &= r_1 + r_2 = 17\n",
    "\\end{align}"
   ]
  },
  {
   "cell_type": "markdown",
   "metadata": {},
   "source": [
    "**(a)** The evidence $$p({{\\mathbf{x}}}|H_0)\n",
    "  = \\int_0^1\\int_0^1 p({{\\mathbf{x}}}|\\{p_{ij}\\})\\,dp_{1\\bullet}\\,dp_{\\bullet 1}$$\n",
    "for a model $H_0$ in which the probability for an observation to land in\n",
    "row $i$ and column $j$ is $p_{ij}=p_{i\\bullet}\\,p_{\\bullet j}$, where\n",
    "$p_{2\\bullet}=1-p_{1\\bullet}$ and $p_{\\bullet 2}=1-p_{\\bullet 1}$, and\n",
    "the model assigns a uniform distribution to the parameters\n",
    "$p_{1\\bullet}$ and $p_{\\bullet 1}$. You may find the Beta function\n",
    "identity $\\int_0^1 u^k(1-u)^\\ell\\,du=\\frac{k!\\ell!}{(k+\\ell+1)!}$\n",
    "useful."
   ]
  },
  {
   "cell_type": "markdown",
   "metadata": {},
   "source": [
    "\\begin{align}\n",
    "p(\\mathbf{x} \\mid H_0) \n",
    "&= \\int_0^1 \\int_0^1 p(\\mathbf{x} \\mid \\{p_{ij}\\}) \\, dp_{1\\bullet} \\, dp_{\\bullet 1} \\\\\n",
    "&= \\int_0^1 p_{1\\bullet}^{r_1} (1 - p_{1\\bullet})^{r_2} \\, dp_{1\\bullet} \\cdot \\int_0^1 p_{\\bullet 1}^{c_1} (1 - p_{\\bullet 1})^{c_2} \\, dp_{\\bullet 1} \\\\\n",
    "&= \\frac{r_1! \\, r_2!}{(N+1)!} \\cdot \\frac{c_1! \\, c_2!}{(N+1)!} \\\\\n",
    "&= \\frac{r_1! \\, r_2! \\, c_1! \\, c_2!}{(N+1)!^2}\n",
    "\\end{align}\n",
    "\n",
    "\\begin{align}\n",
    "p(\\mathbf{x} \\mid H_0) \n",
    "&= \\frac{7! \\cdot 10! \\cdot 9! \\cdot 8!}{(18!)^2}\n",
    "\\end{align}"
   ]
  },
  {
   "cell_type": "markdown",
   "metadata": {},
   "source": [
    "**(b)** The evidence $$p({{\\mathbf{x}}}|H_1)\n",
    "  = \\int_0^1\\int_0^1\\int_0^1 p({{\\mathbf{x}}}|\\{p_{ij}\\})\\,dp_{1\\bullet}\\,dp^{(1)}_1\\,dp^{(2)}_1$$\n",
    "for a model $H_1$ in which the probability for an observation to land in\n",
    "row $i$ and column $j$ is $p_{ij}=p_{i\\bullet}\\,p^{(i)}_j$, where\n",
    "$p_{2\\bullet}=1-p_{1\\bullet}$, $p^{(i)}_2=1-p^{(i)}_1$, and the model\n",
    "assigns a uniform distribution to the parameters\n",
    "$p_{1\\bullet}$, $p^{(1)}_1$, and $p^{(2)}_1$."
   ]
  },
  {
   "cell_type": "markdown",
   "metadata": {},
   "source": [
    "\\begin{align}\n",
    "p(\\mathbf{x} \\mid H_1) \n",
    "&= \\int_0^1 \\int_0^1 \\int_0^1 p(\\mathbf{x} \\mid \\{p_{ij}\\}) \\, dp_{1\\bullet} \\, dp^{(1)}_1 \\, dp^{(2)}_1 \\\\\n",
    "&= \\int_0^1 \\int_0^1 \\int_0^1 \n",
    "(p_{1\\bullet} p^{(1)}_1)^{O_{11}} \n",
    "(p_{1\\bullet} (1 - p^{(1)}_1))^{O_{12}} \n",
    "((1 - p_{1\\bullet}) p^{(2)}_1)^{O_{21}} \n",
    "((1 - p_{1\\bullet})(1 - p^{(2)}_1))^{O_{22}} \\, \n",
    "dp_{1\\bullet} \\, dp^{(1)}_1 \\, dp^{(2)}_1 \\\\\n",
    "&= \\int_0^1 \\int_0^1 \\int_0^1 \n",
    "p_{1\\bullet}^{O_{11} + O_{12}} \n",
    "(1 - p_{1\\bullet})^{O_{21} + O_{22}} \n",
    "(p^{(1)}_1)^{O_{11}} (1 - p^{(1)}_1)^{O_{12}} \n",
    "(p^{(2)}_1)^{O_{21}} (1 - p^{(2)}_1)^{O_{22}} \\,\n",
    "dp_{1\\bullet} \\, dp^{(1)}_1 \\, dp^{(2)}_1 \\\\\n",
    "&= \\left[ \\int_0^1 p_{1\\bullet}^{r_1} (1 - p_{1\\bullet})^{r_2} \\, dp_{1\\bullet} \\right]\n",
    "\\left[ \\int_0^1 (p^{(1)}_1)^{O_{11}} (1 - p^{(1)}_1)^{O_{12}} \\, dp^{(1)}_1 \\right]\n",
    "\\left[ \\int_0^1 (p^{(2)}_1)^{O_{21}} (1 - p^{(2)}_1)^{O_{22}} \\, dp^{(2)}_1 \\right] \\\\\n",
    "&= \\frac{r_1! \\, r_2!}{(N+1)!} \\cdot \\frac{O_{11}! \\, O_{12}!}{(O_{11} + O_{12} + 1)!} \\cdot \\frac{O_{21}! \\, O_{22}!}{(O_{21} + O_{22} + 1)!}\n",
    "\\end{align}\n",
    "\n",
    "\\begin{align}\n",
    "p(\\mathbf{x} \\mid H_1)\n",
    "&= \\frac{7! \\cdot 10!}{18!} \\cdot \\frac{1! \\cdot 6!}{(1 + 6 + 1)!} \\cdot \\frac{8! \\cdot 2!}{(8 + 2 + 1)!} \\\\\n",
    "&= \\frac{7! \\cdot 10! \\cdot 1! \\cdot 6! \\cdot 8! \\cdot 2!}{18! \\cdot 8! \\cdot 11!}\n",
    "\\end{align}"
   ]
  },
  {
   "cell_type": "markdown",
   "metadata": {},
   "source": [
    "**(c)** The evidence $$p({{\\mathbf{x}}}|H_2)\n",
    "  = 6\n",
    "  \\int_0^{1-p_{11}-p_{12}}\\int_0^{1-p_{11}}\\int_0^1 p({{\\mathbf{x}}}|\\{p_{ij}\\})\n",
    "  \\,dp_{11}\\,dp_{12}\\,dp_{21}$$ for a model $H_2$ in which any set of\n",
    "non-negative probabilities satisfying $p_{11}+p_{12}+p_{21}+p_{22}=1$ is\n",
    "equally likely. You may find the identity\\\n",
    "$\\int_0^{1-u-v}\\int_0^{1-u}1\\int_0^1 u^k v^\\ell w^m\n",
    "  (1-u-v-w)^n\\,du\\,dv\\,dw=\\frac{k!\\ell!m!n!}{(k+\\ell+m+n+3)!}$ useful."
   ]
  },
  {
   "cell_type": "markdown",
   "metadata": {},
   "source": [
    "\\begin{align}\n",
    "p(\\mathbf{x} \\mid H_2)\n",
    "&= 6 \\int_0^{1 - p_{11} - p_{12}} \\int_0^{1 - p_{11}} \\int_0^1 \n",
    "p_{11}^{O_{11}} p_{12}^{O_{12}} p_{21}^{O_{21}} (1 - p_{11} - p_{12} - p_{21})^{O_{22}} \n",
    "\\, dp_{11} \\, dp_{12} \\, dp_{21} \\\\\n",
    "&= 6 \\cdot \\frac{O_{11}! \\, O_{12}! \\, O_{21}! \\, O_{22}!}{(O_{11} + O_{12} + O_{21} + O_{22} + 3)!} \\\\\n",
    "&= 6 \\cdot \\frac{O_{11}! \\, O_{12}! \\, O_{21}! \\, O_{22}!}{(N + 3)!}\n",
    "\\end{align}\n",
    "\n",
    "\\begin{align}\n",
    "p(\\mathbf{x} \\mid H_2)\n",
    "&= 6 \\cdot \\frac{1! \\cdot 6! \\cdot 8! \\cdot 2!}{20!}\n",
    "\\end{align}"
   ]
  },
  {
   "cell_type": "markdown",
   "metadata": {},
   "source": [
    "**(d)** The Bayes factor $p({{\\mathbf{x}}}|H_1)/p({{\\mathbf{x}}}|H_0)$, which is\n",
    "a measure of how much the data favor a model with row-dependent column\n",
    "probabilities over one with row-independent column probabilities."
   ]
  },
  {
   "cell_type": "markdown",
   "metadata": {},
   "source": [
    "\\begin{align}\n",
    "B_{10}\n",
    "&= \\frac{p(\\mathbf{x} \\mid H_1)}{p(\\mathbf{x} \\mid H_0)} \\\\\n",
    "&= \\frac{\n",
    "    \\dfrac{O_{1\\bullet}! \\, O_{2\\bullet}! \\, O_{11}! \\, O_{12}! \\, O_{21}! \\, O_{22}!}\n",
    "          {(N+2)! \\, (O_{11} + O_{12} + 1)(O_{21} + O_{22} + 1)}\n",
    "}{\n",
    "    \\dfrac{O_{1\\bullet}! \\, O_{2\\bullet}! \\, O_{\\bullet 1}! \\, O_{\\bullet 2}!}\n",
    "          {(N+1)! \\, O_{11}! \\, O_{12}! \\, O_{21}! \\, O_{22}!}\n",
    "} \\\\\n",
    "&= \\frac{\n",
    "    O_{11}! \\, O_{12}! \\, O_{21}! \\, O_{22}! \\cdot (N+1)!\n",
    "}{\n",
    "    (N+2)! \\cdot (O_{11} + O_{12} + 1)(O_{21} + O_{22} + 1) \\cdot O_{\\bullet 1}! \\cdot O_{\\bullet 2}!\n",
    "}\n",
    "\\end{align}\n",
    "\n",
    "\\begin{align}\n",
    "B_{10}\n",
    "= \\frac{\n",
    "    1! \\cdot 6! \\cdot 8! \\cdot 2! \\cdot 18!\n",
    "}{\n",
    "    19! \\cdot (1+6+1)(8+2+1) \\cdot 9! \\cdot 8!\n",
    "} \n",
    "\\end{align}\n"
   ]
  },
  {
   "cell_type": "markdown",
   "metadata": {},
   "source": [
    "**(e)** The Bayes factor $p({{\\mathbf{x}}}|H_2)/p({{\\mathbf{x}}}|H_0)$, which is\n",
    "a measure of how much the data favor a model of correlated categorical\n",
    "data over one of uncorrleated data."
   ]
  },
  {
   "cell_type": "markdown",
   "metadata": {},
   "source": [
    "\\begin{align}\n",
    "B_{20}\n",
    "&= \\frac{p(\\mathbf{x} \\mid H_2)}{p(\\mathbf{x} \\mid H_0)} \\\\\n",
    "&= \\frac{\n",
    "    \\dfrac{6 \\cdot O_{11}! \\, O_{12}! \\, O_{21}! \\, O_{22}!}{(N+3)!}\n",
    "}{\n",
    "    \\dfrac{O_{1\\bullet}! \\, O_{2\\bullet}! \\, O_{\\bullet 1}! \\, O_{\\bullet 2}!}{(N+1)! \\, O_{11}! \\, O_{12}! \\, O_{21}! \\, O_{22}!}\n",
    "} \\\\\n",
    "&= \\frac{\n",
    "    6 \\cdot (N+1)! \\cdot O_{11}! \\, O_{12}! \\, O_{21}! \\, O_{22}!\n",
    "}{\n",
    "    (N+3)! \\cdot O_{1\\bullet}! \\, O_{2\\bullet}! \\, O_{\\bullet 1}! \\, O_{\\bullet 2}!\n",
    "}\n",
    "\\end{align}\n",
    "\n",
    "\\begin{align}\n",
    "B_{20}\n",
    "&= \\frac{\n",
    "    6 \\cdot 18! \\cdot 1! \\cdot 6! \\cdot 8! \\cdot 2!\n",
    "}{\n",
    "    20! \\cdot 7! \\cdot 10! \\cdot 9! \\cdot 8!\n",
    "}\n",
    "\\end{align}"
   ]
  },
  {
   "cell_type": "code",
   "execution_count": null,
   "metadata": {},
   "outputs": [],
   "source": []
  }
 ],
 "metadata": {
  "kernelspec": {
   "display_name": "Python 3 (ipykernel)",
   "language": "python",
   "name": "python3"
  },
  "language_info": {
   "codemirror_mode": {
    "name": "ipython",
    "version": 3
   },
   "file_extension": ".py",
   "mimetype": "text/x-python",
   "name": "python",
   "nbconvert_exporter": "python",
   "pygments_lexer": "ipython3",
   "version": "3.9.7"
  }
 },
 "nbformat": 4,
 "nbformat_minor": 4
}
