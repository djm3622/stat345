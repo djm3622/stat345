{
 "cells": [
  {
   "cell_type": "markdown",
   "id": "317725a2",
   "metadata": {
    "slideshow": {
     "slide_type": "slide"
    }
   },
   "source": [
    "# STAT 345: Nonparametric Statistics\n",
    "\n",
    "## Lesson 00.1: Intro to the Course and Setting up Computing Environment\n",
    "\n",
    "**Reading: Conover Chapter 1**\n",
    "\n",
    "*Prof. John T. Whelan*\n",
    "\n",
    "Tuesday 14 January 2025"
   ]
  },
  {
   "cell_type": "markdown",
   "id": "c4c1c729",
   "metadata": {
    "slideshow": {
     "slide_type": "slide"
    },
    "tags": []
   },
   "source": [
    "## Preliminaries"
   ]
  },
  {
   "cell_type": "markdown",
   "id": "4d17ed3f",
   "metadata": {
    "slideshow": {
     "slide_type": "subslide"
    }
   },
   "source": [
    "### Administrata\n",
    "\n",
    "-   Introductions!\n",
    "-   [Syllabus](syllabus.pdf)\n",
    "-   Instructor’s name (Whelan) rhymes with \"wailin’\". \n",
    "-   Text: Conover, *Practical Nonparametric Statistics*, 3rd edition.<br>(See syllabus for other resources.)\n",
    "-   Course materials in MyCourses; see especially [timetable](timetable.html)<br>(but also \"Content\" and \"Assignments\")\n",
    "-   Materials from previous section may be useful:<br>http://ccrg.rit.edu/~whelan/courses/2018_3fa_STAT_345/"
   ]
  },
  {
   "cell_type": "markdown",
   "id": "d63f7a93",
   "metadata": {
    "slideshow": {
     "slide_type": "subslide"
    }
   },
   "source": [
    "### Course work:\n",
    "\n",
    "- Read relevant sections of textbook before class\n",
    "- Conover has many short exercises; answers to odd-numbers in the book, but more useful if you try them before looking!"
   ]
  },
  {
   "cell_type": "markdown",
   "id": "c9221ec2",
   "metadata": {
    "slideshow": {
     "slide_type": "fragment"
    }
   },
   "source": [
    "- Problem Sets distributed & collected in MyCourses.\n",
    "   - Part One: book problems\n",
    "   - Part Two: computational exercise"
   ]
  },
  {
   "cell_type": "markdown",
   "id": "2d1eb118",
   "metadata": {
    "slideshow": {
     "slide_type": "fragment"
    }
   },
   "source": [
    "- Prelim exam (think midterm, but there are two of them) format TBC.\n",
    "- Cumulative final exam"
   ]
  },
  {
   "cell_type": "markdown",
   "id": "aef1175d",
   "metadata": {
    "slideshow": {
     "slide_type": "subslide"
    }
   },
   "source": [
    "### Grading\n",
    "\n",
    "- 25% Problem Sets\n",
    "- 20% First Prelim Exam\n",
    "- 20% Second Prelim Exam\n",
    "- 35% Final Exam\n",
    "\n",
    "You'll get a separate grade on the \"quality point\" scale (e.g., 2.5--3.5\n",
    "is the B--including B- and B+--range) for each of these four components; course grade is\n",
    "weighted average."
   ]
  },
  {
   "cell_type": "markdown",
   "id": "133d6b0b",
   "metadata": {
    "slideshow": {
     "slide_type": "subslide"
    }
   },
   "source": [
    "### COVID Considerations\n",
    "\n",
    "https://pmc19.com/data/\n",
    "\n",
    "<img src=\"pandemic010625.png\" width=\"70%\">"
   ]
  },
  {
   "cell_type": "markdown",
   "id": "95c8b863",
   "metadata": {
    "slideshow": {
     "slide_type": "subslide"
    }
   },
   "source": [
    "### COVID Considerations\n",
    "\n",
    "https://covid.cdc.gov/ &emsp;\n",
    "https://peoplescdc.org/ &emsp;\n",
    "https://pmc19.com/data/<br>\n",
    "https://www.cdc.gov/nwss/rv/COVID19-statetrend.html\n",
    "\n",
    "- After the \"autumn lull\", we've begun the \"winter wave\"<br>\n",
    "(plus school starting means new exposure opportunities)"
   ]
  },
  {
   "cell_type": "markdown",
   "id": "b6579c91",
   "metadata": {
    "slideshow": {
     "slide_type": "fragment"
    }
   },
   "source": [
    "- Lessons will be streamed over Zoom\n",
    "    - can attend in person or remotely\n",
    "    - no attendence requirement\n",
    "- Homework submitted online\n",
    "- Stay home if you're sick (attend remotely if up to it)\n",
    "- Consider masking indoors (KN95 > surgical > cloth)"
   ]
  },
  {
   "cell_type": "markdown",
   "id": "380b3a65",
   "metadata": {
    "slideshow": {
     "slide_type": "slide"
    }
   },
   "source": [
    "## Perspective on Nonparametric Methods"
   ]
  },
  {
   "cell_type": "markdown",
   "id": "06ad677f",
   "metadata": {
    "slideshow": {
     "slide_type": "fragment"
    }
   },
   "source": [
    "> \"...there are known knowns; there are things we know we know. We also know there are known unknowns; that is to say we know there are some things we do not know. But there are also unknown unknowns—the ones we don't know we don't know.\" -- Donald Rumsfeld, US Defense Secretary 1975-1977 & 2001-2006"
   ]
  },
  {
   "cell_type": "markdown",
   "id": "8b73deab",
   "metadata": {
    "slideshow": {
     "slide_type": "subslide"
    }
   },
   "source": [
    "- In intro stats (MATH-252, STAT-257 or STAT-205), learned procedures to estimate quantities & testing hypotheses, many based on the normal distribution.  May have seen arbitrary, but many are **optimal procedures**, known to outperform alternatives **if** underlying properties of the random data are known"
   ]
  },
  {
   "cell_type": "markdown",
   "id": "1177fb6f",
   "metadata": {
    "slideshow": {
     "slide_type": "fragment"
    }
   },
   "source": [
    "- E.g., if you have a sample drawn from a specified distribution with unknown parameters, you are quantifying the \"known unknowns\""
   ]
  },
  {
   "cell_type": "markdown",
   "id": "47fa2ccc",
   "metadata": {
    "slideshow": {
     "slide_type": "fragment"
    }
   },
   "source": [
    "- If you don't know the underlying distribution (not even what family it belongs to), you're dealing with \"unknown unknowns\", and nonparametric methods can be more useful."
   ]
  },
  {
   "cell_type": "markdown",
   "id": "395b4b6f",
   "metadata": {
    "slideshow": {
     "slide_type": "fragment"
    }
   },
   "source": [
    "- Note that “nonparametric” is often a misnomer; might be estimating the median of a distribution, which can be considered a parameter. More general term is **robust** methods, which may not be most efficient in ideal cases, but still perform well when simplifying assumptions don't apply."
   ]
  },
  {
   "cell_type": "markdown",
   "id": "4b128a80",
   "metadata": {
    "slideshow": {
     "slide_type": "subslide"
    }
   },
   "source": [
    "## Outline\n",
    "\n",
    "1.  Review/Basics of Probability and Statistical Inference (Chapters One and Two)\n",
    "\n",
    "2.  Binomial Tests (Chapter Three)\n",
    "\n",
    "3.  Rank-Based Tests (Chapter Five)\n",
    "\n",
    "4.  Kolmagorov-Smirnov Statistics (Chapter Six)\n",
    "\n",
    "5.  Contingency Tables (Chapter Four)"
   ]
  },
  {
   "cell_type": "markdown",
   "id": "7bb36b43",
   "metadata": {
    "slideshow": {
     "slide_type": "slide"
    }
   },
   "source": [
    "## Computing Environment"
   ]
  },
  {
   "cell_type": "markdown",
   "id": "edd74279",
   "metadata": {
    "slideshow": {
     "slide_type": "subslide"
    }
   },
   "source": [
    "We'll use computational tools, mostly Python & the SciPy `stats` package.  Main motivations:\n",
    "\n",
    "- Avoid anachronism of looking up probabilities & percentiles in tables.  (Reminiscent of math books from the 1980s w/tables of trig functions, exponentials, etc.)  Don't need to look up or interpolate the 97.5th percentile of the Student-$t$ distribution w/12 degrees of freedom if we can just use"
   ]
  },
  {
   "cell_type": "code",
   "execution_count": null,
   "id": "8a70ceeb",
   "metadata": {
    "slideshow": {
     "slide_type": "fragment"
    }
   },
   "outputs": [],
   "source": [
    "from scipy import stats\n",
    "stats.t(df=12).ppf(0.975)"
   ]
  },
  {
   "cell_type": "markdown",
   "id": "6957c776",
   "metadata": {
    "slideshow": {
     "slide_type": "fragment"
    }
   },
   "source": [
    "- Process realistic-sized data sets rather than copying down a dozen numbers from the textbook."
   ]
  },
  {
   "cell_type": "markdown",
   "id": "d842dcce",
   "metadata": {
    "slideshow": {
     "slide_type": "fragment"
    }
   },
   "source": [
    "- Some properties of nonparametric methods are difficult or impossible to prove analytically, but we can explore them numerically using Monte Carlo simulations."
   ]
  },
  {
   "cell_type": "markdown",
   "id": "64979c7a",
   "metadata": {
    "slideshow": {
     "slide_type": "fragment"
    },
    "tags": []
   },
   "source": [
    "- Also gain a potentially useful skill (data analysis with Python) in the process."
   ]
  },
  {
   "cell_type": "markdown",
   "id": "7ba97751",
   "metadata": {
    "slideshow": {
     "slide_type": "slide"
    }
   },
   "source": [
    "## Introduction to Python, NumPy and Jupyter"
   ]
  },
  {
   "cell_type": "markdown",
   "id": "9dc8f3da",
   "metadata": {
    "slideshow": {
     "slide_type": "fragment"
    },
    "tags": []
   },
   "source": [
    "- Lessons & assignments for this course are Jupyter notebooks\n",
    "- The notebook can run Python commands (other notebooks can use R or Julia; \"Ju-Pyt-R\").  Think: computational data analysis, not \"coding\"."
   ]
  },
  {
   "cell_type": "markdown",
   "id": "91604f00",
   "metadata": {
    "slideshow": {
     "slide_type": "fragment"
    }
   },
   "source": [
    "- Can run on JupyterHub server via http://vmware.rit.edu/ or download `.ipynb` file & run yourself (`ipynb` stands for IPython Notebook, an older name for Jupyter)"
   ]
  },
  {
   "cell_type": "markdown",
   "id": "6a94198a",
   "metadata": {
    "slideshow": {
     "slide_type": "fragment"
    }
   },
   "source": [
    "- Divided into \"cells\" of different types; we'll mostly use \"Markdown\" & \"Code\" cells\n",
    "- Shift-return either renders or executes a cell."
   ]
  },
  {
   "cell_type": "markdown",
   "id": "330ebf46",
   "metadata": {
    "slideshow": {
     "slide_type": "subslide"
    },
    "tags": []
   },
   "source": [
    "- If you want to run locally, you need to install Jupyter, Python and a few other packages.\n",
    "  * User-friendly option: Anaconda: https://www.anaconda.com/products/distribution\n",
    "  * More robust but still pretty easy: Mamba: https://mamba.readthedocs.io/en/latest/installation/mamba-installation.html"
   ]
  },
  {
   "cell_type": "markdown",
   "id": "d9b31a2c",
   "metadata": {
    "slideshow": {
     "slide_type": "fragment"
    },
    "tags": []
   },
   "source": [
    "- My local installation used (in 2023):\n",
    "<pre>~/mambaforge/bin/mamba create -n STAT345\n",
    "conda activate STAT345\n",
    "mamba install jupyter\n",
    "mamba install scipy\n",
    "pip install rise\n",
    "mamba install jupyterlab\n",
    "mamba install jupytext\n",
    "pip install nbmerge\n",
    "mamba install matplotlib</pre>"
   ]
  },
  {
   "cell_type": "markdown",
   "id": "6173450c",
   "metadata": {
    "slideshow": {
     "slide_type": "subslide"
    }
   },
   "source": [
    "### Markdown Cells"
   ]
  },
  {
   "cell_type": "markdown",
   "id": "48a9fbd1",
   "metadata": {
    "slideshow": {
     "slide_type": "fragment"
    }
   },
   "source": [
    "- Markdown is a simple formatting language. (Its name is a pun on \"markup\")\n",
    "- Designed so raw code is legible even if not rendered.\n",
    "- Can use *italics*, **bold**, or `monospace`.\n",
    "- Most significantly, can use features of LaTeX to format math.\n",
    "- Easiest introduction to LaTeX is to double-click on a markdown cell and see the source"
   ]
  },
  {
   "cell_type": "markdown",
   "id": "c2eb3b2f",
   "metadata": {
    "slideshow": {
     "slide_type": "fragment"
    }
   },
   "source": [
    "1. Math is written in dollar signs, like $x=5$."
   ]
  },
  {
   "cell_type": "markdown",
   "id": "629690b3",
   "metadata": {
    "slideshow": {
     "slide_type": "fragment"
    }
   },
   "source": [
    "2. If you use double dollar signs, you get things displayed on a line by themselves, like\n",
    "$$\n",
    "X = a + 3 b\n",
    "$$"
   ]
  },
  {
   "cell_type": "markdown",
   "id": "45f2b6f9",
   "metadata": {
    "slideshow": {
     "slide_type": "subslide"
    }
   },
   "source": [
    "3. Subscripts and superscripts are written with `_` and `^`, respectively: $x_1=2.45$, $2^4=16$."
   ]
  },
  {
   "cell_type": "markdown",
   "id": "43051ecd",
   "metadata": {
    "slideshow": {
     "slide_type": "fragment"
    }
   },
   "source": [
    "4. Braces `{` and `}` can be used to enclose expressions when needed: $x_{10}$ not $x_10$."
   ]
  },
  {
   "cell_type": "markdown",
   "id": "c57e26e7",
   "metadata": {
    "slideshow": {
     "slide_type": "fragment"
    }
   },
   "source": [
    "5. Greek letters and other special characters are written with a backslash: $x=\\mu\\pm \\sigma$."
   ]
  },
  {
   "cell_type": "markdown",
   "id": "e9fdf02c",
   "metadata": {
    "slideshow": {
     "slide_type": "fragment"
    }
   },
   "source": [
    "6. Fractions can be written with the `\\frac` macro: $\\frac{dy}{dx}=\\sqrt{x}$"
   ]
  },
  {
   "cell_type": "markdown",
   "id": "fb132194",
   "metadata": {
    "slideshow": {
     "slide_type": "fragment"
    }
   },
   "source": [
    "7. Sums, integrals and products have large operators defining them:\n",
    "$$\n",
    "\\int_0^x e^t\\,dt = \\sum_{n=0}^{\\infty} \\frac{x^n}{n!}\n",
    "$$"
   ]
  },
  {
   "cell_type": "markdown",
   "id": "7181381c",
   "metadata": {
    "slideshow": {
     "slide_type": "fragment"
    }
   },
   "source": [
    "You can get a lot more documentation by doing a web search for something like `jupyter markdown`."
   ]
  },
  {
   "cell_type": "markdown",
   "id": "f4db0d16",
   "metadata": {
    "slideshow": {
     "slide_type": "subslide"
    }
   },
   "source": [
    "## Python Basics\n",
    "<img alt=\"Webcomic: Python\" src=\"python.png\" height=\"100%\">\n",
    "https://xkcd.com/353/ \"Python\""
   ]
  },
  {
   "cell_type": "markdown",
   "id": "94b2f51d",
   "metadata": {
    "slideshow": {
     "slide_type": "subslide"
    }
   },
   "source": [
    "- We'll also use Code cells, which contain commands to be executed.  We'll use Python 3, but Jupyter can also handle other languages like R, Julia, and SageMath (you can change the language in the notebook if you have a strong preference)"
   ]
  },
  {
   "cell_type": "markdown",
   "id": "3328213c",
   "metadata": {
    "slideshow": {
     "slide_type": "fragment"
    }
   },
   "source": [
    "- Python is an interpreted/scripting language, so you can type simple commands & run them one at a time without worrying about technical details like allocating memory, declaring variables, etc."
   ]
  },
  {
   "cell_type": "markdown",
   "id": "5d637485",
   "metadata": {
    "slideshow": {
     "slide_type": "fragment"
    }
   },
   "source": [
    "- In addition to the basic built-in Python commands, we'll use a few specific libraries extensively:\n",
    "  * Numerical Python or NumPy for computations and sophisticated data types\n",
    "  * Scientific Python or SciPy, especially the `scipy.stats` package\n",
    "  * Matplotlib for plotting"
   ]
  },
  {
   "cell_type": "markdown",
   "id": "2bd8d401",
   "metadata": {
    "slideshow": {
     "slide_type": "fragment"
    }
   },
   "source": [
    "- We'll go over some of the most basic/important tricks here; you can examine skipped-over sections in the notebook at your leisure."
   ]
  },
  {
   "cell_type": "markdown",
   "id": "3f55e8d1",
   "metadata": {
    "slideshow": {
     "slide_type": "subslide"
    }
   },
   "source": [
    "We start with some boilerplate to display plots in the notebook (other possibilities are `%matplotlib notebook` or the deprecated `%pylab inline`)"
   ]
  },
  {
   "cell_type": "code",
   "execution_count": null,
   "id": "20922053",
   "metadata": {
    "slideshow": {
     "slide_type": "fragment"
    }
   },
   "outputs": [],
   "source": [
    "%matplotlib inline"
   ]
  },
  {
   "cell_type": "markdown",
   "id": "41d509c8",
   "metadata": {
    "slideshow": {
     "slide_type": "fragment"
    }
   },
   "source": [
    "Also to import the libraries we'll use often:"
   ]
  },
  {
   "cell_type": "code",
   "execution_count": null,
   "id": "27f61de1",
   "metadata": {
    "slideshow": {
     "slide_type": "fragment"
    }
   },
   "outputs": [],
   "source": [
    "import numpy as np\n",
    "from scipy import stats\n",
    "import matplotlib.pyplot as plt"
   ]
  },
  {
   "cell_type": "markdown",
   "id": "04e9949e",
   "metadata": {
    "slideshow": {
     "slide_type": "fragment"
    }
   },
   "source": [
    "And finally some tweaks to make the figures a little more legible:"
   ]
  },
  {
   "cell_type": "code",
   "execution_count": null,
   "id": "a458a152",
   "metadata": {
    "slideshow": {
     "slide_type": "fragment"
    }
   },
   "outputs": [],
   "source": [
    "plt.rcParams['figure.figsize'] = (8.0,5.0)\n",
    "plt.rcParams['font.size'] = 14"
   ]
  },
  {
   "cell_type": "markdown",
   "id": "822e288d",
   "metadata": {
    "slideshow": {
     "slide_type": "subslide"
    }
   },
   "source": [
    "### Data Types"
   ]
  },
  {
   "cell_type": "markdown",
   "id": "0950cd6f",
   "metadata": {
    "slideshow": {
     "slide_type": "fragment"
    },
    "tags": []
   },
   "source": [
    "Don't have to declare variables, but they do still have distinct types.  E.g. numbers can be integers:"
   ]
  },
  {
   "cell_type": "code",
   "execution_count": null,
   "id": "b8707557",
   "metadata": {
    "slideshow": {
     "slide_type": "fragment"
    }
   },
   "outputs": [],
   "source": [
    "x = 3; x"
   ]
  },
  {
   "cell_type": "markdown",
   "id": "80090893",
   "metadata": {
    "slideshow": {
     "slide_type": "fragment"
    }
   },
   "source": [
    "Or \"floating point\":"
   ]
  },
  {
   "cell_type": "code",
   "execution_count": null,
   "id": "bf9d4f4f",
   "metadata": {
    "slideshow": {
     "slide_type": "fragment"
    }
   },
   "outputs": [],
   "source": [
    "y = 9.0; y"
   ]
  },
  {
   "cell_type": "code",
   "execution_count": null,
   "id": "830cffad",
   "metadata": {
    "slideshow": {
     "slide_type": "fragment"
    }
   },
   "outputs": [],
   "source": [
    "y + 1.5"
   ]
  },
  {
   "cell_type": "code",
   "execution_count": null,
   "id": "736d6dbb",
   "metadata": {
    "slideshow": {
     "slide_type": "fragment"
    }
   },
   "outputs": [],
   "source": [
    "y**(-6)"
   ]
  },
  {
   "cell_type": "markdown",
   "id": "c9e627d2",
   "metadata": {
    "slideshow": {
     "slide_type": "subslide"
    }
   },
   "source": [
    "Note that the operator for raising to a power is `**`, not `^`, which does something very different which we don't need right now:"
   ]
  },
  {
   "cell_type": "code",
   "execution_count": null,
   "id": "7abb3cad",
   "metadata": {
    "slideshow": {
     "slide_type": "fragment"
    }
   },
   "outputs": [],
   "source": [
    "10**2"
   ]
  },
  {
   "cell_type": "code",
   "execution_count": null,
   "id": "93f0ab18",
   "metadata": {
    "slideshow": {
     "slide_type": "fragment"
    }
   },
   "outputs": [],
   "source": [
    "10^2"
   ]
  },
  {
   "cell_type": "markdown",
   "id": "0e59611f",
   "metadata": {
    "slideshow": {
     "slide_type": "fragment"
    }
   },
   "source": [
    "Floating point arithmetic can sometimes lead to roundoff errors, since it's not possible to express all real numbers exactly:"
   ]
  },
  {
   "cell_type": "code",
   "execution_count": null,
   "id": "2bb39a69",
   "metadata": {
    "slideshow": {
     "slide_type": "fragment"
    }
   },
   "outputs": [],
   "source": [
    "1+1+1-3"
   ]
  },
  {
   "cell_type": "code",
   "execution_count": null,
   "id": "f73d1f87",
   "metadata": {
    "slideshow": {
     "slide_type": "fragment"
    }
   },
   "outputs": [],
   "source": [
    "0.1+0.1+0.1-0.3"
   ]
  },
  {
   "cell_type": "markdown",
   "id": "a526b2a9",
   "metadata": {
    "slideshow": {
     "slide_type": "skip"
    },
    "tags": []
   },
   "source": [
    "Integers and floats behave differently under division.  The `/` operator is for floating point division:"
   ]
  },
  {
   "cell_type": "code",
   "execution_count": null,
   "id": "077c7e60",
   "metadata": {
    "slideshow": {
     "slide_type": "skip"
    }
   },
   "outputs": [],
   "source": [
    "5. / 3."
   ]
  },
  {
   "cell_type": "markdown",
   "id": "07a58ccf",
   "metadata": {
    "slideshow": {
     "slide_type": "skip"
    },
    "tags": []
   },
   "source": [
    "While integer division with truncation is done with the `//`\n",
    "and the remainder is available with `%`:"
   ]
  },
  {
   "cell_type": "code",
   "execution_count": null,
   "id": "6b0e1742",
   "metadata": {
    "slideshow": {
     "slide_type": "skip"
    }
   },
   "outputs": [],
   "source": [
    "5 // 3"
   ]
  },
  {
   "cell_type": "code",
   "execution_count": null,
   "id": "6322f283",
   "metadata": {
    "slideshow": {
     "slide_type": "skip"
    }
   },
   "outputs": [],
   "source": [
    "5 % 3"
   ]
  },
  {
   "cell_type": "markdown",
   "id": "77c7ec38",
   "metadata": {
    "slideshow": {
     "slide_type": "skip"
    }
   },
   "source": [
    "As of Python 3, if you try to use `/` on integers, it automatically converts them to floating point first:"
   ]
  },
  {
   "cell_type": "code",
   "execution_count": null,
   "id": "dca05009",
   "metadata": {
    "slideshow": {
     "slide_type": "skip"
    }
   },
   "outputs": [],
   "source": [
    "5 / 3"
   ]
  },
  {
   "cell_type": "markdown",
   "id": "50655c9b",
   "metadata": {
    "slideshow": {
     "slide_type": "skip"
    }
   },
   "source": [
    "Python also has a string data type, with its own set of operations:"
   ]
  },
  {
   "cell_type": "code",
   "execution_count": null,
   "id": "58091c19",
   "metadata": {
    "slideshow": {
     "slide_type": "skip"
    }
   },
   "outputs": [],
   "source": [
    "x = 'foo'\n",
    "y = 'bar'\n",
    "x + y"
   ]
  },
  {
   "cell_type": "markdown",
   "id": "050715f4",
   "metadata": {
    "slideshow": {
     "slide_type": "subslide"
    }
   },
   "source": [
    "### Lists in Python"
   ]
  },
  {
   "cell_type": "markdown",
   "id": "35dbe818",
   "metadata": {
    "slideshow": {
     "slide_type": "fragment"
    }
   },
   "source": [
    "Python has a standard list datatype which can contain different types of data:"
   ]
  },
  {
   "cell_type": "code",
   "execution_count": null,
   "id": "63657852",
   "metadata": {
    "slideshow": {
     "slide_type": "fragment"
    }
   },
   "outputs": [],
   "source": [
    "stuff_i = [1,2.0,'three']; stuff_i"
   ]
  },
  {
   "cell_type": "markdown",
   "id": "98c6b59f",
   "metadata": {
    "slideshow": {
     "slide_type": "fragment"
    }
   },
   "source": [
    "You can use indices to get elements of the list.  Like many computing languages, Python counts from zero:"
   ]
  },
  {
   "cell_type": "code",
   "execution_count": null,
   "id": "c022126d",
   "metadata": {
    "slideshow": {
     "slide_type": "fragment"
    }
   },
   "outputs": [],
   "source": [
    "stuff_i[0]"
   ]
  },
  {
   "cell_type": "code",
   "execution_count": null,
   "id": "341d77ca",
   "metadata": {
    "slideshow": {
     "slide_type": "fragment"
    }
   },
   "outputs": [],
   "source": [
    "stuff_i[1]"
   ]
  },
  {
   "cell_type": "code",
   "execution_count": null,
   "id": "696116ab",
   "metadata": {
    "slideshow": {
     "slide_type": "fragment"
    }
   },
   "outputs": [],
   "source": [
    "stuff_i[2]"
   ]
  },
  {
   "cell_type": "markdown",
   "id": "6c4cbf1a",
   "metadata": {
    "slideshow": {
     "slide_type": "subslide"
    }
   },
   "source": [
    "One useful construction is that using `-1` as an index gives the last element (as opposed to R, where `stuff_i[-1]` would be an array containing all the elements *except* `stuff_i[1]`):"
   ]
  },
  {
   "cell_type": "code",
   "execution_count": null,
   "id": "f1519b07",
   "metadata": {
    "slideshow": {
     "slide_type": "fragment"
    }
   },
   "outputs": [],
   "source": [
    "stuff_i[-1]"
   ]
  },
  {
   "cell_type": "markdown",
   "id": "77f8ed64",
   "metadata": {
    "slideshow": {
     "slide_type": "fragment"
    }
   },
   "source": [
    "You can also specify multiple indices to get a \"slice\" of the list:"
   ]
  },
  {
   "cell_type": "code",
   "execution_count": null,
   "id": "edc8bd1f",
   "metadata": {
    "slideshow": {
     "slide_type": "fragment"
    }
   },
   "outputs": [],
   "source": [
    "stuff_i[0:2]"
   ]
  },
  {
   "cell_type": "markdown",
   "id": "d8be2030",
   "metadata": {
    "slideshow": {
     "slide_type": "fragment"
    }
   },
   "source": [
    "This says that `stuff_i[0]` is the first element in the slice, and `stuff_i[2]` is the first element *not* included in the slice.  Since starting with `stuff_i[0]` isn't actually a restriction, you can omit it:"
   ]
  },
  {
   "cell_type": "code",
   "execution_count": null,
   "id": "4447290b",
   "metadata": {
    "slideshow": {
     "slide_type": "fragment"
    }
   },
   "outputs": [],
   "source": [
    "stuff_i[:2]"
   ]
  },
  {
   "cell_type": "markdown",
   "id": "59c3fd30",
   "metadata": {
    "slideshow": {
     "slide_type": "subslide"
    }
   },
   "source": [
    "Also note that, since there are three elements in the list, element `2` and element `-1` are the same thing:"
   ]
  },
  {
   "cell_type": "code",
   "execution_count": null,
   "id": "0c2b0d16",
   "metadata": {
    "slideshow": {
     "slide_type": "fragment"
    }
   },
   "outputs": [],
   "source": [
    "stuff_i[:2]"
   ]
  },
  {
   "cell_type": "code",
   "execution_count": null,
   "id": "7bfd1d78",
   "metadata": {
    "slideshow": {
     "slide_type": "fragment"
    }
   },
   "outputs": [],
   "source": [
    "stuff_i[:-1]"
   ]
  },
  {
   "cell_type": "markdown",
   "id": "2fc50952",
   "metadata": {
    "slideshow": {
     "slide_type": "fragment"
    }
   },
   "source": [
    "You can also get the length of a list like this:"
   ]
  },
  {
   "cell_type": "code",
   "execution_count": null,
   "id": "aadffafb",
   "metadata": {
    "slideshow": {
     "slide_type": "fragment"
    }
   },
   "outputs": [],
   "source": [
    "len(stuff_i)"
   ]
  },
  {
   "cell_type": "markdown",
   "id": "0e6e9663",
   "metadata": {
    "slideshow": {
     "slide_type": "subslide"
    }
   },
   "source": [
    "You can also make a list of lists, which is useful for organizing things like samples of different sizes:"
   ]
  },
  {
   "cell_type": "code",
   "execution_count": null,
   "id": "0a8b374b",
   "metadata": {
    "slideshow": {
     "slide_type": "fragment"
    }
   },
   "outputs": [],
   "source": [
    "nestedstuff_i_j = [[1,2,3,4],[10,20,30]]\n",
    "nestedstuff_i_j"
   ]
  },
  {
   "cell_type": "code",
   "execution_count": null,
   "id": "13455795",
   "metadata": {
    "slideshow": {
     "slide_type": "fragment"
    }
   },
   "outputs": [],
   "source": [
    "nestedstuff_i_j[0]"
   ]
  },
  {
   "cell_type": "code",
   "execution_count": null,
   "id": "4154968c",
   "metadata": {
    "slideshow": {
     "slide_type": "fragment"
    }
   },
   "outputs": [],
   "source": [
    "nestedstuff_i_j[0][-1]"
   ]
  },
  {
   "cell_type": "markdown",
   "id": "698061c9",
   "metadata": {
    "slideshow": {
     "slide_type": "skip"
    }
   },
   "source": [
    "### Tuples"
   ]
  },
  {
   "cell_type": "markdown",
   "id": "991e4aff",
   "metadata": {
    "slideshow": {
     "slide_type": "skip"
    }
   },
   "source": [
    "One of the important features of lists is that you can modify elements of them after they've been defined:"
   ]
  },
  {
   "cell_type": "code",
   "execution_count": null,
   "id": "039dc04f",
   "metadata": {
    "slideshow": {
     "slide_type": "skip"
    }
   },
   "outputs": [],
   "source": [
    "stuff_i[2] = np.pi; stuff_i"
   ]
  },
  {
   "cell_type": "markdown",
   "id": "93eb5397",
   "metadata": {
    "slideshow": {
     "slide_type": "skip"
    }
   },
   "source": [
    "Closely related is a *tuple*; like a list, but \"immutable\", i.e., once you define it, you can't change its elements:"
   ]
  },
  {
   "cell_type": "code",
   "execution_count": null,
   "id": "b7f203d4",
   "metadata": {
    "slideshow": {
     "slide_type": "skip"
    }
   },
   "outputs": [],
   "source": [
    "stufftup_i = (1,2.0,'three'); stufftup_i"
   ]
  },
  {
   "cell_type": "code",
   "execution_count": null,
   "id": "07df3f98",
   "metadata": {
    "slideshow": {
     "slide_type": "skip"
    }
   },
   "outputs": [],
   "source": [
    "stufftup_i[2] = np.pi"
   ]
  },
  {
   "cell_type": "markdown",
   "id": "818f2a4d",
   "metadata": {
    "slideshow": {
     "slide_type": "skip"
    }
   },
   "source": [
    "The previous cell generates an error because `stufftup_i` is a tuple, and you're not allowed to modify it once it's been defined."
   ]
  },
  {
   "cell_type": "markdown",
   "id": "419e7cf8",
   "metadata": {
    "slideshow": {
     "slide_type": "subslide"
    }
   },
   "source": [
    "### NumPy Arrays\n",
    "\n",
    "NumPy introduces a generalization of the list (and list of lists) known as an array.  All of the data in an array has to be the same type, and if it's constructed from a list of lists, they must all be the same length.  Here is a one-index array, which is like a 3-element vector:"
   ]
  },
  {
   "cell_type": "code",
   "execution_count": null,
   "id": "9a92e3c4",
   "metadata": {
    "slideshow": {
     "slide_type": "fragment"
    }
   },
   "outputs": [],
   "source": [
    "A_i = np.array([1,2,3]); A_i"
   ]
  },
  {
   "cell_type": "markdown",
   "id": "cbcd404c",
   "metadata": {
    "slideshow": {
     "slide_type": "fragment"
    }
   },
   "source": [
    "And a two-dimensional array, which is like a $2\\times 3$ matrix:"
   ]
  },
  {
   "cell_type": "code",
   "execution_count": null,
   "id": "a743a952",
   "metadata": {
    "slideshow": {
     "slide_type": "fragment"
    }
   },
   "outputs": [],
   "source": [
    "B_ij = np.array([[1,2,3],[10,20,30]])\n",
    "B_ij"
   ]
  },
  {
   "cell_type": "markdown",
   "id": "02c65e4a",
   "metadata": {
    "slideshow": {
     "slide_type": "subslide"
    }
   },
   "source": [
    "Rather than the length of a multi-dimensional array, it's better to think of the \"shape\":"
   ]
  },
  {
   "cell_type": "code",
   "execution_count": null,
   "id": "e950b529",
   "metadata": {
    "slideshow": {
     "slide_type": "fragment"
    }
   },
   "outputs": [],
   "source": [
    "np.shape(A_i)"
   ]
  },
  {
   "cell_type": "code",
   "execution_count": null,
   "id": "21dbcc25",
   "metadata": {
    "slideshow": {
     "slide_type": "fragment"
    }
   },
   "outputs": [],
   "source": [
    "np.shape(B_ij)"
   ]
  },
  {
   "cell_type": "markdown",
   "id": "57108ed2",
   "metadata": {
    "slideshow": {
     "slide_type": "fragment"
    }
   },
   "source": [
    "The length is still defined, but it just says how many rows the array has:"
   ]
  },
  {
   "cell_type": "code",
   "execution_count": null,
   "id": "c5c76f34",
   "metadata": {
    "slideshow": {
     "slide_type": "fragment"
    }
   },
   "outputs": [],
   "source": [
    "len(B_ij)"
   ]
  },
  {
   "cell_type": "code",
   "execution_count": null,
   "id": "0c79b632",
   "metadata": {
    "slideshow": {
     "slide_type": "subslide"
    }
   },
   "outputs": [],
   "source": [
    "B_ij"
   ]
  },
  {
   "cell_type": "markdown",
   "id": "00cf29cc",
   "metadata": {
    "slideshow": {
     "slide_type": "fragment"
    }
   },
   "source": [
    "We can pull out elements of an array by specifying the indices:"
   ]
  },
  {
   "cell_type": "code",
   "execution_count": null,
   "id": "2f20d8a6",
   "metadata": {
    "slideshow": {
     "slide_type": "fragment"
    }
   },
   "outputs": [],
   "source": [
    "B_ij[0,2]"
   ]
  },
  {
   "cell_type": "markdown",
   "id": "050805d3",
   "metadata": {
    "slideshow": {
     "slide_type": "fragment"
    }
   },
   "source": [
    "We can also extract a given row:"
   ]
  },
  {
   "cell_type": "code",
   "execution_count": null,
   "id": "f02470da",
   "metadata": {
    "slideshow": {
     "slide_type": "fragment"
    }
   },
   "outputs": [],
   "source": [
    "B_ij[0,:]"
   ]
  },
  {
   "cell_type": "markdown",
   "id": "1f9a5ea0",
   "metadata": {
    "slideshow": {
     "slide_type": "fragment"
    }
   },
   "source": [
    "or column:"
   ]
  },
  {
   "cell_type": "code",
   "execution_count": null,
   "id": "8586af9f",
   "metadata": {
    "slideshow": {
     "slide_type": "fragment"
    }
   },
   "outputs": [],
   "source": [
    "B_ij[:,1]"
   ]
  },
  {
   "cell_type": "markdown",
   "id": "3d6875ac",
   "metadata": {
    "slideshow": {
     "slide_type": "subslide"
    }
   },
   "source": [
    "Unlike in languages like Matlab that have a preference for one- and two-dimensional structures, NumPy arrays can have any number of indices:"
   ]
  },
  {
   "cell_type": "code",
   "execution_count": null,
   "id": "501b0db9",
   "metadata": {
    "slideshow": {
     "slide_type": "fragment"
    }
   },
   "outputs": [],
   "source": [
    "C_kij = np.array([B_ij,2*B_ij]); C_kij"
   ]
  },
  {
   "cell_type": "code",
   "execution_count": null,
   "id": "0a5e0e08",
   "metadata": {
    "slideshow": {
     "slide_type": "fragment"
    }
   },
   "outputs": [],
   "source": [
    "np.shape(C_kij)"
   ]
  },
  {
   "cell_type": "code",
   "execution_count": null,
   "id": "db889648",
   "metadata": {
    "slideshow": {
     "slide_type": "fragment"
    }
   },
   "outputs": [],
   "source": [
    "C_kij[0,1,0]"
   ]
  },
  {
   "cell_type": "code",
   "execution_count": null,
   "id": "2b28351e",
   "metadata": {
    "slideshow": {
     "slide_type": "fragment"
    }
   },
   "outputs": [],
   "source": [
    "C_kij[0]"
   ]
  },
  {
   "cell_type": "code",
   "execution_count": null,
   "id": "c7831149",
   "metadata": {
    "slideshow": {
     "slide_type": "fragment"
    }
   },
   "outputs": [],
   "source": [
    "B_ij"
   ]
  },
  {
   "cell_type": "markdown",
   "id": "fa4f2d3f",
   "metadata": {
    "slideshow": {
     "slide_type": "skip"
    }
   },
   "source": [
    "The shape tells you what the range of the indices for the array is, but you can also use `ndim` to get the number of indices if that's all you need:"
   ]
  },
  {
   "cell_type": "code",
   "execution_count": null,
   "id": "bab0607f",
   "metadata": {
    "slideshow": {
     "slide_type": "skip"
    }
   },
   "outputs": [],
   "source": [
    "np.ndim(A_i)"
   ]
  },
  {
   "cell_type": "code",
   "execution_count": null,
   "id": "5fafc329",
   "metadata": {
    "slideshow": {
     "slide_type": "skip"
    }
   },
   "outputs": [],
   "source": [
    "np.ndim(B_ij)"
   ]
  },
  {
   "cell_type": "code",
   "execution_count": null,
   "id": "47bb8b77",
   "metadata": {
    "slideshow": {
     "slide_type": "skip"
    }
   },
   "outputs": [],
   "source": [
    "np.ndim(C_kij)"
   ]
  },
  {
   "cell_type": "markdown",
   "id": "9b76a51f",
   "metadata": {
    "slideshow": {
     "slide_type": "subslide"
    }
   },
   "source": [
    "\"Best practice\" for names of array variables: It's easy to lose track of how many and what kind of \"indices\" an array has, so I encode this in the variable name.  `B_ij` has an index of type `i` and an index of type `j`."
   ]
  },
  {
   "cell_type": "markdown",
   "id": "bd76c0a8",
   "metadata": {
    "slideshow": {
     "slide_type": "fragment"
    }
   },
   "source": [
    "We wrote `C_kij` because `C_kij[0]` is `B_ij` which means the last two indices of `C_kij` are of the same type as `B_ij`."
   ]
  },
  {
   "cell_type": "markdown",
   "id": "0b46fec3",
   "metadata": {
    "slideshow": {
     "slide_type": "fragment"
    }
   },
   "source": [
    "Note that an array can have more than one of the same kind of index.  For example, the outer product $M_{ij}=A_i A_j$ (or perhaps better written $M_{ii'}=A_i A_{i'}$) can be written"
   ]
  },
  {
   "cell_type": "code",
   "execution_count": null,
   "id": "ec94d8b0",
   "metadata": {
    "slideshow": {
     "slide_type": "fragment"
    }
   },
   "outputs": [],
   "source": [
    "M_ii = np.outer(A_i,A_i); M_ii"
   ]
  },
  {
   "cell_type": "markdown",
   "id": "6334da91",
   "metadata": {
    "slideshow": {
     "slide_type": "subslide"
    }
   },
   "source": [
    "If we for example sum over one index, we can write $D_{kj} = \\sum_i C_{kij}$ as follows:"
   ]
  },
  {
   "cell_type": "code",
   "execution_count": null,
   "id": "9989c781",
   "metadata": {
    "slideshow": {
     "slide_type": "fragment"
    }
   },
   "outputs": [],
   "source": [
    "C_kij"
   ]
  },
  {
   "cell_type": "code",
   "execution_count": null,
   "id": "dc0ee4bf",
   "metadata": {
    "slideshow": {
     "slide_type": "fragment"
    }
   },
   "outputs": [],
   "source": [
    "D_kj = np.sum(C_kij,axis=1); D_kj"
   ]
  },
  {
   "cell_type": "markdown",
   "id": "bbb64db0",
   "metadata": {
    "slideshow": {
     "slide_type": "fragment"
    }
   },
   "source": [
    "The `axis=1` means we sum over the middle index, i.e., the one that we're calling type `i`."
   ]
  },
  {
   "cell_type": "markdown",
   "id": "6205ce39",
   "metadata": {
    "slideshow": {
     "slide_type": "subslide"
    }
   },
   "source": [
    "You can take slices out of arrays as well:"
   ]
  },
  {
   "cell_type": "code",
   "execution_count": null,
   "id": "a954d43e",
   "metadata": {
    "slideshow": {
     "slide_type": "fragment"
    }
   },
   "outputs": [],
   "source": [
    "C_kij"
   ]
  },
  {
   "cell_type": "code",
   "execution_count": null,
   "id": "ae278cfd",
   "metadata": {
    "slideshow": {
     "slide_type": "fragment"
    }
   },
   "outputs": [],
   "source": [
    "C_kij[0,:,:]"
   ]
  },
  {
   "cell_type": "code",
   "execution_count": null,
   "id": "878fe624",
   "metadata": {
    "slideshow": {
     "slide_type": "fragment"
    }
   },
   "outputs": [],
   "source": [
    "np.shape(C_kij[0,:,:])"
   ]
  },
  {
   "cell_type": "code",
   "execution_count": null,
   "id": "8a7fadb3",
   "metadata": {
    "slideshow": {
     "slide_type": "fragment"
    }
   },
   "outputs": [],
   "source": [
    "C_kij[0,:,:-1]"
   ]
  },
  {
   "cell_type": "code",
   "execution_count": null,
   "id": "3af0c679",
   "metadata": {
    "slideshow": {
     "slide_type": "fragment"
    }
   },
   "outputs": [],
   "source": [
    "np.shape(C_kij[0,:,:-1])"
   ]
  },
  {
   "cell_type": "markdown",
   "id": "f55a648f",
   "metadata": {
    "slideshow": {
     "slide_type": "subslide"
    }
   },
   "source": [
    "Note that lists and arrays don't always behave the same.  For lists (as for strings), the addition operator concatenates the two lists together:"
   ]
  },
  {
   "cell_type": "code",
   "execution_count": null,
   "id": "e4ceee95",
   "metadata": {
    "slideshow": {
     "slide_type": "fragment"
    }
   },
   "outputs": [],
   "source": [
    "stuff_i + stuff_i"
   ]
  },
  {
   "cell_type": "markdown",
   "id": "e253bda9",
   "metadata": {
    "slideshow": {
     "slide_type": "fragment"
    }
   },
   "source": [
    "But for arrays, it performs element-by-element addition; output has the same length as the inputs:"
   ]
  },
  {
   "cell_type": "code",
   "execution_count": null,
   "id": "420d672b",
   "metadata": {
    "slideshow": {
     "slide_type": "fragment"
    }
   },
   "outputs": [],
   "source": [
    "A_i + A_i"
   ]
  },
  {
   "cell_type": "markdown",
   "id": "0503cb3a",
   "metadata": {
    "slideshow": {
     "slide_type": "fragment"
    }
   },
   "source": [
    "If you really do want to concatenate arrays together, there's an operator to do this:"
   ]
  },
  {
   "cell_type": "code",
   "execution_count": null,
   "id": "e9bf3b10",
   "metadata": {
    "slideshow": {
     "slide_type": "fragment"
    }
   },
   "outputs": [],
   "source": [
    "np.concatenate((A_i,A_i))"
   ]
  },
  {
   "cell_type": "markdown",
   "id": "41df69cd",
   "metadata": {
    "slideshow": {
     "slide_type": "slide"
    }
   },
   "source": [
    "### Displaying data"
   ]
  },
  {
   "cell_type": "markdown",
   "id": "138b6b3f",
   "metadata": {
    "slideshow": {
     "slide_type": "fragment"
    }
   },
   "source": [
    "We've seen that you can show the contents of a variable by just giving that variable as an input command:"
   ]
  },
  {
   "cell_type": "code",
   "execution_count": null,
   "id": "e7c44353",
   "metadata": {
    "slideshow": {
     "slide_type": "fragment"
    }
   },
   "outputs": [],
   "source": [
    "A_i"
   ]
  },
  {
   "cell_type": "markdown",
   "id": "0bdcc5a5",
   "metadata": {
    "slideshow": {
     "slide_type": "fragment"
    }
   },
   "source": [
    "There is also a `print` command which usually gives a somewhat simplified representation:"
   ]
  },
  {
   "cell_type": "code",
   "execution_count": null,
   "id": "e1564b8e",
   "metadata": {
    "slideshow": {
     "slide_type": "fragment"
    }
   },
   "outputs": [],
   "source": [
    "print(A_i)"
   ]
  },
  {
   "cell_type": "markdown",
   "id": "ec0ca668",
   "metadata": {
    "slideshow": {
     "slide_type": "subslide"
    }
   },
   "source": [
    "No `printf()` command in Python, but analogous syntax using the `%` operator.  Construction like `string % list`, acts like `sprintf(string,list)`, replacing parts of `string` with number from `list`.  Easiest to see with a couple of examples:"
   ]
  },
  {
   "cell_type": "code",
   "execution_count": null,
   "id": "0e7264d9",
   "metadata": {
    "slideshow": {
     "slide_type": "fragment"
    }
   },
   "outputs": [],
   "source": [
    "print(('We can format variables as integers: %d\\n'\n",
    "      +'floating point: %f\\n'+'scientific notation: %e\\n'\n",
    "      +'general: %g or %g\\n'\n",
    "      +'or string: %s')\n",
    "      % (14,np.pi,123.456,2**10,2**40,'foobar'))"
   ]
  },
  {
   "cell_type": "code",
   "execution_count": null,
   "id": "430b136f",
   "metadata": {
    "slideshow": {
     "slide_type": "fragment"
    }
   },
   "outputs": [],
   "source": [
    "pinum = 22\n",
    "pidenom = 7\n",
    "'Approximate %f as %d/%d=%f' % (np.pi,pinum,pidenom,pinum/pidenom)"
   ]
  },
  {
   "cell_type": "markdown",
   "id": "60d3f355",
   "metadata": {
    "slideshow": {
     "slide_type": "slide"
    }
   },
   "source": [
    "### Functions, objects and methods"
   ]
  },
  {
   "cell_type": "markdown",
   "id": "d8ce8192",
   "metadata": {
    "slideshow": {
     "slide_type": "fragment"
    }
   },
   "source": [
    "To take a very brief look into the technicalities of the language, note that `.` is not just another character in a variable or function name, like it is in R.  The construction `a.b` is accessing the \"property\" `b` from the \"object\" `a`.  So for instance, we could access the shape of an array as"
   ]
  },
  {
   "cell_type": "code",
   "execution_count": null,
   "id": "af94bf8c",
   "metadata": {
    "slideshow": {
     "slide_type": "fragment"
    }
   },
   "outputs": [],
   "source": [
    "B_ij.shape"
   ]
  },
  {
   "cell_type": "markdown",
   "id": "ef4c9f4a",
   "metadata": {
    "slideshow": {
     "slide_type": "fragment"
    }
   },
   "source": [
    "This is equivalent to the previous construction"
   ]
  },
  {
   "cell_type": "code",
   "execution_count": null,
   "id": "b0cf7343",
   "metadata": {
    "slideshow": {
     "slide_type": "fragment"
    }
   },
   "outputs": [],
   "source": [
    "np.shape(B_ij)"
   ]
  },
  {
   "cell_type": "markdown",
   "id": "0b24151b",
   "metadata": {
    "slideshow": {
     "slide_type": "subslide"
    }
   },
   "source": [
    "Actually the function `np.shape()` is itself another sort of \"object-oriented\" construction.  Recall the line\n",
    "\n",
    "    import numpy as np\n",
    "\n",
    "in the boilerplate at the top of the notebook.  This defined `np` to be an object that gives us access to the whole NumPy library.  There are constants defined as properties of that object, such as"
   ]
  },
  {
   "cell_type": "code",
   "execution_count": null,
   "id": "3c8dbf91",
   "metadata": {
    "slideshow": {
     "slide_type": "fragment"
    }
   },
   "outputs": [],
   "source": [
    "np.pi"
   ]
  },
  {
   "cell_type": "markdown",
   "id": "32e1dd4c",
   "metadata": {
    "slideshow": {
     "slide_type": "fragment"
    }
   },
   "source": [
    "and there are also \"methods\" like `np.shape()`.  If I write `a.B()` this is the method `B` operating on the object `a`, which is sort of like a function whose first and most important argument is `a`.  It is also possible to use methods with additional function arguments like `a.B(c)`."
   ]
  },
  {
   "cell_type": "markdown",
   "id": "b76db6a8",
   "metadata": {
    "slideshow": {
     "slide_type": "subslide"
    }
   },
   "source": [
    "To illustrate this, recall our 1-d array:"
   ]
  },
  {
   "cell_type": "code",
   "execution_count": null,
   "id": "640d1e71",
   "metadata": {
    "slideshow": {
     "slide_type": "fragment"
    }
   },
   "outputs": [],
   "source": [
    "A_i"
   ]
  },
  {
   "cell_type": "markdown",
   "id": "c39092dc",
   "metadata": {
    "slideshow": {
     "slide_type": "fragment"
    }
   },
   "source": [
    "Can use the `prod()` method which takes the product of the elements of the array $\\prod_i A_i=1\\times 2\\times 3$"
   ]
  },
  {
   "cell_type": "code",
   "execution_count": null,
   "id": "711753f4",
   "metadata": {
    "slideshow": {
     "slide_type": "fragment"
    }
   },
   "outputs": [],
   "source": [
    "A_i.prod()"
   ]
  },
  {
   "cell_type": "markdown",
   "id": "ae084d1d",
   "metadata": {
    "slideshow": {
     "slide_type": "fragment"
    }
   },
   "source": [
    "The equivalent syntax calling the function from the NumPy library is"
   ]
  },
  {
   "cell_type": "code",
   "execution_count": null,
   "id": "90298499",
   "metadata": {
    "slideshow": {
     "slide_type": "fragment"
    }
   },
   "outputs": [],
   "source": [
    "np.prod(A_i)"
   ]
  },
  {
   "cell_type": "markdown",
   "id": "69cd87de",
   "metadata": {
    "slideshow": {
     "slide_type": "subslide"
    }
   },
   "source": [
    "### Vectorization"
   ]
  },
  {
   "cell_type": "markdown",
   "id": "0666740d",
   "metadata": {
    "slideshow": {
     "slide_type": "fragment"
    }
   },
   "source": [
    "Like most computing languages, Python lets you define loops to repeat the same or similar operations, but it's best to use other constructions to accomplish the same thing, since loops in Python are much slower than higher-level operations.  So if you want to set $a_i=i^2$ for $i=0,\\ldots,n-1$, instead of writing something like"
   ]
  },
  {
   "cell_type": "code",
   "execution_count": null,
   "id": "f7e8777a",
   "metadata": {
    "slideshow": {
     "slide_type": "fragment"
    }
   },
   "outputs": [],
   "source": [
    "n = 10\n",
    "a_i = np.empty(n)\n",
    "for i in range(n):\n",
    "    a_i[i] = i**2\n",
    "a_i"
   ]
  },
  {
   "cell_type": "markdown",
   "id": "15bbe618",
   "metadata": {
    "slideshow": {
     "slide_type": "fragment"
    }
   },
   "source": [
    "you can take advantage of the fact that NumPy's arrays do element-by-element arithmetic to define something like"
   ]
  },
  {
   "cell_type": "code",
   "execution_count": null,
   "id": "0aa468ee",
   "metadata": {
    "slideshow": {
     "slide_type": "fragment"
    }
   },
   "outputs": [],
   "source": [
    "np.arange(n)**2"
   ]
  },
  {
   "cell_type": "markdown",
   "id": "66754fdf",
   "metadata": {
    "slideshow": {
     "slide_type": "subslide"
    }
   },
   "source": [
    "A more general construction that does the job of creating a list just like a loop might, but is faster, is called a *list comprehension*:"
   ]
  },
  {
   "cell_type": "code",
   "execution_count": null,
   "id": "8e691ac1",
   "metadata": {
    "slideshow": {
     "slide_type": "fragment"
    }
   },
   "outputs": [],
   "source": [
    "[i**2 for i in range(n)]"
   ]
  },
  {
   "cell_type": "markdown",
   "id": "baedc4c6",
   "metadata": {
    "slideshow": {
     "slide_type": "fragment"
    }
   },
   "source": [
    "It basically evaluates the `i**2` for each of the `i` values in the `for` part of the statement, and makes a list out of the result."
   ]
  },
  {
   "cell_type": "markdown",
   "id": "c4492a13",
   "metadata": {
    "slideshow": {
     "slide_type": "fragment"
    }
   },
   "source": [
    "Note that if you want to use the result as a NumPy array in later calculations, you need to turn the list into an array:"
   ]
  },
  {
   "cell_type": "code",
   "execution_count": null,
   "id": "fd6f96f6",
   "metadata": {
    "slideshow": {
     "slide_type": "fragment"
    }
   },
   "outputs": [],
   "source": [
    "np.array([i**2 for i in range(n)])"
   ]
  },
  {
   "cell_type": "markdown",
   "id": "2c3fc21e",
   "metadata": {
    "slideshow": {
     "slide_type": "subslide"
    }
   },
   "source": [
    "### Plotting"
   ]
  },
  {
   "cell_type": "markdown",
   "id": "f6479fc2",
   "metadata": {
    "slideshow": {
     "slide_type": "fragment"
    }
   },
   "source": [
    "We'll use the `matplotlib` library for plotting.  Here is a basic example:"
   ]
  },
  {
   "cell_type": "code",
   "execution_count": null,
   "id": "d04cf4dd",
   "metadata": {
    "slideshow": {
     "slide_type": "fragment"
    }
   },
   "outputs": [],
   "source": [
    "x_x = np.linspace(-5,5,1001)\n",
    "y_x = x_x**3 - 10*x_x\n",
    "plt.plot(x_x,y_x);\n",
    "plt.xlabel(r'$x$'); plt.ylabel(r'$x^3-10x$');\n",
    "plt.grid(); plt.xlim(-5,5);"
   ]
  },
  {
   "cell_type": "markdown",
   "id": "52013037",
   "metadata": {
    "slideshow": {
     "slide_type": "slide"
    }
   },
   "source": [
    "## Homework"
   ]
  },
  {
   "cell_type": "markdown",
   "id": "ae737d68",
   "metadata": {
    "slideshow": {
     "slide_type": "fragment"
    }
   },
   "source": [
    "There is a short practice problem set, Problem Set 0, in MyCourses, due Thursday, with some Python practice.  It won't be graded, but you should submit to the folder to get access to the solutions."
   ]
  }
 ],
 "metadata": {
  "celltoolbar": "Slideshow",
  "kernelspec": {
   "display_name": "Python 3 (ipykernel)",
   "language": "python",
   "name": "python3"
  },
  "language_info": {
   "codemirror_mode": {
    "name": "ipython",
    "version": 3
   },
   "file_extension": ".py",
   "mimetype": "text/x-python",
   "name": "python",
   "nbconvert_exporter": "python",
   "pygments_lexer": "ipython3",
   "version": "3.11.0"
  }
 },
 "nbformat": 4,
 "nbformat_minor": 5
}
