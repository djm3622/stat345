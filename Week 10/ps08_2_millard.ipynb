{
 "cells": [
  {
   "cell_type": "markdown",
   "metadata": {},
   "source": [
    "# Problem Set 8, Part Two: Due Tuesday, April 1 by 8am Eastern Daylight Time"
   ]
  },
  {
   "cell_type": "markdown",
   "metadata": {},
   "source": [
    "## Name: David Millard"
   ]
  },
  {
   "cell_type": "markdown",
   "metadata": {},
   "source": [
    "**Show your work on all problems!** Be sure to give credit to any\n",
    "collaborators, or outside sources used in solving the problems. Note\n",
    "that if using an outside source to do a calculation, you should use it\n",
    "as a reference for the method, and actually carry out the calculation\n",
    "yourself; it’s not sufficient to quote the results of a calculation\n",
    "contained in an outside source."
   ]
  },
  {
   "cell_type": "markdown",
   "metadata": {},
   "source": [
    "Fill in your solutions in the notebook below, inserting markdown and/or code cells as needed.  Try to do reasonably well with the typesetting, but don't feel compelled to replicate my formatting exactly.  **You do NOT need to make random variables blue!**"
   ]
  },
  {
   "cell_type": "code",
   "execution_count": 1,
   "metadata": {},
   "outputs": [],
   "source": [
    "%matplotlib inline"
   ]
  },
  {
   "cell_type": "code",
   "execution_count": 2,
   "metadata": {},
   "outputs": [],
   "source": [
    "import numpy as np\n",
    "from scipy import stats\n",
    "import matplotlib.pyplot as plt\n",
    "plt.rcParams['figure.figsize'] = (8.0,5.0)\n",
    "plt.rcParams['font.size'] = 14"
   ]
  },
  {
   "cell_type": "markdown",
   "metadata": {},
   "source": [
    "## $p$-Value Estimation"
   ]
  },
  {
   "cell_type": "markdown",
   "metadata": {},
   "source": [
    "For **three** of the six problems on this problem set, perform a Monte Carlo\n",
    "simulation, or enumerate all of the equally likely explicit possibilites, to estimate the $p$-value for the test in question.  (Please delete problems you do not wish to attempt, and move any \"extra\" problems to the end.  You will be graded on the first three problems in your notebook.)"
   ]
  },
  {
   "cell_type": "markdown",
   "metadata": {},
   "source": [
    "### Conover Problems on Two-Sample K-S Tests"
   ]
  },
  {
   "cell_type": "markdown",
   "metadata": {},
   "source": [
    "#### Exercise 6.3.2:"
   ]
  },
  {
   "cell_type": "markdown",
   "metadata": {},
   "source": [
    "A random sample of five sixth-grade boys in one section of town were\n",
    "given a literacy test with the following results; 82, 74, 87, 86, 75. A\n",
    "random sample of eight sixth-grade boys from a different section of town\n",
    "were given the same literacy test with these scores resulting: 88, 77,\n",
    "91, 88, 94, 93, 83, 94. Is there a difference in literacy, as measured\n",
    "by this test, in the two populations of sixth-grade boys? (Use the\n",
    "Smirnov test)."
   ]
  },
  {
   "cell_type": "markdown",
   "metadata": {},
   "source": [
    "$H_0: F_X(t) = F_Y(t)$\n",
    "\n",
    "$H_1: F_X(t) \\neq F_Y(t)$ \n",
    "\n",
    "$T = 0.75$\n",
    "\n",
    "$p$-value  $= 0.04195$\n",
    "\n",
    "Since $00.04195 < 0.05$, we have sufficent evidence to reject $H_0$."
   ]
  },
  {
   "cell_type": "code",
   "execution_count": 3,
   "metadata": {},
   "outputs": [],
   "source": [
    "x_i = np.array([82, 74, 87, 86, 75])\n",
    "y_j = np.array([88, 77, 91, 88, 94, 93, 83, 94]) + np.random.rand(8)*(1e-5) # deal with ties"
   ]
  },
  {
   "cell_type": "code",
   "execution_count": 4,
   "metadata": {},
   "outputs": [
    {
     "data": {
      "text/plain": [
       "(array([74, 75, 82, 86, 87]),\n",
       " array([77.00000638, 83.00000334, 88.00000353, 88.00000917, 91.00000498,\n",
       "        93.00000205, 94.00000093, 94.00000648]))"
      ]
     },
     "execution_count": 4,
     "metadata": {},
     "output_type": "execute_result"
    }
   ],
   "source": [
    "n = len(x_i); m = len(y_j); N=n+m; x_i.sort(); y_j.sort(); x_i, y_j"
   ]
  },
  {
   "cell_type": "code",
   "execution_count": 5,
   "metadata": {},
   "outputs": [],
   "source": [
    "Fxhat_i = (1.+np.arange(n))/n; Fyhat_j = (1.+np.arange(m))/m; X_k = np.concatenate((x_i,y_j)); X_k.sort()"
   ]
  },
  {
   "cell_type": "code",
   "execution_count": 6,
   "metadata": {},
   "outputs": [],
   "source": [
    "Fxhat_k = np.mean(x_i[None,:] <= X_k[:,None], axis=-1); Fyhat_k = np.mean(y_j[None,:] <= X_k[:,None], axis=-1)"
   ]
  },
  {
   "cell_type": "code",
   "execution_count": 8,
   "metadata": {},
   "outputs": [
    {
     "name": "stdout",
     "output_type": "stream",
     "text": [
      "For        X <= 74.00, Fxhat(X)-Fyhat(X) = 0-0 = 0\n",
      "For 74.00 < X <= 75.00, Fxhat(X)-Fyhat(X) = 0.2-0 = 0.2\n",
      "For 75.00 < X <= 77.00, Fxhat(X)-Fyhat(X) = 0.4-0 = 0.4\n",
      "For 77.00 < X <= 82.00, Fxhat(X)-Fyhat(X) = 0.4-0.125 = 0.275\n",
      "For 82.00 < X <= 83.00, Fxhat(X)-Fyhat(X) = 0.6-0.125 = 0.475\n",
      "For 83.00 < X <= 86.00, Fxhat(X)-Fyhat(X) = 0.6-0.25 = 0.35\n",
      "For 86.00 < X <= 87.00, Fxhat(X)-Fyhat(X) = 0.8-0.25 = 0.55\n",
      "For 87.00 < X <= 88.00, Fxhat(X)-Fyhat(X) = 1-0.25 = 0.75\n",
      "For 88.00 < X <= 88.00, Fxhat(X)-Fyhat(X) = 1-0.375 = 0.625\n",
      "For 88.00 < X <= 91.00, Fxhat(X)-Fyhat(X) = 1-0.5 = 0.5\n",
      "For 91.00 < X <= 93.00, Fxhat(X)-Fyhat(X) = 1-0.625 = 0.375\n",
      "For 93.00 < X <= 94.00, Fxhat(X)-Fyhat(X) = 1-0.75 = 0.25\n",
      "For 94.00 < X <= 94.00, Fxhat(X)-Fyhat(X) = 1-0.875 = 0.125\n",
      "For 94 < X           , Fxhat(X)-Fyhat(X) = 1-1 = 0\n"
     ]
    }
   ],
   "source": [
    "print('For        X <= %.2f, Fxhat(X)-Fyhat(X) = 0-0 = 0' % X_k[0])\n",
    "for k in range(1,N):\n",
    "    print('For %.2f < X <= %.2f, Fxhat(X)-Fyhat(X) = %g-%g = %g'\n",
    "          % (X_k[k-1],X_k[k],Fxhat_k[k-1],Fyhat_k[k-1],Fxhat_k[k-1]-Fyhat_k[k-1]))\n",
    "print('For %g < X           , Fxhat(X)-Fyhat(X) = 1-1 = 0' % X_k[-1])"
   ]
  },
  {
   "cell_type": "code",
   "execution_count": 9,
   "metadata": {},
   "outputs": [
    {
     "data": {
      "text/plain": [
       "(0.75, 0.0, 0.75)"
      ]
     },
     "execution_count": 9,
     "metadata": {},
     "output_type": "execute_result"
    }
   ],
   "source": [
    "Tp = max(Fxhat_k-Fyhat_k); Tm = max(Fyhat_k-Fxhat_k); T=max(Tp,Tm); Tp, Tm, T"
   ]
  },
  {
   "cell_type": "code",
   "execution_count": 10,
   "metadata": {},
   "outputs": [
    {
     "data": {
      "image/png": "[encoded data removed]",
      "text/plain": [
       "<Figure size 800x500 with 1 Axes>"
      ]
     },
     "metadata": {},
     "output_type": "display_data"
    }
   ],
   "source": [
    "Rxy_k = stats.rankdata(np.concatenate((x_i,y_j))); Rx_i=Rxy_k[:n]; Ry_j=Rxy_k[n:]; RX_k = np.sort(Rxy_k)\n",
    "plt.plot(Rx_i,Fxhat_i,'k.',ms=10);plt.plot([0,Rx_i[0]],[0,0],'k-',lw=2,label=r'$\\hat{F}_x(X^{(k)})$');plt.plot([Rx_i[-1],N+1],[1,1],'k-',lw=2);plt.plot(Ry_j,Fyhat_j,'rd');\n",
    "for i in range(n-1): plt.plot(Rx_i[i:i+2],[Fxhat_i[i],Fxhat_i[i]],'k-',lw=2);\n",
    "for j in range(m-1): plt.plot(Ry_j[j:j+2],[Fyhat_j[j],Fyhat_j[j]],'r-',lw=1);\n",
    "plt.plot([0,Ry_j[0]],[0,0],'r-',lw=1,label=r'$\\hat{F}_y(X^{(k)})$');plt.plot([Ry_j[-1],N+1],[1,1],'r-',lw=1);\n",
    "plt.legend();plt.xlabel(r'$x$');plt.ylabel(r'emprical cdf')\n",
    "plt.grid();"
   ]
  },
  {
   "cell_type": "code",
   "execution_count": 11,
   "metadata": {},
   "outputs": [
    {
     "data": {
      "text/plain": [
       "array([[ 1.,  2.,  3.,  4.,  5.],\n",
       "       [ 1.,  2.,  3.,  4.,  6.],\n",
       "       [ 1.,  2.,  3.,  4.,  7.],\n",
       "       ...,\n",
       "       [ 8.,  9., 11., 12., 13.],\n",
       "       [ 8., 10., 11., 12., 13.],\n",
       "       [ 9., 10., 11., 12., 13.]])"
      ]
     },
     "execution_count": 11,
     "metadata": {},
     "output_type": "execute_result"
    }
   ],
   "source": [
    "import itertools;xranks_Ii = np.array([xranks_i for xranks_i in itertools.combinations(RX_k,n)]); xranks_Ii"
   ]
  },
  {
   "cell_type": "code",
   "execution_count": 12,
   "metadata": {},
   "outputs": [
    {
     "data": {
      "text/plain": [
       "(array([[ 1.,  2.,  3.,  4.,  5.],\n",
       "        [ 1.,  2.,  3.,  4.,  6.],\n",
       "        [ 1.,  2.,  3.,  4.,  7.],\n",
       "        ...,\n",
       "        [ 8.,  9., 11., 12., 13.],\n",
       "        [ 8., 10., 11., 12., 13.],\n",
       "        [ 9., 10., 11., 12., 13.]]),\n",
       " array([[ 6.,  7.,  8., ..., 11., 12., 13.],\n",
       "        [ 5.,  7.,  8., ..., 11., 12., 13.],\n",
       "        [ 5.,  6.,  8., ..., 11., 12., 13.],\n",
       "        ...,\n",
       "        [ 1.,  2.,  3., ...,  6.,  7., 10.],\n",
       "        [ 1.,  2.,  3., ...,  6.,  7.,  9.],\n",
       "        [ 1.,  2.,  3., ...,  6.,  7.,  8.]]))"
      ]
     },
     "execution_count": 12,
     "metadata": {},
     "output_type": "execute_result"
    }
   ],
   "source": [
    "yranks_Ij = np.array([np.setdiff1d(RX_k,xranks_i) for xranks_i in xranks_Ii]); xranks_Ii, yranks_Ij"
   ]
  },
  {
   "cell_type": "code",
   "execution_count": 13,
   "metadata": {},
   "outputs": [
    {
     "data": {
      "text/plain": [
       "array([[0.2, 0.4, 0.6, ..., 1. , 1. , 1. ],\n",
       "       [0.2, 0.4, 0.6, ..., 1. , 1. , 1. ],\n",
       "       [0.2, 0.4, 0.6, ..., 1. , 1. , 1. ],\n",
       "       ...,\n",
       "       [0. , 0. , 0. , ..., 0.6, 0.8, 1. ],\n",
       "       [0. , 0. , 0. , ..., 0.6, 0.8, 1. ],\n",
       "       [0. , 0. , 0. , ..., 0.6, 0.8, 1. ]])"
      ]
     },
     "execution_count": 13,
     "metadata": {},
     "output_type": "execute_result"
    }
   ],
   "source": [
    "Fxhat_Ik = np.mean(xranks_Ii[:,None,:]<=RX_k[None,:,None],axis=-1); Fxhat_Ik"
   ]
  },
  {
   "cell_type": "code",
   "execution_count": 14,
   "metadata": {},
   "outputs": [
    {
     "data": {
      "text/plain": [
       "array([[0.   , 0.   , 0.   , ..., 0.75 , 0.875, 1.   ],\n",
       "       [0.   , 0.   , 0.   , ..., 0.75 , 0.875, 1.   ],\n",
       "       [0.   , 0.   , 0.   , ..., 0.75 , 0.875, 1.   ],\n",
       "       ...,\n",
       "       [0.125, 0.25 , 0.375, ..., 1.   , 1.   , 1.   ],\n",
       "       [0.125, 0.25 , 0.375, ..., 1.   , 1.   , 1.   ],\n",
       "       [0.125, 0.25 , 0.375, ..., 1.   , 1.   , 1.   ]])"
      ]
     },
     "execution_count": 14,
     "metadata": {},
     "output_type": "execute_result"
    }
   ],
   "source": [
    "Fyhat_Ik = np.array([np.mean(yranks_j[None,:]<=RX_k[:,None], axis=-1) for yranks_j in yranks_Ij]); Fyhat_Ik"
   ]
  },
  {
   "cell_type": "code",
   "execution_count": 15,
   "metadata": {},
   "outputs": [
    {
     "data": {
      "text/plain": [
       "array([1.   , 0.875, 0.8  , ..., 0.875, 0.875, 1.   ])"
      ]
     },
     "execution_count": 15,
     "metadata": {},
     "output_type": "execute_result"
    }
   ],
   "source": [
    "Tp_I = np.max(Fxhat_Ik-Fyhat_Ik,axis=-1);Tm_I = np.max(Fyhat_Ik-Fxhat_Ik,axis=-1);\n",
    "T_I = np.max(np.abs(Fxhat_Ik-Fyhat_Ik),axis=-1); T_I"
   ]
  },
  {
   "cell_type": "code",
   "execution_count": 16,
   "metadata": {},
   "outputs": [
    {
     "data": {
      "text/plain": [
       "array([0.15 , 0.175, 0.2  , 0.225, 0.25 , 0.275, 0.3  , 0.35 , 0.375,\n",
       "       0.4  , 0.425, 0.475, 0.5  , 0.55 , 0.6  , 0.625, 0.675, 0.75 ,\n",
       "       0.8  , 0.875, 1.   ])"
      ]
     },
     "execution_count": 16,
     "metadata": {},
     "output_type": "execute_result"
    }
   ],
   "source": [
    "Tp_I = np.round(Tp_I,decimals=8); Tm_I = np.round(Tm_I,decimals=8); T_I = np.maximum(Tp_I,Tm_I); np.unique(T_I)"
   ]
  },
  {
   "cell_type": "code",
   "execution_count": 17,
   "metadata": {},
   "outputs": [
    {
     "data": {
      "text/plain": [
       "array([0.15 , 0.175, 0.175, ..., 0.875, 1.   , 1.   ])"
      ]
     },
     "execution_count": 17,
     "metadata": {},
     "output_type": "execute_result"
    }
   ],
   "source": [
    "np.sort(T_I)"
   ]
  },
  {
   "cell_type": "code",
   "execution_count": 18,
   "metadata": {},
   "outputs": [
    {
     "data": {
      "text/plain": [
       "0.04195804195804196"
      ]
     },
     "execution_count": 18,
     "metadata": {},
     "output_type": "execute_result"
    }
   ],
   "source": [
    "np.mean(T_I>=T)"
   ]
  },
  {
   "cell_type": "markdown",
   "metadata": {},
   "source": [
    "#### Exercise 6.3.3:"
   ]
  },
  {
   "cell_type": "markdown",
   "metadata": {},
   "source": [
    "Use the \\[two-sample\\] Cramér-von Mises test on the data in Exercise 2\n",
    "and compare results with the Smirnov test."
   ]
  },
  {
   "cell_type": "markdown",
   "metadata": {},
   "source": [
    "$H_0: F_X(t) = F_Y(t)$\n",
    "\n",
    "$H_1: F_X(t) \\neq F_Y(t)$ \n",
    "\n",
    "$T = 0.55576$\n",
    "\n",
    "$p$-value  $= 0.02641$\n",
    "\n",
    "Since $0.02641 < 0.05$, we have sufficent evidence to reject $H_0$."
   ]
  },
  {
   "cell_type": "code",
   "execution_count": 19,
   "metadata": {},
   "outputs": [
    {
     "data": {
      "text/plain": [
       "0.5557692307692308"
      ]
     },
     "execution_count": 19,
     "metadata": {},
     "output_type": "execute_result"
    }
   ],
   "source": [
    "TCvM = n*m/N**2 * np.sum((Fxhat_k-Fyhat_k)**2); TCvM"
   ]
  },
  {
   "cell_type": "code",
   "execution_count": 20,
   "metadata": {},
   "outputs": [
    {
     "data": {
      "text/plain": [
       "array([1.03846154, 0.90961538, 0.8       , ..., 0.81153846, 0.90961538,\n",
       "       1.03846154])"
      ]
     },
     "execution_count": 20,
     "metadata": {},
     "output_type": "execute_result"
    }
   ],
   "source": [
    "TCvM_I = n*m/N**2 * np.sum((Fxhat_Ik-Fyhat_Ik)**2,axis=-1); TCvM_I"
   ]
  },
  {
   "cell_type": "code",
   "execution_count": 21,
   "metadata": {},
   "outputs": [
    {
     "data": {
      "text/plain": [
       "(array([1.03846154, 0.90961538, 0.8       , ..., 0.81153846, 0.90961538,\n",
       "        1.03846154]),\n",
       " 0.55576923)"
      ]
     },
     "execution_count": 21,
     "metadata": {},
     "output_type": "execute_result"
    }
   ],
   "source": [
    "TCvM_I = np.round(TCvM_I,8); TCvM = np.round(TCvM,8); TCvM_I, TCvM"
   ]
  },
  {
   "cell_type": "code",
   "execution_count": 22,
   "metadata": {},
   "outputs": [
    {
     "data": {
      "text/plain": [
       "0.02641802641802642"
      ]
     },
     "execution_count": 22,
     "metadata": {},
     "output_type": "execute_result"
    }
   ],
   "source": [
    "np.mean(TCvM_I >= TCvM)"
   ]
  },
  {
   "cell_type": "markdown",
   "metadata": {},
   "source": [
    "#### Followup:"
   ]
  },
  {
   "cell_type": "markdown",
   "metadata": {},
   "source": [
    "Use the two-sample Anderson-Darling test on the data from exercise\n",
    "6.3.2."
   ]
  },
  {
   "cell_type": "markdown",
   "metadata": {},
   "source": [
    "$H_0: F_X(t) = F_Y(t)$\n",
    "\n",
    "$H_1: F_X(t) \\neq F_Y(t)$ \n",
    "\n",
    "$T = 2.74370$\n",
    "\n",
    "$p$-value  $= 0.03108$\n",
    "\n",
    "Since $0.03108 < 0.05$, we have sufficent evidence to reject $H_0$."
   ]
  },
  {
   "cell_type": "code",
   "execution_count": 23,
   "metadata": {},
   "outputs": [
    {
     "data": {
      "text/plain": [
       "(array([ 1,  2,  3,  4,  5,  6,  7,  8,  9, 10, 11, 12, 13]),\n",
       " array([12, 11, 10,  9,  8,  7,  6,  5,  4,  3,  2,  1,  0]))"
      ]
     },
     "execution_count": 23,
     "metadata": {},
     "output_type": "execute_result"
    }
   ],
   "source": [
    "k_k = 1 + np.arange(N); k_k, N-k_k"
   ]
  },
  {
   "cell_type": "code",
   "execution_count": 24,
   "metadata": {},
   "outputs": [
    {
     "data": {
      "text/plain": [
       "2.7437022005772"
      ]
     },
     "execution_count": 24,
     "metadata": {},
     "output_type": "execute_result"
    }
   ],
   "source": [
    "A2 = n*m*np.sum( (Fxhat_k[:-1]-Fyhat_k[:-1])**2 / (k_k[:-1]*(N-k_k[:-1])) ); A2"
   ]
  },
  {
   "cell_type": "code",
   "execution_count": 25,
   "metadata": {},
   "outputs": [
    {
     "data": {
      "text/plain": [
       "array([4.90185696, 4.35748196, 3.91641053, ..., 3.8970653 , 4.35748196,\n",
       "       4.90185696])"
      ]
     },
     "execution_count": 25,
     "metadata": {},
     "output_type": "execute_result"
    }
   ],
   "source": [
    "A2_I = n*m*np.sum( (Fxhat_Ik[:,:-1]-Fyhat_Ik[:,:-1])**2 / (k_k[None,:-1]*(N-k_k[None,:-1])), axis=-1 ); A2_I"
   ]
  },
  {
   "cell_type": "code",
   "execution_count": 26,
   "metadata": {},
   "outputs": [
    {
     "data": {
      "text/plain": [
       "0.03108003108003108"
      ]
     },
     "execution_count": 26,
     "metadata": {},
     "output_type": "execute_result"
    }
   ],
   "source": [
    "A2 = np.round(A2,8); A2_I = np.round(A2_I,8); np.mean(A2_I>=A2)"
   ]
  },
  {
   "cell_type": "code",
   "execution_count": null,
   "metadata": {},
   "outputs": [],
   "source": []
  }
 ],
 "metadata": {
  "kernelspec": {
   "display_name": "Python 3 (ipykernel)",
   "language": "python",
   "name": "python3"
  },
  "language_info": {
   "codemirror_mode": {
    "name": "ipython",
    "version": 3
   },
   "file_extension": ".py",
   "mimetype": "text/x-python",
   "name": "python",
   "nbconvert_exporter": "python",
   "pygments_lexer": "ipython3",
   "version": "3.9.7"
  }
 },
 "nbformat": 4,
 "nbformat_minor": 4
}
