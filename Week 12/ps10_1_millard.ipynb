{
 "cells": [
  {
   "cell_type": "markdown",
   "metadata": {},
   "source": [
    "# Problem Set 10, Part One: Due Thursday, April 17 by 8am Eastern Daylight Time"
   ]
  },
  {
   "cell_type": "markdown",
   "metadata": {},
   "source": [
    "## Name: David Millard"
   ]
  },
  {
   "cell_type": "markdown",
   "metadata": {},
   "source": [
    "**Show your work on all problems!** Be sure to give credit to any\n",
    "collaborators, or outside sources used in solving the problems. Note\n",
    "that if using an outside source to do a calculation, you should use it\n",
    "as a reference for the method, and actually carry out the calculation\n",
    "yourself; it’s not sufficient to quote the results of a calculation\n",
    "contained in an outside source."
   ]
  },
  {
   "cell_type": "markdown",
   "metadata": {},
   "source": [
    "Fill in your solutions in the notebook below, inserting markdown and/or code cells as needed.  Try to do reasonably well with the typesetting, but don't feel compelled to replicate my formatting exactly.  **You do NOT need to make random variables blue!**"
   ]
  },
  {
   "cell_type": "code",
   "execution_count": 1,
   "metadata": {},
   "outputs": [],
   "source": [
    "%matplotlib inline"
   ]
  },
  {
   "cell_type": "code",
   "execution_count": 2,
   "metadata": {},
   "outputs": [],
   "source": [
    "import numpy as np\n",
    "from scipy import stats\n",
    "import matplotlib.pyplot as plt\n",
    "plt.rcParams['figure.figsize'] = (8.0,5.0)\n",
    "plt.rcParams['font.size'] = 14"
   ]
  },
  {
   "cell_type": "markdown",
   "metadata": {},
   "source": [
    "### Conover Problems on $2\\times 2$ Contingency Tables"
   ]
  },
  {
   "cell_type": "markdown",
   "metadata": {},
   "source": [
    "#### Exercise 4.1.8, part (a):"
   ]
  },
  {
   "cell_type": "markdown",
   "metadata": {},
   "source": [
    "A university received applications from 21 males last year and hired 10,\n",
    "or 48%. At the same time it received faculty applications from 63 female\n",
    "applicants and hired 14, or 22%. Does this university appear to have a\n",
    "higher probability of hiring male applicants than female applicants?\n",
    "(Use Fisher’s exact test.)"
   ]
  },
  {
   "cell_type": "markdown",
   "metadata": {},
   "source": [
    "$H_0$: \n",
    "\n",
    "$H_1$: \n",
    "\n",
    "$T = 10$\n",
    "\n",
    "$p$-value $= 0.02773$ \n",
    "\n",
    "Since $0.02773 < 0.05$, we reject $H_0$."
   ]
  },
  {
   "cell_type": "code",
   "execution_count": 3,
   "metadata": {},
   "outputs": [],
   "source": [
    "O_ij = np.array([\n",
    "    [10, 11],\n",
    "    [14, 49]\n",
    "])"
   ]
  },
  {
   "cell_type": "code",
   "execution_count": 4,
   "metadata": {},
   "outputs": [
    {
     "data": {
      "text/plain": [
       "(array([21, 63]), array([24, 60]), 84)"
      ]
     },
     "execution_count": 4,
     "metadata": {},
     "output_type": "execute_result"
    }
   ],
   "source": [
    "r_i = np.sum(O_ij,axis=-1)\n",
    "c_j = np.sum(O_ij,axis=0)\n",
    "N=np.sum(O_ij)\n",
    "\n",
    "r_i, c_j, N"
   ]
  },
  {
   "cell_type": "code",
   "execution_count": 5,
   "metadata": {},
   "outputs": [
    {
     "data": {
      "text/plain": [
       "(10, 0.027736184660322426)"
      ]
     },
     "execution_count": 5,
     "metadata": {},
     "output_type": "execute_result"
    }
   ],
   "source": [
    "O11 = O_ij[0,0] \n",
    "r1 = r_i[0]\n",
    "c1 = c_j[0]\n",
    "\n",
    "p = stats.hypergeom(N, c1, r1).sf(O11 - 1)\n",
    "\n",
    "O11, p"
   ]
  },
  {
   "cell_type": "markdown",
   "metadata": {},
   "source": [
    "#### Followup:"
   ]
  },
  {
   "cell_type": "markdown",
   "metadata": {},
   "source": [
    "Repeat the calculation of the previous problem using the one-sided test\n",
    "for differences in probability of hiring for male and female candidates."
   ]
  },
  {
   "cell_type": "markdown",
   "metadata": {},
   "source": [
    "$p$-value $= 0.0283$ \n",
    "\n",
    "Since $0.0283 < 0.05$, we reject $H_0$."
   ]
  },
  {
   "cell_type": "code",
   "execution_count": 6,
   "metadata": {},
   "outputs": [
    {
     "data": {
      "text/plain": [
       "(array([ 0,  1,  2,  3,  4,  5,  6,  7,  8,  9, 10, 11, 12, 13, 14, 15, 16,\n",
       "        17, 18, 19, 20, 21]),\n",
       " array([ 0,  1,  2,  3,  4,  5,  6,  7,  8,  9, 10, 11, 12, 13, 14, 15, 16,\n",
       "        17, 18, 19, 20, 21, 22, 23, 24, 25, 26, 27, 28, 29, 30, 31, 32, 33,\n",
       "        34, 35, 36, 37, 38, 39, 40, 41, 42, 43, 44, 45, 46, 47, 48, 49, 50,\n",
       "        51, 52, 53, 54, 55, 56, 57, 58, 59, 60, 61, 62, 63]))"
      ]
     },
     "execution_count": 6,
     "metadata": {},
     "output_type": "execute_result"
    }
   ],
   "source": [
    "r2 = r_i[1]\n",
    "c2 = c_j[1]\n",
    "O11_x = np.arange(r1+1)\n",
    "O21_y = np.arange(r2+1)\n",
    "\n",
    "O11_x,O21_y"
   ]
  },
  {
   "cell_type": "code",
   "execution_count": 15,
   "metadata": {},
   "outputs": [
    {
     "data": {
      "text/plain": [
       "8.85437745"
      ]
     },
     "execution_count": 15,
     "metadata": {},
     "output_type": "execute_result"
    }
   ],
   "source": [
    "c1_xy = O11_x[:,None] + O21_y[None,:]; c2_xy = N - c1_xy\n",
    "stat_xy = np.round((N*O11_x[:,None]-r1*c1_xy)/np.sqrt(c1_xy*c2_xy+1e-12),8)\n",
    "mystat = np.round((N*O11-r1*c1)/np.sqrt(c1*c2+1e-12),8)\n",
    "\n",
    "mystat"
   ]
  },
  {
   "cell_type": "code",
   "execution_count": 8,
   "metadata": {},
   "outputs": [
    {
     "data": {
      "text/plain": [
       "(415, 415)"
      ]
     },
     "execution_count": 8,
     "metadata": {},
     "output_type": "execute_result"
    }
   ],
   "source": [
    "np.sum(stat_xy<=-np.abs(mystat)), np.sum(stat_xy>=np.abs(mystat))"
   ]
  },
  {
   "cell_type": "code",
   "execution_count": 13,
   "metadata": {},
   "outputs": [],
   "source": [
    "p1_p = np.linspace(0,1,1000)\n",
    "pmf_xyp = stats.binom(r1,p1_p[None,None,:]).pmf(O11_x[:,None,None])*stats.binom(r2,p1_p[None,None,:]).pmf(O21_y[None,:,None])\n",
    "plower_p = np.sum((stat_xy<=mystat)[:,:,None]*pmf_xyp,axis=(0,1))\n",
    "pupper_p = np.sum((stat_xy>=-mystat)[:,:,None]*pmf_xyp,axis=(0,1))"
   ]
  },
  {
   "cell_type": "code",
   "execution_count": 26,
   "metadata": {},
   "outputs": [
    {
     "data": {
      "text/plain": [
       "(0.9716741000249779, 0.028325310546135962)"
      ]
     },
     "execution_count": 26,
     "metadata": {},
     "output_type": "execute_result"
    }
   ],
   "source": [
    "min(plower_p), max(pupper_p-plower_p)"
   ]
  },
  {
   "cell_type": "markdown",
   "metadata": {},
   "source": [
    "Which test is appropriate if the university has 24 positions to fill?"
   ]
  },
  {
   "cell_type": "markdown",
   "metadata": {},
   "source": [
    "Fishers test would be more approate as Fisher’s given both the row and column margins are fixed."
   ]
  },
  {
   "cell_type": "markdown",
   "metadata": {},
   "source": [
    "Suppose instead of hiring, the data referred to individual faculty\n",
    "members being promoted in rank.\n",
    "Which test would be appropriate then?"
   ]
  },
  {
   "cell_type": "markdown",
   "metadata": {},
   "source": [
    "We would use the test for equality of proportions, because the margins are not fixed numbers."
   ]
  },
  {
   "cell_type": "markdown",
   "metadata": {},
   "source": [
    "#### Problem 4.2.2:"
   ]
  },
  {
   "cell_type": "markdown",
   "metadata": {},
   "source": [
    "Show that if $r=2$ and $c=2$, Equation 4 \\[of section 4.2\\] is\n",
    "equivalent to Equation 4.1.1 squared\n",
    "$$T = \\frac{N(O_{11}O_{12}-O_{21}O_{22})^2}{n_1n_2C_1C_2}$$\n",
    "[Note that the equation above is correct; the statement printed in Conover has a typo, and is missing the square in $(O_{11}O_{12}-O_{21}O_{22})^2$.]"
   ]
  },
  {
   "cell_type": "markdown",
   "metadata": {},
   "source": [
    "\\begin{align}\n",
    "    T &= \\sum^r_{i=1}\\sum^c_{j=1}\\frac{(O_{ij}-E_{ij})^2}{E_{ij}}, \\quad \\text{where} \\quad E_{ij}=\\frac{n_i C_j}{N} \\\\\n",
    "      &= \\frac{(O_{11}-E_{11})^2}{E_{11}} + \\frac{(O_{12}-E_{12})^2}{E_{12}} + \\frac{(O_{21}-E_{21})^2}{E_{21}} + \\frac{(O_{22}-E_{22})^2}{E_{22}} \\\\\n",
    "      &= \\frac{N(O_{11}-E_{11})^2}{n_1 C_1} + \\frac{N(O_{12}-E_{12})^2}{n_1 C_2} + \\frac{N(O_{21}-E_{21})^2}{n_2 C_1} + \\frac{N(O_{22}-E_{22})^2}{n_2 C_2} \\\\\n",
    "      &= \\frac{N n_2 C_2 (O_{11}-E_{11})^2}{n_1 C_1 n_2 C_2} + \\frac{N n_2 C_1 (O_{12}-E_{12})^2}{n_2 C_1 n_1 C_2} + \\frac{N n_1 C_2 (O_{21}-E_{21})^2}{n_1 C_2 n_2 C_1} + \\frac{N n_1 C_1 (O_{22}-E_{22})^2}{n_1 C_1 n_2 C_2} \\\\\n",
    "      &= \\frac{N \\left( n_2 C_2 (O_{11}-\\frac{n_1 C_1}{N})^2 + n_2 C_1 (O_{12}-\\frac{n_1 C_2}{N})^2 + n_1 C_2 (O_{21}-\\frac{n_2 C_1}{N})^2 + n_1 C_1 (O_{22}-\\frac{n_2 C_2}{N})^2 \\right)}{n_1 n_2 C_1 C_2} \\\\\n",
    "      &= \\frac{N \\left( n_2 C_2 \\left(O_{11}-\\frac{n_1 C_1}{N}\\right)^2 + n_2 C_1 \\left(O_{12}-\\frac{n_1 C_2}{N}\\right)^2 + n_1 C_2 \\left(O_{21}-\\frac{n_2 C_1}{N}\\right)^2 + n_1 C_1 \\left(O_{22}-\\frac{n_2 C_2}{N}\\right)^2 \\right)}{n_1 n_2 C_1 C_2} \\\\\n",
    "      &= \\frac{N}{n_1 n_2 C_1 C_2} \\Bigg[\n",
    "        n_2 C_2 \\left( O_{11}^2 - 2 O_{11} \\cdot \\frac{n_1 C_1}{N} + \\left(\\frac{n_1 C_1}{N}\\right)^2 \\right)\n",
    "        + n_2 C_1 \\left( O_{12}^2 - 2 O_{12} \\cdot \\frac{n_1 C_2}{N} + \\left(\\frac{n_1 C_2}{N}\\right)^2 \\right) \\notag \\\\\n",
    "      &\\quad\\quad + n_1 C_2 \\left( O_{21}^2 - 2 O_{21} \\cdot \\frac{n_2 C_1}{N} + \\left(\\frac{n_2 C_1}{N}\\right)^2 \\right)\n",
    "        + n_1 C_1 \\left( O_{22}^2 - 2 O_{22} \\cdot \\frac{n_2 C_2}{N} + \\left(\\frac{n_2 C_2}{N}\\right)^2 \\right)\n",
    "      \\Bigg] \\\\\n",
    "      &= \\frac{N}{n_1 n_2 C_1 C_2} \\Bigg[\n",
    "        n_2 C_2 O_{11}^2 + n_2 C_1 O_{12}^2 + n_1 C_2 O_{21}^2 + n_1 C_1 O_{22}^2 \\notag \\\\\n",
    "      &\\quad - 2 \\left( O_{11} n_2 C_2 \\cdot \\frac{n_1 C_1}{N} + O_{12} n_2 C_1 \\cdot \\frac{n_1 C_2}{N}\n",
    "                     + O_{21} n_1 C_2 \\cdot \\frac{n_2 C_1}{N} + O_{22} n_1 C_1 \\cdot \\frac{n_2 C_2}{N} \\right) \\notag \\\\\n",
    "      &\\quad + \\left( \\frac{n_1^2 C_1^2 n_2 C_2}{N^2} + \\frac{n_1^2 C_2^2 n_2 C_1}{N^2}\n",
    "                     + \\frac{n_2^2 C_1^2 n_1 C_2}{N^2} + \\frac{n_2^2 C_2^2 n_1 C_1}{N^2} \\right)\n",
    "      \\Bigg] \\\\\n",
    "      &= \\frac{N}{n_1 n_2 C_1 C_2} \\left( n_2 C_2 O_{11}^2 + n_2 C_1 O_{12}^2 + n_1 C_2 O_{21}^2 + n_1 C_1 O_{22}^2 \\right. \\notag \\\\\n",
    "      &\\quad\\left. - 2 \\cdot \\frac{n_1 n_2 C_1 C_2}{N} (O_{11} + O_{12} + O_{21} + O_{22})\n",
    "      + \\frac{n_1 n_2 C_1 C_2}{N^2} (n_1 C_1 + n_1 C_2 + n_2 C_1 + n_2 C_2)\n",
    "      \\right)\\\\\n",
    "      &= \\frac{N(O_{11} O_{22} - O_{12} O_{21})^2}{n_1 n_2 C_1 C_2}\n",
    "\\end{align}"
   ]
  },
  {
   "cell_type": "markdown",
   "metadata": {},
   "source": [
    "### Conover Problems on the Median Test"
   ]
  },
  {
   "cell_type": "markdown",
   "metadata": {},
   "source": [
    "#### Exercise 4.3.2:"
   ]
  },
  {
   "cell_type": "markdown",
   "metadata": {},
   "source": [
    "A number of oil leases were auctioned to the highest bidder. Each lease\n",
    "received one or more sealed bids. Test the hypothesis that the leases\n",
    "that eventually became producers of oil have the same median number of\n",
    "bids as the leases that never produced oil. A random sample of each type\n",
    "of lease is given below:"
   ]
  },
  {
   "cell_type": "markdown",
   "metadata": {},
   "source": [
    "|                 |**Number of Bids on Each Lease**      |\n",
    "| --------------- | ------------------------------------ |\n",
    "|   *Producers*   |6, 3, 1, 14, 8, 9, 12, 1, 3, 2, 1, 7  |\n",
    "|  *Nonproducers* |6, 2, 1, 1, 3, 1, 2, 4, 8, 1, 2       |"
   ]
  },
  {
   "cell_type": "markdown",
   "metadata": {},
   "source": [
    "$H_0$: \n",
    "\n",
    "$H_1$: \n",
    "\n",
    "$T = 1.24458$\n",
    "\n",
    "$p$-value $= 0.26458$ \n",
    "\n",
    "Since $0.26458 > 0.05$, we fail to reject $H_0$."
   ]
  },
  {
   "cell_type": "code",
   "execution_count": 4,
   "metadata": {},
   "outputs": [
    {
     "data": {
      "text/plain": [
       "3.0"
      ]
     },
     "execution_count": 4,
     "metadata": {},
     "output_type": "execute_result"
    }
   ],
   "source": [
    "x_j_k = [\n",
    "    np.array([ 6, 3, 1, 14, 8, 9, 12, 1, 3, 2, 1, 7 ]),\n",
    "    np.array([ 6, 2, 1, 1, 3, 1, 2, 4, 8, 1, 2])\n",
    "]\n",
    "grandmedian=np.median(np.concatenate(x_j_k)); grandmedian"
   ]
  },
  {
   "cell_type": "code",
   "execution_count": 8,
   "metadata": {},
   "outputs": [
    {
     "name": "stdout",
     "output_type": "stream",
     "text": [
      "r1: 9, r2: 14, c: 2\n"
     ]
    }
   ],
   "source": [
    "O1_j = np.array([np.sum(xj_k>grandmedian) for xj_k in x_j_k])\n",
    "O2_j = np.array([np.sum(xj_k<=grandmedian) for xj_k in x_j_k])\n",
    "\n",
    "r1 = np.sum(O1_j)\n",
    "r2 = np.sum(O2_j)\n",
    "c_j = O1_j + O2_j\n",
    "N=r1+r2\n",
    "c=len(c_j)\n",
    "\n",
    "print(f'r1: {r1}, r2: {r2}, c: {c}')"
   ]
  },
  {
   "cell_type": "markdown",
   "metadata": {},
   "source": [
    "|                |$$j=0$$|$$j=1$$|Total|\n",
    "|   ------:      | :---: | :---: | :-- |\n",
    "| $$>\\tilde{X}$$ |    6  |    3  |  9  |\n",
    "|$$\\le\\tilde{X}$$|    6  |    8  | 14  |\n",
    "|    **Total**   |   12  |   11  | 23  |"
   ]
  },
  {
   "cell_type": "code",
   "execution_count": 10,
   "metadata": {},
   "outputs": [
    {
     "data": {
      "text/plain": [
       "(1.244588744588744, 0.2645885200574476)"
      ]
     },
     "execution_count": 10,
     "metadata": {},
     "output_type": "execute_result"
    }
   ],
   "source": [
    "T = N**2/(r1*r2) * np.sum((O1_j-r1*c_j/N)**2/c_j)\n",
    "p = stats.chi2(df=c-1).sf(T)\n",
    "\n",
    "T, p"
   ]
  },
  {
   "cell_type": "markdown",
   "metadata": {},
   "source": [
    "#### Exercise 4.3.6:"
   ]
  },
  {
   "cell_type": "markdown",
   "metadata": {},
   "source": [
    "One hundred army recruits were randomly assigned to four drill sergeants\n",
    "in boot camp. At the end of boot camp 84 recruits remained, and their\n",
    "performance in the obstacle course was times. For Sergeant Adams, 11 of\n",
    "his 20 recruits performed above the median. For Sergeant Baker, 8 of her\n",
    "22 recruits performed above the median. Sergeant Callahan had 8 of his\n",
    "20, and Sergeant Davis had 15 perform above the median. Is there a\n",
    "significant difference in the performance results for the four drill\n",
    "sergeants?"
   ]
  },
  {
   "cell_type": "markdown",
   "metadata": {},
   "source": [
    "$H_0$: \n",
    "\n",
    "$H_1$: \n",
    "\n",
    "$T = 5.54$\n",
    "\n",
    "$p$-value $= 0.1359$ \n",
    "\n",
    "Since $0.1359 > 0.05$, we fail to reject $H_0$."
   ]
  },
  {
   "cell_type": "code",
   "execution_count": 21,
   "metadata": {},
   "outputs": [
    {
     "name": "stdout",
     "output_type": "stream",
     "text": [
      "r1: 42, r2: 42, c: 4\n"
     ]
    }
   ],
   "source": [
    "x_j_k = np.array([20, 22, 20, (84-(20+22+20))])\n",
    "O1_j = np.array([11, 8, 8, 15])\n",
    "O2_j = x_j_k - O1_j\n",
    "\n",
    "r1 = np.sum(O1_j)\n",
    "r2 = np.sum(O2_j)\n",
    "c_j = O1_j + O2_j\n",
    "N=r1+r2\n",
    "c=len(c_j)\n",
    "\n",
    "print(f'r1: {r1}, r2: {r2}, c: {c}')"
   ]
  },
  {
   "cell_type": "code",
   "execution_count": 22,
   "metadata": {},
   "outputs": [
    {
     "data": {
      "text/plain": [
       "(5.545454545454546, 0.1359450685758528)"
      ]
     },
     "execution_count": 22,
     "metadata": {},
     "output_type": "execute_result"
    }
   ],
   "source": [
    "T = np.sum((O1_j-O2_j)**2/c_j)\n",
    "p = stats.chi2(df=c-1).sf(T)\n",
    "\n",
    "T, p"
   ]
  },
  {
   "cell_type": "markdown",
   "metadata": {},
   "source": []
  }
 ],
 "metadata": {
  "kernelspec": {
   "display_name": "cse327python311",
   "language": "python",
   "name": "cse327python311"
  },
  "language_info": {
   "codemirror_mode": {
    "name": "ipython",
    "version": 3
   },
   "file_extension": ".py",
   "mimetype": "text/x-python",
   "name": "python",
   "nbconvert_exporter": "python",
   "pygments_lexer": "ipython3",
   "version": "3.11.11"
  }
 },
 "nbformat": 4,
 "nbformat_minor": 4
}
