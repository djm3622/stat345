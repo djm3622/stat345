{
 "cells": [
  {
   "cell_type": "markdown",
   "metadata": {},
   "source": [
    "# Problem Set 9, Part One: Due Thursday, April 10 by 8am Eastern Daylight Time"
   ]
  },
  {
   "cell_type": "markdown",
   "metadata": {},
   "source": [
    "## Name:"
   ]
  },
  {
   "cell_type": "markdown",
   "metadata": {},
   "source": [
    "**Show your work on all problems!** Be sure to give credit to any\n",
    "collaborators, or outside sources used in solving the problems. Note\n",
    "that if using an outside source to do a calculation, you should use it\n",
    "as a reference for the method, and actually carry out the calculation\n",
    "yourself; it’s not sufficient to quote the results of a calculation\n",
    "contained in an outside source."
   ]
  },
  {
   "cell_type": "markdown",
   "metadata": {},
   "source": [
    "Fill in your solutions in the notebook below, inserting markdown and/or code cells as needed.  Try to do reasonably well with the typesetting, but don't feel compelled to replicate my formatting exactly.  **You do NOT need to make random variables blue!**"
   ]
  },
  {
   "cell_type": "code",
   "execution_count": null,
   "metadata": {},
   "outputs": [],
   "source": [
    "%matplotlib inline"
   ]
  },
  {
   "cell_type": "code",
   "execution_count": null,
   "metadata": {},
   "outputs": [],
   "source": [
    "import numpy as np\n",
    "from scipy import stats\n",
    "import matplotlib.pyplot as plt\n",
    "plt.rcParams['figure.figsize'] = (8.0,5.0)\n",
    "plt.rcParams['font.size'] = 14"
   ]
  },
  {
   "cell_type": "markdown",
   "metadata": {},
   "source": [
    "### Conover Problems on Chi-Squared Tests"
   ]
  },
  {
   "cell_type": "markdown",
   "metadata": {},
   "source": [
    "#### Exercise 4.5.2:"
   ]
  },
  {
   "cell_type": "markdown",
   "metadata": {},
   "source": [
    "A die was cast 600 times with the following results:"
   ]
  },
  {
   "cell_type": "markdown",
   "metadata": {},
   "source": [
    "| *Occurrence* |  1  |  2  |  3  |  4  |  5  |  6  |\n",
    "| :----------- | --- | --- | --- | --- | --- | --- |\n",
    "| *Frequency*  |  87 |  96 | 108 |  89 | 122 |  98 |"
   ]
  },
  {
   "cell_type": "markdown",
   "metadata": {},
   "source": [
    "Is the die balanced?"
   ]
  },
  {
   "cell_type": "markdown",
   "metadata": {},
   "source": []
  },
  {
   "cell_type": "markdown",
   "metadata": {},
   "source": [
    "#### Exercise 4.5.6:"
   ]
  },
  {
   "cell_type": "markdown",
   "metadata": {},
   "source": [
    "Twenty-six observations were obtained, and the question arose as to\n",
    "whether they followed a normal distribution with mean 12 and standard\n",
    "deviation 3. None of the observations were below the lower quartile of\n",
    "this distribution, and 12 were above the upper quartile. Six were below\n",
    "the median, and 8 were between the median and the upper quartile. Do\n",
    "these observations appear to have come from the distribution described?"
   ]
  },
  {
   "cell_type": "markdown",
   "metadata": {},
   "source": []
  },
  {
   "cell_type": "markdown",
   "metadata": {},
   "source": [
    "### Conover Problems on Contingency Tables"
   ]
  },
  {
   "cell_type": "markdown",
   "metadata": {},
   "source": [
    "#### Exercise 4.2.2:"
   ]
  },
  {
   "cell_type": "markdown",
   "metadata": {},
   "source": [
    "One horse was selected at random from each of $80$ races and categorized\n",
    "according to post position (the position assigned to the horse for the\n",
    "start of the race) and the position in which the horse crossed the\n",
    "finish line (first, second, etc.)."
   ]
  },
  {
   "cell_type": "markdown",
   "metadata": {},
   "source": [
    "<table>\n",
    "    <tr><td></td><td></td><th style=\"text-align: center\" colspan=\"4\">Finish</th></tr>\n",
    "    <tr><td></td><td></td><th style=\"text-align: center\">1</th><th style=\"text-align: center\">2</th><th style=\"text-align: center\">3</th><th style=\"text-align: center\">Other</th></tr>\n",
    "    <tr><th style=\"text-align: left\" rowspan=\"2\">Post<br>Position</th><th>1--4</th><td style=\"text-align: center\">8</td><td style=\"text-align: center\">6</td><td style=\"text-align: center\">8</td><td style=\"text-align: center\">16</td></tr>\n",
    "    <tr><th>5--9</th><td style=\"text-align: center\">3</td><td style=\"text-align: center\">6</td><td style=\"text-align: center\">5</td><td style=\"text-align: center\">28</td></tr>\n",
    "</table>"
   ]
  },
  {
   "cell_type": "markdown",
   "metadata": {},
   "source": [
    "Is the horse’s position at the end of the race dependent on post\n",
    "position? Which test of this section is being used?"
   ]
  },
  {
   "cell_type": "markdown",
   "metadata": {},
   "source": []
  },
  {
   "cell_type": "markdown",
   "metadata": {},
   "source": [
    "#### Exercise 4.2.4:"
   ]
  },
  {
   "cell_type": "markdown",
   "metadata": {},
   "source": [
    "Three professors are teaching large classes in introductory statistics.\n",
    "At the end of the semester, they compute grades to see if there are\n",
    "significant differences in their grading policies."
   ]
  },
  {
   "cell_type": "markdown",
   "metadata": {},
   "source": [
    "                                                         \n",
    "| Professor |  A   |   B  |  C   |  D   |   F  |  WP  |  WF |\n",
    "| --------- | ---- | ---- | ---- | ---- | ---- | ---- | --- |\n",
    "| Smith     |$$12$$|$$45$$|$$49$$| $$6$$|$$13$$|$$18$$|$$2$$|\n",
    "| Jones     |$$10$$|$$32$$|$$43$$|$$18$$| $$4$$|$$12$$|$$6$$|\n",
    "| White     |$$15$$|$$19$$|$$32$$|$$20$$|$$6$$ | $$9$$|$$7$$|"
   ]
  },
  {
   "cell_type": "markdown",
   "metadata": {},
   "source": [
    "Are these differences significant? What test are you using? Are the\n",
    "grades assigned buy Professors Jones and White significantly different?\n",
    "How would the results be interpreted?"
   ]
  },
  {
   "cell_type": "markdown",
   "metadata": {},
   "source": []
  },
  {
   "cell_type": "markdown",
   "metadata": {},
   "source": [
    "#### Problem 4.2.3:"
   ]
  },
  {
   "cell_type": "markdown",
   "metadata": {},
   "source": [
    "A different method of analyzing contingency tables uses the statistic\n",
    "$$T' = 2 \\sum_{i=1}^r \\sum_{j=1}^c O_{ij} \\ln(O_{ij}/E_{ij})$$ istead of\n",
    "$T$, where $\\ln$ refers to natural logarithm, found on most calculators.\n",
    "Otherwise the two test procedures are exactly the same. Use $T'$ in\n",
    "Exercise 3 to see if the result of the analysis is similar to the result\n",
    "using $T$. (The two tests are not equivalent in general, even though\n",
    "they may produce similar results in particular cases.)"
   ]
  },
  {
   "cell_type": "markdown",
   "metadata": {},
   "source": [
    "Note that Exercise 4.2.3 considers all of the horses in all of the races in three days, and has contingency table\n",
    "<table>\n",
    "    <tr><td></td><td></td><th style=\"text-align: center\" colspan=\"4\">Finish</th></tr>\n",
    "    <tr><td></td><td></td><th style=\"text-align: center\">1</th><th style=\"text-align: center\">2</th><th style=\"text-align: center\">3</th><th style=\"text-align: center\">Other</th></tr>\n",
    "    <tr><th style=\"text-align: left\" rowspan=\"2\">Post<br>Position</th><th>1--4</th><td style=\"text-align: center\">15</td><td style=\"text-align: center\">14</td><td style=\"text-align: center\">15</td><td style=\"text-align: center\">52</td></tr>\n",
    "    <tr><th>5--9</th><td style=\"text-align: center\">9</td><td style=\"text-align: center\">10</td><td style=\"text-align: center\">9</td><td style=\"text-align: center\">72</td></tr>\n",
    "</table>"
   ]
  },
  {
   "cell_type": "markdown",
   "metadata": {},
   "source": []
  }
 ],
 "metadata": {
  "kernelspec": {
   "display_name": "Python 3 (ipykernel)",
   "language": "python",
   "name": "python3"
  },
  "language_info": {
   "codemirror_mode": {
    "name": "ipython",
    "version": 3
   },
   "file_extension": ".py",
   "mimetype": "text/x-python",
   "name": "python",
   "nbconvert_exporter": "python",
   "pygments_lexer": "ipython3",
   "version": "3.9.7"
  }
 },
 "nbformat": 4,
 "nbformat_minor": 4
}
