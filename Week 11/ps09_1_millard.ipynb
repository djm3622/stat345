{
 "cells": [
  {
   "cell_type": "markdown",
   "metadata": {},
   "source": [
    "# Problem Set 9, Part One: Due Thursday, April 10 by 8am Eastern Daylight Time"
   ]
  },
  {
   "cell_type": "markdown",
   "metadata": {},
   "source": [
    "## Name: David Millard"
   ]
  },
  {
   "cell_type": "markdown",
   "metadata": {},
   "source": [
    "**Show your work on all problems!** Be sure to give credit to any\n",
    "collaborators, or outside sources used in solving the problems. Note\n",
    "that if using an outside source to do a calculation, you should use it\n",
    "as a reference for the method, and actually carry out the calculation\n",
    "yourself; it’s not sufficient to quote the results of a calculation\n",
    "contained in an outside source."
   ]
  },
  {
   "cell_type": "markdown",
   "metadata": {},
   "source": [
    "Fill in your solutions in the notebook below, inserting markdown and/or code cells as needed.  Try to do reasonably well with the typesetting, but don't feel compelled to replicate my formatting exactly.  **You do NOT need to make random variables blue!**"
   ]
  },
  {
   "cell_type": "code",
   "execution_count": 2,
   "metadata": {},
   "outputs": [],
   "source": [
    "%matplotlib inline"
   ]
  },
  {
   "cell_type": "code",
   "execution_count": 3,
   "metadata": {},
   "outputs": [],
   "source": [
    "import numpy as np\n",
    "from scipy import stats\n",
    "import matplotlib.pyplot as plt\n",
    "plt.rcParams['figure.figsize'] = (8.0,5.0)\n",
    "plt.rcParams['font.size'] = 14"
   ]
  },
  {
   "cell_type": "markdown",
   "metadata": {},
   "source": [
    "### Conover Problems on Chi-Squared Tests"
   ]
  },
  {
   "cell_type": "markdown",
   "metadata": {},
   "source": [
    "#### Exercise 4.5.2:"
   ]
  },
  {
   "cell_type": "markdown",
   "metadata": {},
   "source": [
    "A die was cast 600 times with the following results:"
   ]
  },
  {
   "cell_type": "markdown",
   "metadata": {},
   "source": [
    "| *Occurrence* |  1  |  2  |  3  |  4  |  5  |  6  |\n",
    "| :----------- | --- | --- | --- | --- | --- | --- |\n",
    "| *Frequency*  |  87 |  96 | 108 |  89 | 122 |  98 |"
   ]
  },
  {
   "cell_type": "markdown",
   "metadata": {},
   "source": [
    "Is the die balanced?"
   ]
  },
  {
   "cell_type": "markdown",
   "metadata": {},
   "source": [
    "$H_0$: $X \\sim U(1, 6)$\n",
    "\n",
    "$H_1$: $X \\not\\sim U(1, 6)$\n",
    "\n",
    "$W = 8.579$\n",
    "\n",
    "$p$-value: $0.12703$\n",
    "\n",
    "Since $0.12703 > 0.05$, we do not have sufficient evidence to reject $H_0$."
   ]
  },
  {
   "cell_type": "code",
   "execution_count": 41,
   "metadata": {},
   "outputs": [
    {
     "data": {
      "text/plain": [
       "(600, array([100., 100., 100., 100., 100., 100.]))"
      ]
     },
     "execution_count": 41,
     "metadata": {},
     "output_type": "execute_result"
    }
   ],
   "source": [
    "O_i = np.array([87,96,108,89,122,98])\n",
    "N = np.sum(O_i); c = O_i.shape[0]\n",
    "\n",
    "pstar_i = np.array([1/6,1/6,1/6,1/6,1/6,1/6])\n",
    "E_i = N*pstar_i\n",
    "\n",
    "N, E_i"
   ]
  },
  {
   "cell_type": "code",
   "execution_count": 42,
   "metadata": {},
   "outputs": [
    {
     "data": {
      "text/plain": [
       "(8.579999999999998, 0.12703553284174166)"
      ]
     },
     "execution_count": 42,
     "metadata": {},
     "output_type": "execute_result"
    }
   ],
   "source": [
    "W = np.sum((O_i-E_i)**2/E_i)\n",
    "p = stats.chi2(df=c-1).sf(W)\n",
    "\n",
    "W, p"
   ]
  },
  {
   "cell_type": "markdown",
   "metadata": {},
   "source": [
    "#### Exercise 4.5.6:"
   ]
  },
  {
   "cell_type": "markdown",
   "metadata": {},
   "source": [
    "Twenty-six observations were obtained, and the question arose as to\n",
    "whether they followed a normal distribution with mean 12 and standard\n",
    "deviation 3. None of the observations were below the lower quartile of\n",
    "this distribution, and 12 were above the upper quartile. Six were below\n",
    "the median, and 8 were between the median and the upper quartile. Do\n",
    "these observations appear to have come from the distribution described?"
   ]
  },
  {
   "cell_type": "markdown",
   "metadata": {},
   "source": [
    "$H_0$: $X \\sim N(12, 3)$\n",
    "\n",
    "$H_1$: $X \\not\\sim N(12, 3)$\n",
    "\n",
    "$W = 11.5384$\n",
    "\n",
    "$p$-value: $0.009143$\n",
    "\n",
    "Since $0.009143 < 0.05$, we have significant evidence to reject $H_0$."
   ]
  },
  {
   "cell_type": "code",
   "execution_count": 44,
   "metadata": {},
   "outputs": [
    {
     "data": {
      "text/plain": [
       "(26, array([6.5, 6.5, 6.5, 6.5]))"
      ]
     },
     "execution_count": 44,
     "metadata": {},
     "output_type": "execute_result"
    }
   ],
   "source": [
    "O_i = np.array([0,12,6,8])\n",
    "N = np.sum(O_i); c = O_i.shape[0]\n",
    "\n",
    "pstar_i = np.array([0.25,0.25,0.25,0.25])\n",
    "E_i = N*pstar_i\n",
    "\n",
    "N, E_i"
   ]
  },
  {
   "cell_type": "code",
   "execution_count": 46,
   "metadata": {},
   "outputs": [
    {
     "data": {
      "text/plain": [
       "(11.538461538461538, 0.009143630523540098)"
      ]
     },
     "execution_count": 46,
     "metadata": {},
     "output_type": "execute_result"
    }
   ],
   "source": [
    "W = np.sum((O_i-E_i)**2/E_i)\n",
    "p = stats.chi2(df=c-1).sf(W)\n",
    "\n",
    "W, p"
   ]
  },
  {
   "cell_type": "markdown",
   "metadata": {},
   "source": [
    "### Conover Problems on Contingency Tables"
   ]
  },
  {
   "cell_type": "markdown",
   "metadata": {},
   "source": [
    "#### Exercise 4.2.2:"
   ]
  },
  {
   "cell_type": "markdown",
   "metadata": {},
   "source": [
    "One horse was selected at random from each of $80$ races and categorized\n",
    "according to post position (the position assigned to the horse for the\n",
    "start of the race) and the position in which the horse crossed the\n",
    "finish line (first, second, etc.)."
   ]
  },
  {
   "cell_type": "markdown",
   "metadata": {},
   "source": [
    "<table>\n",
    "    <tr><td></td><td></td><th style=\"text-align: center\" colspan=\"4\">Finish</th></tr>\n",
    "    <tr><td></td><td></td><th style=\"text-align: center\">1</th><th style=\"text-align: center\">2</th><th style=\"text-align: center\">3</th><th style=\"text-align: center\">Other</th></tr>\n",
    "    <tr><th style=\"text-align: left\" rowspan=\"2\">Post<br>Position</th><th>1--4</th><td style=\"text-align: center\">8</td><td style=\"text-align: center\">6</td><td style=\"text-align: center\">8</td><td style=\"text-align: center\">16</td></tr>\n",
    "    <tr><th>5--9</th><td style=\"text-align: center\">3</td><td style=\"text-align: center\">6</td><td style=\"text-align: center\">5</td><td style=\"text-align: center\">28</td></tr>\n",
    "</table>"
   ]
  },
  {
   "cell_type": "markdown",
   "metadata": {},
   "source": [
    "Is the horse’s position at the end of the race dependent on post\n",
    "position? Which test of this section is being used?"
   ]
  },
  {
   "cell_type": "markdown",
   "metadata": {},
   "source": [
    "$H_0$: $X \\perp Y$\n",
    "\n",
    "$H_1$: $X \\not\\perp Y$\n",
    "\n",
    "$W = 6.05289$\n",
    "\n",
    "$p$-value: $0.109064$\n",
    "\n",
    "Since $0.109064 > 0.05$, we do not have sufficent evicence to reject $H_0$."
   ]
  },
  {
   "cell_type": "code",
   "execution_count": 52,
   "metadata": {},
   "outputs": [],
   "source": [
    "O_ij = np.array([\n",
    "    [8, 6, 8, 16], \n",
    "    [3, 6, 5, 28]    \n",
    "])"
   ]
  },
  {
   "cell_type": "code",
   "execution_count": 53,
   "metadata": {},
   "outputs": [
    {
     "data": {
      "text/plain": [
       "(array([38, 42]), array([11, 12, 13, 44]))"
      ]
     },
     "execution_count": 53,
     "metadata": {},
     "output_type": "execute_result"
    }
   ],
   "source": [
    "r_i = np.sum(O_ij,axis=1)\n",
    "c_j = np.sum(O_ij,axis=0)\n",
    "N = np.sum(O_ij)\n",
    "\n",
    "r_i, c_j"
   ]
  },
  {
   "cell_type": "code",
   "execution_count": 54,
   "metadata": {},
   "outputs": [
    {
     "data": {
      "text/plain": [
       "array([[ 5.225,  5.7  ,  6.175, 20.9  ],\n",
       "       [ 5.775,  6.3  ,  6.825, 23.1  ]])"
      ]
     },
     "execution_count": 54,
     "metadata": {},
     "output_type": "execute_result"
    }
   ],
   "source": [
    "E_ij = r_i[:,None] * c_j[None,:] / N; E_ij"
   ]
  },
  {
   "cell_type": "code",
   "execution_count": 55,
   "metadata": {},
   "outputs": [
    {
     "data": {
      "text/plain": [
       "(6.052894473947106, 0.10906496150368931)"
      ]
     },
     "execution_count": 55,
     "metadata": {},
     "output_type": "execute_result"
    }
   ],
   "source": [
    "w = np.sum((O_ij-E_ij)**2/E_ij)\n",
    "\n",
    "r=len(r_i); c=len(c_j)\n",
    "p = stats.chi2(df=(r-1)*(c-1)).sf(w)\n",
    "\n",
    "w, p"
   ]
  },
  {
   "cell_type": "markdown",
   "metadata": {},
   "source": [
    "#### Exercise 4.2.4:"
   ]
  },
  {
   "cell_type": "markdown",
   "metadata": {},
   "source": [
    "Three professors are teaching large classes in introductory statistics.\n",
    "At the end of the semester, they compute grades to see if there are\n",
    "significant differences in their grading policies."
   ]
  },
  {
   "cell_type": "markdown",
   "metadata": {},
   "source": [
    "                                                         \n",
    "| Professor |  A   |   B  |  C   |  D   |   F  |  WP  |  WF |\n",
    "| --------- | ---- | ---- | ---- | ---- | ---- | ---- | --- |\n",
    "| Smith     |$$12$$|$$45$$|$$49$$| $$6$$|$$13$$|$$18$$|$$2$$|\n",
    "| Jones     |$$10$$|$$32$$|$$43$$|$$18$$| $$4$$|$$12$$|$$6$$|\n",
    "| White     |$$15$$|$$19$$|$$32$$|$$20$$|$$6$$ | $$9$$|$$7$$|"
   ]
  },
  {
   "cell_type": "markdown",
   "metadata": {},
   "source": [
    "Are these differences significant? What test are you using? Are the\n",
    "grades assigned buy Professors Jones and White significantly different?\n",
    "How would the results be interpreted?"
   ]
  },
  {
   "cell_type": "markdown",
   "metadata": {},
   "source": [
    "$H_0$: $X \\perp Y$\n",
    "\n",
    "$H_1$: $X \\not\\perp Y$\n",
    "\n",
    "$W = 28.9150$\n",
    "\n",
    "$p$-value: $0.00405$\n",
    "\n",
    "Since $0.00405 < 0.05$, we have sufficent evidence to reject $H_0$."
   ]
  },
  {
   "cell_type": "code",
   "execution_count": 59,
   "metadata": {},
   "outputs": [],
   "source": [
    "O_ij = np.array([\n",
    "    [12, 45, 49, 6, 13, 18, 2], \n",
    "    [10, 32, 43, 18, 4, 12, 6], \n",
    "    [15, 19, 32, 20, 6, 9, 7]\n",
    "])"
   ]
  },
  {
   "cell_type": "code",
   "execution_count": 60,
   "metadata": {},
   "outputs": [
    {
     "data": {
      "text/plain": [
       "(array([145, 125, 108]), array([ 37,  96, 124,  44,  23,  39,  15]))"
      ]
     },
     "execution_count": 60,
     "metadata": {},
     "output_type": "execute_result"
    }
   ],
   "source": [
    "r_i = np.sum(O_ij,axis=1)\n",
    "c_j = np.sum(O_ij,axis=0)\n",
    "N = np.sum(O_ij)\n",
    "\n",
    "r_i, c_j"
   ]
  },
  {
   "cell_type": "code",
   "execution_count": 61,
   "metadata": {},
   "outputs": [
    {
     "data": {
      "text/plain": [
       "array([[14.19312169, 36.82539683, 47.56613757, 16.87830688,  8.82275132,\n",
       "        14.96031746,  5.75396825],\n",
       "       [12.23544974, 31.74603175, 41.00529101, 14.55026455,  7.60582011,\n",
       "        12.8968254 ,  4.96031746],\n",
       "       [10.57142857, 27.42857143, 35.42857143, 12.57142857,  6.57142857,\n",
       "        11.14285714,  4.28571429]])"
      ]
     },
     "execution_count": 61,
     "metadata": {},
     "output_type": "execute_result"
    }
   ],
   "source": [
    "E_ij = r_i[:,None] * c_j[None,:] / N; E_ij"
   ]
  },
  {
   "cell_type": "code",
   "execution_count": 62,
   "metadata": {},
   "outputs": [
    {
     "data": {
      "text/plain": [
       "(28.91509065549326, 0.004055965274100453)"
      ]
     },
     "execution_count": 62,
     "metadata": {},
     "output_type": "execute_result"
    }
   ],
   "source": [
    "w = np.sum((O_ij-E_ij)**2/E_ij)\n",
    "\n",
    "r=len(r_i); c=len(c_j)\n",
    "p = stats.chi2(df=(r-1)*(c-1)).sf(w)\n",
    "\n",
    "w, p"
   ]
  },
  {
   "cell_type": "markdown",
   "metadata": {},
   "source": [
    "#### Problem 4.2.3:"
   ]
  },
  {
   "cell_type": "markdown",
   "metadata": {},
   "source": [
    "A different method of analyzing contingency tables uses the statistic\n",
    "$$T' = 2 \\sum_{i=1}^r \\sum_{j=1}^c O_{ij} \\ln(O_{ij}/E_{ij})$$ istead of\n",
    "$T$, where $\\ln$ refers to natural logarithm, found on most calculators.\n",
    "Otherwise the two test procedures are exactly the same. Use $T'$ in\n",
    "Exercise 3 to see if the result of the analysis is similar to the result\n",
    "using $T$. (The two tests are not equivalent in general, even though\n",
    "they may produce similar results in particular cases.)"
   ]
  },
  {
   "cell_type": "markdown",
   "metadata": {},
   "source": [
    "Note that Exercise 4.2.3 considers all of the horses in all of the races in three days, and has contingency table\n",
    "<table>\n",
    "    <tr><td></td><td></td><th style=\"text-align: center\" colspan=\"4\">Finish</th></tr>\n",
    "    <tr><td></td><td></td><th style=\"text-align: center\">1</th><th style=\"text-align: center\">2</th><th style=\"text-align: center\">3</th><th style=\"text-align: center\">Other</th></tr>\n",
    "    <tr><th style=\"text-align: left\" rowspan=\"2\">Post<br>Position</th><th>1--4</th><td style=\"text-align: center\">15</td><td style=\"text-align: center\">14</td><td style=\"text-align: center\">15</td><td style=\"text-align: center\">52</td></tr>\n",
    "    <tr><th>5--9</th><td style=\"text-align: center\">9</td><td style=\"text-align: center\">10</td><td style=\"text-align: center\">9</td><td style=\"text-align: center\">72</td></tr>\n",
    "</table>"
   ]
  },
  {
   "cell_type": "markdown",
   "metadata": {},
   "source": [
    "$H_0$: $X \\perp Y$\n",
    "\n",
    "$H_1$: $X \\not\\perp Y$\n",
    "\n",
    "$W = 6.8601$\n",
    "\n",
    "$p$-value: $0.07649$\n",
    "\n",
    "Since $0.07649 > 0.05$, we have insufficent evicence to reject $H_0$."
   ]
  },
  {
   "cell_type": "code",
   "execution_count": 84,
   "metadata": {},
   "outputs": [],
   "source": [
    "O_ij = np.array([\n",
    "    [15, 14, 15, 52], \n",
    "    [9, 10, 9, 72]    \n",
    "])\n",
    "\n",
    "r_i = np.sum(O_ij,axis=1)\n",
    "c_j = np.sum(O_ij,axis=0)\n",
    "N = np.sum(O_ij)\n",
    "\n",
    "E_ij = r_i[:,None] * c_j[None,:] / N"
   ]
  },
  {
   "cell_type": "code",
   "execution_count": 85,
   "metadata": {},
   "outputs": [
    {
     "name": "stdout",
     "output_type": "stream",
     "text": [
      "w1: 6.8136783154121865, w2: 6.860148428891671\n",
      "p1: 0.07807964928550849, p2: 0.07649145487055939\n"
     ]
    }
   ],
   "source": [
    "w1 = np.sum((O_ij-E_ij)**2/E_ij)\n",
    "w2 = 2*np.sum(O_ij*np.log(O_ij/E_ij))\n",
    "\n",
    "r=len(r_i); c=len(c_j)\n",
    "\n",
    "p1 = stats.chi2(df=(r-1)*(c-1)).sf(w1)\n",
    "p2 = stats.chi2(df=(r-1)*(c-1)).sf(w2)\n",
    "\n",
    "print(f'w1: {w1}, w2: {w2}')\n",
    "print(f'p1: {p1}, p2: {p2}')"
   ]
  },
  {
   "cell_type": "code",
   "execution_count": null,
   "metadata": {},
   "outputs": [],
   "source": []
  }
 ],
 "metadata": {
  "kernelspec": {
   "display_name": "Python 3 (ipykernel)",
   "language": "python",
   "name": "python3"
  },
  "language_info": {
   "codemirror_mode": {
    "name": "ipython",
    "version": 3
   },
   "file_extension": ".py",
   "mimetype": "text/x-python",
   "name": "python",
   "nbconvert_exporter": "python",
   "pygments_lexer": "ipython3",
   "version": "3.9.7"
  }
 },
 "nbformat": 4,
 "nbformat_minor": 4
}
