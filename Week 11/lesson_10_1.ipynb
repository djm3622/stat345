{
 "cells": [
  {
   "cell_type": "markdown",
   "id": "3e6f5841",
   "metadata": {
    "slideshow": {
     "slide_type": "slide"
    }
   },
   "source": [
    "# STAT 345: Nonparametric Statistics\n",
    "\n",
    "## Lesson 10.1: $2\\times 2$ Contingency Tables\n",
    "\n",
    "**Reading: Conover Section 4.1**\n",
    "\n",
    "*Prof. John T. Whelan*\n",
    "\n",
    "Thursday 10 April 2025"
   ]
  },
  {
   "cell_type": "markdown",
   "id": "755a84e8",
   "metadata": {
    "slideshow": {
     "slide_type": "slide"
    }
   },
   "source": [
    "These lecture slides are in a computational notebook.  You have access to them through http://vmware.rit.edu/"
   ]
  },
  {
   "cell_type": "markdown",
   "id": "d09c2df2",
   "metadata": {
    "slideshow": {
     "slide_type": "fragment"
    }
   },
   "source": [
    "Flat HTML and slideshow versions are also in MyCourses."
   ]
  },
  {
   "cell_type": "markdown",
   "id": "63b23852",
   "metadata": {
    "slideshow": {
     "slide_type": "fragment"
    }
   },
   "source": [
    "The notebook can run Python commands (other notebooks can use R or Julia; \"Ju-Pyt-R\").  Think: computational data analysis, not \"coding\"."
   ]
  },
  {
   "cell_type": "markdown",
   "id": "632a7897",
   "metadata": {
    "slideshow": {
     "slide_type": "fragment"
    }
   },
   "source": [
    "Standard commands to activate inline interface and import libraries:"
   ]
  },
  {
   "cell_type": "code",
   "execution_count": 1,
   "id": "fe735fcf",
   "metadata": {
    "slideshow": {
     "slide_type": "fragment"
    }
   },
   "outputs": [],
   "source": [
    "%matplotlib inline"
   ]
  },
  {
   "cell_type": "code",
   "execution_count": 2,
   "id": "6f45f4d7",
   "metadata": {
    "slideshow": {
     "slide_type": "fragment"
    }
   },
   "outputs": [],
   "source": [
    "import numpy as np\n",
    "from scipy import stats\n",
    "import matplotlib.pyplot as plt\n",
    "plt.rcParams['figure.figsize'] = (8.0,5.0)\n",
    "plt.rcParams['font.size'] = 14"
   ]
  },
  {
   "cell_type": "markdown",
   "id": "279ff009",
   "metadata": {
    "slideshow": {
     "slide_type": "slide"
    }
   },
   "source": [
    "## $2\\times 2$ Contingency Tables"
   ]
  },
  {
   "cell_type": "markdown",
   "id": "2fb48fda",
   "metadata": {
    "slideshow": {
     "slide_type": "subslide"
    }
   },
   "source": [
    "You saw on the last homework that there were slightly different (exact) null\n",
    "distributions for the chi-squared statistic from a two-way contingency\n",
    "table, depending on whether we assumed the row totals were fixed or only\n",
    "the total number of observations."
   ]
  },
  {
   "cell_type": "markdown",
   "id": "02e58e06",
   "metadata": {
    "slideshow": {
     "slide_type": "fragment"
    }
   },
   "source": [
    "We want to explore this in a little\n",
    "more detail, so we look at the simple case where $r=2=c$. In that case,\n",
    "the contingency table looks like this:\n",
    "\n",
    "|       |     $$j=1$$   |   $$j=2$$  | Total |\n",
    "|  ------- |----------| ----------| -------|\n",
    "|    $$i=1$$ | $$O_{11}$$ |  $$O_{12}$$ | $$r_1$$ |\n",
    "|    $$i=2$$ | $$O_{21}$$ |  $$O_{22}$$ | $$r_2$$ |\n",
    "|   Total   |      $$c_1$$   |   $$c_2$$ |   $$N$$ |"
   ]
  },
  {
   "cell_type": "markdown",
   "id": "400f5909",
   "metadata": {
    "slideshow": {
     "slide_type": "fragment"
    }
   },
   "source": [
    "The exact probability distributions depend on the details of the\n",
    "experimental setup, in particular which quantities (the row and column\n",
    "totals, just the row totals, or just the total number of observations)\n",
    "are assumed to be held fixed in hypothetical repetitions of the\n",
    "experiment."
   ]
  },
  {
   "cell_type": "markdown",
   "id": "83f667eb",
   "metadata": {
    "slideshow": {
     "slide_type": "slide"
    }
   },
   "source": [
    "### Fisher’s Exact Test"
   ]
  },
  {
   "cell_type": "markdown",
   "id": "c726ab3a",
   "metadata": {
    "slideshow": {
     "slide_type": "subslide"
    }
   },
   "source": [
    "Most restrictive set of assumptions: $\\{r_i\\}$ &\n",
    "$\\{c_j\\}$ are known in advance, and only the\n",
    "$\\{{\\color{royalblue}{O_{ij}}}\\}$ are random."
   ]
  },
  {
   "cell_type": "markdown",
   "id": "d8f3957f",
   "metadata": {
    "slideshow": {
     "slide_type": "fragment"
    }
   },
   "source": [
    "This means that everything\n",
    "is actually determined by one random variable, say\n",
    "${\\color{royalblue}{O_{11}}}$, and then we can find\n",
    "- ${\\color{royalblue}{O_{12}}}=r_1-{\\color{royalblue}{O_{11}}}$\n",
    "- ${\\color{royalblue}{O_{21}}}=c_1-{\\color{royalblue}{O_{11}}}$\n",
    "- ${\\color{royalblue}{O_{22}}} = r_2 - {\\color{royalblue}{O_{21}}} = N - r_1 - c_1 + {\\color{royalblue}{O_{11}}}$"
   ]
  },
  {
   "cell_type": "markdown",
   "id": "8b0563ab",
   "metadata": {
    "slideshow": {
     "slide_type": "fragment"
    }
   },
   "source": [
    "Null probability distribution for ${\\color{royalblue}{O_{11}}}$ is a\n",
    "hypergeometric distribution, since we are choosing $r_1$ objects out of\n",
    "$N$, where $c_1$ of the $N$ are of a certain type, and finding that\n",
    "$O_{11}$ out of the $r_1$ are of the type we chose."
   ]
  },
  {
   "cell_type": "markdown",
   "id": "32fd5c82",
   "metadata": {
    "slideshow": {
     "slide_type": "subslide"
    }
   },
   "source": [
    "Recall: hypergeometric distribution, from sampling\n",
    "without replacement. <br> Consider a hand w/seven cards: three\n",
    "of them hearts and four spades: $\\heartsuit$234 $\\spadesuit$2345"
   ]
  },
  {
   "cell_type": "markdown",
   "id": "6524bf94",
   "metadata": {
    "slideshow": {
     "slide_type": "fragment"
    }
   },
   "source": [
    "Suppose we draw four cards, at random, without replacement. What is the\n",
    "probability that we will end up with one heart and three spades?"
   ]
  },
  {
   "cell_type": "markdown",
   "id": "a20ad7b5",
   "metadata": {
    "slideshow": {
     "slide_type": "fragment"
    }
   },
   "source": [
    "There\n",
    "are\n",
    "$\\binom{7}{4} = \\frac{7!}{4!3!} = \\frac{7\\times 6\\times 5}{3\\times 2\\times 1}\n",
    "  = 35$ possible sets of four cards we can draw out of the seven\n",
    "available."
   ]
  },
  {
   "cell_type": "markdown",
   "id": "0ba2fab5",
   "metadata": {
    "slideshow": {
     "slide_type": "fragment"
    }
   },
   "source": [
    "How many of those include one heart and three spades? There\n",
    "are $\\binom{3}{1} = \\frac{3!}{1!2!} = 3$ possibilities for the heart\n",
    "and $\\binom{4}{3} = \\frac{4!}{3!1!} = 4$ possibilities for which three\n",
    "spades we have, so there are $3\\times\n",
    "4=12$ different four-card sets with one heart and three spades."
   ]
  },
  {
   "cell_type": "markdown",
   "id": "59c5551a",
   "metadata": {
    "slideshow": {
     "slide_type": "fragment"
    }
   },
   "source": [
    "So the\n",
    "probability of getting exactly one heart in a four card set when there\n",
    "are three hearts available out of seven cards to choose from is\n",
    "$\\binom{3}{1}\\binom{4}{3}\\big/\\binom{7}{4} = \\frac{12}{35}\n",
    "  \\approx 0.3429$"
   ]
  },
  {
   "cell_type": "markdown",
   "id": "20ce7dbf",
   "metadata": {
    "slideshow": {
     "slide_type": "subslide"
    }
   },
   "source": [
    "So the\n",
    "probability of getting exactly one heart in a four card set when there\n",
    "are three hearts available out of seven cards to choose from is\n",
    "$\\binom{3}{1}\\binom{4}{3}\\big/\\binom{7}{4} = \\frac{12}{35}\n",
    "  \\approx 0.3429$"
   ]
  },
  {
   "cell_type": "code",
   "execution_count": 3,
   "id": "f9e4bfc7",
   "metadata": {
    "slideshow": {
     "slide_type": "fragment"
    }
   },
   "outputs": [
    {
     "data": {
      "text/plain": [
       "(0.34285714285714286, 0.34285714285714286)"
      ]
     },
     "execution_count": 3,
     "metadata": {},
     "output_type": "execute_result"
    }
   ],
   "source": [
    "from scipy.special import comb as nchoosek\n",
    "12/35, nchoosek(3,1)*nchoosek(4,3)/nchoosek(7,4)"
   ]
  },
  {
   "cell_type": "code",
   "execution_count": 4,
   "id": "6dbedaa2",
   "metadata": {
    "slideshow": {
     "slide_type": "fragment"
    }
   },
   "outputs": [
    {
     "data": {
      "text/plain": [
       "(0.3428571428571428, 0.3428571428571428)"
      ]
     },
     "execution_count": 4,
     "metadata": {},
     "output_type": "execute_result"
    }
   ],
   "source": [
    "stats.hypergeom(7,3,4).pmf(1), stats.hypergeom(7,4,3).pmf(1)"
   ]
  },
  {
   "cell_type": "markdown",
   "id": "25a6aae5",
   "metadata": {
    "slideshow": {
     "slide_type": "fragment"
    }
   },
   "source": [
    "Returning to the contingency table, the probability of getting $O_{11}$\n",
    "of the $r_1$ observations in row 1 to be in column 1, when we know that\n",
    "$c_1$ of the total $N$ observations will be in column 1 is\n",
    "$$\\frac{\\binom{c_1}{O_{11}}\\binom{N-c_1}{r_1-O_{11}}}{\\binom{N}{r_1}}\n",
    "=\\frac{\\binom{c_1}{O_{11}}\\binom{c_2}{O_{12}}}{\\binom{N}{r_1}}\n",
    "  =\\frac{c_1!c_2!r_1!r_2!}{N!O_{11}!O_{21}!O_{12}!O_{22}!}$$"
   ]
  },
  {
   "cell_type": "markdown",
   "id": "1050b011",
   "metadata": {
    "slideshow": {
     "slide_type": "fragment"
    }
   },
   "source": [
    "Note the symmetry!"
   ]
  },
  {
   "cell_type": "markdown",
   "id": "ec96e3ac",
   "metadata": {
    "slideshow": {
     "slide_type": "subslide"
    }
   },
   "source": [
    "If we know\n",
    "that the row and column totals are fixed in an experimental design,\n",
    "“Fisher’s exact test” says to compare the one degree of freedom in the\n",
    "table, say $O_{11}$, against the appropriate hypergeometric\n",
    "distribution. Suppose for example we have the following contingency\n",
    "table\n",
    "\n",
    "| | $$j=1$$ | $$j=2$$ | Total |\n",
    "| -- | -- | -- | -- |\n",
    "| $$i=1$$ |  $$1$$ |  $$6$$ | $$7$$ |\n",
    "| $$i=2$$ | $$8$$ |  $$2$$ | $$10$$ |\n",
    "| **Total** |  $$9$$ |  $$8$$ | $$17$$ |"
   ]
  },
  {
   "cell_type": "code",
   "execution_count": 5,
   "id": "d3680262",
   "metadata": {
    "slideshow": {
     "slide_type": "fragment"
    }
   },
   "outputs": [
    {
     "data": {
      "text/plain": [
       "(array([ 7, 10]), array([9, 8]), 17)"
      ]
     },
     "execution_count": 5,
     "metadata": {},
     "output_type": "execute_result"
    }
   ],
   "source": [
    "O_ij = np.array([[1,6],[8,2]])\n",
    "r_i = np.sum(O_ij,axis=-1); c_j = np.sum(O_ij,axis=0); N=np.sum(O_ij); r_i, c_j, N"
   ]
  },
  {
   "cell_type": "code",
   "execution_count": 6,
   "id": "eb976dd3",
   "metadata": {
    "slideshow": {
     "slide_type": "fragment"
    }
   },
   "outputs": [
    {
     "data": {
      "text/plain": [
       "(1, 7, 9)"
      ]
     },
     "execution_count": 6,
     "metadata": {},
     "output_type": "execute_result"
    }
   ],
   "source": [
    "O11 = O_ij[0,0]; r1 = r_i[0]; c1 = c_j[0]; O11, r1, c1"
   ]
  },
  {
   "cell_type": "markdown",
   "id": "80c4659d",
   "metadata": {
    "slideshow": {
     "slide_type": "fragment"
    }
   },
   "source": [
    "For $p$-value, depends if we're doing a one-sided or two-sided test.  One-sided $p=P(\\color{royalblue}{O_{11}}\\le 1)\\approx 0.013$"
   ]
  },
  {
   "cell_type": "code",
   "execution_count": 7,
   "id": "fd5b4dbe",
   "metadata": {
    "slideshow": {
     "slide_type": "fragment"
    }
   },
   "outputs": [
    {
     "data": {
      "text/plain": [
       "0.013368983957219251"
      ]
     },
     "execution_count": 7,
     "metadata": {},
     "output_type": "execute_result"
    }
   ],
   "source": [
    "pfish1=stats.hypergeom(N,c1,r1).cdf(O11); pfish1"
   ]
  },
  {
   "cell_type": "markdown",
   "id": "22080191",
   "metadata": {
    "slideshow": {
     "slide_type": "subslide"
    }
   },
   "source": [
    "For two-sided, have to ask which $O_{11}$ values are \"at least as extreme\" as 1:"
   ]
  },
  {
   "cell_type": "code",
   "execution_count": 9,
   "id": "60878163",
   "metadata": {
    "slideshow": {
     "slide_type": "fragment"
    }
   },
   "outputs": [
    {
     "data": {
      "image/png": "[encoded data removed]",
      "text/plain": [
       "<Figure size 800x500 with 1 Axes>"
      ]
     },
     "metadata": {},
     "output_type": "display_data"
    }
   ],
   "source": [
    "x_x = np.arange(max(0,r1+c1-N),min(r1,c1)+1); px_x = stats.hypergeom(N,c1,r1).pmf(x_x);plt.axhline(px_x[1],color='C1');\n",
    "plt.bar(x_x,px_x);plt.xlabel(r'$O_{11}$');plt.ylabel('pmf');plt.grid()"
   ]
  },
  {
   "cell_type": "code",
   "execution_count": 10,
   "id": "9af0baf5",
   "metadata": {
    "slideshow": {
     "slide_type": "fragment"
    }
   },
   "outputs": [
    {
     "data": {
      "text/plain": [
       "(array([0, 1, 7]), 0.015220074043603454)"
      ]
     },
     "execution_count": 10,
     "metadata": {},
     "output_type": "execute_result"
    }
   ],
   "source": [
    "pxobs = stats.hypergeom(N,c1,r1).pmf(O11); pfish2=np.sum(px_x[px_x<=pxobs]); x_x[px_x<=pxobs], pfish2"
   ]
  },
  {
   "cell_type": "markdown",
   "id": "3d849930",
   "metadata": {
    "slideshow": {
     "slide_type": "subslide"
    }
   },
   "source": [
    "For large $N$, can apply normal approx to the hypergeometric\n",
    "distribution using the mean and variance\n",
    "\n",
    "$$  E({\\color{royalblue}{O_{11}}}) = \\frac{r_1c_1}{N} \\qquad\\hbox{and}\\qquad\n",
    "    \\operatorname{Var}({\\color{royalblue}{O_{11}}}) = \\frac{N-r_1}{N-1}r_1\\frac{c_1}{N}\\frac{N-c_1}{N}\n",
    "    = \\frac{r_1r_2c_1c_2}{N^2(N-1)}$$\n",
    "\n",
    "and so the test statistic\n",
    "$$\\color{royalblue}{T} = \\sqrt{\\frac{N-1}{r_1r_2c_1c_2}} (N{\\color{royalblue}{O_{11}}}-r_1c_1)$$\n",
    "should be approximately standard normal."
   ]
  },
  {
   "cell_type": "markdown",
   "id": "1c71a5df",
   "metadata": {
    "slideshow": {
     "slide_type": "fragment"
    }
   },
   "source": [
    "This looks pretty asymmetric,\n",
    "but if we write $$\\begin{split}\n",
    "    N{\\color{royalblue}{O_{11}}}-r_1c_1 &= ({\\color{royalblue}{O_{11}}}+{\\color{royalblue}{O_{12}}}+{\\color{royalblue}{O_{21}}}+{\\color{royalblue}{O_{22}}}){\\color{royalblue}{O_{11}}}\n",
    "    - ({\\color{royalblue}{O_{11}}}+{\\color{royalblue}{O_{12}}})({\\color{royalblue}{O_{11}}}+{\\color{royalblue}{O_{21}}})\n",
    "    \\\\\n",
    "    &= {\\color{royalblue}{O_{11}}}{\\color{royalblue}{O_{22}}} - {\\color{royalblue}{O_{12}}}{\\color{royalblue}{O_{21}}}\n",
    "  \\end{split}$$ we get the more symmetrical form\n",
    "$$\\label{e:fisher-largeN}\n",
    "  \\color{royalblue}{T} = \\sqrt{\\frac{N-1}{r_1r_2c_1c_2}} ({\\color{royalblue}{O_{11}}}{\\color{royalblue}{O_{22}}} - {\\color{royalblue}{O_{12}}}{\\color{royalblue}{O_{21}}})$$"
   ]
  },
  {
   "cell_type": "markdown",
   "id": "857fb156",
   "metadata": {
    "slideshow": {
     "slide_type": "subslide"
    }
   },
   "source": [
    "Fisher's exact test comes from the “lady tasting tea” experiment.\n",
    "\n",
    "A lady claimed\n",
    "to be able to tell by taste whether milk or tea has been poured first into a cup.  Fisher tested this by preparing four cups by each method, presenting the 8 cups in a random order, and asking her to determine which four were poured tea-first."
   ]
  },
  {
   "cell_type": "markdown",
   "id": "16b5e495",
   "metadata": {
    "slideshow": {
     "slide_type": "fragment"
    }
   },
   "source": [
    "She got them all right, for a contingency table of\n",
    "\n",
    "<table>\n",
    "    <tr><td></td><td></td><th colspan=\"2\">Lady</th><td></td></tr>\n",
    "    <tr><td></td><td></td><th>Tea First</th><th>Milk First</th><th>Total</th></tr>\n",
    "    <tr><th rowspan=\"2\">Fisher</th><th>Tea First</th><td>4</td><td>0</td><td>4</td></tr>\n",
    "    <tr><th>Milk First</th><td>0</td><td>4</td><td>4</td></tr>\n",
    "    <tr><th colspan=\"2\">Total</th><td>4</td><td>4</td><td>8</td></tr>\n",
    "</table>\n",
    "\n",
    "There was only one way to do this, out of $\\binom{8}{4}=\\frac{8\\times 7\\times 6\\times 5}{4\\times 3\\times 2\\times 1}=70$ possibilities, for a $p$-value of $\\frac{1}{70}\\approx 0.014$"
   ]
  },
  {
   "cell_type": "code",
   "execution_count": 11,
   "id": "113d8790",
   "metadata": {
    "slideshow": {
     "slide_type": "fragment"
    }
   },
   "outputs": [
    {
     "data": {
      "text/plain": [
       "(70.0, 0.014285714285714285, 0.014285714285714284)"
      ]
     },
     "execution_count": 11,
     "metadata": {},
     "output_type": "execute_result"
    }
   ],
   "source": [
    "nchoosek(8,4), 1/70, stats.hypergeom(8,4,4).pmf(4)"
   ]
  },
  {
   "cell_type": "markdown",
   "id": "a0795ee4",
   "metadata": {
    "slideshow": {
     "slide_type": "slide"
    }
   },
   "source": [
    "### Test for Equal Proportions"
   ]
  },
  {
   "cell_type": "markdown",
   "id": "7516f2b6",
   "metadata": {
    "slideshow": {
     "slide_type": "subslide"
    }
   },
   "source": [
    "The assumption that the row and column totals are both fixed makes for a\n",
    "somewhat artificial experimental setup. The \"lady tasting tea\" setup did indeed guarantee that the row\n",
    "totals (number of cups prepared tea-first and number milk-first) as well\n",
    "as the column totals (number of cups identified as tea-first and number\n",
    "identified as milk-first) were fixed (all to $4$ in this case). But if\n",
    "he had not told her how many were prepared each way, but asked her to\n",
    "identify each cup as tea-first or milk-first as it came, the row totals\n",
    "would have been fixed, but not the column totals."
   ]
  },
  {
   "cell_type": "markdown",
   "id": "4853fb56",
   "metadata": {
    "slideshow": {
     "slide_type": "fragment"
    }
   },
   "source": [
    "If the row totals are known but not the column totals, there are only\n",
    "two constraints, and thus two (independent) random variables\n",
    "${\\color{royalblue}{O_{11}}}\\sim\\operatorname{Bin}(r_1,p^{(1)}_1)$ and\n",
    "${\\color{royalblue}{O_{21}}}\\sim\\operatorname{Bin}(r_2,p^{(2)}_1)$. The\n",
    "null hypothesis says that $p^{(1)}_1=p^{(2)}_1=p_{\\bullet 1}$, but\n",
    "doesn’t specify the value of $p_{\\bullet 1}$. The joint null pmf for\n",
    "${\\color{royalblue}{O_{11}}}$ and ${\\color{royalblue}{O_{21}}}$ is\n",
    "$$\\begin{split}\n",
    "    p(O_{11},O_{21}|H_0)\n",
    "    = \\binom{r_1}{O_{11}}p_{\\bullet 1}^{O_{11}}(1-p_{\\bullet 1})^{r_1-O_{11}}\n",
    "    \\binom{r_2}{O_{21}}p_{\\bullet 1}^{O_{21}}(1-p_{\\bullet 1})^{r_2-O_{21}}\n",
    "    = \\frac{r_1!r_2!}{O_{11}!O_{12}!O_{21}!O_{22}!}\n",
    "    (p_{\\bullet 1})^{c_1} (p_{\\bullet 2})^{c_2}\n",
    "  \\end{split}$$"
   ]
  },
  {
   "cell_type": "markdown",
   "id": "658881c3",
   "metadata": {
    "slideshow": {
     "slide_type": "fragment"
    }
   },
   "source": [
    "The null distribution depends on the unknown $p_{\\bullet 1}$; The $p$-value is for the worst-case scenario (maximum)"
   ]
  },
  {
   "cell_type": "markdown",
   "id": "ee2f6b43",
   "metadata": {
    "slideshow": {
     "slide_type": "subslide"
    }
   },
   "source": [
    "| | $$j=1$$ | $$j=2$$ | Total |\n",
    "| -- | -- | -- | -- |\n",
    "| $$i=1$$ |  $$1$$ |  $$6$$ | $$7$$ |\n",
    "| $$i=2$$ | $$8$$ |  $$2$$ | $$10$$ |\n",
    "| **Total** |  $$9$$ |  $$8$$ | $$17$$ |\n",
    "\n",
    "Returning to this example, what is the $p$-value with only $r_1=7$ and $r_2=10$ fixed?  Use the statistic\n",
    "$(N{\\color{royalblue}{O_{11}}}-r_1\\color{royalblue}{C_1})/\\sqrt{\\color{royalblue}{C_1}\\color{royalblue}{C_2}}$; everything depends on $\\color{royalblue}{O_{11}}$ & $\\color{royalblue}{O_{21}}$"
   ]
  },
  {
   "cell_type": "code",
   "execution_count": 12,
   "id": "93d02a39",
   "metadata": {
    "slideshow": {
     "slide_type": "fragment"
    }
   },
   "outputs": [
    {
     "data": {
      "text/plain": [
       "(array([0, 1, 2, 3, 4, 5, 6, 7]),\n",
       " array([ 0,  1,  2,  3,  4,  5,  6,  7,  8,  9, 10]))"
      ]
     },
     "execution_count": 12,
     "metadata": {},
     "output_type": "execute_result"
    }
   ],
   "source": [
    "r2 = r_i[1]; c2 = c_j[1]; O11_x = np.arange(r1+1);O21_y = np.arange(r2+1); O11_x,O21_y"
   ]
  },
  {
   "cell_type": "code",
   "execution_count": 13,
   "id": "2170e140",
   "metadata": {
    "slideshow": {
     "slide_type": "fragment"
    }
   },
   "outputs": [
    {
     "data": {
      "text/plain": [
       "-5.42115199"
      ]
     },
     "execution_count": 13,
     "metadata": {},
     "output_type": "execute_result"
    }
   ],
   "source": [
    "c1_xy = O11_x[:,None] + O21_y[None,:]; c2_xy = N - c1_xy\n",
    "stat_xy = np.round((N*O11_x[:,None]-r1*c1_xy)/np.sqrt(c1_xy*c2_xy+1e-12),8)\n",
    "mystat = np.round((N*O11-r1*c1)/np.sqrt(c1*c2+1e-12),8); mystat"
   ]
  },
  {
   "cell_type": "code",
   "execution_count": 14,
   "id": "33e6f1a1",
   "metadata": {
    "slideshow": {
     "slide_type": "fragment"
    }
   },
   "outputs": [
    {
     "data": {
      "text/plain": [
       "(9, 9)"
      ]
     },
     "execution_count": 14,
     "metadata": {},
     "output_type": "execute_result"
    }
   ],
   "source": [
    "np.sum(stat_xy<=-np.abs(mystat)), np.sum(stat_xy>=np.abs(mystat))"
   ]
  },
  {
   "cell_type": "markdown",
   "id": "a68dd084",
   "metadata": {
    "slideshow": {
     "slide_type": "fragment"
    }
   },
   "source": [
    "$(r_1+1)(r_2+1)=88$ possible values, but null probabilities depend on $p_{\\bullet 1}$."
   ]
  },
  {
   "cell_type": "code",
   "execution_count": 15,
   "id": "b09c6e34",
   "metadata": {
    "slideshow": {
     "slide_type": "subslide"
    }
   },
   "outputs": [
    {
     "data": {
      "image/png": "[encoded data removed]",
      "text/plain": [
       "<Figure size 800x500 with 1 Axes>"
      ]
     },
     "metadata": {},
     "output_type": "display_data"
    }
   ],
   "source": [
    "p1_p = np.linspace(0,1,100)\n",
    "pmf_xyp = stats.binom(r1,p1_p[None,None,:]).pmf(O11_x[:,None,None])*stats.binom(r2,p1_p[None,None,:]).pmf(O21_y[None,:,None])\n",
    "plower_p = np.sum((stat_xy<=mystat)[:,:,None]*pmf_xyp,axis=(0,1));\n",
    "pupper_p = np.sum((stat_xy>=-mystat)[:,:,None]*pmf_xyp,axis=(0,1))\n",
    "plt.  plot(p1_p,plower_p,'b--',label='lower-tailed');plt.plot(p1_p,pupper_p,'g-.',label='upper-tailed');\n",
    "plt.plot(p1_p,plower_p+pupper_p,'k-',label='two-tailed');plt.xlabel(r'$p_{\\bullet 1}$');\n",
    "plt.axhline(pfish2,color='C3',label='Fisher (2-sided)');plt.axhline(pfish1,color='C1',label='Fisher (1-sided)');plt.grid();\n",
    "plt.ylabel(r'$\\alpha$');plt.title(r'Significance for $2\\times 2$ table');plt.legend();plt.xlim(0,1);plt.ylim(0,0.016);"
   ]
  },
  {
   "cell_type": "markdown",
   "id": "45b3976a",
   "metadata": {
    "slideshow": {
     "slide_type": "fragment"
    }
   },
   "source": [
    "We see that, if the column totals are not actually fixed, Fisher’s exact\n",
    "test has overestimated the $p$-value."
   ]
  },
  {
   "cell_type": "markdown",
   "id": "290d8ce8",
   "metadata": {
    "slideshow": {
     "slide_type": "subslide"
    }
   },
   "source": [
    "We see that, if the column totals are not actually fixed, Fisher’s exact\n",
    "test has overestimated the $p$-value."
   ]
  },
  {
   "cell_type": "code",
   "execution_count": null,
   "id": "f634cbc7-2b3a-4d5d-bf34-7323c7ff0693",
   "metadata": {},
   "outputs": [],
   "source": []
  },
  {
   "cell_type": "code",
   "execution_count": 16,
   "id": "d15e3f28",
   "metadata": {
    "slideshow": {
     "slide_type": "fragment"
    }
   },
   "outputs": [
    {
     "data": {
      "text/plain": [
       "(0.005143504468716187,\n",
       " 0.013368983957219251,\n",
       " 0.009517998341610323,\n",
       " 0.015220074043603454)"
      ]
     },
     "execution_count": 16,
     "metadata": {},
     "output_type": "execute_result"
    }
   ],
   "source": [
    "max(plower_p), pfish1, max(plower_p+pupper_p), pfish2"
   ]
  },
  {
   "cell_type": "markdown",
   "id": "93b30542",
   "metadata": {
    "slideshow": {
     "slide_type": "subslide"
    }
   },
   "source": [
    "For large sample sizes, we can also apply a normal approximation,\n",
    "assuming that the two random variables ${\\color{royalblue}{O_{11}}}$ and\n",
    "${\\color{royalblue}{O_{21}}}$ are independent and approximately normal\n",
    "with the means and variances given by the binomial distribution:\n",
    "$$\\begin{gathered}\n",
    "    E({\\color{royalblue}{O_{11}}}) = r_1 p^{(1)}_{1}\n",
    "    \\qquad\\hbox{and}\\qquad\n",
    "    E({\\color{royalblue}{O_{21}}}) = r_2 p^{(2)}_{1}\n",
    "    \\\\\n",
    "    \\operatorname{Var}({\\color{royalblue}{O_{11}}}) = r_1 p^{(1)}_{1}(1-p^{(1)}_{1})\n",
    "    \\qquad\\hbox{and}\\qquad\n",
    "    \\operatorname{Var}({\\color{royalblue}{O_{21}}}) = r_2 p^{(2)}_{1}(1-p^{(2)}_{1})\n",
    "  \\end{gathered}$$\n",
    "To test the null hypothesis that\n",
    "$p^{(1)}_{1}=p^{(2)}_{1}=p_{\\bullet 1}$, we should use the test\n",
    "statistic\n",
    "${\\color{royalblue}{O_{11}}}/r_1-{\\color{royalblue}{O_{21}}}/r_2$.\n",
    "Assuming $H_0$, this has\n",
    "$$E\\left(\\frac{{\\color{royalblue}{O_{11}}}}{r_1}-\\frac{{\\color{royalblue}{O_{21}}}}{r_2}\\right)\n",
    "  =0\\qquad\\hbox{and}\\qquad\\operatorname{Var}\\left(\\frac{{\\color{royalblue}{O_{11}}}}{r_1}-\\frac{{\\color{royalblue}{O_{21}}}}{r_2}\\right)\n",
    "  =\\left(\\frac{1}{r_1}+\\frac{1}{r_2}\\right)p_{\\bullet 1}(1-p_{\\bullet 1})$$"
   ]
  },
  {
   "cell_type": "markdown",
   "id": "a4befc75",
   "metadata": {
    "slideshow": {
     "slide_type": "subslide"
    }
   },
   "source": [
    "We can replace the unknown $p_{\\bullet 1}$ with its estimate\n",
    "$${\\color{royalblue}{\\hat{p}_{\\bullet 1}}}\n",
    "  =\\frac{{\\color{royalblue}{O_{11}}}+{\\color{royalblue}{O_{21}}}}{r_1+r_2} = \\frac{{\\color{royalblue}{C_1}}}{N}\\qquad\\hbox{so}\\qquad 1 - {\\color{royalblue}{\\hat{p}_{\\bullet 1}}}\n",
    "  =1 - \\frac{{\\color{royalblue}{O_{11}}}+{\\color{royalblue}{O_{21}}}}{r_1+r_2} = \\frac{{\\color{royalblue}{C_2}}}{N}$$\n",
    "We then assume that the standardized statistic\n",
    "$${\\color{royalblue}{T_1}}\n",
    "  =\\frac{{\\color{royalblue}{O_{11}}}/r_1-{\\color{royalblue}{O_{21}}}/r_2}\n",
    "  {\n",
    "    \\sqrt{\n",
    "      \\left(\\frac{1}{r_1}+\\frac{1}{r_2}\\right)\n",
    "      \\frac{{\\color{royalblue}{C_1}}}{N}\\frac{{\\color{royalblue}{C_2}}}{N}\n",
    "    }\n",
    "  }$$ is approximately standard normal. We can simplify the statistic as\n",
    "$$\\label{e:2x2-largeN}\n",
    "  \\begin{split}\n",
    "    {\\color{royalblue}{T_1}}\n",
    "    &=\n",
    "    \\frac{r_2{\\color{royalblue}{O_{11}}}-r_1{\\color{royalblue}{O_{21}}}}\n",
    "    {\n",
    "      \\sqrt{\n",
    "        r_1r_2(r_2+r_1)\n",
    "        \\frac{{\\color{royalblue}{C_1}}}{N}\\frac{{\\color{royalblue}{C_2}}}{N}\n",
    "      }\n",
    "    }\n",
    "    =\n",
    "    \\frac{\n",
    "      ({\\color{royalblue}{O_{21}}}+{\\color{royalblue}{O_{22}}}){\\color{royalblue}{O_{11}}}\n",
    "      -({\\color{royalblue}{O_{11}}}+{\\color{royalblue}{O_{12}}}){\\color{royalblue}{O_{21}}}}\n",
    "    {\n",
    "      \\sqrt{\n",
    "        r_1r_2(r_2+r_1)\n",
    "        \\frac{{\\color{royalblue}{C_1}}}{N}\\frac{{\\color{royalblue}{C_2}}}{N}\n",
    "      }\n",
    "    }\n",
    "    \\\\\n",
    "    &=\n",
    "    \\sqrt{\\frac{N}{r_1r_2{\\color{royalblue}{C_1}}{\\color{royalblue}{C_2}}}}\n",
    "    \\,\n",
    "    ({\\color{royalblue}{O_{11}}}{\\color{royalblue}{O_{22}}}-{\\color{royalblue}{O_{12}}}{\\color{royalblue}{O_{21}}})\n",
    "  \\end{split}$$ Note that this is $\\sqrt{\\frac{N}{N-1}}$ times the\n",
    "large-sample normal approximation to the test statistic in Fisher’s\n",
    "exact test, . As you’ll show on the homework, the square of\n",
    "${\\color{royalblue}{T_1}}$ appearing in is the standard chi-squared\n",
    "statistic for a two-way contingency table. (This makes sense, since the\n",
    "square of a standard normal random variable is a $\\chi^2(1)$ random\n",
    "variable.)"
   ]
  },
  {
   "cell_type": "code",
   "execution_count": null,
   "id": "d448c240-a695-4c65-8efd-89431078ff54",
   "metadata": {},
   "outputs": [],
   "source": []
  },
  {
   "cell_type": "code",
   "execution_count": null,
   "id": "50486f26-6e87-4eb7-98ce-3445301885fe",
   "metadata": {},
   "outputs": [],
   "source": []
  },
  {
   "cell_type": "code",
   "execution_count": null,
   "id": "6c033b7f-f12e-47b4-aabf-18b169ef1201",
   "metadata": {},
   "outputs": [],
   "source": []
  }
 ],
 "metadata": {
  "celltoolbar": "Slideshow",
  "kernelspec": {
   "display_name": "Python 3 (ipykernel)",
   "language": "python",
   "name": "python3"
  },
  "language_info": {
   "codemirror_mode": {
    "name": "ipython",
    "version": 3
   },
   "file_extension": ".py",
   "mimetype": "text/x-python",
   "name": "python",
   "nbconvert_exporter": "python",
   "pygments_lexer": "ipython3",
   "version": "3.9.7"
  }
 },
 "nbformat": 4,
 "nbformat_minor": 5
}
