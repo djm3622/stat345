{
 "cells": [
  {
   "cell_type": "markdown",
   "id": "3e6f5841",
   "metadata": {
    "slideshow": {
     "slide_type": "slide"
    }
   },
   "source": [
    "# STAT 345: Nonparametric Statistics\n",
    "\n",
    "## Lesson 09.2: Two-Way Contingency Tables\n",
    "\n",
    "**Reading: Conover Section 4.2**\n",
    "\n",
    "*Prof. John T. Whelan*\n",
    "\n",
    "Tuesday 8 April 2025"
   ]
  },
  {
   "cell_type": "markdown",
   "id": "755a84e8",
   "metadata": {
    "slideshow": {
     "slide_type": "slide"
    }
   },
   "source": [
    "These lecture slides are in a computational notebook.  You have access to them through http://vmware.rit.edu/"
   ]
  },
  {
   "cell_type": "markdown",
   "id": "d09c2df2",
   "metadata": {
    "slideshow": {
     "slide_type": "fragment"
    }
   },
   "source": [
    "Flat HTML and slideshow versions are also in MyCourses."
   ]
  },
  {
   "cell_type": "markdown",
   "id": "63b23852",
   "metadata": {
    "slideshow": {
     "slide_type": "fragment"
    }
   },
   "source": [
    "The notebook can run Python commands (other notebooks can use R or Julia; \"Ju-Pyt-R\").  Think: computational data analysis, not \"coding\"."
   ]
  },
  {
   "cell_type": "markdown",
   "id": "632a7897",
   "metadata": {
    "slideshow": {
     "slide_type": "fragment"
    }
   },
   "source": [
    "Standard commands to activate inline interface and import libraries:"
   ]
  },
  {
   "cell_type": "code",
   "execution_count": 1,
   "id": "fe735fcf",
   "metadata": {
    "slideshow": {
     "slide_type": "fragment"
    }
   },
   "outputs": [],
   "source": [
    "%matplotlib inline"
   ]
  },
  {
   "cell_type": "code",
   "execution_count": 2,
   "id": "6f45f4d7",
   "metadata": {
    "slideshow": {
     "slide_type": "fragment"
    }
   },
   "outputs": [],
   "source": [
    "import numpy as np\n",
    "from scipy import stats\n",
    "import matplotlib.pyplot as plt\n",
    "plt.rcParams['figure.figsize'] = (8.0,5.0)\n",
    "plt.rcParams['font.size'] = 14"
   ]
  },
  {
   "cell_type": "markdown",
   "id": "20a4b6c3",
   "metadata": {
    "slideshow": {
     "slide_type": "slide"
    }
   },
   "source": [
    "## Contingency Tables\n",
    "- Generalization of categorical data: multiple sets of categories, each observation classified in one category from each set.\n",
    "- E.g., draw individuals from population \\& note hair \\& eye color."
   ]
  },
  {
   "cell_type": "markdown",
   "id": "f7821d45",
   "metadata": {
    "slideshow": {
     "slide_type": "fragment"
    }
   },
   "source": [
    "- Each observation is a multi-dimensional categorical vector. For concreteness, focus on the case w/two sets of categories:\n",
    "$\\{{\\mathcal{R}}_1,\\ldots,{\\mathcal{R}}_r\\}\\equiv\\{{\\mathcal{R}}_i|i=1,\\ldots,r\\}$\n",
    "and\n",
    "$\\{{\\mathcal{C}}_1,\\ldots,{\\mathcal{C}}_c\\}\\equiv\\{{\\mathcal{C}}_j|j=1,\\ldots,c\\}$."
   ]
  },
  {
   "cell_type": "markdown",
   "id": "77b0ee22",
   "metadata": {
    "slideshow": {
     "slide_type": "fragment"
    }
   },
   "source": [
    "- $N$ obs $\\equiv$ paired categorical data sample\n",
    "$\\{(x_I,y_I)|I=1,\\ldots,N\\}$, w./$x_I\\in\\{{\\mathcal{R}}_i\\}$ and\n",
    "$y_I\\in\\{{\\mathcal{C}}_j\\}$."
   ]
  },
  {
   "cell_type": "markdown",
   "id": "9772338b",
   "metadata": {
    "slideshow": {
     "slide_type": "fragment"
    }
   },
   "source": [
    "- Count up the number of observations in each pair of categories\n",
    "$$O_{ij} = \\sum_{I=1}^N I[x_I={\\mathcal{R}}_i,y_I={\\mathcal{C}}_j]$$"
   ]
  },
  {
   "cell_type": "markdown",
   "id": "bb0fe7e6",
   "metadata": {
    "slideshow": {
     "slide_type": "subslide"
    }
   },
   "source": [
    "- Arrange observations $\\{O_{ij}\\}$ into a **contingency table**:"
   ]
  },
  {
   "cell_type": "markdown",
   "id": "65be512e",
   "metadata": {
    "slideshow": {
     "slide_type": "fragment"
    }
   },
   "source": [
    "| | $$j=1$$ | $$j=2$$ | $$\\cdots$$ | $$j=c$$ | Total |\n",
    "|-| ------- | ------- | ---------- | ------- | --- |\n",
    "|$$i=1$$ | $$O_{11}$$ |  $$O_{12}$$ |  $$\\cdots$$ |  $$O_{1c}$$ | $$r_1$$ |\n",
    " |      $$i=2$$ | $$O_{21}$$ |  $$O_{22}$$ |  $$\\cdots$$ |  $$O_{2c}$$ | $$r_2$$ |\n",
    " |   $$\\vdots$$ | $$\\vdots$$ |  $$\\vdots$$ |  $$\\ddots$$ |  $$\\vdots$$ | $$\\vdots$$ |\n",
    " |      $$i=r$$ | $$O_{r1}$$ |  $$O_{r2}$$ |  $$\\cdots$$ |  $$O_{rc}$$ | $$r_r$$ |\n",
    " | **Total** |             $$c_1$$ |     $$c_2$$ |    $$\\cdots$$ |   $$c_c$$ |   $$N$$ |"
   ]
  },
  {
   "cell_type": "markdown",
   "id": "ec4b3c6e",
   "metadata": {
    "slideshow": {
     "slide_type": "fragment"
    }
   },
   "source": [
    "- Define the row and column totals (total number of observations in each set of categories)\n",
    "$$\\sum_{i=1}^r O_{ij} = c_j \\qquad \\sum_{j=1}^c O_{ij} = r_i$$\n",
    "- The total number of observations is given by\n",
    "$$\\sum_{i=1}^r r_i = N = \\sum_{j=1}^c c_j$$"
   ]
  },
  {
   "cell_type": "markdown",
   "id": "e669824f",
   "metadata": {
    "slideshow": {
     "slide_type": "subslide"
    }
   },
   "source": [
    "- Usual contingency table test checks for association between the categories in the two sets (rather than specified probabilities)."
   ]
  },
  {
   "cell_type": "markdown",
   "id": "9264b25d",
   "metadata": {
    "slideshow": {
     "slide_type": "fragment"
    }
   },
   "source": [
    "- $H_0$ says row & column categories have no influence on each other (e.g., a blue-eyed person is no more likely to have brown vs blond hair than a brown-eyed person)"
   ]
  },
  {
   "cell_type": "markdown",
   "id": "13c1c6e5",
   "metadata": {
    "slideshow": {
     "slide_type": "fragment"
    }
   },
   "source": [
    "- Details are different depending on how you formulate the problem (which row/column totals are fixed), but all predict expected counts of $E_{ij}=r_ic_j/N$ and construct statistic\n",
    "$$\\sum_{i=1}^r\\sum_{j=1}^c \\frac{(O_{ij}-E_{ij})^2}{E_{ij}}\n",
    "  = \\sum_{i=1}^r\\sum_{j=1}^c \\frac{O_{ij}^2}{E_{ij}} - N$$\n",
    "which is approximately $\\chi^2([r-1][c-1])$ distributed if $H_0$ is true."
   ]
  },
  {
   "cell_type": "markdown",
   "id": "858618f3",
   "metadata": {
    "slideshow": {
     "slide_type": "slide"
    }
   },
   "source": [
    "### Example"
   ]
  },
  {
   "cell_type": "markdown",
   "id": "edf81d3e",
   "metadata": {
    "slideshow": {
     "slide_type": "subslide"
    }
   },
   "source": [
    "For instance, suppose we survey students majoring in four\n",
    "disciplines about their food choices:\n",
    "\n",
    "|               |  Vegan |  Vegetarian |  Non-Veg  | Total|\n",
    "|  -------------|------- |------------ |--------- |-------|\n",
    "|  Math & Stat  |    9   |      22     |    50   |    81|\n",
    "|  Physics      |    6   |      16     |    29    |   51|\n",
    "|  Chemistry    |   11   |      28     |    63   |    102|\n",
    "|  Biology      |   26   |      50     |    97   |   173|\n",
    "|  Total        |   52   |     116      |   239  |    407|\n",
    "\n",
    "Are there significant tendencies for\n",
    "students in one major to have one diet or another?"
   ]
  },
  {
   "cell_type": "markdown",
   "id": "66b5b604",
   "metadata": {
    "slideshow": {
     "slide_type": "fragment"
    }
   },
   "source": [
    "There are two ways to\n",
    "pose the question:\n",
    "\n",
    "Any difference in the tendencies of students in one major or\n",
    "another to have a vegan, vegetarian, or non-vegetarian diet?\n",
    "(homogeneity)\n",
    "\n",
    "Any correlation between the major chosen by a student and their\n",
    "dietary choices? (independence)"
   ]
  },
  {
   "cell_type": "markdown",
   "id": "fd5cf948",
   "metadata": {
    "slideshow": {
     "slide_type": "subslide"
    }
   },
   "source": [
    "Either way, we construct the same $\\chi^2$ statistic, starting from the observations $\\{O_{ij}\\}$ & row/column sums:"
   ]
  },
  {
   "cell_type": "code",
   "execution_count": 3,
   "id": "94a16fe0",
   "metadata": {
    "slideshow": {
     "slide_type": "fragment"
    }
   },
   "outputs": [
    {
     "data": {
      "text/plain": [
       "(array([ 81,  51, 102, 173]), array([ 52, 116, 239]), 407, 407, 407)"
      ]
     },
     "execution_count": 3,
     "metadata": {},
     "output_type": "execute_result"
    }
   ],
   "source": [
    "O_ij = np.array([[9, 22, 50], [6, 16, 29], [11, 28, 63], [26, 50, 97]])\n",
    "r_i = np.sum(O_ij,axis=1); c_j = np.sum(O_ij,axis=0); N = np.sum(O_ij); r_i, c_j, N, np.sum(r_i), np.sum(c_j)"
   ]
  },
  {
   "cell_type": "markdown",
   "id": "f745ec07",
   "metadata": {
    "slideshow": {
     "slide_type": "fragment"
    }
   },
   "source": [
    "The estimates according to the model are\n",
    "$\\frac{(81)(52)}{407}\\approx 10.35$, $\\frac{(81)(116)}{407}\\approx\n",
    "23.09$, etc.:"
   ]
  },
  {
   "cell_type": "code",
   "execution_count": 4,
   "id": "dbfb10f9",
   "metadata": {
    "slideshow": {
     "slide_type": "fragment"
    }
   },
   "outputs": [
    {
     "data": {
      "text/plain": [
       "array([[ 10.34889435,  23.08599509,  47.56511057],\n",
       "       [  6.51597052,  14.53562654,  29.94840295],\n",
       "       [ 13.03194103,  29.07125307,  59.8968059 ],\n",
       "       [ 22.1031941 ,  49.30712531, 101.58968059]])"
      ]
     },
     "execution_count": 4,
     "metadata": {},
     "output_type": "execute_result"
    }
   ],
   "source": [
    "E_ij = r_i[:,None] * c_j[None,:] / N; E_ij"
   ]
  },
  {
   "cell_type": "markdown",
   "id": "3d6837fc",
   "metadata": {
    "slideshow": {
     "slide_type": "fragment"
    }
   },
   "source": [
    "Note that $\\{E_{ij}\\}$ has the same row & column sums as $\\{O_{ij}\\}$:"
   ]
  },
  {
   "cell_type": "code",
   "execution_count": 5,
   "id": "9e2cdbf1",
   "metadata": {
    "slideshow": {
     "slide_type": "fragment"
    }
   },
   "outputs": [
    {
     "data": {
      "text/plain": [
       "(array([ 81.,  51., 102., 173.]), array([ 52., 116., 239.]), 407.0)"
      ]
     },
     "execution_count": 5,
     "metadata": {},
     "output_type": "execute_result"
    }
   ],
   "source": [
    "np.sum(E_ij,axis=1), np.sum(E_ij,axis=0), np.sum(E_ij)"
   ]
  },
  {
   "cell_type": "markdown",
   "id": "da22ba92",
   "metadata": {
    "slideshow": {
     "slide_type": "subslide"
    }
   },
   "source": [
    "The $\\chi^2$ statistic is $\\sum_{i=1}^r\\sum_{j=1}^c \\frac{(O_{ij}-E_{ij})^2}{E_{ij}}\n",
    "  = \\sum_{i=1}^r\\sum_{j=1}^c \\frac{O_{ij}^2}{E_{ij}} - N\\approx 1.99$:"
   ]
  },
  {
   "cell_type": "code",
   "execution_count": 6,
   "id": "7b4bb8f6",
   "metadata": {
    "slideshow": {
     "slide_type": "fragment"
    }
   },
   "outputs": [
    {
     "data": {
      "text/plain": [
       "(1.9911349995983592, 1.99113499959833)"
      ]
     },
     "execution_count": 6,
     "metadata": {},
     "output_type": "execute_result"
    }
   ],
   "source": [
    "w = np.sum((O_ij-E_ij)**2/E_ij); w, np.sum(O_ij**2/E_ij) - N"
   ]
  },
  {
   "cell_type": "markdown",
   "id": "0900a0e8",
   "metadata": {
    "slideshow": {
     "slide_type": "fragment"
    }
   },
   "source": [
    "This is on the low side for $(4-1)(3-1)=6$ degrees of freedom, so the $p$-value of $0.92$ tells us there's no evidence of correlation or dependence in the categories:"
   ]
  },
  {
   "cell_type": "code",
   "execution_count": 7,
   "id": "32cabc10",
   "metadata": {
    "slideshow": {
     "slide_type": "fragment"
    }
   },
   "outputs": [
    {
     "data": {
      "text/plain": [
       "(4, 3, 6, 0.9205121061730804)"
      ]
     },
     "execution_count": 7,
     "metadata": {},
     "output_type": "execute_result"
    }
   ],
   "source": [
    "r=len(r_i); c=len(c_j); r, c, (r-1)*(c-1), stats.chi2(df=(r-1)*(c-1)).sf(w)"
   ]
  },
  {
   "cell_type": "markdown",
   "id": "9f18053d",
   "metadata": {
    "slideshow": {
     "slide_type": "fragment"
    }
   },
   "source": [
    "There are fancier ways to do this with e.g., Pandas, but old-fashioned spreadsheets like gnumeric or Excel work well too..."
   ]
  },
  {
   "cell_type": "markdown",
   "id": "9cba8b17",
   "metadata": {
    "slideshow": {
     "slide_type": "slide"
    }
   },
   "source": [
    "## Test for Inhomogeneity"
   ]
  },
  {
   "cell_type": "markdown",
   "id": "ae731a43",
   "metadata": {
    "slideshow": {
     "slide_type": "fragment"
    }
   },
   "source": [
    "To see where the $\\chi^2$ test comes from (and what the null distribution is for small samples), consider what assumptions are being made."
   ]
  },
  {
   "cell_type": "markdown",
   "id": "f40fb2a0",
   "metadata": {
    "slideshow": {
     "slide_type": "fragment"
    }
   },
   "source": [
    "First, suppose the total number $r_i$ in each row is fixed.  I.e., we poll a given number of students from each major, and consider whether the distributions of diets are different."
   ]
  },
  {
   "cell_type": "markdown",
   "id": "1a4b14fb",
   "metadata": {
    "slideshow": {
     "slide_type": "fragment"
    }
   },
   "source": [
    "For each $i$, we have a\n",
    "    multinomial random vector\n",
    "    $\\{{\\color{royalblue}{O_{ij}}}|i=1,\\ldots,r;j=1,\\ldots,c\\}$, which\n",
    "    in general has probabilities\n",
    "    $\\{p^{(i)}_1,p^{(i)}_2,\\ldots,p^{(i)}_c\\}\\equiv\\{p^{(i)}_j\\}$. $H_0$ says $p^{(i)}_j=p_{\\bullet j}$ for all $i$."
   ]
  },
  {
   "cell_type": "markdown",
   "id": "b0573fae",
   "metadata": {
    "slideshow": {
     "slide_type": "subslide"
    }
   },
   "source": [
    "For each $i$, we have a\n",
    "    multinomial random vector\n",
    "    $\\{{\\color{royalblue}{O_{ij}}}|i=1,\\ldots,r;j=1,\\ldots,c\\}$, which\n",
    "    in general has probabilities\n",
    "    $\\{p^{(i)}_1,p^{(i)}_2,\\ldots,p^{(i)}_c\\}\\equiv\\{p^{(i)}_j\\}$. $H_0$ says $p^{(i)}_j=p_{\\bullet j}$ for all $i$."
   ]
  },
  {
   "cell_type": "markdown",
   "id": "30ea7420",
   "metadata": {
    "slideshow": {
     "slide_type": "fragment"
    }
   },
   "source": [
    "- Multinomial has expectation value $E({\\color{royalblue}{O_{ij}}})=r_i p^{(i)}_j$"
   ]
  },
  {
   "cell_type": "markdown",
   "id": "87721d88",
   "metadata": {
    "slideshow": {
     "slide_type": "fragment"
    }
   },
   "source": [
    "- Assuming homogeneity, estimate $p_{\\bullet j}$ as $\\hat{p}_{\\bullet j}=c_j/N$"
   ]
  },
  {
   "cell_type": "markdown",
   "id": "07460286",
   "metadata": {
    "slideshow": {
     "slide_type": "fragment"
    }
   },
   "source": [
    "- Estimated expected number is $\\hat{E}_{ij}=r_i \\hat{p}_{\\bullet j}=r_i c_j/N$; use that to make the $\\chi^2$."
   ]
  },
  {
   "cell_type": "markdown",
   "id": "6b50851c",
   "metadata": {
    "slideshow": {
     "slide_type": "fragment"
    }
   },
   "source": [
    "- We have $r$ multinomial random variables with $c$ categories each, which means we've observed $r(c-1)$ non-trivial numbers. We've estimated $c$ probabilities, but only $c-1$ of them were non-trivial because they had to add to $1$. Thus the number of degrees of freedom for the chi-squared should be $r(c-1) - (c-1) = (r-1)(c-1)$."
   ]
  },
  {
   "cell_type": "markdown",
   "id": "04f5fe41",
   "metadata": {
    "slideshow": {
     "slide_type": "fragment"
    }
   },
   "source": [
    "- Note that although the formalism treats the rows and columns rather differently, the final data analysis prescription treats them symmetrically."
   ]
  },
  {
   "cell_type": "markdown",
   "id": "8dada873",
   "metadata": {
    "slideshow": {
     "slide_type": "slide"
    }
   },
   "source": [
    "## Test for Dependence"
   ]
  },
  {
   "cell_type": "markdown",
   "id": "82f648a1",
   "metadata": {
    "slideshow": {
     "slide_type": "subslide"
    }
   },
   "source": [
    "Now suppose only the total number of observations $N$ is fixed, e.g., we've just picked 407 students at random and noted their major and diet."
   ]
  },
  {
   "cell_type": "markdown",
   "id": "d9dc3404",
   "metadata": {
    "slideshow": {
     "slide_type": "fragment"
    }
   },
   "source": [
    "- Row totals\n",
    "    $\\{{\\color{royalblue}{R_i}}\\}$ and column totals\n",
    "    $\\{{\\color{royalblue}{C_j}}\\}$ are random variables. In general,\n",
    "    $\\{{\\color{royalblue}{O_{ij}}}|i=1,\\ldots,r;j=1,\\ldots,c\\}$ are a\n",
    "    multinomial random vector with probabilities $\\{p_{ij}\\}$, $\\sum_{i=1}^r\\sum_{j=1}^c p_{ij}=1$, so $E\\left(\\color{royalblue}{O_{ij}}\\right) = N p_{ij}$"
   ]
  },
  {
   "cell_type": "markdown",
   "id": "c41e9bfb",
   "metadata": {
    "slideshow": {
     "slide_type": "fragment"
    }
   },
   "source": [
    "- $H_0$ (independence) says $p_{ij}=p_{i\\bullet}p_{\\bullet j}$ for some\n",
    "    $\\{p_{i\\bullet}|i=1,\\ldots,r\\}$ with $\\sum_{i=1}^r p_{i\\bullet}=1$\n",
    "    and some $\\{p_{\\bullet j}|i=1,\\ldots,c\\}$ with\n",
    "    $\\sum_{j=1}^c p_{\\bullet j}=1$."
   ]
  },
  {
   "cell_type": "markdown",
   "id": "a9c89e10",
   "metadata": {
    "slideshow": {
     "slide_type": "fragment"
    }
   },
   "source": [
    "- Estimate $\\hat{p}_{i\\bullet}=r_i/N$ & $\\hat{p}_{\\bullet j}=c_i/N$ so $\\hat{E}_{ij} = N\\frac{r_i}{N}\\frac{c_j}{N}$ as before."
   ]
  },
  {
   "cell_type": "markdown",
   "id": "05d4fc2c",
   "metadata": {
    "slideshow": {
     "slide_type": "fragment"
    }
   },
   "source": [
    "- Since multinomial w/$rc$ categories, so $rc-1$ independent observations.  Estimated $r$ probs $\\{\\hat{p}_{i\\bullet}\\}$, $r-1$ independent & $c$ probs $\\{\\hat{p}_{\\bullet j}\\}$, $c-1$ independent, so $\\sum_{i=1}^r\\sum_{j=1}^c \\frac{(O_{ij}-E_{ij})^2}{E_{ij}}$ is a $\\chi^2$ w/$rc-1-(r-1)-(c-1)=rc-r-c+1=(r-1)(c-1)$ dof, same as before."
   ]
  },
  {
   "cell_type": "markdown",
   "id": "15236ee9",
   "metadata": {
    "slideshow": {
     "slide_type": "slide"
    }
   },
   "source": [
    "### Other Tests"
   ]
  },
  {
   "cell_type": "markdown",
   "id": "e30b8ca3",
   "metadata": {
    "slideshow": {
     "slide_type": "fragment"
    }
   },
   "source": [
    "Finally, could assume the row numbers $\\{r_i\\}$ & column numbers $\\{c_j\\}$ are fixed. The distribution of $\\{{\\color{royalblue}{O_{ij}}}\\}$ is then just combinatorics: arrange the $N$ observations into rows and columns, respecting the marginal totals.  We'll consider this in the next lesson, but for large numbers, it's the same chi-squared as the other cases."
   ]
  },
  {
   "cell_type": "markdown",
   "id": "b47b2d88",
   "metadata": {
    "slideshow": {
     "slide_type": "fragment"
    }
   },
   "source": [
    "Note, although these assumptions all give the same chi-squared test, the exact distributions for the statistics will be different when the numbers are smaller, as you'll examine on the homework."
   ]
  },
  {
   "cell_type": "markdown",
   "id": "a23ef440",
   "metadata": {
    "slideshow": {
     "slide_type": "subslide"
    }
   },
   "source": [
    "In each case we’ll have a null expectation value $E_{ij}$ for the number\n",
    "of observations in row $i$ and column $j$, and we’ll define a\n",
    "chi-squared statistic\n",
    "$$\\sum_{i=1}^r\\sum_{j=1}^c \\frac{(O_{ij}-E_{ij})^2}{E_{ij}}\n",
    "  = \\sum_{i=1}^r\\sum_{j=1}^c \\frac{O_{ij}^2}{E_{ij}} - N$$ It will turn\n",
    "out that for each of the assumptions about the null distribution,\n",
    "$E_{ij}=r_ic_j/N$, and, under the null hypothesis and the normal\n",
    "approximation, the statistic will be chi-squared distributed with\n",
    "$(r-1)(c-1)$ degrees of freedom. For small samples, however, the details\n",
    "of the null distribution will depend on the assumptions made about the\n",
    "experimental setup."
   ]
  },
  {
   "cell_type": "markdown",
   "id": "c5c79af6",
   "metadata": {
    "slideshow": {
     "slide_type": "slide"
    }
   },
   "source": [
    "## Projects"
   ]
  },
  {
   "cell_type": "markdown",
   "id": "0e90a8bd",
   "metadata": {
    "slideshow": {
     "slide_type": "fragment"
    }
   },
   "source": [
    "- In the next few weeks you'll carry out and present a project."
   ]
  },
  {
   "cell_type": "markdown",
   "id": "619038d1",
   "metadata": {
    "slideshow": {
     "slide_type": "fragment"
    }
   },
   "source": [
    "- The project should consist of\n",
    "either investigation and presentation of a nonparametric statistical\n",
    "method not covered this semester, or an in-depth numerical evaluation of\n",
    "an analysis or comparison of analyses which we *have* covered."
   ]
  },
  {
   "cell_type": "markdown",
   "id": "8158e811",
   "metadata": {
    "slideshow": {
     "slide_type": "fragment"
    }
   },
   "source": [
    "- By 8am **Monday** April 14 you'll submit a proposal.  I'll select four of these, and assign each to groups of 2 or 3 of you.  You'll submit written reports with the last two homeworks, and give presentations during the final two classes."
   ]
  }
 ],
 "metadata": {
  "celltoolbar": "Slideshow",
  "kernelspec": {
   "display_name": "Python 3 (ipykernel)",
   "language": "python",
   "name": "python3"
  },
  "language_info": {
   "codemirror_mode": {
    "name": "ipython",
    "version": 3
   },
   "file_extension": ".py",
   "mimetype": "text/x-python",
   "name": "python",
   "nbconvert_exporter": "python",
   "pygments_lexer": "ipython3",
   "version": "3.9.7"
  }
 },
 "nbformat": 4,
 "nbformat_minor": 5
}
