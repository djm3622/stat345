{
 "cells": [
  {
   "cell_type": "markdown",
   "id": "885e523b",
   "metadata": {
    "slideshow": {
     "slide_type": "slide"
    }
   },
   "source": [
    "# STAT 345: Nonparametric Statistics\n",
    "\n",
    "## Lesson 02.1: Hypothesis Testing\n",
    "\n",
    "**Reading: Conover Sections 2.3-2.5**\n",
    "\n",
    "*Prof. John T. Whelan*\n",
    "\n",
    "Thursday 23 January 2025"
   ]
  },
  {
   "cell_type": "markdown",
   "id": "41a77723",
   "metadata": {
    "slideshow": {
     "slide_type": "slide"
    }
   },
   "source": [
    "These lecture slides are in a computational notebook.  You have access to them through http://vmware.rit.edu/"
   ]
  },
  {
   "cell_type": "markdown",
   "id": "924c0812",
   "metadata": {
    "slideshow": {
     "slide_type": "fragment"
    }
   },
   "source": [
    "Flat HTML and slideshow versions are also in MyCourses."
   ]
  },
  {
   "cell_type": "markdown",
   "id": "16fdb653",
   "metadata": {
    "slideshow": {
     "slide_type": "fragment"
    }
   },
   "source": [
    "The notebook can run Python commands (other notebooks can use R or Julia; \"Ju-Pyt-R\").  Think: computational data analysis, not \"coding\"."
   ]
  },
  {
   "cell_type": "markdown",
   "id": "9c47938b",
   "metadata": {
    "slideshow": {
     "slide_type": "fragment"
    }
   },
   "source": [
    "Standard commands to activate inline interface and import libraries:"
   ]
  },
  {
   "cell_type": "code",
   "execution_count": 1,
   "id": "457fc143",
   "metadata": {
    "slideshow": {
     "slide_type": "fragment"
    }
   },
   "outputs": [],
   "source": [
    "%matplotlib inline"
   ]
  },
  {
   "cell_type": "code",
   "execution_count": 2,
   "id": "7f6ebfa5",
   "metadata": {
    "slideshow": {
     "slide_type": "fragment"
    }
   },
   "outputs": [],
   "source": [
    "import numpy as np\n",
    "from scipy import stats\n",
    "import matplotlib.pyplot as plt\n",
    "plt.rcParams['figure.figsize'] = (8.0,5.0)\n",
    "plt.rcParams['font.size'] = 14"
   ]
  },
  {
   "cell_type": "markdown",
   "id": "4ecc8222",
   "metadata": {
    "slideshow": {
     "slide_type": "subslide"
    }
   },
   "source": [
    "- Last time: confidence intervals (parameter estimation)"
   ]
  },
  {
   "cell_type": "markdown",
   "id": "2c24fc55",
   "metadata": {
    "slideshow": {
     "slide_type": "fragment"
    }
   },
   "source": [
    "- Today: **hypothesis testing**. Given a set of data ${{\\mathbf{x}}}\\equiv x_1,\\ldots,x_n\\equiv\\{x_i\\}$, wish to distinguish between competing statements about probability distribution $f({{\\mathbf{x}}})$ describing the random vector ${{\\mathbf{{\\color{royalblue}{X}}}}}$ of which ${{\\mathbf{x}}}$ is supposed to be an instance."
   ]
  },
  {
   "cell_type": "markdown",
   "id": "6761d5b9",
   "metadata": {
    "slideshow": {
     "slide_type": "fragment"
    }
   },
   "source": [
    "- We call them the **null hypothesis** $H_0$ and the **alternative hypothesis** $H_1$."
   ]
  },
  {
   "cell_type": "markdown",
   "id": "7e6c777d",
   "metadata": {
    "slideshow": {
     "slide_type": "fragment"
    }
   },
   "source": [
    "- In a Bayesian approach, would make a comparison between posterior probabilities $P(H_0|{{\\mathbf{x}}})$ and $P(H_1|{{\\mathbf{x}}})$, but in classical statistics, have to make an indirect statment involving possible probability distributions for ${{\\mathbf{{\\color{royalblue}{X}}}}}$."
   ]
  },
  {
   "cell_type": "markdown",
   "id": "e9fe0ec1",
   "metadata": {
    "slideshow": {
     "slide_type": "subslide"
    }
   },
   "source": [
    "- Classical hypothesis testing treats the two hypotheses differently. The null hypothesis $H_0$ describes absence of some effect which is present in $H_1$."
   ]
  },
  {
   "cell_type": "markdown",
   "id": "74fb86e7",
   "metadata": {
    "slideshow": {
     "slide_type": "fragment"
    }
   },
   "source": [
    "- Hypothesis test: rule for choosing between hypotheses given observed data ${{\\mathbf{x}}}$, but not as simple as “pick $H_0$” or “pick $H_1$”. The two possibilities are:\n",
    "1.  Reject $H_0$ (in favor of $H_1$).\n",
    "2.  Don’t reject $H_0$."
   ]
  },
  {
   "cell_type": "markdown",
   "id": "c2f6c356",
   "metadata": {
    "slideshow": {
     "slide_type": "fragment"
    }
   },
   "source": [
    "- At no point do we actually *accept* either hypothesis. Negative test result doesn’t mean we rule out the effect described by $H_1$; sometimes the data just don’t contain enough information to see it."
   ]
  },
  {
   "cell_type": "markdown",
   "id": "c0d6c5d1",
   "metadata": {
    "slideshow": {
     "slide_type": "fragment"
    }
   },
   "source": [
    "- Terminology: $n$-dimensional “sample space” w/coordinates $(x_1,\\ldots,x_n)$).  The set of points for which the test says to reject $H_0$ is known as the **critical region** or **rejection region**."
   ]
  },
  {
   "cell_type": "markdown",
   "id": "22e9ef50",
   "metadata": {
    "slideshow": {
     "slide_type": "subslide"
    }
   },
   "source": [
    "- Concrete example: sample of size $n$ drawn from some distribution w/mean $\\mu$ and variance $\\sigma$."
   ]
  },
  {
   "cell_type": "markdown",
   "id": "7e765929",
   "metadata": {
    "slideshow": {
     "slide_type": "fragment"
    }
   },
   "source": [
    "- Let $H_0$ specify that $\\mu=0$ and $H_1$ that $\\mu>0$."
   ]
  },
  {
   "cell_type": "markdown",
   "id": "4061e164",
   "metadata": {
    "slideshow": {
     "slide_type": "fragment"
    }
   },
   "source": [
    "- We define a test that rejects $H_0$ if\n",
    "$$z = \\frac{{{\\overline{x}}}}{\\sigma/\\sqrt{n}} > 1.645$$ (where\n",
    "${{\\overline{x}}}$ is the sample mean of the data and we assume both\n",
    "hypotheses specify the value $\\sigma$ of the population standard\n",
    "deviation) and fails to reject if $z\\le 1.645$."
   ]
  },
  {
   "cell_type": "markdown",
   "id": "6d0cc9ee",
   "metadata": {
    "slideshow": {
     "slide_type": "fragment"
    }
   },
   "source": [
    "- The value $z$ is a realization of the random variable\n",
    "$${\\color{royalblue}{Z}} = \\frac{{\\color{royalblue}{{{\\overline{X}}}}}}{\\sigma/\\sqrt{n}}$$\n",
    "which is known as a **test statistic**."
   ]
  },
  {
   "cell_type": "markdown",
   "id": "185d70f3",
   "metadata": {
    "slideshow": {
     "slide_type": "slide"
    }
   },
   "source": [
    "### Significance"
   ]
  },
  {
   "cell_type": "markdown",
   "id": "36b5c825",
   "metadata": {
    "slideshow": {
     "slide_type": "subslide"
    }
   },
   "source": [
    "- If there were no uncertainty or randomness, you could define a \"perfect\" hypothsis test;  If $H_1$ were true, the test would reject $H_0$, and if $H_0$ were true, the test would not reject it."
   ]
  },
  {
   "cell_type": "markdown",
   "id": "bc7871e7",
   "metadata": {
    "slideshow": {
     "slide_type": "fragment"
    }
   },
   "source": [
    "- Instead, there's a chance the test will give the \"wrong\" answer.\n",
    "  * Rejecting $H_0$ if it’s true is a **Type I Error** or false alarm.\n",
    "  * Not rejecting $H_0$ if $H_1$ is true is known as a **Type II Error** or a false dismissal."
   ]
  },
  {
   "cell_type": "markdown",
   "id": "4750b3e6",
   "metadata": {
    "slideshow": {
     "slide_type": "fragment"
    }
   },
   "source": [
    "- Probability of a Type I error is $\\alpha$, known as the **significance** of the test."
   ]
  },
  {
   "cell_type": "markdown",
   "id": "5c62a004",
   "metadata": {
    "slideshow": {
     "slide_type": "fragment"
    }
   },
   "source": [
    "- If $H_0$ uniquely determines a sampling distribution $f({{\\mathbf{x}}}|H_0)$, we call $H_0$ a **point hypothesis**, and $\\alpha$ is the probability the data will end up in the critical region, assuming $H_0$ is true."
   ]
  },
  {
   "cell_type": "markdown",
   "id": "55f9c163",
   "metadata": {
    "slideshow": {
     "slide_type": "subslide"
    }
   },
   "source": [
    "For example, go back to the test which rejects $H_0$: $\\mu=0$ if $z = \\frac{{{\\overline{x}}}}{\\sigma/\\sqrt{n}} > 1.645$."
   ]
  },
  {
   "cell_type": "markdown",
   "id": "fa2bcb97",
   "metadata": {
    "slideshow": {
     "slide_type": "fragment"
    }
   },
   "source": [
    "- If $n$ is large, the Central Limit Theorem says test statistic ${\\color{royalblue}{Z}}$ is a standard normal, so\n",
    "$$\\alpha = P({\\color{royalblue}{Z}}>1.645|\\mu{\\mathbin{=}}0)\n",
    "  \\approx P({\\color{royalblue}{Z}}>z_{.95}|\\mu{\\mathbin{=}}0) \\approx 0.05$$"
   ]
  },
  {
   "cell_type": "markdown",
   "id": "940e8192",
   "metadata": {
    "slideshow": {
     "slide_type": "fragment"
    }
   },
   "source": [
    "- We say that the test has significance $\\alpha=5\\%$."
   ]
  },
  {
   "cell_type": "markdown",
   "id": "3132105d",
   "metadata": {
    "slideshow": {
     "slide_type": "fragment"
    }
   },
   "source": [
    "- The name \"significance\" is somewhat confusing, since since rejecting $H_0$ with test with a smaller $\\alpha$ level, would actually be a *more* significant result.)"
   ]
  },
  {
   "cell_type": "markdown",
   "id": "56e0117e",
   "metadata": {
    "slideshow": {
     "slide_type": "fragment"
    }
   },
   "source": [
    "- If $H_0$ doesn't completely specify a sampling distribution (e.g., if we had chosen $\\mu\\le 0$ rather than $\\mu=0$) it's called a **composite hypothesis**, and $\\alpha$ is defined to be the maximum of all the false alarm probabilities associated with the different distributions allowed by $H_0$. (In this case that would turn out to be when $\\mu=0$ anyway, so the significance would still be $5\\%$.)"
   ]
  },
  {
   "cell_type": "markdown",
   "id": "bb0c1a1a",
   "metadata": {
    "slideshow": {
     "slide_type": "subslide"
    }
   },
   "source": [
    "Can use a Monte Carlo simulation to illustrate/check the significance of the test we've just defined."
   ]
  },
  {
   "cell_type": "markdown",
   "id": "70a315d2",
   "metadata": {
    "slideshow": {
     "slide_type": "fragment"
    }
   },
   "source": [
    "In principle, our test is supposed to work for any sampling distribution, but we'll use a normal distribution for convenience:"
   ]
  },
  {
   "cell_type": "code",
   "execution_count": 3,
   "id": "39c890a8",
   "metadata": {
    "slideshow": {
     "slide_type": "fragment"
    }
   },
   "outputs": [
    {
     "name": "stdout",
     "output_type": "stream",
     "text": [
      "Null distribution has mu=0 and sigma=5\n"
     ]
    }
   ],
   "source": [
    "nulldist = stats.norm(scale=5)\n",
    "sigma = nulldist.std()\n",
    "print('Null distribution has mu=%g and sigma=%g' % (nulldist.mean(),sigma))"
   ]
  },
  {
   "cell_type": "markdown",
   "id": "f4965076",
   "metadata": {
    "slideshow": {
     "slide_type": "fragment"
    }
   },
   "source": [
    "We'll generate $N=1000$ samples of size $n=50$, and call them $\\{x_i^{(I)}\\}$:"
   ]
  },
  {
   "cell_type": "code",
   "execution_count": 4,
   "id": "bfaae1a4",
   "metadata": {
    "slideshow": {
     "slide_type": "fragment"
    }
   },
   "outputs": [],
   "source": [
    "n = 50\n",
    "Nmonte = 1000\n",
    "np.random.seed(20250123)\n",
    "x_Ii = nulldist.rvs(size=(Nmonte,n))"
   ]
  },
  {
   "cell_type": "markdown",
   "id": "15286bcf",
   "metadata": {
    "slideshow": {
     "slide_type": "subslide"
    }
   },
   "source": [
    "As we did when constructing confidence intervals, we take the mean of each sample, $\\overline{x}^{(I)}=\\frac{1}{n}\\sum_{i=1}^n x_i^{(I)}$, and also construct the test statistic $z^{(I)}=\\frac{\\overline{x}^{(I)}}{\\sigma/\\sqrt{n}}$:"
   ]
  },
  {
   "cell_type": "code",
   "execution_count": 5,
   "id": "8a1c19fe",
   "metadata": {
    "slideshow": {
     "slide_type": "fragment"
    }
   },
   "outputs": [
    {
     "data": {
      "text/plain": [
       "((1000,),\n",
       " array([-0.34732274,  0.88875124, -0.14278525, -0.07735406,  1.32079567,\n",
       "        -0.73620115,  0.2837537 ,  0.47252245,  0.50647781,  0.22193611]))"
      ]
     },
     "execution_count": 5,
     "metadata": {},
     "output_type": "execute_result"
    }
   ],
   "source": [
    "xbar_I = np.mean(x_Ii,axis=-1); xbar_I.shape, xbar_I[:10]"
   ]
  },
  {
   "cell_type": "code",
   "execution_count": 6,
   "id": "bba3e799",
   "metadata": {
    "slideshow": {
     "slide_type": "fragment"
    }
   },
   "outputs": [
    {
     "data": {
      "text/plain": [
       "((1000,),\n",
       " array([-0.49118852,  1.25688406, -0.20192884, -0.10939515,  1.86788714,\n",
       "        -1.04114565,  0.40128833,  0.66824766,  0.71626778,  0.31386506]))"
      ]
     },
     "execution_count": 6,
     "metadata": {},
     "output_type": "execute_result"
    }
   ],
   "source": [
    "z_I = xbar_I/(sigma/np.sqrt(n)); z_I.shape, z_I[:10]"
   ]
  },
  {
   "cell_type": "markdown",
   "id": "e1a79dc5",
   "metadata": {
    "slideshow": {
     "slide_type": "fragment"
    }
   },
   "source": [
    "We can count how many of the 1000 $z^{(I)}$ are above the threshold of $1.645$ with a Boolean array:"
   ]
  },
  {
   "cell_type": "code",
   "execution_count": 7,
   "id": "2372f930",
   "metadata": {
    "slideshow": {
     "slide_type": "fragment"
    }
   },
   "outputs": [
    {
     "data": {
      "text/plain": [
       "array([False, False, False, False,  True, False, False, False, False,\n",
       "       False])"
      ]
     },
     "execution_count": 7,
     "metadata": {},
     "output_type": "execute_result"
    }
   ],
   "source": [
    "reject_I = z_I>1.645; reject_I[:10]"
   ]
  },
  {
   "cell_type": "code",
   "execution_count": 8,
   "id": "1fe1bca8",
   "metadata": {
    "slideshow": {
     "slide_type": "subslide"
    }
   },
   "outputs": [
    {
     "data": {
      "text/plain": [
       "array([False, False, False, False,  True, False, False, False, False,\n",
       "       False])"
      ]
     },
     "execution_count": 8,
     "metadata": {},
     "output_type": "execute_result"
    }
   ],
   "source": [
    "reject_I = z_I>1.645; reject_I[:10]"
   ]
  },
  {
   "cell_type": "code",
   "execution_count": 9,
   "id": "18e1321f",
   "metadata": {
    "slideshow": {
     "slide_type": "fragment"
    }
   },
   "outputs": [
    {
     "name": "stdout",
     "output_type": "stream",
     "text": [
      "Simulating with H_0 (mu=0), we reject H_0 57 times out of 1000, or 0.057 of the time\n"
     ]
    }
   ],
   "source": [
    "print('Simulating with H_0 (mu=0), we reject H_0 %d times out of %d, or %g of the time'\n",
    "      % (np.sum(reject_I),Nmonte,np.mean(reject_I)))"
   ]
  },
  {
   "cell_type": "markdown",
   "id": "3d948cb5",
   "metadata": {
    "slideshow": {
     "slide_type": "fragment"
    }
   },
   "source": [
    "You can go back and try it again with a different random number seed, or some other distribution.  As long as the mean is zero and the standard deviation is finite, it should still give you about 5\\% significance."
   ]
  },
  {
   "cell_type": "markdown",
   "id": "e00fc736",
   "metadata": {
    "slideshow": {
     "slide_type": "slide"
    }
   },
   "source": [
    "### Power of a Test"
   ]
  },
  {
   "cell_type": "markdown",
   "id": "5a885da5",
   "metadata": {
    "slideshow": {
     "slide_type": "fragment"
    }
   },
   "source": [
    "- Probability of type II error (false dismissal, failing to reject $H_0$ when $H_1$ is true) is written $\\beta$. "
   ]
  },
  {
   "cell_type": "markdown",
   "id": "497fed37",
   "metadata": {
    "slideshow": {
     "slide_type": "fragment"
    }
   },
   "source": [
    "- Probability of *rejecting* $H_0$ when $H_1$ is true is called the **power** of the test, $\\gamma=1-\\beta$."
   ]
  },
  {
   "cell_type": "markdown",
   "id": "c1e68825",
   "metadata": {
    "slideshow": {
     "slide_type": "fragment"
    }
   },
   "source": [
    "- Since the alternative hypothesis $H_1$ is often a composite hypothesis, the power of a test can depend on the value of any parameters that are not completely specified by $H_1$."
   ]
  },
  {
   "cell_type": "markdown",
   "id": "bf87198d",
   "metadata": {
    "slideshow": {
     "slide_type": "fragment"
    }
   },
   "source": [
    "- We can talk about a **power curve** $\\gamma(\\theta)$ where $\\theta$ is the parameter in question."
   ]
  },
  {
   "cell_type": "markdown",
   "id": "2fa63c7e",
   "metadata": {
    "slideshow": {
     "slide_type": "subslide"
    }
   },
   "source": [
    "- Recall the test which rejects $H_0$: $\\mu=0$ if $z = \\frac{{{\\overline{x}}}}{\\sigma/\\sqrt{n}} > 1.645$."
   ]
  },
  {
   "cell_type": "markdown",
   "id": "b3ed9614",
   "metadata": {
    "slideshow": {
     "slide_type": "fragment"
    }
   },
   "source": [
    "- What happens under $H_1$: $\\mu>0$? Central Limit Theorem tells us\n",
    "$$\\frac{{\\color{royalblue}{{{\\overline{X}}}}}-\\mu}{\\sigma/\\sqrt{n}}=\\frac{{\\color{royalblue}{{{\\overline{X}}}}}}{\\sigma/\\sqrt{n}}-\\frac{\\mu}{\\sigma/\\sqrt{n}}  = {\\color{royalblue}{Z}} - \\frac{\\mu}{\\sigma/\\sqrt{n}}$$\n",
    "is standard-normal distributed whatever the value of $\\mu$."
   ]
  },
  {
   "cell_type": "markdown",
   "id": "b9f4cde1",
   "metadata": {
    "slideshow": {
     "slide_type": "fragment"
    }
   },
   "source": [
    "- This means ${\\color{royalblue}{Z}}$ is normally distributed with unit variance ($V({\\color{royalblue}{Z}})=1$) but\n",
    "nonzero mean $$E({\\color{royalblue}{Z}}) = \\frac{\\mu}{\\sigma/\\sqrt{n}}$$"
   ]
  },
  {
   "cell_type": "markdown",
   "id": "f1ebfba4",
   "metadata": {
    "slideshow": {
     "slide_type": "fragment"
    }
   },
   "source": [
    "- So the power curve is\n",
    "$$\\gamma(\\mu) = P({\\color{royalblue}{Z}}>1.645|\\mu)\n",
    "  = 1-\\Phi\\left(1.645-\\frac{\\mu}{\\sigma/\\sqrt{n}}\\right)$$"
   ]
  },
  {
   "cell_type": "markdown",
   "id": "de960a61",
   "metadata": {
    "slideshow": {
     "slide_type": "subslide"
    }
   },
   "source": [
    "We can plot $\\gamma(\\mu) = 1-\\Phi\\left(1.645-\\frac{\\mu}{\\sigma/\\sqrt{n}}\\right)$ as a function of the \"scaled $\\mu$\" i.e., $\\frac{\\mu}{\\sigma/\\sqrt{n}}$"
   ]
  },
  {
   "cell_type": "code",
   "execution_count": 10,
   "id": "42c1cd01",
   "metadata": {
    "slideshow": {
     "slide_type": "fragment"
    }
   },
   "outputs": [
    {
     "data": {
      "image/png": "[encoded data removed]",
      "text/plain": [
       "<Figure size 800x500 with 1 Axes>"
      ]
     },
     "metadata": {},
     "output_type": "display_data"
    }
   ],
   "source": [
    "muscaled_m = np.linspace(0,5,501)\n",
    "gamma_m = stats.norm.sf(1.645-muscaled_m)\n",
    "plt.plot(muscaled_m,gamma_m)\n",
    "plt.xlabel(r'$\\frac{\\mu}{\\sigma/\\sqrt{n}}$'); plt.ylabel(r'$\\gamma(\\mu)$');\n",
    "plt.title(r'Power for one-sided $z$ test with $\\alpha=0.05$');  plt.xlim(0,5); plt.ylim(0,1); plt.grid(True);"
   ]
  },
  {
   "cell_type": "code",
   "execution_count": 11,
   "id": "661efb4a",
   "metadata": {
    "slideshow": {
     "slide_type": "subslide"
    }
   },
   "outputs": [
    {
     "data": {
      "image/png": "[encoded data removed]",
      "text/plain": [
       "<Figure size 800x500 with 1 Axes>"
      ]
     },
     "metadata": {},
     "output_type": "display_data"
    }
   ],
   "source": [
    "plt.plot(muscaled_m,gamma_m); plt.axhline(0.05,color='C3',ls='--');\n",
    "plt.xlabel(r'$\\frac{\\mu}{\\sigma/\\sqrt{n}}$'); plt.ylabel(r'$\\gamma(\\mu)$');\n",
    "plt.title(r'Power for one-sided $z$ test with $\\alpha=0.05$');  plt.xlim(0,5); plt.ylim(0,1); plt.grid(True);"
   ]
  },
  {
   "cell_type": "markdown",
   "id": "7c816f25",
   "metadata": {
    "slideshow": {
     "slide_type": "fragment"
    }
   },
   "source": [
    "- Note $\\gamma(0)=0.05=\\alpha$.  Also, $\\gamma(\\mu)>\\alpha$ for all $\\mu>0$.  Generally desirable (test more likely to reject $H_0$ when it’s false than when it’s true). In general, an **unbiased test** is one for which $\\gamma\\ge\\alpha$ for all possible point hypotheses contained within $H_1$."
   ]
  },
  {
   "cell_type": "markdown",
   "id": "94b0f7e3",
   "metadata": {
    "slideshow": {
     "slide_type": "subslide"
    }
   },
   "source": [
    "We can also estimate this numerically using Monte Carlo methods.  For instance, if we generate data from some distribution with a non-zero $\\mu$, we can run the hypothesis test on each of the samples:"
   ]
  },
  {
   "cell_type": "code",
   "execution_count": 12,
   "id": "940e2163",
   "metadata": {
    "slideshow": {
     "slide_type": "fragment"
    }
   },
   "outputs": [
    {
     "name": "stdout",
     "output_type": "stream",
     "text": [
      "Simulating with H_1 (mu=1.41421), we reject H_0 635 times out of 1000, or 0.635 of the time\n",
      "compared to a theoretical value of 0.638705\n"
     ]
    }
   ],
   "source": [
    "mu1scaled = 2.\n",
    "mu1 = mu1scaled * sigma / np.sqrt(n)\n",
    "x1_Ii = stats.norm(loc=mu1,scale=sigma).rvs(size=(Nmonte,n))\n",
    "x1bar_I = np.mean(x1_Ii,axis=-1)\n",
    "z1_I = x1bar_I/(sigma/np.sqrt(n))\n",
    "print('Simulating with H_1 (mu=%g), we reject H_0 %d times out of %d, or %g of the time'\n",
    "      % (mu1,np.sum(z1_I>1.645),Nmonte,np.mean(z1_I>1.645)))\n",
    "print('compared to a theoretical value of %g' % stats.norm.sf(1.645-mu1scaled))"
   ]
  },
  {
   "cell_type": "markdown",
   "id": "64348b33",
   "metadata": {
    "slideshow": {
     "slide_type": "subslide"
    }
   },
   "source": [
    "- To plot a power curve, we should repeat this (construct N=1000 $z^{(I)}$s from samples of $n=50$ points each from $N(\\mu,\\sigma^2)$ for each of our 501 $\\mu$ values."
   ]
  },
  {
   "cell_type": "markdown",
   "id": "3041d0dd",
   "metadata": {
    "slideshow": {
     "slide_type": "fragment"
    }
   },
   "source": [
    "- But $\\mu$ is a location parameter, so adding $\\mu$ to $\\{x^{(I)}_i\\}$ drawn from $N(0,\\sigma^2)$ is as good as drawing from $N(\\mu,\\sigma^2)$ directly."
   ]
  },
  {
   "cell_type": "markdown",
   "id": "665427eb",
   "metadata": {
    "slideshow": {
     "slide_type": "fragment"
    }
   },
   "source": [
    "- Even better, the sample mean is linear, so\n",
    "$$\n",
    "\\frac{1}{n}\\sum_{i=1}^n \\left(x^{(I)}_i + \\mu\\right) = \\left(\\frac{1}{n}\\sum_{i=1}^n x^{(I)}_i\\right) + \\mu\n",
    "= \\overline{x}^{(I)} + \\mu\n",
    "$$\n",
    "and we can just add each of the 501 $\\mu$s to each of the 1000 $\\overline{x}^{(I)}$s generated w/$N(0,\\sigma^2)$."
   ]
  },
  {
   "cell_type": "code",
   "execution_count": 13,
   "id": "f89445c9",
   "metadata": {
    "slideshow": {
     "slide_type": "fragment"
    }
   },
   "outputs": [],
   "source": [
    "mu_m = muscaled_m * sigma / np.sqrt(n)\n",
    "x1bar_mI = xbar_I[None,:] + mu_m[:,None]\n",
    "z1_mI = x1bar_mI / (sigma/np.sqrt(n))\n",
    "gammaMC_m = np.mean(z1_mI > 1.645, axis=-1)"
   ]
  },
  {
   "cell_type": "markdown",
   "id": "bdabffeb",
   "metadata": {
    "slideshow": {
     "slide_type": "subslide"
    }
   },
   "source": [
    "Array broadcasting magic: we can promote a 1000-element vector to a $1\\times1000$ array"
   ]
  },
  {
   "cell_type": "code",
   "execution_count": 14,
   "id": "e14bc01e",
   "metadata": {
    "slideshow": {
     "slide_type": "fragment"
    }
   },
   "outputs": [
    {
     "data": {
      "text/plain": [
       "((1000,), (1, 1000))"
      ]
     },
     "execution_count": 14,
     "metadata": {},
     "output_type": "execute_result"
    }
   ],
   "source": [
    "x1bar_I.shape, xbar_I[None,:].shape"
   ]
  },
  {
   "cell_type": "markdown",
   "id": "f9f6cd39",
   "metadata": {
    "slideshow": {
     "slide_type": "fragment"
    }
   },
   "source": [
    "And a 501-element vector to a $501\\times1$ array"
   ]
  },
  {
   "cell_type": "code",
   "execution_count": 15,
   "id": "543c0d7c",
   "metadata": {
    "slideshow": {
     "slide_type": "fragment"
    }
   },
   "outputs": [
    {
     "data": {
      "text/plain": [
       "((501,), (501, 1))"
      ]
     },
     "execution_count": 15,
     "metadata": {},
     "output_type": "execute_result"
    }
   ],
   "source": [
    "mu_m.shape, mu_m[:,None].shape"
   ]
  },
  {
   "cell_type": "markdown",
   "id": "59c73891",
   "metadata": {
    "slideshow": {
     "slide_type": "fragment"
    }
   },
   "source": [
    "So that when we add them, we get a $501\\times 1000$ array of simulated $\\overline{x}^{(I)}$ values, 1000 of them for each of the 501 $\\mu$ values to be plotted:"
   ]
  },
  {
   "cell_type": "code",
   "execution_count": 16,
   "id": "cd9c28e1",
   "metadata": {
    "slideshow": {
     "slide_type": "fragment"
    }
   },
   "outputs": [
    {
     "data": {
      "text/plain": [
       "((501, 1000), (501, 1000))"
      ]
     },
     "execution_count": 16,
     "metadata": {},
     "output_type": "execute_result"
    }
   ],
   "source": [
    "(xbar_I[None,:] + mu_m[:,None]).shape, x1bar_mI.shape"
   ]
  },
  {
   "cell_type": "code",
   "execution_count": 17,
   "id": "06ef64fa",
   "metadata": {
    "slideshow": {
     "slide_type": "fragment"
    }
   },
   "outputs": [
    {
     "data": {
      "text/plain": [
       "((501,), (501,))"
      ]
     },
     "execution_count": 17,
     "metadata": {},
     "output_type": "execute_result"
    }
   ],
   "source": [
    "np.mean(z1_mI > 1.645, axis=-1).shape, gammaMC_m.shape"
   ]
  },
  {
   "cell_type": "code",
   "execution_count": 18,
   "id": "e93d8ee1",
   "metadata": {
    "slideshow": {
     "slide_type": "subslide"
    }
   },
   "outputs": [
    {
     "data": {
      "image/png": "[encoded data removed]",
      "text/plain": [
       "<Figure size 800x500 with 1 Axes>"
      ]
     },
     "metadata": {},
     "output_type": "display_data"
    }
   ],
   "source": [
    "plt.plot(muscaled_m,gamma_m,label='Theory')\n",
    "plt.plot(muscaled_m,gammaMC_m,label='Monte Carlo')\n",
    "plt.title(r'Power for one-sided $z$ test with $\\alpha=0.05$');plt.xlabel(r'$\\frac{\\mu}{\\sigma/\\sqrt{n}}$');\n",
    "plt.ylabel(r'$\\gamma(\\mu)$');plt.legend(),plt.xlim(0,5);plt.ylim(0,1);plt.grid(True)"
   ]
  },
  {
   "cell_type": "markdown",
   "id": "ce7704d2",
   "metadata": {
    "slideshow": {
     "slide_type": "fragment"
    }
   },
   "source": [
    "We see that the power curve estimated with the Monte Carlo agrees pretty well with the theoretical one."
   ]
  },
  {
   "cell_type": "markdown",
   "id": "4efed1ae",
   "metadata": {
    "slideshow": {
     "slide_type": "subslide"
    }
   },
   "source": [
    "- Note that it quickly becomes impractical to calculate power curves analytically."
   ]
  },
  {
   "cell_type": "markdown",
   "id": "347e4901",
   "metadata": {
    "slideshow": {
     "slide_type": "fragment"
    }
   },
   "source": [
    "- Consider the standard $t$-test using the statistic\n",
    "$${\\color{royalblue}{T}} = \\frac{{\\color{royalblue}{{{\\overline{X}}}}}}{\\sqrt{{\\color{royalblue}{S^2}}/n}}$$\n",
    "constructed from the sample standard deviation $s$ rather than the\n",
    "population standard deviation $\\sigma$ (which we might not know)"
   ]
  },
  {
   "cell_type": "markdown",
   "id": "6790e2ce",
   "metadata": {
    "slideshow": {
     "slide_type": "fragment"
    }
   },
   "source": [
    "- We know ${\\color{royalblue}{T}}$ is Student-$t$ distributed if $\\mu=0$, but what if $\\mu\\ne 0$?\n",
    "$$\\frac{{\\color{royalblue}{\\overline{X}}} - \\mu}{\\sqrt{{\\color{royalblue}{S^2}}/n}}\n",
    "={\\color{royalblue}{T}} - \\frac{\\mu}{\\sqrt{{\\color{royalblue}{S^2}}/n}}$$\n",
    "is Student-$t$ distributed, but it's not obvious what that means for $\\color{royalblue}{T}$ since $\\color{royalblue}{S^2}$ is also random."
   ]
  },
  {
   "cell_type": "markdown",
   "id": "5e3f284d",
   "metadata": {
    "slideshow": {
     "slide_type": "fragment"
    }
   },
   "source": [
    "- We’ll try to address these questions numerically whenever possible."
   ]
  },
  {
   "cell_type": "markdown",
   "id": "c2d0627a",
   "metadata": {
    "slideshow": {
     "slide_type": "slide"
    }
   },
   "source": [
    "### $p$-values"
   ]
  },
  {
   "cell_type": "markdown",
   "id": "c4f3346f",
   "metadata": {
    "slideshow": {
     "slide_type": "subslide"
    }
   },
   "source": [
    "- Predefined tests with significance level $\\alpha$, fixed rejection regions & power curves are easy to describe, but don't give much information about an actual data set.\n",
    "- Only result of such a test for an observed sample is “reject $H_0$” or “don’t reject $H_0$”."
   ]
  },
  {
   "cell_type": "markdown",
   "id": "84ff7b29",
   "metadata": {
    "slideshow": {
     "slide_type": "fragment"
    }
   },
   "source": [
    "- Instead consider how strongly $H_0$ can be rejected for a given observed sample $\\{x_i\\}$."
   ]
  },
  {
   "cell_type": "markdown",
   "id": "cf4cffbe",
   "metadata": {
    "slideshow": {
     "slide_type": "fragment"
    }
   },
   "source": [
    "- Define the $p$-value, the smallest significance level at which $H_0$ would be rejected (for a given statistic)"
   ]
  },
  {
   "cell_type": "markdown",
   "id": "fa9d10aa",
   "metadata": {
    "slideshow": {
     "slide_type": "fragment"
    }
   },
   "source": [
    "- Also the probability that, assuming $H_0$ true, a new sample would give a test statistic at least as extreme as the one seen from the original data."
   ]
  },
  {
   "cell_type": "markdown",
   "id": "d2b1a69b",
   "metadata": {
    "slideshow": {
     "slide_type": "fragment"
    }
   },
   "source": [
    "- Turning things around, a test with significance $\\alpha$ tells us to calculate the $p$ value, and reject $H_0$ if $p\\le\\alpha$."
   ]
  },
  {
   "cell_type": "markdown",
   "id": "2e2bd7d6",
   "metadata": {
    "slideshow": {
     "slide_type": "subslide"
    }
   },
   "source": [
    "Going back to our $z$-test example, we can compare $H_0$: $\\mu=0$ to\n",
    "$H_1$: $\\mu>0$ by calculating\n",
    "$z=\\frac{{{\\overline{x}}}}{\\sigma/\\sqrt{n}}$ and defining the $p$-value\n",
    "as $p = P(\\color{royalblue}{Z}\\ge z|\\mu=0) = 1 - \\Phi(z)$.\n",
    "\n",
    "Suppose we have some data:"
   ]
  },
  {
   "cell_type": "code",
   "execution_count": 19,
   "id": "7f379c36",
   "metadata": {
    "slideshow": {
     "slide_type": "fragment"
    }
   },
   "outputs": [
    {
     "data": {
      "text/plain": [
       "50"
      ]
     },
     "execution_count": 19,
     "metadata": {},
     "output_type": "execute_result"
    }
   ],
   "source": [
    "x_i = np.array([-0.2,-4.5, 8.9, 1.6, 4.5,-2.9, 5.6, 1.5, 8.2, 3.5,-6.7,-2.4, 5.7, 2.5,-1.6, 1.3, 4.4,-0.9,-3.5, 6.6,-3.6,-0.4, 1.4,-4.0,-1.2,-2.3,-4.9, 7.0,-2.7,-1.1, 4.3,-3.7, 1.4,-1.4, 1.1, 2.1, 3.8,-3.0, 1.1,-0.1,11.3, 2.1, 5.5, 1.4,-0.5, 1.8,-0.9,-3.1, 4.0, 5.1])\n",
    "n = len(x_i); n"
   ]
  },
  {
   "cell_type": "markdown",
   "id": "912dbb47",
   "metadata": {
    "slideshow": {
     "slide_type": "fragment"
    }
   },
   "source": [
    "We calculate the test statistic for those data"
   ]
  },
  {
   "cell_type": "code",
   "execution_count": 20,
   "id": "b16fba0f",
   "metadata": {
    "slideshow": {
     "slide_type": "fragment"
    }
   },
   "outputs": [
    {
     "data": {
      "text/plain": [
       "1.4736105319927653"
      ]
     },
     "execution_count": 20,
     "metadata": {},
     "output_type": "execute_result"
    }
   ],
   "source": [
    "z = np.mean(x_i) / (sigma/np.sqrt(n)); z"
   ]
  },
  {
   "cell_type": "markdown",
   "id": "5f098320",
   "metadata": {
    "slideshow": {
     "slide_type": "fragment"
    }
   },
   "source": [
    "The $p$-value is the probability that a standard normal will exceed this:"
   ]
  },
  {
   "cell_type": "code",
   "execution_count": 21,
   "id": "79f70be7",
   "metadata": {
    "slideshow": {
     "slide_type": "fragment"
    }
   },
   "outputs": [
    {
     "name": "stdout",
     "output_type": "stream",
     "text": [
      "p-value is 0.0702932\n"
     ]
    }
   ],
   "source": [
    "print('p-value is %g'%stats.norm.sf(z))"
   ]
  },
  {
   "cell_type": "markdown",
   "id": "5b6a5119",
   "metadata": {
    "slideshow": {
     "slide_type": "subslide"
    }
   },
   "source": [
    "The Monte Carlo construction can help us get a handle on what a $p$-value means."
   ]
  },
  {
   "cell_type": "markdown",
   "id": "76e03b6a",
   "metadata": {
    "slideshow": {
     "slide_type": "fragment"
    }
   },
   "source": [
    "We can check how often data generated according to the null hypothesis give a statistic at least this large:"
   ]
  },
  {
   "cell_type": "code",
   "execution_count": 22,
   "id": "8045b9f5",
   "metadata": {
    "slideshow": {
     "slide_type": "fragment"
    }
   },
   "outputs": [
    {
     "name": "stdout",
     "output_type": "stream",
     "text": [
      "76 out of 1000 simulations with H0 have z>=1.47361 so the p-value is 0.08\n",
      "Exact p-value is 0.0702932\n"
     ]
    }
   ],
   "source": [
    "print('%d out of %d simulations with H0 have z>=%g so the p-value is %.2f'\n",
    "      % (np.sum(z_I>=z),Nmonte,z,np.mean(z_I>=z)))\n",
    "print('Exact p-value is %g'%stats.norm.sf(z))"
   ]
  },
  {
   "cell_type": "markdown",
   "id": "36348c44",
   "metadata": {
    "slideshow": {
     "slide_type": "fragment"
    }
   },
   "source": [
    "Note that if an assignment asks you to test a hypothesis, you should **not** just pick some significance like $\\alpha=0.05$ and define a test with a fixed rejection region.  *You should compute the $p$-value*."
   ]
  },
  {
   "cell_type": "markdown",
   "id": "d36e4736",
   "metadata": {
    "slideshow": {
     "slide_type": "slide"
    }
   },
   "source": [
    "#### One-Tailed and Two-Tailed Tests"
   ]
  },
  {
   "cell_type": "markdown",
   "id": "8ddb8ea9",
   "metadata": {
    "slideshow": {
     "slide_type": "subslide"
    }
   },
   "source": [
    "Our example had a one-sided alternative\n",
    "hypothesis $H_1$: $\\mu>0$, so we rejected $H_0$: $\\mu=0$ if the\n",
    "value of $z$ was too large (a\n",
    "one-tailed test)."
   ]
  },
  {
   "cell_type": "markdown",
   "id": "04a218be",
   "metadata": {
    "slideshow": {
     "slide_type": "fragment"
    }
   },
   "source": [
    "Could instead consider two-sided alternative\n",
    "hypothesis $H_1$: $\\mu\\ne 0$ and reject $H_0$ if $z$ is too large *or*\n",
    "too small. So w/same data, $p$-value would be not\n",
    "$P({\\color{royalblue}{Z}}\\mathbin{\\ge} 1.47)$ but prob that ${\\color{royalblue}{Z}}\\ge 1.47$ *or* ${\\color{royalblue}{Z}}\\le-1.47$,\n",
    "i.e., $P(|{\\color{royalblue}{Z}}|\\mathbin{\\ge} 1.47)$:"
   ]
  },
  {
   "cell_type": "code",
   "execution_count": 23,
   "id": "5706ac6c",
   "metadata": {
    "slideshow": {
     "slide_type": "fragment"
    }
   },
   "outputs": [
    {
     "name": "stdout",
     "output_type": "stream",
     "text": [
      "76 out of 1000 simulations with H0 have z>=1.47361, and 63 have z<=-1.47361\n",
      "so the two-sided p-value is 0.14\n"
     ]
    }
   ],
   "source": [
    "print(('%d out of %d simulations with H0 have z>=%g, and %d have z<=-%g\\nso the two-sided p-value is %.2f')\n",
    "      % (np.sum(z_I>=np.abs(z)),Nmonte,np.abs(z),np.sum(z_I<=-np.abs(z)),np.abs(z),np.mean(np.abs(z_I)>=z)))"
   ]
  },
  {
   "cell_type": "markdown",
   "id": "aeddbec7",
   "metadata": {
    "slideshow": {
     "slide_type": "fragment"
    }
   },
   "source": [
    "The theoretical formula is\n",
    "$$\n",
    "p=P({\\color{royalblue}{Z}}\\ge |z|) + P({\\color{royalblue}{Z}}\\le -|z|) = 1 - \\Phi(|z|) + \\Phi(-|z|) = 2\\bigl(1-\\Phi(|z|)\\bigr)\n",
    "$$"
   ]
  },
  {
   "cell_type": "code",
   "execution_count": 24,
   "id": "2eb6361e",
   "metadata": {
    "slideshow": {
     "slide_type": "fragment"
    }
   },
   "outputs": [
    {
     "name": "stdout",
     "output_type": "stream",
     "text": [
      "Exact two-sided p-value is 0.140586\n"
     ]
    }
   ],
   "source": [
    "print('Exact two-sided p-value is %g'%(2*stats.norm.sf(np.abs(z))))"
   ]
  },
  {
   "cell_type": "markdown",
   "id": "50f4fdef",
   "metadata": {
    "slideshow": {
     "slide_type": "subslide"
    }
   },
   "source": [
    "If we want a two-tailed test with $\\alpha=0.05$, need to reject $H_0$ if $z>z_{0.975}\\approx 1.96$ or $z<z_{0.025}\\approx -1.96$."
   ]
  },
  {
   "cell_type": "code",
   "execution_count": 25,
   "id": "a2261189",
   "metadata": {
    "slideshow": {
     "slide_type": "fragment"
    }
   },
   "outputs": [
    {
     "data": {
      "text/plain": [
       "0.04999579029644087"
      ]
     },
     "execution_count": 25,
     "metadata": {},
     "output_type": "execute_result"
    }
   ],
   "source": [
    "stats.norm.cdf(-1.96) + stats.norm.sf(1.96)"
   ]
  },
  {
   "cell_type": "code",
   "execution_count": null,
   "id": "888be0e5-5006-456a-8d56-87af812dc2ae",
   "metadata": {},
   "outputs": [],
   "source": []
  }
 ],
 "metadata": {
  "celltoolbar": "Slideshow",
  "kernelspec": {
   "display_name": "Python 3 (ipykernel)",
   "language": "python",
   "name": "python3"
  },
  "language_info": {
   "codemirror_mode": {
    "name": "ipython",
    "version": 3
   },
   "file_extension": ".py",
   "mimetype": "text/x-python",
   "name": "python",
   "nbconvert_exporter": "python",
   "pygments_lexer": "ipython3",
   "version": "3.9.7"
  }
 },
 "nbformat": 4,
 "nbformat_minor": 5
}
