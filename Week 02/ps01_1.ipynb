{
 "cells": [
  {
   "cell_type": "markdown",
   "metadata": {},
   "source": [
    "# Problem Set 1, Part One: Due Thursday, January 23 by 8am Eastern Standard Time"
   ]
  },
  {
   "cell_type": "markdown",
   "metadata": {},
   "source": [
    "## Name: David Millard"
   ]
  },
  {
   "cell_type": "markdown",
   "metadata": {},
   "source": [
    "**Show your work on all problems!** Be sure to give credit to any\n",
    "collaborators, or outside sources used in solving the problems. Note\n",
    "that if using an outside source to do a calculation, you should use it\n",
    "as a reference for the method, and actually carry out the calculation\n",
    "yourself; it’s not sufficient to quote the results of a calculation\n",
    "contained in an outside source."
   ]
  },
  {
   "cell_type": "markdown",
   "metadata": {},
   "source": [
    "Fill in your solutions in the notebook below, inserting markdown and/or code cells as needed.  Try to do reasonably well with the typesetting, but don't feel compelled to replicate my formatting exactly.  **You do NOT need to make random variables blue!**"
   ]
  },
  {
   "cell_type": "code",
   "execution_count": 1,
   "metadata": {},
   "outputs": [],
   "source": [
    "%matplotlib inline"
   ]
  },
  {
   "cell_type": "code",
   "execution_count": 2,
   "metadata": {},
   "outputs": [],
   "source": [
    "import numpy as np\n",
    "from scipy import stats\n",
    "import matplotlib.pyplot as plt\n",
    "plt.rcParams['figure.figsize'] = (8.0,5.0)\n",
    "plt.rcParams['font.size'] = 14"
   ]
  },
  {
   "cell_type": "markdown",
   "metadata": {},
   "source": [
    "### Conover Problems on Probability"
   ]
  },
  {
   "cell_type": "markdown",
   "metadata": {},
   "source": [
    "#### Exercise 1.4.2:"
   ]
  },
  {
   "cell_type": "markdown",
   "metadata": {},
   "source": [
    "If $P({\\color{royalblue}{X}}{\\mathbin{=}}0) = 0$,\n",
    "$P({\\color{royalblue}{X}}{\\mathbin{=}}1) = 1/2$,\n",
    "$P({\\color{royalblue}{X}}{\\mathbin{=}}2) = 1/4$,\n",
    "$P({\\color{royalblue}{X}}{\\mathbin{=}}4) = 1/4$, find"
   ]
  },
  {
   "cell_type": "markdown",
   "metadata": {},
   "source": [
    "**(a)** $E({\\color{royalblue}{X}})$."
   ]
  },
  {
   "cell_type": "markdown",
   "metadata": {},
   "source": [
    "\\begin{align}\n",
    "E[X] &= 0 \\cdot P(X=0) + 1 \\cdot P(X=1) + 2 \\cdot P(X=2) + 4 \\cdot P(X=4) \\\\\n",
    "     &= 0 \\cdot 0 + 1 \\cdot \\frac{1}{2} + 2 \\cdot \\frac{1}{4} + 4 \\cdot \\frac{1}{4} \\\\\n",
    "     &= 0 + \\frac{1}{2} + \\frac{2}{4} + \\frac{4}{4} \\\\\n",
    "     &= \\frac{1}{2} + \\frac{1}{2} + 1 \\\\\n",
    "     &= 2\n",
    "\\end{align}\n",
    "Therefore, $E[X] = 2$"
   ]
  },
  {
   "cell_type": "markdown",
   "metadata": {},
   "source": [
    "**(b)**\n",
    "$\\operatorname{Var}({\\color{royalblue}{X}})$."
   ]
  },
  {
   "cell_type": "markdown",
   "metadata": {},
   "source": [
    "\\begin{align}\n",
    "E[X^2] &= 0^2 \\cdot P(X=0) + 1^2 \\cdot P(X=1) + 2^2 \\cdot P(X=2) + 4^2 \\cdot P(X=4) \\\\\n",
    "              &= 0 \\cdot 0 + 1 \\cdot 0.5 + 4 \\cdot 0.25 + 16 \\cdot 0.25 \\\\\n",
    "              &= 0.5 + 1 + 4 \\\\\n",
    "              &= 5.5\n",
    "\\end{align}\n",
    "\n",
    "\\begin{align}\n",
    "\\text{Var}[X] &= E[X^2] - E[X]^2 \\\\\n",
    "              &= 5.5 - 2 \\\\\n",
    "              &= 3.5\n",
    "\\end{align}"
   ]
  },
  {
   "cell_type": "markdown",
   "metadata": {},
   "source": [
    " **(c)**\n",
    "$E(-{\\color{royalblue}{X}})$."
   ]
  },
  {
   "cell_type": "markdown",
   "metadata": {},
   "source": [
    "\\begin{align}\n",
    "E[-X] &= 0 \\cdot P(X=0) - 1 \\cdot P(X=1) - 2 \\cdot P(X=2) - 4 \\cdot P(X=4) \\\\\n",
    "     &= 0 \\cdot 0 - 1 \\cdot \\frac{1}{2} - 2 \\cdot \\frac{1}{4} - 4 \\cdot \\frac{1}{4} \\\\\n",
    "     &= 0 - \\frac{1}{2} - \\frac{2}{4} - \\frac{4}{4} \\\\\n",
    "     &= -\\frac{1}{2} - \\frac{1}{2} - 1 \\\\\n",
    "     &= -2\n",
    "\\end{align}\n",
    "Therefore, $E[X] = -2$"
   ]
  },
  {
   "cell_type": "markdown",
   "metadata": {},
   "source": [
    "**(d)** The median."
   ]
  },
  {
   "cell_type": "markdown",
   "metadata": {},
   "source": [
    "\\begin{align}\n",
    "P(X \\geq x) &\\geq 0.5, P(X \\leq x) \\geq 0.5 \\\\\n",
    "P(X \\geq 1) &= 0.5, P(X \\leq 1) = 0.5\n",
    "\\end{align}\n",
    "Therefore the median is 1."
   ]
  },
  {
   "cell_type": "markdown",
   "metadata": {},
   "source": [
    "**(e)** The upper quartile."
   ]
  },
  {
   "cell_type": "markdown",
   "metadata": {},
   "source": [
    "\\begin{align}\n",
    "P(X \\geq x) &\\geq 0.25, P(X \\leq x) \\geq 0.75 \\\\\n",
    "P(X \\geq 2) &= 0.25, P(X \\leq 2) = 0.75 \\\\\n",
    "\\end{align}\n",
    "Therefore the upper quartile is 2."
   ]
  },
  {
   "cell_type": "markdown",
   "metadata": {},
   "source": [
    "**(f)** The thirty-seventh percentile."
   ]
  },
  {
   "cell_type": "markdown",
   "metadata": {},
   "source": [
    "\\begin{align}\n",
    "P(X \\geq x) &\\geq 0.63, P(X \\leq x) \\geq 0.37 \\\\\n",
    "P(X \\geq 1) &= 0.5, P(X \\leq 1) = 0.5 \\\\\n",
    "\\end{align}\n",
    "\n",
    "The thirty-seventh percentile would fall somewhere between 0 and 1.\n",
    "Because we are dealing with discete space, the thirty-seventh pertile would therefore be 1."
   ]
  },
  {
   "cell_type": "markdown",
   "metadata": {},
   "source": [
    "#### Exercise 1.5.10:\n",
    "\n",
    "Let ${\\color{royalblue}{X}}$ be the number of consumers who visit the Dairy\n",
    "Queen in Plains, Texas, at least once during October. Assume there are\n",
    "2000 people living in Plains, and each has a probability $0.25$ of\n",
    "visiting the Dairy Queen, independent of one another. Estimate\n",
    "$P(460{\\mathbin{<}}{\\color{royalblue}{X}}{\\mathbin{<}}540)$."
   ]
  },
  {
   "cell_type": "markdown",
   "metadata": {},
   "source": [
    "$X$ follows a Binomial$(n=2000, p=0.25)$ distribution\n",
    "\n",
    "Binomial$(n=2000, p=0.25) \\approx N(\\mu_X, \\sigma_X)$\n",
    "\n",
    "$\\mu_X = np = 2000 \\times 0.25 = 500$\n",
    "\n",
    "$\\sigma_X = \\sqrt{np(1-p)} = \\sqrt{2000 \\times 0.25 \\times 0.75} = \\sqrt{375}$\n",
    "\n",
    "$P(460 < X < 540) = P(X < 540) - P(X \\leq 460)$"
   ]
  },
  {
   "cell_type": "code",
   "execution_count": 3,
   "metadata": {},
   "outputs": [
    {
     "name": "stdout",
     "output_type": "stream",
     "text": [
      "2.0655911179772892 -2.0655911179772892\n",
      "0.9805664480937915 0.019433551906208595\n",
      "0.9611328961875829\n"
     ]
    }
   ],
   "source": [
    "z1 = (540-500) / 375**0.5\n",
    "z2 = (460-500) / 375**0.5\n",
    "\n",
    "print(z1, z2)\n",
    "\n",
    "p1 = stats.norm.cdf(z1)\n",
    "p2 = stats.norm.cdf(z2)\n",
    "\n",
    "print(p1, p2)\n",
    "print(p1-p2)"
   ]
  },
  {
   "cell_type": "markdown",
   "metadata": {},
   "source": [
    "Therefore, $P(460 < X < 540) \\approx 0.9806 - 0.0194 = 0.9611$"
   ]
  },
  {
   "cell_type": "markdown",
   "metadata": {},
   "source": [
    "#### Review Problem 1.6.2:\n",
    "\n",
    "A balanced coin is tossed eight times. What is the probability of\n",
    "getting exactly two heads if we are given the information that there\n",
    "were at least two heads in the eight tosses?"
   ]
  },
  {
   "cell_type": "markdown",
   "metadata": {},
   "source": [
    "$P(\\;2 \\text{ H } |\\text{ at least 2 H }) = \\frac{P(\\;2 \\text{ H } \\cap \\text{ at least 2 H })}{P(\\text{ at least 2 H })}$"
   ]
  },
  {
   "cell_type": "code",
   "execution_count": 4,
   "metadata": {},
   "outputs": [
    {
     "name": "stdout",
     "output_type": "stream",
     "text": [
      "0.10937500000000004 1.0 0.003906250000000007 0.031249999999999983\n",
      "0.11336032388663972\n"
     ]
    }
   ],
   "source": [
    "p_intersect = stats.binom.pmf(k=2, n=8, p=0.5)\n",
    "\n",
    "p_total = 1.0\n",
    "p_0 = stats.binom.pmf(k=0, n=8, p=0.5)\n",
    "p_1 = stats.binom.pmf(k=1, n=8, p=0.5)\n",
    "\n",
    "print(p_intersect, p_total, p_0, p_1)\n",
    "print(p_intersect / (p_total - p_0 - p_1))"
   ]
  },
  {
   "cell_type": "markdown",
   "metadata": {},
   "source": [
    "Therefore, $P(\\;2 \\text{ H } |\\text{ at least 2 H }) = 0.1137$"
   ]
  },
  {
   "cell_type": "markdown",
   "metadata": {},
   "source": [
    "#### Review Problem 1.6.3:\n",
    "\n",
    "Consider five dice being rolled, and ${\\color{royalblue}{X}}$ equals the sum\n",
    "of the numbers (1 through 6) on the five dice. If the dice are balanced\n",
    "(i.e., equal probabilities of getting 1 through 6 for each die) and\n",
    "independent of each other, find the mean and the variance of\n",
    "${\\color{royalblue}{X}}$."
   ]
  },
  {
   "cell_type": "markdown",
   "metadata": {},
   "source": [
    "\\begin{align}\n",
    "E[X_i] &= 1 \\cdot \\frac{1}{6} + 2 \\cdot \\frac{1}{6} + 3 \\cdot \\frac{1}{6} + 4 \\cdot \\frac{1}{6} + 5 \\cdot \\frac{1}{6} + 6 \\cdot \\frac{1}{6} \\\\\n",
    "       &= 3.5\n",
    "\\end{align}\n",
    "\n",
    "\\begin{align}\n",
    "E[X_i^2] &= 1^2 \\cdot \\frac{1}{6} + 2^2 \\cdot \\frac{1}{6} + 3^2 \\cdot \\frac{1}{6} + 4^2 \\cdot \\frac{1}{6} + 5^2 \\cdot \\frac{1}{6} + 6^2 \\cdot \\frac{1}{6} \\\\\n",
    "       &\\approx 15.17\n",
    "\\end{align}\n",
    "\n",
    "\\begin{align}\n",
    "\\text{Var}[X] &= E[X_i^2] - E[X_i]^2 \\\\\n",
    "              &= 15.17 - 3.5^2 \\\\\n",
    "              &= 2.92\n",
    "\\end{align}\n",
    "\n",
    "\\begin{align}\n",
    "E[Y] &= E[X_1 + X_2 + X_3 + X_4 + X_5] \\\\\n",
    "     &= E[X_1] + E[X_2] + E[X_3] + E[X_4] + E[X_5] \\\\\n",
    "     &= 3.5 + 3.5 + 3.5 + 3.5 + 3.5 \\\\\n",
    "     &= 5 \\cdot 3.5 \\\\\n",
    "     &= 17.5 \n",
    "\\end{align}\n",
    "\n",
    "\\begin{align}\n",
    "\\text{Var}[Y] &= \\text{Var}[X_1 + X_2 + X_3 + X_4 + X_5] \\\\\n",
    "     &= \\text{Var}[X_1] + \\text{Var}[X_2] + \\text{Var}[X_3] + \\text{Var}[X_4] + \\text{Var}[X_5] \\\\\n",
    "     &= 2.92 + 2.92 + 2.92 + 2.92 + 2.92 \\\\\n",
    "     &= 5 \\cdot 2.92 \\\\\n",
    "     &= 14.6\n",
    "\\end{align}"
   ]
  },
  {
   "cell_type": "markdown",
   "metadata": {},
   "source": [
    "### Conover Problems on Statistical Inference"
   ]
  },
  {
   "cell_type": "markdown",
   "metadata": {},
   "source": [
    "#### Exercise 2.2.2:\n",
    "\n",
    "In five consecutive games a certain basketball team had scores of 73,\n",
    "68, 86, 78 and 65."
   ]
  },
  {
   "cell_type": "markdown",
   "metadata": {},
   "source": [
    "**(a)** Draw a graph of the empirical distribution function."
   ]
  },
  {
   "cell_type": "code",
   "execution_count": 6,
   "metadata": {},
   "outputs": [
    {
     "data": {
      "image/png": "[encoded data removed]",
      "text/plain": [
       "<Figure size 800x500 with 1 Axes>"
      ]
     },
     "metadata": {},
     "output_type": "display_data"
    }
   ],
   "source": [
    "scores = np.array([73, 68, 86, 78, 65])\n",
    "x_range = np.arange(60, 90)\n",
    "y_cdf = np.array([np.mean(scores <= x) for x in x_range])\n",
    "\n",
    "plt.step(x, y_cdf, 'b-', where='post');\n",
    "plt.plot(scores, [np.mean(scores <= x) for x in scores], 'ro');"
   ]
  },
  {
   "cell_type": "markdown",
   "metadata": {},
   "source": [
    "**(b)** Find the upper sample quartile."
   ]
  },
  {
   "cell_type": "markdown",
   "metadata": {},
   "source": [
    "\\begin{align}\n",
    "P(X \\geq x) \\geq 0.25&, P(X \\leq x) \\geq 0.75 \\\\\n",
    "P(X \\geq 78) = 0.2&, P(X \\leq 78) = 0.8\n",
    "\\end{align}\n",
    "\n",
    "The upper sample quantile would fall somewhere between 73 and 78.\n",
    "Because we are dealing with discete space, the upper sample quantile would therefore be 78."
   ]
  },
  {
   "cell_type": "markdown",
   "metadata": {},
   "source": [
    "**(c)** Find the sample interquartile range."
   ]
  },
  {
   "cell_type": "markdown",
   "metadata": {},
   "source": [
    "\\begin{align}\n",
    "P(X \\geq x) \\geq 0.75&, P(X \\leq x) \\geq 0.25 \\\\\n",
    "P(X \\geq 68) = 0.6&, P(X \\leq 68) = 0.4\n",
    "\\end{align}\n",
    "\n",
    "The lower sample quantile would fall somewhere between 65 and 68.\n",
    "Because we are dealing with discete space, the lower sample quantile would therefore be 68.\n",
    "\n",
    "\\begin{align}\n",
    "IQR &= Q_3 - Q_1 \\\\\n",
    "    &= 78 - 68 \\\\\n",
    "    &= 10\n",
    "\\end{align}\n",
    "\n",
    "Therefore, the sample interquartile range is 10 points."
   ]
  },
  {
   "cell_type": "markdown",
   "metadata": {},
   "source": [
    "**(d)** Find the sample mean."
   ]
  },
  {
   "cell_type": "markdown",
   "metadata": {},
   "source": [
    "\\begin{align}\n",
    "\\bar{x} &= \\frac{1}{n}\\sum_{i=0}^n x_i\\\\\n",
    "     &= \\frac{73 + 68 + 86 + 78 + 65}{5} \\\\\n",
    "     &= 74\n",
    "\\end{align}"
   ]
  },
  {
   "cell_type": "markdown",
   "metadata": {},
   "source": [
    "**(e)** Find the sample standard deviation."
   ]
  },
  {
   "cell_type": "markdown",
   "metadata": {},
   "source": [
    "\\begin{align}\n",
    "s &= \\sqrt{\\frac{\\sum_{i=1}^n (x_i - \\mu)^2}{n-1}} \\\\\n",
    "  &= \\sqrt{\\frac{(73-74)^2 + (68-74)^2 + (86-74)^2 + (78-74)^2 + (65-74)^2}{4}} \\\\\n",
    "  &= \\sqrt{\\frac{1 + 36 + 144 + 16 + 81}{4}} \\\\\n",
    "  &= \\sqrt{\\frac{278}{4}} \\\\\n",
    "  &= \\sqrt{69.5} \\\\\n",
    "  &\\approx 8.337\n",
    "\\end{align}"
   ]
  },
  {
   "cell_type": "markdown",
   "metadata": {},
   "source": [
    "#### Exercise 2.2.8:\n",
    "\n",
    "An academic skills test was given to a random sample of 50 seniors at\n",
    "Central High School. The average score was 81% and the standard\n",
    "deviation was 11%. Find a 95% confidence interval for the average score\n",
    "of all 1159 seniors at Central High School."
   ]
  },
  {
   "cell_type": "code",
   "execution_count": 7,
   "metadata": {},
   "outputs": [
    {
     "name": "stdout",
     "output_type": "stream",
     "text": [
      "-1.9599639845400545 1.959963984540054\n"
     ]
    }
   ],
   "source": [
    "n = 50\n",
    "mu = 0.81\n",
    "std = 0.11\n",
    "\n",
    "z1 = stats.norm.ppf(0.025)\n",
    "z2 = stats.norm.ppf(0.975)\n",
    "\n",
    "print(z1, z2)"
   ]
  },
  {
   "cell_type": "markdown",
   "metadata": {},
   "source": [
    "\\begin{align}\n",
    "\\text{CI}_{0.95} &= \\mu \\pm z_{0.025} \\frac{s}{\\sqrt{n}} \\\\\n",
    "          &= 0.81 \\pm 1.96 \\cdot \\frac{0.11}{\\sqrt{1159}}\n",
    "\\end{align}"
   ]
  },
  {
   "cell_type": "code",
   "execution_count": 8,
   "metadata": {},
   "outputs": [
    {
     "name": "stdout",
     "output_type": "stream",
     "text": [
      "0.7795101158643072 0.8404898841356929\n"
     ]
    }
   ],
   "source": [
    "lower = 0.81 + z1 * (std / n**0.5)\n",
    "upper = 0.81 + z2 * (std / n**0.5)\n",
    "\n",
    "print(lower, upper)"
   ]
  },
  {
   "cell_type": "markdown",
   "metadata": {},
   "source": [
    "Therefore, the CI for the average score of all 1159 seniors is bounded by $[0.7795, 0.8404]$."
   ]
  },
  {
   "cell_type": "code",
   "execution_count": null,
   "metadata": {},
   "outputs": [],
   "source": []
  }
 ],
 "metadata": {
  "kernelspec": {
   "display_name": "Python 3 (ipykernel)",
   "language": "python",
   "name": "python3"
  },
  "language_info": {
   "codemirror_mode": {
    "name": "ipython",
    "version": 3
   },
   "file_extension": ".py",
   "mimetype": "text/x-python",
   "name": "python",
   "nbconvert_exporter": "python",
   "pygments_lexer": "ipython3",
   "version": "3.9.7"
  }
 },
 "nbformat": 4,
 "nbformat_minor": 4
}
