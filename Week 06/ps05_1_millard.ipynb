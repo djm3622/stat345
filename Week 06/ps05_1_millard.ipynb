{
 "cells": [
  {
   "cell_type": "markdown",
   "metadata": {},
   "source": [
    "# Problem Set 5, Part One: Due Thursday, February 27 by 8am Eastern Standard Time"
   ]
  },
  {
   "cell_type": "markdown",
   "metadata": {},
   "source": [
    "## Name:"
   ]
  },
  {
   "cell_type": "markdown",
   "metadata": {},
   "source": [
    "**Show your work on all problems!** Be sure to give credit to any\n",
    "collaborators, or outside sources used in solving the problems. Note\n",
    "that if using an outside source to do a calculation, you should use it\n",
    "as a reference for the method, and actually carry out the calculation\n",
    "yourself; it’s not sufficient to quote the results of a calculation\n",
    "contained in an outside source."
   ]
  },
  {
   "cell_type": "markdown",
   "metadata": {},
   "source": [
    "Fill in your solutions in the notebook below, inserting markdown and/or code cells as needed.  Try to do reasonably well with the typesetting, but don't feel compelled to replicate my formatting exactly.  **You do NOT need to make random variables blue!**"
   ]
  },
  {
   "cell_type": "code",
   "execution_count": null,
   "metadata": {},
   "outputs": [],
   "source": [
    "%matplotlib inline"
   ]
  },
  {
   "cell_type": "code",
   "execution_count": null,
   "metadata": {},
   "outputs": [],
   "source": [
    "import numpy as np\n",
    "from scipy import stats\n",
    "import matplotlib.pyplot as plt\n",
    "plt.rcParams['figure.figsize'] = (8.0,5.0)\n",
    "plt.rcParams['font.size'] = 14"
   ]
  },
  {
   "cell_type": "markdown",
   "metadata": {},
   "source": [
    "### Conover (and other) Problems on Relative Efficiency"
   ]
  },
  {
   "cell_type": "markdown",
   "metadata": {},
   "source": [
    "#### Exercise 2.4.2:"
   ]
  },
  {
   "cell_type": "markdown",
   "metadata": {},
   "source": [
    "Two types of shoe leather are being tested to see which is more durable.\n",
    "Eight pairs of shoes are made; the shoes seem to be identical except\n",
    "that one shoe is made from leather A and the other from leather B. These\n",
    "shoes are subjected to normal wear for a period of time and are then\n",
    "judged as to which leather seemed to be more durable for each pair. Let\n",
    "${\\color{royalblue}{X}}$ be equal the number of pairs of shoes where\n",
    "leather A is judged to be more durable. The null hypothesis is that\n",
    "$p=0.5$, where $p$ is the probability that the shoe made out of leather\n",
    "A was more durable than the other shoe, while $H_1$ is $p\\ne 0.5$. The\n",
    "critical region corresponds to ${\\color{royalblue}{X}}=0$, $1$, $7$, and\n",
    "$8$."
   ]
  },
  {
   "cell_type": "markdown",
   "metadata": {},
   "source": [
    "**(a)** Find $\\alpha$."
   ]
  },
  {
   "cell_type": "markdown",
   "metadata": {},
   "source": []
  },
  {
   "cell_type": "markdown",
   "metadata": {},
   "source": [
    "**(b)** What is the power function?"
   ]
  },
  {
   "cell_type": "markdown",
   "metadata": {},
   "source": []
  },
  {
   "cell_type": "markdown",
   "metadata": {},
   "source": [
    "**(c)** Draw a graph of the power function."
   ]
  },
  {
   "cell_type": "markdown",
   "metadata": {},
   "source": []
  },
  {
   "cell_type": "markdown",
   "metadata": {},
   "source": [
    "**(d)** Is the test unbiased?"
   ]
  },
  {
   "cell_type": "markdown",
   "metadata": {},
   "source": []
  },
  {
   "cell_type": "markdown",
   "metadata": {},
   "source": [
    "#### Followup:"
   ]
  },
  {
   "cell_type": "markdown",
   "metadata": {},
   "source": [
    "In the previous problem, for each of the following critical regions,\n",
    "calculate $\\alpha$ and $\\gamma(0.25)$:"
   ]
  },
  {
   "cell_type": "markdown",
   "metadata": {},
   "source": [
    "**(a)** ${\\color{royalblue}{X}} \\in \\{0,1,2,3,4,5,6,7,8\\}$"
   ]
  },
  {
   "cell_type": "markdown",
   "metadata": {},
   "source": []
  },
  {
   "cell_type": "markdown",
   "metadata": {},
   "source": [
    "**(b)** ${\\color{royalblue}{X}} \\in \\{0,1,2,3,5,6,7,8\\}$"
   ]
  },
  {
   "cell_type": "markdown",
   "metadata": {},
   "source": []
  },
  {
   "cell_type": "markdown",
   "metadata": {},
   "source": [
    "**(c)** ${\\color{royalblue}{X}} \\in \\{0,1,2,6,7,8\\}$"
   ]
  },
  {
   "cell_type": "markdown",
   "metadata": {},
   "source": []
  },
  {
   "cell_type": "markdown",
   "metadata": {},
   "source": [
    "**(d)** ${\\color{royalblue}{X}} \\in \\{0,1,7,8\\}$"
   ]
  },
  {
   "cell_type": "markdown",
   "metadata": {},
   "source": []
  },
  {
   "cell_type": "markdown",
   "metadata": {},
   "source": [
    "**(e)** ${\\color{royalblue}{X}} \\in \\{0,8\\}$"
   ]
  },
  {
   "cell_type": "markdown",
   "metadata": {},
   "source": []
  },
  {
   "cell_type": "markdown",
   "metadata": {},
   "source": [
    "**(f)** ${\\color{royalblue}{X}} \\in \\{\\emptyset\\}$ (i.e., never reject $H_0$)"
   ]
  },
  {
   "cell_type": "markdown",
   "metadata": {},
   "source": []
  },
  {
   "cell_type": "markdown",
   "metadata": {},
   "source": [
    "**(g)** Use the results to plot the ROC curve for this family of tests when the\n",
    "alternative hypothesis is $p=0.25$."
   ]
  },
  {
   "cell_type": "markdown",
   "metadata": {},
   "source": []
  },
  {
   "cell_type": "markdown",
   "metadata": {},
   "source": [
    "#### Problem 2.4.1:"
   ]
  },
  {
   "cell_type": "markdown",
   "metadata": {},
   "source": [
    "Suppose that the asymptotic efficiency of $T_2$ relative to $T_1$ is\n",
    "$0.75$, and suppose that the relative efficiency for finite sample sizes\n",
    "is always greater than the asymptotic relative efficiency. If an\n",
    "experimenter prefers to use test $T_2$ but wishes to have at least as\n",
    "much power as if test $T_1$ were being used with a sample size of $24$,\n",
    "what should the minimum sample size be?"
   ]
  },
  {
   "cell_type": "markdown",
   "metadata": {},
   "source": []
  },
  {
   "cell_type": "markdown",
   "metadata": {},
   "source": [
    "### Conover Problems on Kruskal-Wallis Tests"
   ]
  },
  {
   "cell_type": "markdown",
   "metadata": {},
   "source": [
    "#### Exercise 5.2.2:"
   ]
  },
  {
   "cell_type": "markdown",
   "metadata": {},
   "source": [
    "Four job training programs were tried on 20 new employees, where 5\n",
    "employees were randomly assigned to each training program. The 20\n",
    "employees were then placed under the same supervisor and, at the end of\n",
    "a certain specified period, the supervisor ranked the employees\n",
    "according to job ability, with the lowest ranks being assigned to those\n",
    "employees with the lowest job ability."
   ]
  },
  {
   "cell_type": "markdown",
   "metadata": {},
   "source": [
    "<table>\n",
    "<tr>\n",
    "    <th>Program</th><td></td>\n",
    "</tr>\n",
    "<tr><td>1</td><td>4, 6, 7, 2, 10</td></tr>\n",
    "<tr><td>2</td><td>1, 8, 12, 3, 11</td></tr>\n",
    "<tr><td>3</td><td>20, 19, 16, 14, 5</td></tr>\n",
    "<tr><td>4</td><td>18, 15, 17, 13, 9<td></tr>\n",
    "</table>"
   ]
  },
  {
   "cell_type": "markdown",
   "metadata": {},
   "source": [
    "Do these data indicate a difference in effectiveness of the various\n",
    "training programs? If so, which ones seem to be different?\n",
    "\\[Calculate a $p$-value.\\]"
   ]
  },
  {
   "cell_type": "markdown",
   "metadata": {},
   "source": []
  },
  {
   "cell_type": "markdown",
   "metadata": {},
   "source": [
    "#### Exercise 5.2.6:"
   ]
  },
  {
   "cell_type": "markdown",
   "metadata": {},
   "source": [
    "Twelve volunteers were assigned to each of three weight-reducing plans.\n",
    "The assignment of the volunteers to the plans was at random, and it was\n",
    "assumed that the 36 volunteers in all would resemble a random sample of\n",
    "people who might try a weight-reducing program. Test the null hypothesis\n",
    "that there is no difference in the probability distributions of the\n",
    "amount of weight lost under the three programs against the alternative\n",
    "that there is a difference. The results are given as the number of\n",
    "pounds lost by each person."
   ]
  },
  {
   "cell_type": "markdown",
   "metadata": {},
   "source": [
    "<table>\n",
    "<tr>\n",
    "<th colspan=\"2\">Plan A</th>\n",
    "<th colspan=\"2\">Plan B</th>\n",
    "<th colspan=\"2\">Plan C</th>\n",
    "</tr></td></tr>\n",
    "<tr><td> 2</td><td>17</td><td>17</td><td> 5</td><td>29</td><td> 5</td></tr>\n",
    "<tr><td>12</td><td> 4</td><td>15</td><td> 6</td><td> 3</td><td>25</td></tr>\n",
    "<tr><td> 5</td><td>25</td><td> 3</td><td>19</td><td>25</td><td>32</td></tr>\n",
    "<tr><td> 4</td><td> 6</td><td>19</td><td> 4</td><td>28</td><td>24</td></tr>\n",
    "<tr><td>26</td><td>21</td><td> 5</td><td> 9</td><td>11</td><td>36</td></tr>\n",
    "<tr><td> 8</td><td> 6</td><td>14</td><td> 7</td><td> 7</td><td>20</td></tr>\n",
    "</table>"
   ]
  },
  {
   "cell_type": "markdown",
   "metadata": {},
   "source": []
  },
  {
   "cell_type": "markdown",
   "metadata": {},
   "source": [
    "#### Problem 5.2.2:"
   ]
  },
  {
   "cell_type": "markdown",
   "metadata": {},
   "source": [
    "Find the exact distribution of the Kruskal-Wallis test statistic when\n",
    "$H_0$ is true, $n_1=3$, $n_2=2$, $n_3=1$, and there are no ties. Compare\n",
    "your results with the quantiles given in Table A8.\n",
    "\\[Also compare with the chi-squared approximation.\\]"
   ]
  },
  {
   "cell_type": "markdown",
   "metadata": {},
   "source": [
    "\\[You may find it useful to use the following function, defined in <https://mail.python.org/pipermail/python-list/2011-September/612810.html>, which is an analog of <https://docs.python.org/3/library/itertools.html#itertools.combinations>"
   ]
  },
  {
   "cell_type": "code",
   "execution_count": null,
   "metadata": {},
   "outputs": [],
   "source": [
    "import itertools\n",
    "def multinomial_combinations(items, ns):\n",
    "    if len(ns) == 1:\n",
    "        for c in itertools.combinations(items, ns[0]):\n",
    "            yield (c,)\n",
    "    else:\n",
    "        for c_first in itertools.combinations(items, ns[0]):\n",
    "            items_remaining= set(items) - set(c_first)\n",
    "            for c_other in multinomial_combinations(items_remaining, ns[1:]):\n",
    "                 yield (c_first,) + c_other"
   ]
  },
  {
   "cell_type": "markdown",
   "metadata": {},
   "source": [
    "This is an \"iterator\", which lets you loop through the $\\frac{6!}{3!2!1!}=60$ different ways of partitioning the $N=6$ ranks $\\{1,2,3,4,5,6\\}$ into groups of $n_1=3$, $n_2=2$, and $n_3=1$."
   ]
  },
  {
   "cell_type": "code",
   "execution_count": null,
   "metadata": {},
   "outputs": [],
   "source": [
    "n_i = np.array([3,2,1])\n",
    "N = np.sum(n_i)\n",
    "k = len(n_i)\n",
    "R_r = np.arange(1,N+1); R_r"
   ]
  },
  {
   "cell_type": "code",
   "execution_count": null,
   "metadata": {},
   "outputs": [],
   "source": [
    "for R_i_j in multinomial_combinations(R_r,n_i):\n",
    "    print(R_i_j)"
   ]
  },
  {
   "cell_type": "markdown",
   "metadata": {},
   "source": [
    "You can either do a loop like the one above, and compute another equally likely value of the Kruskal-Wallis statistic for each one, or you can combine them all in a list like this:"
   ]
  },
  {
   "cell_type": "code",
   "execution_count": null,
   "metadata": {},
   "outputs": [],
   "source": [
    "R_I_i_j = [R_i_j for R_i_j in multinomial_combinations(R_r,n_i)]"
   ]
  }
 ],
 "metadata": {
  "kernelspec": {
   "display_name": "Python 3 (ipykernel)",
   "language": "python",
   "name": "python3"
  },
  "language_info": {
   "codemirror_mode": {
    "name": "ipython",
    "version": 3
   },
   "file_extension": ".py",
   "mimetype": "text/x-python",
   "name": "python",
   "nbconvert_exporter": "python",
   "pygments_lexer": "ipython3",
   "version": "3.11.0"
  }
 },
 "nbformat": 4,
 "nbformat_minor": 2
}
