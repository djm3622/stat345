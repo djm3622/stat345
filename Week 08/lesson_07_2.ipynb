{
 "cells": [
  {
   "cell_type": "markdown",
   "id": "60da9302",
   "metadata": {
    "slideshow": {
     "slide_type": "slide"
    }
   },
   "source": [
    "# STAT 345: Nonparametric Statistics\n",
    "\n",
    "## Lesson 07.2: The Kolmagorov Test\n",
    "\n",
    "**Reading: Conover Section 6.1**\n",
    "\n",
    "*Prof. John T. Whelan*\n",
    "\n",
    "Tuesday 18 March 2025"
   ]
  },
  {
   "cell_type": "markdown",
   "id": "341349ed",
   "metadata": {
    "slideshow": {
     "slide_type": "slide"
    }
   },
   "source": [
    "These lecture slides are in a computational notebook.  You have access to them through http://vmware.rit.edu/"
   ]
  },
  {
   "cell_type": "markdown",
   "id": "14849a0b",
   "metadata": {
    "slideshow": {
     "slide_type": "fragment"
    }
   },
   "source": [
    "Flat HTML and slideshow versions are also in MyCourses."
   ]
  },
  {
   "cell_type": "markdown",
   "id": "2348659a",
   "metadata": {
    "slideshow": {
     "slide_type": "fragment"
    }
   },
   "source": [
    "The notebook can run Python commands (other notebooks can use R or Julia; \"Ju-Pyt-R\").  Think: computational data analysis, not \"coding\"."
   ]
  },
  {
   "cell_type": "markdown",
   "id": "f3c7b552",
   "metadata": {
    "slideshow": {
     "slide_type": "fragment"
    }
   },
   "source": [
    "Standard commands to activate inline interface and import libraries:"
   ]
  },
  {
   "cell_type": "code",
   "execution_count": 1,
   "id": "72002d68",
   "metadata": {
    "slideshow": {
     "slide_type": "fragment"
    }
   },
   "outputs": [],
   "source": [
    "%matplotlib inline"
   ]
  },
  {
   "cell_type": "code",
   "execution_count": 2,
   "id": "1d7896fc",
   "metadata": {
    "slideshow": {
     "slide_type": "fragment"
    }
   },
   "outputs": [],
   "source": [
    "import numpy as np\n",
    "from scipy import stats\n",
    "import matplotlib.pyplot as plt\n",
    "plt.rcParams['figure.figsize'] = (8.0,5.0)\n",
    "plt.rcParams['font.size'] = 14"
   ]
  },
  {
   "cell_type": "markdown",
   "id": "eb8737d9",
   "metadata": {
    "slideshow": {
     "slide_type": "subslide"
    }
   },
   "source": [
    "Consider the question: could a sample $\\{x_i\\}$ reasonably have come from a particular distribution?\n",
    "\n",
    "E.g., consider data with the following histogram:"
   ]
  },
  {
   "cell_type": "code",
   "execution_count": 3,
   "id": "70959288",
   "metadata": {
    "slideshow": {
     "slide_type": "fragment"
    }
   },
   "outputs": [
    {
     "data": {
      "image/png": "[encoded data removed]",
      "text/plain": [
       "<Figure size 800x500 with 1 Axes>"
      ]
     },
     "metadata": {},
     "output_type": "display_data"
    }
   ],
   "source": [
    "x_i = np.array([-0.6106, -0.2310, -1.0372, -2.1245, 0.7290, 0.0136, -1.4146, -1.0677, -2.6589,  0.0709, 0.7706, 3.7948, -1.4862, -0.0701, -1.3513, -0.8655, -0.2769, -0.5387, 0.2276, -0.0120, -3.8585, 0.0835, -1.7957, 1.0703, -0.6074, -0.8175, -0.9521, 0.6801, 2.5205, 0.1078, -1.2938, -0.6855, -2.1204, -0.3684, -0.4298, -1.2256, 1.3653, -2.2061, -1.6217, -2.3376,    -1.1890, -1.9026, 0.3447, 2.7895, -0.5585, 1.6562, -3.4243, -0.9751,0.6078, -0.6654, -1.5980, 0.0568, 1.0073, -4.0373, -1.1408, 1.3027,-0.0781, 2.2652, -2.5808, 0.5551, 1.7056, 0.6155, 0.3708, -0.7449,0.7294, -1.6789, 0.2668, 1.3637, -1.1435, -4.5174, 0.1851, -0.4093,-0.1503, 0.4865, -0.7953, -1.6489, -0.5183, 0.6161, -0.5087, -1.3621,3.3161, 0.3884, -1.0508, 0.5203, 0.2696, -1.4678, -1.4626, 0.9397,-7.0490, -0.6900, 3.3881, -0.6778, -1.4596, 0.1268, 8.7628, -1.0302,1.3928, -0.4755, -0.1050, -1.2061 ])\n",
    "xmax = np.ceil(max(np.abs(x_i)))+0.1; xmin = -xmax\n",
    "myhist,mybins = np.histogram(x_i,bins=np.arange(xmin,xmax+0.1,0.2));mywidths=mybins[1:]-mybins[:-1]\n",
    "plt.bar(mybins[:-1],myhist,mywidths,color='b',ec='k',fc=[0.7,0.7,1.0]);\n",
    "plt.xlabel(r'$x_i$');plt.ylabel('#');plt.grid();"
   ]
  },
  {
   "cell_type": "markdown",
   "id": "8b613291",
   "metadata": {
    "slideshow": {
     "slide_type": "subslide"
    }
   },
   "source": [
    "Since the data were not drawn from a normal distribution (as evidenced\n",
    "by the long tails), the $t$-test turns out to be less powerful than the sign test in this case:"
   ]
  },
  {
   "cell_type": "code",
   "execution_count": 4,
   "id": "63bedcc0",
   "metadata": {
    "slideshow": {
     "slide_type": "fragment"
    }
   },
   "outputs": [
    {
     "data": {
      "text/plain": [
       "(100, -0.34903799999999996, 1.8575830646778027)"
      ]
     },
     "execution_count": 4,
     "metadata": {},
     "output_type": "execute_result"
    }
   ],
   "source": [
    "n = len(x_i); xbar = np.mean(x_i); s = np.std(x_i,ddof=1); n, xbar, s"
   ]
  },
  {
   "cell_type": "code",
   "execution_count": 5,
   "id": "21de137a",
   "metadata": {
    "slideshow": {
     "slide_type": "fragment"
    }
   },
   "outputs": [
    {
     "name": "stdout",
     "output_type": "stream",
     "text": [
      "t-test has t=-1.87899, p-value=0.0631875\n"
     ]
    }
   ],
   "source": [
    "t = xbar/(s/np.sqrt(n));print('t-test has t=%g, p-value=%g' %(t,2*stats.t(df=n-1).cdf(t)))"
   ]
  },
  {
   "cell_type": "code",
   "execution_count": 6,
   "id": "2bb947c4",
   "metadata": {
    "slideshow": {
     "slide_type": "fragment"
    }
   },
   "outputs": [
    {
     "name": "stdout",
     "output_type": "stream",
     "text": [
      "39 out of 100 values positive, so sign test has p-value=0.0352002\n"
     ]
    }
   ],
   "source": [
    "nplus = np.sum(x_i>0); npm = np.sum(x_i!=0)\n",
    "print(\"%d out of %d values positive, so sign test has p-value=%g\"%(nplus,npm,2.*stats.binom(npm,0.5).cdf(nplus)))"
   ]
  },
  {
   "cell_type": "markdown",
   "id": "ba76ad4c",
   "metadata": {
    "slideshow": {
     "slide_type": "fragment"
    }
   },
   "source": [
    "The $t$-test has a two-sided $p$-value of $0.063$, while that for the sign test is $0.035$."
   ]
  },
  {
   "cell_type": "markdown",
   "id": "a40679ae",
   "metadata": {
    "slideshow": {
     "slide_type": "fragment"
    }
   },
   "source": [
    "But how does one quantify how different a data sample looks from the expectation under some hypothesized distribution (normal or otherwise)? That is the topic of the tests we consider now, starting with variants of the Kolmogorov-Smirnov test."
   ]
  },
  {
   "cell_type": "markdown",
   "id": "b1ded57f",
   "metadata": {
    "slideshow": {
     "slide_type": "slide"
    }
   },
   "source": [
    "# The Kolmogorov Test"
   ]
  },
  {
   "cell_type": "markdown",
   "id": "54fd0788",
   "metadata": {
    "slideshow": {
     "slide_type": "fragment"
    }
   },
   "source": [
    "## Test Statistic(s)"
   ]
  },
  {
   "cell_type": "markdown",
   "id": "1705c95e",
   "metadata": {
    "slideshow": {
     "slide_type": "subslide"
    }
   },
   "source": [
    "- Could compare the histogram to the hypothesized pdf, but this involves a choice of binning. Instead use *cumulative* distribution. Compare the true cdf $F(x)=P(\\color{royalblue}{X}\\mathbin{\\le}x)$ to hypothesized cdf $F^*(x)$."
   ]
  },
  {
   "cell_type": "markdown",
   "id": "901a9cfa",
   "metadata": {
    "slideshow": {
     "slide_type": "fragment"
    }
   },
   "source": [
    "- The null hypothesis\n",
    "$H_0$ is that $F(x)=F^*(x)$ for all $x$. The alternative hypothesis can\n",
    "be:\n",
    "  + Two-sided: $F(x)\\ne F^*(x)$ for some (unspecified) $x$\n",
    "  + One-sided: $F(x)< F^*(x)$ for some (unspecified) $x$\n",
    "  + One-sided: $F(x)> F^*(x)$ for some (unspecified) $x$"
   ]
  },
  {
   "cell_type": "markdown",
   "id": "f93e6c5d",
   "metadata": {
    "slideshow": {
     "slide_type": "fragment"
    }
   },
   "source": [
    "- Empirical cdf $\\hat{F}(x;\\{x_i\\})$ (Conover calls $S(x)$): fraction of\n",
    "sample values w/$x_i\\le x$ for each $x$\n",
    "$$\\hat{F}(x;\\{x_i\\}) = \\frac{1}{n}\\sum_{i=1}^n I[x_i\\le x]$$"
   ]
  },
  {
   "cell_type": "markdown",
   "id": "fb03dfa2",
   "metadata": {
    "slideshow": {
     "slide_type": "fragment"
    }
   },
   "source": [
    "- We use as\n",
    "test statistics the maximum separation between the curves\n",
    "$\\hat{F}(x;\\{x_i\\})$ and $F^*(x)$:\n",
    "$$\\begin{gathered}\n",
    "    T^{+} = \\sup_x[F^*(x)-\\hat{F}(x;\\{x_i\\})] \\quad\\hbox{and}\\quad\n",
    "    T^{-} = \\sup_x[\\hat{F}(x;\\{x_i\\})-F^*(x)] \\\\\n",
    "    T = \\max(T^{+},T^{-}) = \\sup_x{\\left\\lvert F^*(x)-\\hat{F}(x;\\{x_i\\})\\right\\rvert}\n",
    "  \\end{gathered}$$"
   ]
  },
  {
   "cell_type": "markdown",
   "id": "c1931ef0",
   "metadata": {
    "slideshow": {
     "slide_type": "subslide"
    }
   },
   "source": [
    "We can illustrate this for a particular sample of data, under the null\n",
    "hypothesis that they are drawn from a standard normal distribution,\n",
    "plotting the empirical and hypthesized distributions:"
   ]
  },
  {
   "cell_type": "code",
   "execution_count": 7,
   "id": "e2850e2a",
   "metadata": {
    "slideshow": {
     "slide_type": "fragment"
    }
   },
   "outputs": [
    {
     "data": {
      "image/png": "[encoded data removed]",
      "text/plain": [
       "<Figure size 800x500 with 1 Axes>"
      ]
     },
     "metadata": {},
     "output_type": "display_data"
    }
   ],
   "source": [
    "x_i = np.array([-1.82, 0.72, 1.67, 1.09, 0.64, 0.81, 1.74, -0.80, -0.13, 1.12]);\n",
    "xmin = -3; xmax = 3; x_x = np.linspace(xmin,xmax,6001);\n",
    "Fhat_x = np.mean(x_i[None,:] <= x_x[:,None],axis=-1); Fstar_x = stats.norm.cdf(x_x)\n",
    "xp = np.argmax(Fstar_x-Fhat_x); xm = np.argmax(Fhat_x-Fstar_x)\n",
    "plt.plot(x_x,Fhat_x,'b-',lw=2,label=r'$\\hat{F}(x,\\{x_i\\})$'); plt.plot(x_x,Fstar_x,'r--',lw=2,label=r'$F^*(x)$');\n",
    "plt.text(x_x[xp],(Fstar_x+Fhat_x)[xp]/2,r'$T_{+}$',ha='right');plt.annotate('',xy=(x_x[xp],Fstar_x[xp]),xycoords='data',xytext=(x_x[xp],Fhat_x[xp]),textcoords='data',arrowprops=dict(arrowstyle='<->'));\n",
    "plt.text(x_x[xm],(Fstar_x+Fhat_x)[xm]/2,r'$T_{-}$',ha='right');plt.annotate('',xy=(x_x[xm],Fstar_x[xm]),xycoords='data',xytext=(x_x[xm],Fhat_x[xm]),textcoords='data',arrowprops=dict(arrowstyle='<->'));\n",
    "plt.xlabel(r'$x$');plt.ylabel('cdf');plt.legend(loc='upper left');plt.grid();plt.xlim(xmin,xmax);"
   ]
  },
  {
   "cell_type": "code",
   "execution_count": 8,
   "id": "a5748239",
   "metadata": {
    "slideshow": {
     "slide_type": "subslide"
    }
   },
   "outputs": [
    {
     "data": {
      "image/png": "[encoded data removed]",
      "text/plain": [
       "<Figure size 800x500 with 1 Axes>"
      ]
     },
     "metadata": {},
     "output_type": "display_data"
    }
   ],
   "source": [
    "plt.plot(x_x,Fhat_x,'b-',lw=2,label=r'$\\hat{F}(x,\\{x_i\\})$'); plt.plot(x_x,Fstar_x,'r--',lw=2,label=r'$F^*(x)$');plt.text(x_x[xp],(Fstar_x+Fhat_x)[xp]/2,r'$T_{+}$',ha='right');plt.annotate('',xy=(x_x[xp],Fstar_x[xp]),xycoords='data',xytext=(x_x[xp],Fhat_x[xp]),textcoords='data',arrowprops=dict(arrowstyle='<->'));plt.text(x_x[xm],(Fstar_x+Fhat_x)[xm]/2,r'$T_{-}$',ha='right');plt.annotate('',xy=(x_x[xm],Fstar_x[xm]),xycoords='data',xytext=(x_x[xm],Fhat_x[xm]),textcoords='data',arrowprops=dict(arrowstyle='<->'));plt.xlabel(r'$x$');plt.ylabel('cdf');plt.legend(loc='upper left');plt.grid();plt.xlim(xmin,xmax);"
   ]
  },
  {
   "cell_type": "code",
   "execution_count": 9,
   "id": "db5a10b5",
   "metadata": {
    "slideshow": {
     "slide_type": "fragment"
    }
   },
   "outputs": [
    {
     "data": {
      "text/plain": [
       "(0.4385885340551385, 0.6400000000000001, 0.06562049755411004, -1.82)"
      ]
     },
     "execution_count": 9,
     "metadata": {},
     "output_type": "execute_result"
    }
   ],
   "source": [
    "max(Fstar_x-Fhat_x),x_x[xp+1], max(Fhat_x-Fstar_x), x_x[xm] "
   ]
  },
  {
   "cell_type": "markdown",
   "id": "4c15db53",
   "metadata": {
    "slideshow": {
     "slide_type": "fragment"
    }
   },
   "source": [
    "We’ve indicated on the plot the location of $T^{+}$ and $T^{-}$ on the plot. We notice\n",
    "that $T^{+} =\n",
    "\\sup_x[F^*(x)-\\hat{F}(x;\\{x_i\\})]\\approx 0.439$\n",
    "occurs right before the data point $x_i=0.64$ and $T^{-} =\n",
    "\\sup_x[\\hat{F}(x;\\{x_i\\})-F^*(x)]\\approx 0.066$ occurs right at the data point $x_i=-1.82$."
   ]
  },
  {
   "cell_type": "markdown",
   "id": "bb5bdde2",
   "metadata": {
    "slideshow": {
     "slide_type": "subslide"
    }
   },
   "source": [
    "For continuous hypothesized dists, min & max of\n",
    "of $[F^*(x)-\\hat{F}(x;\\{x_i\\})]$ occurs the data points, where the edf\n",
    "$\\hat{F}(x;\\{x_i\\})$ jumps. $T^{-}$\n",
    "occurs right after a jump & $T^{+}$ right before a jump. Don’t actually need to check the cdfs for all $x$ values, only\n",
    "those right before and after actual data points:"
   ]
  },
  {
   "cell_type": "code",
   "execution_count": 10,
   "id": "9c133c65",
   "metadata": {
    "slideshow": {
     "slide_type": "fragment"
    }
   },
   "outputs": [
    {
     "data": {
      "image/png": "[encoded data removed]",
      "text/plain": [
       "<Figure size 800x500 with 1 Axes>"
      ]
     },
     "metadata": {},
     "output_type": "display_data"
    }
   ],
   "source": [
    "xsort_i = np.sort(x_i); Fstar_i = stats.norm.cdf(xsort_i);  plt.plot(x_x,Fhat_x,'b-',lw=2,label=r'$\\hat{F}(x,\\{x_i\\})$');\n",
    "plt.plot(x_x,Fstar_x,'r--',lw=2,label=r'$F^*(x)$');plt.plot(xsort_i,Fstar_i,'k*',ms=10);\n",
    "plt.text(x_x[xp],(Fstar_x+Fhat_x)[xp]/2,r'$T_{+}$',ha='right');plt.annotate('',xy=(x_x[xp],Fstar_x[xp]),xycoords='data',xytext=(x_x[xp],Fhat_x[xp]),textcoords='data',arrowprops=dict(arrowstyle='<->'));\n",
    "plt.text(x_x[xm],(Fstar_x+Fhat_x)[xm]/2,r'$T_{-}$',ha='right');plt.annotate('',xy=(x_x[xm],Fstar_x[xm]),xycoords='data',xytext=(x_x[xm],Fhat_x[xm]),textcoords='data',arrowprops=dict(arrowstyle='<->'));\n",
    "plt.xlabel(r'$x$');plt.ylabel('cdf');plt.legend(loc='upper left');plt.grid();plt.xlim(xmin,xmax);\n"
   ]
  },
  {
   "cell_type": "markdown",
   "id": "358aae4c",
   "metadata": {
    "slideshow": {
     "slide_type": "subslide"
    }
   },
   "source": [
    "Define two arrays for the edf $\\hat{F}(x;\\{x_i\\})$: `Fhatp_i` is $\\hat{F}(x^{(j)}-\\epsilon;\\{x_i\\})=\\frac{j-1}{n}$, used to calculate $T^{+}=\\sup_x\\left(F^*(x)-\\hat{F}(x;\\{x_i\\})\\right)$ (since $F^*(x)-\\hat{F}(x;\\{x_i\\})$ is largest when $x$ is just below a value $x^{(j)}$ at which $\\hat{F}(x;\\{x_i\\})$ jumps.  (Recall order statistics $\\{x^{(i)}\\}$ i.e., the data $\\{x_i\\}$ sorted in ascending order.)"
   ]
  },
  {
   "cell_type": "code",
   "execution_count": 11,
   "id": "19c19453",
   "metadata": {
    "slideshow": {
     "slide_type": "fragment"
    }
   },
   "outputs": [
    {
     "data": {
      "text/plain": [
       "array([0. , 0.1, 0.2, 0.3, 0.4, 0.5, 0.6, 0.7, 0.8, 0.9])"
      ]
     },
     "execution_count": 11,
     "metadata": {},
     "output_type": "execute_result"
    }
   ],
   "source": [
    "n = len(x_i); Fhatp_i = np.arange(n)/n; Fhatp_i"
   ]
  },
  {
   "cell_type": "markdown",
   "id": "f14950ca",
   "metadata": {
    "slideshow": {
     "slide_type": "fragment"
    }
   },
   "source": [
    "`Fhatm_i` is used for calculating $T^{-}=\\sup_x\\left(\\hat{F}(x;\\{x_i\\})-F^*(x)\\right)$, and is $\\hat{F}(x^{(j)})=\\frac{j}{n}$ (since $\\hat{F}(x;\\{x_i\\})-F^*(x)$ is largest when $x$ is at (or just above) a value $x^{(j)}$ at which $\\hat{F}(x;\\{x_i\\})$ jumps. "
   ]
  },
  {
   "cell_type": "code",
   "execution_count": 12,
   "id": "ef825618",
   "metadata": {
    "slideshow": {
     "slide_type": "fragment"
    }
   },
   "outputs": [
    {
     "data": {
      "text/plain": [
       "array([0.1, 0.2, 0.3, 0.4, 0.5, 0.6, 0.7, 0.8, 0.9, 1. ])"
      ]
     },
     "execution_count": 12,
     "metadata": {},
     "output_type": "execute_result"
    }
   ],
   "source": [
    "Fhatm_i = (1+np.arange(n))/n; Fhatm_i"
   ]
  },
  {
   "cell_type": "markdown",
   "id": "418a3731",
   "metadata": {
    "slideshow": {
     "slide_type": "fragment"
    }
   },
   "source": [
    "We compare these to `Fstar_i` which is just the continuous hypothesized cdf $F^*(x^{(i)})$:"
   ]
  },
  {
   "cell_type": "code",
   "execution_count": 13,
   "id": "209077e1",
   "metadata": {
    "slideshow": {
     "slide_type": "fragment"
    }
   },
   "outputs": [
    {
     "data": {
      "text/plain": [
       "array([0.0343795 , 0.2118554 , 0.44828321, 0.7389137 , 0.7642375 ,\n",
       "       0.79102991, 0.86214343, 0.86864312, 0.95254032, 0.95907049])"
      ]
     },
     "execution_count": 13,
     "metadata": {},
     "output_type": "execute_result"
    }
   ],
   "source": [
    "Fstar_i"
   ]
  },
  {
   "cell_type": "markdown",
   "id": "2b8a02b1",
   "metadata": {
    "slideshow": {
     "slide_type": "subslide"
    }
   },
   "source": [
    "We find, as before, that $F^*(x)-\\hat{F}(x;\\{x_i\\})$ reaches its maximum of $0.439$ when $x$ is just below $0.64$, and $\\hat{F}(x;\\{x_i\\})-F^*(x)$ reaches its maximum of $0.066$ when $x=-1.82$."
   ]
  },
  {
   "cell_type": "code",
   "execution_count": 14,
   "id": "a3beb3a6",
   "metadata": {
    "slideshow": {
     "slide_type": "fragment"
    }
   },
   "outputs": [
    {
     "data": {
      "text/plain": [
       "(0.43891370030713844, 0.64)"
      ]
     },
     "execution_count": 14,
     "metadata": {},
     "output_type": "execute_result"
    }
   ],
   "source": [
    "Tp=max(Fstar_i-Fhatp_i); Tp, xsort_i[np.argmax(Fstar_i-Fhatp_i)]"
   ]
  },
  {
   "cell_type": "code",
   "execution_count": 15,
   "id": "6399a605",
   "metadata": {
    "slideshow": {
     "slide_type": "fragment"
    }
   },
   "outputs": [
    {
     "data": {
      "text/plain": [
       "(0.06562049755411004, -1.82)"
      ]
     },
     "execution_count": 15,
     "metadata": {},
     "output_type": "execute_result"
    }
   ],
   "source": [
    "Tm=max(Fhatm_i-Fstar_i); Tm,xsort_i[np.argmax(Fhatm_i-Fstar_i)]"
   ]
  },
  {
   "cell_type": "markdown",
   "id": "6c0a9762",
   "metadata": {
    "slideshow": {
     "slide_type": "fragment"
    }
   },
   "source": [
    "Note that this is more reliable than trying to evaluate $F^*(x)$ and $\\hat{F}(x;\\{x_i\\})$ at a bunch of closely-chosen $x$ values, since the data points $\\{x_i\\}$ might fall between them."
   ]
  },
  {
   "cell_type": "markdown",
   "id": "15772d20",
   "metadata": {
    "slideshow": {
     "slide_type": "slide"
    }
   },
   "source": [
    "## $p$-Value for Continuous Distributions"
   ]
  },
  {
   "cell_type": "markdown",
   "id": "db1be6a3",
   "metadata": {
    "slideshow": {
     "slide_type": "fragment"
    }
   },
   "source": [
    "To get the $p$-value assocated with $T^{+}$ and/or $T^{-}$, we need to\n",
    "consider their null distribution; for either statistic, the null\n",
    "distribution is the Kolmogorov distribution, with a single parameter\n",
    "$n$. This distribution has a number of forms and somewhat complicated\n",
    "derivations,<span id=\"fm1\">[<sup>1</sup>](#fn1) but conveniently it is implemented in scipy, so we can find the one-sided $p$-value associated with$T^{+}\\approx\n",
    "0.439$, and likewise with $T^{-}\\approx 0.066$:"
   ]
  },
  {
   "cell_type": "markdown",
   "id": "35f990eb",
   "metadata": {
    "slideshow": {
     "slide_type": "skip"
    }
   },
   "source": [
    "<span id=\"fn1\">[<sup>1</sup>](#fm1) A relatively straightforward form appears in\n",
    "Z. W. Birnbaum and Fred H. Tingey, *Annals of Mathematical Statistics*\n",
    "**22**, 592 (1951),</span> available at\n",
    "<http://dx.doi.org/10.1214/aoms/1177729550>:\n",
    "$$P({\\color{royalblue}{T^{\\pm}}}{\\mathbin{\\ge}}t^{\\pm})\n",
    "  = t^{\\pm}\\sum_{j=0}^{[n(1-t^{\\pm})]} \\binom{n}{j}\n",
    "  \\left(1-t^{\\pm}-\\frac{j}{n}\\right)^{n-j}\n",
    "  \\left(t^{\\pm}+\\frac{j}{n}\\right)^{j-1}$$ where $[n(1-t^{\\pm})]$ is the\n",
    "largest integer less than or equal to $n(1-t^{\\pm})$, and\n",
    "$\\binom{n}{j}=\\frac{n!}{j!(n-j)!}$ is the usual binomial\n",
    "<span><span>coëfficient</span></span>. Note that we can split out the\n",
    "$j=0$ term in the sum and write $$\n",
    "  \\label{e:Ktail}\n",
    "  P({\\color{royalblue}{T^{\\pm}}}{\\mathbin{\\ge}}t^{\\pm})\n",
    "  = (1-t^{\\pm})^n +\n",
    "  t^{\\pm}\\sum_{j=1}^{[n(1-t^{\\pm})]} \\binom{n}{j}\n",
    "  \\left(1-t^{\\pm}-\\frac{j}{n}\\right)^{n-j}\n",
    "  \\left(t^{\\pm}+\\frac{j}{n}\\right)^{j-1}\n",
    "  \\ ;$$ in this form, it’s apparent that\n",
    "$P({\\color{royalblue}{T^{\\pm}}} \\ge 0)=1$. We can understand that\n",
    "$T^{+}$ and $T^{-}$ cannot be negative, since $\\hat{F}(x;\\{x_i\\})$ will\n",
    "be zero for $x$ below the lowest value in the sample (which means\n",
    "$F^*(x)-\\hat{F}(x;\\{x_i\\})$ cannot be negative everywhere) and\n",
    "$\\hat{F}(x;\\{x_i\\})$ will be one for $x$ above the highest value in the\n",
    "sample (which means $\\hat{F}(x;\\{x_i\\})-F^*(x)$ cannot be negative\n",
    "everywhere)."
   ]
  },
  {
   "cell_type": "code",
   "execution_count": 16,
   "id": "1ceb6dc2",
   "metadata": {
    "slideshow": {
     "slide_type": "fragment"
    }
   },
   "outputs": [
    {
     "data": {
      "text/plain": [
       "(0.014275830316232892, 0.8837313552371744)"
      ]
     },
     "execution_count": 16,
     "metadata": {},
     "output_type": "execute_result"
    }
   ],
   "source": [
    "stats.ksone(n).sf(Tp), stats.ksone(n).sf(Tm)"
   ]
  },
  {
   "cell_type": "markdown",
   "id": "f0b679ef",
   "metadata": {
    "slideshow": {
     "slide_type": "fragment"
    }
   },
   "source": [
    "And so the two-sided $p$-value is $0.028$, which indicates that these\n",
    "data are not consistent, at the 3% level, with being sampled from a\n",
    "standard normal distribution."
   ]
  },
  {
   "cell_type": "markdown",
   "id": "3b4823d8",
   "metadata": {
    "slideshow": {
     "slide_type": "subslide"
    }
   },
   "source": [
    "Incidentally, we can plot the tail probability for this sample size:"
   ]
  },
  {
   "cell_type": "code",
   "execution_count": 17,
   "id": "cb4d1ebb",
   "metadata": {
    "slideshow": {
     "slide_type": "fragment"
    }
   },
   "outputs": [
    {
     "data": {
      "image/png": "[encoded data removed]",
      "text/plain": [
       "<Figure size 800x500 with 1 Axes>"
      ]
     },
     "metadata": {},
     "output_type": "display_data"
    }
   ],
   "source": [
    "Tpm_t = np.linspace(0,1,100); tailprob_t = stats.ksone(n).sf(Tpm_t)\n",
    "plt.plot(Tpm_t,tailprob_t,label='exact'); plt.plot(Tpm_t,np.exp(-2*n*Tpm_t**2),ls='--',label='asymptotic');\n",
    "plt.legend(); plt.xlabel(r'$t^{\\pm}$');plt.ylabel(r'$P(T^{\\pm}>t^{\\pm})$');plt.title(r'Kolmogorov tail probs for $n=%d$'%n);\n",
    "plt.xlim(0,1);plt.ylim(0,1);plt.grid(True);"
   ]
  },
  {
   "cell_type": "markdown",
   "id": "15cd49c5",
   "metadata": {
    "slideshow": {
     "slide_type": "subslide"
    }
   },
   "source": [
    "For large $n$ (more than about $40$), we can use the asymptotic\n",
    "expression (also plotted above) $$P({\\color{royalblue}{T^{\\pm}}}{\\mathbin{\\ge}}t^{\\pm})\n",
    "  \\approx e^{-2n(t^{\\pm})^2}$$ Obviously, it won’t be good for $n=10$,\n",
    "but we can check it:"
   ]
  },
  {
   "cell_type": "code",
   "execution_count": 18,
   "id": "cbe6897d",
   "metadata": {
    "slideshow": {
     "slide_type": "fragment"
    }
   },
   "outputs": [
    {
     "data": {
      "text/plain": [
       "(0.43891370030713844, 0.014275830316232892, 0.021218014313645693)"
      ]
     },
     "execution_count": 18,
     "metadata": {},
     "output_type": "execute_result"
    }
   ],
   "source": [
    "Tp,stats.ksone(n).sf(Tp),np.exp(-2*n*Tp**2)"
   ]
  },
  {
   "cell_type": "markdown",
   "id": "12790143",
   "metadata": {
    "slideshow": {
     "slide_type": "fragment"
    }
   },
   "source": [
    "and the one-sided $p$-value of 2.1% for $T^{\\pm}=0.439$ is indeed a bit off from the exact value of 1.4%.  "
   ]
  },
  {
   "cell_type": "markdown",
   "id": "9d22e57c",
   "metadata": {
    "slideshow": {
     "slide_type": "subslide"
    }
   },
   "source": [
    "The difference is not so easy to see on the linear scale, but it's more apparent if you plot the $p$-value logarithmically:"
   ]
  },
  {
   "cell_type": "code",
   "execution_count": 19,
   "id": "2fef1fed",
   "metadata": {
    "slideshow": {
     "slide_type": "fragment"
    }
   },
   "outputs": [
    {
     "data": {
      "image/png": "[encoded data removed]",
      "text/plain": [
       "<Figure size 800x500 with 1 Axes>"
      ]
     },
     "metadata": {},
     "output_type": "display_data"
    }
   ],
   "source": [
    "Tpm_t = np.linspace(0,1,100)\n",
    "tailprob_t = stats.ksone(n).sf(Tpm_t)\n",
    "plt.semilogy(Tpm_t,tailprob_t,label='exact'); plt.semilogy(Tpm_t,np.exp(-2*n*Tpm_t**2),ls='--',label='asymptotic');\n",
    "plt.legend();plt.xlabel(r'$t^{\\pm}$');plt.ylabel(r'$P(T^{\\pm}>t^{\\pm})$');plt.title(r'Kolmogorov tail probs for $n=%d$'%n);\n",
    "plt.xlim(0,1);plt.ylim(1e-6,1);plt.grid(True);"
   ]
  },
  {
   "cell_type": "markdown",
   "id": "85c8701a",
   "metadata": {
    "slideshow": {
     "slide_type": "slide"
    }
   },
   "source": [
    "## Distribution Confidence Interval"
   ]
  },
  {
   "cell_type": "markdown",
   "id": "308476b9",
   "metadata": {
    "slideshow": {
     "slide_type": "fragment"
    }
   },
   "source": [
    "We can use the Kolmogorov test to define a confidence interval\n",
    "associated with the point estimate $\\hat{F}(x;\\{x_i\\})$. E.g., for a 95%\n",
    "confidence interval, we should take the 97.5th percentile of the\n",
    "Kolmogorov distribution, $t^{\\pm}_{0.975}=t_{0.95}$, and set the ends of\n",
    "the confidence interval as $$\\hat{F}(x;\\{x_i\\}) \\pm t_{0.95}\n",
    "  \\ ;$$ if the hypothesized cdf is within those limits, the empirical\n",
    "cdf will be close enough that the $p$-value of the two-sided Kolmogorov\n",
    "test will be above $5\\%$. Of course, we also know that for *any* cdf,\n",
    "$0\\le F(x)\\le 1$, so if the upper end of the interval goes above $1$, we\n",
    "set it to $1$, and likewise if the lower end goes below zero.  We can get\n",
    "the quantiles of the Kolmogorov distribution from SciPy or look them up,\n",
    "e.g., in Table A13 of Conover.  So for example, that table says\n",
    "that (for $n=10$) the threshold for a one-tailed test at the 97.5% level, or a\n",
    "two-tailed test at 95%, is $0.409$, which is also the value that SciPy gives us:"
   ]
  },
  {
   "cell_type": "code",
   "execution_count": 20,
   "id": "77f697f6",
   "metadata": {
    "slideshow": {
     "slide_type": "fragment"
    }
   },
   "outputs": [
    {
     "data": {
      "text/plain": [
       "0.4092461395823648"
      ]
     },
     "execution_count": 20,
     "metadata": {},
     "output_type": "execute_result"
    }
   ],
   "source": [
    "T95 = stats.ksone(n).isf(0.025); T95"
   ]
  },
  {
   "cell_type": "markdown",
   "id": "11d5436f",
   "metadata": {
    "slideshow": {
     "slide_type": "subslide"
    }
   },
   "source": [
    "Now we can construct and plot the confidence interval on the cdf:"
   ]
  },
  {
   "cell_type": "code",
   "execution_count": 21,
   "id": "f97a0d48",
   "metadata": {},
   "outputs": [
    {
     "data": {
      "image/png": "[encoded data removed]",
      "text/plain": [
       "<Figure size 800x500 with 1 Axes>"
      ]
     },
     "metadata": {},
     "output_type": "display_data"
    }
   ],
   "source": [
    "F95lower_x = np.maximum(0.,Fhat_x-T95); F95upper_x = np.minimum(1.,Fhat_x+T95)\n",
    "plt.fill_between(x_x,F95upper_x,F95lower_x,edgecolor='b',color=[0.9,0.9,0.9],label=r'95% CI');\n",
    "plt.plot(x_x,Fhat_x,'b-',lw=2,label=r'$\\hat{F}(x,\\{x_i\\})$');plt.plot(x_x,Fstar_x,'r--',lw=2,label=r'$F^*(x)$');\n",
    "plt.xlabel(r'$x$');plt.ylabel('cdf');plt.xlim(xmin,xmax);plt.ylim(0,1);plt.legend(loc='upper left');plt.grid();"
   ]
  },
  {
   "cell_type": "markdown",
   "id": "ea3b4c2b",
   "metadata": {
    "slideshow": {
     "slide_type": "fragment"
    }
   },
   "source": [
    "Also: standard normal CDF for reference. it passes outside the region associated with the 95%\n",
    "confidence interval, which we expect since we found a two-sided\n",
    "$p$-value of $0.028<0.05$."
   ]
  },
  {
   "cell_type": "markdown",
   "id": "301f8833",
   "metadata": {
    "slideshow": {
     "slide_type": "slide"
    }
   },
   "source": [
    "## $p$-Value for Discrete Distributions"
   ]
  },
  {
   "cell_type": "markdown",
   "id": "22f8cb4d",
   "metadata": {
    "slideshow": {
     "slide_type": "subslide"
    }
   },
   "source": [
    "The Kolomogorov distribution is only the correct null distribution for ${\\color{royalblue}{T^{\\pm}}}$ if the hypothesized distribution $F^*(x)$ is continuous.  (Because it assumes that $F({\\color{royalblue}{X}})$ is a uniform random variable, which is clearly not the case if only some values of $F(x)$ are possible.) If it is discrete, the distribution of the Kolmogorov statistic depends on the specifics of $F(x)$.  Conover gives an algorithm for this in section 6.1, but it's very tricky to get right (especially given that floating point roundoff can mess up the computation of discrete values), so it's best to just use a Monte Carlo, which I believe is what the `dgof` (discrete goodness-of-fit tests) <https://cran.r-project.org/package=dgof> in R does.  Consider the example in Conover, where the hypothesized distribution is uniform over $x=\\{1,2,3,4,5\\}$ and the actual sample is (after ordering) $x^{(i)}=\\{1,1,1,2,2,2,3,3,3,3\\}$.  The hypothesized discrete cdf is\n",
    "$$\n",
    "F^*(x) =\n",
    "\\begin{cases}\n",
    "0 & x<1 \\\\\n",
    "0.2 & 1\\le x < 2 \\\\\n",
    "0.4 & 2\\le x < 3 \\\\\n",
    "0.6 & 3\\le x < 4 \\\\\n",
    "0.8 & 4\\le x < 5 \\\\\n",
    "1 & 5\\le x\n",
    "\\end{cases}\n",
    "$$\n",
    "which is $x/5$ at each allowed value for ${\\color{royalblue}{X}}$, and $(x-1)/5$ just below each of those values, and constant in between."
   ]
  },
  {
   "cell_type": "markdown",
   "id": "8e036254",
   "metadata": {
    "slideshow": {
     "slide_type": "subslide"
    }
   },
   "source": [
    "Since both $F^*(x)$ and $\\hat{F}(x;\\{x_i\\})$ have discontinuous jumps, we have to be a bit careful about automating the calculation of the Kolmogorov statistics.  First, let's plot the cdfs.  We just need to evaluate the two cdfs at the possible values at $x$ and also just below the possible values:"
   ]
  },
  {
   "cell_type": "code",
   "execution_count": 22,
   "id": "d250f21e",
   "metadata": {
    "slideshow": {
     "slide_type": "fragment"
    }
   },
   "outputs": [
    {
     "data": {
      "text/plain": [
       "(array([0. , 0.2, 0.4, 0.6, 0.8]),\n",
       " array([0.2, 0.4, 0.6, 0.8, 1. ]),\n",
       " array([0. , 0.3, 0.6, 1. , 1. ]),\n",
       " array([0.3, 0.6, 1. , 1. , 1. ]))"
      ]
     },
     "execution_count": 22,
     "metadata": {},
     "output_type": "execute_result"
    }
   ],
   "source": [
    "discx_i = np.array([1,1,1,2,2,2,3,3,3,3]); discx_x = np.array([1,2,3,4,5]); discFstar_x = 0.2*discx_x\n",
    "discFstarlow_x = 0.2*(discx_x-1); discFhat_x = np.mean(discx_i[None,:] <= discx_x[:,None],axis=-1)\n",
    "discFhatlow_x = np.mean(discx_i[None,:] < discx_x[:,None],axis=-1)\n",
    "discFstarlow_x, discFstar_x, discFhatlow_x, discFhat_x"
   ]
  },
  {
   "cell_type": "markdown",
   "id": "cd935870",
   "metadata": {
    "slideshow": {
     "slide_type": "subslide"
    }
   },
   "source": [
    "We now have pairs of discrete arrays, which we \"interleave\" to get an array of twice the length:"
   ]
  },
  {
   "cell_type": "code",
   "execution_count": 23,
   "id": "f97b261e",
   "metadata": {
    "slideshow": {
     "slide_type": "fragment"
    }
   },
   "outputs": [
    {
     "data": {
      "text/plain": [
       "array([1, 1, 2, 2, 3, 3, 4, 4, 5, 5])"
      ]
     },
     "execution_count": 23,
     "metadata": {},
     "output_type": "execute_result"
    }
   ],
   "source": [
    "n_x = len(discx_x)\n",
    "n_allx = 2*n_x\n",
    "discx_allx = np.empty(n_allx,dtype = discx_x.dtype)\n",
    "discx_allx[0::2] = discx_x\n",
    "discx_allx[1::2] = discx_x\n",
    "discx_allx"
   ]
  },
  {
   "cell_type": "code",
   "execution_count": 24,
   "id": "53e954a5",
   "metadata": {
    "slideshow": {
     "slide_type": "fragment"
    }
   },
   "outputs": [
    {
     "data": {
      "text/plain": [
       "array([0. , 0.2, 0.2, 0.4, 0.4, 0.6, 0.6, 0.8, 0.8, 1. ])"
      ]
     },
     "execution_count": 24,
     "metadata": {},
     "output_type": "execute_result"
    }
   ],
   "source": [
    "discFstar_allx = np.empty(n_allx,dtype = discFstar_x.dtype)\n",
    "discFstar_allx[0::2] = discFstarlow_x\n",
    "discFstar_allx[1::2] = discFstar_x\n",
    "discFstar_allx"
   ]
  },
  {
   "cell_type": "code",
   "execution_count": 25,
   "id": "0f9053a8",
   "metadata": {
    "slideshow": {
     "slide_type": "fragment"
    }
   },
   "outputs": [
    {
     "data": {
      "text/plain": [
       "array([0. , 0.3, 0.3, 0.6, 0.6, 1. , 1. , 1. , 1. , 1. ])"
      ]
     },
     "execution_count": 25,
     "metadata": {},
     "output_type": "execute_result"
    }
   ],
   "source": [
    "discFhat_allx = np.empty(n_allx,dtype = discFhat_x.dtype)\n",
    "discFhat_allx[0::2] = discFhatlow_x\n",
    "discFhat_allx[1::2] = discFhat_x\n",
    "discFhat_allx"
   ]
  },
  {
   "cell_type": "code",
   "execution_count": 26,
   "id": "1891ad60",
   "metadata": {
    "slideshow": {
     "slide_type": "subslide"
    }
   },
   "outputs": [
    {
     "data": {
      "image/png": "[encoded data removed]",
      "text/plain": [
       "<Figure size 800x500 with 1 Axes>"
      ]
     },
     "metadata": {},
     "output_type": "display_data"
    }
   ],
   "source": [
    "plt.plot(discx_allx,discFhat_allx,'b-',lw=2,label=r'$\\hat{F}(x,\\{x_i\\})$');\n",
    "plt.plot(discx_allx,discFstar_allx,'r--',lw=2,label=r'$F^*(x)$');\n",
    "plt.xlabel(r'$x$');plt.ylabel('cdf');plt.legend(loc='upper left');plt.grid();"
   ]
  },
  {
   "cell_type": "markdown",
   "id": "5d93aa26",
   "metadata": {
    "slideshow": {
     "slide_type": "fragment"
    }
   },
   "source": [
    "You can see pretty clearly by eye that $T^{+}=\\sup_x\\left(F^*(x)-\\hat{F}(x;\\{x_i\\})\\right)=0$ and $T^{-}=\\sup_x\\left(\\hat{F}(x;\\{x_i\\})-F^*(x)\\right)=0.4$, and also that these values occur not at single $x$ values, but continuously between pairs of possible $x$ values."
   ]
  },
  {
   "cell_type": "markdown",
   "id": "d32d5055",
   "metadata": {
    "slideshow": {
     "slide_type": "subslide"
    }
   },
   "source": [
    "So we only need to check the statistic value in between $x$ values, or equivalently at each possible $x$ value (since we know that $F^*(x)=\\hat{F}(x;\\{x_i\\})=1$ if $x$ is the maximum allowed value, and we need to include zero as a possible value in case all the others are negative, as in the case of $T^{+}$ in this example):"
   ]
  },
  {
   "cell_type": "code",
   "execution_count": 27,
   "id": "1aa86e2a",
   "metadata": {
    "slideshow": {
     "slide_type": "fragment"
    }
   },
   "outputs": [
    {
     "data": {
      "text/plain": [
       "0.0"
      ]
     },
     "execution_count": 27,
     "metadata": {},
     "output_type": "execute_result"
    }
   ],
   "source": [
    "discTp = max(discFstar_x-discFhat_x); discTp"
   ]
  },
  {
   "cell_type": "code",
   "execution_count": 28,
   "id": "c2fc27e0",
   "metadata": {
    "slideshow": {
     "slide_type": "fragment"
    }
   },
   "outputs": [
    {
     "data": {
      "text/plain": [
       "0.0"
      ]
     },
     "execution_count": 28,
     "metadata": {},
     "output_type": "execute_result"
    }
   ],
   "source": [
    "max(discFstar_allx-discFhat_allx)"
   ]
  },
  {
   "cell_type": "code",
   "execution_count": 29,
   "id": "55ad6cdf",
   "metadata": {
    "slideshow": {
     "slide_type": "fragment"
    }
   },
   "outputs": [
    {
     "data": {
      "text/plain": [
       "0.3999999999999999"
      ]
     },
     "execution_count": 29,
     "metadata": {},
     "output_type": "execute_result"
    }
   ],
   "source": [
    "discTm = max(discFhat_x-discFstar_x); discTm"
   ]
  },
  {
   "cell_type": "code",
   "execution_count": 30,
   "id": "ba6e6ce5",
   "metadata": {
    "slideshow": {
     "slide_type": "fragment"
    }
   },
   "outputs": [
    {
     "data": {
      "text/plain": [
       "0.3999999999999999"
      ]
     },
     "execution_count": 30,
     "metadata": {},
     "output_type": "execute_result"
    }
   ],
   "source": [
    "max(discFhat_allx-discFstar_allx)"
   ]
  },
  {
   "cell_type": "markdown",
   "id": "3ede570f",
   "metadata": {
    "slideshow": {
     "slide_type": "subslide"
    }
   },
   "source": [
    "So actually the interleaving is only necessary to make a nice plot; in fact we can manage that with matplotlib's `step` function:"
   ]
  },
  {
   "cell_type": "code",
   "execution_count": 31,
   "id": "263cc25d",
   "metadata": {
    "slideshow": {
     "slide_type": "fragment"
    }
   },
   "outputs": [
    {
     "data": {
      "image/png": "[encoded data removed]",
      "text/plain": [
       "<Figure size 800x500 with 1 Axes>"
      ]
     },
     "metadata": {},
     "output_type": "display_data"
    }
   ],
   "source": [
    "discx_plot = np.concatenate(([0],discx_x,[6])); discFhat_plot = np.concatenate(([0.],discFhat_x,[1.]))\n",
    "discFstar_plot = np.concatenate(([0.],discFstar_x,[1.]))\n",
    "plt.step(discx_plot,discFhat_plot,'b',where='post',lw=2,label=r'$\\hat{F}(x,\\{x_i\\})$');\n",
    "plt.step(discx_plot,discFstar_plot,'r',linestyle='--',where='post',lw=2,label=r'$F^*(x)$');\n",
    "plt.xlabel(r'$x$');plt.ylabel('cdf');plt.legend(loc='upper left');plt.grid(True);"
   ]
  },
  {
   "cell_type": "markdown",
   "id": "97619c95",
   "metadata": {
    "slideshow": {
     "slide_type": "subslide"
    }
   },
   "source": [
    "One more thing to watch out for is that roundoff error has made our calculated $t^{-}$ value not quite equal to its discrete value of $0.4$:"
   ]
  },
  {
   "cell_type": "code",
   "execution_count": 32,
   "id": "963c86ae",
   "metadata": {
    "slideshow": {
     "slide_type": "fragment"
    }
   },
   "outputs": [
    {
     "data": {
      "text/plain": [
       "0.3999999999999999"
      ]
     },
     "execution_count": 32,
     "metadata": {},
     "output_type": "execute_result"
    }
   ],
   "source": [
    "max(discFhat_x-discFstar_x)"
   ]
  },
  {
   "cell_type": "markdown",
   "id": "670fc2be",
   "metadata": {
    "slideshow": {
     "slide_type": "fragment"
    }
   },
   "source": [
    "Now, we know that in this case, the only possible values of $T^{\\pm}$ are integer multiples of $0.1$, or in general integer multiples of $\\frac{1}{5n}$, but the discrete values of $F^*(x)$ will not always be so simple to describe, so the easiest thing is just to round off to, say, 8 decimal places<span id=\"fm3\">[<sup>3</sup>](#fn3), which is a lot bigger than the floating point roundoff:"
   ]
  },
  {
   "cell_type": "markdown",
   "id": "25f2825a",
   "metadata": {
    "slideshow": {
     "slide_type": "skip"
    }
   },
   "source": [
    "<span id=\"fn3\">[<sup>3</sup>](#fm3) Of course, not every rounded decimal is exactly representable in floating point, but if we do the same rounding on all of the statistics after we compute them, we can ensure that the unique values should be the same.</span>"
   ]
  },
  {
   "cell_type": "code",
   "execution_count": 33,
   "id": "40e9d473",
   "metadata": {
    "slideshow": {
     "slide_type": "fragment"
    }
   },
   "outputs": [
    {
     "data": {
      "text/plain": [
       "0.4"
      ]
     },
     "execution_count": 33,
     "metadata": {},
     "output_type": "execute_result"
    }
   ],
   "source": [
    "discTm = np.round(max(discFhat_x-discFstar_x),8); discTm"
   ]
  },
  {
   "cell_type": "code",
   "execution_count": 34,
   "id": "30470faf",
   "metadata": {
    "slideshow": {
     "slide_type": "fragment"
    }
   },
   "outputs": [
    {
     "data": {
      "text/plain": [
       "0.0"
      ]
     },
     "execution_count": 34,
     "metadata": {},
     "output_type": "execute_result"
    }
   ],
   "source": [
    "discTp = np.round(max(discFstar_x-discFhat_x),8); discTp"
   ]
  },
  {
   "cell_type": "markdown",
   "id": "78f12b82",
   "metadata": {
    "slideshow": {
     "slide_type": "subslide"
    }
   },
   "source": [
    "So anyway we have $t^{+}=0.0$ and $t=t^{-}=0.4$.  We could use Conover's method to get the associated $p$-value, but instead we'll do a Monte Carlo.  Note that with $n=10$ data points and five possible values, there are $5^{10}=9,765,625$ possible data sets, which happen (in this case) to be equally likely.  Rather than enumerating those, we'll do a slightly smaller Monte Carlo:"
   ]
  },
  {
   "cell_type": "code",
   "execution_count": 35,
   "id": "413ffb65",
   "metadata": {
    "slideshow": {
     "slide_type": "fragment"
    }
   },
   "outputs": [
    {
     "data": {
      "text/plain": [
       "9765625"
      ]
     },
     "execution_count": 35,
     "metadata": {},
     "output_type": "execute_result"
    }
   ],
   "source": [
    "np.random.seed(20191021); Nmonte = 10**4; discn = len(discx_i)\n",
    "discx_Ii = stats.randint(1,5+1).rvs(size=(Nmonte,discn))\n",
    "5**n"
   ]
  },
  {
   "cell_type": "markdown",
   "id": "0192eaf6",
   "metadata": {
    "slideshow": {
     "slide_type": "fragment"
    }
   },
   "source": [
    "A sanity check that we got the parameters of the discrete uniform distribution right.  (We could also make a histogram to check if we really wanted to be sure.)"
   ]
  },
  {
   "cell_type": "code",
   "execution_count": 36,
   "id": "d6793900",
   "metadata": {
    "slideshow": {
     "slide_type": "fragment"
    }
   },
   "outputs": [
    {
     "data": {
      "text/plain": [
       "(1, 5)"
      ]
     },
     "execution_count": 36,
     "metadata": {},
     "output_type": "execute_result"
    }
   ],
   "source": [
    "np.min(discx_Ii), np.max(discx_Ii)"
   ]
  },
  {
   "cell_type": "code",
   "execution_count": 37,
   "id": "a3b1271e",
   "metadata": {
    "slideshow": {
     "slide_type": "fragment"
    }
   },
   "outputs": [
    {
     "data": {
      "text/plain": [
       "(10000, 5)"
      ]
     },
     "execution_count": 37,
     "metadata": {},
     "output_type": "execute_result"
    }
   ],
   "source": [
    "discFhat_Ix = np.mean(discx_Ii[:,None,:] <= discx_x[None,:,None],axis=-1)\n",
    "discFhat_Ix.shape"
   ]
  },
  {
   "cell_type": "markdown",
   "id": "2201cc57",
   "metadata": {
    "slideshow": {
     "slide_type": "subslide"
    }
   },
   "source": [
    "Now we calculate the statistic $T^{+}{}^{(I)}$ for each Monte Carlo iteration.  We show the pitfall that occurs again if we ignore floating point roundoff:"
   ]
  },
  {
   "cell_type": "code",
   "execution_count": 38,
   "id": "39fbaf7f",
   "metadata": {
    "slideshow": {
     "slide_type": "fragment"
    }
   },
   "outputs": [
    {
     "data": {
      "text/plain": [
       "array([0.00000000e+00, 1.11022302e-16, 1.00000000e-01, 1.00000000e-01,\n",
       "       1.00000000e-01, 2.00000000e-01, 2.00000000e-01, 3.00000000e-01,\n",
       "       3.00000000e-01, 4.00000000e-01, 4.00000000e-01, 5.00000000e-01,\n",
       "       5.00000000e-01])"
      ]
     },
     "execution_count": 38,
     "metadata": {},
     "output_type": "execute_result"
    }
   ],
   "source": [
    "discTp_I = np.max(discFstar_x[None,:]-discFhat_Ix,axis=-1)\n",
    "np.unique(discTp_I)"
   ]
  },
  {
   "cell_type": "markdown",
   "id": "e21a3e88",
   "metadata": {
    "slideshow": {
     "slide_type": "fragment"
    }
   },
   "source": [
    "And how it can be resolved:"
   ]
  },
  {
   "cell_type": "code",
   "execution_count": 39,
   "id": "d1290bb4",
   "metadata": {
    "slideshow": {
     "slide_type": "fragment"
    }
   },
   "outputs": [
    {
     "data": {
      "text/plain": [
       "array([0. , 0.1, 0.2, 0.3, 0.4, 0.5])"
      ]
     },
     "execution_count": 39,
     "metadata": {},
     "output_type": "execute_result"
    }
   ],
   "source": [
    "discTp_I = np.around(np.max(discFstar_x[None,:]-discFhat_Ix,axis=-1),8)\n",
    "np.unique(discTp_I)"
   ]
  },
  {
   "cell_type": "markdown",
   "id": "535cff9e",
   "metadata": {
    "slideshow": {
     "slide_type": "subslide"
    }
   },
   "source": [
    "We do likewise with $T^{-}{}^{(I)}$:"
   ]
  },
  {
   "cell_type": "code",
   "execution_count": 40,
   "id": "695be0e9",
   "metadata": {
    "slideshow": {
     "slide_type": "fragment"
    }
   },
   "outputs": [
    {
     "data": {
      "text/plain": [
       "array([0. , 0.1, 0.1, 0.2, 0.2, 0.3, 0.3, 0.4, 0.4, 0.4, 0.5, 0.5, 0.6,\n",
       "       0.6])"
      ]
     },
     "execution_count": 40,
     "metadata": {},
     "output_type": "execute_result"
    }
   ],
   "source": [
    "discTm_I = np.max(discFhat_Ix-discFstar_x[None,:],axis=-1)\n",
    "np.unique(discTm_I)"
   ]
  },
  {
   "cell_type": "code",
   "execution_count": 41,
   "id": "68f46c28",
   "metadata": {
    "slideshow": {
     "slide_type": "fragment"
    }
   },
   "outputs": [
    {
     "data": {
      "text/plain": [
       "array([0. , 0.1, 0.2, 0.3, 0.4, 0.5, 0.6])"
      ]
     },
     "execution_count": 41,
     "metadata": {},
     "output_type": "execute_result"
    }
   ],
   "source": [
    "discTm_I = np.around(np.max(discFhat_Ix-discFstar_x[None,:],axis=-1),8)\n",
    "np.unique(discTm_I)"
   ]
  },
  {
   "cell_type": "markdown",
   "id": "3af8180d",
   "metadata": {
    "slideshow": {
     "slide_type": "subslide"
    }
   },
   "source": [
    "These are the unique values of $T^{\\pm}$ occurring in the Monte Carlo:"
   ]
  },
  {
   "cell_type": "code",
   "execution_count": 42,
   "id": "483dcb67",
   "metadata": {
    "slideshow": {
     "slide_type": "fragment"
    }
   },
   "outputs": [
    {
     "data": {
      "text/plain": [
       "array([0. , 0.1, 0.2, 0.3, 0.4, 0.5, 0.6])"
      ]
     },
     "execution_count": 42,
     "metadata": {},
     "output_type": "execute_result"
    }
   ],
   "source": [
    "discT_T = np.unique(np.concatenate((discTm_I,discTp_I))); discT_T"
   ]
  },
  {
   "cell_type": "markdown",
   "id": "0e0aa2dc",
   "metadata": {
    "slideshow": {
     "slide_type": "fragment"
    }
   },
   "source": [
    "We see empirically that the null distributions of ${\\color{royalblue}{T^{+}}}$ and ${\\color{royalblue}{T^{-}}}$ are the same to within Monte Carlo error (considering e.g., $\\sqrt{3600}\\approx 60$).  Conover asserts that this is always true when the hypothesized distribution (in this case uniform) is symmetric."
   ]
  },
  {
   "cell_type": "code",
   "execution_count": 43,
   "id": "969cdd46",
   "metadata": {
    "slideshow": {
     "slide_type": "fragment"
    }
   },
   "outputs": [
    {
     "data": {
      "text/plain": [
       "(array([3415, 3186, 2386,  809,  178,   26,    0]), 10000)"
      ]
     },
     "execution_count": 43,
     "metadata": {},
     "output_type": "execute_result"
    }
   ],
   "source": [
    "NTp_T = np.sum(discTp_I[None,:]==discT_T[:,None],axis=-1)\n",
    "NTp_T, np.sum(NTp_T)"
   ]
  },
  {
   "cell_type": "code",
   "execution_count": 44,
   "id": "db996b5b",
   "metadata": {
    "slideshow": {
     "slide_type": "fragment"
    }
   },
   "outputs": [
    {
     "data": {
      "text/plain": [
       "(array([3540, 3229, 2230,  783,  197,   18,    3]), 10000)"
      ]
     },
     "execution_count": 44,
     "metadata": {},
     "output_type": "execute_result"
    }
   ],
   "source": [
    "NTm_T = np.sum(discTm_I[None,:]==discT_T[:,None],axis=-1)\n",
    "NTm_T, np.sum(NTm_T)"
   ]
  },
  {
   "cell_type": "markdown",
   "id": "bac55a6b",
   "metadata": {
    "slideshow": {
     "slide_type": "subslide"
    }
   },
   "source": [
    "So now we can calculate the $p$-value corresponding to $t^{-}=0.4$, first noting that, of course, the one-sided $p$-value for $t^{+}=0$ is $1$:"
   ]
  },
  {
   "cell_type": "code",
   "execution_count": 45,
   "id": "821413f1",
   "metadata": {
    "slideshow": {
     "slide_type": "fragment"
    }
   },
   "outputs": [
    {
     "data": {
      "text/plain": [
       "1.0"
      ]
     },
     "execution_count": 45,
     "metadata": {},
     "output_type": "execute_result"
    }
   ],
   "source": [
    "np.mean(discTp_I >= discTp)"
   ]
  },
  {
   "cell_type": "code",
   "execution_count": 46,
   "id": "ceddfc43",
   "metadata": {
    "slideshow": {
     "slide_type": "fragment"
    }
   },
   "outputs": [
    {
     "data": {
      "text/plain": [
       "0.0218"
      ]
     },
     "execution_count": 46,
     "metadata": {},
     "output_type": "execute_result"
    }
   ],
   "source": [
    "np.mean(discTm_I >= discTm)"
   ]
  },
  {
   "cell_type": "code",
   "execution_count": 47,
   "id": "801530b8",
   "metadata": {
    "slideshow": {
     "slide_type": "fragment"
    }
   },
   "outputs": [
    {
     "data": {
      "text/plain": [
       "0.0218"
      ]
     },
     "execution_count": 47,
     "metadata": {},
     "output_type": "execute_result"
    }
   ],
   "source": [
    "np.mean(discTm_I >= 0.4)"
   ]
  },
  {
   "cell_type": "markdown",
   "id": "0305d4f6",
   "metadata": {
    "slideshow": {
     "slide_type": "fragment"
    }
   },
   "source": [
    "Since the ${\\color{royalblue}{T^{+}}}$ and ${\\color{royalblue}{T^{-}}}$ distributions are the same, we could also use the other Monte Carlo ensemble:"
   ]
  },
  {
   "cell_type": "code",
   "execution_count": 48,
   "id": "da24ba50",
   "metadata": {
    "slideshow": {
     "slide_type": "fragment"
    }
   },
   "outputs": [
    {
     "data": {
      "text/plain": [
       "0.0204"
      ]
     },
     "execution_count": 48,
     "metadata": {},
     "output_type": "execute_result"
    }
   ],
   "source": [
    "np.mean(discTp_I >= 0.4)"
   ]
  },
  {
   "cell_type": "markdown",
   "id": "94f31cab",
   "metadata": {
    "slideshow": {
     "slide_type": "subslide"
    }
   },
   "source": [
    "Or use both together to say we're looking at a one-sided $p$-value of about $0.021$, or a two-sided $p$-value for $t=0.4$ of $0.042$.  This is in fact the value computed with an analytical formula by Conover.  Note that the Kolmogorov distribution gives a $p$-value of $0.030$ (one-sided) or $0.059$ (two-sided) so neglecting discrete effects would overestimate the $p$-value and in fact produce a different result for a test with $\\alpha=0.05$ (as noted in Conover using the values in his Tale A13)."
   ]
  },
  {
   "cell_type": "code",
   "execution_count": 49,
   "id": "203a2d8d",
   "metadata": {
    "slideshow": {
     "slide_type": "fragment"
    }
   },
   "outputs": [
    {
     "data": {
      "text/plain": [
       "0.02949469039999999"
      ]
     },
     "execution_count": 49,
     "metadata": {},
     "output_type": "execute_result"
    }
   ],
   "source": [
    "stats.ksone(discn).sf(discTm)"
   ]
  },
  {
   "cell_type": "code",
   "execution_count": 50,
   "id": "94f928fa",
   "metadata": {
    "slideshow": {
     "slide_type": "fragment"
    }
   },
   "outputs": [
    {
     "data": {
      "text/plain": [
       "0.05898938079999998"
      ]
     },
     "execution_count": 50,
     "metadata": {},
     "output_type": "execute_result"
    }
   ],
   "source": [
    "2*stats.ksone(discn).sf(discTm)"
   ]
  },
  {
   "cell_type": "markdown",
   "id": "6049b195",
   "metadata": {
    "slideshow": {
     "slide_type": "fragment"
    }
   },
   "source": [
    "Note that the SciPy `kstest` routine uses the continuous formula:"
   ]
  },
  {
   "cell_type": "code",
   "execution_count": 51,
   "id": "a9bcb58f",
   "metadata": {
    "slideshow": {
     "slide_type": "fragment"
    }
   },
   "outputs": [
    {
     "data": {
      "text/plain": [
       "KstestResult(statistic=0.4, pvalue=0.05898924519999926, statistic_location=3, statistic_sign=1)"
      ]
     },
     "execution_count": 51,
     "metadata": {},
     "output_type": "execute_result"
    }
   ],
   "source": [
    "stats.kstest(discx_i,stats.randint(1,5+1).cdf)"
   ]
  }
 ],
 "metadata": {
  "celltoolbar": "Slideshow",
  "kernelspec": {
   "display_name": "Python 3 (ipykernel)",
   "language": "python",
   "name": "python3"
  },
  "language_info": {
   "codemirror_mode": {
    "name": "ipython",
    "version": 3
   },
   "file_extension": ".py",
   "mimetype": "text/x-python",
   "name": "python",
   "nbconvert_exporter": "python",
   "pygments_lexer": "ipython3",
   "version": "3.9.7"
  }
 },
 "nbformat": 4,
 "nbformat_minor": 5
}
