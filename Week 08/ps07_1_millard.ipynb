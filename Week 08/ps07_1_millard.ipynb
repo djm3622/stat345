{
 "cells": [
  {
   "cell_type": "markdown",
   "metadata": {},
   "source": [
    "# Problem Set 7, Part One: Due Thursday, March 20 by 8am Eastern Daylight Time"
   ]
  },
  {
   "cell_type": "markdown",
   "metadata": {},
   "source": [
    "## Name: David Millard"
   ]
  },
  {
   "cell_type": "markdown",
   "metadata": {},
   "source": [
    "**Show your work on all problems!** Be sure to give credit to any\n",
    "collaborators, or outside sources used in solving the problems. Note\n",
    "that if using an outside source to do a calculation, you should use it\n",
    "as a reference for the method, and actually carry out the calculation\n",
    "yourself; it’s not sufficient to quote the results of a calculation\n",
    "contained in an outside source."
   ]
  },
  {
   "cell_type": "markdown",
   "metadata": {},
   "source": [
    "Fill in your solutions in the notebook below, inserting markdown and/or code cells as needed.  Try to do reasonably well with the typesetting, but don't feel compelled to replicate my formatting exactly.  **You do NOT need to make random variables blue!**"
   ]
  },
  {
   "cell_type": "code",
   "execution_count": 1,
   "metadata": {},
   "outputs": [],
   "source": [
    "%matplotlib inline"
   ]
  },
  {
   "cell_type": "code",
   "execution_count": 2,
   "metadata": {},
   "outputs": [],
   "source": [
    "import numpy as np\n",
    "from scipy import stats\n",
    "import matplotlib.pyplot as plt\n",
    "plt.rcParams['figure.figsize'] = (8.0,5.0)\n",
    "plt.rcParams['font.size'] = 14"
   ]
  },
  {
   "cell_type": "markdown",
   "metadata": {},
   "source": [
    "### Conover Problems on The Friedman and Quade Tests"
   ]
  },
  {
   "cell_type": "markdown",
   "metadata": {},
   "source": [
    "#### Exercise 5.8.2:"
   ]
  },
  {
   "cell_type": "markdown",
   "metadata": {},
   "source": [
    "Twelve randomly selected students are involved in a learning experiment.\n",
    "Four lists of words are made up by the experimenter. Each list contains\n",
    "20 pairs of words, but different methods of pairing are used on the four\n",
    "lists. Each student is handed a list, given five minutes to study it,\n",
    "and then examined on his or her ability to remember the words. This\n",
    "procedure is repeated for all four lists for each student, the order of\n",
    "the lists being rotated from one student to the next. The examination\n",
    "scores are as follows (20 is perfect)."
   ]
  },
  {
   "cell_type": "markdown",
   "metadata": {},
   "source": [
    "<table>\n",
    "<tr><th>List</th><th>1</th><th>2</th><th>3</th><th>4</th><th>5</th><th>6</th><th>7</th><th>8</th><th>9</th><th>10</th><th>11</th><th>12</th></tr>\n",
    "<tr><td>1</td><td>  18</td><td> 7</td><td>13</td><td>15</td><td>12</td><td>11</td><td>15</td><td>10</td><td>14</td><td> 9</td><td>  8</td><td>  10</td></tr>\n",
    "<tr><td>2</td><td>  14</td><td> 6</td><td>14</td><td>10</td><td>11</td><td> 9</td><td>16</td><td> 8</td><td>12</td><td> 9</td><td>  6</td><td>  11</td></tr>\n",
    "<tr><td>3</td><td>  16</td><td> 5</td><td>16</td><td>12</td><td>12</td><td> 9</td><td>10</td><td>11</td><td>13</td><td> 9</td><td>  9</td><td>  13</td></tr>\n",
    "<tr><td>4</td><td>  20</td><td>10</td><td>17</td><td>14</td><td>18</td><td>16</td><td>14</td><td>16</td><td>15</td><td> 10</td><td> 14</td><td> 16</td></tr>\n",
    "</table>"
   ]
  },
  {
   "cell_type": "markdown",
   "metadata": {},
   "source": [
    "Are some lists easier to learn than others?"
   ]
  },
  {
   "cell_type": "code",
   "execution_count": 3,
   "metadata": {},
   "outputs": [],
   "source": [
    "X_ij = np.array([\n",
    "    [18,  7, 13, 15, 12, 11, 15, 10, 14,  9,  8, 10],\n",
    "    [14,  6, 14, 10, 11,  9, 16,  8, 12,  9,  6, 11],\n",
    "    [16,  5, 16, 12, 12,  9, 10, 11, 13,  9,  9, 13],\n",
    "    [20, 10, 17, 14, 18, 16, 14, 16, 15, 10, 14, 16]\n",
    "])\n",
    "b,k = np.shape(X_ij)"
   ]
  },
  {
   "cell_type": "markdown",
   "metadata": {},
   "source": [
    "**(a)** Use the Friedman test. \\[Calculate a $p$-value.\\]\n",
    "\n",
    "$H_0$: There are no differences between the treatments.\n",
    "\n",
    "$H_1$: There is a difference between the treatments.\n",
    "\n",
    "$T_1 = 18.5$ \n",
    "\n",
    "$p\\text{-value} = 0.000346$\n",
    "\n",
    "Since $0.000346 < 0.05$, we have sufficent evidence to reject $H_0$"
   ]
  },
  {
   "cell_type": "code",
   "execution_count": 4,
   "metadata": {},
   "outputs": [
    {
     "name": "stdout",
     "output_type": "stream",
     "text": [
      "4 12\n",
      "[[3.  3.  1.  4.  2.5 3.  3.  2.  3.  2.  2.  1. ]\n",
      " [1.  2.  2.  1.  1.  1.5 4.  1.  1.  2.  1.  2. ]\n",
      " [2.  1.  3.  2.  2.5 1.5 1.  3.  2.  2.  3.  3. ]\n",
      " [4.  4.  4.  3.  4.  4.  2.  4.  4.  4.  4.  4. ]]\n",
      "\n",
      "[29.5 19.5 26.  45. ]\n"
     ]
    }
   ],
   "source": [
    "print(b, k)\n",
    "\n",
    "R_ij = stats.rankdata(X_ij,axis=0)\n",
    "R_j = np.sum(R_ij,axis=1)\n",
    "\n",
    "print(f'{R_ij}\\n\\n{R_j}')"
   ]
  },
  {
   "cell_type": "code",
   "execution_count": 5,
   "metadata": {},
   "outputs": [
    {
     "data": {
      "text/plain": [
       "18.5"
      ]
     },
     "execution_count": 5,
     "metadata": {},
     "output_type": "execute_result"
    }
   ],
   "source": [
    "Rbar = 0.5*(b+1)\n",
    "T1 = (b-1)*np.sum((R_j-k*Rbar)**2)/np.sum((R_ij-Rbar)**2); T1"
   ]
  },
  {
   "cell_type": "code",
   "execution_count": 6,
   "metadata": {},
   "outputs": [
    {
     "data": {
      "text/plain": [
       "0.0003468294018257528"
      ]
     },
     "execution_count": 6,
     "metadata": {},
     "output_type": "execute_result"
    }
   ],
   "source": [
    "p = stats.chi2(df=b-1).sf(T1); p"
   ]
  },
  {
   "cell_type": "code",
   "execution_count": 7,
   "metadata": {},
   "outputs": [
    {
     "data": {
      "text/plain": [
       "FriedmanchisquareResult(statistic=18.500000000000018, pvalue=0.00034682940182575024)"
      ]
     },
     "execution_count": 7,
     "metadata": {},
     "output_type": "execute_result"
    }
   ],
   "source": [
    "stats.friedmanchisquare(X_ij[0,:],X_ij[1,:],X_ij[2,:],X_ij[3,:]) # sanity check"
   ]
  },
  {
   "cell_type": "markdown",
   "metadata": {},
   "source": [
    "**(b)** Use the Quade test. \\[Calculate a $p$-value.\\]\n",
    "\n",
    "$H_0$: There are no differences between the treatments.\n",
    "\n",
    "$H_1$: There is a difference between the treatments.\n",
    "\n",
    "$T_3 = 29.2129$ \n",
    "\n",
    "$p\\text{-value} = 2.075\\exp{-09}$\n",
    "\n",
    "Since $2.075\\exp{-09} < 0.05$, we have sufficent evidence to reject $H_0$."
   ]
  },
  {
   "cell_type": "code",
   "execution_count": 8,
   "metadata": {},
   "outputs": [
    {
     "name": "stdout",
     "output_type": "stream",
     "text": [
      "[6 5 4 5 7 7 6 8 3 1 8 6]\n",
      "\n",
      "[ 7.   4.5  3.   4.5  9.5  9.5  7.  11.5  2.   1.  11.5  7. ]\n"
     ]
    }
   ],
   "source": [
    "M_i = np.max(X_ij,axis=0)-np.min(X_ij,axis=0)\n",
    "Q_i = stats.rankdata(M_i)\n",
    "\n",
    "print(f'{M_i}\\n\\n{Q_i}')"
   ]
  },
  {
   "cell_type": "code",
   "execution_count": 9,
   "metadata": {},
   "outputs": [
    {
     "name": "stdout",
     "output_type": "stream",
     "text": [
      "[-317.5 -318.  -330.5 -302.5]\n",
      "33555.5625 46190.75 29.212956871435427\n"
     ]
    },
    {
     "data": {
      "text/plain": [
       "2.0750041054102203e-09"
      ]
     },
     "execution_count": 9,
     "metadata": {},
     "output_type": "execute_result"
    }
   ],
   "source": [
    "S_ij = Q_i[:,None]*(R_ij.reshape(12, 4)-0.5*(k+1))\n",
    "S_j = np.sum(S_ij,axis=0)\n",
    "\n",
    "print(S_j)\n",
    "\n",
    "B = np.sum(S_j**2)/k;\n",
    "A2 = np.sum(S_ij**2) \n",
    "T3 = (k-1)*B/(A2-B)\n",
    "\n",
    "print(B, A2, T3)\n",
    "\n",
    "stats.f(b-1,(k-1)*(b-1)).sf(T3)"
   ]
  },
  {
   "cell_type": "markdown",
   "metadata": {},
   "source": [
    "#### Problem 5.8.1:"
   ]
  },
  {
   "cell_type": "markdown",
   "metadata": {},
   "source": [
    "Show that for $k=2$ the statistic $T_3$ is a function of the Wilcoxon\n",
    "signed ranks statistic given by Equation 5.7.5 and, therefore the two\n",
    "tests are equivalent. (*Hint.* First show that $Q_i$ is equal to the\n",
    "absolute value of $R_i$.)"
   ]
  },
  {
   "cell_type": "markdown",
   "metadata": {},
   "source": [
    "We know that $W = \\sum_{i: D_i > 0} R_i$ and $W^- = \\sum_{i: D_i < 0} R_i$. Showing $Q_i$ is equal to the absolute value of $R_i$.\n",
    "\n",
    "\\begin{align}\n",
    "D_i &= X_i - Y_i, \\quad R_i = \\text{rank}(|D_i|) \\\\  \n",
    "M_i &= \\max_j X_{ij} - \\min_j X_{ij} \\\\  \n",
    "Q_i &= \\text{rank}(M_i) \\\\  \n",
    "&= \\text{rank}(|X_i - Y_i|) \\\\  \n",
    "&= R_i.\n",
    "\\end{align}\n",
    "\n",
    "\\begin{align}\n",
    "    S_{ij} &= Q_i \\left(R_{ij} - \\frac{k+1}{2}\\right) \\\\\n",
    "           &= R_i \\left(R_{ij} - \\frac{3}{2}\\right) \\\\\n",
    "           &= R_i \\left(1 - \\frac{3}{2}\\right), \\quad R_i \\left(2 - \\frac{3}{2}\\right) \\quad \\text{Where } j \\in \\{1, 2\\}\\\\\n",
    "           &= -0.5R_i, \\quad 0.5R_i \\\\\n",
    "\\end{align}\n",
    "\n",
    "\\begin{align}\n",
    "    S_j &= \\sum_{i=1}^b S_{ij} \\\\\n",
    "        &= \\sum_{i=1}^b R_i \\left(R_{ij} - \\frac{3}{2}\\right) \\\\\n",
    "        & = \\begin{cases}\n",
    "        -0.5 (W + W^-), & \\text{if } j = 1 \\\\\n",
    "         0.5 (W + W^-), & \\text{if } j = 2\n",
    "       \\end{cases}\n",
    "\\end{align}\n",
    "\n",
    "$S_j$ is used in the calculation of $T_3$ and we have shown $S_j$ to be a function of Wilcoxon signed ranks statistic when $k=2$."
   ]
  },
  {
   "cell_type": "markdown",
   "metadata": {},
   "source": [
    "#### Problem 5.8.2:\n",
    "\n",
    "Show that for $k=2$ the Friedman test is equivalent to the two-tailed\n",
    "sign test (large sample approximation)."
   ]
  },
  {
   "cell_type": "markdown",
   "metadata": {},
   "source": [
    "If $n_{\\pm}$ large, can use normal approx w/\n",
    "$\\mu=E({N_{+}}|n_{\\pm}) = \\frac{n_{\\pm}}{2}$ & standard\n",
    "deviation\n",
    "$\\sigma=\\sqrt{\\operatorname{Var}({N_{+}}|n_{\\pm})} = \\sqrt{\\frac{n_{\\pm}}{4}}\n",
    "  = \\frac{\\sqrt{n_{\\pm}}}{2}$\n",
    "\n",
    "\\begin{align}\n",
    "    {T_1} &= \\frac{12}{bk(k+1)}\\sum_{j=1}^k \\left({R_j}-\\frac{b(k+1)}{2}\\right)^2 \\\\\n",
    "          &= \\frac{2}{b}\\left( \\left({R_1}-b\\cdot\\frac{3}{2}\\right)^2 + \\left({R_2}-b\\cdot\\frac{3}{2}\\right)^2 \\right) \\\\\n",
    "          &= \\frac{2}{b}\\left( 2 \\left({R_1}-b\\cdot\\frac{3}{2}\\right)^2 \\right) \\quad \\text{Where } R_2 = 3b - R_1 \\\\\n",
    "          &= \\frac{4}{b} \\left({R_1}-b\\cdot\\frac{3}{2}\\right)^2 \\\\\n",
    "          &= \\frac{4}{b} \\left(N_+-\\frac{b}{2}\\right)^2 \\quad \\text{Where } R_1 = b + N_+\n",
    "\\end{align}\n",
    "\n",
    "$\\frac{4}{b} \\left(N_+-\\frac{b}{2}\\right)^2$ corresponds directly to the normal approximation of $N_+$ when $n$ is large."
   ]
  },
  {
   "cell_type": "markdown",
   "metadata": {},
   "source": [
    "### Conover Problems on The Kolmogorov Test"
   ]
  },
  {
   "cell_type": "markdown",
   "metadata": {},
   "source": [
    "#### Exercise 6.1.6:"
   ]
  },
  {
   "cell_type": "markdown",
   "metadata": {},
   "source": [
    "The emissions of nitrous oxide from last year’s model of automobile have\n",
    "been measured for thousands of cars and found to be approximately normal\n",
    "with mean $5.6$ and standard deviation $1.2$. Twelve of this year’s\n",
    "model automobile have been tested with the results"
   ]
  },
  {
   "cell_type": "markdown",
   "metadata": {},
   "source": [
    "4.8, 6.2, 6.0, 5.9, 6.6, 5.5, 5.8, 5.9, 6.3, 6.6, 6.2, 5.0"
   ]
  },
  {
   "cell_type": "markdown",
   "metadata": {},
   "source": [
    "Does this year’s model appear to have the same distribution as last\n",
    "year’s model?\n",
    "\n",
    "$H_0$: $F(x)=F^*(x)$\n",
    "\n",
    "$H_1$: $F(x)\\ne F^*(x)$\n",
    "\n",
    "$T_p = 0.3161$ \n",
    "\n",
    "$p\\text{-value} = 0.14498$\n",
    "\n",
    "Since $0.14498 > 0.05$, we do not have sufficent evidence to reject $H_0$."
   ]
  },
  {
   "cell_type": "code",
   "execution_count": 10,
   "metadata": {},
   "outputs": [
    {
     "data": {
      "image/png": "[encoded data removed]",
      "text/plain": [
       "<Figure size 800x500 with 1 Axes>"
      ]
     },
     "metadata": {},
     "output_type": "display_data"
    }
   ],
   "source": [
    "x_i = np.array([4.8, 6.2, 6.0, 5.9, 6.6, 5.5, 5.8, 5.9, 6.3, 6.6, 6.2, 5.0])\n",
    "\n",
    "xmax = np.ceil(max(np.abs(x_i)))+0.1; xmin = -xmax\n",
    "x_x = np.linspace(xmin,xmax,6001);\n",
    "\n",
    "Fhat_x = np.mean(x_i[None,:] <= x_x[:,None],axis=-1); Fstar_x = stats.norm(loc=5.6, scale=1.2).cdf(x_x)\n",
    "\n",
    "xp = np.argmax(Fstar_x-Fhat_x); xm = np.argmax(Fhat_x-Fstar_x)\n",
    "plt.plot(x_x,Fhat_x,'b-',lw=2,label=r'$\\hat{F}(x,\\{x_i\\})$'); plt.plot(x_x,Fstar_x,'r--',lw=2,label=r'$F^*(x)$');\n",
    "plt.xlabel(r'$x$');plt.ylabel('cdf');plt.legend(loc='upper left');plt.grid();plt.xlim(xmin,xmax);"
   ]
  },
  {
   "cell_type": "code",
   "execution_count": 11,
   "metadata": {},
   "outputs": [
    {
     "name": "stdout",
     "output_type": "stream",
     "text": [
      "0.31618383261090366 5.8\n",
      "0.20232838096364314 6.6\n"
     ]
    }
   ],
   "source": [
    "xsort_i = np.sort(x_i)\n",
    "Fstar_i = stats.norm(loc=5.6, scale=1.2).cdf(xsort_i)\n",
    "\n",
    "n = len(x_i)\n",
    "Fhatp_i = np.arange(n)/n\n",
    "Fhatm_i = (1+np.arange(n))/n\n",
    "\n",
    "Tp=max(Fstar_i-Fhatp_i) \n",
    "Tm=max(Fhatm_i-Fstar_i)\n",
    "\n",
    "print(Tp, xsort_i[np.argmax(Fstar_i-Fhatp_i)])\n",
    "print(Tm, xsort_i[np.argmax(Fhatm_i-Fstar_i)])"
   ]
  },
  {
   "cell_type": "code",
   "execution_count": 12,
   "metadata": {},
   "outputs": [
    {
     "data": {
      "text/plain": [
       "0.1449890844590269"
      ]
     },
     "execution_count": 12,
     "metadata": {},
     "output_type": "execute_result"
    }
   ],
   "source": [
    "p = stats.ksone(n).sf(Tp) * 2; p"
   ]
  },
  {
   "cell_type": "markdown",
   "metadata": {},
   "source": [
    "#### Exercise 6.1.2:"
   ]
  },
  {
   "cell_type": "markdown",
   "metadata": {},
   "source": [
    "As a rural grocery store receives eggs from neighboring farmers it\n",
    "“candles” the eggs to detect any eggs that are not fresh. Eight crates\n",
    "of eggs, 144 eggs per crate, were candled with the following numbers of\n",
    "eggs rejected from each crate: 4, 0, 2, 0, 2, 0, 2, 0. Present a 95%\n",
    "confidence band, either graphically or in tabled form, for the\n",
    "distribution function of the number of rejected eggs for the population\n",
    "of all crates received."
   ]
  },
  {
   "cell_type": "code",
   "execution_count": 13,
   "metadata": {},
   "outputs": [
    {
     "name": "stdout",
     "output_type": "stream",
     "text": [
      "0.45426659868929475\n"
     ]
    }
   ],
   "source": [
    "x_i = np.array([4, 0, 2, 0, 2, 0, 2, 0])\n",
    "n = len(x_i)\n",
    "\n",
    "T95 = stats.ksone(n).isf(0.025)\n",
    "\n",
    "print(T95)\n",
    "\n",
    "xmax = np.ceil(max(np.abs(x_i)))+0.1; xmin = -xmax\n",
    "x_x = np.linspace(xmin,xmax,6001);\n",
    "Fhat_x = np.mean(x_i[None,:] <= x_x[:,None],axis=-1);"
   ]
  },
  {
   "cell_type": "code",
   "execution_count": 14,
   "metadata": {},
   "outputs": [
    {
     "data": {
      "image/png": "[encoded data removed]",
      "text/plain": [
       "<Figure size 800x500 with 1 Axes>"
      ]
     },
     "metadata": {},
     "output_type": "display_data"
    }
   ],
   "source": [
    "F95lower_x = np.maximum(0.,Fhat_x-T95); F95upper_x = np.minimum(1.,Fhat_x+T95)\n",
    "plt.fill_between(x_x,F95upper_x,F95lower_x,edgecolor='b',color=[0.9,0.9,0.9],label=r'95% CI');\n",
    "plt.plot(x_x,Fhat_x,'b-',lw=2,label=r'$\\hat{F}(x,\\{x_i\\})$')\n",
    "plt.xlabel(r'$x$');plt.ylabel('cdf');plt.xlim(xmin,xmax);plt.ylim(0,1);plt.legend(loc='upper left');plt.grid();"
   ]
  },
  {
   "cell_type": "markdown",
   "metadata": {},
   "source": [
    "#### Exercise 6.1.4:"
   ]
  },
  {
   "cell_type": "markdown",
   "metadata": {},
   "source": [
    "Previous records have indicated that the number of rejected eggs per\n",
    "crate follows the Poisson distribution with mean 1.5. For the data in\n",
    "Exercise 2 test the hypothesis that these eight crates came from the\n",
    "same distribution function. Note that the Poisson distribution with mean\n",
    "$1.5$ has the following probabilites: $P(0)=0.223$, $P(1)=0.335$,\n",
    "$P(2)=0.251$, $P(3)=0.126$, $P(4)=0.047$, $P(5)=0.014$, and\n",
    "$P(6)=0.004$."
   ]
  },
  {
   "cell_type": "markdown",
   "metadata": {},
   "source": [
    "$H_0$: $F(x)=F^*(x)$\n",
    "\n",
    "$H_1$: $F(x)\\ne F^*(x)$\n",
    "\n",
    "$T_m = 0.277$ \n",
    "\n",
    "$p\\text{-value} = 0.4937$\n",
    "\n",
    "Since $0.4937 > 0.05$, we do not have sufficent evidence to reject $H_0$."
   ]
  },
  {
   "cell_type": "code",
   "execution_count": 15,
   "metadata": {},
   "outputs": [],
   "source": [
    "discx_i = np.array([4, 0, 2, 0, 2, 0, 2, 0]) \n",
    "discx_x = np.arange(0, discx_i.shape[0]) \n",
    "\n",
    "discFhat_x = np.mean(discx_i[None,:] <= discx_x[:,None],axis=-1)\n",
    "discFstar_x = np.array([0.223, 0.335, 0.251, 0.126, 0.047, 0.014, 0.004, 0]).cumsum()"
   ]
  },
  {
   "cell_type": "code",
   "execution_count": 16,
   "metadata": {},
   "outputs": [
    {
     "name": "stdout",
     "output_type": "stream",
     "text": [
      "0.06000000000000005 0.277\n"
     ]
    }
   ],
   "source": [
    "discTp = max(discFstar_x-discFhat_x)\n",
    "discTm = max(discFhat_x-discFstar_x)\n",
    "\n",
    "print(discTp, discTm)"
   ]
  },
  {
   "cell_type": "code",
   "execution_count": 17,
   "metadata": {},
   "outputs": [
    {
     "data": {
      "text/plain": [
       "0.49370258496006797"
      ]
     },
     "execution_count": 17,
     "metadata": {},
     "output_type": "execute_result"
    }
   ],
   "source": [
    "discn = discx_i.shape[0]\n",
    "\n",
    "p = stats.ksone(discn).sf(discTm) * 2; p"
   ]
  },
  {
   "cell_type": "code",
   "execution_count": null,
   "metadata": {},
   "outputs": [],
   "source": []
  }
 ],
 "metadata": {
  "kernelspec": {
   "display_name": "cse327python311",
   "language": "python",
   "name": "cse327python311"
  },
  "language_info": {
   "codemirror_mode": {
    "name": "ipython",
    "version": 3
   },
   "file_extension": ".py",
   "mimetype": "text/x-python",
   "name": "python",
   "nbconvert_exporter": "python",
   "pygments_lexer": "ipython3",
   "version": "3.11.11"
  }
 },
 "nbformat": 4,
 "nbformat_minor": 4
}
