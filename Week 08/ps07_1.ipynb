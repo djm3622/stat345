{
 "cells": [
  {
   "cell_type": "markdown",
   "metadata": {},
   "source": [
    "# Problem Set 7, Part One: Due Thursday, March 20 by 8am Eastern Daylight Time"
   ]
  },
  {
   "cell_type": "markdown",
   "metadata": {},
   "source": [
    "## Name:"
   ]
  },
  {
   "cell_type": "markdown",
   "metadata": {},
   "source": [
    "**Show your work on all problems!** Be sure to give credit to any\n",
    "collaborators, or outside sources used in solving the problems. Note\n",
    "that if using an outside source to do a calculation, you should use it\n",
    "as a reference for the method, and actually carry out the calculation\n",
    "yourself; it’s not sufficient to quote the results of a calculation\n",
    "contained in an outside source."
   ]
  },
  {
   "cell_type": "markdown",
   "metadata": {},
   "source": [
    "Fill in your solutions in the notebook below, inserting markdown and/or code cells as needed.  Try to do reasonably well with the typesetting, but don't feel compelled to replicate my formatting exactly.  **You do NOT need to make random variables blue!**"
   ]
  },
  {
   "cell_type": "code",
   "execution_count": null,
   "metadata": {},
   "outputs": [],
   "source": [
    "%matplotlib inline"
   ]
  },
  {
   "cell_type": "code",
   "execution_count": null,
   "metadata": {},
   "outputs": [],
   "source": [
    "import numpy as np\n",
    "from scipy import stats\n",
    "import matplotlib.pyplot as plt\n",
    "plt.rcParams['figure.figsize'] = (8.0,5.0)\n",
    "plt.rcParams['font.size'] = 14"
   ]
  },
  {
   "cell_type": "markdown",
   "metadata": {},
   "source": [
    "### Conover Problems on The Friedman and Quade Tests"
   ]
  },
  {
   "cell_type": "markdown",
   "metadata": {},
   "source": [
    "#### Exercise 5.8.2:"
   ]
  },
  {
   "cell_type": "markdown",
   "metadata": {},
   "source": [
    "Twelve randomly selected students are involved in a learning experiment.\n",
    "Four lists of words are made up by the experimenter. Each list contains\n",
    "20 pairs of words, but different methods of pairing are used on the four\n",
    "lists. Each student is handed a list, given five minutes to study it,\n",
    "and then examined on his or her ability to remember the words. This\n",
    "procedure is repeated for all four lists for each student, the order of\n",
    "the lists being rotated from one student to the next. The examination\n",
    "scores are as follows (20 is perfect)."
   ]
  },
  {
   "cell_type": "markdown",
   "metadata": {},
   "source": [
    "<table>\n",
    "<tr><th>List</th><th>1</th><th>2</th><th>3</th><th>4</th><th>5</th><th>6</th><th>7</th><th>8</th><th>9</th><th>10</th><th>11</th><th>12</th></tr>\n",
    "<tr><td>1</td><td>  18</td><td> 7</td><td>13</td><td>15</td><td>12</td><td>11</td><td>15</td><td>10</td><td>14</td><td> 9</td><td>  8</td><td>  10</td></tr>\n",
    "<tr><td>2</td><td>  14</td><td> 6</td><td>14</td><td>10</td><td>11</td><td> 9</td><td>16</td><td> 8</td><td>12</td><td> 9</td><td>  6</td><td>  11</td></tr>\n",
    "<tr><td>3</td><td>  16</td><td> 5</td><td>16</td><td>12</td><td>12</td><td> 9</td><td>10</td><td>11</td><td>13</td><td> 9</td><td>  9</td><td>  13</td></tr>\n",
    "<tr><td>4</td><td>  20</td><td>10</td><td>17</td><td>14</td><td>18</td><td>16</td><td>14</td><td>16</td><td>15</td><td> 10</td><td> 14</td><td> 16</td></tr>\n",
    "</table>"
   ]
  },
  {
   "cell_type": "markdown",
   "metadata": {},
   "source": [
    "Are some lists easier to learn than others?"
   ]
  },
  {
   "cell_type": "markdown",
   "metadata": {},
   "source": [
    "**(a)** Use the Friedman test. \\[Calculate a $p$-value.\\]"
   ]
  },
  {
   "cell_type": "markdown",
   "metadata": {},
   "source": []
  },
  {
   "cell_type": "markdown",
   "metadata": {},
   "source": [
    "**(b)** Use the Quade test. \\[Calculate a $p$-value.\\]"
   ]
  },
  {
   "cell_type": "markdown",
   "metadata": {},
   "source": []
  },
  {
   "cell_type": "markdown",
   "metadata": {},
   "source": [
    "#### Problem 5.8.1:"
   ]
  },
  {
   "cell_type": "markdown",
   "metadata": {},
   "source": [
    "Show that for $k=2$ the statistic $T_3$ is a function of the Wilcoxon\n",
    "signed ranks statistic given by Equation 5.7.5 and, therefore the two\n",
    "tests are equivalent. (*Hint.* First show that $Q_i$ is equal to the\n",
    "absolute value of $R_i$.)"
   ]
  },
  {
   "cell_type": "markdown",
   "metadata": {},
   "source": []
  },
  {
   "cell_type": "markdown",
   "metadata": {},
   "source": [
    "#### Problem 5.8.2:\n",
    "\n",
    "Show that for $k=2$ the Friedman test is equivalent to the two-tailed\n",
    "sign test (large sample approximation)."
   ]
  },
  {
   "cell_type": "markdown",
   "metadata": {},
   "source": []
  },
  {
   "cell_type": "markdown",
   "metadata": {},
   "source": [
    "### Conover Problems on The Kolmogorov Test"
   ]
  },
  {
   "cell_type": "markdown",
   "metadata": {},
   "source": [
    "#### Exercise 6.1.6:"
   ]
  },
  {
   "cell_type": "markdown",
   "metadata": {},
   "source": [
    "The emissions of nitrous oxide from last year’s model of automobile have\n",
    "been measured for thousands of cars and found to be approximately normal\n",
    "with mean $5.6$ and standard deviation $1.2$. Twelve of this year’s\n",
    "model automobile have been tested with the results"
   ]
  },
  {
   "cell_type": "markdown",
   "metadata": {},
   "source": [
    "4.8, 6.2, 6.0, 5.9, 6.6, 5.5, 5.8, 5.9, 6.3, 6.6, 6.2, 5.0"
   ]
  },
  {
   "cell_type": "markdown",
   "metadata": {},
   "source": [
    "Does this year’s model appear to have the same distribution as last\n",
    "year’s model?"
   ]
  },
  {
   "cell_type": "markdown",
   "metadata": {},
   "source": []
  },
  {
   "cell_type": "markdown",
   "metadata": {},
   "source": [
    "#### Exercise 6.1.2:"
   ]
  },
  {
   "cell_type": "markdown",
   "metadata": {},
   "source": [
    "As a rural grocery store receives eggs from neighboring farmers it\n",
    "“candles” the eggs to detect any eggs that are not fresh. Eight crates\n",
    "of eggs, 144 eggs per crate, were candled with the following numbers of\n",
    "eggs rejected from each crate: 4, 0, 2, 0, 2, 0, 2, 0. Present a 95%\n",
    "confidence band, either graphically or in tabled form, for the\n",
    "distribution function of the number of rejected eggs for the population\n",
    "of all crates received."
   ]
  },
  {
   "cell_type": "markdown",
   "metadata": {},
   "source": []
  },
  {
   "cell_type": "markdown",
   "metadata": {},
   "source": [
    "#### Exercise 6.1.4:"
   ]
  },
  {
   "cell_type": "markdown",
   "metadata": {},
   "source": [
    "Previous records have indicated that the number of rejected eggs per\n",
    "crate follows the Poisson distribution with mean 1.5. For the data in\n",
    "Exercise 2 test the hypothesis that these eight crates came from the\n",
    "same distribution function. Note that the Poisson distribution with mean\n",
    "$1.5$ has the following probabilites: $P(0)=0.223$, $P(1)=0.335$,\n",
    "$P(2)=0.251$, $P(3)=0.126$, $P(4)=0.047$, $P(5)=0.014$, and\n",
    "$P(6)=0.004$."
   ]
  },
  {
   "cell_type": "markdown",
   "metadata": {},
   "source": []
  }
 ],
 "metadata": {
  "kernelspec": {
   "display_name": "Python 3 (ipykernel)",
   "language": "python",
   "name": "python3"
  },
  "language_info": {
   "codemirror_mode": {
    "name": "ipython",
    "version": 3
   },
   "file_extension": ".py",
   "mimetype": "text/x-python",
   "name": "python",
   "nbconvert_exporter": "python",
   "pygments_lexer": "ipython3",
   "version": "3.9.7"
  }
 },
 "nbformat": 4,
 "nbformat_minor": 4
}
