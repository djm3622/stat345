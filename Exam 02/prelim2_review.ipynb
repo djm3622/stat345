{
 "cells": [
  {
   "cell_type": "markdown",
   "id": "1b43e5cb-27a5-4d19-8d9c-a24413f9c70e",
   "metadata": {},
   "source": [
    "# Question 1a\n",
    "\n",
    "What tests have we learned, and when should they be applied (on what kind of data)? Can you also specify when a test needs special ways to deal with ties."
   ]
  },
  {
   "cell_type": "code",
   "execution_count": null,
   "id": "e1d3579a-f433-41a4-891b-fe539844a830",
   "metadata": {},
   "outputs": [],
   "source": []
  },
  {
   "cell_type": "code",
   "execution_count": null,
   "id": "320900a8-3980-4aaf-8f0e-3899a518b489",
   "metadata": {},
   "outputs": [],
   "source": []
  },
  {
   "cell_type": "code",
   "execution_count": null,
   "id": "94148338-f521-44d0-9b8c-f382825bb01c",
   "metadata": {},
   "outputs": [],
   "source": []
  },
  {
   "cell_type": "code",
   "execution_count": null,
   "id": "ed3e5d38-c78e-4cae-9af7-b6505295a9a3",
   "metadata": {},
   "outputs": [],
   "source": []
  },
  {
   "cell_type": "code",
   "execution_count": null,
   "id": "9a5bc4fb-c580-4e66-b0d6-368fed4ad953",
   "metadata": {},
   "outputs": [],
   "source": []
  },
  {
   "cell_type": "markdown",
   "id": "f9a020bb-da83-4d4b-b96e-0faee2f57300",
   "metadata": {},
   "source": [
    "# Question 2\n",
    "\n",
    "Can you go over a bit of ROC curves, power curves, and relative efficency?"
   ]
  },
  {
   "cell_type": "code",
   "execution_count": null,
   "id": "08350f8a-143a-405a-b603-b578068bbb26",
   "metadata": {},
   "outputs": [],
   "source": []
  },
  {
   "cell_type": "code",
   "execution_count": null,
   "id": "4bc12de9-479b-4340-bd89-e2543867bfba",
   "metadata": {},
   "outputs": [],
   "source": []
  },
  {
   "cell_type": "code",
   "execution_count": null,
   "id": "90ce59ac-7d87-46b0-99f6-5604e62db0e5",
   "metadata": {},
   "outputs": [],
   "source": []
  },
  {
   "cell_type": "code",
   "execution_count": null,
   "id": "e2de1362-cc3b-4931-a114-1367ac83ea68",
   "metadata": {},
   "outputs": [],
   "source": []
  },
  {
   "cell_type": "markdown",
   "id": "183df15d-7cdd-4d50-847c-67345cd57544",
   "metadata": {},
   "source": [
    "# Question 3\n",
    "\n",
    "Can you go over the kolmagorov test applied to discrete data?"
   ]
  },
  {
   "cell_type": "code",
   "execution_count": null,
   "id": "f4391483-9e87-4644-9ac3-9cc674f19f9c",
   "metadata": {},
   "outputs": [],
   "source": []
  },
  {
   "cell_type": "code",
   "execution_count": null,
   "id": "2d59ffa6-ab44-499e-a41d-db7142e3879b",
   "metadata": {},
   "outputs": [],
   "source": []
  },
  {
   "cell_type": "code",
   "execution_count": null,
   "id": "b1e1c5df-9bf7-4440-806d-979099af9210",
   "metadata": {},
   "outputs": [],
   "source": []
  },
  {
   "cell_type": "code",
   "execution_count": null,
   "id": "9d6fdb3c-b2a6-4501-aec3-9dc96cbee7bd",
   "metadata": {},
   "outputs": [],
   "source": []
  },
  {
   "cell_type": "code",
   "execution_count": null,
   "id": "3e2d04fd-c45b-48e3-b71b-efaca5f20f57",
   "metadata": {},
   "outputs": [],
   "source": []
  },
  {
   "cell_type": "markdown",
   "id": "881b1f26-9f55-46c4-9147-7092219ab044",
   "metadata": {},
   "source": [
    "# Question 4\n",
    "\n",
    "Can you go over the exact null distributions of some of the tests?"
   ]
  },
  {
   "cell_type": "code",
   "execution_count": null,
   "id": "d4cbc787-3d5c-4e67-8221-5951fa0df728",
   "metadata": {},
   "outputs": [],
   "source": []
  },
  {
   "cell_type": "code",
   "execution_count": null,
   "id": "74e69733-09d5-4cfd-b5b2-a7513fe3622d",
   "metadata": {},
   "outputs": [],
   "source": []
  },
  {
   "cell_type": "code",
   "execution_count": null,
   "id": "a5979792-8e22-4c06-80c8-386435291f81",
   "metadata": {},
   "outputs": [],
   "source": []
  },
  {
   "cell_type": "code",
   "execution_count": null,
   "id": "cf06b8ec-fd6f-4a1a-af51-4fc90ae380fb",
   "metadata": {},
   "outputs": [],
   "source": []
  },
  {
   "cell_type": "code",
   "execution_count": null,
   "id": "87c99fc0-a999-4ddb-9ebf-00436c529d6a",
   "metadata": {},
   "outputs": [],
   "source": []
  },
  {
   "cell_type": "code",
   "execution_count": null,
   "id": "697795d0-09f2-44e3-9c8b-a553d3436db8",
   "metadata": {},
   "outputs": [],
   "source": []
  }
 ],
 "metadata": {
  "kernelspec": {
   "display_name": "Python 3 (ipykernel)",
   "language": "python",
   "name": "python3"
  },
  "language_info": {
   "codemirror_mode": {
    "name": "ipython",
    "version": 3
   },
   "file_extension": ".py",
   "mimetype": "text/x-python",
   "name": "python",
   "nbconvert_exporter": "python",
   "pygments_lexer": "ipython3",
   "version": "3.9.7"
  }
 },
 "nbformat": 4,
 "nbformat_minor": 5
}
