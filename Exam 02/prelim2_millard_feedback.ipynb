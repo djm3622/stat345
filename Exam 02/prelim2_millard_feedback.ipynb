{
 "cells": [
  {
   "cell_type": "markdown",
   "metadata": {},
   "source": [
    "# STAT 345 Prelim Exam Two"
   ]
  },
  {
   "cell_type": "markdown",
   "metadata": {},
   "source": [
    "## Available Wednesday, April 2 at 8am Eastern Daylight Time"
   ]
  },
  {
   "cell_type": "markdown",
   "metadata": {},
   "source": [
    "## Due Friday, April 4 by 9:15am Eastern Daylight Time"
   ]
  },
  {
   "cell_type": "markdown",
   "metadata": {},
   "source": [
    "## Name: David Millard"
   ]
  },
  {
   "cell_type": "markdown",
   "metadata": {},
   "source": [
    "You have 49.25 hours to do this exam, but it should only take $\\lesssim$2 hours. You may use any books or notes you like, and any electronic devices with communication capabilities\n",
    "switched off (airplane mode).  You should not communicate with anyone or look anything up on the internet from the time you start the exam to the time you submit it.\n",
    "\n",
    "Some problems contain boxes ($\\boxed{\\color{brown}{????}}$) into which you should place your final\n",
    "answer. Express all numerical results to at least three decimal places.\n",
    "\n",
    "The exam contains three problems worth a total of 55 points. Try not to\n",
    "spend too much time on any one problem. The weight of each part of each\n",
    "problem is listed, as is the total weight for each problem. Later parts\n",
    "of a problem may or may not depend on some, but not all, of the previous\n",
    "parts.\n",
    "\n",
    "**Show your work!**"
   ]
  },
  {
   "cell_type": "markdown",
   "metadata": {},
   "source": [
    "Fill in your solutions in the notebook below, inserting markdown and/or code cells as needed.  Try to do reasonably well with the typesetting, but don't feel compelled to replicate my formatting exactly.  **You do NOT need to make random variables blue!**"
   ]
  },
  {
   "cell_type": "code",
   "execution_count": 1,
   "metadata": {},
   "outputs": [],
   "source": [
    "%matplotlib inline"
   ]
  },
  {
   "cell_type": "code",
   "execution_count": 2,
   "metadata": {},
   "outputs": [],
   "source": [
    "import numpy as np\n",
    "from scipy import stats\n",
    "import matplotlib.pyplot as plt\n",
    "plt.rcParams['figure.figsize'] = (8.0,5.0)\n",
    "plt.rcParams['font.size'] = 14"
   ]
  },
  {
   "cell_type": "markdown",
   "metadata": {},
   "source": [
    "## 1. Multiple-Sample Methods (20 points total)"
   ]
  },
  {
   "cell_type": "markdown",
   "metadata": {},
   "source": [
    "### 1.1 Independent Samples"
   ]
  },
  {
   "cell_type": "markdown",
   "metadata": {},
   "source": [
    "Consider the following data, assumed to represent the ranks of the data in three independent samples:"
   ]
  },
  {
   "cell_type": "markdown",
   "metadata": {},
   "source": [
    "<table>\n",
    "<tr><th>Sample 1</th><th>Sample 2</th><th>Sample 3</th></tr>\n",
    "<tr><td>$14$</td><td>$11$</td><td>$15$</td></tr>\n",
    "<tr><td>$1$</td><td>$4$</td><td>$8$</td></tr>\n",
    "<tr><td>$7$</td><td>$12$</td><td>$13$</td></tr>\n",
    "<tr><td>$5$</td><td>$6$</td><td>$9$</td></tr>\n",
    "<tr><td>$2$</td><td>$3$</td><td>$10$</td></tr>\n",
    "</table>"
   ]
  },
  {
   "cell_type": "markdown",
   "metadata": {},
   "source": [
    "**(a)** \\[5pts\\] Calculate the Kruskal-Wallis statistic, giving the value of all intermediate quantities, notably the three individual rank sums."
   ]
  },
  {
   "cell_type": "code",
   "execution_count": 40,
   "metadata": {},
   "outputs": [],
   "source": [
    "R_i_j = [\n",
    "    np.array([14, 1, 7, 5, 2]),\n",
    "    np.array([11, 4, 12, 6, 3]),\n",
    "    np.array([15, 8, 13, 9, 10]),\n",
    "]"
   ]
  },
  {
   "cell_type": "code",
   "execution_count": 41,
   "metadata": {},
   "outputs": [
    {
     "name": "stdout",
     "output_type": "stream",
     "text": [
      "2\n",
      "[29 36 55]\n"
     ]
    },
    {
     "data": {
      "text/plain": [
       "(3.6200000000000006, 0.163654136802704)"
      ]
     },
     "execution_count": 41,
     "metadata": {},
     "output_type": "execute_result"
    }
   ],
   "source": [
    "def kruskal_wallis(R_i_j):\n",
    "    n_i = np.array([len(Ri_j) for Ri_j in R_i_j])\n",
    "    k = len(n_i)\n",
    "    \n",
    "    print(k-1)\n",
    "    \n",
    "    N = np.sum(n_i)\n",
    "    \n",
    "    R_r = np.concatenate(R_i_j)\n",
    "    R_i = np.array([np.sum(Ri_j) for Ri_j in R_i_j])\n",
    "    \n",
    "    print(R_i)\n",
    "    \n",
    "    Rbar = 0.5*(N+1)\n",
    "    T = (N-1) * np.sum((R_i-n_i*Rbar)**2/n_i) / np.sum((R_r-Rbar)**2)\n",
    "    \n",
    "    p = stats.chi2(df=k-1).sf(T)\n",
    "    \n",
    "    return T, p\n",
    "\n",
    "kruskal_wallis(R_i_j)"
   ]
  },
  {
   "cell_type": "markdown",
   "metadata": {},
   "source": [
    "$$\\hbox{Rank sum for Sample 1} = \\boxed{\\color{brown}{29}}$$"
   ]
  },
  {
   "cell_type": "markdown",
   "metadata": {},
   "source": [
    "$$\\hbox{Rank sum for Sample 2} = \\boxed{\\color{brown}{36}}$$"
   ]
  },
  {
   "cell_type": "markdown",
   "metadata": {},
   "source": [
    "$$\\hbox{Rank sum for Sample 3} = \\boxed{\\color{brown}{?55}}$$"
   ]
  },
  {
   "cell_type": "markdown",
   "metadata": {},
   "source": [
    "$$\\hbox{Statistic value} = \\boxed{\\color{brown}{3.62}}$$"
   ]
  },
  {
   "cell_type": "markdown",
   "metadata": {},
   "source": [
    "<font color=\"red\">**5/5**</font>"
   ]
  },
  {
   "cell_type": "markdown",
   "metadata": {},
   "source": [
    "**(b)** \\[2pts\\] If the samples are all drawn from the same distribution, the Kruskal-Wallis statistic should be approximately chi-squared distributed; what is the number of degrees of freedom?"
   ]
  },
  {
   "cell_type": "markdown",
   "metadata": {},
   "source": [
    "$$\\hbox{# of degrees of freedom} = \\boxed{\\color{brown}{2}}$$"
   ]
  },
  {
   "cell_type": "markdown",
   "metadata": {},
   "source": [
    "<font color=\"red\">**2/2**</font>"
   ]
  },
  {
   "cell_type": "markdown",
   "metadata": {},
   "source": [
    "**(c)** \\[2pts\\] Using the chi-squared approximation, find the $p$-value."
   ]
  },
  {
   "cell_type": "markdown",
   "metadata": {},
   "source": [
    "$$\\hbox{$p$-value} = \\boxed{\\color{brown}{0.16365}}$$"
   ]
  },
  {
   "cell_type": "markdown",
   "metadata": {},
   "source": [
    "<font color=\"red\">**2/2**</font>"
   ]
  },
  {
   "cell_type": "markdown",
   "metadata": {},
   "source": [
    "### 1.2 Complete Block Design"
   ]
  },
  {
   "cell_type": "markdown",
   "metadata": {},
   "source": [
    "Now assume the columns represent three different treatments and the rows represent five blocks to which those treatments are applied."
   ]
  },
  {
   "cell_type": "markdown",
   "metadata": {},
   "source": [
    "**(a)** \\[3pts\\] Enter in the table below the ranks within each block."
   ]
  },
  {
   "cell_type": "markdown",
   "metadata": {},
   "source": [
    "<table> \n",
    "<tr><th>Treatment 1</th><th>Treatment 2</th><th>Treatment 3</th></tr> \n",
    "<tr><td>2</td><td>1</td><td>3</td></tr> \n",
    "<tr><td>1</td><td>2</td><td>3</td></tr> \n",
    "<tr><td>1</td><td>2</td><td>3</td></tr> \n",
    "<tr><td>1</td><td>2</td><td>3</td></tr> \n",
    "<tr><td>1</td><td>2</td><td>3</td></tr> \n",
    "</table>"
   ]
  },
  {
   "cell_type": "markdown",
   "metadata": {},
   "source": [
    "<font color=\"red\">**3/3**</font>"
   ]
  },
  {
   "cell_type": "markdown",
   "metadata": {},
   "source": [
    "**(b)** \\[4pts\\]  Calculate the Friedman statistic, giving the value of all intermediate quantities, notably the three individual rank sums."
   ]
  },
  {
   "cell_type": "code",
   "execution_count": 48,
   "metadata": {},
   "outputs": [
    {
     "name": "stdout",
     "output_type": "stream",
     "text": [
      "2\n",
      "[[2. 1. 3.]\n",
      " [1. 2. 3.]\n",
      " [1. 2. 3.]\n",
      " [1. 2. 3.]\n",
      " [1. 2. 3.]]\n",
      "[ 6.  9. 15.]\n"
     ]
    },
    {
     "data": {
      "text/plain": [
       "(8.4, 0.014995576820477707)"
      ]
     },
     "execution_count": 48,
     "metadata": {},
     "output_type": "execute_result"
    }
   ],
   "source": [
    "def get_friedman(X_ij):\n",
    "    b, k = np.shape(X_ij)\n",
    "    \n",
    "    print(k-1)\n",
    "    \n",
    "    R_ij = stats.rankdata(X_ij,axis=-1)\n",
    "    \n",
    "    print(R_ij)\n",
    "    \n",
    "    R_j = np.sum(R_ij,axis=0)\n",
    "    \n",
    "    print(R_j)\n",
    "    \n",
    "    T1 = (12/(b*k*(k+1)))*np.sum((R_j-0.5*b*(k+1))**2)\n",
    "    p = stats.chi2(df=k-1).sf(T1)\n",
    "    \n",
    "    return T1, p\n",
    "\n",
    "get_friedman(np.array(R_i_j).T)"
   ]
  },
  {
   "cell_type": "markdown",
   "metadata": {},
   "source": [
    "$$\\hbox{Rank sum for Treatment 1} = \\boxed{\\color{brown}{6}}$$"
   ]
  },
  {
   "cell_type": "markdown",
   "metadata": {},
   "source": [
    "$$\\hbox{Rank sum for Treatment 2} = \\boxed{\\color{brown}{9}}$$"
   ]
  },
  {
   "cell_type": "markdown",
   "metadata": {},
   "source": [
    "$$\\hbox{Rank sum for Treatment 3} = \\boxed{\\color{brown}{15}}$$"
   ]
  },
  {
   "cell_type": "markdown",
   "metadata": {},
   "source": [
    "$$\\hbox{Statistic value} = \\boxed{\\color{brown}{8.4}}$$"
   ]
  },
  {
   "cell_type": "markdown",
   "metadata": {},
   "source": [
    "<font color=\"red\">**4/4**</font>"
   ]
  },
  {
   "cell_type": "markdown",
   "metadata": {},
   "source": [
    "**(c)** \\[2pts\\] If the samples are all drawn from the same distribution, the Friedman statistic should be approximately chi-squared distributed; what is the number of degrees of freedom?"
   ]
  },
  {
   "cell_type": "markdown",
   "metadata": {},
   "source": [
    "$$\\hbox{# of degrees of freedom} = \\boxed{\\color{brown}{2}}$$"
   ]
  },
  {
   "cell_type": "markdown",
   "metadata": {},
   "source": [
    "<font color=\"red\">**2/2**</font>"
   ]
  },
  {
   "cell_type": "markdown",
   "metadata": {},
   "source": [
    "**(d)** \\[2pts\\] Using the chi-squared approximation, find the $p$-value."
   ]
  },
  {
   "cell_type": "markdown",
   "metadata": {},
   "source": [
    "$$\\hbox{$p$-value} = \\boxed{\\color{brown}{0.01499}}$$"
   ]
  },
  {
   "cell_type": "markdown",
   "metadata": {},
   "source": [
    "<font color=\"red\">**2/2**</font>"
   ]
  },
  {
   "cell_type": "markdown",
   "metadata": {},
   "source": [
    "## 2. Correlation Coëfficients (22 points total)"
   ]
  },
  {
   "cell_type": "markdown",
   "metadata": {},
   "source": [
    "Consider the data"
   ]
  },
  {
   "cell_type": "code",
   "execution_count": 3,
   "metadata": {},
   "outputs": [
    {
     "data": {
      "image/png": "[encoded data removed]",
      "text/plain": [
       "<Figure size 800x500 with 1 Axes>"
      ]
     },
     "metadata": {},
     "output_type": "display_data"
    }
   ],
   "source": [
    "X_i = np.array([48.77, 37.87, 59.56, 38.18, 70.63, 43.64,\n",
    "                55.75, 34.55, 71.61, 76.81, 48.76, 49.19])\n",
    "Y_i = np.array([90.32, 75.23, 82.73, 115.03, 30.55, 88.92,\n",
    "                266.19, 159.59, 37.01, 5.66, 105.23, 75.54])\n",
    "\n",
    "plt.plot(X_i,Y_i,'k.',ms=10);\n",
    "plt.grid();\n",
    "plt.xlabel(r'$X_i$');\n",
    "plt.ylabel(r'$Y_i$');\n",
    "plt.xlim(30,80);\n",
    "plt.ylim(0,300);"
   ]
  },
  {
   "cell_type": "markdown",
   "metadata": {},
   "source": [
    "**(a)** \\[3pts\\] Compute the second moments of the ranks of the two data sets."
   ]
  },
  {
   "cell_type": "code",
   "execution_count": 4,
   "metadata": {},
   "outputs": [
    {
     "name": "stdout",
     "output_type": "stream",
     "text": [
      "143.0 143.0 -87.0\n"
     ]
    }
   ],
   "source": [
    "Rx_i = stats.rankdata(X_i)\n",
    "Ry_i = stats.rankdata(Y_i)\n",
    "\n",
    "Rbar = np.mean(Rx_i)\n",
    "\n",
    "s1 = np.sum((Rx_i - Rbar)**2)\n",
    "s2 = np.sum((Ry_i - Rbar)**2)\n",
    "s3 = np.sum((Rx_i - Rbar)*(Ry_i - Rbar))\n",
    "\n",
    "print(s1, s2, s3)"
   ]
  },
  {
   "cell_type": "markdown",
   "metadata": {},
   "source": [
    "$$\\sum_{i=1}^n (R^x_i-\\overline{R})^2 = \\boxed{\\color{brown}{143}}$$"
   ]
  },
  {
   "cell_type": "markdown",
   "metadata": {},
   "source": [
    "$$\\sum_{i=1}^n (R^y_i-\\overline{R})^2 = \\boxed{\\color{brown}{143}}$$"
   ]
  },
  {
   "cell_type": "markdown",
   "metadata": {},
   "source": [
    "$$\\sum_{i=1}^n (R^x_i-\\overline{R})(R^y_i-\\overline{R}) = \\boxed{\\color{brown}{-87}}$$"
   ]
  },
  {
   "cell_type": "markdown",
   "metadata": {},
   "source": [
    "<font color=\"red\">**3/3**</font>"
   ]
  },
  {
   "cell_type": "markdown",
   "metadata": {},
   "source": [
    "**(b)** \\[3pts\\] Compute the Spearman rank correlation coefficient for the data set."
   ]
  },
  {
   "cell_type": "code",
   "execution_count": 5,
   "metadata": {},
   "outputs": [
    {
     "data": {
      "text/plain": [
       "-0.6083916083916084"
      ]
     },
     "execution_count": 5,
     "metadata": {},
     "output_type": "execute_result"
    }
   ],
   "source": [
    "rho = s3 / np.sqrt(s1*s2); rho"
   ]
  },
  {
   "cell_type": "markdown",
   "metadata": {},
   "source": [
    "$$\\rho = \\boxed{\\color{brown}{-0.6084}}$$"
   ]
  },
  {
   "cell_type": "markdown",
   "metadata": {},
   "source": [
    "<font color=\"red\">**3/3**</font>"
   ]
  },
  {
   "cell_type": "markdown",
   "metadata": {},
   "source": [
    "**(c)** \\[3pts\\] If the data are uncorrelated, what are the expectation value and standard deviation of this statistic (numerical values)?"
   ]
  },
  {
   "cell_type": "code",
   "execution_count": 6,
   "metadata": {},
   "outputs": [
    {
     "data": {
      "text/plain": [
       "0.30151134457776363"
      ]
     },
     "execution_count": 6,
     "metadata": {},
     "output_type": "execute_result"
    }
   ],
   "source": [
    "n = len(X_i)\n",
    "sigma = 1 / np.sqrt(n - 1); sigma"
   ]
  },
  {
   "cell_type": "markdown",
   "metadata": {},
   "source": [
    "$$\\hbox{Expectation Value} = \\boxed{\\color{brown}{0}}$$"
   ]
  },
  {
   "cell_type": "markdown",
   "metadata": {},
   "source": [
    "$$\\hbox{Standard deviation} = \\boxed{\\color{brown}{0.3015}}$$"
   ]
  },
  {
   "cell_type": "markdown",
   "metadata": {},
   "source": [
    "<font color=\"red\">**3/3**</font>"
   ]
  },
  {
   "cell_type": "markdown",
   "metadata": {},
   "source": [
    "**(d)** \\[2pts\\] Calculate the $p$-value associated with the measured correlation coefficient $\\rho$.  (The null hypothesisis no correlation, while the alternative hypothesis is some correlation or anticorrelation.)  Be sure to  specify any approximation used in this calculation."
   ]
  },
  {
   "cell_type": "markdown",
   "metadata": {},
   "source": [
    "We make a normality assumuption and use the normal approximation with $E[\\rho] = 0$ and $\\text{Var}[\\rho] = \\frac{1}{n-1}$. "
   ]
  },
  {
   "cell_type": "code",
   "execution_count": 7,
   "metadata": {},
   "outputs": [
    {
     "data": {
      "text/plain": [
       "0.04361139781456327"
      ]
     },
     "execution_count": 7,
     "metadata": {},
     "output_type": "execute_result"
    }
   ],
   "source": [
    "p = 2.0*stats.norm.cdf(rho*np.sqrt(n-1)); p"
   ]
  },
  {
   "cell_type": "markdown",
   "metadata": {},
   "source": [
    "$$\\hbox{$p$-value} = \\boxed{\\color{brown}{0.043611}}$$"
   ]
  },
  {
   "cell_type": "markdown",
   "metadata": {},
   "source": [
    "<font color=\"red\">**2/2**</font>"
   ]
  },
  {
   "cell_type": "markdown",
   "metadata": {},
   "source": [
    "**(e)** \\[3pts\\]  Determine the number of concordant and discordant pairs of data points."
   ]
  },
  {
   "cell_type": "code",
   "execution_count": 10,
   "metadata": {},
   "outputs": [],
   "source": [
    "import itertools"
   ]
  },
  {
   "cell_type": "code",
   "execution_count": 11,
   "metadata": {},
   "outputs": [],
   "source": [
    "def is_concordant(pt1,pt2):\n",
    "    return ((pt1[0]>pt2[0])&(pt1[1]>pt2[1])|(pt1[0]<pt2[0])&(pt1[1]<pt2[1]))\n",
    "def is_discordant(pt1,pt2):\n",
    "    return ((pt1[0]>pt2[0])&(pt1[1]<pt2[1])|(pt1[0]<pt2[0])&(pt1[1]>pt2[1]))"
   ]
  },
  {
   "cell_type": "code",
   "execution_count": 12,
   "metadata": {},
   "outputs": [
    {
     "name": "stdout",
     "output_type": "stream",
     "text": [
      "17 49\n"
     ]
    }
   ],
   "source": [
    "Nc = np.sum([is_concordant((X_i[i],Y_i[i]),(X_i[j],Y_i[j])) for (i,j) in itertools.combinations(range(n),2)])\n",
    "Nd = np.sum([is_discordant((X_i[i],Y_i[i]),(X_i[j],Y_i[j])) for (i,j) in itertools.combinations(range(n),2)])\n",
    "\n",
    "print(Nc, Nd)"
   ]
  },
  {
   "cell_type": "markdown",
   "metadata": {},
   "source": [
    "$$N_c = \\boxed{\\color{brown}{17}}$$"
   ]
  },
  {
   "cell_type": "markdown",
   "metadata": {},
   "source": [
    "$$N_d = \\boxed{\\color{brown}{49}}$$"
   ]
  },
  {
   "cell_type": "markdown",
   "metadata": {},
   "source": [
    "<font color=\"red\">**3/3**</font>"
   ]
  },
  {
   "cell_type": "markdown",
   "metadata": {},
   "source": [
    "**(f)** \\[3pts\\] Compute the Kendall correlation coefficient for the data set."
   ]
  },
  {
   "cell_type": "code",
   "execution_count": 13,
   "metadata": {},
   "outputs": [
    {
     "data": {
      "text/plain": [
       "-0.48484848484848486"
      ]
     },
     "execution_count": 13,
     "metadata": {},
     "output_type": "execute_result"
    }
   ],
   "source": [
    "tau = (Nc-Nd)/(Nc+Nd); tau"
   ]
  },
  {
   "cell_type": "markdown",
   "metadata": {},
   "source": [
    "$$\\tau = \\boxed{\\color{brown}{-0.4848}}$$"
   ]
  },
  {
   "cell_type": "markdown",
   "metadata": {},
   "source": [
    "<font color=\"red\">**3/3**</font>"
   ]
  },
  {
   "cell_type": "markdown",
   "metadata": {},
   "source": [
    "**(g)** \\[3pts\\] If the data are uncorrelated, what are the expectation value and standard deviation of this statistic (numerical values)?"
   ]
  },
  {
   "cell_type": "code",
   "execution_count": 14,
   "metadata": {},
   "outputs": [
    {
     "data": {
      "text/plain": [
       "0.22095598842653896"
      ]
     },
     "execution_count": 14,
     "metadata": {},
     "output_type": "execute_result"
    }
   ],
   "source": [
    "sigma = np.sqrt(( 2 * (2*n + 5) ) / ( 9*n * (n-1))); sigma"
   ]
  },
  {
   "cell_type": "markdown",
   "metadata": {},
   "source": [
    "$$\\hbox{Expectation Value} = \\boxed{\\color{brown}{0}}$$"
   ]
  },
  {
   "cell_type": "markdown",
   "metadata": {},
   "source": [
    "$$\\hbox{Standard deviation} = \\boxed{\\color{brown}{0.220}}$$"
   ]
  },
  {
   "cell_type": "markdown",
   "metadata": {},
   "source": [
    "<font color=\"red\">**Actually, this rounds to 0.221.**</font>"
   ]
  },
  {
   "cell_type": "markdown",
   "metadata": {},
   "source": [
    "<font color=\"red\">**3/3**</font>"
   ]
  },
  {
   "cell_type": "markdown",
   "metadata": {},
   "source": [
    "**(h)** \\[2pts\\] Calculate the $p$-value associated with the measured correlation coefficient $\\tau$.  Be sure to  specify any approximation used in this calculation."
   ]
  },
  {
   "cell_type": "markdown",
   "metadata": {},
   "source": [
    "Again we make a normality assumption and use the normal approximation with $E[\\tau] = 0$ and $\\text{Var}[\\tau] = \\frac{2(2n+5)}{9n(n-1)}$. "
   ]
  },
  {
   "cell_type": "code",
   "execution_count": 15,
   "metadata": {},
   "outputs": [
    {
     "data": {
      "text/plain": [
       "0.02821230197459869"
      ]
     },
     "execution_count": 15,
     "metadata": {},
     "output_type": "execute_result"
    }
   ],
   "source": [
    "p = 2.0*stats.norm.cdf(tau/sigma); p"
   ]
  },
  {
   "cell_type": "markdown",
   "metadata": {},
   "source": [
    "$$\\hbox{$p$-value} = \\boxed{\\color{brown}{0.02821}}$$"
   ]
  },
  {
   "cell_type": "markdown",
   "metadata": {},
   "source": [
    "<font color=\"red\">**2/2**</font>"
   ]
  },
  {
   "cell_type": "markdown",
   "metadata": {},
   "source": [
    "## 3. Goodness of Fit Test (13 points total)"
   ]
  },
  {
   "cell_type": "markdown",
   "metadata": {},
   "source": [
    "Consider the following sample of size $n=10$:"
   ]
  },
  {
   "cell_type": "code",
   "execution_count": 16,
   "metadata": {},
   "outputs": [],
   "source": [
    "x_i = np.array([1.524, 1.217, 1.890, 1.998, 0.036, 1.785, 0.054, 0.459, 0.024, 0.053])"
   ]
  },
  {
   "cell_type": "markdown",
   "metadata": {},
   "source": [
    "Supposed we have a null hypothesis that the data were drawn from a uniform distribution on the interval $(0,2)$."
   ]
  },
  {
   "cell_type": "markdown",
   "metadata": {},
   "source": [
    "**(a)** \\[3pts\\] Plot, on the same set of axes, the empirical (cumulative) distribution $\\hat{F}(x;\\{x_i\\})$ and the hypothesized cdf $F^*(x)$ for $-0.1<x<2.1$."
   ]
  },
  {
   "cell_type": "code",
   "execution_count": 17,
   "metadata": {},
   "outputs": [
    {
     "data": {
      "image/png": "[encoded data removed]",
      "text/plain": [
       "<Figure size 800x500 with 1 Axes>"
      ]
     },
     "metadata": {},
     "output_type": "display_data"
    }
   ],
   "source": [
    "x_vals = np.linspace(-0.1, 2.1, 500)\n",
    "\n",
    "# empirical cdf\n",
    "ecdf_x = np.sort(x_i)\n",
    "ecdf_y = np.arange(1, len(x_i) + 1) / len(x_i)\n",
    "\n",
    "# hypothesized cdf\n",
    "uniform_cdf = stats.uniform.cdf(x_vals, loc=0, scale=2)\n",
    "\n",
    "plt.figure(figsize=(8, 5))\n",
    "plt.step(ecdf_x, ecdf_y, where=\"post\", label=\"$\\hat{F}(x)$\", color='b')\n",
    "plt.plot(x_vals, uniform_cdf, label=\"$F^*(x)$\", linestyle=\"dashed\", color='r')\n",
    "plt.xlabel(\"$x$\")\n",
    "plt.ylabel(\"Cumulative Probability\")\n",
    "plt.legend()\n",
    "plt.grid()"
   ]
  },
  {
   "cell_type": "markdown",
   "metadata": {},
   "source": [
    "<font color=\"red\">**You're missing $\\hat{F}(x)$ for $-0.1<x<0.024$ and $1.998<x<2.1$.**</font>"
   ]
  },
  {
   "cell_type": "markdown",
   "metadata": {},
   "source": [
    "<font color=\"red\">**2/3**</font>"
   ]
  },
  {
   "cell_type": "markdown",
   "metadata": {},
   "source": [
    "Consider a one-sample Kolmogorov test of the hypothesis that the data were drawn from a Uniform(0,2) distribution against the alternative of some other unspecified distribution."
   ]
  },
  {
   "cell_type": "markdown",
   "metadata": {},
   "source": [
    "**(b)** \\[4pts\\] Compute the standard Kolmogorov test statistics."
   ]
  },
  {
   "cell_type": "code",
   "execution_count": 18,
   "metadata": {},
   "outputs": [],
   "source": [
    "def cont_kolmagorov(x_i, Fstar_i):\n",
    "    n = len(x_i)\n",
    "    \n",
    "    Fhatp_i = np.arange(n)/n\n",
    "    Fhatm_i = (1+np.arange(n))/n\n",
    "    \n",
    "    Tp = max(Fstar_i-Fhatp_i)\n",
    "    Tm = max(Fhatm_i-Fstar_i)\n",
    "    T = max(Tp, Tm)\n",
    "    \n",
    "    p = stats.ksone(n).sf(T)\n",
    "    \n",
    "    return (T, Tp, Tm), p"
   ]
  },
  {
   "cell_type": "code",
   "execution_count": 19,
   "metadata": {},
   "outputs": [
    {
     "data": {
      "text/plain": [
       "((0.373, 0.1925, 0.373), 0.04660978935435248)"
      ]
     },
     "execution_count": 19,
     "metadata": {},
     "output_type": "execute_result"
    }
   ],
   "source": [
    "sorted_x_i = np.sort(x_i)\n",
    "Fstar_i = stats.uniform.cdf(sorted_x_i, loc=0, scale=2) # [loc, loc + scale]\n",
    "cont_kolmagorov(sorted_x_i, Fstar_i)"
   ]
  },
  {
   "cell_type": "markdown",
   "metadata": {},
   "source": [
    "$$T^{+} = \\boxed{\\color{brown}{0.1925}}$$"
   ]
  },
  {
   "cell_type": "markdown",
   "metadata": {},
   "source": [
    "$$T^{-} = \\boxed{\\color{brown}{0.373}}$$"
   ]
  },
  {
   "cell_type": "markdown",
   "metadata": {},
   "source": [
    "$$T = \\boxed{\\color{brown}{0.373}}$$"
   ]
  },
  {
   "cell_type": "markdown",
   "metadata": {},
   "source": [
    "<font color=\"red\">**4/4**</font>"
   ]
  },
  {
   "cell_type": "markdown",
   "metadata": {},
   "source": [
    "**(c)** \\[3pts\\] Using the Kolmogorov distribution, find the $p$-value arising from this test."
   ]
  },
  {
   "cell_type": "markdown",
   "metadata": {},
   "source": [
    "Using the output of the function above **(I made this function)**."
   ]
  },
  {
   "cell_type": "markdown",
   "metadata": {},
   "source": [
    "$$\\hbox{$p$-value} = \\boxed{\\color{brown}{0.04660}}$$"
   ]
  },
  {
   "cell_type": "markdown",
   "metadata": {},
   "source": [
    "<font color=\"red\">**You need the two-sided $p$-value.  See solns.**</font>"
   ]
  },
  {
   "cell_type": "markdown",
   "metadata": {},
   "source": [
    "<font color=\"red\">**2/3**</font>"
   ]
  },
  {
   "cell_type": "markdown",
   "metadata": {},
   "source": [
    "**(d)** \\[3pts\\] This data sample came from the “on-source” distribution (i.e., assuming the alternative hypothesis) of a Monte Carlo which produced the following ROC curve:"
   ]
  },
  {
   "attachments": {
    "ROC.png": {
     "image/png": "[encoded data removed]"
    }
   },
   "cell_type": "markdown",
   "metadata": {},
   "source": [
    "![ROC curve](attachment:ROC.png)"
   ]
  },
  {
   "cell_type": "markdown",
   "metadata": {},
   "source": [
    "Which of the three tests shown is most powerful in distinguishing these hypotheses?"
   ]
  },
  {
   "cell_type": "markdown",
   "metadata": {},
   "source": [
    "$$\\boxed{\\color{brown}{Anderson-Darling}}$$"
   ]
  },
  {
   "cell_type": "markdown",
   "metadata": {},
   "source": [
    "<font color=\"red\">**3/3**</font>"
   ]
  },
  {
   "cell_type": "markdown",
   "metadata": {},
   "source": [
    "**(e)** \\[extra credit\\] What feature of the original data set makes the test identified in part (d) best suited to distinguishing it from the null hypothesis?"
   ]
  },
  {
   "cell_type": "markdown",
   "metadata": {},
   "source": [
    "The Anderson-Darling test places more weight near the tails of the distribution. We can see that the points are grouped much more closely towards the edges rather than the middle, therefore the anderson darling statistic would be more effective in this scenario. "
   ]
  },
  {
   "cell_type": "markdown",
   "metadata": {},
   "source": [
    "<font color=\"red\">**+3/3**</font>"
   ]
  },
  {
   "cell_type": "code",
   "execution_count": null,
   "metadata": {},
   "outputs": [],
   "source": []
  }
 ],
 "metadata": {
  "kernelspec": {
   "display_name": "Python 3 (ipykernel)",
   "language": "python",
   "name": "python3"
  },
  "language_info": {
   "codemirror_mode": {
    "name": "ipython",
    "version": 3
   },
   "file_extension": ".py",
   "mimetype": "text/x-python",
   "name": "python",
   "nbconvert_exporter": "python",
   "pygments_lexer": "ipython3",
   "version": "3.11.0"
  }
 },
 "nbformat": 4,
 "nbformat_minor": 4
}
