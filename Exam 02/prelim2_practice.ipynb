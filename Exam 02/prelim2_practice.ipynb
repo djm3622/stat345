{
 "cells": [
  {
   "cell_type": "markdown",
   "metadata": {},
   "source": [
    "# STAT 345 Prelim Exam Two -- Practice Exam"
   ]
  },
  {
   "cell_type": "markdown",
   "metadata": {},
   "source": [
    "## Name:"
   ]
  },
  {
   "cell_type": "markdown",
   "metadata": {},
   "source": [
    "You have 48 hours to do this exam, but it should only take $\\lesssim$2 hours. You may use any books or notes you like, and any electronic devices with communication capabilities\n",
    "switched off (airplane mode).  You should not communicate with anyone or look anything up on the internet from the time you start the exam to the time you submit it.\n",
    "\n",
    "Some problems contain boxes ($\\boxed{\\color{brown}{????}}$) into which you should place your final\n",
    "answer. Express all numerical results to at least three decimal places.\n",
    "\n",
    "The exam contains three problems worth a total of 46 points. Try not to\n",
    "spend too much time on any one problem. The weight of each part of each\n",
    "problem is listed, as is the total weight for each problem. Later parts\n",
    "of a problem may or may not depend on some, but not all, of the previous\n",
    "parts.\n",
    "\n",
    "**Show your work!**"
   ]
  },
  {
   "cell_type": "markdown",
   "metadata": {},
   "source": [
    "Fill in your solutions in the notebook below, inserting markdown and/or code cells as needed.  Try to do reasonably well with the typesetting, but don't feel compelled to replicate my formatting exactly.  **You do NOT need to make random variables blue!**"
   ]
  },
  {
   "cell_type": "code",
   "execution_count": 3,
   "metadata": {},
   "outputs": [],
   "source": [
    "%matplotlib inline"
   ]
  },
  {
   "cell_type": "code",
   "execution_count": 4,
   "metadata": {},
   "outputs": [],
   "source": [
    "import numpy as np\n",
    "from scipy import stats\n",
    "import matplotlib.pyplot as plt\n",
    "plt.rcParams['figure.figsize'] = (8.0,5.0)\n",
    "plt.rcParams['font.size'] = 14"
   ]
  },
  {
   "cell_type": "markdown",
   "metadata": {},
   "source": [
    "# 1. Testing for Differences in Variance (19 points total)"
   ]
  },
  {
   "cell_type": "markdown",
   "metadata": {},
   "source": [
    "**(a)** \\[5pts\\]\n",
    "Suppose we have independent data samples"
   ]
  },
  {
   "cell_type": "code",
   "execution_count": 5,
   "metadata": {},
   "outputs": [],
   "source": [
    "x_i = np.array([10.699, 16.362, 10.343, 13.743, 13.646, 19.019, 13.937, 17.109, 12.232, 28.247,\n",
    "                16.001, 15.377, 15.372, 23.026, 13.903])\n",
    "y_j = np.array([0.938, 22.841, 28.907, 18.263, 15.732, 18.828, 18.757, 22.844, 79.969, 13.410])"
   ]
  },
  {
   "cell_type": "markdown",
   "metadata": {},
   "source": [
    "and we wish to perform a rank-based test to see whether they come from distributions with different variances.  Define, construct, and evaluate the relevant statistic."
   ]
  },
  {
   "cell_type": "code",
   "execution_count": 7,
   "metadata": {},
   "outputs": [],
   "source": [
    "n = len(x_i); m = len(y_j); N = n+m; xbar = np.mean(x_i); ybar = np.mean(y_j);\n",
    "U_i = np.abs(x_i - xbar); V_j = np.abs(y_j - ybar)"
   ]
  },
  {
   "cell_type": "code",
   "execution_count": 9,
   "metadata": {},
   "outputs": [],
   "source": [
    "UV_r = np.concatenate((U_i,V_j)); R_r = stats.rankdata(UV_r)"
   ]
  },
  {
   "cell_type": "code",
   "execution_count": 11,
   "metadata": {},
   "outputs": [
    {
     "data": {
      "text/plain": [
       "2243.0"
      ]
     },
     "execution_count": 11,
     "metadata": {},
     "output_type": "execute_result"
    }
   ],
   "source": [
    "RU_i = R_r[:n]; RV_j = R_r[n:]; np.sum(RU_i**2)"
   ]
  },
  {
   "cell_type": "markdown",
   "metadata": {},
   "source": [
    "$$\\hbox{Definition of statistic:} \\boxed{\\color{brown}{\\sum_{i=1}^{n} \\bigl(R(U_i)\\bigr)^2}}$$"
   ]
  },
  {
   "cell_type": "markdown",
   "metadata": {},
   "source": [
    "$$\\hbox{Statistic Value:} \\boxed{\\color{brown}{2243.0}}$$"
   ]
  },
  {
   "cell_type": "markdown",
   "metadata": {},
   "source": [
    "**(b)** \\[3pts\\]\n",
    "Calculate the $p$-value, according to this test, associated with the observed data.  Be sure to  specify any approximation used in this calculation."
   ]
  },
  {
   "cell_type": "code",
   "execution_count": 16,
   "metadata": {},
   "outputs": [],
   "source": [
    "Rsq_r = R_r**2\n",
    "Rsqbar = np.mean(Rsq_r)\n",
    "\n",
    "TU = np.sum(RU_i**2); TV = np.sum(RV_j**2)\n",
    "varT = n*m/(N-1) * np.mean((Rsq_r-Rsqbar)**2)\n",
    "T1 = (TU-n*Rsqbar)/np.sqrt(varT)"
   ]
  },
  {
   "cell_type": "code",
   "execution_count": 17,
   "metadata": {},
   "outputs": [
    {
     "data": {
      "text/plain": [
       "0.02641202119735728"
      ]
     },
     "execution_count": 17,
     "metadata": {},
     "output_type": "execute_result"
    }
   ],
   "source": [
    "2*stats.norm.cdf(T1)"
   ]
  },
  {
   "cell_type": "markdown",
   "metadata": {},
   "source": [
    "$$\\hbox{$p$-value} = \\boxed{\\color{brown}{0.02641}}$$"
   ]
  },
  {
   "cell_type": "markdown",
   "metadata": {},
   "source": [
    "**(c)** \\[5pts\\]\n",
    "Now suppose we have four data samples: the two given before, as well as"
   ]
  },
  {
   "cell_type": "code",
   "execution_count": 18,
   "metadata": {},
   "outputs": [],
   "source": [
    "c_l = np.array([13.617, 10.000, 15.624, 11.550, 19.785, 9.543, 16.228, 1.407])\n",
    "d_m = np.array([14.924, 20.824, 16.733, 18.559, 13.861, 6.985, 14.442, 17.349, 9.313, 22.626, 5.334])"
   ]
  },
  {
   "cell_type": "markdown",
   "metadata": {},
   "source": [
    "and we wish to perform a rank-based test to see whether there's evidence that *any* of the distributions from which they're drawn have different variances.  Define, construct, and evaluate the relevant statistic."
   ]
  },
  {
   "cell_type": "code",
   "execution_count": 19,
   "metadata": {},
   "outputs": [],
   "source": [
    "x_i_j = [x_i, y_j, c_l, d_m]"
   ]
  },
  {
   "cell_type": "code",
   "execution_count": 21,
   "metadata": {},
   "outputs": [],
   "source": [
    "n_i = np.array([len(xi_j) for xi_j in x_i_j]); k = len(n_i); N = np.sum(n_i)"
   ]
  },
  {
   "cell_type": "code",
   "execution_count": 23,
   "metadata": {},
   "outputs": [],
   "source": [
    "xbar_i = np.array([np.mean(xi_j) for xi_j in x_i_j])"
   ]
  },
  {
   "cell_type": "code",
   "execution_count": 24,
   "metadata": {},
   "outputs": [],
   "source": [
    "U_i_j = [np.abs(xi_j-np.mean(xi_j)) for xi_j in x_i_j];"
   ]
  },
  {
   "cell_type": "code",
   "execution_count": 25,
   "metadata": {},
   "outputs": [],
   "source": [
    "U_r = np.concatenate(U_i_j); RU_r = stats.rankdata(U_r)\n",
    "i_r = np.concatenate([(i,)*n_i[i] for i in range(k)])\n",
    "RU_i_j = [RU_r[i_r==i] for i in range(k)];"
   ]
  },
  {
   "cell_type": "code",
   "execution_count": 27,
   "metadata": {},
   "outputs": [],
   "source": [
    "S_i = np.array([np.sum(RUi_j**2) for RUi_j in RU_i_j])"
   ]
  },
  {
   "cell_type": "code",
   "execution_count": 30,
   "metadata": {},
   "outputs": [
    {
     "data": {
      "text/plain": [
       "5.8336353770613725"
      ]
     },
     "execution_count": 30,
     "metadata": {},
     "output_type": "execute_result"
    }
   ],
   "source": [
    "Sbar = np.mean(RU_r**2);\n",
    "Dsq=N/(N-1)*np.mean((RU_r**2-Sbar)**2)\n",
    "T = np.sum((S_i-n_i*Sbar)**2/n_i)/Dsq; T"
   ]
  },
  {
   "cell_type": "markdown",
   "metadata": {},
   "source": [
    "$$\\hbox{Definition of statistic:} \\boxed{\\color{brown}{\\frac{\\sum_{i=1}^k \\frac{1}{n_i}\\bigl(S_i - n_i\\overline{R^2}\\bigr)^2}\n",
    "  {\n",
    "    \\frac{N}{N-1}\n",
    "    \\overline{\\bigl(R^2-\\overline{R^2}\\bigr)^2}\n",
    "  }}}$$"
   ]
  },
  {
   "cell_type": "markdown",
   "metadata": {},
   "source": [
    "$$\\hbox{Statistic Value:} \\boxed{\\color{brown}{5.83363}}$$"
   ]
  },
  {
   "cell_type": "markdown",
   "metadata": {},
   "source": [
    "**(d)** \\[3pts\\]\n",
    "Calculate the $p$-value, according to this test, associated with the observed data.  Be sure to  specify any approximation used in this calculation."
   ]
  },
  {
   "cell_type": "code",
   "execution_count": 31,
   "metadata": {},
   "outputs": [
    {
     "data": {
      "text/plain": [
       "0.11999079989007663"
      ]
     },
     "execution_count": 31,
     "metadata": {},
     "output_type": "execute_result"
    }
   ],
   "source": [
    "stats.chi2(df=k-1).sf(T)"
   ]
  },
  {
   "cell_type": "markdown",
   "metadata": {},
   "source": [
    "$$\\hbox{$p$-value} = \\boxed{\\color{brown}{0.11999}}$$"
   ]
  },
  {
   "cell_type": "markdown",
   "metadata": {},
   "source": [
    "**(e)** \\[3pts\\]\n",
    "Explain the reason for the discrepancy between the $p$ values (and implied statistical conclusions) in parts (b) and (d)."
   ]
  },
  {
   "cell_type": "markdown",
   "metadata": {},
   "source": [
    "This is because the first two had different variances, but when introduces the second two, some distributions had similar variances."
   ]
  },
  {
   "cell_type": "code",
   "execution_count": 37,
   "metadata": {},
   "outputs": [
    {
     "data": {
      "image/png": "[encoded data removed]",
      "text/plain": [
       "<Figure size 800x500 with 1 Axes>"
      ]
     },
     "metadata": {},
     "output_type": "display_data"
    }
   ],
   "source": [
    "plt.figure(figsize=(8, 5));\n",
    "plt.boxplot(x_i_j);\n",
    "plt.title('Boxplot Comparison of Variances');\n",
    "plt.ylabel('Values');"
   ]
  },
  {
   "cell_type": "markdown",
   "metadata": {},
   "source": [
    "## 2. Monte Carlo Estimates for the Friedman Test (13 points total)"
   ]
  },
  {
   "cell_type": "markdown",
   "metadata": {},
   "source": [
    "Consider a balanced block design in which $k=3$ treatments are applied to each of $b=5$ blocks.  The following Monte Carlo generates $10^4$ realizations of such a data set under a realization of the null hypothesis of no difference in the average response to the three treatments."
   ]
  },
  {
   "cell_type": "code",
   "execution_count": 38,
   "metadata": {},
   "outputs": [],
   "source": [
    "np.random.seed(20240408)\n",
    "Nmonte = 10**4\n",
    "mu_i = np.array([40.55, 46.82, 61.50, 48.12, 56.06])\n",
    "b = len(mu_i)\n",
    "k = 3\n",
    "X0_Iij = mu_i[None,:,None] + stats.logistic.rvs(size=(Nmonte,b,k))"
   ]
  },
  {
   "cell_type": "markdown",
   "metadata": {},
   "source": [
    "The following code constructs the Friedman test statistic (referred to in Conover as $T_1$)\n",
    "$$\n",
    "Q = \\frac{12}{bk(k+1)} \\sum_{j=1}^k \\left(R_j - \\frac{b(k+1)}{2}\\right)^2\n",
    "$$\n",
    "for each of the $10^4$ Monte Carlo trials."
   ]
  },
  {
   "cell_type": "code",
   "execution_count": 39,
   "metadata": {},
   "outputs": [],
   "source": [
    "R0_Iij = stats.mstats.rankdata(X0_Iij,axis=-1)\n",
    "R0_Ij = np.sum(R0_Iij,axis=1)\n",
    "Q0_I = (12/(b*k*(k+1))) * np.sum((R0_Ij-0.5*b*(k+1))**2,axis=-1)"
   ]
  },
  {
   "cell_type": "markdown",
   "metadata": {},
   "source": [
    "**(a)** \\[3pts\\]\n",
    "List all of the possible values of $Q$ (you may assume that the Monte Carlo produces every possible value)."
   ]
  },
  {
   "cell_type": "markdown",
   "metadata": {},
   "source": [
    "$$Q = \\frac{12}{bk(k+1)}\\sum_{j=1}^k \\left({\\color{royalblue}{R_j}}-\\frac{b(k+1)}{2}\\right)^2$$"
   ]
  },
  {
   "cell_type": "code",
   "execution_count": 40,
   "metadata": {},
   "outputs": [
    {
     "data": {
      "text/plain": [
       "array([ 0. ,  0.4,  1.2,  1.6,  2.8,  3.6,  4.8,  5.2,  6.4,  7.6,  8.4,\n",
       "       10. ])"
      ]
     },
     "execution_count": 40,
     "metadata": {},
     "output_type": "execute_result"
    }
   ],
   "source": [
    "Q_q = np.unique(Q0_I); Q_q"
   ]
  },
  {
   "cell_type": "markdown",
   "metadata": {},
   "source": [
    "$$\\hbox{List of $Q$ values:} \\boxed{\\color{brown}{\\{ 0. ,  0.4,  1.2,  1.6,  2.8,  3.6,  4.8,  5.2,  6.4,  7.6,  8.4, 10.\\}}}$$"
   ]
  },
  {
   "cell_type": "markdown",
   "metadata": {},
   "source": [
    "**(b)** \\[6pts\\]\n",
    "For each $Q$ value, use the Monte Carlo to estimate the $p$-value that should be associated with an observed Friedman test statistic of that value.  Plot this along with the approximate $p$-value according to Friedman's original $\\chi^2$ assumption, as well as the improved $F$-distribution approximation."
   ]
  },
  {
   "cell_type": "code",
   "execution_count": 57,
   "metadata": {},
   "outputs": [
    {
     "data": {
      "text/plain": [
       "array([1.000e+00, 9.507e-01, 6.904e-01, 5.199e-01, 3.648e-01, 1.813e-01,\n",
       "       1.229e-01, 9.470e-02, 3.610e-02, 2.200e-02, 9.500e-03, 8.000e-04])"
      ]
     },
     "execution_count": 57,
     "metadata": {},
     "output_type": "execute_result"
    }
   ],
   "source": [
    "pval_q = np.mean(Q0_I[None,:]>=Q_q[:,None],axis=-1); pval_q"
   ]
  },
  {
   "cell_type": "code",
   "execution_count": 58,
   "metadata": {},
   "outputs": [
    {
     "data": {
      "text/plain": [
       "array([1.        , 0.81873075, 0.54881164, 0.44932896, 0.24659696,\n",
       "       0.16529889, 0.09071795, 0.07427358, 0.0407622 , 0.02237077,\n",
       "       0.01499558, 0.00673795])"
      ]
     },
     "execution_count": 58,
     "metadata": {},
     "output_type": "execute_result"
    }
   ],
   "source": [
    "pvalchisq_q = stats.chi2(df=k-1).sf(Q_q); pvalchisq_q"
   ]
  },
  {
   "cell_type": "code",
   "execution_count": 59,
   "metadata": {},
   "outputs": [
    {
     "name": "stderr",
     "output_type": "stream",
     "text": [
      "/tmp/ipykernel_2794622/1863294365.py:1: RuntimeWarning: divide by zero encountered in divide\n",
      "  pvalF_q = stats.f(k-1,(b-1)*(k-1)).sf((b-1)*Q_q/(b*(k-1)-Q_q)); pvalF_q\n"
     ]
    },
    {
     "data": {
      "text/plain": [
       "array([1.0000000e+00, 8.4934656e-01, 5.9969536e-01, 4.9787136e-01,\n",
       "       2.6873856e-01, 1.6777216e-01, 7.3116160e-02, 5.3084160e-02,\n",
       "       1.6796160e-02, 3.3177600e-03, 6.5536000e-04, 0.0000000e+00])"
      ]
     },
     "execution_count": 59,
     "metadata": {},
     "output_type": "execute_result"
    }
   ],
   "source": [
    "pvalF_q = stats.f(k-1,(b-1)*(k-1)).sf((b-1)*Q_q/(b*(k-1)-Q_q)); pvalF_q"
   ]
  },
  {
   "cell_type": "code",
   "execution_count": 60,
   "metadata": {},
   "outputs": [
    {
     "data": {
      "image/png": "[encoded data removed]",
      "text/plain": [
       "<Figure size 800x500 with 1 Axes>"
      ]
     },
     "metadata": {},
     "output_type": "display_data"
    }
   ],
   "source": [
    "plt.plot(Q_q,pval_q,'k:*',label='Monte Carlo');\n",
    "plt.plot(Q_q,pvalchisq_q,'r-d',label=r'$\\chi^2$ approx');\n",
    "plt.plot(Q_q,pvalF_q,'b--s',label=r'$F$ approx');\n",
    "plt.xlabel(r'$Q$');\n",
    "plt.ylabel('$p$-value');\n",
    "plt.grid();\n",
    "plt.legend();"
   ]
  },
  {
   "cell_type": "markdown",
   "metadata": {},
   "source": [
    "**(c)** \\[4pts\\]\n",
    "The following Monte Carlo generates $10^4$ realizations of the Friedman test statistic $Q$ under a realization of the alternative hypothesis that the three treatments have different average responses."
   ]
  },
  {
   "cell_type": "code",
   "execution_count": 61,
   "metadata": {},
   "outputs": [],
   "source": [
    "mu1_j = np.array([1.39, -0.05, -0.22])\n",
    "X1_Iij = mu1_j[None,None,:] + X0_Iij\n",
    "R1_Iij = stats.mstats.rankdata(X1_Iij,axis=-1)\n",
    "R1_Ij = np.sum(R1_Iij,axis=1)\n",
    "Q1_I = (12/(b*k*(k+1))) * np.sum((R1_Ij-0.5*b*(k+1))**2,axis=-1)"
   ]
  },
  {
   "cell_type": "markdown",
   "metadata": {},
   "source": [
    "Use the ensembles `Q0_I` and `Q1_I` to estimate the significance $\\alpha$ and power $\\gamma$ of a series of tests with all possible thresholds on the Friedman test statistic $Q$, and plot the resulting ROC curve.  Include all the appropriate features of such a plot, in particular the aspect ratio and an $\\alpha=\\gamma$ reference line."
   ]
  },
  {
   "cell_type": "code",
   "execution_count": 62,
   "metadata": {},
   "outputs": [
    {
     "data": {
      "text/plain": [
       "array([-1. ,  0. ,  0.4,  1.2,  1.6,  2.8,  3.6,  4.8,  5.2,  6.4,  7.6,\n",
       "        8.4, 10. ])"
      ]
     },
     "execution_count": 62,
     "metadata": {},
     "output_type": "execute_result"
    }
   ],
   "source": [
    "cq_Q = np.concatenate(([-1.],Q_q)); cq_Q"
   ]
  },
  {
   "cell_type": "code",
   "execution_count": 63,
   "metadata": {},
   "outputs": [
    {
     "data": {
      "text/plain": [
       "array([1.000e+00, 9.507e-01, 6.904e-01, 5.199e-01, 3.648e-01, 1.813e-01,\n",
       "       1.229e-01, 9.470e-02, 3.610e-02, 2.200e-02, 9.500e-03, 8.000e-04,\n",
       "       0.000e+00])"
      ]
     },
     "execution_count": 63,
     "metadata": {},
     "output_type": "execute_result"
    }
   ],
   "source": [
    "alpha_Q = np.mean(Q0_I[None,:]>cq_Q[:,None],axis=-1); alpha_Q"
   ]
  },
  {
   "cell_type": "code",
   "execution_count": 64,
   "metadata": {},
   "outputs": [
    {
     "data": {
      "text/plain": [
       "array([1.    , 0.9821, 0.8631, 0.7513, 0.6394, 0.4278, 0.3391, 0.2738,\n",
       "       0.1539, 0.1049, 0.0427, 0.0038, 0.    ])"
      ]
     },
     "execution_count": 64,
     "metadata": {},
     "output_type": "execute_result"
    }
   ],
   "source": [
    "gamma_Q = np.mean(Q1_I[None,:]>cq_Q[:,None],axis=-1); gamma_Q"
   ]
  },
  {
   "cell_type": "code",
   "execution_count": 65,
   "metadata": {},
   "outputs": [
    {
     "data": {
      "image/png": "[encoded data removed]",
      "text/plain": [
       "<Figure size 600x600 with 1 Axes>"
      ]
     },
     "metadata": {},
     "output_type": "display_data"
    }
   ],
   "source": [
    "plt.figure(figsize=(6,6));\n",
    "plt.plot(alpha_Q,gamma_Q,'-*');\n",
    "plt.plot(alpha_Q,alpha_Q,'k:');\n",
    "plt.xlabel(r'$\\alpha$');\n",
    "plt.ylabel(r'$\\gamma$');\n",
    "plt.title('ROC curve for Friedman test');\n",
    "plt.xlim(0,1);\n",
    "plt.ylim(0,1);\n",
    "plt.grid();"
   ]
  },
  {
   "cell_type": "markdown",
   "metadata": {},
   "source": [
    "## 3. Goodness of Fit Test (14 points total)"
   ]
  },
  {
   "cell_type": "markdown",
   "metadata": {},
   "source": [
    "A device is redundantly constructed with two critical components, and will continue to function until both components fail.  If each component's failure is governed by a Poisson process with rate $1/\\beta$, the functional lifetime $\\color{royalblue}{X}$ will be an Erlang random variable, i.e., a Gamma random variable with shape parameter $\\alpha=2$ and scale parameter $\\beta$.  (The fact that $\\alpha$ is an integer is what makes this Gamma distribution an Erlang distribution.)  Its pdf will be\n",
    "$$\n",
    "f(x;\\beta) =\n",
    "\\begin{cases}\n",
    "0 & -\\infty<x<0 \\\\\n",
    "\\frac{1}{\\beta^2} x\\,e^{-x/\\beta} & 0<x<\\infty\n",
    "\\end{cases}\n",
    "$$\n",
    "and its cdf will be\n",
    "$$\n",
    "F(x;\\beta) =\n",
    "\\begin{cases}\n",
    "0 & -\\infty<x<0 \\\\\n",
    "1 - \\left(1+\\frac{x}{\\beta}\\right) e^{-x/\\beta} & 0<x<\\infty\n",
    "\\end{cases}\n",
    "$$\n",
    "Suppose we collect the functional lifetimes, in days, of ten components, and find the following:"
   ]
  },
  {
   "cell_type": "code",
   "execution_count": 84,
   "metadata": {},
   "outputs": [],
   "source": [
    "x_i = np.array([43.66, 72.03, 13.83, 18.66, 4.18, 11.65, 41.18, 56.60, 55.98, 58.38])"
   ]
  },
  {
   "cell_type": "markdown",
   "metadata": {},
   "source": [
    "**(a)** \\[4pts\\]\n",
    "We wish to evaluate the hypothesis that the device's lifetime is described by the model above, with a single component failure rate $1/\\beta$ of one per ten days, using the Kolmogorov test.  Evaluate each of the following at the ten order statistics $\\{x^{(i)}\\}$ of the data above (each of your answers should be a list of ten numbers):"
   ]
  },
  {
   "cell_type": "markdown",
   "metadata": {},
   "source": [
    "- The hypothesized CDF $F^*(x^{(i)})$ according to the model."
   ]
  },
  {
   "cell_type": "code",
   "execution_count": 85,
   "metadata": {},
   "outputs": [
    {
     "data": {
      "text/plain": [
       "array([ 4.18, 11.65, 13.83, 18.66, 41.18, 43.66, 55.98, 56.6 , 58.38,\n",
       "       72.03])"
      ]
     },
     "execution_count": 85,
     "metadata": {},
     "output_type": "execute_result"
    }
   ],
   "source": [
    "xordered_i = np.sort(x_i); xordered_i"
   ]
  },
  {
   "cell_type": "code",
   "execution_count": 86,
   "metadata": {},
   "outputs": [
    {
     "data": {
      "text/plain": [
       "array([0.06644236, 0.32468744, 0.40228415, 0.55651117, 0.91669413,\n",
       "       0.93184135, 0.97555265, 0.97680644, 0.98006951, 0.9938941 ])"
      ]
     },
     "execution_count": 86,
     "metadata": {},
     "output_type": "execute_result"
    }
   ],
   "source": [
    "beta = 10 # days\n",
    "Fstar_i = stats.gamma(2,scale=beta).cdf(xordered_i)\n",
    "Fstar_i"
   ]
  },
  {
   "cell_type": "markdown",
   "metadata": {},
   "source": [
    "- The empirical CDF $\\hat{F}(x^{(i)};\\mathbf{x})$ associated with the observed data $\\mathbf{x}\\equiv\\{x_i\\}$"
   ]
  },
  {
   "cell_type": "code",
   "execution_count": 87,
   "metadata": {},
   "outputs": [
    {
     "data": {
      "text/plain": [
       "array([0.1, 0.2, 0.3, 0.4, 0.5, 0.6, 0.7, 0.8, 0.9, 1. ])"
      ]
     },
     "execution_count": 87,
     "metadata": {},
     "output_type": "execute_result"
    }
   ],
   "source": [
    "n = len(x_i)\n",
    "Fhatm_i = np.arange(1,n+1)/n\n",
    "Fhatm_i"
   ]
  },
  {
   "cell_type": "markdown",
   "metadata": {},
   "source": [
    "- The empirical CDF $\\hat{F}(x^{(i)}-\\epsilon;\\mathbf{x})$, evaluated at an argument infinitesimally less than the order statistic $x^{(i)}$."
   ]
  },
  {
   "cell_type": "code",
   "execution_count": 88,
   "metadata": {},
   "outputs": [
    {
     "data": {
      "text/plain": [
       "array([0. , 0.1, 0.2, 0.3, 0.4, 0.5, 0.6, 0.7, 0.8, 0.9])"
      ]
     },
     "execution_count": 88,
     "metadata": {},
     "output_type": "execute_result"
    }
   ],
   "source": [
    "Fhatp_i = np.arange(n)/n\n",
    "Fhatp_i"
   ]
  },
  {
   "cell_type": "markdown",
   "metadata": {},
   "source": [
    "**(b)** \\[4pts\\]\n",
    "Use the results of part (a) to compute the two-sided Kolmogorov statistic $T$, and the associated $p$-value for the test of this model.  (Do not just use a function like `stats.kstest` or `stats.ks_1samp` to perform the test, although you may use it to check your answer.)"
   ]
  },
  {
   "cell_type": "code",
   "execution_count": 89,
   "metadata": {},
   "outputs": [
    {
     "data": {
      "text/plain": [
       "0.516694129846515"
      ]
     },
     "execution_count": 89,
     "metadata": {},
     "output_type": "execute_result"
    }
   ],
   "source": [
    "Tp=max(Fstar_i-Fhatp_i); Tm=max(Fhatm_i-Fstar_i); max(Tp, Tm)"
   ]
  },
  {
   "cell_type": "code",
   "execution_count": 90,
   "metadata": {},
   "outputs": [
    {
     "data": {
      "text/plain": [
       "0.005250654212466165"
      ]
     },
     "execution_count": 90,
     "metadata": {},
     "output_type": "execute_result"
    }
   ],
   "source": [
    "2*stats.ksone(n).sf(Tp)"
   ]
  },
  {
   "cell_type": "markdown",
   "metadata": {},
   "source": [
    "$$T = \\boxed{\\color{brown}{0.5166}}$$"
   ]
  },
  {
   "cell_type": "markdown",
   "metadata": {},
   "source": [
    "$$\\hbox{$p$-value} = \\boxed{\\color{brown}{0.00525}}$$"
   ]
  },
  {
   "cell_type": "markdown",
   "metadata": {},
   "source": [
    "**(c)** \\[3pts\\]\n",
    "Now suppose we wish to test the hypothesis that the lifetime is described by the two-component Poisson model, but with an unknown failure rate.  Since the $\\text{Gamma}(2,\\beta)$ distribution has a mean of $2\\beta$, a good estimate for the unknown scale parameter $\\beta$ is $\\hat\\beta(\\mathbf{x})=\\overline{x}/2$, where $\\overline{x}$ is the sample mean. Using the same data set as in part (a), evaluate, at the values of the ten order statistics $\\{x^{(i)}\\}$, the hypothesized cdf $F^*(x^{(i)};\\hat\\beta)$ using this best-fit value of the scale parameter $\\beta$."
   ]
  },
  {
   "cell_type": "code",
   "execution_count": 91,
   "metadata": {},
   "outputs": [
    {
     "data": {
      "text/plain": [
       "array([0.02132621, 0.12834118, 0.16817961, 0.26135601, 0.64287576,\n",
       "       0.67405403, 0.79730991, 0.80225693, 0.81586738, 0.89513051])"
      ]
     },
     "execution_count": 91,
     "metadata": {},
     "output_type": "execute_result"
    }
   ],
   "source": [
    "beta = 10 # days\n",
    "Fstar_i = stats.gamma(2,scale=xordered_i.mean()/2).cdf(xordered_i)\n",
    "Fstar_i"
   ]
  },
  {
   "cell_type": "markdown",
   "metadata": {},
   "source": [
    "**(d)** \\[3pts\\]\n",
    "Use the results of part (c) to compute the two-sided Kolmogorov/Lilliefors-type statistic $T_2$ for the case where we estimate the parameter $\\beta$ from the data."
   ]
  },
  {
   "cell_type": "code",
   "execution_count": 92,
   "metadata": {},
   "outputs": [],
   "source": [
    "Tp = max(Fstar_i-Fhatp_i); Tm = max(Fhatm_i-Fstar_i);"
   ]
  },
  {
   "cell_type": "code",
   "execution_count": 93,
   "metadata": {},
   "outputs": [
    {
     "data": {
      "text/plain": [
       "0.24287576469169003"
      ]
     },
     "execution_count": 93,
     "metadata": {},
     "output_type": "execute_result"
    }
   ],
   "source": [
    "max(Tp, Tm)"
   ]
  },
  {
   "cell_type": "markdown",
   "metadata": {},
   "source": [
    "$$T_2 = \\boxed{\\color{brown}{0.2428}}$$"
   ]
  },
  {
   "cell_type": "markdown",
   "metadata": {},
   "source": [
    "**(e)** \\[extra credit\\]\n",
    "Construct a Monte Carlo to estimate the $p$-value associated with the result in part (d)."
   ]
  },
  {
   "cell_type": "code",
   "execution_count": 94,
   "metadata": {},
   "outputs": [],
   "source": [
    "Fhatp_i = np.arange(n)/n\n",
    "Fhatm_i = np.arange(1,n+1)/n"
   ]
  },
  {
   "cell_type": "code",
   "execution_count": 95,
   "metadata": {},
   "outputs": [
    {
     "name": "stdout",
     "output_type": "stream",
     "text": [
      "0.2424\n"
     ]
    }
   ],
   "source": [
    "np.random.seed(20230327); Nmonte = 10**5; \n",
    "X_Ii = stats.gamma(2).rvs(size=(Nmonte,n)) \n",
    "\n",
    "betahat_I = 0.5*np.mean(X_Ii,axis=-1)\n",
    "Xordered_Ii = np.sort(X_Ii,axis=-1)\n",
    "xbar_I = np.mean(x_i,axis=-1)\n",
    "\n",
    "Fstar_Ii = stats.gamma(2).cdf(Xordered_Ii/betahat_I[:,None])\n",
    "\n",
    "Tp_I = np.max(Fstar_Ii-Fhatp_i[None,:],axis=-1); Tm_I = np.max(Fhatm_i[None,:]-Fstar_Ii,axis=-1)\n",
    "print(np.mean(np.maximum(Tp_I,Tm_I)>=max(Tp,Tm)))"
   ]
  },
  {
   "cell_type": "markdown",
   "metadata": {},
   "source": [
    "$$\\hbox{$p$-value} = \\boxed{\\color{brown}{0.2424}}$$"
   ]
  },
  {
   "cell_type": "code",
   "execution_count": null,
   "metadata": {},
   "outputs": [],
   "source": []
  }
 ],
 "metadata": {
  "kernelspec": {
   "display_name": "Python 3 (ipykernel)",
   "language": "python",
   "name": "python3"
  },
  "language_info": {
   "codemirror_mode": {
    "name": "ipython",
    "version": 3
   },
   "file_extension": ".py",
   "mimetype": "text/x-python",
   "name": "python",
   "nbconvert_exporter": "python",
   "pygments_lexer": "ipython3",
   "version": "3.9.7"
  }
 },
 "nbformat": 4,
 "nbformat_minor": 4
}
