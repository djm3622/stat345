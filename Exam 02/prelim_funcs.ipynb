{
 "cells": [
  {
   "cell_type": "markdown",
   "id": "2a910bfb-77bb-4cb7-ae61-082ed1a02387",
   "metadata": {},
   "source": [
    "# Plotting Helpers\n",
    "\n",
    "After `plt.figure()` and `plt.plot()` call the following functions to make it pretty."
   ]
  },
  {
   "cell_type": "code",
   "execution_count": null,
   "id": "40eb79d6-4c4a-47b5-b9de-90e312de807e",
   "metadata": {},
   "outputs": [],
   "source": [
    "def pretty_plot_power(sampling_dist):\n",
    "    plt.legend(); plt.xlabel(r'$\\theta$'); plt.ylabel(r'$\\gamma(\\theta)$');\n",
    "    plt.grid(); plt.xlim(0,1.0); plt.ylim(0,1); plt.title(f'Power curves for {sampling_dist} distribution');"
   ]
  },
  {
   "cell_type": "code",
   "execution_count": null,
   "id": "399dda02-e59b-4ee5-92ad-3c53ae232649",
   "metadata": {},
   "outputs": [],
   "source": [
    "def pretty_plot_roc():\n",
    "    plt.xlabel(r'$\\alpha$');plt.ylabel(r'$\\gamma$');plt.title(r'ROC curve for $N(%.1f,1)$, $n=%d$' % (theta,n));\n",
    "    plt.grid();plt.legend(loc='lower right');plt.xlim(0,1);plt.ylim(0,1);"
   ]
  },
  {
   "cell_type": "markdown",
   "id": "1202d55b-4501-4176-ab62-bddfeee0c780",
   "metadata": {},
   "source": [
    "# Monte Carlo Helpers\n",
    "\n",
    "Call these functions to do monte carlo based tests."
   ]
  },
  {
   "cell_type": "code",
   "execution_count": 1,
   "id": "2eb64e90-e688-4243-8d55-27fe18d4408d",
   "metadata": {},
   "outputs": [],
   "source": [
    "def init_monte(n, stat_instance):\n",
    "    N = 10**4; \n",
    "    np.random.seed(20250218)\n",
    "    return stat_instance.rvs(size=(N,n))"
   ]
  },
  {
   "cell_type": "code",
   "execution_count": null,
   "id": "48763dbb-6af1-42a2-b9fa-5f5aad40d45e",
   "metadata": {},
   "outputs": [],
   "source": []
  }
 ],
 "metadata": {
  "kernelspec": {
   "display_name": "Python 3 (ipykernel)",
   "language": "python",
   "name": "python3"
  },
  "language_info": {
   "codemirror_mode": {
    "name": "ipython",
    "version": 3
   },
   "file_extension": ".py",
   "mimetype": "text/x-python",
   "name": "python",
   "nbconvert_exporter": "python",
   "pygments_lexer": "ipython3",
   "version": "3.9.7"
  }
 },
 "nbformat": 4,
 "nbformat_minor": 5
}
