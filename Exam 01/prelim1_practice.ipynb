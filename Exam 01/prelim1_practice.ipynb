{
 "cells": [
  {
   "cell_type": "markdown",
   "metadata": {},
   "source": [
    "# STAT 345 Prelim Exam One -- Practice Exam"
   ]
  },
  {
   "cell_type": "markdown",
   "metadata": {},
   "source": [
    "## Name:"
   ]
  },
  {
   "cell_type": "markdown",
   "metadata": {},
   "source": [
    "You have 48 hours to do this exam, but it should only take $\\lesssim$2 hours. You may use any books or notes you like, and any electronic devices with communication capabilities\n",
    "switched off (airplane mode).  You may find it useful to use the wrapper [wilcoxdists.py](wilcoxdists.py) as well as the functionality of the Jupyter notebook.  You should not communicate with anyone or look anything up on the internet from the time you start the exam to the time you submit it.\n",
    "\n",
    "Some problems contain boxes ($\\boxed{\\color{brown}{????}}$) into which you should place your final\n",
    "answer. Express all numerical results to at least three decimal places.\n",
    "\n",
    "The exam contains three problems worth a total of 45 points. Try not to\n",
    "spend too much time on any one problem. The weight of each part of each\n",
    "problem is listed, as is the total weight for each problem. Later parts\n",
    "of a problem may or may not depend on some, but not all, of the previous\n",
    "parts.\n",
    "\n",
    "**Show your work!**"
   ]
  },
  {
   "cell_type": "markdown",
   "metadata": {},
   "source": [
    "Fill in your solutions in the notebook below, inserting markdown and/or code cells as needed.  Try to do reasonably well with the typesetting, but don't feel compelled to replicate my formatting exactly.  **You do NOT need to make random variables blue!**"
   ]
  },
  {
   "cell_type": "code",
   "execution_count": 1,
   "metadata": {},
   "outputs": [],
   "source": [
    "%matplotlib inline"
   ]
  },
  {
   "cell_type": "code",
   "execution_count": 2,
   "metadata": {},
   "outputs": [],
   "source": [
    "import numpy as np\n",
    "from scipy import stats\n",
    "import matplotlib.pyplot as plt\n",
    "plt.rcParams['figure.figsize'] = (8.0,5.0)\n",
    "plt.rcParams['font.size'] = 14"
   ]
  },
  {
   "cell_type": "markdown",
   "metadata": {},
   "source": [
    "## 1. Comparing Ratings (15 points total)"
   ]
  },
  {
   "cell_type": "markdown",
   "metadata": {},
   "source": [
    "Two brands (Airblaster and Coolmaster) of table fan receive ratings on a scale of $1$ (very bad) to $5$ (very good).  Sixty people rate the Airblaster fan and give it the following ratings:"
   ]
  },
  {
   "cell_type": "code",
   "execution_count": 3,
   "metadata": {},
   "outputs": [],
   "source": [
    "abrat_i = np.array([1, 5, 2, 5, 5, 3, 4, 3, 2, 5, 1, 5, 2, 1, 1, 5, 2, 1, 4, 1,\n",
    "                    1, 1, 5, 4, 1, 4, 3, 1, 1, 2, 1, 5, 4, 5, 3, 5, 1, 1, 1, 1,\n",
    "                    4, 2, 5, 5, 5, 5, 5, 1, 3, 3, 2, 4, 1, 1, 1, 1, 1, 2, 5, 2])"
   ]
  },
  {
   "cell_type": "markdown",
   "metadata": {},
   "source": [
    "Sixty *other* people rate the Coolmaster fan and give it the following ratings:"
   ]
  },
  {
   "cell_type": "code",
   "execution_count": 4,
   "metadata": {},
   "outputs": [],
   "source": [
    "cmrat_j = np.array([1, 5, 3, 5, 4, 2, 4, 3, 1, 2, 4, 2, 1, 3, 5, 1, 1, 5, 4, 1,\n",
    "                    5, 1, 5, 4, 3, 3, 3, 1, 4, 3, 4, 5, 1, 4, 3, 5, 4, 4, 4, 4,\n",
    "                    3, 5, 5, 5, 1, 5, 5, 5, 2, 4, 1, 3, 5, 5, 1, 4, 4, 5, 4, 5])"
   ]
  },
  {
   "cell_type": "markdown",
   "metadata": {},
   "source": [
    "**(a)** \\[6pts\\] Define, construct, and evaluate the standard rank-based statistic to test for evidence of a preference for one brand or the other."
   ]
  },
  {
   "cell_type": "markdown",
   "metadata": {},
   "source": []
  },
  {
   "cell_type": "markdown",
   "metadata": {},
   "source": [
    "$$\\hbox{Definition of statistic:} \\boxed{\\color{brown}{????}}$$"
   ]
  },
  {
   "cell_type": "markdown",
   "metadata": {},
   "source": [
    "$$\\hbox{Statistic Value:} \\boxed{\\color{brown}{????}}$$"
   ]
  },
  {
   "cell_type": "markdown",
   "metadata": {},
   "source": [
    "**(b)** \\[6pts\\] If the two fans were equally preferred, what would the expectation value and standard deviation of your statistic be for a data set like this one?"
   ]
  },
  {
   "cell_type": "markdown",
   "metadata": {},
   "source": []
  },
  {
   "cell_type": "markdown",
   "metadata": {},
   "source": [
    "$$\\hbox{Expectation Value} = \\boxed{\\color{brown}{????}}$$"
   ]
  },
  {
   "cell_type": "markdown",
   "metadata": {},
   "source": [
    "$$\\hbox{Standard deviation} = \\boxed{\\color{brown}{????}}$$"
   ]
  },
  {
   "cell_type": "markdown",
   "metadata": {},
   "source": [
    "**(c)** \\[3pts\\] Calculate the $p$-value, according to this test, associated with the observed data."
   ]
  },
  {
   "cell_type": "markdown",
   "metadata": {},
   "source": []
  },
  {
   "cell_type": "markdown",
   "metadata": {},
   "source": [
    "$$\\hbox{$p$-value} = \\boxed{\\color{brown}{????}}$$"
   ]
  },
  {
   "cell_type": "markdown",
   "metadata": {},
   "source": [
    "## 2. Thresholds for Hypothesis Tests (10 points total)"
   ]
  },
  {
   "cell_type": "markdown",
   "metadata": {},
   "source": [
    "**(a)** \\[4pts\\] Suppose we have a sample of size $n=90$ from a continuous distribution, and wish to test the hypothesis $H_0$ that the distribution has zero median against the hypothesis $H_1$ that it has positive median, using the sign test.  If $n^{+}$ is the number of positive values in the sample, find the threshold $n^{\\text{crit}}$ such that a test which rejects $H_0$ when $n^{+}>n^{\\text{crit}}$, what is the value of $n^{\\text{crit}}$ such that the significance $\\alpha$ of the test (i.e., the probability of making a Type I Error if $H_0$ is true) is as close as possible to $0.10$ without going over?"
   ]
  },
  {
   "cell_type": "markdown",
   "metadata": {},
   "source": []
  },
  {
   "cell_type": "markdown",
   "metadata": {},
   "source": [
    "$$n^{\\text{crit}} = \\boxed{\\color{brown}{????}}$$"
   ]
  },
  {
   "cell_type": "markdown",
   "metadata": {},
   "source": [
    "**(b)** \\[3pts\\] Evaluate the actual significance of the test defined in part **(a)**"
   ]
  },
  {
   "cell_type": "markdown",
   "metadata": {},
   "source": []
  },
  {
   "cell_type": "markdown",
   "metadata": {},
   "source": [
    "$$\\alpha = \\boxed{\\color{brown}{????}}$$"
   ]
  },
  {
   "cell_type": "markdown",
   "metadata": {},
   "source": [
    "**(c)** \\[3pts\\] Suppose the sample is drawn from a symmetric distribution with known standard deviation $\\sigma$, and we define a test which rejects $H_0$ when $z=\\frac{\\overline{x}}{\\sigma/\\sqrt{n}}>z^{\\text{crit}}$.  If we want this test to have the significance $\\alpha$ calculated in part **(b)**, what is the threshold $z^{\\text{crit}}$?  (The sampling distribution is not necessarily normal, but you may invoke the Central Limit Theorem.)"
   ]
  },
  {
   "cell_type": "markdown",
   "metadata": {},
   "source": []
  },
  {
   "cell_type": "markdown",
   "metadata": {},
   "source": [
    "$$z^{\\text{crit}} = \\boxed{\\color{brown}{????}}$$"
   ]
  },
  {
   "cell_type": "markdown",
   "metadata": {},
   "source": [
    "## 3 Comparison for a Logistic Sampling Distribution (20 points total)"
   ]
  },
  {
   "cell_type": "markdown",
   "metadata": {},
   "source": [
    "**Note: You should do problem 2 before doing this one.**"
   ]
  },
  {
   "cell_type": "code",
   "execution_count": 5,
   "metadata": {},
   "outputs": [
    {
     "data": {
      "image/png": "[encoded data removed]",
      "text/plain": [
       "<Figure size 800x500 with 1 Axes>"
      ]
     },
     "metadata": {},
     "output_type": "display_data"
    }
   ],
   "source": [
    "x_x = np.linspace(-6,6,1201)\n",
    "f_x = stats.logistic.pdf(x_x)\n",
    "plt.plot(x_x,f_x);\n",
    "plt.xlim(-6,6);\n",
    "plt.ylim(0,0.26);\n",
    "plt.grid();\n",
    "plt.xlabel(r'$x-\\theta$');\n",
    "plt.ylabel(r'f(x)');\n",
    "plt.title(r'PDF of Logistic Distribution (scale=1)');"
   ]
  },
  {
   "cell_type": "markdown",
   "metadata": {},
   "source": [
    "The logistic distribution has the pdf (plotted above)\n",
    "$$\n",
    "f(x) = \\frac{e^{-(x-\\theta)}}{(1+e^{-(x-\\theta)})^2}\n",
    "$$\n",
    "and (in this form) has mean $\\theta$ and standard deviation $\\sigma=\\pi/\\sqrt{3}$."
   ]
  },
  {
   "cell_type": "code",
   "execution_count": 6,
   "metadata": {},
   "outputs": [
    {
     "data": {
      "text/plain": [
       "0.0"
      ]
     },
     "execution_count": 6,
     "metadata": {},
     "output_type": "execute_result"
    }
   ],
   "source": [
    "stats.logistic.mean()"
   ]
  },
  {
   "cell_type": "code",
   "execution_count": 7,
   "metadata": {},
   "outputs": [
    {
     "data": {
      "text/plain": [
       "1.8137993642342178"
      ]
     },
     "execution_count": 7,
     "metadata": {},
     "output_type": "execute_result"
    }
   ],
   "source": [
    "sigma = stats.logistic.std(); sigma"
   ]
  },
  {
   "cell_type": "code",
   "execution_count": 8,
   "metadata": {},
   "outputs": [
    {
     "data": {
      "text/plain": [
       "1.8137993642342178"
      ]
     },
     "execution_count": 8,
     "metadata": {},
     "output_type": "execute_result"
    }
   ],
   "source": [
    "np.pi/np.sqrt(3)"
   ]
  },
  {
   "cell_type": "markdown",
   "metadata": {},
   "source": [
    "**(a)** \\[6pts\\] Using either theoretical calculations or a Monte Carlo simulation, work out the power curve $\\gamma_s(\\theta)$ for the sign test defined in part (a) of problem 2.  (You will plot this below, so store it in an array covering $\\theta=0$ to $\\theta=1$ at a reasonable density of points.)"
   ]
  },
  {
   "cell_type": "code",
   "execution_count": null,
   "metadata": {},
   "outputs": [],
   "source": []
  },
  {
   "cell_type": "markdown",
   "metadata": {},
   "source": [
    "Verify from your array that $\\gamma_s(0)=\\alpha$."
   ]
  },
  {
   "cell_type": "code",
   "execution_count": null,
   "metadata": {},
   "outputs": [],
   "source": []
  },
  {
   "cell_type": "markdown",
   "metadata": {},
   "source": [
    "**(b)** \\[6pts\\] Using either theoretical calculations or a Monte Carlo simulation, work out the power curve $\\gamma_z(\\theta)$ for the $z$-test defined in part (c) of problem 2.  (You will plot this below, so store it in an array covering $\\theta=0$ to $\\theta=1$ at a reasonable density of points.)  Keep in mind that the (known) standard deviation of the distribution is $\\sigma=\\pi/\\sqrt{3}\\ne 1$."
   ]
  },
  {
   "cell_type": "code",
   "execution_count": null,
   "metadata": {},
   "outputs": [],
   "source": []
  },
  {
   "cell_type": "markdown",
   "metadata": {},
   "source": [
    "Verify from your array that $\\gamma_z(0)=\\alpha$."
   ]
  },
  {
   "cell_type": "code",
   "execution_count": null,
   "metadata": {},
   "outputs": [],
   "source": []
  },
  {
   "cell_type": "markdown",
   "metadata": {},
   "source": [
    "**(c)** \\[5pts\\] On the same set of axes, plot $\\gamma_s(\\theta)$ and $\\gamma_z(\\theta)$ versus $\\theta$."
   ]
  },
  {
   "cell_type": "code",
   "execution_count": null,
   "metadata": {},
   "outputs": [],
   "source": []
  },
  {
   "cell_type": "markdown",
   "metadata": {},
   "source": [
    "Compare the power of the two tests; what feature of the sampling distribution might explain their relative power?"
   ]
  },
  {
   "cell_type": "markdown",
   "metadata": {},
   "source": []
  },
  {
   "cell_type": "markdown",
   "metadata": {},
   "source": [
    "**(d)** \\[3pts\\] What other test might you use in this situation?  (Just the name is sufficient.)"
   ]
  },
  {
   "cell_type": "markdown",
   "metadata": {},
   "source": []
  }
 ],
 "metadata": {
  "kernelspec": {
   "display_name": "Python 3 (ipykernel)",
   "language": "python",
   "name": "python3"
  },
  "language_info": {
   "codemirror_mode": {
    "name": "ipython",
    "version": 3
   },
   "file_extension": ".py",
   "mimetype": "text/x-python",
   "name": "python",
   "nbconvert_exporter": "python",
   "pygments_lexer": "ipython3",
   "version": "3.11.0"
  }
 },
 "nbformat": 4,
 "nbformat_minor": 1
}
