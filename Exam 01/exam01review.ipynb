{
 "cells": [
  {
   "cell_type": "markdown",
   "id": "809d3db7-0f56-4b2f-b6c0-806a23c1e6a8",
   "metadata": {},
   "source": [
    "# Exam 01 Review"
   ]
  },
  {
   "cell_type": "code",
   "execution_count": null,
   "id": "e5b11dad-6fa8-49fd-833f-592a86fdb84a",
   "metadata": {},
   "outputs": [],
   "source": [
    "%matplotlib inline"
   ]
  },
  {
   "cell_type": "code",
   "execution_count": null,
   "id": "f16a06ec-a59f-4112-89ae-4c8945cc6c2d",
   "metadata": {},
   "outputs": [],
   "source": [
    "import numpy as np\n",
    "from scipy import stats\n",
    "import matplotlib.pyplot as plt\n",
    "plt.rcParams['figure.figsize'] = (8.0,5.0)\n",
    "plt.rcParams['font.size'] = 14"
   ]
  },
  {
   "cell_type": "markdown",
   "id": "6bd56fbf-443a-4c36-ac05-accb0a4cf9c7",
   "metadata": {},
   "source": [
    "When to use sign rank test vs rank sum test?\n",
    "\n",
    "Difference between paired data and independent samples:\n",
    "- $(x_1, y_1), (x_2, x_2)$ Paired data: sign test, signed rank test (Wilcoxon)\n",
    "- $x_1, x_2 \\ldots, x_n$ and $y_1, y_2 \\ldots, y_m$ Independent samples: rank sum test (Wilcoxon-Mann-Whitney)"
   ]
  },
  {
   "cell_type": "markdown",
   "id": "57e5b2fa-5757-4325-b700-69ef98a6b1d9",
   "metadata": {},
   "source": [
    "- Estimate proportion of a population (or probability of success) from a sample of yes/no answers: Binomal test. E.g., 520 out of 1000 voters polled support candidate A. We estimate 53% $\\pm$??? of the full population support them.\n",
    "- Estimate 70th percentile of the sampling distribution from a sample of $n$ observed values: quantile test or quantile interval (median = 50th percentile)."
   ]
  },
  {
   "cell_type": "code",
   "execution_count": null,
   "id": "a43df8eb-0a02-44c4-85a9-e9804e3f7594",
   "metadata": {},
   "outputs": [],
   "source": []
  },
  {
   "cell_type": "code",
   "execution_count": null,
   "id": "87de5f3d-de93-4b0c-a581-8a2fdeb67538",
   "metadata": {},
   "outputs": [],
   "source": []
  },
  {
   "cell_type": "code",
   "execution_count": null,
   "id": "10abd915-ad06-4dcb-a960-6f1ed90a82ed",
   "metadata": {},
   "outputs": [],
   "source": []
  },
  {
   "cell_type": "code",
   "execution_count": null,
   "id": "9c2770e4-1127-4f10-b406-48a7cd822933",
   "metadata": {},
   "outputs": [],
   "source": []
  }
 ],
 "metadata": {
  "kernelspec": {
   "display_name": "Python 3 (ipykernel)",
   "language": "python",
   "name": "python3"
  },
  "language_info": {
   "codemirror_mode": {
    "name": "ipython",
    "version": 3
   },
   "file_extension": ".py",
   "mimetype": "text/x-python",
   "name": "python",
   "nbconvert_exporter": "python",
   "pygments_lexer": "ipython3",
   "version": "3.9.7"
  }
 },
 "nbformat": 4,
 "nbformat_minor": 5
}
