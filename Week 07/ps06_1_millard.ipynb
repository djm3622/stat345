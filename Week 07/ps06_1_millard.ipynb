{
 "cells": [
  {
   "cell_type": "markdown",
   "metadata": {},
   "source": [
    "# Problem Set 6, Part One: Due Thursday, March 6 by 8am Eastern Standard Time"
   ]
  },
  {
   "cell_type": "markdown",
   "metadata": {},
   "source": [
    "## Name: David Millard"
   ]
  },
  {
   "cell_type": "markdown",
   "metadata": {},
   "source": [
    "**Show your work on all problems!** Be sure to give credit to any\n",
    "collaborators, or outside sources used in solving the problems. Note\n",
    "that if using an outside source to do a calculation, you should use it\n",
    "as a reference for the method, and actually carry out the calculation\n",
    "yourself; it’s not sufficient to quote the results of a calculation\n",
    "contained in an outside source."
   ]
  },
  {
   "cell_type": "markdown",
   "metadata": {},
   "source": [
    "Fill in your solutions in the notebook below, inserting markdown and/or code cells as needed.  Try to do reasonably well with the typesetting, but don't feel compelled to replicate my formatting exactly.  **You do NOT need to make random variables blue!**"
   ]
  },
  {
   "cell_type": "code",
   "execution_count": 1,
   "metadata": {},
   "outputs": [],
   "source": [
    "%matplotlib inline"
   ]
  },
  {
   "cell_type": "code",
   "execution_count": 2,
   "metadata": {},
   "outputs": [],
   "source": [
    "import numpy as np\n",
    "from scipy import stats\n",
    "import matplotlib.pyplot as plt\n",
    "plt.rcParams['figure.figsize'] = (8.0,5.0)\n",
    "plt.rcParams['font.size'] = 14"
   ]
  },
  {
   "cell_type": "markdown",
   "metadata": {},
   "source": [
    "### Conover Problems on The Squared-Ranks Test"
   ]
  },
  {
   "cell_type": "markdown",
   "metadata": {},
   "source": [
    "#### Exercise 5.3.2:"
   ]
  },
  {
   "cell_type": "markdown",
   "metadata": {},
   "source": [
    "A particular watershed has been built up extensively in recent years,\n",
    "with housing developments, dams, and so forth. A random sample of stream\n",
    "flow rates (cubic feet per minute) for a stream in that watershed is\n",
    "compared with a sample of rates from earlier times to see if the\n",
    "variability has changed."
   ]
  },
  {
   "cell_type": "markdown",
   "metadata": {},
   "source": [
    "<table>\n",
    "<tr><th>Present Rates</th><th>Past Rates</th></tr>\n",
    "<tr><td>32</td><td>39</td></tr>\n",
    "<tr><td>36</td><td>21</td></tr>\n",
    "<tr><td>41</td><td>58</td></tr>\n",
    "<tr><td>27</td><td>46</td></tr>\n",
    "<tr><td>35</td><td>30</td></tr>\n",
    "<tr><td>48</td><td>22</td></tr>\n",
    "<tr><td>31</td><td>17</td></tr>\n",
    "<tr><td>28</td><td>19</td></tr>\n",
    "</table>"
   ]
  },
  {
   "cell_type": "markdown",
   "metadata": {},
   "source": [
    "Is there a significant difference in variances? \\[Calculate a $p$-value.\\]"
   ]
  },
  {
   "cell_type": "markdown",
   "metadata": {},
   "source": [
    "$H_0$: There is no difference in variances.\n",
    "\n",
    "$H_1$: There is a difference in variances.\n",
    "\n",
    "$T = 2.2082$\n",
    "\n",
    "$p$-value = $0.0272$\n",
    "\n",
    "Since $0.0272 < 0.05$ we have sufficient evidence to reject the null hypothesis."
   ]
  },
  {
   "cell_type": "code",
   "execution_count": 3,
   "metadata": {},
   "outputs": [
    {
     "data": {
      "text/plain": [
       "(array([ 2.75,  1.25,  6.25,  7.75,  0.25, 13.25,  3.75,  6.75]),\n",
       " array([ 7.5, 10.5, 26.5, 14.5,  1.5,  9.5, 14.5, 12.5]))"
      ]
     },
     "execution_count": 3,
     "metadata": {},
     "output_type": "execute_result"
    }
   ],
   "source": [
    "x_i = np.array([32, 36, 41, 27, 35, 48, 31, 28]); y_j = np.array([39, 21, 58, 46, 30, 22, 17, 19])\n",
    "n = len(x_i); m = len(y_j); N = n+m; xbar = np.mean(x_i); ybar = np.mean(y_j);\n",
    "U_i = np.abs(x_i - xbar); V_j = np.abs(y_j - ybar); U_i, V_j"
   ]
  },
  {
   "cell_type": "code",
   "execution_count": 4,
   "metadata": {},
   "outputs": [
    {
     "data": {
      "text/plain": [
       "(array([ 4.,  2.,  6.,  9.,  1., 13.,  5.,  7.]),\n",
       " array([ 8. , 11. , 16. , 14.5,  3. , 10. , 14.5, 12. ]))"
      ]
     },
     "execution_count": 4,
     "metadata": {},
     "output_type": "execute_result"
    }
   ],
   "source": [
    "UV_r = np.concatenate((U_i,V_j)); R_r = stats.rankdata(UV_r);\n",
    "RU_i = R_r[:n]; RV_j = R_r[n:]; RU_i, RV_j"
   ]
  },
  {
   "cell_type": "code",
   "execution_count": 5,
   "metadata": {},
   "outputs": [
    {
     "data": {
      "text/plain": [
       "array([ 16.  ,   4.  ,  36.  ,  81.  ,   1.  , 169.  ,  25.  ,  49.  ,\n",
       "        64.  , 121.  , 256.  , 210.25,   9.  , 100.  , 210.25, 144.  ])"
      ]
     },
     "execution_count": 5,
     "metadata": {},
     "output_type": "execute_result"
    }
   ],
   "source": [
    "Rsq_r = R_r**2; Rsq_r"
   ]
  },
  {
   "cell_type": "code",
   "execution_count": 6,
   "metadata": {},
   "outputs": [
    {
     "data": {
      "text/plain": [
       "(93.46875, 93.5)"
      ]
     },
     "execution_count": 6,
     "metadata": {},
     "output_type": "execute_result"
    }
   ],
   "source": [
    "Rsqbar = np.mean(Rsq_r); Rsqbar, (N+1)*(2*N+1)/6."
   ]
  },
  {
   "cell_type": "code",
   "execution_count": 7,
   "metadata": {},
   "outputs": [
    {
     "data": {
      "text/plain": [
       "(381.0, 1114.5)"
      ]
     },
     "execution_count": 7,
     "metadata": {},
     "output_type": "execute_result"
    }
   ],
   "source": [
    "TU = np.sum(RU_i**2); TV = np.sum(RV_j**2); TU, TV"
   ]
  },
  {
   "cell_type": "code",
   "execution_count": 8,
   "metadata": {},
   "outputs": [],
   "source": [
    "varT = n*m/(N-1) * np.mean((Rsq_r-Rsqbar)**2)"
   ]
  },
  {
   "cell_type": "code",
   "execution_count": 9,
   "metadata": {},
   "outputs": [
    {
     "data": {
      "text/plain": [
       "-2.2082732775052087"
      ]
     },
     "execution_count": 9,
     "metadata": {},
     "output_type": "execute_result"
    }
   ],
   "source": [
    "T1 = (TU-n*Rsqbar)/np.sqrt(varT); T1"
   ]
  },
  {
   "cell_type": "code",
   "execution_count": 10,
   "metadata": {},
   "outputs": [
    {
     "data": {
      "text/plain": [
       "0.027225228961902093"
      ]
     },
     "execution_count": 10,
     "metadata": {},
     "output_type": "execute_result"
    }
   ],
   "source": [
    "2*stats.norm.cdf(T1)"
   ]
  },
  {
   "cell_type": "markdown",
   "metadata": {},
   "source": [
    "#### Exercise 5.3.4:"
   ]
  },
  {
   "cell_type": "markdown",
   "metadata": {},
   "source": [
    "An investment class was divided into three groups of students. One group\n",
    "was instructed to invest in bonds, the second in blue chip stocks, and\n",
    "the third in speculative issues. Each student “invested” (on paper only)\n",
    "\\$10,000 and evaluated the hypothetical profit or loss at the end of 3\n",
    "months with the following results."
   ]
  },
  {
   "cell_type": "markdown",
   "metadata": {},
   "source": [
    "<table>\n",
    "<tr><th>Bonds</th><th>Blue Chip</th><th>Speculative</th></tr>\n",
    "<tr><td>146</td><td>176</td><td>-540</td></tr>\n",
    "<tr><td>180</td><td>110</td><td>1052</td></tr>\n",
    "<tr><td>192</td><td>212</td><td> 642</td></tr>\n",
    "<tr><td>185</td><td>108</td><td>-281</td></tr>\n",
    "<tr><td>153</td><td>196</td><td> 67</td></tr>\n",
    "</table>"
   ]
  },
  {
   "cell_type": "markdown",
   "metadata": {},
   "source": [
    "Is the difference in variance significant? If so, which groups are\n",
    "significantly different?"
   ]
  },
  {
   "cell_type": "markdown",
   "metadata": {},
   "source": [
    "$H_0$: There is no difference in variances.\n",
    "\n",
    "$H_1$: There is a difference in variances.\n",
    "\n",
    "$T = 11.7098$\n",
    "\n",
    "$p$-value = $0.0028$\n",
    "\n",
    "Since $00.0028 < 0.05$ we have sufficient evidence to reject the null hypothesis."
   ]
  },
  {
   "cell_type": "code",
   "execution_count": 11,
   "metadata": {},
   "outputs": [
    {
     "data": {
      "text/plain": [
       "(array([5, 5, 5]), 3, 15)"
      ]
     },
     "execution_count": 11,
     "metadata": {},
     "output_type": "execute_result"
    }
   ],
   "source": [
    "x_i_j = [\n",
    "    np.array([146, 180, 192, 185, 153]),\n",
    "    np.array([176, 110, 212, 108, 196]),\n",
    "    np.array([-540, 1052, 642, -281, 67])\n",
    "]\n",
    "n_i = np.array([len(xi_j) for xi_j in x_i_j]); k = len(n_i); N = np.sum(n_i); n_i,k,N"
   ]
  },
  {
   "cell_type": "code",
   "execution_count": 12,
   "metadata": {},
   "outputs": [
    {
     "data": {
      "text/plain": [
       "array([171.2, 160.4, 188. ])"
      ]
     },
     "execution_count": 12,
     "metadata": {},
     "output_type": "execute_result"
    }
   ],
   "source": [
    "xbar_i = np.array([np.mean(xi_j) for xi_j in x_i_j]); xbar_i"
   ]
  },
  {
   "cell_type": "code",
   "execution_count": 13,
   "metadata": {},
   "outputs": [
    {
     "data": {
      "text/plain": [
       "[array([25.2,  8.8, 20.8, 13.8, 18.2]),\n",
       " array([15.6, 50.4, 51.6, 52.4, 35.6]),\n",
       " array([728., 864., 454., 469., 121.])]"
      ]
     },
     "execution_count": 13,
     "metadata": {},
     "output_type": "execute_result"
    }
   ],
   "source": [
    "U_i_j = [np.abs(xi_j-np.mean(xi_j)) for xi_j in x_i_j]; U_i_j"
   ]
  },
  {
   "cell_type": "code",
   "execution_count": 14,
   "metadata": {},
   "outputs": [
    {
     "data": {
      "text/plain": [
       "[array([6., 1., 5., 2., 4.]),\n",
       " array([ 3.,  8.,  9., 10.,  7.]),\n",
       " array([14., 15., 12., 13., 11.])]"
      ]
     },
     "execution_count": 14,
     "metadata": {},
     "output_type": "execute_result"
    }
   ],
   "source": [
    "U_r = np.concatenate(U_i_j); RU_r = stats.rankdata(U_r)\n",
    "i_r = np.concatenate([(i,)*n_i[i] for i in range(k)])\n",
    "RU_i_j = [RU_r[i_r==i] for i in range(k)]; RU_i_j"
   ]
  },
  {
   "cell_type": "code",
   "execution_count": 15,
   "metadata": {},
   "outputs": [
    {
     "data": {
      "text/plain": [
       "array([ 82., 303., 855.])"
      ]
     },
     "execution_count": 15,
     "metadata": {},
     "output_type": "execute_result"
    }
   ],
   "source": [
    "S_i = np.array([np.sum(RUi_j**2) for RUi_j in RU_i_j]); S_i"
   ]
  },
  {
   "cell_type": "code",
   "execution_count": 16,
   "metadata": {},
   "outputs": [
    {
     "data": {
      "text/plain": [
       "82.66666666666667"
      ]
     },
     "execution_count": 16,
     "metadata": {},
     "output_type": "execute_result"
    }
   ],
   "source": [
    "Sbar = np.mean(RU_r**2); Sbar"
   ]
  },
  {
   "cell_type": "code",
   "execution_count": 17,
   "metadata": {},
   "outputs": [
    {
     "data": {
      "text/plain": [
       "(5414.666666666665, 5414.666666666666, 5414.666666666666)"
      ]
     },
     "execution_count": 17,
     "metadata": {},
     "output_type": "execute_result"
    }
   ],
   "source": [
    "Dsq=N/(N-1)*np.mean((RU_r**2-Sbar)**2); Dsq, N/(N-1)*(np.mean(RU_r**4)-Sbar**2),(np.sum(RU_r**4)-N*Sbar**2)/(N-1) "
   ]
  },
  {
   "cell_type": "code",
   "execution_count": 18,
   "metadata": {},
   "outputs": [
    {
     "data": {
      "text/plain": [
       "11.709849790691951"
      ]
     },
     "execution_count": 18,
     "metadata": {},
     "output_type": "execute_result"
    }
   ],
   "source": [
    "T = np.sum((S_i-n_i*Sbar)**2/n_i)/Dsq; T"
   ]
  },
  {
   "cell_type": "code",
   "execution_count": 19,
   "metadata": {},
   "outputs": [
    {
     "data": {
      "text/plain": [
       "0.0028657508242562442"
      ]
     },
     "execution_count": 19,
     "metadata": {},
     "output_type": "execute_result"
    }
   ],
   "source": [
    "stats.chi2(df=k-1).sf(T)"
   ]
  },
  {
   "cell_type": "markdown",
   "metadata": {},
   "source": [
    "#### Problem 5.3.1:"
   ]
  },
  {
   "cell_type": "markdown",
   "metadata": {},
   "source": [
    "Find the exact distribution of $T$ as given by Equation 3\n",
    "\\[$T=\\sum_{i=1}^n [R(U_i)]^2$\\] for $n=3$ and $m=4$ and compare it with\n",
    "the quantiles from Table A9."
   ]
  },
  {
   "cell_type": "code",
   "execution_count": 20,
   "metadata": {},
   "outputs": [],
   "source": [
    "import itertools\n",
    "from scipy.special import comb as nchoosek"
   ]
  },
  {
   "cell_type": "code",
   "execution_count": 21,
   "metadata": {},
   "outputs": [
    {
     "name": "stdout",
     "output_type": "stream",
     "text": [
      "7 (35, 3)\n"
     ]
    },
    {
     "data": {
      "text/plain": [
       "array([ 14,  21,  26,  29,  30,  35,  38,  41,  42,  45,  46,  49,  50,\n",
       "        53,  54,  56,  59,  61,  62,  62,  65,  66,  69,  70,  74,  75,\n",
       "        77,  78,  83,  86,  89,  90,  94, 101, 110])"
      ]
     },
     "execution_count": 21,
     "metadata": {},
     "output_type": "execute_result"
    }
   ],
   "source": [
    "n = 3; m = 4; N = n + m\n",
    "\n",
    "RU_Ii = np.array([thisRU_i for thisRU_i in itertools.combinations(range(1,N+1),n)])\n",
    "\n",
    "print(N, RU_Ii.shape)\n",
    "\n",
    "TU_I = np.sort(np.sum(RU_Ii**2,axis=-1)); TU_I"
   ]
  },
  {
   "cell_type": "code",
   "execution_count": 22,
   "metadata": {},
   "outputs": [
    {
     "data": {
      "text/plain": [
       "(90, 21, 101)"
      ]
     },
     "execution_count": 22,
     "metadata": {},
     "output_type": "execute_result"
    }
   ],
   "source": [
    "alpha = 0.1\n",
    "\n",
    "def calculate_critical_values(T_values, alpha):\n",
    "    sorted_T = np.sort(T_values)\n",
    "    \n",
    "    one_tailed_critical = sorted_T[int((1 - alpha) * len(T_values))]\n",
    "    \n",
    "    lower_tailed_critical = sorted_T[int((alpha / 2) * len(T_values))]\n",
    "    upper_tailed_critical = sorted_T[int((1 - alpha / 2) * len(T_values))]\n",
    "    \n",
    "    return one_tailed_critical, lower_tailed_critical, upper_tailed_critical\n",
    "\n",
    "calculate_critical_values(TU_I, alpha)"
   ]
  },
  {
   "cell_type": "markdown",
   "metadata": {},
   "source": [
    "### Conover Problems on Rank Correlations"
   ]
  },
  {
   "cell_type": "markdown",
   "metadata": {},
   "source": [
    "#### Exercise 5.4.2:"
   ]
  },
  {
   "cell_type": "markdown",
   "metadata": {},
   "source": [
    "The following is an example of a situation in which $\\tau$ and $\\rho$\n",
    "yield widely varying estimates of correlation."
   ]
  },
  {
   "cell_type": "markdown",
   "metadata": {},
   "source": [
    "<table>\n",
    "<tr><th>$\\boldsymbol{X_i}$</th><th>$\\boldsymbol{Y_i}$</th><th>$\\boldsymbol{X_i}$</th><th>$\\boldsymbol{Y_i}$</th><th>$\\boldsymbol{X_i}$</th><th>$\\boldsymbol{Y_i}$</th></tr>\n",
    "<tr><td>-8.7</td><td>-0.6</td><td>-1.9</td><td>-4.7</td><td>2.2</td><td> 3.8</td></tr>\n",
    "<tr><td>-8.3</td><td>-0.8</td><td>-1.6</td><td>-5.5</td><td>4.0</td><td> 3.5</td></tr>\n",
    "<tr><td>-8.2</td><td>-1.3</td><td>-1.3</td><td>-5.6</td><td>5.6</td><td> 3.1</td></tr>\n",
    "<tr><td>-7.2</td><td>-1.9</td><td>-0.2</td><td>-6.0</td><td>5.9</td><td> 2.6</td></tr>\n",
    "<tr><td>-6.1</td><td>-2.0</td><td>0.7</td><td> 4.6</td><td> 6.2</td><td> 2.0</td></tr>\n",
    "<tr><td>-6.0</td><td>-2.1</td><td>1.3</td><td> 4.4</td><td> 6.6</td><td> 1.2</td></tr>\n",
    "<tr><td>-4.1</td><td>-4.0</td><td>1.6</td><td> 4.2</td><td> 6.7</td><td> 0.6</td></tr>\n",
    "<tr><td>-2.0</td><td>-4.6</td><td>2.1</td><td> 3.9</td><td> 8.1</td><td> 0.4</td></tr>\n",
    "</table>"
   ]
  },
  {
   "cell_type": "markdown",
   "metadata": {},
   "source": [
    "\\[For convenience, here are the data in numpy array form:\\]"
   ]
  },
  {
   "cell_type": "code",
   "execution_count": 23,
   "metadata": {},
   "outputs": [],
   "source": [
    "x_i = np.array([-8.7,-8.3,-8.2,-7.2,-6.1,-6.0,-4.1,-2.0,\n",
    "                -1.9,-1.6,-1.3,-0.2, 0.7, 1.3, 1.6, 2.1,\n",
    "                2.2, 4.0, 5.6, 5.9, 6.2, 6.6, 6.7, 8.1])\n",
    "y_i = np.array([-0.6,-0.8,-1.3,-1.9,-2.0,-2.1,-4.0,-4.6,\n",
    "                -4.7,-5.5,-5.6,-6.0, 4.6, 4.4, 4.2, 3.9,\n",
    "                3.8, 3.5, 3.1, 2.6, 2.0, 1.2, 0.6, 0.4])"
   ]
  },
  {
   "cell_type": "markdown",
   "metadata": {},
   "source": [
    "**(a)** Make a rough scatter diagram."
   ]
  },
  {
   "cell_type": "code",
   "execution_count": 24,
   "metadata": {},
   "outputs": [
    {
     "data": {
      "image/png": "[encoded data removed]",
      "text/plain": [
       "<Figure size 800x500 with 1 Axes>"
      ]
     },
     "metadata": {},
     "output_type": "display_data"
    }
   ],
   "source": [
    "plt.plot(x_i,y_i,'k.');plt.xlabel(r'$x_i$');plt.ylabel(r'$y_i$');plt.grid();"
   ]
  },
  {
   "cell_type": "markdown",
   "metadata": {},
   "source": [
    "**(b)** Compute $\\tau$."
   ]
  },
  {
   "cell_type": "code",
   "execution_count": 25,
   "metadata": {},
   "outputs": [],
   "source": [
    "def is_concordant(pt1,pt2):\n",
    "    return ((pt1[0]>pt2[0])&(pt1[1]>pt2[1])|(pt1[0]<pt2[0])&(pt1[1]<pt2[1]))\n",
    "\n",
    "def is_discordant(pt1,pt2):\n",
    "    return ((pt1[0]>pt2[0])&(pt1[1]<pt2[1])|(pt1[0]<pt2[0])&(pt1[1]>pt2[1]))\n",
    "\n",
    "n=len(x_i)"
   ]
  },
  {
   "cell_type": "code",
   "execution_count": 26,
   "metadata": {},
   "outputs": [
    {
     "name": "stdout",
     "output_type": "stream",
     "text": [
      "144 132\n"
     ]
    }
   ],
   "source": [
    "Nc = np.sum([is_concordant((x_i[i],y_i[i]),(x_i[j],y_i[j])) for (i,j) in itertools.combinations(range(n),2)])\n",
    "Nd = np.sum([is_discordant((x_i[i],y_i[i]),(x_i[j],y_i[j])) for (i,j) in itertools.combinations(range(n),2)]); Nd\n",
    "\n",
    "print(Nc, Nd)"
   ]
  },
  {
   "cell_type": "code",
   "execution_count": 27,
   "metadata": {},
   "outputs": [
    {
     "data": {
      "text/plain": [
       "0.043478260869565216"
      ]
     },
     "execution_count": 27,
     "metadata": {},
     "output_type": "execute_result"
    }
   ],
   "source": [
    "tau = (Nc-Nd)/(Nc+Nd); tau"
   ]
  },
  {
   "cell_type": "code",
   "execution_count": 28,
   "metadata": {},
   "outputs": [
    {
     "data": {
      "text/plain": [
       "SignificanceResult(statistic=0.043478260869565216, pvalue=0.7872722233024857)"
      ]
     },
     "execution_count": 28,
     "metadata": {},
     "output_type": "execute_result"
    }
   ],
   "source": [
    "stats.kendalltau(x_i,y_i) # sanity check"
   ]
  },
  {
   "cell_type": "markdown",
   "metadata": {},
   "source": [
    "**(c)** Compute $\\rho$."
   ]
  },
  {
   "cell_type": "code",
   "execution_count": 29,
   "metadata": {},
   "outputs": [
    {
     "name": "stdout",
     "output_type": "stream",
     "text": [
      "0.5026086956521739 0.012311224300312232\n"
     ]
    }
   ],
   "source": [
    "Rx_i = stats.rankdata(x_i); Ry_i = stats.rankdata(y_i)\n",
    "\n",
    "Rbar = np.mean(Rx_i)\n",
    "\n",
    "rho = np.sum((Rx_i-Rbar)*(Ry_i-Rbar) / np.sqrt(np.sum((Rx_i-Rbar)**2)*np.sum((Ry_i-Rbar)**2)))\n",
    "p = 2*stats.t(df=n-2).sf(np.abs(rho)*np.sqrt((n-2)/(1-rho**2)))\n",
    "\n",
    "print(rho, p)"
   ]
  },
  {
   "cell_type": "code",
   "execution_count": 30,
   "metadata": {},
   "outputs": [
    {
     "data": {
      "text/plain": [
       "SignificanceResult(statistic=0.5026086956521739, pvalue=0.012311224300312232)"
      ]
     },
     "execution_count": 30,
     "metadata": {},
     "output_type": "execute_result"
    }
   ],
   "source": [
    "stats.spearmanr(x_i,y_i) # sanity check"
   ]
  },
  {
   "cell_type": "markdown",
   "metadata": {},
   "source": [
    "**(d)** Does either $\\rho$ or $\\tau$ lead to rejection of the null hypothesis\n",
    "that $X$ and $Y$ are independent?"
   ]
  },
  {
   "cell_type": "markdown",
   "metadata": {},
   "source": [
    "$\\rho$ leads to a rejection of the null hypothesis while $\\tau$ does not. "
   ]
  },
  {
   "cell_type": "markdown",
   "metadata": {},
   "source": [
    "#### Exercise 5.4.4:"
   ]
  },
  {
   "cell_type": "markdown",
   "metadata": {},
   "source": [
    "Is there a significant correlation between the age at which a\n",
    "U.S.president was inaugurated for the first time and the age at which he\n",
    "\\[sic\\] died?"
   ]
  },
  {
   "cell_type": "markdown",
   "metadata": {},
   "source": [
    "<table>\n",
    "<tr><th>Name</th><th>Inaugurated</th><th>Died</th><th>Name</th><th>Inaugurated</th><th>Died</th></tr></td></tr>\n",
    "<tr><td>Washington</td><td>     57</td><td>67</td><td>Hayes</td><td>       54</td><td>70</td></tr>\n",
    "<tr><td>J. Adams</td><td>       61</td><td>90</td><td>Garfield</td><td>    49</td><td>49</td></tr>\n",
    "<tr><td>Jefferson</td><td>      57</td><td>83</td><td>Arthur</td><td>      50</td><td>56</td></tr>\n",
    "<tr><td>Madison</td><td>   57</td><td>85</td><td>Cleveland</td><td>   47</td><td>71</td></tr>\n",
    "<tr><td>Monroe</td><td>         58</td><td>73</td><td>[B.] Harrison</td><td> 55</td><td>67</td></tr>\n",
    "<tr><td>J. Q. Adams</td><td>    57</td><td>80</td><td>McKinley</td><td>    54</td><td>58</td></tr>\n",
    "<tr><td>Jackson</td><td>        61</td><td>78</td><td>T. Roosevelt</td><td>42</td><td>60</td></tr>\n",
    "<tr><td>Van Buren</td><td>      54</td><td>79</td><td>Taft</td><td>        51</td><td>72</td></tr>\n",
    "<tr><td>[W. H.] Harrison</td><td>68</td><td>68</td><td>Wilson</td><td>      56</td><td>67</td></tr>\n",
    "<tr><td>Tyler</td><td>          51</td><td>71</td><td>Harding</td><td>     55</td><td>57</td></tr>\n",
    "<tr><td>Polk</td><td>           49</td><td>53</td><td>Coolidge</td><td>    51</td><td>60</td></tr>\n",
    "<tr><td>Taylor</td><td>         64</td><td>65</td><td>Hoover</td><td>      54</td><td>90</td></tr>\n",
    "<tr><td>Fillmore</td><td>  50</td><td>74</td><td>F. Roosevelt</td><td>51</td><td>63</td></tr>\n",
    "<tr><td>Pierce</td><td>         48</td><td>64</td><td>Truman</td><td>      60</td><td>88</td></tr>\n",
    "<tr><td>Buchanan</td><td>       65</td><td>77</td><td>Eisenhower</td><td>  62</td><td>78</td></tr>\n",
    "<tr><td>Lincoln</td><td>        52</td><td>56</td><td>     Kennedy</td><td>     43</td><td>46</td></tr>\n",
    "<tr><td>A. Johnson</td><td>     56</td><td>66</td><td>L. Johnson</td><td>  55</td><td>64</td></tr>\n",
    "<tr><td>Grant</td><td>          46</td><td>63</td><td>Nixon</td><td>       56</td><td>81</td></tr>\n",
    "</table>"
   ]
  },
  {
   "cell_type": "markdown",
   "metadata": {},
   "source": [
    "\\[Look up the ages for Gerald Ford, Jimmy Carter, Ronald Reagan, and George H. W. Bush, and append them to the data from the book.\\]"
   ]
  },
  {
   "cell_type": "code",
   "execution_count": 31,
   "metadata": {},
   "outputs": [],
   "source": [
    "x_i = np.array([57, 61, 57, 57, 58, 57, 61, 54, 68, 51, 49, 64, 50, 48, 65, 52, 56, 46, \n",
    "                54, 49, 50, 47, 55, 54, 42, 51, 56, 55, 51, 54, 51, 60, 62, 43, 55, 56])\n",
    "\n",
    "y_i = np.array([67, 90, 83, 85, 73, 80, 78, 79, 68, 71, 53, 65, 74, 64, 77, 56, 66, 63, \n",
    "                70, 49, 56, 71, 67, 58, 60, 72, 67, 57, 60, 90, 63, 88, 78, 46, 64, 81])"
   ]
  },
  {
   "cell_type": "code",
   "execution_count": 32,
   "metadata": {},
   "outputs": [
    {
     "data": {
      "image/png": "[encoded data removed]",
      "text/plain": [
       "<Figure size 800x500 with 1 Axes>"
      ]
     },
     "metadata": {},
     "output_type": "display_data"
    }
   ],
   "source": [
    "plt.plot(x_i,y_i,'k.');plt.xlabel(r'$x_i$');plt.ylabel(r'$y_i$');plt.grid();"
   ]
  },
  {
   "cell_type": "markdown",
   "metadata": {},
   "source": [
    "**(a)** Use Spearman’s $\\rho$."
   ]
  },
  {
   "cell_type": "markdown",
   "metadata": {},
   "source": [
    "$H_0$: There is no correlation between the variables.\n",
    "\n",
    "$H_1$: There is a correlation between the variables.\n",
    "\n",
    "$\\rho = 0.5838$\n",
    "\n",
    "$p$-value $=0.00018$\n",
    "\n",
    "Since $0.00018<0.05$ we have suffiecient evidence to reject the null hypothesis."
   ]
  },
  {
   "cell_type": "code",
   "execution_count": 33,
   "metadata": {},
   "outputs": [
    {
     "name": "stdout",
     "output_type": "stream",
     "text": [
      "0.5838724796155763 0.00018529531820576624\n"
     ]
    }
   ],
   "source": [
    "n=len(x_i)\n",
    "\n",
    "Rx_i = stats.rankdata(x_i); Ry_i = stats.rankdata(y_i)\n",
    "\n",
    "Rbar = np.mean(Rx_i)\n",
    "\n",
    "rho = np.sum((Rx_i-Rbar)*(Ry_i-Rbar) / np.sqrt(np.sum((Rx_i-Rbar)**2)*np.sum((Ry_i-Rbar)**2)))\n",
    "p = 2*stats.t(df=n-2).sf(np.abs(rho)*np.sqrt((n-2)/(1-rho**2)))\n",
    "\n",
    "print(rho, p)"
   ]
  },
  {
   "cell_type": "code",
   "execution_count": 34,
   "metadata": {},
   "outputs": [
    {
     "data": {
      "text/plain": [
       "SignificanceResult(statistic=0.5838724796155763, pvalue=0.00018529531820576624)"
      ]
     },
     "execution_count": 34,
     "metadata": {},
     "output_type": "execute_result"
    }
   ],
   "source": [
    "stats.spearmanr(x_i,y_i) # sanity check"
   ]
  },
  {
   "cell_type": "markdown",
   "metadata": {},
   "source": [
    "**(b)** Use Kendall’s $\\tau$."
   ]
  },
  {
   "cell_type": "markdown",
   "metadata": {},
   "source": [
    "$H_0$: There is no correlation between the variables.\n",
    "\n",
    "$H_1$: There is a correlation between the variables.\n",
    "\n",
    "$\\tau = 0.4195$\n",
    "\n",
    "$p$-value $=0.00053$\n",
    "\n",
    "Since $0.00053<0.05$ we have suffiecient evidence to reject the null hypothesis."
   ]
  },
  {
   "cell_type": "code",
   "execution_count": 35,
   "metadata": {},
   "outputs": [
    {
     "name": "stdout",
     "output_type": "stream",
     "text": [
      "428.0 175.0\n"
     ]
    },
    {
     "data": {
      "text/plain": [
       "0.41956882255389716"
      ]
     },
     "execution_count": 35,
     "metadata": {},
     "output_type": "execute_result"
    }
   ],
   "source": [
    "n=len(x_i)\n",
    "\n",
    "Nc = []\n",
    "Nd = []\n",
    "t = 0\n",
    "\n",
    "# deal with ties\n",
    "for (i,j) in itertools.combinations(range(n),2):\n",
    "    if x_i[i] != x_i[j] and y_i[i] == y_i[j]:\n",
    "        t += 1/2 \n",
    "    else:\n",
    "        Nc.append(is_concordant((x_i[i],y_i[i]),(x_i[j],y_i[j])))\n",
    "        Nd.append(is_discordant((x_i[i],y_i[i]),(x_i[j],y_i[j])))\n",
    "        \n",
    "Nc = np.sum(Nc) + t\n",
    "Nd = np.sum(Nd) + t\n",
    "\n",
    "print(Nc, Nd)\n",
    "\n",
    "tau = (Nc-Nd)/(Nc+Nd); tau"
   ]
  },
  {
   "cell_type": "code",
   "execution_count": 36,
   "metadata": {},
   "outputs": [
    {
     "data": {
      "text/plain": [
       "SignificanceResult(statistic=0.4137766892398409, pvalue=0.0005380316021692781)"
      ]
     },
     "execution_count": 36,
     "metadata": {},
     "output_type": "execute_result"
    }
   ],
   "source": [
    "stats.kendalltau(x_i,y_i) # sanity check"
   ]
  },
  {
   "cell_type": "markdown",
   "metadata": {},
   "source": [
    "Note that these data do not represent a random sample, but one might\n",
    "assume that they behave as a random sample of all U.S. presidents, past,\n",
    "present and future."
   ]
  },
  {
   "cell_type": "markdown",
   "metadata": {},
   "source": [
    "#### Problem 5.4.5:"
   ]
  },
  {
   "cell_type": "markdown",
   "metadata": {},
   "source": [
    "Find the exact distribution of $\\rho$ and $\\tau$ for the case where\n",
    "$n=3$ under the usual assumption of independence."
   ]
  },
  {
   "cell_type": "markdown",
   "metadata": {},
   "source": [
    "\\[You do not need to consider the $R$ statistic from Problem 5.4.4.\\]"
   ]
  },
  {
   "cell_type": "markdown",
   "metadata": {},
   "source": [
    "##### Spearman's $\\rho$"
   ]
  },
  {
   "cell_type": "code",
   "execution_count": 37,
   "metadata": {},
   "outputs": [],
   "source": [
    "import itertools"
   ]
  },
  {
   "cell_type": "code",
   "execution_count": 38,
   "metadata": {},
   "outputs": [],
   "source": [
    "n = 3"
   ]
  },
  {
   "cell_type": "code",
   "execution_count": 39,
   "metadata": {},
   "outputs": [
    {
     "data": {
      "text/plain": [
       "0.3333333333333333"
      ]
     },
     "execution_count": 39,
     "metadata": {},
     "output_type": "execute_result"
    }
   ],
   "source": [
    "R_r = np.arange(1,n+1)\n",
    "sumsq_I = np.array([np.sum((R_r-permR_r)**2) for permR_r in itertools.permutations(R_r)], dtype=int)\n",
    "rho_I = 1. - 6./(n*(n**2-1.)) * sumsq_I\n",
    "2.*np.mean(rho_I >= rho)"
   ]
  },
  {
   "cell_type": "code",
   "execution_count": 40,
   "metadata": {},
   "outputs": [
    {
     "data": {
      "image/png": "[encoded data removed]",
      "text/plain": [
       "<Figure size 800x500 with 1 Axes>"
      ]
     },
     "metadata": {},
     "output_type": "display_data"
    }
   ],
   "source": [
    "plt.hist(rho_I,bins=9,density=True); plt.xlabel(r'$\\rho$'); plt.ylabel('Null pdf');"
   ]
  },
  {
   "cell_type": "markdown",
   "metadata": {},
   "source": [
    "##### Kendall's $\\tau$"
   ]
  },
  {
   "cell_type": "code",
   "execution_count": 41,
   "metadata": {},
   "outputs": [],
   "source": [
    "idx_i = [i for i in range(n)]\n",
    "Nc_I = np.array([np.sum([not((i>j)^(perm_i[i]>perm_i[j])) for (i,j) in itertools.combinations(idx_i,2)])\n",
    "                 for perm_i in itertools.permutations(idx_i)])\n",
    "\n",
    "Npairs = n*(n-1)//2"
   ]
  },
  {
   "cell_type": "code",
   "execution_count": 42,
   "metadata": {},
   "outputs": [
    {
     "data": {
      "image/png": "[encoded data removed]",
      "text/plain": [
       "<Figure size 800x500 with 1 Axes>"
      ]
     },
     "metadata": {},
     "output_type": "display_data"
    }
   ],
   "source": [
    "plt.hist(Nc_I,bins=np.arange(-0.5,Npairs+1));\n",
    "plt.xlabel(r'$N_c$');plt.ylabel('#');plt.title('Null distribution for # of concordant pairs');"
   ]
  },
  {
   "cell_type": "code",
   "execution_count": 43,
   "metadata": {},
   "outputs": [],
   "source": [
    "Npairs = n*(n-1)//2; Npairs\n",
    "\n",
    "Nd_I = Npairs - Nc_I\n",
    "tau_I = (Nc_I-Nd_I)/Npairs"
   ]
  },
  {
   "cell_type": "code",
   "execution_count": 44,
   "metadata": {},
   "outputs": [
    {
     "data": {
      "image/png": "[encoded data removed]",
      "text/plain": [
       "<Figure size 800x500 with 1 Axes>"
      ]
     },
     "metadata": {},
     "output_type": "display_data"
    }
   ],
   "source": [
    "plt.hist(tau_I,bins=2*np.arange(-0.5,Npairs+1)/Npairs-1);\n",
    "plt.xlabel(r'$\\tau$');plt.ylabel('#');plt.title('Null distribution for Kendall statistic');plt.grid();"
   ]
  },
  {
   "cell_type": "code",
   "execution_count": null,
   "metadata": {},
   "outputs": [],
   "source": []
  }
 ],
 "metadata": {
  "kernelspec": {
   "display_name": "Python 3 (ipykernel)",
   "language": "python",
   "name": "python3"
  },
  "language_info": {
   "codemirror_mode": {
    "name": "ipython",
    "version": 3
   },
   "file_extension": ".py",
   "mimetype": "text/x-python",
   "name": "python",
   "nbconvert_exporter": "python",
   "pygments_lexer": "ipython3",
   "version": "3.9.7"
  }
 },
 "nbformat": 4,
 "nbformat_minor": 4
}
