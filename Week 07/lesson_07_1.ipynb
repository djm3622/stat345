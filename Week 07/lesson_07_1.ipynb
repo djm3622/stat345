{
 "cells": [
  {
   "cell_type": "markdown",
   "id": "3e6f5841",
   "metadata": {
    "slideshow": {
     "slide_type": "slide"
    }
   },
   "source": [
    "# STAT 345: Nonparametric Statistics\n",
    "\n",
    "## Lesson 07.1: The Friedman and Quade Tests\n",
    "\n",
    "**Reading: Conover Section 5.8**\n",
    "\n",
    "*Prof. John T. Whelan*\n",
    "\n",
    "Thursday 6 March 2025"
   ]
  },
  {
   "cell_type": "markdown",
   "id": "755a84e8",
   "metadata": {
    "slideshow": {
     "slide_type": "slide"
    }
   },
   "source": [
    "These lecture slides are in a computational notebook.  You have access to them through http://vmware.rit.edu/"
   ]
  },
  {
   "cell_type": "markdown",
   "id": "d09c2df2",
   "metadata": {
    "slideshow": {
     "slide_type": "fragment"
    }
   },
   "source": [
    "Flat HTML and slideshow versions are also in MyCourses."
   ]
  },
  {
   "cell_type": "markdown",
   "id": "63b23852",
   "metadata": {
    "slideshow": {
     "slide_type": "fragment"
    }
   },
   "source": [
    "The notebook can run Python commands (other notebooks can use R or Julia; \"Ju-Pyt-R\").  Think: computational data analysis, not \"coding\"."
   ]
  },
  {
   "cell_type": "markdown",
   "id": "632a7897",
   "metadata": {
    "slideshow": {
     "slide_type": "fragment"
    }
   },
   "source": [
    "Standard commands to activate inline interface and import libraries:"
   ]
  },
  {
   "cell_type": "code",
   "execution_count": 1,
   "id": "fe735fcf",
   "metadata": {
    "slideshow": {
     "slide_type": "fragment"
    }
   },
   "outputs": [],
   "source": [
    "%matplotlib inline"
   ]
  },
  {
   "cell_type": "code",
   "execution_count": 2,
   "id": "6f45f4d7",
   "metadata": {
    "slideshow": {
     "slide_type": "fragment"
    }
   },
   "outputs": [],
   "source": [
    "import numpy as np\n",
    "from scipy import stats\n",
    "import matplotlib.pyplot as plt\n",
    "plt.rcParams['figure.figsize'] = (8.0,5.0)\n",
    "plt.rcParams['font.size'] = 14"
   ]
  },
  {
   "cell_type": "markdown",
   "id": "d1959cb6",
   "metadata": {
    "slideshow": {
     "slide_type": "slide"
    }
   },
   "source": [
    "## The Complete Block Design\n",
    "So far: rank-based tests on paired and\n",
    "independent samples. We can categorize them as:"
   ]
  },
  {
   "cell_type": "markdown",
   "id": "a12d479a",
   "metadata": {
    "slideshow": {
     "slide_type": "fragment"
    }
   },
   "source": [
    "Independent samples:\n",
    "  -   Two independent samples: Wilcoxon rank sum (Mann-Whitney), Conover squared ranks"
   ]
  },
  {
   "cell_type": "markdown",
   "id": "9bc14e04",
   "metadata": {
    "slideshow": {
     "slide_type": "fragment"
    }
   },
   "source": [
    "  -   $k$ independent samples: Kruskal-Wallis (generalization of rank      sum), Conover squared ranks"
   ]
  },
  {
   "cell_type": "markdown",
   "id": "65cf244f",
   "metadata": {
    "slideshow": {
     "slide_type": "fragment"
    }
   },
   "source": [
    "Paired samples\n",
    "-   Two paired samples: Sign test, Wilcoxon signed rank (also correlation <span><span>coëfficient</span></span>s)"
   ]
  },
  {
   "cell_type": "markdown",
   "id": "d1dc8410",
   "metadata": {
    "slideshow": {
     "slide_type": "fragment"
    }
   },
   "source": [
    "Now extend paired samples to \"blocks\" of $k$ related observations."
   ]
  },
  {
   "cell_type": "markdown",
   "id": "85991685",
   "metadata": {
    "slideshow": {
     "slide_type": "subslide"
    }
   },
   "source": [
    "- Instead of $n$ paired samples, consider $b$ \"blocks\" of $k$ \"treatments\"\n",
    "\n",
    "- Name comes from experimental design with $b$ groups of $k$ subjects each.<br>Subjects in a block are considered identical, but different blocks may not be."
   ]
  },
  {
   "cell_type": "markdown",
   "id": "8405fe7b",
   "metadata": {
    "slideshow": {
     "slide_type": "fragment"
    }
   },
   "source": [
    "- \"Randomized complete block design\" (\"Randomized\" means we randomly selected which of the $k$ subjects in each block receives which treatment.)"
   ]
  },
  {
   "cell_type": "markdown",
   "id": "d69c2f16",
   "metadata": {
    "slideshow": {
     "slide_type": "fragment"
    }
   },
   "source": [
    "- The result of the experiment is a $b\\times k$ matrix of observations: $$\\{X_{ij}\\} =\n",
    "  \\begin{pmatrix}\n",
    "    X_{11} & X_{12} & \\cdots & X_{1k} \\\\\n",
    "    X_{21} & X_{22} & \\cdots & X_{2k} \\\\\n",
    "    \\vdots & \\vdots & \\ddots & \\vdots \\\\\n",
    "    X_{b1} & X_{b2} & \\cdots & X_{bk} \\\\\n",
    "  \\end{pmatrix}$$"
   ]
  },
  {
   "cell_type": "markdown",
   "id": "0dfadc56",
   "metadata": {
    "slideshow": {
     "slide_type": "fragment"
    }
   },
   "source": [
    "- $H_0$: within a block, each treatment as likely to give larger or small result than another,\n",
    "$P({\\color{royalblue}{X_{ij}}}{\\mathbin{>}}{\\color{royalblue}{X_{i\\ell}}})=P({\\color{royalblue}{X_{ij}}}{\\mathbin{<}}{\\color{royalblue}{X_{i\\ell}}})$ for all $i=1,\\ldots,b$, $j,\\ell=1,\\ldots,k$"
   ]
  },
  {
   "cell_type": "code",
   "execution_count": 3,
   "id": "8540ddee",
   "metadata": {
    "slideshow": {
     "slide_type": "subslide"
    }
   },
   "outputs": [
    {
     "name": "stdout",
     "output_type": "stream",
     "text": [
      "4 blocks of 3 treatments\n"
     ]
    }
   ],
   "source": [
    "X_ij = np.array([[  2.  ,  19.86,   9.17],\n",
    "                 [  1.05,   3.1 ,   3.34],\n",
    "                 [  0.14,  25.4 ,  26.59],\n",
    "                 [ 14.6 ,   3.93,  10.95]]); b,k = np.shape(X_ij); print('%d blocks of %d treatments' % (b,k))"
   ]
  },
  {
   "cell_type": "markdown",
   "id": "d91e6305",
   "metadata": {
    "slideshow": {
     "slide_type": "fragment"
    }
   },
   "source": [
    "We define $\\{R_{ij}|j=1,\\ldots,k\\}$ to be the ranks of the responses to\n",
    "the $k$ treatments within block $i$:"
   ]
  },
  {
   "cell_type": "code",
   "execution_count": 4,
   "id": "aca078d7",
   "metadata": {
    "slideshow": {
     "slide_type": "fragment"
    }
   },
   "outputs": [
    {
     "data": {
      "text/plain": [
       "array([[1., 3., 2.],\n",
       "       [1., 2., 3.],\n",
       "       [1., 2., 3.],\n",
       "       [3., 1., 2.]])"
      ]
     },
     "execution_count": 4,
     "metadata": {},
     "output_type": "execute_result"
    }
   ],
   "source": [
    "R_ij = stats.rankdata(X_ij,axis=-1); R_ij"
   ]
  },
  {
   "cell_type": "markdown",
   "id": "328cd8d6",
   "metadata": {
    "slideshow": {
     "slide_type": "fragment"
    }
   },
   "source": [
    "$$\\hbox{and let}\\quad R_j = \\sum_{i=1}^b R_{ij}\\quad\\hbox{be the sum of ranks for treatment $j$.}$$"
   ]
  },
  {
   "cell_type": "code",
   "execution_count": 5,
   "id": "e8e721a8",
   "metadata": {
    "slideshow": {
     "slide_type": "fragment"
    }
   },
   "outputs": [
    {
     "data": {
      "text/plain": [
       "array([ 6.,  8., 10.])"
      ]
     },
     "execution_count": 5,
     "metadata": {},
     "output_type": "execute_result"
    }
   ],
   "source": [
    "R_j = np.sum(R_ij,axis=0); R_j"
   ]
  },
  {
   "cell_type": "markdown",
   "id": "59a8fadb",
   "metadata": {
    "slideshow": {
     "slide_type": "subslide"
    }
   },
   "source": [
    "Note that the minimum possible value for $R_j$ is $b$ and the maximum is\n",
    "$kb$."
   ]
  },
  {
   "cell_type": "markdown",
   "id": "6ee86301",
   "metadata": {
    "slideshow": {
     "slide_type": "fragment"
    }
   },
   "source": [
    "In our specific example,"
   ]
  },
  {
   "cell_type": "code",
   "execution_count": 6,
   "id": "d7d11fcc",
   "metadata": {
    "slideshow": {
     "slide_type": "fragment"
    }
   },
   "outputs": [
    {
     "data": {
      "text/plain": [
       "(array([[1., 3., 2.],\n",
       "        [1., 2., 3.],\n",
       "        [1., 2., 3.],\n",
       "        [3., 1., 2.]]),\n",
       " array([ 6.,  8., 10.]))"
      ]
     },
     "execution_count": 6,
     "metadata": {},
     "output_type": "execute_result"
    }
   ],
   "source": [
    "R_ij, R_j"
   ]
  },
  {
   "cell_type": "markdown",
   "id": "f6118766",
   "metadata": {
    "slideshow": {
     "slide_type": "fragment"
    }
   },
   "source": [
    "the sums of the ranks for each treatment are\n",
    "$$\\begin{gathered}\n",
    "    R_1 = 1+1+1+3=6 \\\\\n",
    "    R_2 = 3+2+2+1=8 \\\\\n",
    "    R_3 = 2+3+3+2=10\n",
    "  \\end{gathered}$$"
   ]
  },
  {
   "cell_type": "markdown",
   "id": "cdaf7ef9",
   "metadata": {
    "slideshow": {
     "slide_type": "fragment"
    }
   },
   "source": [
    "**WARNING**: be sure to keep straight which are the blocks and which are the treatments!<br>(You are comparing the treatments, not the blocks.)"
   ]
  },
  {
   "cell_type": "markdown",
   "id": "7275043f",
   "metadata": {
    "slideshow": {
     "slide_type": "slide"
    }
   },
   "source": [
    "## The Friedman Test"
   ]
  },
  {
   "cell_type": "markdown",
   "id": "90df82ff",
   "metadata": {
    "slideshow": {
     "slide_type": "subslide"
    }
   },
   "source": [
    "- Friedman (as in Milton) test makes a $\\chi^2$ statistic from the $\\{R_j=\\sum_{i=1}^b R_{ij}\\}$."
   ]
  },
  {
   "cell_type": "markdown",
   "id": "ccf81f87",
   "metadata": {
    "slideshow": {
     "slide_type": "fragment"
    }
   },
   "source": [
    "- Under $H_0$, $E({\\color{royalblue}{R_{ij}}})=\\frac{k+1}{2}$ and, if there are no\n",
    "ties,\n",
    "$\\operatorname{Var}({\\color{royalblue}{R_{ij}}})=\\frac{k(k+1)}{12}$"
   ]
  },
  {
   "cell_type": "markdown",
   "id": "5dcf7c49",
   "metadata": {
    "slideshow": {
     "slide_type": "fragment"
    }
   },
   "source": [
    "$\\color{royalblue}{R_{ij}}$ \\& $\\color{royalblue}{R_{\\ell j}}$ independent rvs for $i\\ne\\ell$, so $E({\\color{royalblue}{R_{j}}})=\\frac{b(k+1)}{2}$ and, if there are no ties,\n",
    "$\\operatorname{Var}({\\color{royalblue}{R_{j}}})=\\frac{bk(k+1)}{12}$."
   ]
  },
  {
   "cell_type": "markdown",
   "id": "1cd2b069",
   "metadata": {
    "slideshow": {
     "slide_type": "fragment"
    }
   },
   "source": [
    "$$\\hbox{So}\\qquad {\\color{royalblue}{T_1}}\n",
    "  =\\frac{12}{bk(k+1)}\\sum_{j=1}^k \\left({\\color{royalblue}{R_j}}-\\frac{b(k+1)}{2}\\right)^2\n",
    "  =\\frac{(k-1)\\sum_{j=1}^k\\left({\\color{royalblue}{R_j}}-b\\overline{R}\\right)^2}\n",
    "  {\\sum_{i=1}^b\\sum_{j=1}^k\\left(\\color{royalblue}{R_{ij}}-\\overline{R}\\right)^2}$$\n",
    "is approximately chi-squared w/$k-1$ dof, under $H_0$."
   ]
  },
  {
   "cell_type": "markdown",
   "id": "c3f4fe79",
   "metadata": {
    "slideshow": {
     "slide_type": "fragment"
    }
   },
   "source": [
    "- $k-1$ degrees of freedom because of constraint $\\sum_{j=1}^k R_j =\n",
    "\\frac{bk(k+1)}{2}$."
   ]
  },
  {
   "cell_type": "markdown",
   "id": "39f2881b",
   "metadata": {
    "slideshow": {
     "slide_type": "subslide"
    }
   },
   "source": [
    "$${\\color{royalblue}{T_1}}\n",
    "  =\\frac{12}{bk(k+1)}\\sum_{j=1}^k \\left({\\color{royalblue}{R_j}}-\\frac{b(k+1)}{2}\\right)^2\n",
    "  =\\frac{(k-1)\\sum_{j=1}^k\\left({\\color{royalblue}{R_j}}-b\\overline{R}\\right)^2}\n",
    "  {\\sum_{i=1}^b\\sum_{j=1}^k\\left(\\color{royalblue}{R_{ij}}-\\overline{R}\\right)^2}$$"
   ]
  },
  {
   "cell_type": "code",
   "execution_count": 7,
   "id": "7e95c670",
   "metadata": {
    "slideshow": {
     "slide_type": "fragment"
    }
   },
   "outputs": [
    {
     "data": {
      "text/plain": [
       "2.0"
      ]
     },
     "execution_count": 7,
     "metadata": {},
     "output_type": "execute_result"
    }
   ],
   "source": [
    "T1 = (12/(b*k*(k+1)))*np.sum((R_j-0.5*b*(k+1))**2); T1"
   ]
  },
  {
   "cell_type": "markdown",
   "id": "751c3603",
   "metadata": {
    "slideshow": {
     "slide_type": "fragment"
    }
   },
   "source": [
    "The second form also works if there are ties, but if there are no ties, they're equal"
   ]
  },
  {
   "cell_type": "code",
   "execution_count": 8,
   "id": "69a30358",
   "metadata": {
    "slideshow": {
     "slide_type": "fragment"
    }
   },
   "outputs": [
    {
     "data": {
      "text/plain": [
       "2.0"
      ]
     },
     "execution_count": 8,
     "metadata": {},
     "output_type": "execute_result"
    }
   ],
   "source": [
    "Rbar = 0.5*(k+1); (k-1)*np.sum((R_j-b*Rbar)**2)/np.sum((R_ij-Rbar)**2)"
   ]
  },
  {
   "cell_type": "code",
   "execution_count": 9,
   "id": "396545fd",
   "metadata": {
    "slideshow": {
     "slide_type": "fragment"
    }
   },
   "outputs": [
    {
     "data": {
      "text/plain": [
       "0.36787944117144245"
      ]
     },
     "execution_count": 9,
     "metadata": {},
     "output_type": "execute_result"
    }
   ],
   "source": [
    "stats.chi2(df=k-1).sf(T1)"
   ]
  },
  {
   "cell_type": "code",
   "execution_count": 10,
   "id": "f8cae033",
   "metadata": {
    "slideshow": {
     "slide_type": "fragment"
    }
   },
   "outputs": [
    {
     "data": {
      "text/plain": [
       "FriedmanchisquareResult(statistic=2.0, pvalue=0.36787944117144245)"
      ]
     },
     "execution_count": 10,
     "metadata": {},
     "output_type": "execute_result"
    }
   ],
   "source": [
    "stats.friedmanchisquare(X_ij[:,0],X_ij[:,1],X_ij[:,2]) # There's also a built-in, but it doesn't take an array "
   ]
  },
  {
   "cell_type": "markdown",
   "id": "c987754d",
   "metadata": {
    "slideshow": {
     "slide_type": "subslide"
    }
   },
   "source": [
    "Note that the normal approximation that leads to the approximate\n",
    "chi-squared distribution is not very good for this small sample size."
   ]
  },
  {
   "cell_type": "markdown",
   "id": "8b63d3b1",
   "metadata": {
    "slideshow": {
     "slide_type": "fragment"
    }
   },
   "source": [
    "Conover asserts that we get a better approximation with the transformed\n",
    "statistic (from applying two-way ANOVA to the ranks)\n",
    "$$T_2 = \\frac{(b-1)T_1}{b(k-1)-T_1}$$ which should have\n",
    "an $F$ distribution with degree-of-freedom parameters $k-1$ and\n",
    "$(b-1)(k-1)$."
   ]
  },
  {
   "cell_type": "code",
   "execution_count": 11,
   "id": "5d08f238",
   "metadata": {
    "slideshow": {
     "slide_type": "fragment"
    }
   },
   "outputs": [
    {
     "data": {
      "text/plain": [
       "1.0"
      ]
     },
     "execution_count": 11,
     "metadata": {},
     "output_type": "execute_result"
    }
   ],
   "source": [
    "T2 = ((b-1)*T1)/(b*(k-1)-T1); T2"
   ]
  },
  {
   "cell_type": "code",
   "execution_count": 12,
   "id": "bd434fec",
   "metadata": {
    "slideshow": {
     "slide_type": "fragment"
    }
   },
   "outputs": [
    {
     "data": {
      "text/plain": [
       "(0.421875, 0.36787944117144245)"
      ]
     },
     "execution_count": 12,
     "metadata": {},
     "output_type": "execute_result"
    }
   ],
   "source": [
    "stats.f(k-1,(b-1)*(k-1)).sf(T2), stats.chi2(df=k-1).sf(T1)"
   ]
  },
  {
   "cell_type": "markdown",
   "id": "e784bd68",
   "metadata": {
    "slideshow": {
     "slide_type": "subslide"
    }
   },
   "source": [
    "An interesting exercise is to work out the exact distribution for these\n",
    "statistics for this case. In general there are $(k!)^b$ different\n",
    "arrangements of ranks possible with no ties; in this case that is\n",
    "$6^4=1296$.  (You'll explore this on the homework.)"
   ]
  },
  {
   "cell_type": "markdown",
   "id": "467ecc11",
   "metadata": {
    "slideshow": {
     "slide_type": "fragment"
    }
   },
   "source": [
    "Note that, although we use ranks, this is actually the $k$-sample\n",
    "analogy of the sign test. The rankings within a block correspond to the\n",
    "sign of $y_i-x_i$, which we could rename as $X_{i2}-X_{i1}$, which is\n",
    "equivalent to the ordering of $X_{i1}$ and $X_{i2}$."
   ]
  },
  {
   "cell_type": "markdown",
   "id": "8483e966",
   "metadata": {
    "slideshow": {
     "slide_type": "slide"
    }
   },
   "source": [
    "## The Quade Test"
   ]
  },
  {
   "cell_type": "markdown",
   "id": "626105ef",
   "metadata": {
    "slideshow": {
     "slide_type": "fragment"
    }
   },
   "source": [
    "Quade, [*Journal of the American Statistical Association*, **74**, 680 (1979)](https://www.jstor.org/stable/2286991)."
   ]
  },
  {
   "cell_type": "markdown",
   "id": "ba2df502",
   "metadata": {
    "slideshow": {
     "slide_type": "subslide"
    }
   },
   "source": [
    "To get an analog of the Wilcoxon signed rank statistic, we need the\n",
    "equivalent of the magnitude of the difference.\n",
    "The obvious choice is the spread of the values $X_{ij}$ within block $i$, which we write as\n",
    "$$M_i = \\max_{j} X_{ij} - \\min_{j} X_{ij}$$"
   ]
  },
  {
   "cell_type": "code",
   "execution_count": 13,
   "id": "ca9a6169",
   "metadata": {
    "slideshow": {
     "slide_type": "fragment"
    }
   },
   "outputs": [
    {
     "data": {
      "text/plain": [
       "array([[ 2.  , 19.86,  9.17],\n",
       "       [ 1.05,  3.1 ,  3.34],\n",
       "       [ 0.14, 25.4 , 26.59],\n",
       "       [14.6 ,  3.93, 10.95]])"
      ]
     },
     "execution_count": 13,
     "metadata": {},
     "output_type": "execute_result"
    }
   ],
   "source": [
    "X_ij"
   ]
  },
  {
   "cell_type": "code",
   "execution_count": 14,
   "id": "4771db59",
   "metadata": {
    "slideshow": {
     "slide_type": "fragment"
    }
   },
   "outputs": [
    {
     "data": {
      "text/plain": [
       "array([17.86,  2.29, 26.45, 10.67])"
      ]
     },
     "execution_count": 14,
     "metadata": {},
     "output_type": "execute_result"
    }
   ],
   "source": [
    "M_i = np.max(X_ij,axis=-1)-np.min(X_ij,axis=-1); M_i"
   ]
  },
  {
   "cell_type": "markdown",
   "id": "a817cfac",
   "metadata": {
    "slideshow": {
     "slide_type": "fragment"
    }
   },
   "source": [
    "The ranks of these are\n",
    "called $Q_i$"
   ]
  },
  {
   "cell_type": "code",
   "execution_count": 15,
   "id": "fbbf8502",
   "metadata": {
    "slideshow": {
     "slide_type": "fragment"
    }
   },
   "outputs": [
    {
     "data": {
      "text/plain": [
       "array([3., 1., 4., 2.])"
      ]
     },
     "execution_count": 15,
     "metadata": {},
     "output_type": "execute_result"
    }
   ],
   "source": [
    "Q_i = stats.rankdata(M_i); Q_i"
   ]
  },
  {
   "cell_type": "markdown",
   "id": "bc1bce2b",
   "metadata": {
    "slideshow": {
     "slide_type": "subslide"
    }
   },
   "source": [
    "and the equivalent of the signed ranks are then\n",
    "$$S_{ij} = Q_i \\left(R_{ij} - \\frac{k+1}{2}\\right)$$"
   ]
  },
  {
   "cell_type": "code",
   "execution_count": 16,
   "id": "1d6f91dd",
   "metadata": {
    "slideshow": {
     "slide_type": "fragment"
    }
   },
   "outputs": [
    {
     "data": {
      "text/plain": [
       "array([[-3.,  3.,  0.],\n",
       "       [-1.,  0.,  1.],\n",
       "       [-4.,  0.,  4.],\n",
       "       [ 2., -2.,  0.]])"
      ]
     },
     "execution_count": 16,
     "metadata": {},
     "output_type": "execute_result"
    }
   ],
   "source": [
    "S_ij = Q_i[:,None]*(R_ij-0.5*(k+1)); S_ij"
   ]
  },
  {
   "cell_type": "markdown",
   "id": "9ac5686f",
   "metadata": {
    "slideshow": {
     "slide_type": "fragment"
    }
   },
   "source": [
    "$Q_i$ are the ranks\n",
    "and the quantity in parentheses is the generalization of the sign of the\n",
    "difference. The statistic is then constructed out of the sums of these,\n",
    "$S_j = \\sum_{i=1}^b S_{ij}$"
   ]
  },
  {
   "cell_type": "code",
   "execution_count": 17,
   "id": "6a5fc8eb",
   "metadata": {
    "slideshow": {
     "slide_type": "fragment"
    }
   },
   "outputs": [
    {
     "data": {
      "text/plain": [
       "array([-6.,  1.,  5.])"
      ]
     },
     "execution_count": 17,
     "metadata": {},
     "output_type": "execute_result"
    }
   ],
   "source": [
    "S_j = np.sum(S_ij,axis=0); S_j"
   ]
  },
  {
   "cell_type": "markdown",
   "id": "f3828f80",
   "metadata": {
    "slideshow": {
     "slide_type": "subslide"
    }
   },
   "source": [
    "and the test statistic is\n",
    "$$T_3 = \\frac{(b-1)\\frac{1}{b}\\sum_{j=1}^k S_j^2}\n",
    "  {\\sum_{i=1}^b\\sum_{j=1}^k S_{ij}^2-\\frac{1}{b}\\sum_{j=1}^k S_j^2}$$\n",
    "which is again supposed to be $F(k-1,(b-1)(k-1))$-distributed."
   ]
  },
  {
   "cell_type": "code",
   "execution_count": 18,
   "id": "33add226",
   "metadata": {
    "slideshow": {
     "slide_type": "fragment"
    }
   },
   "outputs": [
    {
     "data": {
      "text/plain": [
       "(15.5, 60.0, 1.0449438202247192)"
      ]
     },
     "execution_count": 18,
     "metadata": {},
     "output_type": "execute_result"
    }
   ],
   "source": [
    "B = np.sum(S_j**2)/b; A2 = np.sum(S_ij**2); T3 = (b-1)*B/(A2-B); B, A2, T3"
   ]
  },
  {
   "cell_type": "code",
   "execution_count": 19,
   "id": "355b9d00",
   "metadata": {
    "slideshow": {
     "slide_type": "fragment"
    }
   },
   "outputs": [
    {
     "data": {
      "text/plain": [
       "0.40796817129629637"
      ]
     },
     "execution_count": 19,
     "metadata": {},
     "output_type": "execute_result"
    }
   ],
   "source": [
    "stats.f(k-1,(b-1)*(k-1)).sf(T3)"
   ]
  },
  {
   "cell_type": "markdown",
   "id": "76713b68",
   "metadata": {
    "slideshow": {
     "slide_type": "fragment"
    }
   },
   "source": [
    "It seems\n",
    "as though the statistic depends on more than just the $\\{S_j\\}$ due to\n",
    "the first term in the denominator, but that is only true if there are\n",
    "ties. If there are no ties, $\\sum_{i=1}^b\\sum_{j=1}^k\n",
    "S_{ij}^2$ has a fixed, if somewhat complicated, value in terms of $b$\n",
    "and $k$."
   ]
  },
  {
   "cell_type": "code",
   "execution_count": 20,
   "id": "3cf669ca",
   "metadata": {
    "slideshow": {
     "slide_type": "fragment"
    }
   },
   "outputs": [
    {
     "data": {
      "text/plain": [
       "60.0"
      ]
     },
     "execution_count": 20,
     "metadata": {},
     "output_type": "execute_result"
    }
   ],
   "source": [
    "b*(b+1)*(2*b+1)*k*(k**2-1)/72"
   ]
  }
 ],
 "metadata": {
  "celltoolbar": "Slideshow",
  "kernelspec": {
   "display_name": "Python 3 (ipykernel)",
   "language": "python",
   "name": "python3"
  },
  "language_info": {
   "codemirror_mode": {
    "name": "ipython",
    "version": 3
   },
   "file_extension": ".py",
   "mimetype": "text/x-python",
   "name": "python",
   "nbconvert_exporter": "python",
   "pygments_lexer": "ipython3",
   "version": "3.9.7"
  }
 },
 "nbformat": 4,
 "nbformat_minor": 5
}
