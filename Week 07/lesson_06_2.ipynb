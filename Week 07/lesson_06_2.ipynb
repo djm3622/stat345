{
 "cells": [
  {
   "cell_type": "markdown",
   "id": "60da9302",
   "metadata": {
    "slideshow": {
     "slide_type": "slide"
    }
   },
   "source": [
    "# STAT 345: Nonparametric Statistics\n",
    "\n",
    "## Lesson 06.2: Measures of Correlation\n",
    "\n",
    "**Reading: Conover Section 5.4**\n",
    "\n",
    "*Prof. John T. Whelan*\n",
    "\n",
    "Tuesday 4 March 2025"
   ]
  },
  {
   "cell_type": "markdown",
   "id": "341349ed",
   "metadata": {
    "slideshow": {
     "slide_type": "slide"
    }
   },
   "source": [
    "These lecture slides are in a computational notebook.  You have access to them through http://vmware.rit.edu/"
   ]
  },
  {
   "cell_type": "markdown",
   "id": "14849a0b",
   "metadata": {
    "slideshow": {
     "slide_type": "fragment"
    }
   },
   "source": [
    "Flat HTML and slideshow versions are also in MyCourses."
   ]
  },
  {
   "cell_type": "markdown",
   "id": "2348659a",
   "metadata": {
    "slideshow": {
     "slide_type": "fragment"
    }
   },
   "source": [
    "The notebook can run Python commands (other notebooks can use R or Julia; \"Ju-Pyt-R\").  Think: computational data analysis, not \"coding\"."
   ]
  },
  {
   "cell_type": "markdown",
   "id": "f3c7b552",
   "metadata": {
    "slideshow": {
     "slide_type": "fragment"
    }
   },
   "source": [
    "Standard commands to activate inline interface and import libraries:"
   ]
  },
  {
   "cell_type": "code",
   "execution_count": 1,
   "id": "72002d68",
   "metadata": {
    "slideshow": {
     "slide_type": "fragment"
    }
   },
   "outputs": [],
   "source": [
    "%matplotlib inline"
   ]
  },
  {
   "cell_type": "code",
   "execution_count": 2,
   "id": "1d7896fc",
   "metadata": {
    "slideshow": {
     "slide_type": "fragment"
    }
   },
   "outputs": [],
   "source": [
    "import numpy as np\n",
    "from scipy import stats\n",
    "import matplotlib.pyplot as plt\n",
    "plt.rcParams['figure.figsize'] = (8.0,5.0)\n",
    "plt.rcParams['font.size'] = 14"
   ]
  },
  {
   "cell_type": "markdown",
   "id": "d79a6948",
   "metadata": {
    "slideshow": {
     "slide_type": "slide"
    }
   },
   "source": [
    "So far, considered inferential problems using\n",
    "- independent samples $\\{x_i|i=1,\\ldots,n\\}$ and $\\{y_j|j=1,\\ldots,m\\}$ (Wilcoxon-Mann-Whitney rank sum test, Conover squared ranks test + Kruskal-Wallis test for $k$ samples)\n",
    "- and paired data $\\{(x_i,y_i)|i=1,\\ldots,m\\}$ (the sign test, Wilcoxon signed-rank test)."
   ]
  },
  {
   "cell_type": "markdown",
   "id": "f2814ac0",
   "metadata": {
    "slideshow": {
     "slide_type": "fragment"
    }
   },
   "source": [
    "- So far, our paired data analysis concerned difference of location parameters, so paired data immediately converted to differences $d_i=y_i-x_i$. In fact, the paired methods considered so far can be applied to a single sample $\\{x_i\\}$ in place of the set of differences $\\{d_i\\}$."
   ]
  },
  {
   "cell_type": "markdown",
   "id": "e725130b",
   "metadata": {
    "slideshow": {
     "slide_type": "fragment"
    }
   },
   "source": [
    "-  Now consider a question that uses the full set of data $\\{(x_i.y_i)\\}$ rather than just the differences $y_i-x_i$: how correlated are the data?"
   ]
  },
  {
   "cell_type": "markdown",
   "id": "cce20148",
   "metadata": {
    "slideshow": {
     "slide_type": "subslide"
    }
   },
   "source": [
    "- We're interested in the correlation of the paired populations or bivariate distribution $f(x,y)$ from which the\n",
    "paired sample is drawn; use the sample $\\{(x_i,y_i)\\}$ to address it."
   ]
  },
  {
   "cell_type": "markdown",
   "id": "8d1091d5",
   "metadata": {
    "slideshow": {
     "slide_type": "fragment"
    }
   },
   "source": [
    "- Qualitatively, is ${\\color{royalblue}{Y}}$ generally large when ${\\color{royalblue}{X}}$ is large &\n",
    "${\\color{royalblue}{Y}}$ small when ${\\color{royalblue}{X}}$ is small, or vice versa?"
   ]
  },
  {
   "cell_type": "markdown",
   "id": "edc2c20e",
   "metadata": {
    "slideshow": {
     "slide_type": "fragment"
    }
   },
   "source": [
    "- Recall: rvs have means $\\mu_X=E({\\color{royalblue}{X}})$ & $\\mu_Y=E({\\color{royalblue}{Y}})$ and variances\n",
    "$\\sigma_X^2=\\operatorname{Var}({\\color{royalblue}{X}})=E([{\\color{royalblue}{X}}-\\mu_X]^2)=E([{\\color{royalblue}{X}}]^2)-\\mu_X^2$\n",
    "&\n",
    "$\\sigma_Y^2=\\operatorname{Var}({\\color{royalblue}{Y}})=E([{\\color{royalblue}{Y}}-\\mu_Y]^2)=E([{\\color{royalblue}{Y}}]^2)-\\mu_Y^2$\n",
    "- Covariance is $\\operatorname{Cov}({\\color{royalblue}{X}},{\\color{royalblue}{Y}}) = E([{\\color{royalblue}{X}}-\\mu_X][{\\color{royalblue}{Y}}-\\mu_Y]) =\n",
    "E({\\color{royalblue}{X}}{\\color{royalblue}{Y}})-\\mu_X\\mu_Y$ and correlation is\n",
    "$$\\operatorname{Corr}({\\color{royalblue}{X}},{\\color{royalblue}{Y}}) = \\frac{\\operatorname{Cov}({\\color{royalblue}{X}},{\\color{royalblue}{Y}})}{\\sigma_X\\sigma_Y}$$"
   ]
  },
  {
   "cell_type": "markdown",
   "id": "0a9880de",
   "metadata": {
    "slideshow": {
     "slide_type": "fragment"
    }
   },
   "source": [
    "- If rvs ${\\color{royalblue}{X}}$ &\n",
    "${\\color{royalblue}{Y}}$ are independent (joint distribution is $f(x,y)=f_X(x)f_Y(y)$), then $\\operatorname{Cov}({\\color{royalblue}{X}},{\\color{royalblue}{Y}})=0$, but uncorrelated does **not** imply independent"
   ]
  },
  {
   "cell_type": "markdown",
   "id": "736cc124",
   "metadata": {
    "slideshow": {
     "slide_type": "fragment"
    }
   },
   "source": [
    "- It's not hard to show that\n",
    "$-1\\le\\operatorname{Corr}({\\color{royalblue}{X}},{\\color{royalblue}{Y}})\\le 1$."
   ]
  },
  {
   "cell_type": "markdown",
   "id": "16d779a0",
   "metadata": {
    "slideshow": {
     "slide_type": "slide"
    }
   },
   "source": [
    "## Pearson’s $r$"
   ]
  },
  {
   "cell_type": "markdown",
   "id": "840362fb",
   "metadata": {
    "slideshow": {
     "slide_type": "subslide"
    }
   },
   "source": [
    "$$\\operatorname{Corr}({\\color{royalblue}{X}},{\\color{royalblue}{Y}}) = \\frac{E([{\\color{royalblue}{X}}-\\mu_X][{\\color{royalblue}{Y}}-\\mu_Y])}{\\sqrt{E([{\\color{royalblue}{X}}-\\mu_X]^2)E([{\\color{royalblue}{Y}}-\\mu_Y]^2)}}$$"
   ]
  },
  {
   "cell_type": "markdown",
   "id": "05817ce6",
   "metadata": {
    "slideshow": {
     "slide_type": "fragment"
    }
   },
   "source": [
    "The standard parametric estimate of the correlation is to divide the\n",
    "sample covariance\n",
    "$$s_{xy} = \\frac{1}{n-1}\\sum_{i=1}^n (x_i-{{\\overline{x}}})(y_i-{{\\overline{y}}})$$\n",
    "by the product of the sample standard deviations $s_x$ and $s_y$; the\n",
    "ratio\n",
    "$$r = \\frac{s_{xy}}{s_xs_y} = \\frac{\\sum_{i=1}^n (x_i-{{\\overline{x}}})(y_i-{{\\overline{y}}})}\n",
    "  {\\sqrt{\\sum_{i=1}^n (x_i-{{\\overline{x}}})^2}\\sqrt{\\sum_{i=1}^n (y_i-{{\\overline{y}}})^2}}$$\n",
    "is known as Pearson’s correlation <span><span>coëfficient</span></span>\n",
    "or “Pearson’s $r$”. Not too hard to see that $-1\\le r\\le 1$ as\n",
    "well."
   ]
  },
  {
   "cell_type": "markdown",
   "id": "f41abb94",
   "metadata": {
    "slideshow": {
     "slide_type": "subslide"
    }
   },
   "source": [
    "We can compute the correlation <span><span>coëfficient</span></span> for\n",
    "a paired data set like this:"
   ]
  },
  {
   "cell_type": "code",
   "execution_count": 3,
   "id": "a9393921",
   "metadata": {
    "slideshow": {
     "slide_type": "fragment"
    }
   },
   "outputs": [
    {
     "data": {
      "image/png": "[encoded data removed]",
      "text/plain": [
       "<Figure size 800x500 with 1 Axes>"
      ]
     },
     "metadata": {},
     "output_type": "display_data"
    }
   ],
   "source": [
    "x_i = np.array([9.64, 5.91, 3.22, 2.04, 5.49, 9.24, 6.38, 7.79, 0.48, 8.86])\n",
    "y_i = np.array([5.53, 3.48, 3.16, 2.98, 7.11, 7.75, 3.37, 8.24, 3.00, 3.75]);\n",
    "plt.plot(x_i,y_i,'k.');plt.xlabel(r'$x_i$');plt.ylabel(r'$y_i$');plt.xlim(0,10);plt.ylim(2,9);plt.grid();"
   ]
  },
  {
   "cell_type": "code",
   "execution_count": 4,
   "id": "4622fca7",
   "metadata": {
    "slideshow": {
     "slide_type": "fragment"
    }
   },
   "outputs": [
    {
     "data": {
      "text/plain": [
       "(5.904999999999999, 4.837)"
      ]
     },
     "execution_count": 4,
     "metadata": {},
     "output_type": "execute_result"
    }
   ],
   "source": [
    "xbar = np.mean(x_i); ybar = np.mean(y_i); xbar, ybar"
   ]
  },
  {
   "cell_type": "code",
   "execution_count": 5,
   "id": "a2143505",
   "metadata": {
    "slideshow": {
     "slide_type": "subslide"
    }
   },
   "outputs": [
    {
     "data": {
      "text/plain": [
       "0.5901002196595794"
      ]
     },
     "execution_count": 5,
     "metadata": {},
     "output_type": "execute_result"
    }
   ],
   "source": [
    "r = np.sum((x_i-xbar)*(y_i-ybar))/np.sqrt(np.sum((x_i-xbar)**2)*np.sum((y_i-ybar)**2)); r"
   ]
  },
  {
   "cell_type": "markdown",
   "id": "44b351ce",
   "metadata": {
    "slideshow": {
     "slide_type": "fragment"
    }
   },
   "source": [
    "Note that numpy and scipy actually have functions that calculate the\n",
    "correlation coefficient directly:"
   ]
  },
  {
   "cell_type": "code",
   "execution_count": 6,
   "id": "0f529900",
   "metadata": {
    "slideshow": {
     "slide_type": "fragment"
    }
   },
   "outputs": [
    {
     "data": {
      "text/plain": [
       "array([[1.        , 0.59010022],\n",
       "       [0.59010022, 1.        ]])"
      ]
     },
     "execution_count": 6,
     "metadata": {},
     "output_type": "execute_result"
    }
   ],
   "source": [
    "np.corrcoef(x_i,y_i)"
   ]
  },
  {
   "cell_type": "code",
   "execution_count": 7,
   "id": "e1eb8f10",
   "metadata": {
    "slideshow": {
     "slide_type": "fragment"
    }
   },
   "outputs": [
    {
     "data": {
      "text/plain": [
       "PearsonRResult(statistic=0.5901002196595796, pvalue=0.07252406498789259)"
      ]
     },
     "execution_count": 7,
     "metadata": {},
     "output_type": "execute_result"
    }
   ],
   "source": [
    "stats.pearsonr(x_i,y_i)"
   ]
  },
  {
   "cell_type": "markdown",
   "id": "fd680245",
   "metadata": {
    "slideshow": {
     "slide_type": "slide"
    }
   },
   "source": [
    "## Spearman’s $\\rho$"
   ]
  },
  {
   "cell_type": "markdown",
   "id": "678fc1f3",
   "metadata": {
    "slideshow": {
     "slide_type": "subslide"
    }
   },
   "source": [
    "- Simple non-parametric measure of correlation: compute the correlation <span><span>coëfficient</span></span> of the ranks of the data, rather than of the data themselves."
   ]
  },
  {
   "cell_type": "markdown",
   "id": "39c58d7a",
   "metadata": {
    "slideshow": {
     "slide_type": "fragment"
    }
   },
   "source": [
    "- Rank within each data sample, i.e., ranks of the $\\{x_i\\}$ are $\\{R^x_i\\}$ & ranks of the $\\{y_i\\}$ are $\\{R^y_i\\}$."
   ]
  },
  {
   "cell_type": "markdown",
   "id": "9c025ae7",
   "metadata": {
    "slideshow": {
     "slide_type": "fragment"
    }
   },
   "source": [
    "- Conover calls these $R(X_i)$ and $R(Y_i)$, respectively, but it’s important to note they are\n",
    "two different sets of ranks, each from $1$ to $n$, and *not* a single\n",
    "ranking of the $\\{x_i\\}$ and the $\\{y_i\\}$ together."
   ]
  },
  {
   "cell_type": "code",
   "execution_count": 8,
   "id": "c6d1f8ce",
   "metadata": {
    "slideshow": {
     "slide_type": "fragment"
    }
   },
   "outputs": [
    {
     "data": {
      "text/plain": [
       "(array([9.64, 5.91, 3.22, 2.04, 5.49, 9.24, 6.38, 7.79, 0.48, 8.86]),\n",
       " array([10.,  5.,  3.,  2.,  4.,  9.,  6.,  7.,  1.,  8.]))"
      ]
     },
     "execution_count": 8,
     "metadata": {},
     "output_type": "execute_result"
    }
   ],
   "source": [
    "Rx_i = stats.rankdata(x_i); x_i, Rx_i"
   ]
  },
  {
   "cell_type": "code",
   "execution_count": 9,
   "id": "436f519d",
   "metadata": {
    "slideshow": {
     "slide_type": "fragment"
    }
   },
   "outputs": [
    {
     "data": {
      "text/plain": [
       "(array([5.53, 3.48, 3.16, 2.98, 7.11, 7.75, 3.37, 8.24, 3.  , 3.75]),\n",
       " array([ 7.,  5.,  3.,  1.,  8.,  9.,  4., 10.,  2.,  6.]))"
      ]
     },
     "execution_count": 9,
     "metadata": {},
     "output_type": "execute_result"
    }
   ],
   "source": [
    "Ry_i = stats.rankdata(y_i); y_i, Ry_i"
   ]
  },
  {
   "cell_type": "markdown",
   "id": "5dee96c1",
   "metadata": {
    "slideshow": {
     "slide_type": "subslide"
    }
   },
   "source": [
    "- Each set of ranks has the same mean (even if there are ties)\n",
    "$${{\\overline{R}}}= \\frac{1}{n}\\sum_{i=1}^n R^x_i = \\frac{1}{n}\\sum_{i=1}^n R^y_i\n",
    "  = \\frac{n+1}{2}$$"
   ]
  },
  {
   "cell_type": "code",
   "execution_count": 10,
   "id": "4907eba3",
   "metadata": {
    "slideshow": {
     "slide_type": "fragment"
    }
   },
   "outputs": [
    {
     "data": {
      "text/plain": [
       "(5.5, 5.5, 5.5)"
      ]
     },
     "execution_count": 10,
     "metadata": {},
     "output_type": "execute_result"
    }
   ],
   "source": [
    "Rbar = np.mean(Rx_i); n=len(x_i); Rbar, np.mean(Ry_i), (n+1)/2"
   ]
  },
  {
   "cell_type": "markdown",
   "id": "97c4382d",
   "metadata": {
    "slideshow": {
     "slide_type": "fragment"
    }
   },
   "source": [
    "- Thus the rank correlation\n",
    "<span><span>coëfficient</span></span>, known as Spearman’s $\\rho$, is\n",
    "$$\\rho = \\frac{\\sum_{i=1}^n (R^x_i-{{\\overline{R}}})(R^y_i-{{\\overline{R}}})}\n",
    "  {\\sqrt{\\sum_{i=1}^n (R^x_i-{{\\overline{R}}})^2}\\sqrt{\\sum_{i=1}^n (R^y_i-{{\\overline{R}}})^2}}$$"
   ]
  },
  {
   "cell_type": "code",
   "execution_count": 11,
   "id": "d2a25b9f",
   "metadata": {
    "slideshow": {
     "slide_type": "fragment"
    }
   },
   "outputs": [
    {
     "data": {
      "text/plain": [
       "0.7333333333333334"
      ]
     },
     "execution_count": 11,
     "metadata": {},
     "output_type": "execute_result"
    }
   ],
   "source": [
    "rho = np.sum((Rx_i-Rbar)*(Ry_i-Rbar) / np.sqrt(np.sum((Rx_i-Rbar)**2)*np.sum((Ry_i-Rbar)**2))); rho"
   ]
  },
  {
   "cell_type": "markdown",
   "id": "6861fcdf",
   "metadata": {
    "slideshow": {
     "slide_type": "subslide"
    }
   },
   "source": [
    "Note that if there are no ties, the sums in the denominator don’t depend\n",
    "on the data, e.g., $$\n",
    "  \\sum_{i=1}^n (R^x_i-{{\\overline{R}}})^2 = \\sum_{i=1}^n (R^x_i)^2\n",
    "  - 2{{\\overline{R}}}\\sum_{i=1}^n R^x_i + n{{\\overline{R}}}^2\n",
    "  = \\sum_{r=1}^n r^2 - n{{\\overline{R}}}^2\n",
    "  = \\frac{n(n+1)(n-1)}{12}\n",
    "  = \\sum_{i=1}^n (R^y_i-{{\\overline{R}}})^2$$"
   ]
  },
  {
   "cell_type": "code",
   "execution_count": 12,
   "id": "5bb56d5d",
   "metadata": {
    "slideshow": {
     "slide_type": "fragment"
    }
   },
   "outputs": [
    {
     "data": {
      "text/plain": [
       "(82.5, 82.5, 82.5)"
      ]
     },
     "execution_count": 12,
     "metadata": {},
     "output_type": "execute_result"
    }
   ],
   "source": [
    "np.sum((Rx_i-Rbar)**2), np.sum((Ry_i-Rbar)**2), n*(n+1)*(n-1)/12"
   ]
  },
  {
   "cell_type": "markdown",
   "id": "4fbbbd33",
   "metadata": {
    "slideshow": {
     "slide_type": "subslide"
    }
   },
   "source": [
    "Note that we\n",
    "can also simplify the numerator by noting $$\\begin{aligned}\n",
    "  \\sum_{i=1}^n (R^x_i-R^y_i)^2  &= \\sum_{i=1}^n ([R^x_i-{{\\overline{R}}}]-[R^y_i-{{\\overline{R}}}])^2\n",
    "  \\\\\n",
    "  &= \\sum_{i=1}^n (R^x_i-{{\\overline{R}}})^2 + \\sum_{i=1}^n (R^y_i-{{\\overline{R}}})^2\n",
    "  - 2\\sum_{i=1}^n (R^x_i-{{\\overline{R}}})(R^y_i-{{\\overline{R}}})\\end{aligned}$$\n",
    "so, if there are no ties,\n",
    "$$\\rho = 1 - \\frac{6}{n(n^2-1)}\\sum_{i=1}^n (R^x_i-R^y_i)^2\n",
    "  \\qquad \\hbox{(no ties)}$$"
   ]
  },
  {
   "cell_type": "code",
   "execution_count": 13,
   "id": "2b8c77fb",
   "metadata": {
    "slideshow": {
     "slide_type": "fragment"
    }
   },
   "outputs": [
    {
     "data": {
      "text/plain": [
       "(0.7333333333333334, 0.7333333333333334)"
      ]
     },
     "execution_count": 13,
     "metadata": {},
     "output_type": "execute_result"
    }
   ],
   "source": [
    "1-(6/(n*(n**2-1)))*np.sum((Rx_i-Ry_i)**2), rho"
   ]
  },
  {
   "cell_type": "markdown",
   "id": "d34ce915",
   "metadata": {
    "slideshow": {
     "slide_type": "subslide"
    }
   },
   "source": [
    "Spearman’s $\\rho$ is the correlation\n",
    "<span><span>coëfficient</span></span> calculated on the ranks of the\n",
    "data; we can plot the ranks of the same data set as before:"
   ]
  },
  {
   "cell_type": "code",
   "execution_count": 14,
   "id": "c4a03257",
   "metadata": {
    "slideshow": {
     "slide_type": "fragment"
    }
   },
   "outputs": [
    {
     "data": {
      "image/png": "[encoded data removed]",
      "text/plain": [
       "<Figure size 800x500 with 1 Axes>"
      ]
     },
     "metadata": {},
     "output_type": "display_data"
    }
   ],
   "source": [
    "plt.plot(Rx_i,Ry_i,'k.');plt.xlim([0.5,n+0.5]);plt.ylim([0.5,n+0.5]);plt.xticks(1+np.arange(n));plt.yticks(1+np.arange(n));\n",
    "plt.xlabel(r'$R^x_i$');plt.ylabel(r'$R^y_i$');plt.grid();"
   ]
  },
  {
   "cell_type": "markdown",
   "id": "0fead39c",
   "metadata": {
    "slideshow": {
     "slide_type": "subslide"
    }
   },
   "source": [
    "And as before numpy and scipy let us calculate the rank correlation\n",
    "coefficient (but note that the function is called `spearmanr()` and not\n",
    "`spearmanrho()`."
   ]
  },
  {
   "cell_type": "code",
   "execution_count": 15,
   "id": "f53526ee",
   "metadata": {
    "slideshow": {
     "slide_type": "fragment"
    }
   },
   "outputs": [
    {
     "data": {
      "text/plain": [
       "array([[1.        , 0.73333333],\n",
       "       [0.73333333, 1.        ]])"
      ]
     },
     "execution_count": 15,
     "metadata": {},
     "output_type": "execute_result"
    }
   ],
   "source": [
    "np.corrcoef(Rx_i,Ry_i)"
   ]
  },
  {
   "cell_type": "code",
   "execution_count": 16,
   "id": "8ebcd495",
   "metadata": {
    "slideshow": {
     "slide_type": "fragment"
    }
   },
   "outputs": [
    {
     "data": {
      "text/plain": [
       "SignificanceResult(statistic=0.7333333333333332, pvalue=0.01580059625057158)"
      ]
     },
     "execution_count": 16,
     "metadata": {},
     "output_type": "execute_result"
    }
   ],
   "source": [
    "stats.spearmanr(x_i,y_i)"
   ]
  },
  {
   "cell_type": "markdown",
   "id": "25b9a8f4",
   "metadata": {
    "slideshow": {
     "slide_type": "subslide"
    }
   },
   "source": [
    "- To perform a hypothesis test, we need the null distribution of $\\rho$."
   ]
  },
  {
   "cell_type": "markdown",
   "id": "4745a6cf",
   "metadata": {
    "slideshow": {
     "slide_type": "fragment"
    }
   },
   "source": [
    "- If populations uncorrelated, than the point with\n",
    "$R^x_i=1$ is equally likely to be paired with any of the $n$ $y$ ranks;\n",
    "the point with $R^x_i=2$ is equally likely to be paired with any of the\n",
    "$n-1$ other $y$ ranks, etc."
   ]
  },
  {
   "cell_type": "markdown",
   "id": "d1143b39",
   "metadata": {
    "slideshow": {
     "slide_type": "fragment"
    }
   },
   "source": [
    "- There are $n!$ different permutations, In the case\n",
    "of this data, there are $10!=3\\,628\\,800$."
   ]
  },
  {
   "cell_type": "code",
   "execution_count": 17,
   "id": "ded5a700",
   "metadata": {
    "slideshow": {
     "slide_type": "fragment"
    }
   },
   "outputs": [
    {
     "data": {
      "text/plain": [
       "3628800.0"
      ]
     },
     "execution_count": 17,
     "metadata": {},
     "output_type": "execute_result"
    }
   ],
   "source": [
    "from scipy.special import factorial\n",
    "factorial(10)"
   ]
  },
  {
   "cell_type": "markdown",
   "id": "478bd473",
   "metadata": {
    "slideshow": {
     "slide_type": "fragment"
    }
   },
   "source": [
    "It takes a few seconds, but python can loop through all of these\n",
    "permutations and give us a null distribution that we can use to\n",
    "calculate $p$-values."
   ]
  },
  {
   "cell_type": "code",
   "execution_count": 18,
   "id": "f059fd36",
   "metadata": {
    "slideshow": {
     "slide_type": "fragment"
    }
   },
   "outputs": [
    {
     "data": {
      "text/plain": [
       "0.020233134920634922"
      ]
     },
     "execution_count": 18,
     "metadata": {},
     "output_type": "execute_result"
    }
   ],
   "source": [
    "import itertools; R_r = np.arange(1,n+1)\n",
    "sumsq_I = np.array([np.sum((R_r-permR_r)**2) for permR_r in itertools.permutations(R_r)], dtype=int)\n",
    "rho_I = 1. - 6./(n*(n**2-1.)) * sumsq_I\n",
    "2.*np.mean(rho_I >= rho)"
   ]
  },
  {
   "cell_type": "markdown",
   "id": "3ac2e380",
   "metadata": {
    "slideshow": {
     "slide_type": "subslide"
    }
   },
   "source": [
    "For larger sample sizes, we’d like to use a normal approximation.\n",
    "Clearly $E({\\color{royalblue}{\\rho}})=0$; it turns out that\n",
    "$\\operatorname{Var}({\\color{royalblue}{\\rho}})=\\frac{1}{n-1}$, which we\n",
    "can verify:"
   ]
  },
  {
   "cell_type": "code",
   "execution_count": 19,
   "id": "25e97dff",
   "metadata": {
    "slideshow": {
     "slide_type": "fragment"
    }
   },
   "outputs": [
    {
     "data": {
      "text/plain": [
       "(-1.0827317878249146e-16, 0.3333333333333333, 0.3333333333333333)"
      ]
     },
     "execution_count": 19,
     "metadata": {},
     "output_type": "execute_result"
    }
   ],
   "source": [
    "np.mean(rho_I),np.std(rho_I),1./np.sqrt(n-1)"
   ]
  },
  {
   "cell_type": "markdown",
   "id": "645c4a7a",
   "metadata": {
    "slideshow": {
     "slide_type": "fragment"
    }
   },
   "source": [
    "We can compare the exact two-tailed $p$-value above to the normal\n",
    "approximation value:"
   ]
  },
  {
   "cell_type": "code",
   "execution_count": 20,
   "id": "a31deb15",
   "metadata": {
    "slideshow": {
     "slide_type": "fragment"
    }
   },
   "outputs": [
    {
     "data": {
      "text/plain": [
       "(0.02780689502699719, 0.020233134920634922)"
      ]
     },
     "execution_count": 20,
     "metadata": {},
     "output_type": "execute_result"
    }
   ],
   "source": [
    "2*stats.norm.sf(rho*np.sqrt(n-1)), 2.*np.mean(rho_I >= rho)"
   ]
  },
  {
   "cell_type": "markdown",
   "id": "22a58ed3",
   "metadata": {
    "slideshow": {
     "slide_type": "fragment"
    }
   },
   "source": [
    "It’s not a great approximation $2.8\\%$ versus $2.0\\%$, but it’s okay."
   ]
  },
  {
   "cell_type": "markdown",
   "id": "923ea203",
   "metadata": {
    "slideshow": {
     "slide_type": "subslide"
    }
   },
   "source": [
    "Note that both of these are different from the $1.6\\%$ returned by\n",
    "scipy, which comes from a different approximation, that\n",
    "$$\n",
    "{\\color{royalblue}{\\rho}}\\sqrt{\\frac{n-2}{1-{\\color{royalblue}{\\rho}}^2}}\n",
    "$$\n",
    "is Student-$t$ distributed with $n-2$ degrees of freedom:"
   ]
  },
  {
   "cell_type": "code",
   "execution_count": 21,
   "id": "e19b91e4",
   "metadata": {
    "slideshow": {
     "slide_type": "fragment"
    }
   },
   "outputs": [
    {
     "data": {
      "text/plain": [
       "SignificanceResult(statistic=0.7333333333333332, pvalue=0.01580059625057158)"
      ]
     },
     "execution_count": 21,
     "metadata": {},
     "output_type": "execute_result"
    }
   ],
   "source": [
    "stats.spearmanr(x_i,y_i)"
   ]
  },
  {
   "cell_type": "code",
   "execution_count": 22,
   "id": "48888751",
   "metadata": {
    "slideshow": {
     "slide_type": "fragment"
    }
   },
   "outputs": [
    {
     "data": {
      "text/plain": [
       "(0.02780689502699719, 0.020233134920634922, 0.015800596250571536)"
      ]
     },
     "execution_count": 22,
     "metadata": {},
     "output_type": "execute_result"
    }
   ],
   "source": [
    "2*stats.norm.sf(rho*np.sqrt(n-1)), 2.*np.mean(rho_I >= rho),2*stats.t(df=n-2).sf(np.abs(rho)*np.sqrt((n-2)/(1-rho**2)))"
   ]
  },
  {
   "cell_type": "markdown",
   "id": "dc8b94a4",
   "metadata": {
    "slideshow": {
     "slide_type": "fragment"
    }
   },
   "source": [
    "In any event, we know that the disribution can’t quite be normal\n",
    "because the probability for $\\rho$ to be above $1$ or below $-1$ is\n",
    "zero."
   ]
  },
  {
   "cell_type": "markdown",
   "id": "953a44f8",
   "metadata": {
    "slideshow": {
     "slide_type": "subslide"
    }
   },
   "source": [
    "We can look at how normal things seem with a histogram:"
   ]
  },
  {
   "cell_type": "code",
   "execution_count": 23,
   "id": "8d1c8fe0",
   "metadata": {
    "slideshow": {
     "slide_type": "fragment"
    }
   },
   "outputs": [
    {
     "data": {
      "image/png": "[encoded data removed]",
      "text/plain": [
       "<Figure size 800x500 with 1 Axes>"
      ]
     },
     "metadata": {},
     "output_type": "display_data"
    }
   ],
   "source": [
    "plt.hist(rho_I,bins=200,density=True); plt.xlabel(r'$\\rho$'); plt.ylabel('Null pdf');"
   ]
  },
  {
   "cell_type": "markdown",
   "id": "2543f720",
   "metadata": {
    "slideshow": {
     "slide_type": "fragment"
    }
   },
   "source": [
    "We see that there is also some discretization effect!"
   ]
  },
  {
   "cell_type": "markdown",
   "id": "3df8e244",
   "metadata": {
    "slideshow": {
     "slide_type": "slide"
    }
   },
   "source": [
    "## Kendall’s $\\tau$"
   ]
  },
  {
   "cell_type": "markdown",
   "id": "cf054150",
   "metadata": {
    "slideshow": {
     "slide_type": "subslide"
    }
   },
   "source": [
    "A measure of correlation or association coming from a different starting\n",
    "point is the so-called Kendall $\\tau$. This is defined by considering\n",
    "all of the $\\binom{n}{2}=\\frac{n(n-1)}{2}$ pairs of data points, and\n",
    "counting how many of them are “concordant” and how many are\n",
    "“discordant”. We say that:"
   ]
  },
  {
   "cell_type": "markdown",
   "id": "230910e9",
   "metadata": {
    "slideshow": {
     "slide_type": "fragment"
    }
   },
   "source": [
    "-   $(x_i,y_i)$ and $(x_j,y_j)$ are **concordant** if $x_i>x_j$ and\n",
    "    $y_i>y_j$, *or* $x_i<x_j$ and $y_i<y_j$"
   ]
  },
  {
   "cell_type": "markdown",
   "id": "57fcdaa0",
   "metadata": {
    "slideshow": {
     "slide_type": "fragment"
    }
   },
   "source": [
    "-   $(x_i,y_i)$ and $(x_j,y_j)$ are **disccordant** if $x_i>x_j$ and\n",
    "    $y_i<y_j$, *or* $x_i<x_j$ and $y_i>y_j$"
   ]
  },
  {
   "cell_type": "markdown",
   "id": "9b2d9038",
   "metadata": {
    "slideshow": {
     "slide_type": "fragment"
    }
   },
   "source": [
    "-   $(x_i,y_i)$ and $(x_j,y_j)$ are neither concordant or discordant if\n",
    "    $x_i=x_j$ or $y_i=y_j$."
   ]
  },
  {
   "cell_type": "markdown",
   "id": "77cb4d0a",
   "metadata": {
    "slideshow": {
     "slide_type": "subslide"
    }
   },
   "source": [
    "The ideas of concordant/discordant pairs are easy to grasp if we\n",
    "visualize them on a scatter plot of the data."
   ]
  },
  {
   "cell_type": "code",
   "execution_count": 24,
   "id": "d6f63cf2",
   "metadata": {
    "slideshow": {
     "slide_type": "fragment"
    }
   },
   "outputs": [
    {
     "data": {
      "image/png": "[encoded data removed]",
      "text/plain": [
       "<Figure size 800x500 with 1 Axes>"
      ]
     },
     "metadata": {},
     "output_type": "display_data"
    }
   ],
   "source": [
    "gray = [0.7,0.7,0.7]; plt.plot(x_i,y_i,'k.',mfc=gray,mec=gray);x1 = x_i[4]; y1 = y_i[4]; x2 = x_i[2]; y2 = y_i[2]\n",
    "plt.plot([x1,x1],[2,9],'r-');plt.plot([0,10],[y1,y1],'r-');plt.plot(x1,y1,'r.',ms=10);plt.plot([x2,x2],[2,9],'b-');\n",
    "plt.plot([0,10],[y2,y2],'b-');plt.plot(x2,y2,'b.',ms=10);plt.title('Example of a concordant pair');\n",
    "plt.xlabel(r'$x_i$');plt.ylabel(r'$y_i$');plt.xlim(0,10);plt.ylim(2,9);plt.grid();"
   ]
  },
  {
   "cell_type": "code",
   "execution_count": 25,
   "id": "7b39ff7b",
   "metadata": {
    "slideshow": {
     "slide_type": "subslide"
    }
   },
   "outputs": [
    {
     "data": {
      "image/png": "[encoded data removed]",
      "text/plain": [
       "<Figure size 800x500 with 1 Axes>"
      ]
     },
     "metadata": {},
     "output_type": "display_data"
    }
   ],
   "source": [
    "plt.plot(x_i,y_i,'k.',mfc=gray,mec=gray);x1 = x_i[4]; y1 = y_i[4]; x2 = x_i[1]; y2 = y_i[1]\n",
    "plt.plot(x1,y1,'r.',ms=10);plt.plot([x2,x2],[2,9],'g-');plt.plot([0,10],[y2,y2],'g-');\n",
    "plt.plot(x2,y2,'g.',ms=10);plt.xlabel(r'$x_i$');plt.ylabel(r'$y_i$');plt.plot([x1,x1],[2,9],'r-');\n",
    "plt.plot([0,10],[y1,y1],'r-');plt.xlabel(r'$x_i$');plt.ylabel(r'$y_i$');plt.xlim([0,10]);\n",
    "plt.ylim([2,9]);plt.grid(True);plt.title('Example of a discordant pair');"
   ]
  },
  {
   "cell_type": "markdown",
   "id": "d4aa2d00",
   "metadata": {
    "slideshow": {
     "slide_type": "subslide"
    }
   },
   "source": [
    "Although the classification into concordant and discordant pairs is not\n",
    "explicitly written in terms of the ranks, we can see that, since only\n",
    "depends on the ordering of the $\\{x_i\\}$ and the ordering of the\n",
    "$\\{y_i\\}$, it can be determined from the ranks alone:"
   ]
  },
  {
   "cell_type": "code",
   "execution_count": 26,
   "id": "aa49a19d",
   "metadata": {
    "slideshow": {
     "slide_type": "fragment"
    }
   },
   "outputs": [
    {
     "data": {
      "image/png": "[encoded data removed]",
      "text/plain": [
       "<Figure size 800x500 with 1 Axes>"
      ]
     },
     "metadata": {},
     "output_type": "display_data"
    }
   ],
   "source": [
    "plt.plot(Rx_i,Ry_i,'k.',mfc=gray,mec=gray);Rx1 = Rx_i[4]; Ry1 = Ry_i[4]; Rx2 = Rx_i[2]; Ry2 = Ry_i[2]\n",
    "plt.plot([Rx1,Rx1],[0.5,n+0.5],'r-');plt.plot([0.5,n+0.5],[Ry1,Ry1],'r-');plt.plot(Rx1,Ry1,'r.',ms=10);\n",
    "plt.plot([Rx2,Rx2],[0.5,n+0.5],'b-');plt.plot([0.5,n+0.5],[Ry2,Ry2],'b-');plt.plot(Rx2,Ry2,'b.',ms=10);plt.xlim([0.5,n+0.5]);\n",
    "plt.ylim([0.5,n+0.5]);plt.xticks(1+np.arange(n));plt.yticks(1+np.arange(n));plt.xlabel(r'$R^x_i$');plt.ylabel(r'$R^y_i$');\n",
    "plt.title('Example of a concordant pair');plt.grid();"
   ]
  },
  {
   "cell_type": "code",
   "execution_count": 27,
   "id": "1d0b1a3b",
   "metadata": {
    "slideshow": {
     "slide_type": "subslide"
    }
   },
   "outputs": [
    {
     "data": {
      "image/png": "[encoded data removed]",
      "text/plain": [
       "<Figure size 800x500 with 1 Axes>"
      ]
     },
     "metadata": {},
     "output_type": "display_data"
    }
   ],
   "source": [
    "plt.plot(Rx_i,Ry_i,'k.',mfc=gray,mec=gray);Rx1 = Rx_i[4]; Ry1 = Ry_i[4]; Rx2 = Rx_i[1]; Ry2 = Ry_i[1]\n",
    "plt.plot([Rx1,Rx1],[0.5,n+0.5],'r-');plt.plot([0.5,n+0.5],[Ry1,Ry1],'r-');plt.plot(Rx1,Ry1,'r.',ms=10);\n",
    "plt.plot([Rx2,Rx2],[0.5,n+0.5],'g-');plt.plot([0.5,n+0.5],[Ry2,Ry2],'g-');plt.plot(Rx2,Ry2,'g.',ms=10);plt.xlim([0.5,n+0.5]);\n",
    "plt.ylim([0.5,n+0.5]);plt.xticks(1+np.arange(n));plt.yticks(1+np.arange(n));plt.xlabel(r'$R^x_i$');plt.ylabel(r'$R^y_i$');\n",
    "plt.title('Example of a discordant pair');plt.grid(True);"
   ]
  },
  {
   "cell_type": "markdown",
   "id": "0c832698",
   "metadata": {
    "slideshow": {
     "slide_type": "subslide"
    }
   },
   "source": [
    "The statistic is constructed from $N_c$,\n",
    "the number of concordant pairs, and $N_d$, the number of discordant\n",
    "pairs. If there are no ties, $$N_c+N_d = \\frac{n(n-1)}{2}$$ and we can\n",
    "define the Kendall tau statistic\n",
    "$$\\tau = \\frac{N_c-N_d}{N_c+N_d} = \\frac{2(N_c-N_d)}{n(n-1)}\n",
    "  \\qquad \\hbox{no ties}$$ where the denominator was chosen so that\n",
    "$-1\\le\\tau\\le 1$."
   ]
  },
  {
   "cell_type": "markdown",
   "id": "a2719133",
   "metadata": {
    "slideshow": {
     "slide_type": "fragment"
    }
   },
   "source": [
    "There are actually a few different prescriptions to handle ties. Conover\n",
    "advocates considering any pair with $x_i\\ne x_j$ and $y_i=y_j$ to be\n",
    "half-concordant and half-discordant, and thus contribute $\\frac{1}{2}$\n",
    "to $N_c$ and $\\frac{1}{2}$ to $N_d$. This won’t change the numerator of\n",
    "$\\tau$, since these contributions cancel out of $N_c-N_d$, but it will\n",
    "change the denominator."
   ]
  },
  {
   "cell_type": "markdown",
   "id": "1acc69d3",
   "metadata": {
    "slideshow": {
     "slide_type": "subslide"
    }
   },
   "source": [
    "To compute $\\tau$, need to count the number of concordant and discordant pairs.  How could we identify them automatically? Consider the\n",
    "first two points:"
   ]
  },
  {
   "cell_type": "code",
   "execution_count": 28,
   "id": "05ae56be",
   "metadata": {
    "slideshow": {
     "slide_type": "fragment"
    }
   },
   "outputs": [
    {
     "data": {
      "text/plain": [
       "(array([9.64, 5.91]), array([5.53, 3.48]))"
      ]
     },
     "execution_count": 28,
     "metadata": {},
     "output_type": "execute_result"
    }
   ],
   "source": [
    "x_i[:2],y_i[:2]"
   ]
  },
  {
   "cell_type": "code",
   "execution_count": 29,
   "id": "280862eb",
   "metadata": {
    "slideshow": {
     "slide_type": "fragment"
    }
   },
   "outputs": [
    {
     "data": {
      "text/plain": [
       "(True, True)"
      ]
     },
     "execution_count": 29,
     "metadata": {},
     "output_type": "execute_result"
    }
   ],
   "source": [
    "(x_i[0]>x_i[1]),(y_i[0]>y_i[1])"
   ]
  },
  {
   "cell_type": "markdown",
   "id": "f9479136",
   "metadata": {
    "slideshow": {
     "slide_type": "fragment"
    }
   },
   "source": [
    "We see that $x_1>x_2$ and $y_1>y_2$, so this is a concordant pair.  Can define a function that returns `True` iff $x_1>x_2$ and $y_1>y_2$, using the `&` (bitwise and) and `|` (bitwise or) operators to combine comparisons:"
   ]
  },
  {
   "cell_type": "code",
   "execution_count": 30,
   "id": "839f30a3",
   "metadata": {
    "slideshow": {
     "slide_type": "fragment"
    }
   },
   "outputs": [
    {
     "data": {
      "text/plain": [
       "True"
      ]
     },
     "execution_count": 30,
     "metadata": {},
     "output_type": "execute_result"
    }
   ],
   "source": [
    "def is_concordant(pt1,pt2):\n",
    "    return ((pt1[0]>pt2[0])&(pt1[1]>pt2[1])|(pt1[0]<pt2[0])&(pt1[1]<pt2[1]))\n",
    "is_concordant((x_i[0],y_i[0]),(x_i[1],y_i[1]))"
   ]
  },
  {
   "cell_type": "code",
   "execution_count": 31,
   "id": "bb5bccaa",
   "metadata": {
    "slideshow": {
     "slide_type": "fragment"
    }
   },
   "outputs": [
    {
     "data": {
      "text/plain": [
       "False"
      ]
     },
     "execution_count": 31,
     "metadata": {},
     "output_type": "execute_result"
    }
   ],
   "source": [
    "def is_discordant(pt1,pt2):\n",
    "    return ((pt1[0]>pt2[0])&(pt1[1]<pt2[1])|(pt1[0]<pt2[0])&(pt1[1]>pt2[1]))\n",
    "is_discordant((x_i[0],y_i[0]),(x_i[1],y_i[1]))"
   ]
  },
  {
   "cell_type": "markdown",
   "id": "a6891291",
   "metadata": {
    "slideshow": {
     "slide_type": "subslide"
    }
   },
   "source": [
    "You can test out the behavior yourself by changing the values in this cell:"
   ]
  },
  {
   "cell_type": "code",
   "execution_count": 32,
   "id": "fcf85b30",
   "metadata": {
    "slideshow": {
     "slide_type": "fragment"
    }
   },
   "outputs": [
    {
     "name": "stdout",
     "output_type": "stream",
     "text": [
      "True False\n"
     ]
    }
   ],
   "source": [
    "pt1 = (2,3); pt2 = (3,4); print(is_concordant(pt1,pt2),is_discordant(pt1,pt2))"
   ]
  },
  {
   "cell_type": "markdown",
   "id": "8ab1d869",
   "metadata": {
    "slideshow": {
     "slide_type": "fragment"
    }
   },
   "source": [
    "Loop through all pairs of points, sum # of concordant and discordant pairs, and find $N_c=35$ and $N_d=10$:"
   ]
  },
  {
   "cell_type": "code",
   "execution_count": 33,
   "id": "ceff8607",
   "metadata": {
    "slideshow": {
     "slide_type": "fragment"
    }
   },
   "outputs": [
    {
     "data": {
      "text/plain": [
       "35"
      ]
     },
     "execution_count": 33,
     "metadata": {},
     "output_type": "execute_result"
    }
   ],
   "source": [
    "Nc = np.sum([is_concordant((x_i[i],y_i[i]),(x_i[j],y_i[j])) for (i,j) in itertools.combinations(range(n),2)]); Nc"
   ]
  },
  {
   "cell_type": "code",
   "execution_count": 34,
   "id": "325266f5",
   "metadata": {
    "slideshow": {
     "slide_type": "fragment"
    }
   },
   "outputs": [
    {
     "data": {
      "text/plain": [
       "10"
      ]
     },
     "execution_count": 34,
     "metadata": {},
     "output_type": "execute_result"
    }
   ],
   "source": [
    "Nd = np.sum([is_discordant((x_i[i],y_i[i]),(x_i[j],y_i[j])) for (i,j) in itertools.combinations(range(n),2)]); Nd"
   ]
  },
  {
   "cell_type": "markdown",
   "id": "cc646781",
   "metadata": {
    "slideshow": {
     "slide_type": "fragment"
    }
   },
   "source": [
    "As noted above, it doesn't matter if we use the actual values or the ranks to do this computation:"
   ]
  },
  {
   "cell_type": "code",
   "execution_count": 35,
   "id": "6f766a14",
   "metadata": {
    "slideshow": {
     "slide_type": "fragment"
    }
   },
   "outputs": [
    {
     "name": "stdout",
     "output_type": "stream",
     "text": [
      "35 10\n"
     ]
    }
   ],
   "source": [
    "print(np.sum([is_concordant((Rx_i[i],Ry_i[i]),(Rx_i[j],Ry_i[j])) for (i,j) in itertools.combinations(range(n),2)]),\n",
    "      np.sum([is_discordant((Rx_i[i],Ry_i[i]),(Rx_i[j],Ry_i[j])) for (i,j) in itertools.combinations(range(n),2)]))"
   ]
  },
  {
   "cell_type": "markdown",
   "id": "68152df8",
   "metadata": {
    "slideshow": {
     "slide_type": "subslide"
    }
   },
   "source": [
    "Note that, since there are no ties, $N_c+N_d=\\frac{n(n-1)}{2}$"
   ]
  },
  {
   "cell_type": "code",
   "execution_count": 36,
   "id": "4402bc67",
   "metadata": {
    "slideshow": {
     "slide_type": "fragment"
    }
   },
   "outputs": [
    {
     "name": "stdout",
     "output_type": "stream",
     "text": [
      "There are 35 concordant and 10 discordant pairs out of 45 total\n"
     ]
    }
   ],
   "source": [
    "print(\"There are %d concordant and %d discordant pairs out of %d total\"%(Nc,Nd,n*(n-1)//2))"
   ]
  },
  {
   "cell_type": "markdown",
   "id": "00575285",
   "metadata": {
    "slideshow": {
     "slide_type": "fragment"
    }
   },
   "source": [
    "From these, we compute $\\tau=\\frac{35-10}{45}=\\frac{5}{9}$:"
   ]
  },
  {
   "cell_type": "code",
   "execution_count": 37,
   "id": "3fd1e197",
   "metadata": {
    "slideshow": {
     "slide_type": "fragment"
    }
   },
   "outputs": [
    {
     "data": {
      "text/plain": [
       "0.5555555555555556"
      ]
     },
     "execution_count": 37,
     "metadata": {},
     "output_type": "execute_result"
    }
   ],
   "source": [
    "tau = (Nc-Nd)/(Nc+Nd); tau"
   ]
  },
  {
   "cell_type": "markdown",
   "id": "355ecff1",
   "metadata": {
    "slideshow": {
     "slide_type": "fragment"
    }
   },
   "source": [
    "And of course there’s a scipy function which does it for us and\n",
    "estimates a two-sided $p$-value of $2.86\\%$ (although older versions reported $2.53\\%$):"
   ]
  },
  {
   "cell_type": "code",
   "execution_count": 38,
   "id": "b7626028",
   "metadata": {
    "slideshow": {
     "slide_type": "fragment"
    }
   },
   "outputs": [
    {
     "data": {
      "text/plain": [
       "SignificanceResult(statistic=0.5555555555555555, pvalue=0.02860945767195767)"
      ]
     },
     "execution_count": 38,
     "metadata": {},
     "output_type": "execute_result"
    }
   ],
   "source": [
    "stats.kendalltau(x_i,y_i) "
   ]
  },
  {
   "cell_type": "markdown",
   "id": "d323e465",
   "metadata": {
    "slideshow": {
     "slide_type": "subslide"
    }
   },
   "source": [
    "Again, to get the null distribution, we assume any of the $10!$ rank\n",
    "pairings is equally likely.  An obvioius straightforward way to do this would be something like this:"
   ]
  },
  {
   "cell_type": "code",
   "execution_count": 39,
   "id": "ce2948e6",
   "metadata": {
    "slideshow": {
     "slide_type": "fragment"
    }
   },
   "outputs": [],
   "source": [
    "# Nc_I = np.array([np.sum([is_concordant((i,perm_i[i]),(j,perm_i[j])) for (i,j) in itertools.combinations(range(n),2)]) \n",
    "#                  for perm_i in itertools.permutations(np.arange(n))])"
   ]
  },
  {
   "cell_type": "markdown",
   "id": "b5b65c63",
   "metadata": {
    "slideshow": {
     "slide_type": "fragment"
    }
   },
   "source": [
    "Unfortunately, calling the `is_concordant()` function for each permutation makes the computation time unbearable (3 minutes on my new laptop), so we use a trick to speed this up, with\n",
    "logical “exclusive or”, which is true if exactly one of the two\n",
    "statements is true, but false if they are both true or both false."
   ]
  },
  {
   "cell_type": "code",
   "execution_count": 40,
   "id": "dbd2123d",
   "metadata": {
    "slideshow": {
     "slide_type": "fragment"
    }
   },
   "outputs": [
    {
     "data": {
      "text/plain": [
       "(False, True, True, False)"
      ]
     },
     "execution_count": 40,
     "metadata": {},
     "output_type": "execute_result"
    }
   ],
   "source": [
    "True^True, True^False, False^True, False^False"
   ]
  },
  {
   "cell_type": "code",
   "execution_count": 43,
   "id": "d93e42fb",
   "metadata": {
    "slideshow": {
     "slide_type": "fragment"
    }
   },
   "outputs": [
    {
     "data": {
      "text/plain": [
       "(True, False, False, True)"
      ]
     },
     "execution_count": 43,
     "metadata": {},
     "output_type": "execute_result"
    }
   ],
   "source": [
    "not(True^True), not(True^False), not(False^True), not(False^False)"
   ]
  },
  {
   "cell_type": "markdown",
   "id": "c1cd6130",
   "metadata": {
    "slideshow": {
     "slide_type": "subslide"
    }
   },
   "source": [
    "So we\n",
    "want “NOT ($x_i>x_j$ XOR $y_i>y_j$)” for concordant and “NOT ($x_i>x_j$\n",
    "XOR $y_i<y_j$)” for discordant."
   ]
  },
  {
   "cell_type": "code",
   "execution_count": 42,
   "id": "aeac686f",
   "metadata": {
    "slideshow": {
     "slide_type": "fragment"
    }
   },
   "outputs": [
    {
     "name": "stdout",
     "output_type": "stream",
     "text": [
      "True False\n",
      "True False\n"
     ]
    }
   ],
   "source": [
    "pt1 = (x_i[0],y_i[0]); pt2 = (x_i[1],y_i[1]); print(is_concordant(pt1,pt2),is_discordant(pt1,pt2))\n",
    "print(not((pt1[0]>pt2[0])^(pt1[1]>pt2[1])),not((pt1[0]>pt2[0])^(pt1[1]<pt2[1])))"
   ]
  },
  {
   "cell_type": "markdown",
   "id": "c9b7fa22",
   "metadata": {
    "slideshow": {
     "slide_type": "fragment"
    }
   },
   "source": [
    "Note that this only works because there are no ties:"
   ]
  },
  {
   "cell_type": "code",
   "execution_count": 43,
   "id": "9d3ca361",
   "metadata": {
    "slideshow": {
     "slide_type": "fragment"
    }
   },
   "outputs": [
    {
     "name": "stdout",
     "output_type": "stream",
     "text": [
      "False False\n",
      "True False\n"
     ]
    }
   ],
   "source": [
    "pt1 = (2,3); pt2 = (2,4); print(is_concordant(pt1,pt2),is_discordant(pt1,pt2))\n",
    "print(not((pt1[0]>pt2[0])^(pt1[1]>pt2[1])),not((pt1[0]>pt2[0])^(pt1[1]<pt2[1])))"
   ]
  },
  {
   "cell_type": "code",
   "execution_count": 44,
   "id": "d07cb2d0",
   "metadata": {
    "slideshow": {
     "slide_type": "fragment"
    }
   },
   "outputs": [
    {
     "name": "stdout",
     "output_type": "stream",
     "text": [
      "Computation took 49.4321 seconds\n"
     ]
    }
   ],
   "source": [
    "idx_i = [i for i in range(n)]\n",
    "import time; t1=time.time()\n",
    "Nc_I = np.array([np.sum([not((i>j)^(perm_i[i]>perm_i[j])) for (i,j) in itertools.combinations(idx_i,2)])\n",
    "                 for perm_i in itertools.permutations(idx_i)])\n",
    "t2=time.time()\n",
    "print('Computation took %g seconds' % (t2-t1))"
   ]
  },
  {
   "cell_type": "markdown",
   "id": "b3aa27f4",
   "metadata": {
    "slideshow": {
     "slide_type": "subslide"
    }
   },
   "source": [
    "Since there are no ties, we know every pair is either discordant or concordant:"
   ]
  },
  {
   "cell_type": "code",
   "execution_count": 45,
   "id": "76f20a51",
   "metadata": {
    "slideshow": {
     "slide_type": "fragment"
    }
   },
   "outputs": [
    {
     "data": {
      "text/plain": [
       "45"
      ]
     },
     "execution_count": 45,
     "metadata": {},
     "output_type": "execute_result"
    }
   ],
   "source": [
    "Npairs = n*(n-1)//2; Npairs"
   ]
  },
  {
   "cell_type": "code",
   "execution_count": 46,
   "id": "2e5ae952",
   "metadata": {
    "slideshow": {
     "slide_type": "fragment"
    }
   },
   "outputs": [
    {
     "data": {
      "text/plain": [
       "(-1.0, 1.0)"
      ]
     },
     "execution_count": 46,
     "metadata": {},
     "output_type": "execute_result"
    }
   ],
   "source": [
    "Nd_I = Npairs - Nc_I\n",
    "tau_I = (Nc_I-Nd_I)/Npairs\n",
    "min(tau_I),max(tau_I)"
   ]
  },
  {
   "cell_type": "markdown",
   "id": "4448a21c",
   "metadata": {
    "slideshow": {
     "slide_type": "subslide"
    }
   },
   "source": [
    "We can plot a histogram of the exact distribution:"
   ]
  },
  {
   "cell_type": "code",
   "execution_count": 47,
   "id": "2666dd59",
   "metadata": {
    "slideshow": {
     "slide_type": "fragment"
    }
   },
   "outputs": [
    {
     "data": {
      "image/png": "[encoded data removed]",
      "text/plain": [
       "<Figure size 800x500 with 1 Axes>"
      ]
     },
     "metadata": {},
     "output_type": "display_data"
    }
   ],
   "source": [
    "plt.hist(Nc_I,bins=np.arange(-0.5,Npairs+1));\n",
    "plt.xlabel(r'$N_c$');plt.ylabel('#');plt.title('Null distribution for # of concordant pairs');"
   ]
  },
  {
   "cell_type": "markdown",
   "id": "a5e1f2ba",
   "metadata": {
    "slideshow": {
     "slide_type": "subslide"
    }
   },
   "source": [
    "and from this we get the null distribution of $\\tau$ statistic:"
   ]
  },
  {
   "cell_type": "code",
   "execution_count": 48,
   "id": "2112d5a7",
   "metadata": {
    "slideshow": {
     "slide_type": "fragment"
    }
   },
   "outputs": [
    {
     "data": {
      "image/png": "[encoded data removed]",
      "text/plain": [
       "<Figure size 800x500 with 1 Axes>"
      ]
     },
     "metadata": {},
     "output_type": "display_data"
    }
   ],
   "source": [
    "plt.hist(tau_I,bins=2*np.arange(-0.5,Npairs+1)/Npairs-1);\n",
    "plt.xlabel(r'$\\tau$');plt.ylabel('#');plt.title('Null distribution for Kendall statistic');plt.grid();"
   ]
  },
  {
   "cell_type": "markdown",
   "id": "b23f0d08",
   "metadata": {
    "slideshow": {
     "slide_type": "subslide"
    }
   },
   "source": [
    "It should be apparent that the null distribution has\n",
    "$E({\\color{royalblue}{\\tau}})=0$. The variance can be computed\n",
    "theoretically to be\n",
    "$\\operatorname{Var}({\\color{royalblue}{\\tau}})=\\frac{2(2n+5)}{9n(n-1)}$,\n",
    "which we can verify for $n=10$:"
   ]
  },
  {
   "cell_type": "code",
   "execution_count": 49,
   "id": "c066be6c",
   "metadata": {
    "slideshow": {
     "slide_type": "fragment"
    }
   },
   "outputs": [
    {
     "data": {
      "text/plain": [
       "3.0577147711722124e-17"
      ]
     },
     "execution_count": 49,
     "metadata": {},
     "output_type": "execute_result"
    }
   ],
   "source": [
    "np.mean(tau_I)"
   ]
  },
  {
   "cell_type": "code",
   "execution_count": 50,
   "id": "a30796b2",
   "metadata": {
    "slideshow": {
     "slide_type": "fragment"
    }
   },
   "outputs": [
    {
     "data": {
      "text/plain": [
       "(0.06172839506172841, 0.06172839506172839)"
      ]
     },
     "execution_count": 50,
     "metadata": {},
     "output_type": "execute_result"
    }
   ],
   "source": [
    "np.var(tau_I), 2*(2*n+5)/(9*n*(n-1))"
   ]
  },
  {
   "cell_type": "code",
   "execution_count": 51,
   "id": "fb81bbbd",
   "metadata": {
    "slideshow": {
     "slide_type": "fragment"
    }
   },
   "outputs": [
    {
     "data": {
      "text/plain": [
       "0.24845199749997662"
      ]
     },
     "execution_count": 51,
     "metadata": {},
     "output_type": "execute_result"
    }
   ],
   "source": [
    "sigtau = np.sqrt(2*(2*n+5)/(9*n*(n-1))); sigtau"
   ]
  },
  {
   "cell_type": "markdown",
   "id": "96ce938c",
   "metadata": {
    "slideshow": {
     "slide_type": "subslide"
    }
   },
   "source": [
    "Now we can compare the exact $p$-value with the value from the normal\n",
    "distribution:"
   ]
  },
  {
   "cell_type": "code",
   "execution_count": 52,
   "id": "d3bf94ef",
   "metadata": {
    "slideshow": {
     "slide_type": "fragment"
    }
   },
   "outputs": [
    {
     "data": {
      "text/plain": [
       "(0.02860945767195767, 0.02860945767195767, 0.025347318677468252)"
      ]
     },
     "execution_count": 52,
     "metadata": {},
     "output_type": "execute_result"
    }
   ],
   "source": [
    "2*np.mean(Nc_I>=Nc), 2*np.mean(tau_I>=tau), 2*stats.norm.sf(tau/sigtau)"
   ]
  },
  {
   "cell_type": "markdown",
   "id": "fbeefa57",
   "metadata": {
    "slideshow": {
     "slide_type": "fragment"
    }
   },
   "source": [
    "Note that `stats.kendalltau()` can now compute either the exact or the approximate $p$-value:"
   ]
  },
  {
   "cell_type": "code",
   "execution_count": 53,
   "id": "a43048e9",
   "metadata": {
    "slideshow": {
     "slide_type": "fragment"
    }
   },
   "outputs": [
    {
     "data": {
      "text/plain": [
       "SignificanceResult(statistic=0.5555555555555555, pvalue=0.02860945767195767)"
      ]
     },
     "execution_count": 53,
     "metadata": {},
     "output_type": "execute_result"
    }
   ],
   "source": [
    "stats.kendalltau(x_i,y_i,method='exact')"
   ]
  },
  {
   "cell_type": "code",
   "execution_count": 54,
   "id": "c2fc9416",
   "metadata": {
    "slideshow": {
     "slide_type": "fragment"
    }
   },
   "outputs": [
    {
     "data": {
      "text/plain": [
       "SignificanceResult(statistic=0.5555555555555555, pvalue=0.025347318677468252)"
      ]
     },
     "execution_count": 54,
     "metadata": {},
     "output_type": "execute_result"
    }
   ],
   "source": [
    "stats.kendalltau(x_i,y_i,method='asymptotic')"
   ]
  },
  {
   "cell_type": "code",
   "execution_count": 55,
   "id": "b8d49deb",
   "metadata": {
    "slideshow": {
     "slide_type": "fragment"
    }
   },
   "outputs": [
    {
     "data": {
      "text/plain": [
       "SignificanceResult(statistic=0.5555555555555555, pvalue=0.02860945767195767)"
      ]
     },
     "execution_count": 55,
     "metadata": {},
     "output_type": "execute_result"
    }
   ],
   "source": [
    "stats.kendalltau(x_i,y_i) # default behavior depends on the sample size"
   ]
  }
 ],
 "metadata": {
  "celltoolbar": "Slideshow",
  "kernelspec": {
   "display_name": "Python 3 (ipykernel)",
   "language": "python",
   "name": "python3"
  },
  "language_info": {
   "codemirror_mode": {
    "name": "ipython",
    "version": 3
   },
   "file_extension": ".py",
   "mimetype": "text/x-python",
   "name": "python",
   "nbconvert_exporter": "python",
   "pygments_lexer": "ipython3",
   "version": "3.9.7"
  }
 },
 "nbformat": 4,
 "nbformat_minor": 5
}
