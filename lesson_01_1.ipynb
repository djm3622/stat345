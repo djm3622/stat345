{
 "cells": [
  {
   "cell_type": "markdown",
   "id": "1d653caf",
   "metadata": {
    "slideshow": {
     "slide_type": "slide"
    }
   },
   "source": [
    "# STAT 345: Nonparametric Statistics\n",
    "\n",
    "## Lesson 01.1: Basics of Probability and Random Variables\n",
    "\n",
    "**Reading: Conover Chapter 1**\n",
    "\n",
    "*Prof. John T. Whelan*\n",
    "\n",
    "Thursday 16 January 2025"
   ]
  },
  {
   "cell_type": "markdown",
   "id": "f50ad00e",
   "metadata": {
    "slideshow": {
     "slide_type": "slide"
    }
   },
   "source": [
    "These lecture slides are in a computational notebook.  You have access to them through http://vmware.rit.edu/"
   ]
  },
  {
   "cell_type": "markdown",
   "id": "a90f8195",
   "metadata": {
    "slideshow": {
     "slide_type": "fragment"
    }
   },
   "source": [
    "Flat HTML and slideshow versions are also in MyCourses."
   ]
  },
  {
   "cell_type": "markdown",
   "id": "9df51516",
   "metadata": {
    "slideshow": {
     "slide_type": "fragment"
    }
   },
   "source": [
    "The notebook can run Python commands (other notebooks can use R or Julia; \"Ju-Pyt-R\").  Think: computational data analysis, not \"coding\"."
   ]
  },
  {
   "cell_type": "markdown",
   "id": "dd5db929",
   "metadata": {
    "slideshow": {
     "slide_type": "fragment"
    }
   },
   "source": [
    "Standard commands to activate inline interface and import libraries:"
   ]
  },
  {
   "cell_type": "code",
   "execution_count": null,
   "id": "325a6d06",
   "metadata": {
    "slideshow": {
     "slide_type": "fragment"
    }
   },
   "outputs": [],
   "source": [
    "%matplotlib inline"
   ]
  },
  {
   "cell_type": "code",
   "execution_count": null,
   "id": "9dcfbf65",
   "metadata": {
    "slideshow": {
     "slide_type": "fragment"
    }
   },
   "outputs": [],
   "source": [
    "import numpy as np\n",
    "from scipy import stats\n",
    "import matplotlib.pyplot as plt\n",
    "plt.rcParams['figure.figsize'] = (8.0,5.0)\n",
    "plt.rcParams['font.size'] = 14"
   ]
  },
  {
   "cell_type": "markdown",
   "id": "d11a587f",
   "metadata": {
    "slideshow": {
     "slide_type": "slide"
    }
   },
   "source": [
    "## Review of Probability"
   ]
  },
  {
   "cell_type": "markdown",
   "id": "e786a06c",
   "metadata": {
    "slideshow": {
     "slide_type": "fragment"
    }
   },
   "source": [
    "- Look over your notes from MATH-251 or equivalent on the details of probability theory"
   ]
  },
  {
   "cell_type": "markdown",
   "id": "2a1e26c5",
   "metadata": {
    "slideshow": {
     "slide_type": "fragment"
    }
   },
   "source": [
    "- There is a brief review in Chapter 1 of Conover."
   ]
  },
  {
   "cell_type": "markdown",
   "id": "8735db41",
   "metadata": {
    "slideshow": {
     "slide_type": "fragment"
    }
   },
   "source": [
    "- I've added [my notebooks from MATH 251](MATH251_timetable.html) to MyCourses"
   ]
  },
  {
   "cell_type": "markdown",
   "id": "d45c2298",
   "metadata": {
    "slideshow": {
     "slide_type": "fragment"
    }
   },
   "source": [
    "- Analogous conventional notes at [<http://ccrg.rit.edu/~whelan/1016-345/>](http://ccrg.rit.edu/~whelan/1016-345/)"
   ]
  },
  {
   "cell_type": "markdown",
   "id": "3804403a",
   "metadata": {
    "slideshow": {
     "slide_type": "subslide"
    }
   },
   "source": [
    "Very briefly, a probability $P(A)$, where $0\\le P(A)\\le 1$,\n",
    "can be assigned to an event $A$. An event is, in general, a statement\n",
    "which can be either true or false."
   ]
  },
  {
   "cell_type": "markdown",
   "id": "49c720c4",
   "metadata": {
    "slideshow": {
     "slide_type": "fragment"
    }
   },
   "source": [
    "In the classical or **frequentist**\n",
    "formulation of probability, it must be the random outcome of a\n",
    "repeatable experiment. If we repeat the experiment $N$ times, and $N_A$\n",
    "is the number of times that $A$ turns out to be true, then $N_A/N$\n",
    "should approach $P(A)$ as $N$ becomes large, i.e.,\n",
    "$\\lim_{N\\rightarrow\\infty}\\frac{N_A}{N}=P(A)$."
   ]
  },
  {
   "cell_type": "markdown",
   "id": "9ef42fc3",
   "metadata": {
    "slideshow": {
     "slide_type": "fragment"
    }
   },
   "source": [
    "In the more general\n",
    "**Bayesian** formulation of probability, $A$ can refer to any true-false\n",
    "proposition, and then $P(A|I)$ represents a degree of certainty, given\n",
    "the available information $I$, that $A$ is true."
   ]
  },
  {
   "cell_type": "markdown",
   "id": "35c112b4",
   "metadata": {
    "slideshow": {
     "slide_type": "subslide"
    }
   },
   "source": [
    "Events can be combined in various ways, but for our purposes we’ll be\n",
    "interested in $AB$ (also referred to as $A\\cap B$, $A\\hbox{ and }B$,\n",
    "$A\\wedge B$, or $A,B$), which is true if *both* $A$ and $B$ are true,\n",
    "and false otherwise, and define $P(AB)$ as the probability of this."
   ]
  },
  {
   "cell_type": "markdown",
   "id": "96455372",
   "metadata": {
    "slideshow": {
     "slide_type": "fragment"
    }
   },
   "source": [
    "Can also define the conditional probability that $A$ is true given the\n",
    "assumption that $B$ is true, $$P(A|B) = \\frac{P(AB)}{P(B)}$$"
   ]
  },
  {
   "cell_type": "markdown",
   "id": "53051e84",
   "metadata": {
    "slideshow": {
     "slide_type": "fragment"
    }
   },
   "source": [
    " We say that\n",
    "the events $A$ and $B$ are **independent** if $P(AB)=P(A)P(B)$, which\n",
    "implies that $P(A|B)=P(A)$ and $P(B|A)=P(B)$."
   ]
  },
  {
   "cell_type": "markdown",
   "id": "ea0f39cf",
   "metadata": {
    "slideshow": {
     "slide_type": "slide"
    }
   },
   "source": [
    "## Probability Distributions"
   ]
  },
  {
   "cell_type": "markdown",
   "id": "4439aed5",
   "metadata": {
    "slideshow": {
     "slide_type": "subslide"
    }
   },
   "source": [
    "**Random variable**: a quantity ${\\color{royalblue}{X}}$ whose value is\n",
    "not known, but is described using probabilities.\n",
    "\n",
    "The most general way to\n",
    "talk about a random variable is via its cumulative distribution function\n",
    "(cdf) (Conover calls this the “distribution function”)\n",
    "$$F(x) = P({\\color{royalblue}{X}}{\\mathbin{\\le}}x)$$"
   ]
  },
  {
   "cell_type": "markdown",
   "id": "f30ab367",
   "metadata": {
    "slideshow": {
     "slide_type": "subslide"
    }
   },
   "source": [
    "For example, the CDF for a Binom(3,0.5) distribution, which describes a random variable equal to the number of heads in three tosses of a fair coin, looks like this:"
   ]
  },
  {
   "cell_type": "code",
   "execution_count": null,
   "id": "6052cded",
   "metadata": {
    "slideshow": {
     "slide_type": "fragment"
    }
   },
   "outputs": [],
   "source": [
    "x_x = np.linspace(-0.5,3.5,1001); Fx_x = stats.binom(3,0.5).cdf(x_x); plt.plot(x_x,Fx_x);\n",
    "plt.xlim(-0.5,3.5); plt.xlabel(r'$x$'); plt.ylabel(r'$F(x)$'); plt.title('cdf for Binom(3,0,5)'); plt.grid();"
   ]
  },
  {
   "cell_type": "code",
   "execution_count": null,
   "id": "104705ec",
   "metadata": {
    "scrolled": true,
    "slideshow": {
     "slide_type": "subslide"
    }
   },
   "outputs": [],
   "source": [
    "plt.plot(x_x,Fx_x);\n",
    "plt.xlim(-0.5,3.5); plt.xlabel(r'$x$'); plt.ylabel(r'$F(x)$'); plt.title('cdf for Binom(3,0,5)'); plt.grid();"
   ]
  },
  {
   "cell_type": "markdown",
   "id": "afa60aa6",
   "metadata": {
    "slideshow": {
     "slide_type": "fragment"
    }
   },
   "source": [
    "The CDF is a non-decreasing function with values between 0 and 1; must be, since it's a probability."
   ]
  },
  {
   "cell_type": "markdown",
   "id": "ac4cb543",
   "metadata": {
    "slideshow": {
     "slide_type": "fragment"
    }
   },
   "source": [
    "In this case, it changes value only in discontinuous jumps, and is constant in between those.  This is because the binomial is a discrete random variable, which can only take on certain specific values."
   ]
  },
  {
   "cell_type": "markdown",
   "id": "40551681",
   "metadata": {
    "slideshow": {
     "slide_type": "subslide"
    }
   },
   "source": [
    "We can describe a discrete random variable using a probability mass function (pmf)\n",
    "$$p(x) = P({\\color{royalblue}{X}}{\\mathbin{=}}x)$$\n",
    "Conover calls this a “probability function” and, confusingly, uses the notation $f(x)$.\n",
    "\n",
    "For this Binom(3,0.5) random variable, it looks like this:"
   ]
  },
  {
   "cell_type": "code",
   "execution_count": null,
   "id": "39fe947b",
   "metadata": {
    "slideshow": {
     "slide_type": "fragment"
    }
   },
   "outputs": [],
   "source": [
    "x_x = np.arange(3+1); px_x = stats.binom(3,0.5).pmf(x_x); plt.bar(x_x,px_x,0.1);\n",
    "plt.xlim(-0.5,3.5); plt.xlabel(r'$x$'); plt.ylabel(r'$p(x)$'); plt.title('pmf for Binom(3,0,5)'); plt.grid();"
   ]
  },
  {
   "cell_type": "markdown",
   "id": "6d602cf9",
   "metadata": {
    "slideshow": {
     "slide_type": "subslide"
    }
   },
   "source": [
    "In the case of the binomial distribution $\\operatorname{Binom}(n,\\theta)$, we can write the pdf explicitly as\n",
    "$$\n",
    "p(x;\\theta) = \\binom{n}{x} \\theta^x (1-\\theta)^{n-x} = \\frac{n!}{(n-x)!x!} \\theta^x (1-\\theta)^{n-x} \\qquad x=0,1,\\ldots,n\n",
    "$$"
   ]
  },
  {
   "cell_type": "markdown",
   "id": "d56c9489",
   "metadata": {
    "slideshow": {
     "slide_type": "fragment"
    }
   },
   "source": [
    "At each of the possible values of the random variable, the cdf $F(x)$\n",
    "jumps by an amount equal to the pmf $p(x)$. If we want the probability\n",
    "for a discrete random variable to lie between two values $a$ and $b$, we\n",
    "can add up all of the probabilities for values in between the two\n",
    "$$P(a{\\mathbin{\\le}}{\\color{royalblue}{X}}{\\mathbin{\\le}}b) =\n",
    "  \\sum_{x=a}^b p(x) = F(b)-\\lim_{\\epsilon\\rightarrow 0}F(a-\\epsilon)$$"
   ]
  },
  {
   "cell_type": "markdown",
   "id": "bb8b0a4f",
   "metadata": {
    "slideshow": {
     "slide_type": "subslide"
    }
   },
   "source": [
    "On the other hand, the cdf of a standard normal random variable looks like this:"
   ]
  },
  {
   "cell_type": "code",
   "execution_count": null,
   "id": "5c884d60",
   "metadata": {
    "slideshow": {
     "slide_type": "fragment"
    }
   },
   "outputs": [],
   "source": [
    "x_x = np.linspace(-3.5,3.5,101)\n",
    "Fx_x = stats.norm().cdf(x_x)\n",
    "plt.plot(x_x,Fx_x);\n",
    "plt.xlim(-3.5,3.5); plt.xlabel(r'$x$'); plt.ylabel(r'$F(x)$'); plt.title('cdf for N(0,1)'); plt.grid(True);"
   ]
  },
  {
   "cell_type": "markdown",
   "id": "f476db42",
   "metadata": {
    "slideshow": {
     "slide_type": "fragment"
    }
   },
   "source": [
    "We see that it is a continous function."
   ]
  },
  {
   "cell_type": "markdown",
   "id": "7398ee8e",
   "metadata": {
    "slideshow": {
     "slide_type": "subslide"
    }
   },
   "source": [
    "Its derivative $f(x)=F'(x)$ is called the probability density function\n",
    "(pdf), like this"
   ]
  },
  {
   "cell_type": "code",
   "execution_count": null,
   "id": "58871278",
   "metadata": {
    "slideshow": {
     "slide_type": "fragment"
    }
   },
   "outputs": [],
   "source": [
    "x_x = np.linspace(-3.5,3.5,1001)\n",
    "fx_x = stats.norm().pdf(x_x)\n",
    "plt.plot(x_x,fx_x);\n",
    "plt.xlim(-3.5,3.5); plt.xlabel(r'$x$'); plt.ylabel(r'$f(x)$'); plt.title('pdf for N(0,1)'); plt.grid(True);"
   ]
  },
  {
   "cell_type": "markdown",
   "id": "842e861c",
   "metadata": {
    "slideshow": {
     "slide_type": "subslide"
    }
   },
   "source": [
    "The pdf can be used to define the probability that ${\\color{royalblue}{X}}$\n",
    "lies in a certain interval:\n",
    "$$P(a{\\mathbin{<}}{\\color{royalblue}{X}}{\\mathbin{<}}b) =\n",
    "  P(a {\\mathbin{<}}{\\color{royalblue}{X}} {\\mathbin{\\le}}b) = F(b) - F(a) = \\int_a^b f(x)\\,dx$$"
   ]
  },
  {
   "cell_type": "code",
   "execution_count": null,
   "id": "7a1965fa",
   "metadata": {
    "slideshow": {
     "slide_type": "fragment"
    }
   },
   "outputs": [],
   "source": [
    "a = -0.3; b = 1.5; x_x = np.linspace(-3.5,3.5,1001); fx_x = stats.norm().pdf(x_x); mymask_x = (x_x>a) & (x_x<b)\n",
    "plt.plot(x_x,fx_x); plt.fill_between(x_x[mymask_x],0,fx_x[mymask_x]);  plt.xticks([a,b],[r'$a$',r'$b$']);\n",
    "plt.xlabel(r'$x$'); plt.ylabel(r'f(x)'); plt.xlim(-3,3); plt.ylim(0,1.1*max(fx_x)); plt.yticks([0]);\n",
    "plt.text(0.5*(a+b),0.2*max(fx_x),r'$F(b)-F(a)$',ha='center',bbox=dict(facecolor='white',edgecolor='white'));"
   ]
  },
  {
   "cell_type": "markdown",
   "id": "cd7f3008",
   "metadata": {
    "slideshow": {
     "slide_type": "subslide"
    }
   },
   "source": [
    "In this normal, aka Gaussian, distribution\n",
    "$$f(x) = \\frac{1}{\\sigma\\sqrt{2\\pi}}\\, e^{-\\frac{(x-\\mu)^2}{2\\sigma^2}}$$\n",
    "This distribution has parameters $\\mu$ and $\\sigma$. It’s an example of\n",
    "a distribution family with a location parameter $a=\\mu$ and a scale\n",
    "parameter $b=\\sigma$. In general, we can write such pdf as\n",
    "$$f(x) = \\frac{1}{b}\\, h\\left(\\frac{x-a}{b}\\right)$$ where $h(y)$ is\n",
    "some function that doesn’t involve $a$ or $b$. Some examples of these\n",
    "families are plotted below:"
   ]
  },
  {
   "cell_type": "code",
   "execution_count": null,
   "id": "da80ce1b",
   "metadata": {
    "slideshow": {
     "slide_type": "fragment"
    }
   },
   "outputs": [],
   "source": [
    "y_x = np.linspace(-4.5,4.5,101)\n",
    "hnorm_x = stats.norm.pdf(y_x) # np.exp(-0.5*y_x **2)/np.sqrt(2.*np.pi)\n",
    "hcauchy_x = stats.cauchy.pdf(y_x) # 1./(np.pi*(1.+y_x**2))\n",
    "hlaplace_x = stats.laplace.pdf(y_x) # 0.5*np.exp(-abs(y_x))"
   ]
  },
  {
   "cell_type": "code",
   "execution_count": null,
   "id": "035f2183",
   "metadata": {
    "slideshow": {
     "slide_type": "subslide"
    }
   },
   "outputs": [],
   "source": [
    "plt.plot(y_x,hnorm_x,label=r'Gaussian $h(y)=\\frac{e^{-y^2/2}}{\\sqrt{2\\pi}}$');\n",
    "plt.plot(y_x,hcauchy_x,'--',label=r'Cauchy $h(y)=\\frac{1}{\\pi(1+y^2)}$');\n",
    "plt.plot(y_x,hlaplace_x,'-.',label=r'Laplace $h(y)=\\frac{e^{-|y|}}{2}$');\n",
    "plt.xlim([-4.5,4.5]); plt.ylim([0.0,0.75]); plt.xlabel(r'$x$'); plt.ylabel(r'$f(x)=h(\\frac{x-a}{b})$')\n",
    "tickvals = [-4,-3,-2,-1,0,1,2,3,4]\n",
    "ticklabs = [r'$a-4b$',r'$a-3b$',r'$a-2b$',r'$a-b$',r'$a$',r'$a+b$',r'$a+2b$',r'$a+3b$',r'$a+4b$']\n",
    "plt.xticks(tickvals,ticklabs);\n",
    "tickvals = [0.0,0.2,0.4,0.6]\n",
    "ticklabs = [r'$0$',r'$\\frac{0.2}{b}$',r'$\\frac{0.4}{b}$',r'$\\frac{0.6}{b}$']\n",
    "plt.yticks(tickvals,ticklabs); plt.legend(); plt.grid();"
   ]
  },
  {
   "cell_type": "markdown",
   "id": "95828211",
   "metadata": {
    "slideshow": {
     "slide_type": "subslide"
    }
   },
   "source": [
    "Of course, distributions may have additional parameters which influence\n",
    "them in more complicated ways, generally known as **shape parameters**,\n",
    "for example the number of degrees of freedom $\\nu$ in a Student-$t$\n",
    "distribution, which has a pdf of the form\n",
    "$$h(y) \\propto \\frac{1}{\\left(1+\\frac{y^2}{\\nu}\\right)^{\\frac{\\nu+1}{2}}}$$\n",
    "(We’ve omitted the form of the normalization constant, which is not\n",
    "particularly enlightening.)"
   ]
  },
  {
   "cell_type": "markdown",
   "id": "b1cb53a4",
   "metadata": {
    "slideshow": {
     "slide_type": "subslide"
    }
   },
   "source": [
    "When $\\nu=1$ this is the Cauchy distribution; as $\\nu\\rightarrow\\infty$, it goes to the normal distribution."
   ]
  },
  {
   "cell_type": "code",
   "execution_count": null,
   "id": "e6ae6ab6",
   "metadata": {
    "slideshow": {
     "slide_type": "fragment"
    }
   },
   "outputs": [],
   "source": [
    "y_x = np.linspace(-4.5,4.5,101); ht1_x = stats.t(df=1).pdf(y_x)\n",
    "ht3_x = stats.t(df=3).pdf(y_x); ht20_x = stats.t(df=20).pdf(y_x)\n",
    "plt.plot(y_x,ht1_x,label=r'$\\nu=1$ (Cauchy)')\n",
    "plt.plot(y_x,ht3_x,'--',label=r'$\\nu=3$')\n",
    "plt.plot(y_x,ht20_x,'-.',label=r'$\\nu=20$')\n",
    "plt.xlabel(r'$y$'); plt.ylabel(r'$h(y)$'); plt.title('Student-$t$ pdf');\n",
    "plt.xlim([-4.5,4.5]); plt.legend(); plt.grid(True);"
   ]
  },
  {
   "cell_type": "markdown",
   "id": "75b19d16",
   "metadata": {
    "slideshow": {
     "slide_type": "subslide"
    }
   },
   "source": [
    "Note: the pdfs we've plotted so far were symmetric.  One family of non-symmetric distributions, w/shape parameter, $\\alpha>0$ & scale parameter $\\beta>0$, is the Gamma distribution, with pdf\n",
    "$$\n",
    "f(x;\\alpha,\\beta) \\propto x^{\\alpha-1} e^{-x/\\beta} \\qquad x>0\n",
    "$$"
   ]
  },
  {
   "cell_type": "code",
   "execution_count": null,
   "id": "0f9a2c11",
   "metadata": {
    "slideshow": {
     "slide_type": "fragment"
    }
   },
   "outputs": [],
   "source": [
    "x_x = np.linspace(0,6.5,801)[1:]; f0p5_x = stats.gamma(0.5).pdf(x_x); f1_x = stats.gamma(1).pdf(x_x)\n",
    "f2_x = stats.gamma(2).pdf(x_x); f3_x = stats.gamma(3,scale=0.5).pdf(x_x)\n",
    "plt.plot(x_x,f0p5_x,label=r'Gamma$(0.5,1)$'); plt.plot(x_x,f1_x,'--',label=r'Gamma$(1,1)$ (exponential)')\n",
    "plt.plot(x_x,f2_x,'-.',label=r'Gamma$(2,1)$'); plt.plot(x_x,f3_x,':',label=r'Gamma$(3,0.5)$')\n",
    "plt.xlim([0,6.5]);plt.ylim([0,1.5]);plt.xlabel(r'$x$');plt.ylabel(r'$f(x)$')\n",
    "plt.title('Gamma pdf');plt.legend();plt.grid(True);"
   ]
  },
  {
   "cell_type": "markdown",
   "id": "992f7eef",
   "metadata": {
    "slideshow": {
     "slide_type": "subslide"
    }
   },
   "source": [
    "This form we've used for the pdf implicitly fixes the location parameter, but we could in principle define a location parameter $x_0$ and write\n",
    "$$\n",
    "f(x;\\alpha,\\beta,x_0) \\propto (x-x_0)^{\\alpha-1} e^{-(x-x_0)/\\beta} \\qquad x>x_0\n",
    "$$"
   ]
  },
  {
   "cell_type": "markdown",
   "id": "08b185c9",
   "metadata": {
    "slideshow": {
     "slide_type": "fragment"
    }
   },
   "source": [
    "The Gamma distribution has a lot of uses, and for different values of its parameters it includes other distributions such as exponential and chi-squared, but for the moment, it just serves as an illustration of a non-symmetric probability distribution. "
   ]
  },
  {
   "cell_type": "markdown",
   "id": "35440a63",
   "metadata": {
    "slideshow": {
     "slide_type": "slide"
    }
   },
   "source": [
    "## Using `scipy.stats` to “Look Up” Properties of Standard Distributions"
   ]
  },
  {
   "cell_type": "markdown",
   "id": "b41eca6d",
   "metadata": {
    "slideshow": {
     "slide_type": "subslide"
    }
   },
   "source": [
    "- Stats books have tables of percentiles & probabilities for distributions; this is anachronistic in light of statistical software like SciPy, R, etc.  (Like tables of sines & cosines in old trig books.)"
   ]
  },
  {
   "cell_type": "markdown",
   "id": "285c9c85",
   "metadata": {
    "slideshow": {
     "slide_type": "fragment"
    }
   },
   "source": [
    "- We've already used `cdf()`, `pmf()`, and `pdf()` to make the plots above.  \n",
    "- Jargon: these are \"methods\" which operate on an object like `stats.binom` (binomial distribution), `stats.norm` (normal distribution), `stats.t` (Student-$t$ distribution)."
   ]
  },
  {
   "cell_type": "markdown",
   "id": "7eca8466",
   "metadata": {
    "slideshow": {
     "slide_type": "fragment"
    }
   },
   "source": [
    "- Full documentation, including a full list of available distributions, at [<https://docs.scipy.org/doc/scipy/reference/stats.html>](https://docs.scipy.org/doc/scipy/reference/stats.html)\n",
    "- Can also get docs within the notebook like this:"
   ]
  },
  {
   "cell_type": "code",
   "execution_count": null,
   "id": "17e11525",
   "metadata": {
    "slideshow": {
     "slide_type": "fragment"
    }
   },
   "outputs": [],
   "source": [
    "?stats"
   ]
  },
  {
   "cell_type": "markdown",
   "id": "1844e9f7",
   "metadata": {
    "slideshow": {
     "slide_type": "subslide"
    }
   },
   "source": [
    "The full documentation is a bit technical; sometimes more useful to try something specific like"
   ]
  },
  {
   "cell_type": "code",
   "execution_count": null,
   "id": "9d7de16c",
   "metadata": {
    "slideshow": {
     "slide_type": "fragment"
    }
   },
   "outputs": [],
   "source": [
    "?stats.norm"
   ]
  },
  {
   "cell_type": "code",
   "execution_count": null,
   "id": "30858d9a",
   "metadata": {
    "slideshow": {
     "slide_type": "fragment"
    }
   },
   "outputs": [],
   "source": [
    "?stats.norm.cdf"
   ]
  },
  {
   "cell_type": "markdown",
   "id": "2a5dddf4",
   "metadata": {
    "slideshow": {
     "slide_type": "subslide"
    }
   },
   "source": [
    "To give some examples of use, here is the standard normal cdf $\\Phi(1)$:"
   ]
  },
  {
   "cell_type": "code",
   "execution_count": null,
   "id": "cb870bdd",
   "metadata": {
    "slideshow": {
     "slide_type": "fragment"
    }
   },
   "outputs": [],
   "source": [
    "stats.norm.cdf(1.)"
   ]
  },
  {
   "cell_type": "markdown",
   "id": "ca87322b",
   "metadata": {
    "slideshow": {
     "slide_type": "fragment"
    }
   },
   "source": [
    "Sometimes it's also useful to access the *survival function* $S(x)=1-F(x)=P({\\color{royalblue}{X}}\\mathbin{>}x)$:"
   ]
  },
  {
   "cell_type": "code",
   "execution_count": null,
   "id": "442662b0",
   "metadata": {
    "slideshow": {
     "slide_type": "fragment"
    }
   },
   "outputs": [],
   "source": [
    "stats.norm.sf(1.)"
   ]
  },
  {
   "cell_type": "markdown",
   "id": "020fb1e3",
   "metadata": {
    "slideshow": {
     "slide_type": "subslide"
    }
   },
   "source": [
    "The survival function is is particularly useful in cases where the cdf is close to $1$:"
   ]
  },
  {
   "cell_type": "code",
   "execution_count": null,
   "id": "aa8cbb0e",
   "metadata": {
    "slideshow": {
     "slide_type": "fragment"
    }
   },
   "outputs": [],
   "source": [
    "stats.norm.sf(9.)"
   ]
  },
  {
   "cell_type": "markdown",
   "id": "ab0235ee",
   "metadata": {
    "slideshow": {
     "slide_type": "fragment"
    }
   },
   "source": [
    "If we tried to evaluate $S(x)=P({\\color{royalblue}{X}}\\mathbin{>}x)$ as $1-F(x)=1-P({\\color{royalblue}{X}}\\mathbin{\\le}x)$, we'd get \"underflow\""
   ]
  },
  {
   "cell_type": "code",
   "execution_count": null,
   "id": "4d469867",
   "metadata": {
    "slideshow": {
     "slide_type": "fragment"
    }
   },
   "outputs": [],
   "source": [
    "stats.norm.cdf(9.)"
   ]
  },
  {
   "cell_type": "code",
   "execution_count": null,
   "id": "f29652ba",
   "metadata": {
    "slideshow": {
     "slide_type": "fragment"
    }
   },
   "outputs": [],
   "source": [
    "1-stats.norm.cdf(9.)"
   ]
  },
  {
   "cell_type": "markdown",
   "id": "a6e28c7d",
   "metadata": {
    "slideshow": {
     "slide_type": "fragment"
    }
   },
   "source": [
    "Floating point can represent numbers very close to zero, but numbers very close to one get rounded off."
   ]
  },
  {
   "cell_type": "markdown",
   "id": "aca2462a",
   "metadata": {
    "slideshow": {
     "slide_type": "subslide"
    }
   },
   "source": [
    "You can also specify location and scale parameters for any distribution, as well as shape parameters where appropriate.  For instance if ${\\color{royalblue}X}$ is a normal random variable with $\\mu=0.3$ and $\\sigma=0.5$, the probability that ${\\color{royalblue}X}\\le 1.3$ is\n",
    "$$\n",
    "\\Phi\\left(\\frac{1.3-0.3}{0.5}\\right)=\\Phi\\left(\\frac{1.0}{0.5}\\right)=\\Phi\\left(2\\right)\n",
    "$$"
   ]
  },
  {
   "cell_type": "code",
   "execution_count": null,
   "id": "559336b4",
   "metadata": {
    "slideshow": {
     "slide_type": "fragment"
    }
   },
   "outputs": [],
   "source": [
    "stats.norm.cdf(1.3,scale=0.5,loc=0.3)"
   ]
  },
  {
   "cell_type": "code",
   "execution_count": null,
   "id": "f88c1be5",
   "metadata": {
    "slideshow": {
     "slide_type": "fragment"
    }
   },
   "outputs": [],
   "source": [
    "stats.norm.cdf(1.,scale=0.5)"
   ]
  },
  {
   "cell_type": "code",
   "execution_count": null,
   "id": "100c3c30",
   "metadata": {
    "slideshow": {
     "slide_type": "fragment"
    }
   },
   "outputs": [],
   "source": [
    "stats.norm.cdf(2.)"
   ]
  },
  {
   "cell_type": "markdown",
   "id": "f491d697",
   "metadata": {
    "slideshow": {
     "slide_type": "subslide"
    }
   },
   "source": [
    "I can either specify the parameters of the distribution when I’m invoking it, or in the argument\n",
    "of the request for the cdf, so I can also use"
   ]
  },
  {
   "cell_type": "code",
   "execution_count": null,
   "id": "4dc5b4e3",
   "metadata": {
    "slideshow": {
     "slide_type": "fragment"
    }
   },
   "outputs": [],
   "source": [
    "stats.norm(scale=0.5,loc=0.3).cdf(1.3)"
   ]
  },
  {
   "cell_type": "markdown",
   "id": "18853f86",
   "metadata": {
    "slideshow": {
     "slide_type": "fragment"
    }
   },
   "source": [
    "If I'm going to be using the same distribution repeatedly, it's useful to assign the object representing that distribution to a variable and then access any methods needed:"
   ]
  },
  {
   "cell_type": "code",
   "execution_count": null,
   "id": "e947a99d",
   "metadata": {
    "slideshow": {
     "slide_type": "fragment"
    }
   },
   "outputs": [],
   "source": [
    "mydist = stats.norm(scale=0.5,loc=0.3)\n",
    "mydist.cdf(1.3)"
   ]
  },
  {
   "cell_type": "code",
   "execution_count": null,
   "id": "e1912594",
   "metadata": {
    "slideshow": {
     "slide_type": "fragment"
    }
   },
   "outputs": [],
   "source": [
    "mydist"
   ]
  },
  {
   "cell_type": "code",
   "execution_count": null,
   "id": "ae7a2661",
   "metadata": {
    "slideshow": {
     "slide_type": "fragment"
    }
   },
   "outputs": [],
   "source": [
    "mydist.cdf(0.8)"
   ]
  },
  {
   "cell_type": "markdown",
   "id": "22165c7d",
   "metadata": {
    "slideshow": {
     "slide_type": "slide"
    }
   },
   "source": [
    "## Quantiles"
   ]
  },
  {
   "cell_type": "markdown",
   "id": "604205cd",
   "metadata": {
    "slideshow": {
     "slide_type": "subslide"
    }
   },
   "source": [
    "An important quantity associated with a probability distribution is the\n",
    "**quantile** associated with a value $p$ such that $0\\le p\\le 1$. The\n",
    "$p$th quantile of a distribution is the value $x_p$ such that the\n",
    "corresponding random variable has a probability $p$ of lying below\n",
    "$x_p$. Stated more precisely (which is important for discrete\n",
    "distributions),\n",
    "$$P({\\color{royalblue}{X}}{\\mathbin{<}}x_p) \\le p \\qquad\\hbox{and}\\qquad P({\\color{royalblue}{X}}{\\mathbin{>}}x_p)\\le 1-p$$\n",
    "The $0.5$ quantile is also known as the median or the 50th percentile.\n",
    "The $0.05$ quantile is the 5th percentile, the $0.75$ quantile is the\n",
    "75th percentile or the third quartile, etc."
   ]
  },
  {
   "cell_type": "code",
   "execution_count": null,
   "id": "009e3b94",
   "metadata": {
    "slideshow": {
     "slide_type": "fragment"
    }
   },
   "outputs": [],
   "source": [
    "mydist = stats.norm()\n",
    "p = 0.9\n",
    "xp = mydist.ppf(p)\n",
    "p,xp"
   ]
  },
  {
   "cell_type": "markdown",
   "id": "62fe6075",
   "metadata": {
    "slideshow": {
     "slide_type": "subslide"
    }
   },
   "source": [
    "Note that `scipy.stats` defines:\n",
    "- Percentile `ppf()` which is the inverse function to `cdf()`"
   ]
  },
  {
   "cell_type": "code",
   "execution_count": null,
   "id": "821c17bc",
   "metadata": {
    "slideshow": {
     "slide_type": "fragment"
    }
   },
   "outputs": [],
   "source": [
    "mydist.ppf(0.9)"
   ]
  },
  {
   "cell_type": "code",
   "execution_count": null,
   "id": "4e9d236d",
   "metadata": {
    "slideshow": {
     "slide_type": "fragment"
    }
   },
   "outputs": [],
   "source": [
    "mydist.cdf(mydist.ppf(0.9))"
   ]
  },
  {
   "cell_type": "markdown",
   "id": "75a7a6ef",
   "metadata": {
    "slideshow": {
     "slide_type": "fragment"
    }
   },
   "source": [
    "- Inverse survival function `isf()` which is the inverse function to `sf()`"
   ]
  },
  {
   "cell_type": "code",
   "execution_count": null,
   "id": "6ad65111",
   "metadata": {
    "slideshow": {
     "slide_type": "fragment"
    }
   },
   "outputs": [],
   "source": [
    "mydist.isf(0.1)"
   ]
  },
  {
   "cell_type": "code",
   "execution_count": null,
   "id": "6d988b53",
   "metadata": {
    "slideshow": {
     "slide_type": "fragment"
    }
   },
   "outputs": [],
   "source": [
    "mydist.sf(mydist.isf(0.1))"
   ]
  },
  {
   "cell_type": "markdown",
   "id": "c444a1ad",
   "metadata": {
    "slideshow": {
     "slide_type": "subslide"
    }
   },
   "source": [
    "Note: for a continuous random variable with pdf $f(x)$, the $p$\n",
    "quantile can be defined indirectly as\n",
    "$$\\int_{-\\infty}^{x_p} f(x)\\,dx = F(x_p) = p$$"
   ]
  },
  {
   "cell_type": "code",
   "execution_count": null,
   "id": "c661a8e3",
   "metadata": {
    "slideshow": {
     "slide_type": "fragment"
    }
   },
   "outputs": [],
   "source": [
    "x_x = np.linspace(-3.5,3.5,1001); fx_x = mydist.pdf(x_x); plt.plot(x_x,fx_x);\n",
    "mymask_x = (x_x<=xp);plt.fill_between(x_x[mymask_x],0,fx_x[mymask_x]);\n",
    "plt.xticks([xp],[r'$x_p$']);plt.xlabel(r'$x$');plt.ylabel(r'f(x)');plt.ylim(0,1.1*max(fx_x));plt.xlim(-3.5,3.5);\n",
    "plt.yticks([]);plt.grid(True);plt.text(0,0.5*max(fx_x),r'$p$',bbox=dict(facecolor='white',edgecolor='white'));"
   ]
  },
  {
   "cell_type": "markdown",
   "id": "475853f8",
   "metadata": {
    "slideshow": {
     "slide_type": "slide"
    }
   },
   "source": [
    "### Median vs Mean"
   ]
  },
  {
   "cell_type": "markdown",
   "id": "a2401ee4",
   "metadata": {
    "slideshow": {
     "slide_type": "subslide"
    }
   },
   "source": [
    "The median, or 50th percentile, is a measure of the location of a distribution. Another\n",
    "measure is the mean, or expectation value, which is the average of the\n",
    "distribution, whose form depends on whether the distribution is discrete\n",
    "or continuous:\n",
    "$$\\mu={E\\left[{\\color{royalblue}{X}}\\right]} = \\int_{-\\infty}^{\\infty} x\\,f(x)\\,dx\n",
    "  \\qquad \\hbox{or} \\qquad \\sum_x x\\,p(x)$$"
   ]
  },
  {
   "cell_type": "markdown",
   "id": "2a4b4fb4",
   "metadata": {
    "slideshow": {
     "slide_type": "fragment"
    }
   },
   "source": [
    "Note that we can, for, convenience, access the mean and median of any distribution we can define in `scipy.stats`:"
   ]
  },
  {
   "cell_type": "code",
   "execution_count": null,
   "id": "22ec2bf2",
   "metadata": {
    "slideshow": {
     "slide_type": "fragment"
    }
   },
   "outputs": [],
   "source": [
    "print(r'N(1.5,2^2) has mean %g and median %g'\n",
    "      % (stats.norm(loc=1.5,scale=2).mean(),stats.norm(loc=1.5,scale=2).median()))\n",
    "print(r'Gamma(1.5,2) has mean %g and median %g'\n",
    "      % (stats.gamma(1.5,scale=2).mean(),stats.gamma(1.5,scale=2).median()))"
   ]
  },
  {
   "cell_type": "markdown",
   "id": "bd1ef6e1",
   "metadata": {
    "slideshow": {
     "slide_type": "subslide"
    }
   },
   "source": [
    "The median is sometimes a more useful & generic than the mean. E.g., for\n",
    "the Cauchy distribution, the mean is undefined b/c the integral is\n",
    "the sum of two infinite contributions, one positive and one negative:\n",
    "$$\\begin{split}\n",
    "    \\int_{-\\infty}^{\\infty} \\frac{x\\,dx}{\\pi(1+x^2)}\n",
    "    &=\n",
    "    \\int_{-\\infty}^{0} \\frac{x\\,dx}{\\pi(1+x^2)}\n",
    "    +\\int_{0}^{\\infty} \\frac{x\\,dx}{\\pi(1+x^2)}\n",
    "    \\\\\n",
    "    &= - \\lim_{A\\rightarrow\\infty} \\frac{\\ln(1+A^2)}{2\\pi}\n",
    "    +\\lim_{B\\rightarrow\\infty} \\frac{\\ln(1+B^2)}{2\\pi}\n",
    "  \\end{split}$$"
   ]
  },
  {
   "cell_type": "code",
   "execution_count": null,
   "id": "fded6e25",
   "metadata": {
    "slideshow": {
     "slide_type": "fragment"
    }
   },
   "outputs": [],
   "source": [
    "stats.cauchy.mean()"
   ]
  },
  {
   "cell_type": "markdown",
   "id": "21d4cdb2",
   "metadata": {
    "slideshow": {
     "slide_type": "fragment"
    }
   },
   "source": [
    "On the other hand, the median is zero (or more generally\n",
    "the location parameter $a$), since\n",
    "$$\\int_{-\\infty}^{0} \\frac{dx}{\\pi(1+x^2)}\n",
    "  =\\int_{0}^{\\infty} \\frac{dx}{\\pi(1+x^2)}\n",
    "  =\\frac{1}{2}$$"
   ]
  },
  {
   "cell_type": "code",
   "execution_count": null,
   "id": "27a4c1e1",
   "metadata": {
    "slideshow": {
     "slide_type": "fragment"
    }
   },
   "outputs": [],
   "source": [
    "stats.cauchy.median()"
   ]
  },
  {
   "cell_type": "markdown",
   "id": "84f68d2e",
   "metadata": {
    "slideshow": {
     "slide_type": "subslide"
    }
   },
   "source": [
    "Likewise, the standard deviation $\\sqrt{\\operatorname{Var}(\\color{royalblue}{X})}=\\sqrt{E([\\color{royalblue}{X}-\\mu]^2)}$ is undefined for a Cauchy random variable; not only is the mean $\\mu=E[(\\color{royalblue}{X})]$ undefined, but the second moment $E([\\color{royalblue}{X}^2)$ diverges because of the integral \n",
    "$$\\int_{-\\infty}^{\\infty} \\frac{x^2\\,dx}{\\pi(1+x^2)}\n",
    "\\rightarrow\\infty$$"
   ]
  },
  {
   "cell_type": "code",
   "execution_count": null,
   "id": "e841ece1",
   "metadata": {
    "slideshow": {
     "slide_type": "fragment"
    }
   },
   "outputs": [],
   "source": [
    "stats.cauchy.std()"
   ]
  },
  {
   "cell_type": "markdown",
   "id": "f9e93c42",
   "metadata": {
    "slideshow": {
     "slide_type": "fragment"
    }
   },
   "source": [
    "On the other hand, the interquartile range is well defined because (using the substitution $x=\\tan\\theta$)\n",
    "$$\\int_{-1}^{1} \\frac{dx}{\\pi(1+x^2)} = \\int_{-\\pi/4}^{\\pi/4}\\frac{\\sec^2\\!\\theta}{\\pi\\sec^2\\!\\theta}d\\theta = \\frac{1}{2}  $$"
   ]
  },
  {
   "cell_type": "code",
   "execution_count": null,
   "id": "3a4c0c87",
   "metadata": {
    "slideshow": {
     "slide_type": "fragment"
    }
   },
   "outputs": [],
   "source": [
    "stats.cauchy.ppf(0.75)-stats.cauchy.ppf(0.25)"
   ]
  }
 ],
 "metadata": {
  "celltoolbar": "Slideshow",
  "kernelspec": {
   "display_name": "Python 3 (ipykernel)",
   "language": "python",
   "name": "python3"
  },
  "language_info": {
   "codemirror_mode": {
    "name": "ipython",
    "version": 3
   },
   "file_extension": ".py",
   "mimetype": "text/x-python",
   "name": "python",
   "nbconvert_exporter": "python",
   "pygments_lexer": "ipython3",
   "version": "3.11.0"
  }
 },
 "nbformat": 4,
 "nbformat_minor": 5
}
