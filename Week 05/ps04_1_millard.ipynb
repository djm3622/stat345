{
 "cells": [
  {
   "cell_type": "markdown",
   "metadata": {},
   "source": [
    "# Problem Set 4, Part One: Due Thursday, February 13 by 8am Eastern Standard Time"
   ]
  },
  {
   "cell_type": "markdown",
   "metadata": {},
   "source": [
    "## Name: David Millard"
   ]
  },
  {
   "cell_type": "markdown",
   "metadata": {},
   "source": [
    "**Show your work on all problems!** Be sure to give credit to any\n",
    "collaborators, or outside sources used in solving the problems. Note\n",
    "that if using an outside source to do a calculation, you should use it\n",
    "as a reference for the method, and actually carry out the calculation\n",
    "yourself; it’s not sufficient to quote the results of a calculation\n",
    "contained in an outside source."
   ]
  },
  {
   "cell_type": "markdown",
   "metadata": {},
   "source": [
    "Fill in your solutions in the notebook below, inserting markdown and/or code cells as needed.  Try to do reasonably well with the typesetting, but don't feel compelled to replicate my formatting exactly.  **You do NOT need to make random variables blue!**"
   ]
  },
  {
   "cell_type": "code",
   "execution_count": 1,
   "metadata": {},
   "outputs": [],
   "source": [
    "%matplotlib inline"
   ]
  },
  {
   "cell_type": "code",
   "execution_count": 2,
   "metadata": {},
   "outputs": [],
   "source": [
    "import numpy as np\n",
    "from scipy import stats\n",
    "import matplotlib.pyplot as plt\n",
    "plt.rcParams['figure.figsize'] = (8.0,5.0)\n",
    "plt.rcParams['font.size'] = 14"
   ]
  },
  {
   "cell_type": "markdown",
   "metadata": {},
   "source": [
    "### Conover Problems on Signed Rank Tests"
   ]
  },
  {
   "cell_type": "markdown",
   "metadata": {},
   "source": [
    "#### Exercise 5.7.4:"
   ]
  },
  {
   "cell_type": "markdown",
   "metadata": {},
   "source": [
    "Each member of a girls’ basketball team was given a brief warm-up period\n",
    "and then told to shoot 25 free throws. The number ${\\color{royalblue}{X}}$ of\n",
    "goals \\[sic\\] was recorded. Then the team was given an extensive workout\n",
    "and, after a brief rest period, was told to shoot another 25 free throws\n",
    "each. The number ${\\color{royalblue}{Y}}$ of successful attempts was again\n",
    "recorded. Do the data indicate that the percentages tend to drop when\n",
    "the players are tired?"
   ]
  },
  {
   "cell_type": "markdown",
   "metadata": {},
   "source": [
    "<table>\n",
    "  <tr>\n",
    "      <td></td>\n",
    "    <th colspan=\"12\" style=\"text-align: center;\">Player</th>\n",
    "  </tr>\n",
    "  <tr>\n",
    "      <td></td><th style=\"text-align: center;\">1</th><th style=\"text-align: center;\">2</th><th style=\"text-align: center;\">3</th><th style=\"text-align: center;\">4</th><th style=\"text-align: center;\">5</th><th style=\"text-align: center;\">6</th><th style=\"text-align: center;\">7</th><th style=\"text-align: center;\">8</th><th style=\"text-align: center;\">9</th><th style=\"text-align: center;\">10</th><th style=\"text-align: center;\">11</th><th style=\"text-align: center;\">12</th>\n",
    "  </tr>\n",
    "  <tr>\n",
    "      <th>$X_i$ (<i>before</i>)</th><td style=\"text-align: center;\">$18$</td><td style=\"text-align: center;\">$12$</td><td style=\"text-align: center;\">$7$</td><td style=\"text-align: center;\">$21$</td><td style=\"text-align: center;\">$19$</td><td style=\"text-align: center;\">$14$</td><td style=\"text-align: center;\">$8$</td><td style=\"text-align: center;\">$11$</td><td style=\"text-align: center;\">$19$</td><td style=\"text-align: center;\">$16$</td><td style=\"text-align: center;\">$8$</td><td style=\"text-align: center;\">$11$</td>\n",
    "  </tr>\n",
    "  <tr>\n",
    "      <th>$Y_i$ (<i>after</i>)</th><td style=\"text-align: center;\">$16$</td><td style=\"text-align: center;\">$12$</td><td style=\"text-align: center;\">$8$</td><td style=\"text-align: center;\">$23$</td><td style=\"text-align: center;\">$13$</td><td style=\"text-align: center;\">$10$</td><td style=\"text-align: center;\">$8$</td><td style=\"text-align: center;\">$13$</td><td style=\"text-align: center;\">$9$</td><td style=\"text-align: center;\">$8$</td><td style=\"text-align: center;\">$8$</td><td style=\"text-align: center;\">$5$</td>\n",
    "  </tr>\n",
    "</table>"
   ]
  },
  {
   "cell_type": "markdown",
   "metadata": {},
   "source": [
    "$H_0:$ percentages the same when both tired and fresh\n",
    "\n",
    "$H_1:$ percentages drop when tired\n",
    "\n",
    "$W = 7.0$\n",
    "\n",
    "$p$-value $ = 0.037109375$\n",
    "\n",
    "$\\alpha = 0.05$\n",
    "\n",
    "Since $p$-value < $\\alpha$, we reject the null $H_0$."
   ]
  },
  {
   "cell_type": "code",
   "execution_count": 3,
   "metadata": {},
   "outputs": [],
   "source": [
    "from wilcoxondists import signrankpmf, signrankcdf, signrankppf"
   ]
  },
  {
   "cell_type": "code",
   "execution_count": 4,
   "metadata": {},
   "outputs": [
    {
     "name": "stdout",
     "output_type": "stream",
     "text": [
      "[ -2   1   2  -6  -4   2 -10  -8  -6] [3.  1.  3.  6.5 5.  3.  9.  8.  6.5]\n",
      "[False  True  True False False  True False False False] [1. 3. 3.]\n",
      "7.0\n"
     ]
    }
   ],
   "source": [
    "# ignore the 0 values (i spent too long to realize this)\n",
    "x = np.array([18, 7, 21, 19, 14, 11, 19, 16, 11])\n",
    "y = np.array([16, 8, 23, 13, 10, 13, 9, 8, 5])\n",
    "\n",
    "d = y - x\n",
    "n = len(x)\n",
    "\n",
    "r = stats.rankdata(np.abs(d))\n",
    "\n",
    "print(d, r)\n",
    "\n",
    "posranks = r[d > 0];\n",
    "\n",
    "print(d > 0, posranks)\n",
    "\n",
    "tp = posranks.sum(); \n",
    "\n",
    "print(tp)"
   ]
  },
  {
   "cell_type": "code",
   "execution_count": 5,
   "metadata": {},
   "outputs": [
    {
     "name": "stdout",
     "output_type": "stream",
     "text": [
      "0.037109375\n"
     ]
    }
   ],
   "source": [
    "p = signrankcdf(tp,n) # one sided (only care when drop)\n",
    "\n",
    "print(p) "
   ]
  },
  {
   "cell_type": "code",
   "execution_count": 6,
   "metadata": {},
   "outputs": [
    {
     "data": {
      "text/plain": [
       "WilcoxonResult(statistic=7.0, pvalue=0.037109375)"
      ]
     },
     "execution_count": 6,
     "metadata": {},
     "output_type": "execute_result"
    }
   ],
   "source": [
    "stats.wilcoxon(y,x, alternative='less') # double checking, calculate y < x"
   ]
  },
  {
   "cell_type": "markdown",
   "metadata": {},
   "source": [
    "#### Problem 5.7.4:"
   ]
  },
  {
   "cell_type": "markdown",
   "metadata": {},
   "source": [
    "stats.t(df=n-1).cdf()Compute the paired $t$ test statistic on the data of Exercise 4 and\n",
    "compare the results with those of the Wilcoxon test. (Use Table A21 with\n",
    "row $k=11$ \\[or `stats.t(df=n-1).cdf()` or `stats.t(df=n-1).sf()`\\];\n",
    "zeros are not discarded in the paired $t$ test.)"
   ]
  },
  {
   "cell_type": "markdown",
   "metadata": {},
   "source": [
    "$t = \\frac{\\bar{d}}{\\frac{s_d}{\\sqrt{n}}} = \\frac{-2.583}{\\frac{4.100}{\\sqrt{12}}} = -2.1826$\n",
    "\n",
    "$p$-value $ = 0.02581$ \n",
    "\n",
    "This $p$-value is less than the one computed with the wilcoxon test. This shows that our distribution may not come from a normal distribution. When the data is close to a normal, these tests are much closer."
   ]
  },
  {
   "cell_type": "code",
   "execution_count": 7,
   "metadata": {},
   "outputs": [
    {
     "name": "stdout",
     "output_type": "stream",
     "text": [
      "-2.5833333333333335 4.100073909163841 12\n",
      "-2.1826263064277835 0.02581407755772393\n"
     ]
    }
   ],
   "source": [
    "x = np.array([18, 12, 7, 21, 19, 14, 8, 11, 19, 16, 8, 11])\n",
    "y = np.array([16, 12, 8, 23, 13, 10, 8, 13, 9, 8, 8, 5])\n",
    "\n",
    "d = y - x\n",
    "n = len(d)\n",
    "\n",
    "d_bar = np.mean(d)\n",
    "s = np.std(d, ddof=1)\n",
    "\n",
    "print(d_bar, s, n)\n",
    "\n",
    "t_test = d_bar / (s / np.sqrt(n))\n",
    "p_value = stats.t(df=n-1).cdf(t_test)\n",
    "\n",
    "print(t_test, p_value)"
   ]
  },
  {
   "cell_type": "markdown",
   "metadata": {},
   "source": [
    "#### Exercise 5.7.8:"
   ]
  },
  {
   "cell_type": "markdown",
   "metadata": {},
   "source": [
    "Four prospective graduate students took the GMAT twice, with the\n",
    "following scores:"
   ]
  },
  {
   "cell_type": "markdown",
   "metadata": {},
   "source": [
    "<table>\n",
    "  <tr>\n",
    "    <th>Student</th><th>First Attempt</th><th>Second Attempt</th>\n",
    "  </tr>\n",
    "  <tr>\n",
    "    <td>1</td><td>470</td><td>510</td>\n",
    "  </tr>\n",
    "  <tr>\n",
    "    <td>2</td><td>530</td><td>550</td>\n",
    "  </tr>\n",
    "  <tr>\n",
    "    <td>3</td><td>610</td><td>600</td>\n",
    "  </tr>\n",
    "  <tr>\n",
    "    <td>4</td><td>440</td><td>490</td>\n",
    "  </tr>\n",
    "</table>"
   ]
  },
  {
   "cell_type": "markdown",
   "metadata": {},
   "source": [
    "**(a)** Find the exact distribution of the Wilcoxon signed ranks test\n",
    "    statistic, the sum of the positive signed ranks, and draw a graph of\n",
    "    its \\[cumulative\\] distribution function."
   ]
  },
  {
   "cell_type": "markdown",
   "metadata": {},
   "source": [
    "<table border=\"1\">\n",
    "<tr><th>$U_x$</th><th>$W_x$</th><th>Ranks</th><th>Prob</th></tr>\n",
    "<tr><td>$0$</td><td>$0$</td><td>(-4, -3, -2, -1)</td><td>$\\frac{1}{16}$</td></tr>\n",
    "<tr><td>$1$</td><td>$1$</td><td>(-4, -3, -2, +1)</td><td>$\\frac{1}{16}$</td></tr>\n",
    "<tr><td>$2$</td><td>$2$</td><td>(-4, -3, +2, -1)</td><td>$\\frac{1}{16}$</td></tr>\n",
    "<tr><td>$3$</td><td>$3$</td><td>(-4, +3, -2, -1)</td><td>$\\frac{1}{16}$</td></tr>\n",
    "<tr><td>$3$</td><td>$3$</td><td>(-4, -3, +2, +1)</td><td>$\\frac{1}{16}$</td></tr>\n",
    "<tr><td>$4$</td><td>$4$</td><td>(-4, +3, -2, +1)</td><td>$\\frac{1}{16}$</td></tr>\n",
    "<tr><td>$5$</td><td>$5$</td><td>(-4, +3, +2, -1)</td><td>$\\frac{1}{16}$</td></tr>\n",
    "<tr><td>$4$</td><td>$4$</td><td>(+4, -3, -2, -1)</td><td>$\\frac{1}{16}$</td></tr>\n",
    "<tr><td>$6$</td><td>$6$</td><td>(-4, +3, +2, +1)</td><td>$\\frac{1}{16}$</td></tr>\n",
    "<tr><td>$5$</td><td>$5$</td><td>(+4, -3, -2, +1)</td><td>$\\frac{1}{16}$</td></tr>\n",
    "<tr><td>$6$</td><td>$6$</td><td>(+4, -3, +2, -1)</td><td>$\\frac{1}{16}$</td></tr>\n",
    "<tr><td>$7$</td><td>$7$</td><td>(+4, +3, -2, -1)</td><td>$\\frac{1}{16}$</td></tr>\n",
    "<tr><td>$7$</td><td>$7$</td><td>(+4, -3, +2, +1)</td><td>$\\frac{1}{16}$</td></tr>\n",
    "<tr><td>$8$</td><td>$8$</td><td>(+4, +3, -2, +1)</td><td>$\\frac{1}{16}$</td></tr>\n",
    "<tr><td>$9$</td><td>$9$</td><td>(+4, +3, +2, -1)</td><td>$\\frac{1}{16}$</td></tr>\n",
    "<tr><td>$10$</td><td>$10$</td><td>(+4, +3, +2, +1)</td><td>$\\frac{1}{16}$</td></tr>\n",
    "</table>"
   ]
  },
  {
   "cell_type": "code",
   "execution_count": 8,
   "metadata": {},
   "outputs": [
    {
     "data": {
      "image/png": "[encoded data removed]",
      "text/plain": [
       "<Figure size 800x500 with 1 Axes>"
      ]
     },
     "metadata": {},
     "output_type": "display_data"
    }
   ],
   "source": [
    "W_values = np.array([0, 1, 2, 3, 4, 5, 6, 7, 8, 9, 10])\n",
    "probabilities = np.array([1/16, 1/16, 2/16, 2/16, 2/16, 2/16, 2/16, 2/16, 1/16, 1/16, 1/16])\n",
    "\n",
    "cdf = np.cumsum(probabilities)\n",
    "\n",
    "plt.step(W_values, cdf, where='post', label=\"CDF of Wilcoxon Signed-Rank Statistic\")\n",
    "plt.title(\"Cumulative Distribution Function of $W_+$\")\n",
    "plt.grid()"
   ]
  },
  {
   "cell_type": "markdown",
   "metadata": {},
   "source": [
    "**(b)**  Locate the observed value of the test statistic on the graph of part\n",
    "    a and find the exact $p$-value in an upper-tailed test, or in a\n",
    "    lower-tailed test, whichever is smaller."
   ]
  },
  {
   "cell_type": "code",
   "execution_count": 9,
   "metadata": {},
   "outputs": [
    {
     "name": "stdout",
     "output_type": "stream",
     "text": [
      "[ 40  20 -10  50] [3. 2. 1. 4.]\n",
      "[ True  True False  True] [3. 2. 4.]\n",
      "9.0\n"
     ]
    }
   ],
   "source": [
    "x = np.array([470, 530, 610, 440])\n",
    "y = np.array([510, 550, 600, 490])\n",
    "\n",
    "d = y - x\n",
    "n = len(x)\n",
    "\n",
    "r = stats.rankdata(np.abs(d))\n",
    "\n",
    "print(d, r)\n",
    "\n",
    "posranks = r[d > 0]\n",
    "\n",
    "print(d > 0, posranks)\n",
    "\n",
    "tp = posranks.sum(); \n",
    "\n",
    "print(tp)"
   ]
  },
  {
   "cell_type": "code",
   "execution_count": 10,
   "metadata": {},
   "outputs": [
    {
     "name": "stdout",
     "output_type": "stream",
     "text": [
      "0.9375 0.0625\n",
      "WilcoxonResult(statistic=9.0, pvalue=0.9375)\n"
     ]
    }
   ],
   "source": [
    "p1 = signrankcdf(tp,n) \n",
    "p2 = 1-signrankcdf(tp,n)\n",
    "\n",
    "print(p1, p2) \n",
    "\n",
    "print(stats.wilcoxon(y,x, alternative='less')) # double check"
   ]
  },
  {
   "cell_type": "markdown",
   "metadata": {},
   "source": [
    "$p$-value $= 0.0625$"
   ]
  },
  {
   "cell_type": "markdown",
   "metadata": {},
   "source": [
    "**(c)** Find a nonparametric 80% (approximately) confidence interval for the\n",
    "    mean *increase in score*."
   ]
  },
  {
   "cell_type": "code",
   "execution_count": 13,
   "metadata": {},
   "outputs": [
    {
     "name": "stdout",
     "output_type": "stream",
     "text": [
      "0 0 40.0\n",
      "0 1 30.0\n",
      "0 2 15.0\n",
      "0 3 45.0\n",
      "1 1 20.0\n",
      "1 2 5.0\n",
      "1 3 35.0\n",
      "2 2 -10.0\n",
      "2 3 20.0\n",
      "3 3 50.0\n"
     ]
    }
   ],
   "source": [
    "avg_j = []\n",
    "\n",
    "for i in range(len(d)):\n",
    "    for j in range(i, len(d)):\n",
    "        avg_j.append(0.5*(d[i]+d[j]))\n",
    "        print(i,j, avg_j[-1])"
   ]
  },
  {
   "cell_type": "code",
   "execution_count": 14,
   "metadata": {},
   "outputs": [
    {
     "data": {
      "text/plain": [
       "array([-10.,   5.,  15.,  20.,  20.,  30.,  35.,  40.,  45.,  50.])"
      ]
     },
     "execution_count": 14,
     "metadata": {},
     "output_type": "execute_result"
    }
   ],
   "source": [
    "np.sort(avg_j)"
   ]
  },
  {
   "cell_type": "code",
   "execution_count": 17,
   "metadata": {},
   "outputs": [
    {
     "data": {
      "text/plain": [
       "(1, 9)"
      ]
     },
     "execution_count": 17,
     "metadata": {},
     "output_type": "execute_result"
    }
   ],
   "source": [
    "signrankppf(0.1, 4), signrankppf(0.9, 4)"
   ]
  },
  {
   "cell_type": "code",
   "execution_count": 11,
   "metadata": {},
   "outputs": [
    {
     "name": "stdout",
     "output_type": "stream",
     "text": [
      "80% CI: (10.0, 40.0)\n"
     ]
    }
   ],
   "source": [
    "n_bootstraps = 1000\n",
    "\n",
    "bootstrap_means = [np.mean(np.random.choice(d, size=len(d), replace=True)) for _ in range(n_bootstraps)]\n",
    "bootstrap_means_sorted = np.sort(bootstrap_means)\n",
    "\n",
    "lower_bound = np.percentile(bootstrap_means_sorted, 10)\n",
    "upper_bound = np.percentile(bootstrap_means_sorted, 90)\n",
    "\n",
    "print(f\"80% CI: ({lower_bound}, {upper_bound})\")"
   ]
  },
  {
   "cell_type": "markdown",
   "metadata": {},
   "source": [
    "**(d)**  What is the exact confidence level of the interval you found?"
   ]
  },
  {
   "cell_type": "code",
   "execution_count": 12,
   "metadata": {},
   "outputs": [
    {
     "name": "stdout",
     "output_type": "stream",
     "text": [
      "The actual confidence is 74.081%\n"
     ]
    }
   ],
   "source": [
    "b = (lower_bound > bootstrap_means).sum()\n",
    "u = (upper_bound < bootstrap_means).sum()\n",
    "\n",
    "print(f'The actual confidence is {b+u / len(bootstrap_means)}%')"
   ]
  },
  {
   "cell_type": "markdown",
   "metadata": {},
   "source": [
    "### Conover (and other) Problems on Rank Sum Tests"
   ]
  },
  {
   "cell_type": "markdown",
   "metadata": {},
   "source": [
    "#### Exercise 5.1.6:"
   ]
  },
  {
   "cell_type": "markdown",
   "metadata": {},
   "source": [
    "Ten tents using plain camouflage and 10 using patterned camouflage are\n",
    "set up in a wooded area, and a team of observers is sent out to find\n",
    "them. The team reports the distance at which they first sight each tent\n",
    "(true sightings only) until all 20 tents are found. The purpose of the\n",
    "study is to determine whether the patterned camouflage is more difficult\n",
    "to detect than the plain camouflage. The distances at which each tent is\n",
    "detected are reported as follows:"
   ]
  },
  {
   "cell_type": "markdown",
   "metadata": {},
   "source": [
    "<table border=1>\n",
    "<tr><th>Type of camouflage</th><th></th>Distance (meters)</th></tr>\n",
    "<tr><th>Plain</th><td> 25, 28, 16, 34, 38, 21, 29, 43, 32, 36 </td></tr>\n",
    "<tr><th>Patterned</th><td> 26, 12, 16, 21, 20, 14, 10, 18, 22, 20 </td></tr>\n",
    "</table>"
   ]
  },
  {
   "cell_type": "markdown",
   "metadata": {},
   "source": [
    "**(a)** Perform a hypothesis test."
   ]
  },
  {
   "cell_type": "markdown",
   "metadata": {},
   "source": [
    "$H_0:$ there is no difference between the groups\n",
    "\n",
    "$H_1:$ the patterned group is much harder to see\n",
    "\n",
    "$w_y = 90$\n",
    "\n",
    "$p$-value $= 0.00075$\n",
    "\n",
    "Since the $p$-value < $0.05$, we reject the null hypothesis."
   ]
  },
  {
   "cell_type": "code",
   "execution_count": 13,
   "metadata": {},
   "outputs": [],
   "source": [
    "from wilcoxondists import mannwhitneypmf, mannwhitneycdf, mannwhitneyppf"
   ]
  },
  {
   "cell_type": "code",
   "execution_count": 14,
   "metadata": {},
   "outputs": [
    {
     "name": "stdout",
     "output_type": "stream",
     "text": [
      "90.0 10.0\n"
     ]
    }
   ],
   "source": [
    "x_i = np.array([25, 28, 16, 34, 38, 21, 29, 43, 32, 36])\n",
    "y_j = np.array([26, 12, 16, 21, 20, 14, 10, 18, 22, 20])\n",
    "\n",
    "n = len(x_i)\n",
    "\n",
    "Ux = np.sum(x_i[None,:] > y_j[:,None]) + 0.5*np.sum(x_i[None,:] == y_j[:,None])\n",
    "Uy = np.sum(y_j[None,:] > x_i[:,None]) + 0.5*np.sum(y_j[None,:] == x_i[:,None])\n",
    "\n",
    "print(Ux, Uy)"
   ]
  },
  {
   "cell_type": "code",
   "execution_count": 15,
   "metadata": {},
   "outputs": [
    {
     "name": "stdout",
     "output_type": "stream",
     "text": [
      "0.0007523436316005976\n",
      "MannwhitneyuResult(statistic=90.0, pvalue=0.0007523436316005976)\n"
     ]
    }
   ],
   "source": [
    "p = mannwhitneycdf(int(Uy), n, n)  \n",
    "\n",
    "print(p)\n",
    "\n",
    "print(stats.mannwhitneyu(x_i, y_j, alternative='greater', method='exact'))  # double check"
   ]
  },
  {
   "cell_type": "markdown",
   "metadata": {},
   "source": [
    "**(b)** Find a nonparametric 95% confidence interval for the difference in mean\n",
    "detection distances."
   ]
  },
  {
   "cell_type": "code",
   "execution_count": 16,
   "metadata": {},
   "outputs": [],
   "source": [
    "from matplotlib.cbook import flatten"
   ]
  },
  {
   "cell_type": "code",
   "execution_count": 17,
   "metadata": {},
   "outputs": [
    {
     "name": "stdout",
     "output_type": "stream",
     "text": [
      "P(U<=23)=0.0216285\n"
     ]
    }
   ],
   "source": [
    "print(\"P(U<=23)=%g\" % (mannwhitneycdf(23,n,n)))"
   ]
  },
  {
   "cell_type": "code",
   "execution_count": 18,
   "metadata": {},
   "outputs": [
    {
     "name": "stdout",
     "output_type": "stream",
     "text": [
      "95% CI: (6, 19)\n"
     ]
    }
   ],
   "source": [
    "diff_ij = np.sort(x_i)[:,None]-np.sort(y_j)[None,:]\n",
    "\n",
    "sorteddiff_v = np.sort(list(flatten(diff_ij)))\n",
    "\n",
    "print(f\"95% CI: ({sorteddiff_v[23]}, {sorteddiff_v[-23-1]})\")"
   ]
  },
  {
   "cell_type": "markdown",
   "metadata": {},
   "source": [
    "#### Problem 5.1.2:"
   ]
  },
  {
   "cell_type": "markdown",
   "metadata": {},
   "source": [
    "In the case where $n=3$, $m=2$, and $H_0$ is true, find the exact\n",
    "distribution of ${\\color{royalblue}{T}}$ and compare with Table A7."
   ]
  },
  {
   "cell_type": "markdown",
   "metadata": {},
   "source": [
    "<table border=\"1\"> \n",
    "    <tr><th>$Rank$</th><th>$U_x$</th><th>$T$</th><th>$Prob$</th></tr> \n",
    "    <tr><td>1, 2</td><td>1</td><td>3</td><td>$\\frac{1}{10}$</td></tr> \n",
    "    <tr><td>1, 3</td><td>2</td><td>4</td><td>$\\frac{1}{10}$</td></tr> \n",
    "    <tr><td>1, 4</td><td>3</td><td>5</td><td>$\\frac{1}{10}$</td></tr> \n",
    "    <tr><td>1, 5</td><td>4</td><td>6</td><td>$\\frac{1}{10}$</td></tr> \n",
    "    <tr><td>2, 3</td><td>3</td><td>5</td><td>$\\frac{1}{10}$</td></tr> \n",
    "    <tr><td>2, 4</td><td>4</td><td>6</td><td>$\\frac{1}{10}$</td></tr> \n",
    "    <tr><td>2, 5</td><td>5</td><td>7</td><td>$\\frac{1}{10}$</td></tr> \n",
    "    <tr><td>3, 4</td><td>5</td><td>7</td><td>$\\frac{1}{10}$</td></tr> \n",
    "    <tr><td>3, 5</td><td>6</td><td>8</td><td>$\\frac{1}{10}$</td></tr> \n",
    "    <tr><td>4, 5</td><td>7</td><td>9</td><td>$\\frac{1}{10}$</td></tr> \n",
    "</table>"
   ]
  },
  {
   "cell_type": "markdown",
   "metadata": {},
   "source": [
    "#### Mann-Whitney Test on Gravitational Wave Search Results"
   ]
  },
  {
   "cell_type": "markdown",
   "metadata": {},
   "source": [
    "The paper “Search for gravitational-wave inspiral signals associated\n",
    "with short Gamma-Ray Bursts during LIGO’s fifth and Virgo’s first\n",
    "science run” (*The Astrophysical Journal* **715**, 1453 (2010),\n",
    "available on campus via\n",
    "<span>[<http://stacks.iop.org/ApJ/715/1453>](http://stacks.iop.org/ApJ/715/1453)</span>\n",
    "and off campus via\n",
    "<span>[<http://stacks.iop.org.ezproxy.rit.edu/ApJ/715/1453>](http://stacks.iop.org.ezproxy.rit.edu/ApJ/715/1453)</span>)\n",
    "reported on a search for gravitational waves in 22 time windows, each\n",
    "corresponding to a gamma-ray burst. None of these results was\n",
    "individually significant, i.e., the highest detection statistic was\n",
    "consistent with noise given the “trials factor” of 22. To test whether\n",
    "there was an overabundance of signals too weak to be individually\n",
    "significant, the authors also performed a Mann-Whitney $U$ test of these\n",
    "22 “on-source” results against a set of 6801 “off-source” searches at\n",
    "times with no GRB, and reported, “Applying the $U$-test, we find that\n",
    "the two distributions are consistent with each other; if the on-source\n",
    "and off-source significances were drawn from the same distribution, they\n",
    "would yield a $U$-statistic greater than what we observed 53% of the\n",
    "time.”\n",
    "    \n",
    "Download the results files `ps04_onsource.dat` and `ps04_offsource.dat`\n",
    "from mycourses (On the JupyterHub server, they're automatically included\n",
    "in the same directory as this notebook.) and perform the Mann-Whitney\n",
    "$U$ test or the equivalent Wilcoxon rank-sum test. Convert the statistic\n",
    "to an equivalent $z$ score via the normal approximation using the\n",
    "expected mean and standard deviation (even if your software does this\n",
    "for you, check using the raw numbers; note that since both lists have\n",
    "multiple $0$ values, you will need to use the corrected formula for the\n",
    "variance considering these ties). Check that the stated $p$-value of\n",
    "$.53$ is correct."
   ]
  },
  {
   "cell_type": "code",
   "execution_count": 20,
   "metadata": {},
   "outputs": [
    {
     "name": "stdout",
     "output_type": "stream",
     "text": [
      "U_x: 74128.5\n",
      "z-score: -0.07491173297562712\n",
      "p-value: 0.5298575293874039\n"
     ]
    }
   ],
   "source": [
    "x_i = np.loadtxt('ps04_onsource.dat', unpack=True)\n",
    "y_j = np.loadtxt('ps04_offsource.dat', unpack=True)\n",
    "\n",
    "n = len(x_i); m = len(y_j); N = n + m\n",
    "\n",
    "xy_r = np.concatenate([x_i, y_j])\n",
    "ranks_r = stats.rankdata(xy_r)\n",
    "\n",
    "Ux = np.sum(ranks_r[:n]) - n * (n + 1) / 2\n",
    "\n",
    "_, count = np.unique(xy_r, return_counts=True)\n",
    "correctrion = np.sum(count**3 - count) / (N * (N - 1))\n",
    "\n",
    "mu =  n * m / 2 + 0.5\n",
    "sigma = np.sqrt(n * m / 12 * (N + 1 - correctrion))\n",
    "\n",
    "z = (Ux - n * m / 2 + 0.5) / sigma\n",
    "p = 1 - stats.norm.cdf(z) \n",
    "\n",
    "print(f\"U_x: {Ux}\")\n",
    "print(f\"z-score: {z}\")\n",
    "print(f\"p-value: {p}\")"
   ]
  },
  {
   "cell_type": "code",
   "execution_count": 21,
   "metadata": {},
   "outputs": [
    {
     "name": "stdout",
     "output_type": "stream",
     "text": [
      "MannwhitneyuResult(statistic=74128.5, pvalue=0.5299012267441824)\n"
     ]
    }
   ],
   "source": [
    "print(stats.mannwhitneyu(x_i, y_j, alternative='greater')) # double check"
   ]
  },
  {
   "cell_type": "code",
   "execution_count": null,
   "metadata": {},
   "outputs": [],
   "source": []
  }
 ],
 "metadata": {
  "kernelspec": {
   "display_name": "Python 3 (ipykernel)",
   "language": "python",
   "name": "python3"
  },
  "language_info": {
   "codemirror_mode": {
    "name": "ipython",
    "version": 3
   },
   "file_extension": ".py",
   "mimetype": "text/x-python",
   "name": "python",
   "nbconvert_exporter": "python",
   "pygments_lexer": "ipython3",
   "version": "3.9.7"
  }
 },
 "nbformat": 4,
 "nbformat_minor": 4
}
