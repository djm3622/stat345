{
 "cells": [
  {
   "cell_type": "markdown",
   "id": "2edbebae",
   "metadata": {
    "slideshow": {
     "slide_type": "slide"
    }
   },
   "source": [
    "# STAT 345: Nonparametric Statistics\n",
    "\n",
    "## Lesson 04.2: The Wilcoxon-Mann-Whitney Rank Sum Statistic\n",
    "\n",
    "**Reading: Conover Section 5.1**\n",
    "\n",
    "*Prof. John T. Whelan*\n",
    "\n",
    "Tuesday 11 February 2025"
   ]
  },
  {
   "cell_type": "markdown",
   "id": "039cce72",
   "metadata": {
    "slideshow": {
     "slide_type": "slide"
    }
   },
   "source": [
    "These lecture slides are in a computational notebook.  You have access to them through http://vmware.rit.edu/"
   ]
  },
  {
   "cell_type": "markdown",
   "id": "9a0c49bb",
   "metadata": {
    "slideshow": {
     "slide_type": "fragment"
    }
   },
   "source": [
    "Flat HTML and slideshow versions are also in MyCourses."
   ]
  },
  {
   "cell_type": "markdown",
   "id": "272d7117",
   "metadata": {
    "slideshow": {
     "slide_type": "fragment"
    }
   },
   "source": [
    "The notebook can run Python commands (other notebooks can use R or Julia; \"Ju-Pyt-R\").  Think: computational data analysis, not \"coding\"."
   ]
  },
  {
   "cell_type": "markdown",
   "id": "73e1b77d",
   "metadata": {
    "slideshow": {
     "slide_type": "fragment"
    }
   },
   "source": [
    "Standard commands to activate inline interface and import libraries:"
   ]
  },
  {
   "cell_type": "code",
   "execution_count": 1,
   "id": "3fdb47ff",
   "metadata": {
    "slideshow": {
     "slide_type": "fragment"
    }
   },
   "outputs": [],
   "source": [
    "%matplotlib inline"
   ]
  },
  {
   "cell_type": "code",
   "execution_count": 2,
   "id": "05c6d703",
   "metadata": {
    "slideshow": {
     "slide_type": "fragment"
    }
   },
   "outputs": [],
   "source": [
    "import numpy as np\n",
    "from scipy import stats\n",
    "import matplotlib.pyplot as plt\n",
    "plt.rcParams['figure.figsize'] = (8.0,5.0)\n",
    "plt.rcParams['font.size'] = 14"
   ]
  },
  {
   "cell_type": "markdown",
   "id": "18fcc59e",
   "metadata": {
    "slideshow": {
     "slide_type": "subslide"
    }
   },
   "source": [
    "- Sign test and signed-rank test for paired data $\\{{\\color{royalblue}{X_i}},{\\color{royalblue}{Y_i}}|i=1,\\ldots,n\\}$.  ${\\color{royalblue}{X_1}}$ goes w/${\\color{royalblue}{Y_1}}$, ${\\color{royalblue}{X_2}}$ w/${\\color{royalblue}{Y_2}}$, etc."
   ]
  },
  {
   "cell_type": "markdown",
   "id": "23eb426f",
   "metadata": {
    "slideshow": {
     "slide_type": "fragment"
    }
   },
   "source": [
    "- Today: independent samples $\\{{\\color{royalblue}{X_i}}|i=1,\\ldots,n\\}$ and $\\{{\\color{royalblue}{Y_j}}|j=1,\\ldots,m\\}$ from possibly different distributions. ${\\color{royalblue}{X_1}}$ has nothing more to do w/${\\color{royalblue}{Y_1}}$ than ${\\color{royalblue}{Y_4}}$.  Sample sizes $n$ and $m$ can also differ. "
   ]
  },
  {
   "cell_type": "markdown",
   "id": "80110db4",
   "metadata": {
    "slideshow": {
     "slide_type": "fragment"
    }
   },
   "source": [
    "- Call total size of both samples $n+m=N$."
   ]
  },
  {
   "cell_type": "markdown",
   "id": "9d966d03",
   "metadata": {
    "slideshow": {
     "slide_type": "fragment"
    }
   },
   "source": [
    "- Test the hypothesis that both samples drawn from same distribution, or more precisely that\n",
    "$$P({\\color{royalblue}{X}}{\\mathbin{>}}{\\color{royalblue}{Y}})=P({\\color{royalblue}{X}}{\\mathbin{<}}{\\color{royalblue}{Y}})$$\n",
    "by combining the two samples into one list, ranking that list, and then\n",
    "using as a test statistic the sum of the ranks of the $\\{x_i\\}$."
   ]
  },
  {
   "cell_type": "markdown",
   "id": "d67fc802",
   "metadata": {
    "slideshow": {
     "slide_type": "subslide"
    }
   },
   "source": [
    "As an example, consider the following samples, with $n=5$, $m=4$, and $N=5+4=9$:"
   ]
  },
  {
   "cell_type": "code",
   "execution_count": 3,
   "id": "3565dad5",
   "metadata": {
    "slideshow": {
     "slide_type": "fragment"
    }
   },
   "outputs": [
    {
     "name": "stdout",
     "output_type": "stream",
     "text": [
      "n=5, m=4, N=n+m=9\n"
     ]
    }
   ],
   "source": [
    "x_i = np.array([8.56, 5.03, 48.1, 1.31, 4.82]); y_j = np.array([15.0, 12.3, 28.0, 13.9])\n",
    "n = len(x_i); m = len(y_j); N = n + m\n",
    "print(\"n=%d, m=%d, N=n+m=%d\" % (n,m,N))"
   ]
  },
  {
   "cell_type": "markdown",
   "id": "02d1f050",
   "metadata": {
    "slideshow": {
     "slide_type": "fragment"
    }
   },
   "source": [
    "It’s convenient to summarize the data in a table:\n",
    "\n",
    "| rank | 1 | 2 | 3 | 4 | 5 | 6 | 7 | 8 | 9 |\n",
    "| ---- | - | - | - | - | - | - | - | - | - |\n",
    "| Data | 1.31 | 4.82 | 5.03 | 8.56 | 12.3 | 13.9 | 15.0 | 28.0 | 48.1 |\n",
    "| Set | x | x | x | x | y | y | y | y | x |"
   ]
  },
  {
   "cell_type": "markdown",
   "id": "cad67fa2",
   "metadata": {
    "slideshow": {
     "slide_type": "fragment"
    }
   },
   "source": [
    "The Wilcoxon rank-sum statistic is $w_x = 1+2+3+4+9 = 19$, because the\n",
    "four lowest values in the combined sample ($1.31$, $4.82$, $5.03$, and\n",
    "$8.56$), and the highest ($48.1$) come from the $\\{x_i\\}$."
   ]
  },
  {
   "cell_type": "markdown",
   "id": "d59c1ff7",
   "metadata": {
    "slideshow": {
     "slide_type": "subslide"
    }
   },
   "source": [
    "We can use the `rankdata` function to automatically obtain the ranks in the combined list."
   ]
  },
  {
   "cell_type": "code",
   "execution_count": 4,
   "id": "4d220907",
   "metadata": {
    "slideshow": {
     "slide_type": "fragment"
    }
   },
   "outputs": [
    {
     "data": {
      "text/plain": [
       "array([ 8.56,  5.03, 48.1 ,  1.31,  4.82, 15.  , 12.3 , 28.  , 13.9 ])"
      ]
     },
     "execution_count": 4,
     "metadata": {},
     "output_type": "execute_result"
    }
   ],
   "source": [
    "xandy_r = np.concatenate([x_i,y_j]); xandy_r"
   ]
  },
  {
   "cell_type": "code",
   "execution_count": 5,
   "id": "b6831ef7",
   "metadata": {
    "slideshow": {
     "slide_type": "fragment"
    }
   },
   "outputs": [
    {
     "data": {
      "text/plain": [
       "array([4., 3., 9., 1., 2., 7., 5., 8., 6.])"
      ]
     },
     "execution_count": 5,
     "metadata": {},
     "output_type": "execute_result"
    }
   ],
   "source": [
    "ranks_r = stats.rankdata(xandy_r); ranks_r"
   ]
  },
  {
   "cell_type": "markdown",
   "id": "5bb12ee4",
   "metadata": {
    "slideshow": {
     "slide_type": "fragment"
    }
   },
   "source": [
    "Of course, to add up the $x_i$ ranks, we need a way to pick out which elements in the list came from `x_i` and which came from `y_j`.  We could do it with a boolean list:"
   ]
  },
  {
   "cell_type": "code",
   "execution_count": 6,
   "id": "23eb9df0",
   "metadata": {
    "slideshow": {
     "slide_type": "fragment"
    }
   },
   "outputs": [
    {
     "data": {
      "text/plain": [
       "[True, True, True, True, True, False, False, False, False]"
      ]
     },
     "execution_count": 6,
     "metadata": {},
     "output_type": "execute_result"
    }
   ],
   "source": [
    "xflags_r = [True]*n + [False]*m; xflags_r"
   ]
  },
  {
   "cell_type": "code",
   "execution_count": 7,
   "id": "472a0098",
   "metadata": {
    "slideshow": {
     "slide_type": "fragment"
    }
   },
   "outputs": [],
   "source": [
    "xranks_i = ranks_r[xflags_r]"
   ]
  },
  {
   "cell_type": "markdown",
   "id": "6ab05a37",
   "metadata": {
    "slideshow": {
     "slide_type": "subslide"
    }
   },
   "source": [
    "Or we could just to take a slice of the first $n$ elements of the combined rank list:"
   ]
  },
  {
   "cell_type": "code",
   "execution_count": 8,
   "id": "237e9e0a",
   "metadata": {
    "slideshow": {
     "slide_type": "fragment"
    }
   },
   "outputs": [
    {
     "data": {
      "text/plain": [
       "(array([4., 3., 9., 1., 2.]), array([4., 3., 9., 1., 2.]))"
      ]
     },
     "execution_count": 8,
     "metadata": {},
     "output_type": "execute_result"
    }
   ],
   "source": [
    "xranks_i, ranks_r[:n]"
   ]
  },
  {
   "cell_type": "markdown",
   "id": "4be26543",
   "metadata": {
    "slideshow": {
     "slide_type": "fragment"
    }
   },
   "source": [
    "The statistic $w_x$ is just the sum of those ranks:"
   ]
  },
  {
   "cell_type": "code",
   "execution_count": 9,
   "id": "688889e0",
   "metadata": {
    "slideshow": {
     "slide_type": "fragment"
    }
   },
   "outputs": [
    {
     "data": {
      "text/plain": [
       "19.0"
      ]
     },
     "execution_count": 9,
     "metadata": {},
     "output_type": "execute_result"
    }
   ],
   "source": [
    "Wx = np.sum(xranks_i); Wx"
   ]
  },
  {
   "cell_type": "markdown",
   "id": "b7fb24c9",
   "metadata": {
    "slideshow": {
     "slide_type": "subslide"
    }
   },
   "source": [
    "$$\\min({\\color{royalblue}{W_x}}) = 1+\\cdots+n=\\frac{n(n+1)}{2}$$\n",
    "is the smallest possible value for $w_x$ (if $n=5$, this is $15$)"
   ]
  },
  {
   "cell_type": "markdown",
   "id": "f7689703",
   "metadata": {
    "slideshow": {
     "slide_type": "fragment"
    }
   },
   "source": [
    "$$\\max({\\color{royalblue}{W_x}}) = (m+1)+\\cdots+N=nm + \\frac{n(n+1)}{2}$$\n",
    "If $n=5$ & $m=4$, this is $20+15=35$."
   ]
  },
  {
   "cell_type": "markdown",
   "id": "f7be045a",
   "metadata": {
    "slideshow": {
     "slide_type": "fragment"
    }
   },
   "source": [
    "If $H_0$ is true, the expected average rank\n",
    "should be the middle value $\\frac{N+1}{2}$."
   ]
  },
  {
   "cell_type": "markdown",
   "id": "cf5e773f",
   "metadata": {
    "slideshow": {
     "slide_type": "fragment"
    }
   },
   "source": [
    "So the null expectation\n",
    "value of the rank-sum statistic is\n",
    "$$E({\\color{royalblue}{W_x}}) = \\frac{n(N+1)}{2} = \\frac{n(n+m+1)}{2}\n",
    "  \\qquad \\hbox{if $H_0$ true}$$"
   ]
  },
  {
   "cell_type": "markdown",
   "id": "35f6a584",
   "metadata": {
    "slideshow": {
     "slide_type": "subslide"
    }
   },
   "source": [
    "| rank | 1 | 2 | 3 | 4 | 5 | 6 | 7 | 8 | 9 |\n",
    "| ---- | - | - | - | - | - | - | - | - | - |\n",
    "| Data | 1.31 | 4.82 | 5.03 | 8.56 | 12.3 | 13.9 | 15.0 | 28.0 | 48.1 |\n",
    "| Set | x | x | x | x | y | y | y | y | x |\n",
    "\n",
    "Some related statistics which carry the same information as $w_x$ are:"
   ]
  },
  {
   "cell_type": "markdown",
   "id": "ddcbc430",
   "metadata": {
    "slideshow": {
     "slide_type": "fragment"
    }
   },
   "source": [
    "-   The sum of the ranks of the $\\{y_j\\}$ is $w_y=5+6+7+8=26$."
   ]
  },
  {
   "cell_type": "code",
   "execution_count": 10,
   "id": "456e9e8b",
   "metadata": {
    "slideshow": {
     "slide_type": "fragment"
    }
   },
   "outputs": [
    {
     "data": {
      "text/plain": [
       "(array([7., 5., 8., 6.]), array([7., 5., 8., 6.]))"
      ]
     },
     "execution_count": 10,
     "metadata": {},
     "output_type": "execute_result"
    }
   ],
   "source": [
    "yflags_r = [False]*n + [True]*m; yranks_j = ranks_r[yflags_r]; yranks_j, ranks_r[n:]"
   ]
  },
  {
   "cell_type": "code",
   "execution_count": 11,
   "id": "a06b637f",
   "metadata": {
    "slideshow": {
     "slide_type": "fragment"
    }
   },
   "outputs": [
    {
     "data": {
      "text/plain": [
       "26.0"
      ]
     },
     "execution_count": 11,
     "metadata": {},
     "output_type": "execute_result"
    }
   ],
   "source": [
    "Wy = np.sum(yranks_j); Wy"
   ]
  },
  {
   "cell_type": "markdown",
   "id": "d4e2b6e4",
   "metadata": {
    "slideshow": {
     "slide_type": "fragment"
    }
   },
   "source": [
    "-   The Mann-Whitney $U$ statistic is the total over the $\\{x_i\\}$,\n",
    "    of how many of the $\\{y_j\\}$ each one of them is greater than. So\n",
    "    for this data set this is $u_x=0+0+0+0+4=4$."
   ]
  },
  {
   "cell_type": "markdown",
   "id": "fc1d633f",
   "metadata": {
    "slideshow": {
     "slide_type": "skip"
    }
   },
   "source": [
    "Mann and Whitney publlished their statistic in *Annals of\n",
    "    Mathematical Statistics* **18**, 50 (1947),\n",
    "    [https://dx.doi.org/10.1214/aoms/1177730491](https://dx.doi.org/10.1214/aoms/1177730491).\n",
    "    It actually cites Wilcoxon’s paper *Biometrics Bulletin* **1**, 80\n",
    "    (1945) [https://doi.org/10.2307/3001968](https://doi.org/10.2307/3001968)\n",
    "    which proposed both the signed rank and rank sum tests, but didn’t\n",
    "        work out the null distribution.</span>"
   ]
  },
  {
   "cell_type": "markdown",
   "id": "4935a1b7",
   "metadata": {
    "slideshow": {
     "slide_type": "fragment"
    }
   },
   "source": [
    "-   The Mann-Whitney $U$ statistic for the $\\{y_j\\}$ is\n",
    "    $u_y=4+4+4+4=16$."
   ]
  },
  {
   "cell_type": "markdown",
   "id": "a10732c0",
   "metadata": {
    "slideshow": {
     "slide_type": "subslide"
    }
   },
   "source": [
    "We can calculate the Mann-Whitney $U$-statistic rather compactly using array broadcasting:"
   ]
  },
  {
   "cell_type": "code",
   "execution_count": 12,
   "id": "efe2529d",
   "metadata": {
    "slideshow": {
     "slide_type": "fragment"
    }
   },
   "outputs": [
    {
     "data": {
      "text/plain": [
       "4"
      ]
     },
     "execution_count": 12,
     "metadata": {},
     "output_type": "execute_result"
    }
   ],
   "source": [
    "np.sum(x_i[None,:] > y_j[:,None])"
   ]
  },
  {
   "cell_type": "markdown",
   "id": "c8fff83f",
   "metadata": {
    "slideshow": {
     "slide_type": "fragment"
    }
   },
   "source": [
    "Actually, we have to be a bit more careful to handle the general case in which some values might be equal.  In that case, each time an $x_i$ value equals a $y_j$ value, it adds $\\frac{1}{2}$ to the Mann-Whitney statistic:"
   ]
  },
  {
   "cell_type": "code",
   "execution_count": 13,
   "id": "775a1839",
   "metadata": {
    "slideshow": {
     "slide_type": "fragment"
    }
   },
   "outputs": [
    {
     "data": {
      "text/plain": [
       "4.0"
      ]
     },
     "execution_count": 13,
     "metadata": {},
     "output_type": "execute_result"
    }
   ],
   "source": [
    "Ux = np.sum(x_i[None,:] > y_j[:,None]) + 0.5*np.sum(x_i[None,:] == y_j[:,None]); Ux"
   ]
  },
  {
   "cell_type": "code",
   "execution_count": null,
   "id": "14909eef",
   "metadata": {
    "slideshow": {
     "slide_type": "fragment"
    }
   },
   "outputs": [
    {
     "data": {
      "text/plain": [
       "16.0"
      ]
     },
     "execution_count": 14,
     "metadata": {},
     "output_type": "execute_result"
    }
   ],
   "source": [
    "Uy = np.sum(y_j[None,:] > x_i[:,None]) + 0.5*np.sum(y_j[None,:] == x_i[:,None]); Uy"
   ]
  },
  {
   "cell_type": "markdown",
   "id": "d3d80d15",
   "metadata": {
    "slideshow": {
     "slide_type": "subslide"
    }
   },
   "source": [
    "-   The sum of $w_x$ and $w_y$ is the sum of all the ranks, which is\n",
    "    $$w_x + w_y = 1 + \\cdots + N = \\frac{N(N+1)}{2}$$"
   ]
  },
  {
   "cell_type": "code",
   "execution_count": 15,
   "id": "fb9f94d3",
   "metadata": {
    "slideshow": {
     "slide_type": "fragment"
    }
   },
   "outputs": [
    {
     "data": {
      "text/plain": [
       "(45.0, 45)"
      ]
     },
     "execution_count": 15,
     "metadata": {},
     "output_type": "execute_result"
    }
   ],
   "source": [
    "Wx + Wy, N*(N+1)//2"
   ]
  },
  {
   "cell_type": "markdown",
   "id": "0fabef02",
   "metadata": {
    "slideshow": {
     "slide_type": "fragment"
    }
   },
   "source": [
    "-   The Wilcoxon and Mann-Whitney statistics are related by\n",
    "    $w_x = u_x + \\frac{n(n+1)}{2}$. Consistent w/$\\min(\\color{royalblue}{U_x})=0$, $\\min({\\color{royalblue}{W_x}})=\\frac{n(n+1)}{2}$, $\\max(\\color{royalblue}{U_x})=nm$ & $\\max({\\color{royalblue}{W_x}})=nm+\\frac{n(n+1)}{2}$"
   ]
  },
  {
   "cell_type": "code",
   "execution_count": 16,
   "id": "2a4d5e4f",
   "metadata": {
    "slideshow": {
     "slide_type": "fragment"
    }
   },
   "outputs": [
    {
     "data": {
      "text/plain": [
       "(15.0, 15, 10.0, 10)"
      ]
     },
     "execution_count": 16,
     "metadata": {},
     "output_type": "execute_result"
    }
   ],
   "source": [
    "Wx - Ux, n*(n+1)//2, Wy - Uy, m*(m+1)//2"
   ]
  },
  {
   "cell_type": "markdown",
   "id": "73032d00",
   "metadata": {
    "slideshow": {
     "slide_type": "fragment"
    }
   },
   "source": [
    "-   The Mann-Whitney $U$ statistics for $x$ and $y$ are related by\n",
    "    $u_x + u_y = nm$"
   ]
  },
  {
   "cell_type": "code",
   "execution_count": 17,
   "id": "9d4f422a",
   "metadata": {
    "slideshow": {
     "slide_type": "fragment"
    }
   },
   "outputs": [
    {
     "data": {
      "text/plain": [
       "(20.0, 20)"
      ]
     },
     "execution_count": 17,
     "metadata": {},
     "output_type": "execute_result"
    }
   ],
   "source": [
    "Ux + Uy, n*m"
   ]
  },
  {
   "cell_type": "markdown",
   "id": "f7ed10ff",
   "metadata": {
    "slideshow": {
     "slide_type": "subslide"
    }
   },
   "source": [
    "To get the $p$-value, we have the usual options"
   ]
  },
  {
   "cell_type": "markdown",
   "id": "e0d43018",
   "metadata": {
    "slideshow": {
     "slide_type": "fragment"
    }
   },
   "source": [
    "- Counting"
   ]
  },
  {
   "cell_type": "markdown",
   "id": "39a71929",
   "metadata": {
    "slideshow": {
     "slide_type": "fragment"
    }
   },
   "source": [
    "- Having a computer count for you"
   ]
  },
  {
   "cell_type": "markdown",
   "id": "3d08e9e5",
   "metadata": {
    "slideshow": {
     "slide_type": "fragment"
    }
   },
   "source": [
    "- Tables based on counting"
   ]
  },
  {
   "cell_type": "markdown",
   "id": "ccf88c3f",
   "metadata": {
    "slideshow": {
     "slide_type": "fragment"
    }
   },
   "source": [
    "- Normal approximation"
   ]
  },
  {
   "cell_type": "markdown",
   "id": "3d3ea2f3",
   "metadata": {
    "slideshow": {
     "slide_type": "subslide"
    }
   },
   "source": [
    "Consider a one-sided alternative hypothesis, that the $\\{{\\color{royalblue}{Y_j}}\\}$ are “stochastically larger”\n",
    "than the $\\{{\\color{royalblue}{X_i}}\\}$.\n",
    "$$H_1:\\quad P({\\color{royalblue}{Y_j}}{\\mathbin{>}}{\\color{royalblue}{X_i}}) > P({\\color{royalblue}{Y_j}}{\\mathbin{<}}{\\color{royalblue}{X_i}})$$"
   ]
  },
  {
   "cell_type": "markdown",
   "id": "a4a43101",
   "metadata": {
    "slideshow": {
     "slide_type": "fragment"
    }
   },
   "source": [
    "That would mean $H_1$ tells us to reject $H_0$ if $w_x$ is too low.  We found $w_x=19<\\frac{n(N+1)}{2}=25$.\n",
    "What is $P({\\color{royalblue}{W_x}}\\le 19|H_0)$?"
   ]
  },
  {
   "cell_type": "markdown",
   "id": "840759c9",
   "metadata": {
    "slideshow": {
     "slide_type": "fragment"
    }
   },
   "source": [
    "If $\\{{\\color{royalblue}{X_i}}\\}$ & $\\{{\\color{royalblue}{Y_j}}\\}$ drawn from same distribution, any set of $n=5$ $x$ ranks out of $N=9$ total is equally likely. There are\n",
    "$$\\binom{9}{5} = \\frac{9!}{5!4!}\n",
    "  = \\frac{9\\times8\\times7\\times6}{4\\times3\\times2\\times1}\n",
    "  = 126$$ possibilities.\n"
   ]
  },
  {
   "cell_type": "markdown",
   "id": "4bf9e19a",
   "metadata": {
    "slideshow": {
     "slide_type": "subslide"
    }
   },
   "source": [
    "If we tabulate the possible sets of ranks\n",
    "corresponding to each statistic value, we find\n",
    "<table border=\"1\">\n",
    "<tr><th>$U_x$</th><th>$W_x$</th><th>Ranks</th><th>Prob</th></tr>\n",
    "<tr><td>$0$</td><td>$15$</td><td>12345</td><td>$\\frac{1}{126}$</td></tr>\n",
    "<tr><td>$1$</td><td>$16$</td><td>12346</td><td>$\\frac{1}{126}$</td></tr>\n",
    "<tr><td>$2$</td><td>$17$</td><td>12347, 12356</td><td>$\\frac{2}{126}$</td></tr>\n",
    "<tr><td>$3$</td><td>$18$</td><td>12348, 12357, 12456</td><td>$\\frac{3}{126}$</td></tr>\n",
    "<tr><td>$4$</td><td>$19$</td><td>12349, 12358, 12367, 12457, 13456</td><td>$\\frac{5}{126}$</td></tr>\n",
    "</table>"
   ]
  },
  {
   "cell_type": "code",
   "execution_count": 18,
   "id": "39c3d362",
   "metadata": {
    "slideshow": {
     "slide_type": "fragment"
    }
   },
   "outputs": [
    {
     "data": {
      "text/plain": [
       "0.09523809523809523"
      ]
     },
     "execution_count": 18,
     "metadata": {},
     "output_type": "execute_result"
    }
   ],
   "source": [
    "(1+1+2+3+5)/126"
   ]
  },
  {
   "cell_type": "markdown",
   "id": "4631500e",
   "metadata": {
    "slideshow": {
     "slide_type": "fragment"
    }
   },
   "source": [
    "So there’s a $12/126\\approx9.5\\%$ chance of getting a $W$ statistic this\n",
    "low by chance if the null hypothesis is true and the samples are\n",
    "actually drawn from the same distribution, and a one-tailed test would\n",
    "reject $H_0$ at the $10\\%$ level but not the $5\\%$ level."
   ]
  },
  {
   "cell_type": "markdown",
   "id": "5deb9be2",
   "metadata": {
    "slideshow": {
     "slide_type": "subslide"
    }
   },
   "source": [
    "Null distribution of the Mann-Whitney $U$ statistic is tabulated in software (in R it's called `dwilcox`, `pwilcox` but it's $U$, not $W$).  For example:"
   ]
  },
  {
   "cell_type": "code",
   "execution_count": 19,
   "id": "0caecdd2",
   "metadata": {
    "slideshow": {
     "slide_type": "fragment"
    }
   },
   "outputs": [
    {
     "name": "stdout",
     "output_type": "stream",
     "text": [
      "The probability of U=4 (i.e., W=19) with m=4 and n=5 is 5/126=0.0396825\n",
      "The probability of U<=4 (i.e., W<=19) with m=4 and n=5 is 12/126=0.0952381\n"
     ]
    }
   ],
   "source": [
    "from wilcoxondists import mannwhitneypmf, mannwhitneycdf, mannwhitneyppf\n",
    "from scipy.special import comb as nchoosek\n",
    "print('The probability of U=%d (i.e., W=%d) with m=%d and n=%d is %d/%d=%g'\n",
    "     % (Ux,Wx,m,n,mannwhitneypmf(int(Ux),m,n)*nchoosek(N,n),nchoosek(N,n),mannwhitneypmf(int(Ux),m,n)))\n",
    "print('The probability of U<=%d (i.e., W<=%d) with m=%d and n=%d is %d/%d=%g'\n",
    "     % (Ux,Wx,m,n,mannwhitneycdf(int(Ux),m,n)*nchoosek(N,n),nchoosek(N,n),mannwhitneycdf(int(Ux),m,n)))"
   ]
  },
  {
   "cell_type": "code",
   "execution_count": 20,
   "id": "b5fcc9de",
   "metadata": {
    "slideshow": {
     "slide_type": "fragment"
    }
   },
   "outputs": [
    {
     "data": {
      "text/plain": [
       "0.03968253968253968"
      ]
     },
     "execution_count": 20,
     "metadata": {},
     "output_type": "execute_result"
    }
   ],
   "source": [
    "mannwhitneypmf(19-15,5,4)"
   ]
  },
  {
   "cell_type": "code",
   "execution_count": 21,
   "id": "765d9ed5",
   "metadata": {
    "slideshow": {
     "slide_type": "fragment"
    }
   },
   "outputs": [
    {
     "data": {
      "text/plain": [
       "5.0"
      ]
     },
     "execution_count": 21,
     "metadata": {},
     "output_type": "execute_result"
    }
   ],
   "source": [
    "126 * mannwhitneypmf(19-15,5,4)"
   ]
  },
  {
   "cell_type": "code",
   "execution_count": 22,
   "id": "835fb66e",
   "metadata": {
    "slideshow": {
     "slide_type": "fragment"
    }
   },
   "outputs": [
    {
     "data": {
      "text/plain": [
       "0.09523809523809523"
      ]
     },
     "execution_count": 22,
     "metadata": {},
     "output_type": "execute_result"
    }
   ],
   "source": [
    "mannwhitneycdf(19-15,5,4)"
   ]
  },
  {
   "cell_type": "code",
   "execution_count": 23,
   "id": "2a1e5a97",
   "metadata": {
    "slideshow": {
     "slide_type": "subslide"
    }
   },
   "outputs": [
    {
     "data": {
      "image/png": "[encoded data removed]",
      "text/plain": [
       "<Figure size 800x500 with 1 Axes>"
      ]
     },
     "metadata": {},
     "output_type": "display_data"
    }
   ],
   "source": [
    "U_u = np.arange(n*m+1)\n",
    "Upmf_u = mannwhitneypmf(U_u,n,m)\n",
    "plt.bar(U_u,Upmf_u,align='center');\n",
    "plt.xlabel(r'$U$');\n",
    "plt.ylabel(r'$p(U)$');plt.title(r'pmf of Mann-Whitney $U$ with $n=%d$, $m=%d$' % (n,m));\n",
    "plt.xlim(-1,n*m+1);plt.xticks(np.arange(0,n*m+1,2)); plt.grid();"
   ]
  },
  {
   "cell_type": "markdown",
   "id": "63bd906d",
   "metadata": {
    "slideshow": {
     "slide_type": "slide"
    }
   },
   "source": [
    "## Normal Approximation"
   ]
  },
  {
   "cell_type": "markdown",
   "id": "b5638466",
   "metadata": {
    "slideshow": {
     "slide_type": "subslide"
    }
   },
   "source": [
    "If $n$ & $m$ large, \n",
    "${\\color{royalblue}{W_x}}$ (or ${\\color{royalblue}{U_x}}$) is $\\approx$ normally distributed.\n",
    "- $E({\\color{royalblue}{W_x}})=\\frac{n(N+1)}{2}$ or $E({\\color{royalblue}{U_x}}) = \\frac{nm}{2}$ (also true if there are ties among the ranks)"
   ]
  },
  {
   "cell_type": "markdown",
   "id": "7135296c",
   "metadata": {
    "slideshow": {
     "slide_type": "fragment"
    }
   },
   "source": [
    "- Variance is trickier; note that \n",
    "$${\\color{royalblue}{W_x}} = \\sum_{i=1}^n {\\color{royalblue}{R_i}}$$ where\n",
    "${\\color{royalblue}{R_i}}$ is the rank (in the combined list) of\n",
    "${\\color{royalblue}{X_i}}$.  If there are no ties, $\\{{\\color{royalblue}{R_i}}\\}$ is a sample of\n",
    "size $n$ drawn **without replacement** from the integers $1,\\ldots,N$."
   ]
  },
  {
   "cell_type": "markdown",
   "id": "fda7bb58",
   "metadata": {
    "slideshow": {
     "slide_type": "fragment"
    }
   },
   "source": [
    "- Turns out (see Conover 1.4)\n",
    "$\\operatorname{Var}({\\color{royalblue}{R_i}})=\\frac{(N+1)(N-1)}{12}$ and\n",
    "$\\operatorname{Cov}({\\color{royalblue}{R_i}},{\\color{royalblue}{R_{i'}}})=-\\frac{(N+1)}{12}$\n",
    "($i\\ne i'$) so\n",
    "$$\n",
    "    \\operatorname{Var}({\\color{royalblue}{W_x}}) = n\\operatorname{Var}({\\color{royalblue}{R_i}}) + n(n-1)\\operatorname{Cov}({\\color{royalblue}{R_i}},{\\color{royalblue}{R_{i'}}})=\\frac{nm(N+1)}{12}$$"
   ]
  },
  {
   "cell_type": "markdown",
   "id": "fa42e380",
   "metadata": {
    "slideshow": {
     "slide_type": "fragment"
    }
   },
   "source": [
    "- $\\color{royalblue}{W_x}$, $\\color{royalblue}{W_y}$, $\\color{royalblue}{U_x}$, and $\\color{royalblue}{U_y}$ all have the same variance."
   ]
  },
  {
   "cell_type": "markdown",
   "id": "ed64c23b",
   "metadata": {
    "slideshow": {
     "slide_type": "subslide"
    }
   },
   "source": [
    "We can apply the normal approximation to the example at hand:"
   ]
  },
  {
   "cell_type": "code",
   "execution_count": 24,
   "id": "de5ee759",
   "metadata": {
    "slideshow": {
     "slide_type": "fragment"
    }
   },
   "outputs": [
    {
     "name": "stdout",
     "output_type": "stream",
     "text": [
      "For n=5, m=4, E(W)=25, V(W)=16.6667, sigma=4.08248\n"
     ]
    }
   ],
   "source": [
    "mu = n*(N+1)//2; sigma = np.sqrt(n*m*(N+1)/12.)\n",
    "print(\"For n=%d, m=%d, E(W)=%g, V(W)=%g, sigma=%g\"%(n,m,mu,sigma**2,sigma))"
   ]
  },
  {
   "cell_type": "code",
   "execution_count": 25,
   "id": "9467def1",
   "metadata": {
    "slideshow": {
     "slide_type": "fragment"
    }
   },
   "outputs": [
    {
     "name": "stdout",
     "output_type": "stream",
     "text": [
      "W=19, z=-1.46969, P(Z<z)=0.0708223\n"
     ]
    }
   ],
   "source": [
    "z = (Wx - mu)/sigma\n",
    "print(\"W=%g, z=%g, P(Z<z)=%g\"%(Wx,z,stats.norm.cdf(z)))"
   ]
  },
  {
   "cell_type": "markdown",
   "id": "22b2592a",
   "metadata": {
    "slideshow": {
     "slide_type": "fragment"
    }
   },
   "source": [
    "Since the $p$-value is\n",
    "$P({\\color{royalblue}{W}}{\\mathbin{\\le}}19|H_0)=P({\\color{royalblue}{W}}{\\mathbin{\\le}}19.5|H_0)$,\n",
    "we could include a continuity correction:"
   ]
  },
  {
   "cell_type": "code",
   "execution_count": 26,
   "id": "31b9bc00",
   "metadata": {
    "slideshow": {
     "slide_type": "fragment"
    }
   },
   "outputs": [
    {
     "data": {
      "text/plain": [
       "0.08895479749349122"
      ]
     },
     "execution_count": 26,
     "metadata": {},
     "output_type": "execute_result"
    }
   ],
   "source": [
    "stats.norm.cdf((Wx + 0.5 - mu)/sigma)"
   ]
  },
  {
   "cell_type": "markdown",
   "id": "0d96ac08",
   "metadata": {
    "slideshow": {
     "slide_type": "fragment"
    }
   },
   "source": [
    "We can compare this approximate $p$-value of $8.9\\%$ to the exact value\n",
    "of $9.5\\%$ calculated above."
   ]
  },
  {
   "cell_type": "markdown",
   "id": "78b2f219",
   "metadata": {
    "slideshow": {
     "slide_type": "slide"
    }
   },
   "source": [
    "### Correcting for Ties"
   ]
  },
  {
   "cell_type": "markdown",
   "id": "1c9c8f8a",
   "metadata": {
    "slideshow": {
     "slide_type": "subslide"
    }
   },
   "source": [
    "If any values are exactly equal, have to modify the procedure.  E.g.,"
   ]
  },
  {
   "cell_type": "code",
   "execution_count": 27,
   "id": "6ab770ae",
   "metadata": {
    "slideshow": {
     "slide_type": "fragment"
    }
   },
   "outputs": [
    {
     "data": {
      "text/plain": [
       "array([ 8,  5, 48,  1,  1, 15,  8, 28, 13])"
      ]
     },
     "execution_count": 27,
     "metadata": {},
     "output_type": "execute_result"
    }
   ],
   "source": [
    "newx_i = np.array([8, 5, 48, 1, 1]); newy_j = np.array([15, 8, 28, 13])\n",
    "newxy_r = np.concatenate([newx_i,newy_j]); newxy_r"
   ]
  },
  {
   "cell_type": "code",
   "execution_count": 28,
   "id": "6c8069c7",
   "metadata": {
    "slideshow": {
     "slide_type": "fragment"
    }
   },
   "outputs": [
    {
     "data": {
      "text/plain": [
       "array([4.5, 3. , 9. , 1.5, 1.5, 7. , 4.5, 8. , 6. ])"
      ]
     },
     "execution_count": 28,
     "metadata": {},
     "output_type": "execute_result"
    }
   ],
   "source": [
    "newranks_r = stats.rankdata(newxy_r); newranks_r"
   ]
  },
  {
   "cell_type": "code",
   "execution_count": 29,
   "id": "9ee546e4",
   "metadata": {
    "slideshow": {
     "slide_type": "fragment"
    }
   },
   "outputs": [
    {
     "data": {
      "text/plain": [
       "array([4.5, 3. , 9. , 1.5, 1.5])"
      ]
     },
     "execution_count": 29,
     "metadata": {},
     "output_type": "execute_result"
    }
   ],
   "source": [
    "newxranks_i = newranks_r[xflags_r]; newxranks_i"
   ]
  },
  {
   "cell_type": "code",
   "execution_count": 30,
   "id": "1ca1dcd5",
   "metadata": {
    "slideshow": {
     "slide_type": "fragment"
    }
   },
   "outputs": [
    {
     "data": {
      "text/plain": [
       "(19.5, 4.5, 19.5)"
      ]
     },
     "execution_count": 30,
     "metadata": {},
     "output_type": "execute_result"
    }
   ],
   "source": [
    "newWx = np.sum(newxranks_i); newUx = np.sum(newx_i[None,:] > y_j[:,None]) + 0.5*np.sum(newx_i[None,:] == newy_j[:,None])\n",
    "newWx, newUx, newUx + n*(n+1)//2"
   ]
  },
  {
   "cell_type": "markdown",
   "id": "e33cc8d7",
   "metadata": {
    "slideshow": {
     "slide_type": "fragment"
    }
   },
   "source": [
    "Have to use normal approx, but the variance is different because ranks not chosen from $1,2,\\ldots,N$."
   ]
  },
  {
   "cell_type": "markdown",
   "id": "c2501ee8",
   "metadata": {
    "slideshow": {
     "slide_type": "subslide"
    }
   },
   "source": [
    "Even with ties, the sum of the ranks is $\\sum_{r=1}^N R_r=N\\left(\\frac{N+1}{2}\\right)$"
   ]
  },
  {
   "cell_type": "code",
   "execution_count": 31,
   "id": "5ad28319",
   "metadata": {
    "slideshow": {
     "slide_type": "fragment"
    }
   },
   "outputs": [
    {
     "data": {
      "text/plain": [
       "(45.0, 45)"
      ]
     },
     "execution_count": 31,
     "metadata": {},
     "output_type": "execute_result"
    }
   ],
   "source": [
    "np.sum(newranks_r), N*(N+1)//2"
   ]
  },
  {
   "cell_type": "markdown",
   "id": "6fdb63bf",
   "metadata": {
    "slideshow": {
     "slide_type": "subslide"
    }
   },
   "source": [
    "The variance is reduced; lots of equivalent formulas, such as the following in Conover:\n",
    "$$\\operatorname{Var}({\\color{royalblue}{W_x}})\n",
    "=\\frac{nm}{N(N-1)}\\sum_{r=1}^N\n",
    "  \\left(\n",
    "  R_r - \\frac{N+1}{2}\n",
    "  \\right)^2\n",
    "=\\frac{nm}{N(N-1)}\\sum_{r=1}^N {R_r}^2\n",
    "-\\frac{nm(N+1)^2}{4(N-1)}\n",
    "$$\n",
    "The former is more intuitive (rank minus average rank squared is the variance), but the latter is better computationally."
   ]
  },
  {
   "cell_type": "code",
   "execution_count": 32,
   "id": "66170b90",
   "metadata": {
    "slideshow": {
     "slide_type": "fragment"
    }
   },
   "outputs": [
    {
     "data": {
      "text/plain": [
       "(16.38888888888889, 16.388888888888886)"
      ]
     },
     "execution_count": 32,
     "metadata": {},
     "output_type": "execute_result"
    }
   ],
   "source": [
    "n*m/(N*(N-1))*np.sum((newranks_r-(N+1)/2)**2), n*m/(N*(N-1))*np.sum(newranks_r**2)-n*m*(N+1)**2/(4*(N-1))"
   ]
  },
  {
   "cell_type": "markdown",
   "id": "5b6bdb67",
   "metadata": {
    "slideshow": {
     "slide_type": "fragment"
    }
   },
   "source": [
    "You can check that, when there are no ties and $\\sum_{r=1}^N {R_r}^2$ is equal to $\\frac{N(N+1)(2N+1)}{6}$, this reduces to the simpler no-tie formula.  E.g., for our original data:"
   ]
  },
  {
   "cell_type": "code",
   "execution_count": 33,
   "id": "22622589",
   "metadata": {
    "slideshow": {
     "slide_type": "fragment"
    }
   },
   "outputs": [
    {
     "data": {
      "text/plain": [
       "(16.666666666666668, 16.66666666666667, 16.666666666666668)"
      ]
     },
     "execution_count": 33,
     "metadata": {},
     "output_type": "execute_result"
    }
   ],
   "source": [
    "n*m/(N*(N-1))*np.sum((ranks_r-(N+1)/2)**2), n*m/(N*(N-1))*np.sum(ranks_r**2)-n*m*(N+1)**2/(4*(N-1)), n*m*(N+1)/12."
   ]
  },
  {
   "cell_type": "markdown",
   "id": "4ccf9a6e",
   "metadata": {
    "slideshow": {
     "slide_type": "subslide"
    }
   },
   "source": [
    "There is an alternate formula which often appears:\n",
    "$$\\operatorname{Var}({\\color{royalblue}{W_x}}) = \\frac{nm}{12}\n",
    "  \\left(\n",
    "    (N+1) - \\sum_i \\frac{\\tau_i^3-\\tau_i}{N(N-1)}\n",
    "  \\right)$$ where $\\tau_i$ is the number of values included in the $i$th\n",
    "tie."
   ]
  },
  {
   "cell_type": "code",
   "execution_count": 34,
   "id": "1cf0375f",
   "metadata": {
    "slideshow": {
     "slide_type": "fragment"
    }
   },
   "outputs": [
    {
     "data": {
      "text/plain": [
       "array([1.5, 1.5, 3. , 4.5, 4.5, 6. , 7. , 8. , 9. ])"
      ]
     },
     "execution_count": 34,
     "metadata": {},
     "output_type": "execute_result"
    }
   ],
   "source": [
    "np.sort(newranks_r)"
   ]
  },
  {
   "cell_type": "code",
   "execution_count": 35,
   "id": "5e4385c9",
   "metadata": {
    "slideshow": {
     "slide_type": "fragment"
    }
   },
   "outputs": [
    {
     "data": {
      "text/plain": [
       "16.38888888888889"
      ]
     },
     "execution_count": 35,
     "metadata": {},
     "output_type": "execute_result"
    }
   ],
   "source": [
    "n*m/12. * (N+1 - (2**3-2)/(N*(N-1)) - (2**3-2)/(N*(N-1)))"
   ]
  },
  {
   "cell_type": "markdown",
   "id": "0b608066",
   "metadata": {
    "slideshow": {
     "slide_type": "fragment"
    }
   },
   "source": [
    "This formula may simplify things on paper as opposed to on the computer"
   ]
  },
  {
   "cell_type": "markdown",
   "id": "f7b72329",
   "metadata": {
    "slideshow": {
     "slide_type": "slide"
    }
   },
   "source": [
    "## Rank-Sum Intervals"
   ]
  },
  {
   "cell_type": "markdown",
   "id": "bbdd3a8f",
   "metadata": {
    "slideshow": {
     "slide_type": "subslide"
    }
   },
   "source": [
    "As with the signed-rank statistic, we can use the rank-sum test to\n",
    "produce a confidence interval for the offset between the distributions\n",
    "or populations from which the $\\{{\\color{royalblue}{X_i}}\\}$ and\n",
    "$\\{{\\color{royalblue}{Y_j}}\\}$ are drawn."
   ]
  },
  {
   "cell_type": "markdown",
   "id": "d985fdd2",
   "metadata": {
    "slideshow": {
     "slide_type": "fragment"
    }
   },
   "source": [
    "We can consider a rank-sum test of\n",
    "the null hypothesis\n",
    "$$H_0: P({\\color{royalblue}{X}}-\\theta{\\mathbin{>}}{\\color{royalblue}{Y}})=P({\\color{royalblue}{X}}-\\theta{\\mathbin{<}}{\\color{royalblue}{Y}})$$\n",
    "and ask for what values of $\\theta$ this would not be rejected at\n",
    "significance $\\alpha$, to get a $1-\\alpha$ confidence interval"
   ]
  },
  {
   "cell_type": "markdown",
   "id": "e4eeed96",
   "metadata": {
    "slideshow": {
     "slide_type": "fragment"
    }
   },
   "source": [
    "This is easiest to describe in terms of the Mann-Whitney $U$,\n",
    "the number of $i$,$j$ pairs for which $$x_i-\\theta > y_j$$"
   ]
  },
  {
   "cell_type": "markdown",
   "id": "150165e1",
   "metadata": {
    "slideshow": {
     "slide_type": "fragment"
    }
   },
   "source": [
    "Following the\n",
    "same argument we used in the signed-rank case, the statistic will change\n",
    "every time $\\theta=x_i-y_j$ for some $i$ and $j$, so the procedure says\n",
    "to rank the $nm$ differences $x_i-y_j$ and set an interval using these\n",
    "differences."
   ]
  },
  {
   "cell_type": "markdown",
   "id": "d8ed9bda",
   "metadata": {
    "slideshow": {
     "slide_type": "subslide"
    }
   },
   "source": [
    "Using our example data, supposing we want a 90% confidence interval on\n",
    "the location difference between the $x$ and $y$ populations. We start by\n",
    "finding the 5th percentile of the Mann-Whitney $U$ distribution:"
   ]
  },
  {
   "cell_type": "code",
   "execution_count": 36,
   "id": "9c9294ad",
   "metadata": {
    "slideshow": {
     "slide_type": "fragment"
    }
   },
   "outputs": [
    {
     "data": {
      "text/plain": [
       "3"
      ]
     },
     "execution_count": 36,
     "metadata": {},
     "output_type": "execute_result"
    }
   ],
   "source": [
    "mannwhitneyppf(0.05,5,4)"
   ]
  },
  {
   "cell_type": "code",
   "execution_count": 37,
   "id": "ac4c9710",
   "metadata": {
    "slideshow": {
     "slide_type": "fragment"
    }
   },
   "outputs": [
    {
     "name": "stdout",
     "output_type": "stream",
     "text": [
      "P(U<=3)=0.0555556 and P(U<=2)=0.031746\n"
     ]
    }
   ],
   "source": [
    "print(\"P(U<=3)=%g and P(U<=2)=%g\" % (mannwhitneycdf(3,5,4),mannwhitneycdf(2,5,4)))"
   ]
  },
  {
   "cell_type": "markdown",
   "id": "8ccbf9f0",
   "metadata": {
    "slideshow": {
     "slide_type": "fragment"
    }
   },
   "source": [
    "So we see that\n",
    "$$P(2{\\mathbin{<}}{\\color{royalblue}{U_x}}{\\mathbin{<}}18) = 1-\\frac{8}{126} \\approx 93.7\\%$$"
   ]
  },
  {
   "cell_type": "markdown",
   "id": "4ac72577",
   "metadata": {
    "slideshow": {
     "slide_type": "subslide"
    }
   },
   "source": [
    "We collect and sort the differences $x_i-y_j$, of which there are\n",
    "$nm=20$, which also makes sense, since the Mann-Whitney statistic can be\n",
    "between $0$ and $20$:"
   ]
  },
  {
   "cell_type": "code",
   "execution_count": 38,
   "id": "6c7edf5c",
   "metadata": {
    "slideshow": {
     "slide_type": "fragment"
    }
   },
   "outputs": [
    {
     "data": {
      "text/plain": [
       "array([[-10.99, -12.59, -13.69, -26.69],\n",
       "       [ -7.48,  -9.08, -10.18, -23.18],\n",
       "       [ -7.27,  -8.87,  -9.97, -22.97],\n",
       "       [ -3.74,  -5.34,  -6.44, -19.44],\n",
       "       [ 35.8 ,  34.2 ,  33.1 ,  20.1 ]])"
      ]
     },
     "execution_count": 38,
     "metadata": {},
     "output_type": "execute_result"
    }
   ],
   "source": [
    "diff_ij = np.sort(x_i)[:,None]-np.sort(y_j)[None,:]; diff_ij"
   ]
  },
  {
   "cell_type": "code",
   "execution_count": 39,
   "id": "db3fa1e1",
   "metadata": {
    "slideshow": {
     "slide_type": "fragment"
    }
   },
   "outputs": [
    {
     "data": {
      "text/plain": [
       "array([-26.69, -23.18, -22.97, -19.44, -13.69, -12.59, -10.99, -10.18,\n",
       "        -9.97,  -9.08,  -8.87,  -7.48,  -7.27,  -6.44,  -5.34,  -3.74,\n",
       "        20.1 ,  33.1 ,  34.2 ,  35.8 ])"
      ]
     },
     "execution_count": 39,
     "metadata": {},
     "output_type": "execute_result"
    }
   ],
   "source": [
    "from matplotlib.cbook import flatten\n",
    "sorteddiff_v = np.sort(list(flatten(diff_ij))); sorteddiff_v"
   ]
  },
  {
   "cell_type": "code",
   "execution_count": 40,
   "id": "e5d020b4",
   "metadata": {
    "slideshow": {
     "slide_type": "subslide"
    }
   },
   "outputs": [
    {
     "data": {
      "text/plain": [
       "array([-26.69, -23.18, -22.97, -19.44, -13.69, -12.59, -10.99, -10.18,\n",
       "        -9.97,  -9.08,  -8.87,  -7.48,  -7.27,  -6.44,  -5.34,  -3.74,\n",
       "        20.1 ,  33.1 ,  34.2 ,  35.8 ])"
      ]
     },
     "execution_count": 40,
     "metadata": {},
     "output_type": "execute_result"
    }
   ],
   "source": [
    "sorteddiff_v"
   ]
  },
  {
   "cell_type": "markdown",
   "id": "aa2ddeda",
   "metadata": {
    "slideshow": {
     "slide_type": "fragment"
    }
   },
   "source": [
    "If $\\theta<-26.69$, $u_{x-\\theta}=0$; if $-26.69<\\theta<-23.18$, $u_{x-\\theta}=1$; if $-23.18<\\theta<-22.97$, $u_{x-\\theta}=2$."
   ]
  },
  {
   "cell_type": "markdown",
   "id": "e5240e46",
   "metadata": {
    "slideshow": {
     "slide_type": "fragment"
    }
   },
   "source": [
    "If $35.8<\\theta$, $u_{x-\\theta}=20$; if $34.2<\\theta<35.8$, $u_{x-\\theta}=19$; if $33.1<\\theta<-34.2$, $u_{x-\\theta}=18$"
   ]
  },
  {
   "cell_type": "markdown",
   "id": "df687d79",
   "metadata": {
    "slideshow": {
     "slide_type": "fragment"
    }
   },
   "source": [
    "So the range of $\\theta$ values for which $2{\\mathbin{<}}u_{x-\\theta}{\\mathbin{<}}18$ is:"
   ]
  },
  {
   "cell_type": "code",
   "execution_count": 41,
   "id": "0b511bed",
   "metadata": {
    "slideshow": {
     "slide_type": "fragment"
    }
   },
   "outputs": [
    {
     "data": {
      "text/plain": [
       "(-22.97, 33.1)"
      ]
     },
     "execution_count": 41,
     "metadata": {},
     "output_type": "execute_result"
    }
   ],
   "source": [
    "(sorteddiff_v[2],sorteddiff_v[-2-1])"
   ]
  },
  {
   "cell_type": "markdown",
   "id": "4fb236c3",
   "metadata": {
    "slideshow": {
     "slide_type": "fragment"
    }
   },
   "source": [
    "And this is our 90% (actually 93.7%) confidence interval."
   ]
  },
  {
   "cell_type": "code",
   "execution_count": null,
   "id": "5fbf1ebf-a80f-44de-b8af-15f64952b8be",
   "metadata": {},
   "outputs": [],
   "source": []
  }
 ],
 "metadata": {
  "celltoolbar": "Slideshow",
  "kernelspec": {
   "display_name": "Python 3 (ipykernel)",
   "language": "python",
   "name": "python3"
  },
  "language_info": {
   "codemirror_mode": {
    "name": "ipython",
    "version": 3
   },
   "file_extension": ".py",
   "mimetype": "text/x-python",
   "name": "python",
   "nbconvert_exporter": "python",
   "pygments_lexer": "ipython3",
   "version": "3.9.7"
  }
 },
 "nbformat": 4,
 "nbformat_minor": 5
}
