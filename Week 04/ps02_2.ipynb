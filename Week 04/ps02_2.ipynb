{
 "cells": [
  {
   "cell_type": "markdown",
   "metadata": {},
   "source": [
    "# Problem Set 2, Part Two: Due Tuesday, February 4 by 8am Eastern Standard Time"
   ]
  },
  {
   "cell_type": "markdown",
   "metadata": {},
   "source": [
    "## Name:"
   ]
  },
  {
   "cell_type": "markdown",
   "metadata": {},
   "source": [
    "**Show your work on all problems!** Be sure to give credit to any\n",
    "collaborators, or outside sources used in solving the problems. Note\n",
    "that if using an outside source to do a calculation, you should use it\n",
    "as a reference for the method, and actually carry out the calculation\n",
    "yourself; it’s not sufficient to quote the results of a calculation\n",
    "contained in an outside source."
   ]
  },
  {
   "cell_type": "markdown",
   "metadata": {},
   "source": [
    "Fill in your solutions in the notebook below, inserting markdown and/or code cells as needed.  Try to do reasonably well with the typesetting, but don't feel compelled to replicate my formatting exactly.  **You do NOT need to make random variables blue!**"
   ]
  },
  {
   "cell_type": "code",
   "execution_count": null,
   "metadata": {},
   "outputs": [],
   "source": [
    "%matplotlib inline"
   ]
  },
  {
   "cell_type": "code",
   "execution_count": null,
   "metadata": {},
   "outputs": [],
   "source": [
    "import numpy as np\n",
    "from scipy import stats\n",
    "import matplotlib.pyplot as plt\n",
    "plt.rcParams['figure.figsize'] = (8.0,5.0)\n",
    "plt.rcParams['font.size'] = 14"
   ]
  },
  {
   "cell_type": "markdown",
   "metadata": {},
   "source": [
    "### Bonus for Correct Filename"
   ]
  },
  {
   "cell_type": "markdown",
   "metadata": {},
   "source": [
    "Your submitted version of the notebook should have a filename `ps02_2_lastname.ipynb` where `lastname` should be replaced by your last name, in all lowercase letters.  You'll get a bonus point here if this was done correctly."
   ]
  },
  {
   "cell_type": "markdown",
   "metadata": {},
   "source": [
    "### Estimating the Power Curve for a Two-Tailed $t$-test"
   ]
  },
  {
   "cell_type": "markdown",
   "metadata": {},
   "source": [
    "Consider a sample of size $n=40$ drawn from a normal distribution of\n",
    "mean $\\mu$ and variance $\\sigma^2$. A two-tailed $t$ test of\n",
    "significance $\\alpha=.09$ rejects the null hypothesis $H_0$: $\\mu=0$ in\n",
    "favor of the alternative hypothesis $\\mu\\ne 0$ when\n",
    "$${\\left\\lvert\\frac{{{\\overline{x}}}}{s/\\sqrt{n}}\\right\\rvert} \\ge t_{n-1,0.955}$$\n",
    "Determine the power curve when the sampling distribution is normal\n",
    "numerically as follows."
   ]
  },
  {
   "cell_type": "markdown",
   "metadata": {},
   "source": [
    "**(a)**  Generate $N=10^4$ samples of $n=40$ points each from a standard\n",
    "    normal distribution $N(0,1)$ as in last week’s problem set, and\n",
    "    determine the sample mean and sample standard deviation of each\n",
    "    (which should be stored in $N$-point vectors `xbar_I` and `s_I`)."
   ]
  },
  {
   "cell_type": "code",
   "execution_count": null,
   "metadata": {},
   "outputs": [],
   "source": []
  },
  {
   "cell_type": "markdown",
   "metadata": {},
   "source": [
    "**(b)** Create a vector of $\\mu$ values with"
   ]
  },
  {
   "cell_type": "code",
   "execution_count": null,
   "metadata": {},
   "outputs": [],
   "source": [
    "mu_m = np.linspace(-1,1,101)"
   ]
  },
  {
   "cell_type": "markdown",
   "metadata": {},
   "source": [
    "**(c)**  Explain why we can use a sample drawn from $N(0,1)$ as a “stand-in”\n",
    "    for sample drawn from $N(\\mu,1)$ by making the transformation\n",
    "    ${{\\overline{x}}}\\rightarrow{{\\overline{x}}}+\\mu$ and\n",
    "    $s\\rightarrow s$.  (We sketched out the $\\overline{x}$ transformation in lesson 02.1, but be sure to explain the $s$ transformation.) This means we won’t have to re-generate ten\n",
    "    thousand $40$-point samples for each value of $\\mu$; we can just\n",
    "    adjust the ten thousand ${{\\overline{x}}}$ and $s$ values and use those\n",
    "    to construct the test statistic."
   ]
  },
  {
   "cell_type": "markdown",
   "metadata": {},
   "source": []
  },
  {
   "cell_type": "markdown",
   "metadata": {},
   "source": [
    "**(d)**  Produce a $101\\times 10^4$ array of $t=\\frac{{{\\overline{x}}}}{s/\\sqrt{n}}$ values using vectorization with:"
   ]
  },
  {
   "cell_type": "code",
   "execution_count": null,
   "metadata": {},
   "outputs": [],
   "source": [
    "t_mI = (mu_m[:,None] + xbar_I[None,:]) / (s_I[None,:]/np.sqrt(n))"
   ]
  },
  {
   "cell_type": "markdown",
   "metadata": {},
   "source": [
    "(This command will only work if you've defined `n` and constructed `xbar_I` and `s_I` correctly above.)"
   ]
  },
  {
   "cell_type": "markdown",
   "metadata": {},
   "source": [
    "**(e)**  For each of the 101 $\\mu$ values, find the fraction of $t$ scores\n",
    "    which lie in the critical region\n",
    "    ${\\left\\lvert t\\right\\rvert}\\ge t_{n-1,0.955}$, using a construction like (you'll have to use the appropriate command to define `tcrit` to be $t_{n-1,0.955}$)"
   ]
  },
  {
   "cell_type": "code",
   "execution_count": null,
   "metadata": {},
   "outputs": [],
   "source": [
    "gamma_m = np.mean(np.abs(t_mI) >= tcrit,axis=-1)"
   ]
  },
  {
   "cell_type": "markdown",
   "metadata": {},
   "source": [
    "**(f)**  Plot $\\gamma(\\mu)$ versus $\\mu$, and verify that $\\gamma(0)=\\alpha$."
   ]
  },
  {
   "cell_type": "code",
   "execution_count": null,
   "metadata": {},
   "outputs": [],
   "source": []
  },
  {
   "cell_type": "markdown",
   "metadata": {},
   "source": [
    "## Confidence Interval for Proportion"
   ]
  },
  {
   "cell_type": "markdown",
   "metadata": {},
   "source": [
    "Consider the Clopper-Pearson confidence interval for population\n",
    "proportion, as tabulated in Table A4 of Conover and calculated by"
   ]
  },
  {
   "cell_type": "code",
   "execution_count": null,
   "metadata": {},
   "outputs": [],
   "source": [
    "def ClopperPearsonCI(CL,n,x):\n",
    "    tailprob = 0.5*(1.-CL)\n",
    "    lower = stats.beta.ppf(tailprob,x,n-x+1)\n",
    "    upper = stats.beta.isf(tailprob,x+1,n-x)\n",
    "    lowernan = np.isnan(lower)\n",
    "    if isinstance(lowernan,np.ndarray):\n",
    "        lower[lowernan] = 0.\n",
    "    elif lowernan:\n",
    "        lower = 0.\n",
    "    uppernan = np.isnan(upper)\n",
    "    if isinstance(uppernan,np.ndarray):\n",
    "        upper[uppernan] = 1.\n",
    "    elif uppernan:\n",
    "        upper = 1.\n",
    "        \n",
    "    return (lower,upper)"
   ]
  },
  {
   "cell_type": "markdown",
   "metadata": {},
   "source": [
    "The second half of the function, with all of the `if` statements, is to make sure that the function behaves correctly if one of the ends of the confidence interval is $0$ or $1$. "
   ]
  },
  {
   "cell_type": "markdown",
   "metadata": {},
   "source": [
    "**(a)**  Suppose we have a binomial experiment with $n=30$ trials. For what\n",
    "    values of $x$, the number of successes, does the 90% confidence\n",
    "    interval contain $p=0.20$?"
   ]
  },
  {
   "cell_type": "code",
   "execution_count": null,
   "metadata": {},
   "outputs": [],
   "source": []
  },
  {
   "cell_type": "markdown",
   "metadata": {},
   "source": [
    "**(b)** Suppose that the true value of $p$ is in fact $0.20$.  What is the total probability that the observed value of $x$ will be one of those listed in part (a)?"
   ]
  },
  {
   "cell_type": "code",
   "execution_count": null,
   "metadata": {},
   "outputs": [],
   "source": []
  },
  {
   "cell_type": "markdown",
   "metadata": {},
   "source": [
    "Compare this actual confidence level to the requested confidence level of 90%."
   ]
  },
  {
   "cell_type": "markdown",
   "metadata": {},
   "source": []
  },
  {
   "cell_type": "markdown",
   "metadata": {},
   "source": [
    "**(c)**  Repeat the calculation in parts (a) and (b) for a confidence level of 97% and a true\n",
    "    proportion of $p=0.35$. (You’ll have to use software for this, since\n",
    "    these values are not in the tables.)"
   ]
  },
  {
   "cell_type": "code",
   "execution_count": null,
   "metadata": {},
   "outputs": [],
   "source": []
  }
 ],
 "metadata": {
  "kernelspec": {
   "display_name": "Python 3 (ipykernel)",
   "language": "python",
   "name": "python3"
  },
  "language_info": {
   "codemirror_mode": {
    "name": "ipython",
    "version": 3
   },
   "file_extension": ".py",
   "mimetype": "text/x-python",
   "name": "python",
   "nbconvert_exporter": "python",
   "pygments_lexer": "ipython3",
   "version": "3.11.0"
  }
 },
 "nbformat": 4,
 "nbformat_minor": 2
}
