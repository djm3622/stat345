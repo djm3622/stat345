{
 "cells": [
  {
   "cell_type": "markdown",
   "metadata": {},
   "source": [
    "# Problem Set 3, Part One: Due Thursday, February 6 by 8am Eastern Standard Time"
   ]
  },
  {
   "cell_type": "markdown",
   "metadata": {},
   "source": [
    "## Name: David Millard"
   ]
  },
  {
   "cell_type": "markdown",
   "metadata": {},
   "source": [
    "**Show your work on all problems!** Be sure to give credit to any\n",
    "collaborators, or outside sources used in solving the problems. Note\n",
    "that if using an outside source to do a calculation, you should use it\n",
    "as a reference for the method, and actually carry out the calculation\n",
    "yourself; it’s not sufficient to quote the results of a calculation\n",
    "contained in an outside source."
   ]
  },
  {
   "cell_type": "markdown",
   "metadata": {},
   "source": [
    "Fill in your solutions in the notebook below, inserting markdown and/or code cells as needed.  Try to do reasonably well with the typesetting, but don't feel compelled to replicate my formatting exactly.  **You do NOT need to make random variables blue!**"
   ]
  },
  {
   "cell_type": "code",
   "execution_count": 1,
   "metadata": {},
   "outputs": [],
   "source": [
    "%matplotlib inline"
   ]
  },
  {
   "cell_type": "code",
   "execution_count": 2,
   "metadata": {},
   "outputs": [],
   "source": [
    "import numpy as np\n",
    "from scipy import stats\n",
    "import matplotlib.pyplot as plt\n",
    "plt.rcParams['figure.figsize'] = (8.0,5.0)\n",
    "plt.rcParams['font.size'] = 14"
   ]
  },
  {
   "cell_type": "markdown",
   "metadata": {},
   "source": [
    "### Conover Problems on Quantile Tests"
   ]
  },
  {
   "cell_type": "markdown",
   "metadata": {},
   "source": [
    "#### Exercise 3.2.1:"
   ]
  },
  {
   "cell_type": "markdown",
   "metadata": {},
   "source": [
    "A random sample of tenth-grade boys resulted in the following $20$\n",
    "observed weights.\n",
    "<table>\n",
    "    <tr>\n",
    "  <td>$142$</td><td>$134$</td><td> $98$</td><td>$119$</td><td>$131$</td>\n",
    "    </tr>\n",
    "    <tr>\n",
    "  <td>$103$</td><td>$154$</td><td>$122$</td><td> $93$</td><td>$137$</td>\n",
    "    </tr>\n",
    "    <tr>\n",
    "  <td> $86$</td><td>$119$</td><td>$161$</td><td>$144$</td><td>$158$</td>\n",
    "    </tr>\n",
    "    <tr>\n",
    "  <td>$165$</td><td> $81$</td><td>$117$</td><td>$128$</td><td>$103$</td>\n",
    "    </tr>\n",
    "</table>\n",
    "Test the hypothesis that the median weight is $103$. [Give a $p$-value.]"
   ]
  },
  {
   "cell_type": "markdown",
   "metadata": {},
   "source": [
    "$H_0: P(X < 103) = 0.5$"
   ]
  },
  {
   "cell_type": "code",
   "execution_count": 3,
   "metadata": {},
   "outputs": [
    {
     "name": "stdout",
     "output_type": "stream",
     "text": [
      "6 20\n"
     ]
    }
   ],
   "source": [
    "x_i = np.array([142, 134, 98, 119, 131, 103, 154, 122, 93, 137, 86, 119, 161, 144, 158, 165, 81, 117, 128, 103])\n",
    "n = x_i.shape[0]\n",
    "\n",
    "pstar = 0.5; xstar = 103\n",
    "teststat = np.sum(x_i <= xstar); \n",
    "print(teststat, n)"
   ]
  },
  {
   "cell_type": "markdown",
   "metadata": {},
   "source": [
    "$T \\sim Bin(20,0.5)$"
   ]
  },
  {
   "cell_type": "code",
   "execution_count": 4,
   "metadata": {},
   "outputs": [
    {
     "name": "stdout",
     "output_type": "stream",
     "text": [
      "0.036964416503906236\n"
     ]
    }
   ],
   "source": [
    "alpha = stats.binom.pmf(teststat, n, pstar)\n",
    "\n",
    "print(alpha)"
   ]
  },
  {
   "cell_type": "markdown",
   "metadata": {},
   "source": [
    "$\\alpha = 0.0369$"
   ]
  },
  {
   "cell_type": "markdown",
   "metadata": {},
   "source": [
    "#### Exercise 3.2.4:"
   ]
  },
  {
   "cell_type": "markdown",
   "metadata": {},
   "source": [
    "In Exercise 3.2.1 find an approximate 90% confidence interval for the\n",
    "median."
   ]
  },
  {
   "cell_type": "code",
   "execution_count": 5,
   "metadata": {},
   "outputs": [
    {
     "name": "stdout",
     "output_type": "stream",
     "text": [
      "6 15\n",
      "[103 117 119 119 122 128 131 134 137 142]\n",
      "0.9586105346679688\n"
     ]
    }
   ],
   "source": [
    "x_i.sort()\n",
    "\n",
    "pstar = 0.5\n",
    "ci = 0.90\n",
    "mydist = stats.binom(n, pstar)\n",
    "\n",
    "r, sm1 = mydist.interval(ci)\n",
    "r = int(r); s = int(sm1) + 1\n",
    "\n",
    "print(r, s)\n",
    "print(x_i[r-1:s])\n",
    "print(mydist.cdf(s-1) - mydist.cdf(r-1))"
   ]
  },
  {
   "cell_type": "markdown",
   "metadata": {},
   "source": [
    "$CI = [103, 142]$"
   ]
  },
  {
   "cell_type": "code",
   "execution_count": 6,
   "metadata": {},
   "outputs": [
    {
     "data": {
      "image/png": "[encoded data removed]",
      "text/plain": [
       "<Figure size 800x500 with 1 Axes>"
      ]
     },
     "metadata": {},
     "output_type": "display_data"
    }
   ],
   "source": [
    "plt.plot(x_i, 'bo-') \n",
    "plt.axvspan(r-1, s-1, color='yellow', alpha=0.3)\n",
    "\n",
    "plt.grid(True);"
   ]
  },
  {
   "cell_type": "markdown",
   "metadata": {},
   "source": [
    "What is the exact confidence coefficient?"
   ]
  },
  {
   "cell_type": "markdown",
   "metadata": {},
   "source": [
    "$Pr(r \\leq x_{0.5} \\leq s) \\approx 0.958$"
   ]
  },
  {
   "cell_type": "markdown",
   "metadata": {},
   "source": [
    "Also compare the\n",
    "results using the exact method with the results obtained using the large\n",
    "sample approximation."
   ]
  },
  {
   "cell_type": "code",
   "execution_count": 7,
   "metadata": {},
   "outputs": [
    {
     "name": "stdout",
     "output_type": "stream",
     "text": [
      "10.0 2.23606797749979\n",
      "1.6448536269514722\n",
      "6.821995477099428 14.178004522900572\n",
      "6 15\n",
      "[103 117 119 119 122 128 131 134 137 142]\n"
     ]
    }
   ],
   "source": [
    "mu = mydist.mean(); sigma = mydist.std() \n",
    "\n",
    "print(mu, sigma)\n",
    "\n",
    "zcrit = stats.norm.ppf(ci + (1.0 - ci)/2) \n",
    "\n",
    "print(zcrit)\n",
    "\n",
    "rn = 0.5 + mu - zcrit * sigma \n",
    "sn = 0.5 + mu + zcrit * sigma \n",
    "\n",
    "print(rn, sn)\n",
    "\n",
    "fixed_rn, fixed_sn = int(rn), int(sn+1)\n",
    "\n",
    "print(fixed_rn, fixed_sn)\n",
    "\n",
    "print(x_i[fixed_rn-1:fixed_sn])"
   ]
  },
  {
   "cell_type": "markdown",
   "metadata": {},
   "source": [
    "$CI = [103, 142]$\n",
    "\n",
    "The fixed bounds are exactly the same as the ones computed previous after using continouty correction."
   ]
  },
  {
   "cell_type": "code",
   "execution_count": 8,
   "metadata": {},
   "outputs": [
    {
     "data": {
      "image/png": "[encoded data removed]",
      "text/plain": [
       "<Figure size 800x500 with 1 Axes>"
      ]
     },
     "metadata": {},
     "output_type": "display_data"
    }
   ],
   "source": [
    "plt.plot(x_i, 'bo-') \n",
    "plt.axvspan(fixed_rn-1, fixed_sn-1, color='yellow', alpha=0.3)\n",
    "\n",
    "plt.grid(True);"
   ]
  },
  {
   "cell_type": "markdown",
   "metadata": {},
   "source": [
    "#### Problem 3.2.1:"
   ]
  },
  {
   "cell_type": "markdown",
   "metadata": {},
   "source": [
    "One parametric method for finding a $1-\\alpha$ confidence interval for\n",
    "the median is to assume that the population is normal and use\n",
    "$${\\color{royalblue}{{{\\overline{X}}}}} - t_{\\alpha/2} {\\color{royalblue}{S}}/\\sqrt{n-1} < x_{0.5}\n",
    "< {\\color{royalblue}{{{\\overline{X}}}}} + t_{\\alpha/2} {\\color{royalblue}{S}}/\\sqrt{n-1}$$\n",
    "where ${\\color{royalblue}{{{\\overline{X}}}}}$ is the sample mean,\n",
    "${\\color{royalblue}{S}}$ is the sample standard deviation (Definition 2.2.3),\n",
    "$n$ is the sample size. and $t_p$ the $p$th quantile from Table A21 \\[or\n",
    "`stats.t.ppf()` or `stats.t.isf()`\\], $n-1$ degrees of freedom. Compute\n",
    "the preceding confidence interval on the data in Exercise 3.2.1 and compare\n",
    "it with the nonparametric confidence intervals of Exercise 3.2.4, where\n",
    "$\\alpha=0.10$."
   ]
  },
  {
   "cell_type": "code",
   "execution_count": 9,
   "metadata": {},
   "outputs": [
    {
     "name": "stdout",
     "output_type": "stream",
     "text": [
      "114.75258078973856 134.74741921026146\n"
     ]
    }
   ],
   "source": [
    "x_bar = x_i.mean()\n",
    "s = x_i.std(ddof=1)\n",
    "\n",
    "t_statisict = stats.t.isf((1.0-ci)/2, df=n-1)\n",
    "\n",
    "lcb = x_bar - t_statisict * (s / np.sqrt(n-1))\n",
    "ucb = x_bar + t_statisict * (s / np.sqrt(n-1))\n",
    "\n",
    "print(lcb, ucb)"
   ]
  },
  {
   "cell_type": "markdown",
   "metadata": {},
   "source": [
    "$CI = [114, 134]$\n",
    "\n",
    "The CI is much more narrow."
   ]
  },
  {
   "cell_type": "markdown",
   "metadata": {},
   "source": [
    "Which confidence interval is easier to justify?"
   ]
  },
  {
   "cell_type": "markdown",
   "metadata": {},
   "source": [
    "I would find this interval easier to justify because this is how I would think about the estimating the median of a distribution with a mean and variance. You would naturally expect the mean to be close to the median for a large number of samples, therefore it is intuitive to constrain it to the bounds of mean based confidence interval."
   ]
  },
  {
   "cell_type": "markdown",
   "metadata": {},
   "source": [
    "Which confidence interval is “better” (in terms of being shorter)?"
   ]
  },
  {
   "cell_type": "markdown",
   "metadata": {},
   "source": [
    "This confidence interval is \"better\" because it is much shorter."
   ]
  },
  {
   "cell_type": "markdown",
   "metadata": {},
   "source": [
    "### Conover Problems on The Sign Test"
   ]
  },
  {
   "cell_type": "markdown",
   "metadata": {},
   "source": [
    "####  Exercise 3.4.2:"
   ]
  },
  {
   "cell_type": "markdown",
   "metadata": {},
   "source": [
    "The reaction time before lunch was compared with the reaction time after\n",
    "lunch for a group of 28 office workers. Twenty-two workers found their\n",
    "reaction time before lunch was shorter and two could detect no\n",
    "difference. Is the reaction time after lunch significantly longer than\n",
    "the reaction time before lunch? \\[Give a $p$-value.\\]"
   ]
  },
  {
   "cell_type": "markdown",
   "metadata": {},
   "source": [
    "$H_0:$ There is no longer reaction time after lunch.\n",
    "\n",
    "$H_0:$ There is a longer reaction time after lunch.\n",
    "\n",
    "$n = 22 + 4 = 26$\n",
    "\n",
    "$p = 0.5$\n",
    "\n",
    "$\\alpha = P(X \\geq 26) \\approx 0.00026$"
   ]
  },
  {
   "cell_type": "code",
   "execution_count": 10,
   "metadata": {},
   "outputs": [
    {
     "name": "stdout",
     "output_type": "stream",
     "text": [
      "0.00026676058769226074\n"
     ]
    }
   ],
   "source": [
    "n = 26\n",
    "k = 22\n",
    "p = 0.5\n",
    "\n",
    "prob = stats.binom.sf(k-1, n, p)\n",
    "\n",
    "print(prob)"
   ]
  },
  {
   "cell_type": "markdown",
   "metadata": {},
   "source": [
    "#### Exercise 3.4.4:"
   ]
  },
  {
   "cell_type": "markdown",
   "metadata": {},
   "source": [
    "Twenty-two customers in a grocery store were asked to taste each of two\n",
    "types of cheese and declare their preference. Seven customers preferred\n",
    "one kind, 12 preferred the other kind, and 3 had no preference. Does\n",
    "this indicate a significant difference in preference? \\[Give a\n",
    "$p$-value.\\]"
   ]
  },
  {
   "cell_type": "markdown",
   "metadata": {},
   "source": [
    "$H_0:$ There is no difference between cheeses.\n",
    "\n",
    "$H_0:$ There is a difference cheeses.\n",
    "\n",
    "$n = 7 + 12 = 19$\n",
    "\n",
    "$p = 0.5$\n",
    "\n",
    "$\\alpha = 2 \\times P(X \\geq 12) \\approx 0.3592$"
   ]
  },
  {
   "cell_type": "code",
   "execution_count": 11,
   "metadata": {},
   "outputs": [
    {
     "name": "stdout",
     "output_type": "stream",
     "text": [
      "0.359283447265625\n"
     ]
    }
   ],
   "source": [
    "n = 19\n",
    "k = 12\n",
    "p = 0.5\n",
    "\n",
    "prob = stats.binom.sf(k-1, n, p)\n",
    "\n",
    "print(2*prob)"
   ]
  },
  {
   "cell_type": "markdown",
   "metadata": {},
   "source": [
    "#### Exercise 3.4.6:"
   ]
  },
  {
   "cell_type": "markdown",
   "metadata": {},
   "source": [
    "In a laboratory, insects of a certain type are released in the middle of\n",
    "a circle drawn on a plain, flat table. A scent, intended to attract that\n",
    "type of insect, is located at one end of the table. Each insect is\n",
    "released singly and observed until it crosses the boundary of the\n",
    "circle. At that time it is recorded whether the insect crossed the half\n",
    "of the boundary “toward” the scent or “away” from the scent. At the\n",
    "conclusion of the experiment, 33 insects went “toward” the scent, 16\n",
    "went “away,” and 12 did not cross the boundary within a reasonable time.\n",
    "Does the scent attract those insects? \\[Give a $p$-value.\\]"
   ]
  },
  {
   "cell_type": "markdown",
   "metadata": {},
   "source": [
    "$H_0:$ There is no attraction.\n",
    "\n",
    "$H_0:$ There is a attraction.\n",
    "\n",
    "$n = 33 + 16 = 49$\n",
    "\n",
    "$p = 0.5$\n",
    "\n",
    "$\\alpha = P(X \\geq 33) \\approx 0.0106$"
   ]
  },
  {
   "cell_type": "code",
   "execution_count": 12,
   "metadata": {},
   "outputs": [
    {
     "name": "stdout",
     "output_type": "stream",
     "text": [
      "0.010647057070693577\n"
     ]
    }
   ],
   "source": [
    "n = 49\n",
    "k = 33\n",
    "p = 0.5\n",
    "\n",
    "prob = stats.binom.sf(k-1, n, p)\n",
    "\n",
    "print(prob)"
   ]
  },
  {
   "cell_type": "code",
   "execution_count": null,
   "metadata": {},
   "outputs": [],
   "source": []
  }
 ],
 "metadata": {
  "kernelspec": {
   "display_name": "Python 3 (ipykernel)",
   "language": "python",
   "name": "python3"
  },
  "language_info": {
   "codemirror_mode": {
    "name": "ipython",
    "version": 3
   },
   "file_extension": ".py",
   "mimetype": "text/x-python",
   "name": "python",
   "nbconvert_exporter": "python",
   "pygments_lexer": "ipython3",
   "version": "3.9.7"
  }
 },
 "nbformat": 4,
 "nbformat_minor": 4
}
