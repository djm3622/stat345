{
 "cells": [
  {
   "cell_type": "markdown",
   "id": "60da9302",
   "metadata": {
    "slideshow": {
     "slide_type": "slide"
    }
   },
   "source": [
    "# STAT 345: Nonparametric Statistics\n",
    "\n",
    "## Lesson 08.2: The Kolmogorov-Smirnov and Related Two-Sample Tests\n",
    "\n",
    "**Reading: Conover Section 6.3**\n",
    "\n",
    "*Prof. John T. Whelan*\n",
    "\n",
    "Thursday 20 March 2025"
   ]
  },
  {
   "cell_type": "markdown",
   "id": "341349ed",
   "metadata": {
    "slideshow": {
     "slide_type": "slide"
    }
   },
   "source": [
    "These lecture slides are in a computational notebook.  You have access to them through http://vmware.rit.edu/"
   ]
  },
  {
   "cell_type": "markdown",
   "id": "14849a0b",
   "metadata": {
    "slideshow": {
     "slide_type": "fragment"
    }
   },
   "source": [
    "Flat HTML and slideshow versions are also in MyCourses."
   ]
  },
  {
   "cell_type": "markdown",
   "id": "2348659a",
   "metadata": {
    "slideshow": {
     "slide_type": "fragment"
    }
   },
   "source": [
    "The notebook can run Python commands (other notebooks can use R or Julia; \"Ju-Pyt-R\").  Think: computational data analysis, not \"coding\"."
   ]
  },
  {
   "cell_type": "markdown",
   "id": "f3c7b552",
   "metadata": {
    "slideshow": {
     "slide_type": "fragment"
    }
   },
   "source": [
    "Standard commands to activate inline interface and import libraries:"
   ]
  },
  {
   "cell_type": "code",
   "execution_count": 1,
   "id": "72002d68",
   "metadata": {
    "slideshow": {
     "slide_type": "fragment"
    }
   },
   "outputs": [],
   "source": [
    "%matplotlib inline"
   ]
  },
  {
   "cell_type": "code",
   "execution_count": 2,
   "id": "1d7896fc",
   "metadata": {
    "slideshow": {
     "slide_type": "fragment"
    }
   },
   "outputs": [],
   "source": [
    "import numpy as np\n",
    "from scipy import stats\n",
    "import matplotlib.pyplot as plt\n",
    "plt.rcParams['figure.figsize'] = (8.0,5.0)\n",
    "plt.rcParams['font.size'] = 14"
   ]
  },
  {
   "cell_type": "markdown",
   "id": "b43f837c",
   "metadata": {
    "slideshow": {
     "slide_type": "slide"
    }
   },
   "source": [
    "Finally, we consider the case where we have two samples\n",
    "$\\{x_i|i=1,\\ldots,n\\}$ and $\\{y_j|j=1,\\ldots,m\\}$, and wish to ask\n",
    "whether they come from the same distribution. We’ve approached this\n",
    "question as a comparison of location parameters with the\n",
    "Wilcoxon-Mann-Whitney rank sum test and as a comparison of scale\n",
    "parameters with the Conover squared ranks test. But if we wish to make a\n",
    "general comparison, one option is to compare the empirical distributions\n",
    "\n",
    "$$\\begin{gathered}\n",
    "    \\hat{F}_x(x;\\{x_i\\}) = \\frac{1}{n}\\sum_{i=1}^n I[x_i{\\mathbin{\\le}}x]\n",
    "    =\n",
    "    \\begin{cases}\n",
    "      0 & x < x^{(1)} \\\\\n",
    "      \\frac{i}{n} & x^{(i)} \\le x < x^{(i+1)} \\\\\n",
    "      1 & x^{(n)} \\le x\n",
    "    \\end{cases}\n",
    "    \\\\\n",
    "    \\hat{F}_y(x;\\{y_j\\}) = \\frac{1}{m}\\sum_{j=1}^m I[y_j{\\mathbin{\\le}}x]\n",
    "    =\n",
    "    \\begin{cases}\n",
    "      0 & x < y^{(1)} \\\\\n",
    "      \\frac{j}{m} & y^{(j)} \\le x < y^{(j+1)} \\\\\n",
    "      1 & y^{(m)} \\le x\n",
    "    \\end{cases}\n",
    "  \\end{gathered}$$\n",
    "\n",
    "where $\\{x^{(i)}\\}$ and $\\{y^{(j)}\\}$ are the order statistics of the\n",
    "two samples."
   ]
  },
  {
   "cell_type": "markdown",
   "id": "f779d58c",
   "metadata": {
    "slideshow": {
     "slide_type": "subslide"
    }
   },
   "source": [
    "Consider a very simple toy data set:"
   ]
  },
  {
   "cell_type": "code",
   "execution_count": 3,
   "id": "5f4ca940",
   "metadata": {
    "slideshow": {
     "slide_type": "fragment"
    }
   },
   "outputs": [
    {
     "data": {
      "text/plain": [
       "(array([0.1 , 2.72, 3.14]), array([2, 4]))"
      ]
     },
     "execution_count": 3,
     "metadata": {},
     "output_type": "execute_result"
    }
   ],
   "source": [
    "x_i = np.array([3.14,0.1,2.72]); y_j = np.array([2,4]); n = len(x_i); m = len(y_j); N=n+m; x_i.sort(); y_j.sort();\n",
    "x_i, y_j"
   ]
  },
  {
   "cell_type": "code",
   "execution_count": 4,
   "id": "03364333",
   "metadata": {
    "slideshow": {
     "slide_type": "fragment"
    }
   },
   "outputs": [
    {
     "name": "stdout",
     "output_type": "stream",
     "text": [
      "Fxhat(x)=0 for x <= 0.1\n",
      "Fxhat(x)=0.333333 for 0.1 < x <=2.72\n",
      "Fxhat(x)=0.666667 for 2.72 < x <=3.14\n",
      "Fxhat(x)=1 for 3.14 < x\n",
      "\n",
      "Fyhat(y)=0 for y <= 2\n",
      "Fyhat(y)=0.5 for 2 < y <=4\n",
      "Fyhat(y)=1 for 4 < y\n"
     ]
    }
   ],
   "source": [
    "Fxhat_i = (1.+np.arange(n))/n; Fyhat_j = (1.+np.arange(m))/m; X_k = np.concatenate((x_i,y_j)); X_k.sort()\n",
    "print('Fxhat(x)=0 for x <= %g' % x_i[0])\n",
    "for i in range(n-1):\n",
    "    print('Fxhat(x)=%g for %g < x <=%g' % (Fxhat_i[i],x_i[i],x_i[i+1]))\n",
    "print('Fxhat(x)=1 for %g < x' % x_i[-1]); print()\n",
    "print('Fyhat(y)=0 for y <= %g' % y_j[0])\n",
    "for j in range(m-1):\n",
    "    print('Fyhat(y)=%g for %g < y <=%g' % (Fyhat_j[j],y_j[j],y_j[j+1]))\n",
    "print('Fyhat(y)=1 for %g < y' % y_j[-1])"
   ]
  },
  {
   "cell_type": "code",
   "execution_count": 5,
   "id": "6478b6ce",
   "metadata": {
    "slideshow": {
     "slide_type": "subslide"
    }
   },
   "outputs": [
    {
     "data": {
      "image/png": "[encoded data removed]",
      "text/plain": [
       "<Figure size 800x500 with 1 Axes>"
      ]
     },
     "metadata": {},
     "output_type": "display_data"
    }
   ],
   "source": [
    "plt.plot(x_i,Fxhat_i,'k.',ms=10);\n",
    "for i in range(n-1): plt.plot(x_i[i:i+2],[Fxhat_i[i],Fxhat_i[i]],'k-',lw=2);\n",
    "plt.plot([X_k[0]-1,x_i[0]],[0,0],'k-',lw=2,label=r'$\\hat{F}_x(X^{(k)})$');plt.plot([x_i[-1],X_k[-1]+1],[1,1],'k-',lw=2);\n",
    "plt.plot(y_j,Fyhat_j,'rd');\n",
    "for j in range(m-1): plt.plot(y_j[j:j+2],[Fyhat_j[j],Fyhat_j[j]],'r-',lw=1);\n",
    "plt.plot([X_k[0]-1,y_j[0]],[0,0],'r-',lw=1,label=r'$\\hat{F}_y(X^{(k)})$');plt.plot([y_j[-1],X_k[-1]+1],[1,1],'r-',lw=1);\n",
    "plt.legend();plt.xlabel(r'$x$');plt.ylabel(r'emprical cdf');plt.xticks(np.unique(X_k));plt.xlim(min(X_k)-0.5,max(X_k)+0.5);plt.ylim(-0.05,1.05);plt.grid();plt.yticks([0,1./3.,1./2,2./3.,1],[r'$0$',r'$\\frac{1}{3}$',r'$\\frac{1}{2}$',r'$\\frac{2}{3}$',r'$1$']);"
   ]
  },
  {
   "cell_type": "markdown",
   "id": "85da4c9c",
   "metadata": {
    "slideshow": {
     "slide_type": "slide"
    }
   },
   "source": [
    "## Two-Sample Kolmogorov-Smirnov"
   ]
  },
  {
   "cell_type": "markdown",
   "id": "643bc451",
   "metadata": {
    "slideshow": {
     "slide_type": "subslide"
    }
   },
   "source": [
    "To perform a Kolmogorov-Smirnov test with the two empirical cdfs, we\n",
    "define the statistics\n",
    "$$\\begin{gathered}\n",
    "    T^{+} = \\sup\\left(\\hat{F}_x(x)-\\hat{F}_y(x)\\right) \\qquad\\hbox{and}\\qquad\n",
    "    T^{-} = \\sup\\left(\\hat{F}_y(x)-\\hat{F}_x(x)\\right) \\\\\n",
    "    T = \\sup{\\left\\lvert\\hat{F}_x(x)-\\hat{F}_y(x)\\right\\rvert} = \\max(T^{+},T^{-})\n",
    "  \\end{gathered}$$\n",
    "Look at this for our simple data:"
   ]
  },
  {
   "cell_type": "code",
   "execution_count": 6,
   "id": "7ee9e5f1",
   "metadata": {
    "slideshow": {
     "slide_type": "fragment"
    }
   },
   "outputs": [
    {
     "name": "stdout",
     "output_type": "stream",
     "text": [
      "For        X <= 0.10, Fxhat(X)-Fyhat(X) = 0-0 = 0\n",
      "For 0.10 < X <= 2.00, Fxhat(X)-Fyhat(X) = 0.333333-0 = 0.333333\n",
      "For 2.00 < X <= 2.72, Fxhat(X)-Fyhat(X) = 0.333333-0.5 = -0.166667\n",
      "For 2.72 < X <= 3.14, Fxhat(X)-Fyhat(X) = 0.666667-0.5 = 0.166667\n",
      "For 3.14 < X <= 4.00, Fxhat(X)-Fyhat(X) = 1-0.5 = 0.5\n",
      "For 4 < X           , Fxhat(X)-Fyhat(X) = 1-1 = 0\n"
     ]
    },
    {
     "data": {
      "text/plain": [
       "(0.5, 0.16666666666666669, 0.5)"
      ]
     },
     "execution_count": 6,
     "metadata": {},
     "output_type": "execute_result"
    }
   ],
   "source": [
    "Fxhat_k = np.mean(x_i[None,:] <= X_k[:,None], axis=-1); Fyhat_k = np.mean(y_j[None,:] <= X_k[:,None], axis=-1)\n",
    "print('For        X <= %.2f, Fxhat(X)-Fyhat(X) = 0-0 = 0' % X_k[0])\n",
    "for k in range(1,N):\n",
    "    print('For %.2f < X <= %.2f, Fxhat(X)-Fyhat(X) = %g-%g = %g'\n",
    "          % (X_k[k-1],X_k[k],Fxhat_k[k-1],Fyhat_k[k-1],Fxhat_k[k-1]-Fyhat_k[k-1]))\n",
    "print('For %g < X           , Fxhat(X)-Fyhat(X) = 1-1 = 0' % X_k[-1])\n",
    "Tp = max(Fxhat_k-Fyhat_k); Tm = max(Fyhat_k-Fxhat_k); T=max(Tp,Tm); Tp, Tm, T"
   ]
  },
  {
   "cell_type": "markdown",
   "id": "c4abab8e",
   "metadata": {
    "slideshow": {
     "slide_type": "fragment"
    }
   },
   "source": [
    "$T^{+}=\\max_k \\left(\\hat{F}_x(X^{(k)})-\\hat{F}_y(X^{(k)})\\right)=\\frac{1}{2}$ and $T^{-}=\\max_k \\left(\\hat{F}_y(X^{(k)})-\\hat{F}_x(X^{(k)})\\right)=\\frac{1}{6}$"
   ]
  },
  {
   "cell_type": "code",
   "execution_count": 7,
   "id": "57e405f5",
   "metadata": {
    "slideshow": {
     "slide_type": "subslide"
    }
   },
   "outputs": [
    {
     "data": {
      "image/png": "[encoded data removed]",
      "text/plain": [
       "<Figure size 800x500 with 1 Axes>"
      ]
     },
     "metadata": {},
     "output_type": "display_data"
    }
   ],
   "source": [
    "plt.plot(x_i,Fxhat_i,'k.',ms=10);\n",
    "for i in range(n-1): plt.plot(x_i[i:i+2],[Fxhat_i[i],Fxhat_i[i]],'k-',lw=2);\n",
    "plt.plot([X_k[0]-1,x_i[0]],[0,0],'k-',lw=2,label=r'$\\hat{F}_x(X^{(k)})$');plt.plot([x_i[-1],X_k[-1]+1],[1,1],'k-',lw=2);\n",
    "plt.plot(y_j,Fyhat_j,'rd');\n",
    "for j in range(m-1): plt.plot(y_j[j:j+2],[Fyhat_j[j],Fyhat_j[j]],'r-',lw=1);\n",
    "plt.plot([X_k[0]-1,y_j[0]],[0,0],'r-',lw=1,label=r'$\\hat{F}_y(X^{(k)})$');plt.plot([y_j[-1],X_k[-1]+1],[1,1],'r-',lw=1);\n",
    "plt.annotate('',xy=(3.5,0.5),xycoords='data',xytext=(3.5,1.),textcoords='data',arrowprops=dict(arrowstyle='<->'));plt.text(3.55,0.75,r'$T^{+}=\\frac{1}{2}$');plt.annotate('',xy=(2.27,0.5),xycoords='data', xytext=(2.27,1./3.),textcoords='data',arrowprops=dict(arrowstyle='<->'));\n",
    "plt.text(2.35,5./12.,r'$T^{-}=\\frac{1}{6}$',va='center');\n",
    "plt.legend();plt.xlabel(r'$x$');plt.ylabel(r'emprical cdf');plt.xticks(np.unique(X_k));plt.xlim(min(X_k)-0.5,max(X_k)+0.5);plt.ylim(-0.05,1.05);plt.grid();plt.yticks([0,1./3.,1./2,2./3.,1],[r'$0$',r'$\\frac{1}{3}$',r'$\\frac{1}{2}$',r'$\\frac{2}{3}$',r'$1$']);"
   ]
  },
  {
   "cell_type": "markdown",
   "id": "c88bb644",
   "metadata": {
    "slideshow": {
     "slide_type": "fragment"
    }
   },
   "source": [
    "We see that $T^{+}=1-\\frac{1}{2}=\\frac{1}{2}$,\n",
    "$T^{-}=\\frac{1}{2}-\\frac{1}{3}=\\frac{1}{6}$ and thus $T=\\frac{1}{2}$."
   ]
  },
  {
   "cell_type": "markdown",
   "id": "f10146c1",
   "metadata": {
    "slideshow": {
     "slide_type": "subslide"
    }
   },
   "source": [
    "Two-sample K-S statistic doesn't actually use values of\n",
    "the $\\{x_i\\}$ and $\\{y_j\\}$, just ordering, so we could also use\n",
    "the ranks of the data rather than the data themselves:"
   ]
  },
  {
   "cell_type": "code",
   "execution_count": 8,
   "id": "a26220f3",
   "metadata": {
    "slideshow": {
     "slide_type": "fragment"
    }
   },
   "outputs": [
    {
     "data": {
      "image/png": "[encoded data removed]",
      "text/plain": [
       "<Figure size 800x500 with 1 Axes>"
      ]
     },
     "metadata": {},
     "output_type": "display_data"
    }
   ],
   "source": [
    "Rxy_k = stats.rankdata(np.concatenate((x_i,y_j))); Rx_i=Rxy_k[:n]; Ry_j=Rxy_k[n:]; RX_k = np.sort(Rxy_k)\n",
    "plt.plot(Rx_i,Fxhat_i,'k.',ms=10);plt.plot([0,Rx_i[0]],[0,0],'k-',lw=2,label=r'$\\hat{F}_x(X^{(k)})$');plt.plot([Rx_i[-1],N+1],[1,1],'k-',lw=2);plt.plot(Ry_j,Fyhat_j,'rd');\n",
    "for i in range(n-1): plt.plot(Rx_i[i:i+2],[Fxhat_i[i],Fxhat_i[i]],'k-',lw=2);\n",
    "for j in range(m-1): plt.plot(Ry_j[j:j+2],[Fyhat_j[j],Fyhat_j[j]],'r-',lw=1);\n",
    "plt.plot([0,Ry_j[0]],[0,0],'r-',lw=1,label=r'$\\hat{F}_y(X^{(k)})$');plt.plot([Ry_j[-1],N+1],[1,1],'r-',lw=1);\n",
    "plt.annotate('',xy=(4.5,0.5),xycoords='data', xytext=(4.5,1.),textcoords='data',arrowprops=dict(arrowstyle='<->'));plt.text(4.55,0.75,r'$T^{+}=\\frac{1}{2}$');plt.annotate('',xy=(2.5,0.5),xycoords='data', xytext=(2.5,1./3.),textcoords='data',arrowprops=dict(arrowstyle='<->'));plt.text(2.55,5./12.,r'$T^{-}=\\frac{1}{6}$',va='center');\n",
    "plt.xlabel(r'$k$');plt.ylabel(r'emprical cdf');plt.yticks([0,1./3.,1./2,2./3.,1],[r'$0$',r'$\\frac{1}{3}$',r'$\\frac{1}{2}$',r'$\\frac{2}{3}$',r'$1$']);plt.xlim(min(RX_k)-0.5,max(RX_k)+0.5);plt.ylim(-0.05,1.05);plt.grid();plt.legend(loc='upper left');"
   ]
  },
  {
   "cell_type": "markdown",
   "id": "744991ab",
   "metadata": {
    "slideshow": {
     "slide_type": "subslide"
    }
   },
   "source": [
    "This allows us to construct the null distribution by enumerating the\n",
    "$\\binom{n+m}{n}$ possible divisions of the ranks $1$ to $n+m$ into\n",
    "$x$-ranks and $y$-ranks, and computing the Kolmogorov-Smirnov statistics\n",
    "for each of them. In this case there are $\\binom{5}{3}=10$\n",
    "possibilities.\n",
    "To loop through them, we can use the `itertools.combinations` function in Python:"
   ]
  },
  {
   "cell_type": "code",
   "execution_count": 9,
   "id": "cf065dc7",
   "metadata": {
    "slideshow": {
     "slide_type": "fragment"
    }
   },
   "outputs": [
    {
     "data": {
      "text/plain": [
       "array([[1., 2., 3.],\n",
       "       [1., 2., 4.],\n",
       "       [1., 2., 5.],\n",
       "       [1., 3., 4.],\n",
       "       [1., 3., 5.],\n",
       "       [1., 4., 5.],\n",
       "       [2., 3., 4.],\n",
       "       [2., 3., 5.],\n",
       "       [2., 4., 5.],\n",
       "       [3., 4., 5.]])"
      ]
     },
     "execution_count": 9,
     "metadata": {},
     "output_type": "execute_result"
    }
   ],
   "source": [
    "import itertools;xranks_Ii = np.array([xranks_i for xranks_i in itertools.combinations(RX_k,n)]); xranks_Ii"
   ]
  },
  {
   "cell_type": "markdown",
   "id": "139e8f0f",
   "metadata": {
    "slideshow": {
     "slide_type": "subslide"
    }
   },
   "source": [
    "Since the $y$ ranks are all of those which don't appear in $x$, you can find the $y$ rank list corresponding to each $x$ rank list as a set theory complement:"
   ]
  },
  {
   "cell_type": "code",
   "execution_count": 10,
   "id": "8342b691",
   "metadata": {
    "slideshow": {
     "slide_type": "fragment"
    }
   },
   "outputs": [
    {
     "data": {
      "text/plain": [
       "(array([[1., 2., 3.],\n",
       "        [1., 2., 4.],\n",
       "        [1., 2., 5.],\n",
       "        [1., 3., 4.],\n",
       "        [1., 3., 5.],\n",
       "        [1., 4., 5.],\n",
       "        [2., 3., 4.],\n",
       "        [2., 3., 5.],\n",
       "        [2., 4., 5.],\n",
       "        [3., 4., 5.]]),\n",
       " array([[4., 5.],\n",
       "        [3., 5.],\n",
       "        [3., 4.],\n",
       "        [2., 5.],\n",
       "        [2., 4.],\n",
       "        [2., 3.],\n",
       "        [1., 5.],\n",
       "        [1., 4.],\n",
       "        [1., 3.],\n",
       "        [1., 2.]]))"
      ]
     },
     "execution_count": 10,
     "metadata": {},
     "output_type": "execute_result"
    }
   ],
   "source": [
    "yranks_Ij = np.array([np.setdiff1d(RX_k,xranks_i) for xranks_i in xranks_Ii]); xranks_Ii, yranks_Ij"
   ]
  },
  {
   "cell_type": "markdown",
   "id": "d30040f8",
   "metadata": {
    "slideshow": {
     "slide_type": "subslide"
    }
   },
   "source": [
    "Then you can evaluate the two empirical distribution functions at each interesting point:"
   ]
  },
  {
   "cell_type": "code",
   "execution_count": 11,
   "id": "577b91b8",
   "metadata": {
    "slideshow": {
     "slide_type": "fragment"
    }
   },
   "outputs": [
    {
     "data": {
      "text/plain": [
       "array([1., 2., 3., 4., 5.])"
      ]
     },
     "execution_count": 11,
     "metadata": {},
     "output_type": "execute_result"
    }
   ],
   "source": [
    "RX_k"
   ]
  },
  {
   "cell_type": "code",
   "execution_count": 12,
   "id": "22a01f2d",
   "metadata": {
    "slideshow": {
     "slide_type": "fragment"
    }
   },
   "outputs": [
    {
     "data": {
      "text/plain": [
       "array([[0.33333333, 0.66666667, 1.        , 1.        , 1.        ],\n",
       "       [0.33333333, 0.66666667, 0.66666667, 1.        , 1.        ],\n",
       "       [0.33333333, 0.66666667, 0.66666667, 0.66666667, 1.        ],\n",
       "       [0.33333333, 0.33333333, 0.66666667, 1.        , 1.        ],\n",
       "       [0.33333333, 0.33333333, 0.66666667, 0.66666667, 1.        ],\n",
       "       [0.33333333, 0.33333333, 0.33333333, 0.66666667, 1.        ],\n",
       "       [0.        , 0.33333333, 0.66666667, 1.        , 1.        ],\n",
       "       [0.        , 0.33333333, 0.66666667, 0.66666667, 1.        ],\n",
       "       [0.        , 0.33333333, 0.33333333, 0.66666667, 1.        ],\n",
       "       [0.        , 0.        , 0.33333333, 0.66666667, 1.        ]])"
      ]
     },
     "execution_count": 12,
     "metadata": {},
     "output_type": "execute_result"
    }
   ],
   "source": [
    "Fxhat_Ik = np.mean(xranks_Ii[:,None,:]<=RX_k[None,:,None],axis=-1); Fxhat_Ik"
   ]
  },
  {
   "cell_type": "code",
   "execution_count": 13,
   "id": "d5123d5a",
   "metadata": {
    "slideshow": {
     "slide_type": "fragment"
    }
   },
   "outputs": [
    {
     "data": {
      "text/plain": [
       "array([[0. , 0. , 0. , 0.5, 1. ],\n",
       "       [0. , 0. , 0.5, 0.5, 1. ],\n",
       "       [0. , 0. , 0.5, 1. , 1. ],\n",
       "       [0. , 0.5, 0.5, 0.5, 1. ],\n",
       "       [0. , 0.5, 0.5, 1. , 1. ],\n",
       "       [0. , 0.5, 1. , 1. , 1. ],\n",
       "       [0.5, 0.5, 0.5, 0.5, 1. ],\n",
       "       [0.5, 0.5, 0.5, 1. , 1. ],\n",
       "       [0.5, 0.5, 1. , 1. , 1. ],\n",
       "       [0.5, 1. , 1. , 1. , 1. ]])"
      ]
     },
     "execution_count": 13,
     "metadata": {},
     "output_type": "execute_result"
    }
   ],
   "source": [
    "Fyhat_Ik = np.array([np.mean(yranks_j[None,:]<=RX_k[:,None], axis=-1) for yranks_j in yranks_Ij]); Fyhat_Ik"
   ]
  },
  {
   "cell_type": "code",
   "execution_count": 14,
   "id": "191abfd9",
   "metadata": {
    "slideshow": {
     "slide_type": "subslide"
    }
   },
   "outputs": [
    {
     "data": {
      "text/plain": [
       "array([1.        , 0.66666667, 0.66666667, 0.5       , 0.33333333,\n",
       "       0.66666667, 0.5       , 0.5       , 0.66666667, 1.        ])"
      ]
     },
     "execution_count": 14,
     "metadata": {},
     "output_type": "execute_result"
    }
   ],
   "source": [
    "Tp_I = np.max(Fxhat_Ik-Fyhat_Ik,axis=-1);Tm_I = np.max(Fyhat_Ik-Fxhat_Ik,axis=-1);\n",
    "T_I = np.max(np.abs(Fxhat_Ik-Fyhat_Ik),axis=-1); T_I"
   ]
  },
  {
   "cell_type": "code",
   "execution_count": 15,
   "id": "454b0534",
   "metadata": {
    "slideshow": {
     "slide_type": "fragment"
    }
   },
   "outputs": [
    {
     "name": "stdout",
     "output_type": "stream",
     "text": [
      "If Rx_i= [1. 2. 3.]  Ry_j= [4. 5.]  T+= 1.0  T-= 0.0  so T= 1.0\n",
      "If Rx_i= [1. 2. 4.]  Ry_j= [3. 5.]  T+= 0.6666666666666666  T-= 0.0  so T= 0.6666666666666666\n",
      "If Rx_i= [1. 2. 5.]  Ry_j= [3. 4.]  T+= 0.6666666666666666  T-= 0.33333333333333337  so T= 0.6666666666666666\n",
      "If Rx_i= [1. 3. 4.]  Ry_j= [2. 5.]  T+= 0.5  T-= 0.16666666666666669  so T= 0.5\n",
      "If Rx_i= [1. 3. 5.]  Ry_j= [2. 4.]  T+= 0.3333333333333333  T-= 0.33333333333333337  so T= 0.33333333333333337\n",
      "If Rx_i= [1. 4. 5.]  Ry_j= [2. 3.]  T+= 0.3333333333333333  T-= 0.6666666666666667  so T= 0.6666666666666667\n",
      "If Rx_i= [2. 3. 4.]  Ry_j= [1. 5.]  T+= 0.5  T-= 0.5  so T= 0.5\n",
      "If Rx_i= [2. 3. 5.]  Ry_j= [1. 4.]  T+= 0.16666666666666663  T-= 0.5  so T= 0.5\n",
      "If Rx_i= [2. 4. 5.]  Ry_j= [1. 3.]  T+= 0.0  T-= 0.6666666666666667  so T= 0.6666666666666667\n",
      "If Rx_i= [3. 4. 5.]  Ry_j= [1. 2.]  T+= 0.0  T-= 1.0  so T= 1.0\n"
     ]
    }
   ],
   "source": [
    "for I in range(len(T_I)):\n",
    "    print('If Rx_i=',xranks_Ii[I],' Ry_j=',yranks_Ij[I],' T+=',Tp_I[I],' T-=',Tm_I[I],' so T=',T_I[I])"
   ]
  },
  {
   "cell_type": "markdown",
   "id": "fe354aa7",
   "metadata": {
    "slideshow": {
     "slide_type": "fragment"
    }
   },
   "source": [
    "We see (as does Conover) that $1$ of the $10$ combinations has\n",
    "$T=\\frac{1}{3}$, $3$ have $T=\\frac{1}{2}$, $4$ have $T=\\frac{2}{3}$, and\n",
    "$2$ have $T=1$.  Actually, we should be a bit careful, since roundoff has caused there to be two different versions of $2/3$:"
   ]
  },
  {
   "cell_type": "code",
   "execution_count": 16,
   "id": "9df6c59d",
   "metadata": {
    "slideshow": {
     "slide_type": "fragment"
    }
   },
   "outputs": [
    {
     "data": {
      "text/plain": [
       "(0.6666666666666666, 0.6666666666666667, False)"
      ]
     },
     "execution_count": 16,
     "metadata": {},
     "output_type": "execute_result"
    }
   ],
   "source": [
    "T_I[1], T_I[5], T_I[1]==T_I[5]"
   ]
  },
  {
   "cell_type": "code",
   "execution_count": 17,
   "id": "98274b44",
   "metadata": {
    "slideshow": {
     "slide_type": "subslide"
    }
   },
   "outputs": [
    {
     "data": {
      "text/plain": [
       "array([0.33333333, 0.5       , 0.66666667, 0.66666667, 1.        ])"
      ]
     },
     "execution_count": 17,
     "metadata": {},
     "output_type": "execute_result"
    }
   ],
   "source": [
    "np.unique(T_I)"
   ]
  },
  {
   "cell_type": "markdown",
   "id": "9f907893",
   "metadata": {
    "slideshow": {
     "slide_type": "fragment"
    }
   },
   "source": [
    "Since the statistic is constructed as a difference of $\\hat{F}_x(X)$, which is a multiple of $\\frac{1}{n}$ and  $\\hat{F}_y(X)$, which is a multiple of $\\frac{1}{m}$, all the possible values are integer multiples of $\\frac{1}{mn}$, so we could round $mnT$ to the nearest integer: "
   ]
  },
  {
   "cell_type": "code",
   "execution_count": 18,
   "id": "1cd8a8e6",
   "metadata": {
    "slideshow": {
     "slide_type": "fragment"
    }
   },
   "outputs": [
    {
     "data": {
      "text/plain": [
       "array([6., 4., 4., 3., 2., 4., 3., 3., 4., 6.])"
      ]
     },
     "execution_count": 18,
     "metadata": {},
     "output_type": "execute_result"
    }
   ],
   "source": [
    "m*n*T_I"
   ]
  },
  {
   "cell_type": "code",
   "execution_count": 19,
   "id": "ec62efc6",
   "metadata": {
    "slideshow": {
     "slide_type": "fragment"
    }
   },
   "outputs": [
    {
     "data": {
      "text/plain": [
       "array([0.33333333, 0.5       , 0.66666667, 1.        ])"
      ]
     },
     "execution_count": 19,
     "metadata": {},
     "output_type": "execute_result"
    }
   ],
   "source": [
    "np.unique(np.round(m*n*T_I)/(m*n))"
   ]
  },
  {
   "cell_type": "markdown",
   "id": "edac7bce",
   "metadata": {
    "slideshow": {
     "slide_type": "fragment"
    }
   },
   "source": [
    "But a more robust solution is just to round everything off to, say, 8 decimal places:"
   ]
  },
  {
   "cell_type": "code",
   "execution_count": 20,
   "id": "02608e67",
   "metadata": {
    "slideshow": {
     "slide_type": "fragment"
    }
   },
   "outputs": [
    {
     "data": {
      "text/plain": [
       "array([0.33333333, 0.5       , 0.66666667, 1.        ])"
      ]
     },
     "execution_count": 20,
     "metadata": {},
     "output_type": "execute_result"
    }
   ],
   "source": [
    "Tp_I = np.round(Tp_I,decimals=8); Tm_I = np.round(Tm_I,decimals=8); T_I = np.maximum(Tp_I,Tm_I); np.unique(T_I)"
   ]
  },
  {
   "cell_type": "markdown",
   "id": "bf721b43",
   "metadata": {
    "slideshow": {
     "slide_type": "subslide"
    }
   },
   "source": [
    "Returning to the $p$-value computation, we see that 9 of the 10 equally likely possibilities have a statistic value of at least our observed $T=0.1$, so $p=0.9$ for these data:"
   ]
  },
  {
   "cell_type": "code",
   "execution_count": 21,
   "id": "7feb063c",
   "metadata": {
    "slideshow": {
     "slide_type": "fragment"
    }
   },
   "outputs": [
    {
     "data": {
      "text/plain": [
       "array([0.33333333, 0.5       , 0.5       , 0.5       , 0.66666667,\n",
       "       0.66666667, 0.66666667, 0.66666667, 1.        , 1.        ])"
      ]
     },
     "execution_count": 21,
     "metadata": {},
     "output_type": "execute_result"
    }
   ],
   "source": [
    "np.sort(T_I)"
   ]
  },
  {
   "cell_type": "code",
   "execution_count": 22,
   "id": "f91e2bf9",
   "metadata": {
    "slideshow": {
     "slide_type": "fragment"
    }
   },
   "outputs": [
    {
     "data": {
      "text/plain": [
       "0.9"
      ]
     },
     "execution_count": 22,
     "metadata": {},
     "output_type": "execute_result"
    }
   ],
   "source": [
    "np.mean(T_I>=T)"
   ]
  },
  {
   "cell_type": "markdown",
   "id": "24482bba",
   "metadata": {
    "slideshow": {
     "slide_type": "fragment"
    }
   },
   "source": [
    "Table A20 of Conover can be used to bound the $p$-value, although for this sample size it's not so useful.  It says, for $(m,n)=(2,3)$, $P(\\color{royalblue}T\\mathbin{>}5/6)=0.20$.  Note that $5/6$ is halfway in between the values $2/3$ and $1$."
   ]
  },
  {
   "cell_type": "code",
   "execution_count": 23,
   "id": "7488115b",
   "metadata": {
    "slideshow": {
     "slide_type": "fragment"
    }
   },
   "outputs": [
    {
     "data": {
      "text/plain": [
       "0.2"
      ]
     },
     "execution_count": 23,
     "metadata": {},
     "output_type": "execute_result"
    }
   ],
   "source": [
    "np.mean(T_I>5/6)"
   ]
  },
  {
   "cell_type": "markdown",
   "id": "f975c193",
   "metadata": {
    "slideshow": {
     "slide_type": "fragment"
    }
   },
   "source": [
    "Anyway, all this tells us about the $p$-value for $T=\\frac{1}{2}$ is that $p>0.2$."
   ]
  },
  {
   "cell_type": "markdown",
   "id": "fae4fb68",
   "metadata": {
    "slideshow": {
     "slide_type": "slide"
    }
   },
   "source": [
    "## Two-Sample Cramér-von Mises"
   ]
  },
  {
   "cell_type": "markdown",
   "id": "a58417cf",
   "metadata": {
    "slideshow": {
     "slide_type": "subslide"
    }
   },
   "source": [
    "- Recall one-sample Cramér-von Mises test: compare empirical\n",
    "distribution $\\hat{F}(x)$ to hypothesized distribution $F^*(x)$\n",
    "using a statistic constructed from the integral $$\n",
    "  \\int_{-\\infty}^{\\infty} [\\hat{F}(x)-F^{*}(x)]^2\\,f^{*}(x)\\,dx$$"
   ]
  },
  {
   "cell_type": "markdown",
   "id": "532bf704",
   "metadata": {
    "slideshow": {
     "slide_type": "fragment"
    }
   },
   "source": [
    "- We’d\n",
    "like to use the same method in the two-sample case to compare\n",
    "$\\hat{F}_x(x)$ and $\\hat{F}_y(x)$, but there are a couple of challenges\n",
    "related to the “measure” $f^{*}(x)\\,dx=dF^*(x)$:"
   ]
  },
  {
   "cell_type": "markdown",
   "id": "8d42dfcd",
   "metadata": {
    "slideshow": {
     "slide_type": "fragment"
    }
   },
   "source": [
    "1. If we’re treating the two samples the same, which distribution goes in place of $F^*(x)$ in $dF^*(x)$?"
   ]
  },
  {
   "cell_type": "markdown",
   "id": "364bf94f",
   "metadata": {
    "slideshow": {
     "slide_type": "fragment"
    }
   },
   "source": [
    "2. Empirical cdf $\\hat{F}(x)$ is always discrete; can't take derivative to get $\\hat{F}{}'(x)=\\hat{f}(x)$."
   ]
  },
  {
   "cell_type": "markdown",
   "id": "5bdcf80b",
   "metadata": {
    "slideshow": {
     "slide_type": "subslide"
    }
   },
   "source": [
    "1. If we’re treating the two samples the same, which distribution goes in place of $F^*(x)$ in $dF^*(x)$?"
   ]
  },
  {
   "cell_type": "markdown",
   "id": "18c48e63",
   "metadata": {
    "slideshow": {
     "slide_type": "fragment"
    }
   },
   "source": [
    "Obvious choice: combine the data\n",
    "sets $\\{x_i|i=1,\\ldots,n\\}$ and $\\{y_j|i=j,\\ldots,m\\}$ into\n",
    "$\\{X_k|k=1,\\ldots,n+m\\}$, and use this combined sample to produce an\n",
    "empirical distribution function $$\n",
    "    \\hat{F}_{x,y}(x;\\{X_k\\})\n",
    "    =\\frac{1}{n+m}\n",
    "    \\left(\n",
    "      \\sum_{i=1}^n I[x_i{\\mathbin{\\le}}x]\n",
    "      +\\sum_{j=1}^m I[y_j{\\mathbin{\\le}}x]\n",
    "    \\right)=\n",
    "    \\begin{cases}\n",
    "      0 & x < X^{(1)} \\\\\n",
    "      \\frac{k}{n+m} & X^{(k)} \\le x < X^{(k+1)} \\\\\n",
    "      1 & X^{(n+m)} \\le x\n",
    "    \\end{cases}$$"
   ]
  },
  {
   "cell_type": "markdown",
   "id": "06c8877f",
   "metadata": {
    "slideshow": {
     "slide_type": "fragment"
    }
   },
   "source": [
    "and then use the definition\n",
    "$$\\int_{-\\infty}^{\\infty} [\\hat{F}_x(x)-\\hat{F}_y(x)]^2\\,\\hat{f}_{x,y}(x)\\,dx$$"
   ]
  },
  {
   "cell_type": "markdown",
   "id": "5b0fd842",
   "metadata": {
    "slideshow": {
     "slide_type": "subslide"
    }
   },
   "source": [
    "$$\\int_{-\\infty}^{\\infty} [\\hat{F}_x(x)-\\hat{F}_y(x)]^2\\,\\hat{f}_{x,y}(x)\\,dx$$"
   ]
  },
  {
   "cell_type": "markdown",
   "id": "73e4e5ca",
   "metadata": {
    "slideshow": {
     "slide_type": "fragment"
    }
   },
   "source": [
    "2. Empirical cdf $\\hat{F}(x)$ is always discrete; can't take derivative<span id=\"fm1\">[<sup>1</sup>](#fn1) to get $\\hat{F}_{x,y}{}'(x)=\\hat{f}_{x,y}(x)$."
   ]
  },
  {
   "cell_type": "markdown",
   "id": "f6eb016c",
   "metadata": {
    "slideshow": {
     "slide_type": "skip"
    }
   },
   "source": [
    "<span id=\"fn1\">[<sup>1</sup>](#fm1) Actually, we could carry out a construction based on the Dirac\n",
    "    delta function, but that would involve introducing additional\n",
    "    mathematical apparatus and possibly induce indigestion in\n",
    "    mathematical purists.</span>"
   ]
  },
  {
   "cell_type": "markdown",
   "id": "7a6c6a05",
   "metadata": {
    "slideshow": {
     "slide_type": "fragment"
    }
   },
   "source": [
    "Instead, consider the integral to be an expectation value constructed using the\n",
    "empirical distribution $\\hat{F}_{x,y}$, which is basically a discrete distribution whose pmf is non-zero at the\n",
    "values in the combined sample: $\\hat{p}_{x,y}(X^{(k)})=\\frac{1}{n+m}$\n",
    "(assuming there are no repeated values in the combined sample)."
   ]
  },
  {
   "cell_type": "markdown",
   "id": "8bedd99e",
   "metadata": {
    "slideshow": {
     "slide_type": "fragment"
    }
   },
   "source": [
    "So we\n",
    "can replace the integral\n",
    "$\\int_{-\\infty}^{\\infty}(\\cdots) \\hat{f}_{x,y}(x)dx$ with the sum\n",
    "$\\sum_x (\\cdots)p_{x,y}(x)$ and write a statistic based on a discrete\n",
    "expectation value: $$E_{\\hat{F}_{x,y}}([\\hat{F}_x(\\color{royalblue}{X})-\\hat{F}_y(\\color{royalblue}{X})]^2)\n",
    "  = \\sum_{k=1}^{n+m} \\frac{[\\hat{F}_x(X^{(k)})-\\hat{F}_y(X^{(k)})]^2}{n+m}$$"
   ]
  },
  {
   "cell_type": "markdown",
   "id": "2f8749b5",
   "metadata": {
    "slideshow": {
     "slide_type": "subslide"
    }
   },
   "source": [
    "If we construct this sum explicitly for the data set considered above,\n",
    "we get $$\\begin{gathered}\n",
    "  \\frac{1}{5}\\left[\n",
    "    \\left(\\frac{1}{3}-0\\right)^2\n",
    "    +\\left(\\frac{1}{3}-\\frac{1}{2}\\right)^2\n",
    "    +\\left(\\frac{2}{3}-\\frac{1}{2}\\right)^2\n",
    "    +\\left(1-\\frac{1}{2}\\right)^2\n",
    "    +\\left(1-1\\right)^2\n",
    "  \\right]\n",
    "  \\\\=\\frac{1}{5}\\left[\n",
    "    \\frac{1}{9} + \\frac{1}{36}\n",
    "    +\\frac{1}{36} + \\frac{1}{4}\n",
    "  \\right]\n",
    "  =\\frac{4+1+1+9}{180} = \\frac{15}{180} = \\frac{1}{12}\\end{gathered}$$"
   ]
  },
  {
   "cell_type": "code",
   "execution_count": 24,
   "id": "2ca78fd1",
   "metadata": {
    "slideshow": {
     "slide_type": "fragment"
    }
   },
   "outputs": [
    {
     "data": {
      "text/plain": [
       "(array([0.33333333, 0.33333333, 0.66666667, 1.        , 1.        ]),\n",
       " array([0. , 0.5, 0.5, 0.5, 1. ]),\n",
       " 0.08333333333333333,\n",
       " 0.08333333333333333)"
      ]
     },
     "execution_count": 24,
     "metadata": {},
     "output_type": "execute_result"
    }
   ],
   "source": [
    "Fxhat_k, Fyhat_k, np.sum((Fxhat_k-Fyhat_k)**2)/(n+m), 1/12"
   ]
  },
  {
   "cell_type": "markdown",
   "id": "25e96b3d",
   "metadata": {
    "slideshow": {
     "slide_type": "fragment"
    }
   },
   "source": [
    "Note that the last term is zero, which will always be true, since $\\hat{F}_x(X^{(n+m)})=1=\\hat{F}_y(X^{(n+m)})$ so we can leave that term out of the\n",
    "sum,<span id=\"fm2\">[<sup>2</sup>](#fn2)</span> and write the two-sample Cramér-von Mises statistic (putting an\n",
    "extra $\\frac{nm}{n+m}$ out front for convention) as\n",
    "$$T_2 = \\frac{nm}{(n+m)^2}\n",
    "  \\sum_{k=1}^{n+m-1} [\\hat{F}_x(X^{(k)})-\\hat{F}_y(X^{(k)})]^2$$"
   ]
  },
  {
   "cell_type": "markdown",
   "id": "b3f08eba",
   "metadata": {
    "slideshow": {
     "slide_type": "subslide"
    }
   },
   "source": [
    "For the\n",
    "data set in question,\n",
    "$$T_2 =  \\frac{nm}{(n+m)^2}\n",
    "  \\sum_{k=1}^{n+m-1} [\\hat{F}_x(X^{(k)})-\\hat{F}_y(X^{(k)})]^2=\\frac{3\\times 2}{5}\\frac{1}{12} = \\frac{1}{10}$$"
   ]
  },
  {
   "cell_type": "markdown",
   "id": "dd083fa3",
   "metadata": {
    "slideshow": {
     "slide_type": "skip"
    }
   },
   "source": [
    "<span id=\"fn2\">[<sup>2</sup>](#fm2)  This clears up an apparent asymmetry where the statistic is defined by contributions from points where one of the empirical cdfs\n",
    "    is discontinuous, and always uses the value to the right of the jump\n",
    "    (since the cdf is by definition right-continuous). The fact that the\n",
    "    contribution from the value after the last jump is zero makes up for\n",
    "    the lack of a contribution from the value before the first jump.</span>"
   ]
  },
  {
   "cell_type": "code",
   "execution_count": 25,
   "id": "52518709",
   "metadata": {
    "slideshow": {
     "slide_type": "fragment"
    }
   },
   "outputs": [
    {
     "data": {
      "text/plain": [
       "0.09999999999999999"
      ]
     },
     "execution_count": 25,
     "metadata": {},
     "output_type": "execute_result"
    }
   ],
   "source": [
    "TCvM = n*m/N**2 * np.sum((Fxhat_k-Fyhat_k)**2); TCvM"
   ]
  },
  {
   "cell_type": "markdown",
   "id": "20eb0c49",
   "metadata": {
    "slideshow": {
     "slide_type": "fragment"
    }
   },
   "source": [
    "We can construct the $p$-value by making an array of possible statistic values, and see that actually 9 out of 10 possible arrangements of ranks have a Cramér-von Mises statistic of $0.1$ or higher."
   ]
  },
  {
   "cell_type": "code",
   "execution_count": 26,
   "id": "c242c6ab",
   "metadata": {
    "slideshow": {
     "slide_type": "fragment"
    }
   },
   "outputs": [
    {
     "data": {
      "text/plain": [
       "array([0.43333333, 0.2       , 0.16666667, 0.1       , 0.06666667,\n",
       "       0.16666667, 0.13333333, 0.1       , 0.2       , 0.43333333])"
      ]
     },
     "execution_count": 26,
     "metadata": {},
     "output_type": "execute_result"
    }
   ],
   "source": [
    "TCvM_I = n*m/N**2 * np.sum((Fxhat_Ik-Fyhat_Ik)**2,axis=-1); TCvM_I"
   ]
  },
  {
   "cell_type": "markdown",
   "id": "bfce79ed",
   "metadata": {
    "slideshow": {
     "slide_type": "subslide"
    }
   },
   "source": [
    "Note that actually floating point roundoff is a danger here, since in fact one of the two $0.1$ values in the ensemble, which should all have equalled the observed value, turned out to be computed as slightly higher:"
   ]
  },
  {
   "cell_type": "code",
   "execution_count": 27,
   "id": "7dcb854e",
   "metadata": {
    "slideshow": {
     "slide_type": "fragment"
    }
   },
   "outputs": [
    {
     "data": {
      "text/plain": [
       "array([ 3.33333333e-01,  1.00000000e-01,  6.66666667e-02,  0.00000000e+00,\n",
       "       -3.33333333e-02,  6.66666667e-02,  3.33333333e-02,  2.77555756e-17,\n",
       "        1.00000000e-01,  3.33333333e-01])"
      ]
     },
     "execution_count": 27,
     "metadata": {},
     "output_type": "execute_result"
    }
   ],
   "source": [
    "TCvM_I - TCvM"
   ]
  },
  {
   "cell_type": "markdown",
   "id": "e8b72405",
   "metadata": {
    "slideshow": {
     "slide_type": "fragment"
    }
   },
   "source": [
    "Could note that all $T_{\\text{CvM}}$ values have common denominator $(n+m)^2n^2m^2$, but easier just to round off."
   ]
  },
  {
   "cell_type": "code",
   "execution_count": 28,
   "id": "6f0248a2",
   "metadata": {
    "slideshow": {
     "slide_type": "fragment"
    }
   },
   "outputs": [
    {
     "data": {
      "text/plain": [
       "(array([0.43333333, 0.2       , 0.16666667, 0.1       , 0.06666667,\n",
       "        0.16666667, 0.13333333, 0.1       , 0.2       , 0.43333333]),\n",
       " 0.1)"
      ]
     },
     "execution_count": 28,
     "metadata": {},
     "output_type": "execute_result"
    }
   ],
   "source": [
    "TCvM_I = np.round(TCvM_I,8); TCvM = np.round(TCvM,8); TCvM_I, TCvM"
   ]
  },
  {
   "cell_type": "code",
   "execution_count": 29,
   "id": "60d2a1ab",
   "metadata": {
    "slideshow": {
     "slide_type": "fragment"
    }
   },
   "outputs": [
    {
     "data": {
      "text/plain": [
       "array([ 0.33333333,  0.1       ,  0.06666667,  0.        , -0.03333333,\n",
       "        0.06666667,  0.03333333,  0.        ,  0.1       ,  0.33333333])"
      ]
     },
     "execution_count": 29,
     "metadata": {},
     "output_type": "execute_result"
    }
   ],
   "source": [
    "TCvM_I - TCvM"
   ]
  },
  {
   "cell_type": "code",
   "execution_count": 30,
   "id": "3bdc33a5",
   "metadata": {
    "slideshow": {
     "slide_type": "fragment"
    }
   },
   "outputs": [
    {
     "data": {
      "text/plain": [
       "0.9"
      ]
     },
     "execution_count": 30,
     "metadata": {},
     "output_type": "execute_result"
    }
   ],
   "source": [
    "np.mean(TCvM_I >= TCvM)"
   ]
  },
  {
   "cell_type": "markdown",
   "id": "6a8293a5",
   "metadata": {
    "slideshow": {
     "slide_type": "slide"
    }
   },
   "source": [
    "## Two-Sample Anderson-Darling"
   ]
  },
  {
   "cell_type": "markdown",
   "id": "cf6a5713",
   "metadata": {
    "slideshow": {
     "slide_type": "fragment"
    }
   },
   "source": [
    "Having laid the groundwork with the Cramér-von Mises statistic, it’s\n",
    "straightforward to convert this to an Anderson-Darling statistic, by\n",
    "including $\\hat{F}_{xy}(x)[1-\\hat{F}_{xy}(x)]$ in the denominator.\n",
    "Conceptually, this normalizes the squared deviation by the expected\n",
    "variance; practically, it increases the importance of outliers. The\n",
    "statistic is then $$\\begin{split}\n",
    "    A^2 = \\frac{nm}{(n+m)^2}\n",
    "    \\sum_{k=1}^{n+m-1}\n",
    "    \\frac{[\\hat{F}_x(X^{(k)})-\\hat{F}_y(X^{(k)})]^2}\n",
    "    {\\hat{F}_{xy}(X^{(k)})[1-\\hat{F}_{xy}(X^{(k)})]}\n",
    "=nm\n",
    "    \\sum_{k=1}^{n+m-1}\n",
    "    \\frac{[\\hat{F}_x(X^{(k)})-\\hat{F}_y(X^{(k)})]^2}\n",
    "    {k(n+m-k)}\n",
    "  \\end{split}$$ Note that dropping the $k=n+m$ term from the sum has\n",
    "avoided giving us a $0/0$ contribution."
   ]
  },
  {
   "cell_type": "markdown",
   "id": "23d2bf0b",
   "metadata": {
    "slideshow": {
     "slide_type": "subslide"
    }
   },
   "source": [
    "To compute $A^2=nm\n",
    "    \\sum_{k=1}^{n+m-1}\n",
    "    \\frac{[\\hat{F}_x(X^{(k)})-\\hat{F}_y(X^{(k)})]^2}\n",
    "    {k(n+m-k)}$ in Python, we define an array representing the index $k$:"
   ]
  },
  {
   "cell_type": "code",
   "execution_count": 31,
   "id": "1c079f00",
   "metadata": {
    "slideshow": {
     "slide_type": "fragment"
    }
   },
   "outputs": [
    {
     "data": {
      "text/plain": [
       "(array([1, 2, 3, 4, 5]), array([4, 3, 2, 1, 0]))"
      ]
     },
     "execution_count": 31,
     "metadata": {},
     "output_type": "execute_result"
    }
   ],
   "source": [
    "k_k = 1 + np.arange(N); k_k, N-k_k"
   ]
  },
  {
   "cell_type": "markdown",
   "id": "71140324",
   "metadata": {
    "slideshow": {
     "slide_type": "fragment"
    }
   },
   "source": [
    "Note that the denominator is equal to zero for $k=N$ as noted above, but the numerator is as well"
   ]
  },
  {
   "cell_type": "code",
   "execution_count": 32,
   "id": "77a51776",
   "metadata": {
    "slideshow": {
     "slide_type": "fragment"
    }
   },
   "outputs": [
    {
     "data": {
      "text/plain": [
       "(array([4, 6, 6, 4, 0]),\n",
       " array([0.11111111, 0.02777778, 0.02777778, 0.25      , 0.        ]))"
      ]
     },
     "execution_count": 32,
     "metadata": {},
     "output_type": "execute_result"
    }
   ],
   "source": [
    "k_k*(N-k_k), (Fxhat_k-Fyhat_k)**2"
   ]
  },
  {
   "cell_type": "code",
   "execution_count": 33,
   "id": "ed1deb17",
   "metadata": {
    "slideshow": {
     "slide_type": "fragment"
    }
   },
   "outputs": [
    {
     "name": "stderr",
     "output_type": "stream",
     "text": [
      "/tmp/ipykernel_682141/749764076.py:1: RuntimeWarning: invalid value encountered in divide\n",
      "  (Fxhat_k-Fyhat_k)**2/(k_k*(N-k_k))\n"
     ]
    },
    {
     "data": {
      "text/plain": [
       "array([0.02777778, 0.00462963, 0.00462963, 0.0625    ,        nan])"
      ]
     },
     "execution_count": 33,
     "metadata": {},
     "output_type": "execute_result"
    }
   ],
   "source": [
    "(Fxhat_k-Fyhat_k)**2/(k_k*(N-k_k))"
   ]
  },
  {
   "cell_type": "markdown",
   "id": "c53ef0ed",
   "metadata": {
    "slideshow": {
     "slide_type": "subslide"
    }
   },
   "source": [
    "We can avoid the $0/0$ term (which is explicitly excluded from the sum in the definition) by dropping the last element from all of the `_k` arrays, either when we define them in the first place, or when we use them:"
   ]
  },
  {
   "cell_type": "code",
   "execution_count": 34,
   "id": "46e2fa29",
   "metadata": {
    "slideshow": {
     "slide_type": "fragment"
    }
   },
   "outputs": [
    {
     "name": "stderr",
     "output_type": "stream",
     "text": [
      "/tmp/ipykernel_682141/749764076.py:1: RuntimeWarning: invalid value encountered in divide\n",
      "  (Fxhat_k-Fyhat_k)**2/(k_k*(N-k_k))\n"
     ]
    },
    {
     "data": {
      "text/plain": [
       "array([0.02777778, 0.00462963, 0.00462963, 0.0625    ,        nan])"
      ]
     },
     "execution_count": 34,
     "metadata": {},
     "output_type": "execute_result"
    }
   ],
   "source": [
    "(Fxhat_k-Fyhat_k)**2/(k_k*(N-k_k))"
   ]
  },
  {
   "cell_type": "code",
   "execution_count": 35,
   "id": "819dfc2a",
   "metadata": {
    "slideshow": {
     "slide_type": "fragment"
    }
   },
   "outputs": [
    {
     "data": {
      "text/plain": [
       "array([0.02777778, 0.00462963, 0.00462963, 0.0625    ])"
      ]
     },
     "execution_count": 35,
     "metadata": {},
     "output_type": "execute_result"
    }
   ],
   "source": [
    "(Fxhat_k[:-1]-Fyhat_k[:-1])**2/(k_k[:-1]*(N-k_k[:-1]))"
   ]
  },
  {
   "cell_type": "code",
   "execution_count": 36,
   "id": "e41e7821",
   "metadata": {
    "slideshow": {
     "slide_type": "fragment"
    }
   },
   "outputs": [
    {
     "data": {
      "text/plain": [
       "0.5972222222222222"
      ]
     },
     "execution_count": 36,
     "metadata": {},
     "output_type": "execute_result"
    }
   ],
   "source": [
    "A2 = n*m*np.sum( (Fxhat_k[:-1]-Fyhat_k[:-1])**2 / (k_k[:-1]*(N-k_k[:-1])) ); A2"
   ]
  },
  {
   "cell_type": "markdown",
   "id": "230bf191",
   "metadata": {
    "slideshow": {
     "slide_type": "subslide"
    }
   },
   "source": [
    "Obviously, the two-sample Anderson-Darling statistic can be constructed from the ranks as well, so the associated $p$-value can be calculated as was done for the the Kolmogorov-Smirnov and Cramér-von Mises tests above.  Note that both Cramér-von Mises and Anderson-Darling are implicitly one-tailed, though, since the deviation has been squared."
   ]
  },
  {
   "cell_type": "code",
   "execution_count": 37,
   "id": "637f708a",
   "metadata": {
    "slideshow": {
     "slide_type": "fragment"
    }
   },
   "outputs": [
    {
     "data": {
      "text/plain": [
       "array([1.98611111, 1.01388889, 0.80555556, 0.59722222, 0.38888889,\n",
       "       0.80555556, 0.80555556, 0.59722222, 1.01388889, 1.98611111])"
      ]
     },
     "execution_count": 37,
     "metadata": {},
     "output_type": "execute_result"
    }
   ],
   "source": [
    "A2_I = n*m*np.sum( (Fxhat_Ik[:,:-1]-Fyhat_Ik[:,:-1])**2 / (k_k[None,:-1]*(N-k_k[None,:-1])), axis=-1 ); A2_I"
   ]
  },
  {
   "cell_type": "code",
   "execution_count": 38,
   "id": "9b491b38",
   "metadata": {
    "slideshow": {
     "slide_type": "fragment"
    }
   },
   "outputs": [
    {
     "data": {
      "text/plain": [
       "0.9"
      ]
     },
     "execution_count": 38,
     "metadata": {},
     "output_type": "execute_result"
    }
   ],
   "source": [
    "A2 = np.round(A2,8); A2_I = np.round(A2_I,8); np.mean(A2_I>=A2)"
   ]
  },
  {
   "cell_type": "markdown",
   "id": "75ba6f58",
   "metadata": {
    "slideshow": {
     "slide_type": "fragment"
    }
   },
   "source": [
    "Note that while each of the three tests gives a $p$-value of $0.9$ for this toy data set, they perform differently on generic data."
   ]
  },
  {
   "cell_type": "markdown",
   "id": "3f47117c",
   "metadata": {
    "slideshow": {
     "slide_type": "slide"
    }
   },
   "source": [
    "## Dealing with Ties"
   ]
  },
  {
   "cell_type": "markdown",
   "id": "aa413d71",
   "metadata": {
    "slideshow": {
     "slide_type": "subslide"
    }
   },
   "source": [
    "Things get a bit complicated if there are any tied data points (which is only possible if the data are discrete):"
   ]
  },
  {
   "cell_type": "code",
   "execution_count": 39,
   "id": "e1128bc8",
   "metadata": {
    "slideshow": {
     "slide_type": "fragment"
    }
   },
   "outputs": [
    {
     "data": {
      "text/plain": [
       "(array([0. , 2. , 2.5, 3. ]), array([2, 4, 4]))"
      ]
     },
     "execution_count": 39,
     "metadata": {},
     "output_type": "execute_result"
    }
   ],
   "source": [
    "x_i = np.array([3,0,2.5,2]); y_j = np.array([2,4,4]); n = len(x_i); m = len(y_j); N=n+m; x_i.sort(); y_j.sort();\n",
    "x_i, y_j"
   ]
  },
  {
   "cell_type": "code",
   "execution_count": 40,
   "id": "1821eb78",
   "metadata": {
    "slideshow": {
     "slide_type": "fragment"
    }
   },
   "outputs": [
    {
     "name": "stdout",
     "output_type": "stream",
     "text": [
      "Fxhat(x)=0 for x < 0\n",
      "Fxhat(x)=0.25 for 0 <= x <2\n",
      "Fxhat(x)=0.5 for 2 <= x <2.5\n",
      "Fxhat(x)=0.75 for 2.5 <= x <3\n",
      "Fxhat(x)=1 for 3 <= x\n",
      "\n",
      "Fyhat(y)=0 for y < 2\n",
      "Fyhat(y)=0.333333 for 2 <= y <4\n",
      "Fyhat(y)=0.666667 for 4 <= y <4\n",
      "Fyhat(y)=1 for 4 <= y\n"
     ]
    }
   ],
   "source": [
    "Fxhat_i = (1.+np.arange(n))/n; Fyhat_j = (1.+np.arange(m))/m; X_k = np.concatenate((x_i,y_j)); X_k.sort()\n",
    "print('Fxhat(x)=0 for x < %g' % x_i[0])\n",
    "for i in range(n-1):\n",
    "    print('Fxhat(x)=%g for %g <= x <%g' % (Fxhat_i[i],x_i[i],x_i[i+1]))\n",
    "print('Fxhat(x)=1 for %g <= x' % x_i[-1]); print()\n",
    "print('Fyhat(y)=0 for y < %g' % y_j[0])\n",
    "for j in range(m-1):\n",
    "    print('Fyhat(y)=%g for %g <= y <%g' % (Fyhat_j[j],y_j[j],y_j[j+1]))\n",
    "print('Fyhat(y)=1 for %g <= y' % y_j[-1])"
   ]
  },
  {
   "cell_type": "code",
   "execution_count": 41,
   "id": "a09157f3",
   "metadata": {
    "slideshow": {
     "slide_type": "subslide"
    }
   },
   "outputs": [
    {
     "data": {
      "image/png": "[encoded data removed]",
      "text/plain": [
       "<Figure size 800x500 with 1 Axes>"
      ]
     },
     "metadata": {},
     "output_type": "display_data"
    }
   ],
   "source": [
    "plt.plot(x_i,Fxhat_i,'k.',ms=10);\n",
    "for i in range(n-1): plt.plot(x_i[i:i+2],[Fxhat_i[i],Fxhat_i[i]],'k-',lw=2);\n",
    "plt.plot([X_k[0]-1,x_i[0]],[0,0],'k-',lw=2,label=r'$\\hat{F}_x(X^{(k)})$');plt.plot([x_i[-1],X_k[-1]+1],[1,1],'k-',lw=2);\n",
    "plt.plot(y_j,Fyhat_j,'rd');\n",
    "for j in range(m-1): plt.plot(y_j[j:j+2],[Fyhat_j[j],Fyhat_j[j]],'r-',lw=1);\n",
    "plt.plot([X_k[0]-1,y_j[0]],[0,0],'r-',lw=1,label=r'$\\hat{F}_y(X^{(k)})$');plt.plot([y_j[-1],X_k[-1]+1],[1,1],'r-',lw=1);\n",
    "plt.legend();plt.xlabel(r'$x$');plt.ylabel(r'emprical cdf');plt.xticks(np.unique(X_k));plt.xlim(min(X_k)-0.5,max(X_k)+0.5);plt.ylim(-0.05,1.05);plt.grid();plt.yticks([0,1./4.,1./3.,1./2,2./3.,3./4.,1],[r'$0$',r'$\\frac{1}{4}$',r'$\\frac{1}{3}$',r'$\\frac{1}{2}$',r'$\\frac{2}{3}$',r'$\\frac{3}{4}$',r'$1$']);"
   ]
  },
  {
   "cell_type": "code",
   "execution_count": 42,
   "id": "15f9dfbe",
   "metadata": {
    "slideshow": {
     "slide_type": "subslide"
    }
   },
   "outputs": [
    {
     "data": {
      "text/plain": [
       "(array([1, 2, 3, 4, 5, 6, 7]), array([6, 5, 4, 3, 2, 1, 0]))"
      ]
     },
     "execution_count": 42,
     "metadata": {},
     "output_type": "execute_result"
    }
   ],
   "source": [
    "k_k = 1 + np.arange(N); k_k, N-k_k"
   ]
  },
  {
   "cell_type": "code",
   "execution_count": 43,
   "id": "e5596617",
   "metadata": {
    "slideshow": {
     "slide_type": "fragment"
    }
   },
   "outputs": [
    {
     "name": "stdout",
     "output_type": "stream",
     "text": [
      "For        X <= 0.00, Fxhat(X)-Fyhat(X) = 0-0 = 0\n",
      "For 0.00 < X <= 2.00, Fxhat(X)-Fyhat(X) = 0.25-0 = 0.25, Fxyhat(X)=0.142857\n",
      "For 2.00 < X <= 2.00, Fxhat(X)-Fyhat(X) = 0.5-0.333333 = 0.166667, Fxyhat(X)=0.285714\n",
      "For 2.00 < X <= 2.50, Fxhat(X)-Fyhat(X) = 0.5-0.333333 = 0.166667, Fxyhat(X)=0.428571\n",
      "For 2.50 < X <= 3.00, Fxhat(X)-Fyhat(X) = 0.75-0.333333 = 0.416667, Fxyhat(X)=0.571429\n",
      "For 3.00 < X <= 4.00, Fxhat(X)-Fyhat(X) = 1-0.333333 = 0.666667, Fxyhat(X)=0.714286\n",
      "For 4.00 < X <= 4.00, Fxhat(X)-Fyhat(X) = 1-1 = 0, Fxyhat(X)=0.857143\n",
      "For 4 < X           , Fxhat(X)-Fyhat(X) = 1-1 = 0\n"
     ]
    },
    {
     "data": {
      "text/plain": [
       "(0.6666666666666667, 0.0, 0.6666666666666667)"
      ]
     },
     "execution_count": 43,
     "metadata": {},
     "output_type": "execute_result"
    }
   ],
   "source": [
    "Fxhat_k = np.mean(x_i[None,:] <= X_k[:,None], axis=-1); Fyhat_k = np.mean(y_j[None,:] <= X_k[:,None], axis=-1)\n",
    "print('For        X <= %.2f, Fxhat(X)-Fyhat(X) = 0-0 = 0' % X_k[0])\n",
    "for k in range(1,N):\n",
    "    print('For %.2f < X <= %.2f, Fxhat(X)-Fyhat(X) = %g-%g = %g, Fxyhat(X)=%g'\n",
    "          % (X_k[k-1],X_k[k],Fxhat_k[k-1],Fyhat_k[k-1],Fxhat_k[k-1]-Fyhat_k[k-1],k_k[k-1]/N))\n",
    "print('For %g < X           , Fxhat(X)-Fyhat(X) = 1-1 = 0' % X_k[-1])\n",
    "Tp = max(Fxhat_k-Fyhat_k); Tm = max(Fyhat_k-Fxhat_k); T=max(Tp,Tm); Tp, Tm, T"
   ]
  },
  {
   "cell_type": "code",
   "execution_count": 44,
   "id": "997d56e8",
   "metadata": {
    "slideshow": {
     "slide_type": "subslide"
    }
   },
   "outputs": [
    {
     "data": {
      "image/png": "[encoded data removed]",
      "text/plain": [
       "<Figure size 800x500 with 1 Axes>"
      ]
     },
     "metadata": {},
     "output_type": "display_data"
    }
   ],
   "source": [
    "Rxy_k = stats.rankdata(np.concatenate((x_i,y_j))); Rx_i=Rxy_k[:n]; Ry_j=Rxy_k[n:]; RX_k = np.sort(Rxy_k)\n",
    "plt.plot(Rx_i,Fxhat_i,'k.',ms=10);plt.plot([0,Rx_i[0]],[0,0],'k-',lw=2,label=r'$\\hat{F}_x(X^{(k)})$');plt.plot([Rx_i[-1],N+1],[1,1],'k-',lw=2);plt.plot(Ry_j,Fyhat_j,'rd');\n",
    "for i in range(n-1): plt.plot(Rx_i[i:i+2],[Fxhat_i[i],Fxhat_i[i]],'k-',lw=2);\n",
    "for j in range(m-1): plt.plot(Ry_j[j:j+2],[Fyhat_j[j],Fyhat_j[j]],'r-',lw=1);\n",
    "plt.plot([0,Ry_j[0]],[0,0],'r-',lw=1,label=r'$\\hat{F}_y(X^{(k)})$');plt.plot([Ry_j[-1],N+1],[1,1],'r-',lw=1);\n",
    "plt.xlabel(r'$k$');plt.ylabel(r'emprical cdf');plt.yticks(np.arange(N+1)/N,[r'$0$',r'$\\frac{1}{7}$',r'$\\frac{2}{7}$',r'$\\frac{3}{7}$',r'$\\frac{4}{7}$',r'$\\frac{5}{7}$',r'$\\frac{6}{7}$',r'$1$']);plt.xlim(min(RX_k)-0.5,max(RX_k)+0.5);plt.ylim(-0.05,1.05);plt.grid();plt.legend(loc='upper left');"
   ]
  },
  {
   "cell_type": "code",
   "execution_count": 45,
   "id": "432cb450",
   "metadata": {
    "slideshow": {
     "slide_type": "subslide"
    }
   },
   "outputs": [
    {
     "data": {
      "image/png": "[encoded data removed]",
      "text/plain": [
       "<Figure size 800x500 with 1 Axes>"
      ]
     },
     "metadata": {},
     "output_type": "display_data"
    }
   ],
   "source": [
    "Rxy_k = stats.rankdata(np.concatenate((x_i,y_j))); Rx_i=Rxy_k[:n]; Ry_j=Rxy_k[n:]; RX_k = np.sort(Rxy_k)\n",
    "k_k = np.arange(1,N+1); Fmid_k = RX_k/N\n",
    "plt.plot(Rx_i,Fxhat_i,'k.',ms=10);plt.plot([0,Rx_i[0]],[0,0],'k-',lw=2,label=r'$\\hat{F}_x(X^{(k)})$');plt.plot([Rx_i[-1],N+1],[1,1],'k-',lw=2);plt.plot(Ry_j,Fyhat_j,'rd');\n",
    "for i in range(n-1): plt.plot(Rx_i[i:i+2],[Fxhat_i[i],Fxhat_i[i]],'k-',lw=2);\n",
    "for j in range(m-1): plt.plot(Ry_j[j:j+2],[Fyhat_j[j],Fyhat_j[j]],'r-',lw=1);\n",
    "plt.plot([0,Ry_j[0]],[0,0],'r-',lw=1,label=r'$\\hat{F}_y(X^{(k)})$');plt.plot([Ry_j[-1],N+1],[1,1],'r-',lw=1);\n",
    "plt.plot(RX_k,Fmid_k,'bo');\n",
    "for k in range(N-1): plt.plot(RX_k[k:k+2],[Fmid_k[k],Fmid_k[k]],'b-');\n",
    "plt.xlabel(r'$k$');plt.ylabel(r'emprical cdf');plt.yticks(np.arange(N+1)/N,[r'$0$',r'$\\frac{1}{7}$',r'$\\frac{2}{7}$',r'$\\frac{3}{7}$',r'$\\frac{4}{7}$',r'$\\frac{5}{7}$',r'$\\frac{6}{7}$',r'$1$']);plt.xlim(min(RX_k)-0.5,max(RX_k)+0.5);plt.ylim(-0.05,1.05);plt.grid();plt.legend(loc='upper left');"
   ]
  }
 ],
 "metadata": {
  "celltoolbar": "Slideshow",
  "kernelspec": {
   "display_name": "Python 3 (ipykernel)",
   "language": "python",
   "name": "python3"
  },
  "language_info": {
   "codemirror_mode": {
    "name": "ipython",
    "version": 3
   },
   "file_extension": ".py",
   "mimetype": "text/x-python",
   "name": "python",
   "nbconvert_exporter": "python",
   "pygments_lexer": "ipython3",
   "version": "3.9.7"
  }
 },
 "nbformat": 4,
 "nbformat_minor": 5
}
