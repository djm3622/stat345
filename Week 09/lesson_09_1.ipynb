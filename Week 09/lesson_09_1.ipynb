{
 "cells": [
  {
   "cell_type": "markdown",
   "id": "3e6f5841",
   "metadata": {
    "slideshow": {
     "slide_type": "slide"
    }
   },
   "source": [
    "# STAT 345: Nonparametric Statistics\n",
    "\n",
    "## Lesson 09.1: The Chi-Squared Goodness-of-Fit Test\n",
    "\n",
    "**Reading: Conover Section 4.5**\n",
    "\n",
    "*Prof. John T. Whelan*\n",
    "\n",
    "Thursday 27 March 2024"
   ]
  },
  {
   "cell_type": "markdown",
   "id": "755a84e8",
   "metadata": {
    "slideshow": {
     "slide_type": "slide"
    }
   },
   "source": [
    "These lecture slides are in a computational notebook.  You have access to them through http://vmware.rit.edu/"
   ]
  },
  {
   "cell_type": "markdown",
   "id": "d09c2df2",
   "metadata": {
    "slideshow": {
     "slide_type": "fragment"
    }
   },
   "source": [
    "Flat HTML and slideshow versions are also in MyCourses."
   ]
  },
  {
   "cell_type": "markdown",
   "id": "63b23852",
   "metadata": {
    "slideshow": {
     "slide_type": "fragment"
    }
   },
   "source": [
    "The notebook can run Python commands (other notebooks can use R or Julia; \"Ju-Pyt-R\").  Think: computational data analysis, not \"coding\"."
   ]
  },
  {
   "cell_type": "markdown",
   "id": "632a7897",
   "metadata": {
    "slideshow": {
     "slide_type": "fragment"
    }
   },
   "source": [
    "Standard commands to activate inline interface and import libraries:"
   ]
  },
  {
   "cell_type": "code",
   "execution_count": 1,
   "id": "fe735fcf",
   "metadata": {
    "slideshow": {
     "slide_type": "fragment"
    }
   },
   "outputs": [],
   "source": [
    "%matplotlib inline"
   ]
  },
  {
   "cell_type": "code",
   "execution_count": 2,
   "id": "6f45f4d7",
   "metadata": {
    "slideshow": {
     "slide_type": "fragment"
    }
   },
   "outputs": [],
   "source": [
    "import numpy as np\n",
    "from scipy import stats\n",
    "import matplotlib.pyplot as plt\n",
    "plt.rcParams['figure.figsize'] = (8.0,5.0)\n",
    "plt.rcParams['font.size'] = 14"
   ]
  },
  {
   "cell_type": "markdown",
   "id": "a4befc75",
   "metadata": {
    "slideshow": {
     "slide_type": "slide"
    }
   },
   "source": [
    "## Types of Data (See Section 2.1 of Conover)"
   ]
  },
  {
   "cell_type": "markdown",
   "id": "7d2a8fec",
   "metadata": {
    "slideshow": {
     "slide_type": "subslide"
    }
   },
   "source": [
    "Haven't talked much about data & measurement scales, but now is a good time, since Chapter 4 is mostly about categorical data.  Types of data (from most to least specific):"
   ]
  },
  {
   "cell_type": "markdown",
   "id": "174a0815",
   "metadata": {
    "slideshow": {
     "slide_type": "fragment"
    }
   },
   "source": [
    "-   **Numerical** or **Cardinal Data**: numbers. If $x$ and $x'$ are two data values, their difference $x-x'$ is meaningful. Could also divide into *interval scale* (only $x-x'$ meaningful) & *ratio scale* (both $x-x'$ and $x/x'$ meaningful).  E.g., time of day is an interval scale; 11:00-10:15=45 minutes, but 11:00/10:15 doesn't mean anything.  (See also: ${}^{\\circ}$C or ${}^{\\circ}$F.)"
   ]
  },
  {
   "cell_type": "markdown",
   "id": "ecb2f4c5",
   "metadata": {
    "slideshow": {
     "slide_type": "fragment"
    }
   },
   "source": [
    "-   **Ordinal Data**: can say whether $x>x'$, but the value of $x-x'$ is not meaningful. Most rank-based\n",
    "    methods can operate on ordinal data, while most parametric methods\n",
    "    ($t$-tests, ANOVA, etc) require at least an interval scale."
   ]
  },
  {
   "cell_type": "markdown",
   "id": "4708b459",
   "metadata": {
    "slideshow": {
     "slide_type": "fragment"
    }
   },
   "source": [
    "-   **Categorical Data**: not inherently\n",
    "    numerical, e.g., eye color, hair color, political party\n",
    "    registration, etc. Can say whether $x=x'$ or $x\\ne x'$, but no meaningful ordering.  Could label categories with numbers, but their ordering of is basically arbitrary. Note that 1 to 9 in a Sudoku puzzle are actually categorical."
   ]
  },
  {
   "cell_type": "markdown",
   "id": "8666a8a1",
   "metadata": {
    "slideshow": {
     "slide_type": "slide"
    }
   },
   "source": [
    "## The Chi-squared Goodness-of-fit Test"
   ]
  },
  {
   "cell_type": "markdown",
   "id": "4613544e",
   "metadata": {
    "slideshow": {
     "slide_type": "subslide"
    }
   },
   "source": [
    "- Consider categorical data $\\{x_I|1,\\ldots,N\\}$ w/$c$ categories $\\{{\\mathcal{C}}_i|i=1,\\ldots,c\\}$."
   ]
  },
  {
   "cell_type": "markdown",
   "id": "fd3b57c0",
   "metadata": {
    "slideshow": {
     "slide_type": "fragment"
    }
   },
   "source": [
    "- $H_0$ gives probabilities\n",
    "$\\{p^*_i|i=1,\\ldots,c\\}$ for an observation to fall each\n",
    "category, i.e.,\n",
    "$P({\\color{royalblue}{X}}{\\mathbin{=}}{\\mathcal{C}}_i|H_0)=p^*_i$. For\n",
    "consistency, the probabilities must satisfy $\\sum_{i=1}^cp^*_i=1$."
   ]
  },
  {
   "cell_type": "markdown",
   "id": "b2f3a8f0",
   "metadata": {
    "slideshow": {
     "slide_type": "fragment"
    }
   },
   "source": [
    "- Don't work w/original data, but make inference from # of observations\n",
    "$O_i$ in each category, $$O_i = \\sum_{I=1}^N I[x_I={\\mathcal{C}}_i]\\qquad\\hbox{where}\\qquad \\sum_{i=1}^c O_i = N$$"
   ]
  },
  {
   "cell_type": "markdown",
   "id": "38fb4fc2",
   "metadata": {
    "slideshow": {
     "slide_type": "fragment"
    }
   },
   "source": [
    "- If we think of these\n",
    "$\\{{\\color{royalblue}{O_i}}\\}$ as a random vector, the corresponding\n",
    "probability distribution is the multinomial distribution, a\n",
    "generalization of the binomial distribution $$\n",
    "  p(\\{O_i\\}|N,\\{p_i\\})\n",
    "  = \\frac{N!}{O_1!O_2!\\cdots O_c!} p_1^{O_1}p_2^{O_2}\\cdots p_c^{O_c};\\quad\n",
    "  O_i = 0,1,2,\\ldots;\\quad O_1+\\cdots+O_c=N$$"
   ]
  },
  {
   "cell_type": "markdown",
   "id": "1e5acf26",
   "metadata": {
    "slideshow": {
     "slide_type": "subslide"
    }
   },
   "source": [
    "- Vector of observations $\\{{\\color{royalblue}{O_i}}\\}$ in categories is a multinomial random vector\n",
    "$$p(\\{O_i\\}|N,\\{p_i\\})\n",
    "  = \\frac{N!}{O_1!O_2!\\cdots O_c!} p_1^{O_1}p_2^{O_2}\\cdots p_c^{O_c};\\quad\n",
    "  O_i = 0,1,2,\\ldots;\\quad O_1+\\cdots+O_c=N$$"
   ]
  },
  {
   "cell_type": "markdown",
   "id": "9ffeeacf",
   "metadata": {
    "slideshow": {
     "slide_type": "fragment"
    }
   },
   "source": [
    "- Each one\n",
    "of these $c$ random variables is a binomial $\\operatorname{Bin}(N,p_i)$\n",
    "with\n",
    "$$E({\\color{royalblue}{O_i}})=Np_i \\qquad \\hbox{and} \\qquad V({\\color{royalblue}{O_i}}) = Np_i(1-p_i)$$\n",
    "but of course they are not independent, since there is a constraint\n",
    "$\\sum_{i=1}^c {\\color{royalblue}{O_i}} = N$, So if we know\n",
    "the values of $O_1$, $O_2$, …, $O_{c-1}$, then $O_c$ is determined."
   ]
  },
  {
   "cell_type": "markdown",
   "id": "ea9a01bf",
   "metadata": {
    "slideshow": {
     "slide_type": "fragment"
    }
   },
   "source": [
    "- The null hypothesis specifies expected number counts of $E_i=Np^*_i$ for each category, which satisfy $\\sum_{i=1}^c E_i=N$."
   ]
  },
  {
   "cell_type": "markdown",
   "id": "71d79bec",
   "metadata": {
    "slideshow": {
     "slide_type": "fragment"
    }
   },
   "source": [
    "- Note that in general\n",
    "the $\\{E_i\\}$ will not be integers, although the $\\{O_i\\}$ are by\n",
    "definition."
   ]
  },
  {
   "cell_type": "markdown",
   "id": "b19f031e",
   "metadata": {
    "slideshow": {
     "slide_type": "subslide"
    }
   },
   "source": [
    "Want to know if the observed $\\{O_i\\}$ are consistent w/expected $\\{E_i\\}$ counts.  If the sample size is large enough to use normal approximation, can\n",
    "write a $\\chi^2$ statistic, as with the Kruskal-Wallis\n",
    "or Friedman test."
   ]
  },
  {
   "cell_type": "markdown",
   "id": "cd89304b",
   "metadata": {
    "slideshow": {
     "slide_type": "fragment"
    }
   },
   "source": [
    "As a reminder, this is in analogy with the following\n",
    "two cases:"
   ]
  },
  {
   "cell_type": "markdown",
   "id": "3d503426",
   "metadata": {
    "slideshow": {
     "slide_type": "fragment"
    }
   },
   "source": [
    "1.  For independent normal random variables\n",
    "    ${\\color{royalblue}{X_i}}\\sim N(\\mu_i,\\sigma_i^2)$,\n",
    "    $$\\sum_{i=1}^n \\left(\\frac{{\\color{royalblue}{X_i}}-\\mu_i}{\\sigma_i}\\right)^2\n",
    "        \\sim \\chi^2(n)$$"
   ]
  },
  {
   "cell_type": "markdown",
   "id": "09547ba8",
   "metadata": {
    "slideshow": {
     "slide_type": "fragment"
    }
   },
   "source": [
    "2.  For a random sample $\\{{\\color{royalblue}{X_i}}\\}$ from\n",
    "    $N(\\mu,\\sigma^2)$, if\n",
    "    ${\\color{royalblue}{Y_i}}={\\color{royalblue}{X_i}}-{\\color{royalblue}{{{\\overline{X}}}}}$ (constraint\n",
    "    $\\sum_{i=1}^n {\\color{royalblue}{Y_i}}=0$)\n",
    "    $$\\sum_{i=1}^n \\left(\\frac{{\\color{royalblue}{X_i}}-{\\color{royalblue}{{{\\overline{X}}}}}}{\\sigma}\\right)^2\n",
    "        = \\sum_{i=1}^n \\left(\\frac{{\\color{royalblue}{Y_i}}-0}{\\sigma}\\right)^2\n",
    "        \\sim \\chi^2(n-1)$$"
   ]
  },
  {
   "cell_type": "markdown",
   "id": "1314b178",
   "metadata": {
    "slideshow": {
     "slide_type": "subslide"
    }
   },
   "source": [
    "- Rigorously, invert variance-covariance matrix $\\operatorname{Cov}({\\color{royalblue}{O_i}},{\\color{royalblue}{O_j}})$ to get the approx $\\chi^2$ statistic."
   ]
  },
  {
   "cell_type": "markdown",
   "id": "7343f9d9",
   "metadata": {
    "slideshow": {
     "slide_type": "fragment"
    }
   },
   "source": [
    "- Can motivate the form using the case $c=2$. Then the multinomial\n",
    "distribution is really a binomial, w/$p_1=p$ and\n",
    "$p_2=1-p$, and the rv\n",
    "${\\color{royalblue}{O_2}}=N-{\\color{royalblue}{O_1}}$ is redundant with\n",
    "${\\color{royalblue}{O_1}}\\sim\\operatorname{Bin}(N,p_1)$."
   ]
  },
  {
   "cell_type": "markdown",
   "id": "f4379ca3",
   "metadata": {
    "slideshow": {
     "slide_type": "fragment"
    }
   },
   "source": [
    "- Apply the normal approximation to $\\color{royalblue}{O_1}$ & get chi-squared statistic\n",
    "$$\\color{royalblue}{W} = \\frac{(\\color{royalblue}{O_1}-Np^*_1)^2}{Np^*_1(1-p^*_1)}\n",
    "  = \\frac{(\\color{royalblue}{O_1}-Np^*_1)^2}{Np^*_1p^*_2}=\\frac{(\\color{royalblue}{O_1}-Np^*_1)^2}{Np^*_1} + \\frac{(\\color{royalblue}{O_1}-Np^*_1)^2}{Np^*_2}$$\n",
    "where we've used $\\frac{1}{p^*_1} + \\frac{1}{p^*_2} = \\frac{p^*_2+p^*_1}{p^*_1p^*_2}\n",
    "  = \\frac{1}{p^*_1p^*_2}$"
   ]
  },
  {
   "cell_type": "markdown",
   "id": "c435611b",
   "metadata": {
    "slideshow": {
     "slide_type": "fragment"
    }
   },
   "source": [
    "- Using $E_i=Np_i^*$, we get $\\color{royalblue}{W} = \\frac{(\\color{royalblue}{O_1}-E_1)^2}{E_1} + \\frac{(\\color{royalblue}{O_1}-E_1)^2}{E_2}$"
   ]
  },
  {
   "cell_type": "markdown",
   "id": "bc5bde4c",
   "metadata": {
    "slideshow": {
     "slide_type": "fragment"
    }
   },
   "source": [
    " - To treat the categories symmetrically, remember that $\\color{royalblue}{O_1}+\\color{royalblue}{O_2}=N=E_1+E_2$, so $\\color{royalblue}{O_1}-E_1 = -(\\color{royalblue}{O_2}-E_2)$ and $\\color{royalblue}{W} = \\frac{(\\color{royalblue}{O_1}-E_1)^2}{E_1} + \\frac{(\\color{royalblue}{O_2}-E_2)^2}{E_2}$\n",
    "which is approximately chi-squared distributed with $1=2-1$ degree of\n",
    "freedom when $H_0$ is true."
   ]
  },
  {
   "cell_type": "markdown",
   "id": "f8a0b1f9",
   "metadata": {
    "slideshow": {
     "slide_type": "subslide"
    }
   },
   "source": [
    "- Turns out to extend to larger numbers of categories, and the\n",
    "normal approximation gives us\n",
    "$${\\color{royalblue}{W}} = \\sum_{i=1}^c \\frac{({\\color{royalblue}{O_i}}-E_i)^2}{E_i} \\sim\\chi^2(c-1)\n",
    "  \\qquad \\hbox{if $H_0$ true}$$"
   ]
  },
  {
   "cell_type": "markdown",
   "id": "c49354c3",
   "metadata": {
    "slideshow": {
     "slide_type": "fragment"
    }
   },
   "source": [
    "- Expanding the square gives a “shortcut\n",
    "formula” $$\\begin{split}\n",
    "    {\\color{royalblue}{W}} = \\sum_{i=1}^c \\frac{{\\color{royalblue}{O_i}}^2-2E_i{\\color{royalblue}{O_i}}+E_i^2}{E_i}\n",
    "    = \\sum_{i=1}^c \\left(\\frac{{\\color{royalblue}{O_i}}^2}{E_i} - 2{\\color{royalblue}{O_i}} + E_i\\right)\n",
    "   \\\\ = \\sum_{i=1}^c\\frac{{\\color{royalblue}{O_i}}^2}{E_i} - 2N + N = \\sum_{i=1}^c\\frac{{\\color{royalblue}{O_i}}^2}{E_i} - N\n",
    "  \\end{split}$$"
   ]
  },
  {
   "cell_type": "markdown",
   "id": "e731ff5e",
   "metadata": {
    "slideshow": {
     "slide_type": "fragment"
    }
   },
   "source": [
    "- Note that although this is nominally simpler, involving\n",
    "fewer operations, it could actually be less convenient if $E_i$ and\n",
    "$O_i$ are both large, since it involves squaring larger numbers. (In\n",
    "principle, this could also run the risk of roundoff error.)"
   ]
  },
  {
   "cell_type": "markdown",
   "id": "e37e348a",
   "metadata": {
    "slideshow": {
     "slide_type": "slide"
    }
   },
   "source": [
    "#### Example: Twins"
   ]
  },
  {
   "cell_type": "markdown",
   "id": "2fa3d300",
   "metadata": {
    "slideshow": {
     "slide_type": "subslide"
    }
   },
   "source": [
    "Consider 50 sets of twins. If they are all fraternal, and male and female offspring\n",
    "are equally likely, we'd expect on average 12.5 male-male pairs, 25 mixed\n",
    "pairs, and 12.5 female-female pairs.\n",
    "Suppose we actually saw 8 male-male, 23 mixed, and 19 female-female pairs:\n",
    "\n",
    "|       |   MM     | mixed   |    FF   | \n",
    "| :---: | :------: | :-----: | :-----: |\n",
    "|  observed  |   $$8$$    |  $$23$$   |   $$19$$  |\n",
    "|  expected  |  $$12.5$$  |  $$25$$   |  $$12.5$$ |"
   ]
  },
  {
   "cell_type": "code",
   "execution_count": 3,
   "id": "74ae4ad8",
   "metadata": {
    "slideshow": {
     "slide_type": "fragment"
    }
   },
   "outputs": [
    {
     "data": {
      "text/plain": [
       "(50, array([12.5, 25. , 12.5]))"
      ]
     },
     "execution_count": 3,
     "metadata": {},
     "output_type": "execute_result"
    }
   ],
   "source": [
    "O_i = np.array([8,23,19]); N = np.sum(O_i); pstar_i = np.array([0.25,0.5,0.25]); E_i = N*pstar_i; N, E_i"
   ]
  },
  {
   "cell_type": "markdown",
   "id": "74000511",
   "metadata": {
    "slideshow": {
     "slide_type": "fragment"
    }
   },
   "source": [
    "We can calculate\n",
    "$$W = \\frac{(8-12.5)^2}{12.5} + \\frac{(23-25)^2}{25}\n",
    "  + \\frac{(19-12.5)^2}{12.5}\n",
    "  = 5.16$$"
   ]
  },
  {
   "cell_type": "code",
   "execution_count": 4,
   "id": "a11d9f6a",
   "metadata": {
    "slideshow": {
     "slide_type": "fragment"
    }
   },
   "outputs": [
    {
     "data": {
      "text/plain": [
       "(5.16, 0.07577400402284548)"
      ]
     },
     "execution_count": 4,
     "metadata": {},
     "output_type": "execute_result"
    }
   ],
   "source": [
    "W = np.sum((O_i-E_i)**2/E_i); W, stats.chi2(df=2).sf(W)"
   ]
  },
  {
   "cell_type": "markdown",
   "id": "23aa0daf",
   "metadata": {
    "slideshow": {
     "slide_type": "fragment"
    }
   },
   "source": [
    "The $p$-value, using $\\chi^2(3-1)$, is $0.076$."
   ]
  },
  {
   "cell_type": "markdown",
   "id": "e5dfa246",
   "metadata": {
    "slideshow": {
     "slide_type": "slide"
    }
   },
   "source": [
    "### Testing with Unknown Parameters"
   ]
  },
  {
   "cell_type": "markdown",
   "id": "7ee4a010",
   "metadata": {
    "slideshow": {
     "slide_type": "subslide"
    }
   },
   "source": [
    "- Sometimes the null hypothesis doesn’t uniquely specify the $\\{p^*_i\\}$, but includes some unknown parameters ${{\\boldsymbol{\\theta}}}\\equiv\\{\\theta_1,\\ldots,\\theta_m\\}$."
   ]
  },
  {
   "cell_type": "markdown",
   "id": "d6be3163",
   "metadata": {
    "slideshow": {
     "slide_type": "fragment"
    }
   },
   "source": [
    "- E.g., in the twin example, if the probability of a male offspring is $\\theta$, the probabilities $\\{p_i(\\theta)\\}$ are $\\theta^2$, $2\\theta(1-\\theta)$, and $(1-\\theta)^2$ for MM, mixed and FF pairs.  "
   ]
  },
  {
   "cell_type": "markdown",
   "id": "27a1ea77",
   "metadata": {
    "slideshow": {
     "slide_type": "fragment"
    }
   },
   "source": [
    "- In this case we estimate the parameters $\\boldsymbol{\\hat{\\theta}}$ using the observed data.\n",
    "The\n",
    "best guess expected counts\n",
    "$\\{\\hat{E}_i=Np^*_i(\\boldsymbol{\\hat{\\theta}})\\}$ are then used to\n",
    "construct the goodness-of-fit statistic\n",
    "$${\\color{royalblue}{\\hat{W}}} = \\sum_{i=1}^c \\frac{({\\color{royalblue}{O_i}}-{\\color{royalblue}{\\hat{E}_i}})^2}{{\\color{royalblue}{\\hat{E}_i}}}$$\n",
    "where now the expected counts $\\{{\\color{royalblue}{\\hat{E}_i}}\\}$ also\n",
    "depend on the data."
   ]
  },
  {
   "cell_type": "markdown",
   "id": "0390030a",
   "metadata": {
    "slideshow": {
     "slide_type": "fragment"
    }
   },
   "source": [
    "- If we have fit $m$ parameters in this way, we would\n",
    "ideally expect the null distribution of $\\color{royalblue}{\\hat{W}}$ to be $\\chi^2(c-1-m)$."
   ]
  },
  {
   "cell_type": "markdown",
   "id": "38c16a7a",
   "metadata": {
    "slideshow": {
     "slide_type": "subslide"
    }
   },
   "source": [
    "Return to the twin example:\n",
    "\n",
    "|       |   MM     | mixed   |    FF   | \n",
    "| :---: | :------: | :-----: | :-----: |\n",
    "|  observed  |   $$8$$    |  $$23$$   |   $$19$$  |\n",
    "|  expected  |  $$50\\theta^2$$  |  $$100\\,\\theta(1-\\theta)$$   |  $$50(1-\\theta)^2$$ |"
   ]
  },
  {
   "cell_type": "markdown",
   "id": "5c9956a3",
   "metadata": {
    "slideshow": {
     "slide_type": "fragment"
    }
   },
   "source": [
    "A good estimate for $\\theta$ is $\\hat{\\theta}=\\frac{2O_{\\text{MM}}+O_{\\text{mixed}}}{2N} = \\frac{16+23}{100} = .39$"
   ]
  },
  {
   "cell_type": "code",
   "execution_count": 5,
   "id": "5eea8120",
   "metadata": {
    "slideshow": {
     "slide_type": "fragment"
    }
   },
   "outputs": [
    {
     "data": {
      "text/plain": [
       "(0.39, array([0.1521, 0.4758, 0.3721]))"
      ]
     },
     "execution_count": 5,
     "metadata": {},
     "output_type": "execute_result"
    }
   ],
   "source": [
    "thetahat = (2*O_i[0]+O_i[1])/(2*N); phat_i = np.array([thetahat**2,2*thetahat*(1-thetahat),(1-thetahat)**2]);thetahat, phat_i"
   ]
  },
  {
   "cell_type": "code",
   "execution_count": 6,
   "id": "4541580d",
   "metadata": {
    "slideshow": {
     "slide_type": "fragment"
    }
   },
   "outputs": [
    {
     "data": {
      "text/plain": [
       "array([ 7.605, 23.79 , 18.605])"
      ]
     },
     "execution_count": 6,
     "metadata": {},
     "output_type": "execute_result"
    }
   ],
   "source": [
    "Ehat_i = N * phat_i; Ehat_i"
   ]
  },
  {
   "cell_type": "markdown",
   "id": "3a60e440",
   "metadata": {
    "slideshow": {
     "slide_type": "fragment"
    }
   },
   "source": [
    "|       |   MM     | mixed   |    FF   | \n",
    "| :---: | :------: | :-----: | :-----: |\n",
    "|  observed  |   $$8$$    |  $$23$$   |   $$19$$  |\n",
    "|  expected for $\\theta=.39$ | $$7.605$$   |        $$23.790$$ |           $$18.605$$ |\n"
   ]
  },
  {
   "cell_type": "markdown",
   "id": "43060fba",
   "metadata": {
    "slideshow": {
     "slide_type": "subslide"
    }
   },
   "source": [
    "|       |   MM     | mixed   |    FF   | \n",
    "| :---: | :------: | :-----: | :-----: |\n",
    "|  observed  |   $$8$$    |  $$23$$   |   $$19$$  |\n",
    "|  expected for $\\theta=.39$ | $$7.605$$   |        $$23.790$$ |           $$18.605$$ |\n",
    "\n",
    "The chi-squared is then\n",
    "$$\\hat{W} = \\frac{(8-7.605)^2}{7.605} + \\frac{(23-23.790)^2}{23.790}\n",
    "  + \\frac{(19-18.605)^2}{18.605}\n",
    "  \\approx .0551$$"
   ]
  },
  {
   "cell_type": "code",
   "execution_count": 7,
   "id": "64833a29",
   "metadata": {
    "slideshow": {
     "slide_type": "fragment"
    }
   },
   "outputs": [
    {
     "data": {
      "text/plain": [
       "0.05513600597635068"
      ]
     },
     "execution_count": 7,
     "metadata": {},
     "output_type": "execute_result"
    }
   ],
   "source": [
    "What = np.sum((O_i-Ehat_i)**2/Ehat_i); What"
   ]
  },
  {
   "cell_type": "markdown",
   "id": "18c5b5ce",
   "metadata": {
    "slideshow": {
     "slide_type": "fragment"
    }
   },
   "source": [
    "Since we fit one parameter, we compute the $p$-value using $\\chi^2(3-1-1)=\\chi^2(1)$:"
   ]
  },
  {
   "cell_type": "code",
   "execution_count": 8,
   "id": "96342173",
   "metadata": {
    "slideshow": {
     "slide_type": "fragment"
    }
   },
   "outputs": [
    {
     "data": {
      "text/plain": [
       "0.8143557597901158"
      ]
     },
     "execution_count": 8,
     "metadata": {},
     "output_type": "execute_result"
    }
   ],
   "source": [
    "stats.chi2(df=1).sf(What)"
   ]
  },
  {
   "cell_type": "markdown",
   "id": "97ffb8eb",
   "metadata": {
    "slideshow": {
     "slide_type": "slide"
    }
   },
   "source": [
    "## Testing a Probability Distribution"
   ]
  },
  {
   "cell_type": "markdown",
   "id": "5b82bfdc",
   "metadata": {
    "slideshow": {
     "slide_type": "subslide"
    }
   },
   "source": [
    "One obvious type of categorical data to which the chi-squared test can\n",
    "be applied is a histogram. Take, for example, Problem 6.1.4 from\n",
    "Conover, which provided the results of “candling” eggs, listing the\n",
    "number of rejected eggs by crate as 4, 0, 2, 0, 2, 0, 2, and 0. $H_0$ is that the number of rejected eggs is given by a Poisson\n",
    "distribution with mean 1.5, and it was tested in that problem using the\n",
    "Kolmogorov test and found a $p$-value of greater than 20%. We can also\n",
    "test the hypothesis using the chi-squared test, first collecting the\n",
    "observations by number of eggs rejected:"
   ]
  },
  {
   "cell_type": "code",
   "execution_count": 9,
   "id": "65c1786d",
   "metadata": {
    "slideshow": {
     "slide_type": "fragment"
    }
   },
   "outputs": [
    {
     "data": {
      "text/plain": [
       "8"
      ]
     },
     "execution_count": 9,
     "metadata": {},
     "output_type": "execute_result"
    }
   ],
   "source": [
    "x_j = np.array([4, 0, 2, 0, 2, 0, 2, 0]); N = len(x_j); N"
   ]
  },
  {
   "cell_type": "code",
   "execution_count": 10,
   "id": "5acd18d5",
   "metadata": {
    "slideshow": {
     "slide_type": "fragment"
    }
   },
   "outputs": [
    {
     "data": {
      "text/plain": [
       "array([0, 1, 2, 3, 4, 5])"
      ]
     },
     "execution_count": 10,
     "metadata": {},
     "output_type": "execute_result"
    }
   ],
   "source": [
    "c = 6; i_i = np.arange(c); i_i"
   ]
  },
  {
   "cell_type": "code",
   "execution_count": 11,
   "id": "73ddc6fc",
   "metadata": {
    "slideshow": {
     "slide_type": "fragment"
    }
   },
   "outputs": [
    {
     "data": {
      "text/plain": [
       "array([4, 0, 3, 0, 1, 0])"
      ]
     },
     "execution_count": 11,
     "metadata": {},
     "output_type": "execute_result"
    }
   ],
   "source": [
    "O_i = np.sum(x_j[None,:]==i_i[:,None],axis=-1); O_i"
   ]
  },
  {
   "cell_type": "code",
   "execution_count": 12,
   "id": "d2a686dd",
   "metadata": {
    "slideshow": {
     "slide_type": "fragment"
    }
   },
   "outputs": [
    {
     "data": {
      "text/plain": [
       "array([4, 0, 3, 0, 1, 0])"
      ]
     },
     "execution_count": 12,
     "metadata": {},
     "output_type": "execute_result"
    }
   ],
   "source": [
    "O_i[-1] = np.sum(x_j>=(c-1)); O_i"
   ]
  },
  {
   "cell_type": "markdown",
   "id": "55603824",
   "metadata": {
    "slideshow": {
     "slide_type": "subslide"
    }
   },
   "source": [
    "Note: although the distribution is discrete, make a choice in defining categories; last bin is $x_j\\ge 5$. This didn’t matter for the observed number counts, which cut\n",
    "off at some point, but has an impact on the expected numbers, which we\n",
    "estimate using the pmf of the Poisson distribution:"
   ]
  },
  {
   "cell_type": "code",
   "execution_count": 13,
   "id": "d19c9e7e",
   "metadata": {
    "slideshow": {
     "slide_type": "fragment"
    }
   },
   "outputs": [
    {
     "data": {
      "text/plain": [
       "array([0.22313016, 0.33469524, 0.25102143, 0.12551072, 0.04706652,\n",
       "       0.01411996])"
      ]
     },
     "execution_count": 13,
     "metadata": {},
     "output_type": "execute_result"
    }
   ],
   "source": [
    "pstar_i = stats.poisson(1.5).pmf(i_i); pstar_i"
   ]
  },
  {
   "cell_type": "code",
   "execution_count": 14,
   "id": "9567a9ab",
   "metadata": {
    "slideshow": {
     "slide_type": "fragment"
    }
   },
   "outputs": [
    {
     "data": {
      "text/plain": [
       "(array([0.22313016, 0.33469524, 0.25102143, 0.12551072, 0.04706652,\n",
       "        0.01857594]),\n",
       " 1.0)"
      ]
     },
     "execution_count": 14,
     "metadata": {},
     "output_type": "execute_result"
    }
   ],
   "source": [
    "pstar_i[-1] = stats.poisson(1.5).sf(c-1.5); pstar_i, np.sum(pstar_i)"
   ]
  },
  {
   "cell_type": "code",
   "execution_count": 15,
   "id": "28fba1cb",
   "metadata": {
    "slideshow": {
     "slide_type": "fragment"
    }
   },
   "outputs": [
    {
     "data": {
      "text/plain": [
       "array([1.78504128, 2.67756192, 2.00817144, 1.00408572, 0.37653215,\n",
       "       0.14860749])"
      ]
     },
     "execution_count": 15,
     "metadata": {},
     "output_type": "execute_result"
    }
   ],
   "source": [
    "E_i = N*pstar_i; E_i"
   ]
  },
  {
   "cell_type": "code",
   "execution_count": 16,
   "id": "aee3b234",
   "metadata": {
    "slideshow": {
     "slide_type": "fragment"
    }
   },
   "outputs": [
    {
     "data": {
      "text/plain": [
       "array([4, 0, 3, 0, 1, 0])"
      ]
     },
     "execution_count": 16,
     "metadata": {},
     "output_type": "execute_result"
    }
   ],
   "source": [
    "O_i"
   ]
  },
  {
   "cell_type": "markdown",
   "id": "660b04d5",
   "metadata": {
    "slideshow": {
     "slide_type": "subslide"
    }
   },
   "source": [
    "Now we can calculate the test statistic and compare it to a chi-squared\n",
    "with $6-1=5$ degrees of freedom."
   ]
  },
  {
   "cell_type": "code",
   "execution_count": 17,
   "id": "54c2dd65",
   "metadata": {
    "slideshow": {
     "slide_type": "fragment"
    }
   },
   "outputs": [
    {
     "data": {
      "text/plain": [
       "array([2.74841942, 2.67756192, 0.48986051, 1.00408572, 1.03234789,\n",
       "       0.14860749])"
      ]
     },
     "execution_count": 17,
     "metadata": {},
     "output_type": "execute_result"
    }
   ],
   "source": [
    "(O_i-E_i)**2/E_i"
   ]
  },
  {
   "cell_type": "code",
   "execution_count": 18,
   "id": "6ca7ff2a",
   "metadata": {
    "slideshow": {
     "slide_type": "fragment"
    }
   },
   "outputs": [
    {
     "data": {
      "text/plain": [
       "(8.100882956399715, 8.100882956399715)"
      ]
     },
     "execution_count": 18,
     "metadata": {},
     "output_type": "execute_result"
    }
   ],
   "source": [
    "W = np.sum((O_i-E_i)**2/E_i); W, np.sum(O_i**2/E_i)-N"
   ]
  },
  {
   "cell_type": "code",
   "execution_count": 19,
   "id": "c7f5505b",
   "metadata": {
    "slideshow": {
     "slide_type": "fragment"
    }
   },
   "outputs": [
    {
     "data": {
      "text/plain": [
       "0.1507627106021614"
      ]
     },
     "execution_count": 19,
     "metadata": {},
     "output_type": "execute_result"
    }
   ],
   "source": [
    "stats.chi2(df=c-1).sf(W) "
   ]
  },
  {
   "cell_type": "markdown",
   "id": "f8c663d4",
   "metadata": {
    "slideshow": {
     "slide_type": "fragment"
    }
   },
   "source": [
    "We find a $p$-value of about 15%, still consistent with the hypothesized\n",
    "distribtion."
   ]
  },
  {
   "cell_type": "markdown",
   "id": "ff76035f",
   "metadata": {
    "slideshow": {
     "slide_type": "subslide"
    }
   },
   "source": [
    "If, on the other hand, we’d been told to expect a Poisson distribution\n",
    "but not told the mean, we could have estimated it from the observed\n",
    "data:"
   ]
  },
  {
   "cell_type": "code",
   "execution_count": 20,
   "id": "79d6b14a",
   "metadata": {
    "slideshow": {
     "slide_type": "fragment"
    }
   },
   "outputs": [
    {
     "data": {
      "text/plain": [
       "1.25"
      ]
     },
     "execution_count": 20,
     "metadata": {},
     "output_type": "execute_result"
    }
   ],
   "source": [
    "np.mean(x_j)"
   ]
  },
  {
   "cell_type": "code",
   "execution_count": 21,
   "id": "6b475d39",
   "metadata": {
    "slideshow": {
     "slide_type": "fragment"
    }
   },
   "outputs": [
    {
     "data": {
      "text/plain": [
       "array([0.2865048 , 0.358131  , 0.22383187, 0.09326328, 0.02914478,\n",
       "       0.00728619])"
      ]
     },
     "execution_count": 21,
     "metadata": {},
     "output_type": "execute_result"
    }
   ],
   "source": [
    "phatstar_i = stats.poisson(1.25).pmf(i_i); phatstar_i"
   ]
  },
  {
   "cell_type": "code",
   "execution_count": 22,
   "id": "c271242a",
   "metadata": {
    "slideshow": {
     "slide_type": "fragment"
    }
   },
   "outputs": [
    {
     "data": {
      "text/plain": [
       "(array([0.2865048 , 0.358131  , 0.22383187, 0.09326328, 0.02914478,\n",
       "        0.00912428]),\n",
       " 1.0)"
      ]
     },
     "execution_count": 22,
     "metadata": {},
     "output_type": "execute_result"
    }
   ],
   "source": [
    "phatstar_i[-1] = stats.poisson(1.25).sf(c-1.5); phatstar_i, np.sum(phatstar_i)"
   ]
  },
  {
   "cell_type": "code",
   "execution_count": 23,
   "id": "48a35a79",
   "metadata": {
    "slideshow": {
     "slide_type": "fragment"
    }
   },
   "outputs": [
    {
     "data": {
      "text/plain": [
       "array([2.29203837, 2.86504797, 1.79065498, 0.74610624, 0.2331582 ,\n",
       "       0.07299423])"
      ]
     },
     "execution_count": 23,
     "metadata": {},
     "output_type": "execute_result"
    }
   ],
   "source": [
    "Ehat_i = N*phatstar_i; Ehat_i"
   ]
  },
  {
   "cell_type": "code",
   "execution_count": 24,
   "id": "6399d210",
   "metadata": {
    "slideshow": {
     "slide_type": "fragment"
    }
   },
   "outputs": [
    {
     "data": {
      "text/plain": [
       "8.295713199797843"
      ]
     },
     "execution_count": 24,
     "metadata": {},
     "output_type": "execute_result"
    }
   ],
   "source": [
    "What = np.sum((O_i-Ehat_i)**2/Ehat_i); What"
   ]
  },
  {
   "cell_type": "code",
   "execution_count": 25,
   "id": "3865dd8d",
   "metadata": {
    "slideshow": {
     "slide_type": "subslide"
    }
   },
   "outputs": [
    {
     "data": {
      "text/plain": [
       "8.295713199797843"
      ]
     },
     "execution_count": 25,
     "metadata": {},
     "output_type": "execute_result"
    }
   ],
   "source": [
    "What"
   ]
  },
  {
   "cell_type": "markdown",
   "id": "33a2c5ed",
   "metadata": {
    "slideshow": {
     "slide_type": "fragment"
    }
   },
   "source": [
    "Now, since we’ve used the data to estimate the mean of the distribution,\n",
    "we should compare the value to a chi-squared with $6-1-1=4$ degrees of\n",
    "freedom:"
   ]
  },
  {
   "cell_type": "code",
   "execution_count": 26,
   "id": "d42b926e",
   "metadata": {
    "slideshow": {
     "slide_type": "fragment"
    }
   },
   "outputs": [
    {
     "data": {
      "text/plain": [
       "0.08132708524626904"
      ]
     },
     "execution_count": 26,
     "metadata": {},
     "output_type": "execute_result"
    }
   ],
   "source": [
    "stats.chi2(df=c-1-1).sf(What)"
   ]
  },
  {
   "cell_type": "markdown",
   "id": "4f4fae2a",
   "metadata": {
    "slideshow": {
     "slide_type": "fragment"
    }
   },
   "source": [
    "The $p$-value is actually lower, 8.1%, but still indicates data\n",
    "plausibly consistent."
   ]
  },
  {
   "cell_type": "markdown",
   "id": "8b1cf2ee",
   "metadata": {
    "slideshow": {
     "slide_type": "subslide"
    }
   },
   "source": [
    "Actually, something is a little odd here, because\n",
    "the chi-squared value of $8.3$ is slightly *higher* than the $8.1$ we\n",
    "had with the hypothesized Poisson mean of $1.5$. This is an illustration\n",
    "of the pitfall in estimating parameters. We can see what value actually\n",
    "produces the lowest chi-squared:"
   ]
  },
  {
   "cell_type": "code",
   "execution_count": 27,
   "id": "05396a73",
   "metadata": {
    "slideshow": {
     "slide_type": "fragment"
    }
   },
   "outputs": [
    {
     "data": {
      "image/png": "[encoded data removed]",
      "text/plain": [
       "<Figure size 800x500 with 1 Axes>"
      ]
     },
     "metadata": {},
     "output_type": "display_data"
    }
   ],
   "source": [
    "theta_t = np.linspace(1.25,1.5,100); p_ti = stats.poisson(theta_t[:,None]).pmf(i_i[None,:])\n",
    "p_ti[:,-1] = stats.poisson(theta_t).sf(c-1.5); E_ti = N*p_ti; W_t = np.sum((O_i[None,:]-E_ti)**2/E_ti,axis=-1)\n",
    "plt.plot(theta_t,W_t);plt.xlabel(r'$\\theta$');plt.ylabel(r'$\\chi^2$ statistic');plt.grid();plt.xlim(1.25,1.5);"
   ]
  },
  {
   "cell_type": "markdown",
   "id": "7ddec8be",
   "metadata": {
    "slideshow": {
     "slide_type": "fragment"
    }
   },
   "source": [
    "We see that the chi-squared takes on its minimum value of $7.9$ when the\n",
    "Poisson mean is about $1.39$:"
   ]
  },
  {
   "cell_type": "markdown",
   "id": "bd89bcce",
   "metadata": {
    "slideshow": {
     "slide_type": "subslide"
    }
   },
   "source": [
    "We see that the chi-squared takes on its minimum value of $7.9$ when the\n",
    "Poisson mean is about $1.39$:"
   ]
  },
  {
   "cell_type": "code",
   "execution_count": 28,
   "id": "701de85d",
   "metadata": {
    "slideshow": {
     "slide_type": "fragment"
    }
   },
   "outputs": [
    {
     "data": {
      "text/plain": [
       "1.3914141414141414"
      ]
     },
     "execution_count": 28,
     "metadata": {},
     "output_type": "execute_result"
    }
   ],
   "source": [
    "theta_t[np.argmin(W_t)]"
   ]
  },
  {
   "cell_type": "code",
   "execution_count": 29,
   "id": "5c5823dc",
   "metadata": {
    "slideshow": {
     "slide_type": "fragment"
    }
   },
   "outputs": [
    {
     "data": {
      "text/plain": [
       "7.931553342466384"
      ]
     },
     "execution_count": 29,
     "metadata": {},
     "output_type": "execute_result"
    }
   ],
   "source": [
    "Wmin = min(W_t); Wmin"
   ]
  },
  {
   "cell_type": "code",
   "execution_count": 30,
   "id": "57090c03",
   "metadata": {
    "slideshow": {
     "slide_type": "fragment"
    }
   },
   "outputs": [
    {
     "data": {
      "text/plain": [
       "0.09411790664431502"
      ]
     },
     "execution_count": 30,
     "metadata": {},
     "output_type": "execute_result"
    }
   ],
   "source": [
    "stats.chi2(df=c-1-1).sf(Wmin)"
   ]
  },
  {
   "cell_type": "markdown",
   "id": "f7a248e2",
   "metadata": {
    "slideshow": {
     "slide_type": "fragment"
    }
   },
   "source": [
    "The $p$-value is 9.4%, which is still somewhat lower than we had with\n",
    "the hypothesized Poisson mean. Although the chi-squared is lower, it has\n",
    "to be compared to a distribution with one fewer degree of freedom. (The\n",
    "data are still consistent with the null hypothesis in any event.)"
   ]
  }
 ],
 "metadata": {
  "celltoolbar": "Slideshow",
  "kernelspec": {
   "display_name": "Python 3 (ipykernel)",
   "language": "python",
   "name": "python3"
  },
  "language_info": {
   "codemirror_mode": {
    "name": "ipython",
    "version": 3
   },
   "file_extension": ".py",
   "mimetype": "text/x-python",
   "name": "python",
   "nbconvert_exporter": "python",
   "pygments_lexer": "ipython3",
   "version": "3.9.7"
  }
 },
 "nbformat": 4,
 "nbformat_minor": 5
}
